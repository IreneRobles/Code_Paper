{
 "cells": [
  {
   "cell_type": "markdown",
   "metadata": {},
   "source": [
    "# scRNAseq"
   ]
  },
  {
   "cell_type": "code",
   "execution_count": null,
   "metadata": {},
   "outputs": [],
   "source": [
    "ENV[\"Code\"] = \"../../Code\"\n",
    "for folder in readdir(ENV[\"Code\"]); push!(LOAD_PATH, normpath(ENV[\"Code\"], folder));end\n",
    "\n",
    "using Seaborn, PyPlot, PyCall, DataFrames\n",
    "using NoLongerProblems_Pandas, Pandas\n",
    "using MultipleTesting, HypothesisTests \n",
    "using SingleCellExperiment\n",
    "using CSV, ProgressMeter,PrettyPlotting, ScikitLearn\n",
    "@sk_import linear_model: LogisticRegression\n",
    "\n",
    "include(\"../Databases/Cuartero2018.jl\")\n",
    "include(\"../Databases/Bhatt2012.jl\")\n",
    "include(\"../Databases/MF_SingleCell.jl\")\n",
    "\n",
    "include(\"Load_scRNAseqData.jl\")\n",
    "\n",
    "sce = SingleCellExperiment.get_cells_with_this_characteristics([\"WT\"], :Genotype, sce)\n",
    "sce = SingleCellExperiment.fit_mu_std_alpha(sce, splitdataby = :Sample, assay = \"CPM\")\n",
    "sce = SingleCellExperiment.fit_single_cell_logistic_regression(sce, assay = \"CPM\")\n",
    "bhattgenes = Bhatt2012.inducible_genes_figure3()[!,:GeneSymbol];\n",
    "sce = SingleCellExperiment.Shalek2014_module_score(collect(bhattgenes), sce,fitparameter = \"mu\", modulescore_name = :BhattGenesScore, untreated_pattern = \"UT\",comparedtothissample = \"WT\", assay = \"CPM\")\n",
    "sce = SingleCellExperiment.fit_mu_std_alpha(sce, splitdataby = :Sample, assay = \"lnCPMplus1\")\n",
    "\n",
    "bhattgenes= DataFrames.DataFrame(\n",
    "    \"GeneID\" => Bhatt2012.inducible_genes_figure3()[!,:GeneSymbol], \n",
    "    \"Class\"=>Bhatt2012.inducible_genes_figure3()[!,:Class]\n",
    "    );\n",
    "sceBhatt = innerjoin(sce.rowData, bhattgenes,on = :GeneID)"
   ]
  },
  {
   "cell_type": "code",
   "execution_count": null,
   "metadata": {},
   "outputs": [],
   "source": [
    "col_colors_dict = Dict(\n",
    "    \"WT_UT\" => \"#f0f0f0\",\n",
    "    \"WT_2H\" => \"#bdbdbd\",\n",
    "    \"WT_8H\" => \"#636363\",\n",
    "    \"RAD21_UT\" => \"#fee0d2\",\n",
    "    \"RAD21_2H\" => \"#fc9272\",\n",
    "    \"RAD21_8H\" => \"#de2d26\",\n",
    "    \"RAD21\" => \"red\",\n",
    "    \"WT\" => \"darkgrey\",\n",
    "    0 => \"#deebf7\",\n",
    "    2 => \"#9ecae1\",\n",
    "    8 => \"#3182bd\",\n",
    "    ) \n",
    "\n",
    "\n",
    "sce.colData[!,\"LPS\"] = [replace(replace(replace(split(ii, \"_\")[2], \"UT\" => 0), \"2H\" => 2), \"8H\" => 8) for ii in sce.colData[!,\"Sample\"]]\n",
    "\n",
    "\n",
    "sce = sort_cells!(sce, cols = [ :LPS, :Genotype,:BhattGenesScore], rev = [false, true, false])\n",
    "subsce = select_these_genes(bhattgenes[!,:GeneID], sce)\n",
    "\n",
    "g = Seaborn.clustermap(subsce.assays[\"lnCPMplus1\"], figsize = (7, 4),yticklabels=false,xticklabels=false, col_cluster = false, col_colors = [col_colors_dict[ii] for ii in subsce.colData[!,:Genotype]], cmap=\"coolwarm\")\n",
    "\n",
    "ax = g.ax_heatmap\n",
    "ax.set_ylabel(\"LPS inducible genes\")\n",
    "ax.set_xlabel(\"Cells\")\n",
    "ax.tick_params(axis=\"both\", which=\"both\", length=0)\n",
    "\n",
    "\n",
    "\n",
    "\n",
    "savefigwithtext(\"figures/scRNAseq_heatmap_bhattgenes_WTRad21KO.pdf\")\n",
    "\n",
    "\n"
   ]
  },
  {
   "cell_type": "code",
   "execution_count": null,
   "metadata": {},
   "outputs": [],
   "source": []
  }
 ],
 "metadata": {
  "kernelspec": {
   "display_name": "Julia 1.6.0",
   "language": "julia",
   "name": "julia-1.6"
  },
  "language_info": {
   "file_extension": ".jl",
   "mimetype": "application/julia",
   "name": "julia",
   "version": "1.6.0"
  }
 },
 "nbformat": 4,
 "nbformat_minor": 2
}
