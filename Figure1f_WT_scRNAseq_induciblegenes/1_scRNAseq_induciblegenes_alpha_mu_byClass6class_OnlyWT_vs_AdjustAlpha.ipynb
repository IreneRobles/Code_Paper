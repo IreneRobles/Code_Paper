{
 "cells": [
  {
   "cell_type": "markdown",
   "metadata": {},
   "source": [
    "# scRNAseq\n",
    " Transcript levels (CPM+1) per transcript-positive cell is shown for the same classes of inducible genes at 0, 2 and 8h after LPS activation. Boxes show upper and lower quartiles and whiskers show 1.5 of the interquartile range. Numbers represent adjusted P-values for 0h versus 2h and 0h versus 8h. Wilcoxon signed rank test with Bonferroni correction for multiple testing. One experiment with 682 cells."
   ]
  },
  {
   "cell_type": "code",
   "execution_count": null,
   "metadata": {},
   "outputs": [],
   "source": [
    "ENV[\"Code\"] = \"../../Code\"\n",
    "for folder in readdir(ENV[\"Code\"]); push!(LOAD_PATH, normpath(ENV[\"Code\"], folder));end\n",
    "using SingleCellExperiment\n",
    "using GeneSets\n",
    "using Seaborn\n",
    "using PyPlot\n",
    "using PyCall\n",
    "using Statistics\n",
    "using NoLongerProblems_Pandas\n",
    "import Pandas\n",
    "using MultipleTesting\n",
    "using HypothesisTests \n",
    "using DataFrames\n",
    "using CSV\n",
    "using ProgressMeter\n",
    "using PrettyPlotting\n",
    "using ScikitLearn\n",
    "@sk_import linear_model: LogisticRegression\n",
    "\n",
    "include(\"../Databases/Cuartero2018.jl\")\n",
    "include(\"../Databases/Bhatt2012.jl\")\n",
    "include(\"../Databases/MF_SingleCell.jl\")\n",
    "include(\"../Code/Load_scRNAseqData.jl\")\n",
    "\n",
    "sce = SingleCellExperiment.get_cells_with_this_characteristics([\"WT\"], :Genotype, sce)\n",
    "sce = SingleCellExperiment.fit_mu_std_alpha(sce, splitdataby = :Sample, assay = \"lnCPMplus1\")\n",
    "sce = SingleCellExperiment.fit_single_cell_logistic_regression(sce, assay = \"lnCPMplus1\")\n",
    "bhattgenes = Bhatt2012.inducible_genes_figure3()[!,:GeneSymbol];\n",
    "sce = SingleCellExperiment.Shalek2014_module_score(collect(bhattgenes), sce,fitparameter = \"mu\", modulescore_name = :BhattGenesScore, untreated_pattern = \"UT\",comparedtothissample = \"WT\", assay = \"CPM\")\n",
    "bhattgenes= DataFrames.DataFrame(\n",
    "    \"GeneID\" => Bhatt2012.inducible_genes_figure3()[!,:GeneSymbol], \n",
    "    \"Class\"=>Bhatt2012.inducible_genes_figure3()[!,:Class]\n",
    "    );\n",
    "sceBhatt = innerjoin(sce.rowData, bhattgenes,on = :GeneID)\n",
    "\n",
    "col_colors_dict = Dict(\n",
    "    \"WT_UT\" => \"#f0f0f0\",\n",
    "    \"WT_2H\" => \"#bdbdbd\",\n",
    "    \"WT_8H\" => \"#636363\",\n",
    "    \"RAD21_UT\" => \"#fee0d2\",\n",
    "    \"RAD21_2H\" => \"#fc9272\",\n",
    "    \"RAD21_8H\" => \"#de2d26\",\n",
    "    \"RAD21\" => \"red\",\n",
    "    \"WT\" => \"darkgrey\",\n",
    "    \"0\" => \"#deebf7\",\n",
    "    \"2\" => \"#9ecae1\",\n",
    "    \"8\" => \"#3182bd\",\n",
    "    ) \n"
   ]
  },
  {
   "cell_type": "code",
   "execution_count": null,
   "metadata": {},
   "outputs": [],
   "source": [
    "alpha = 0.2\n",
    "include(\"adjust_alpha.jl\")\n",
    "include(\"figureclass.jl\")\n",
    "CSV.write(\"../SourceData/Figure1f_boxplot.csv\",sceBhatt[!, [\"GeneID\",\n",
    " \"TotalCounts\",\n",
    " \"TotalCells\",\n",
    " \"FractionCells\",\n",
    " \"WT_UT__mu\"\n",
    " \"WT_UT__alpha\"\n",
    " \"WT_2H__mu\"\n",
    " \"WT_2H__alpha\"\n",
    " \"WT_8H__mu\"\n",
    " \"WT_8H__alpha\"\n",
    " \"Class\"]])"
   ]
  },
  {
   "cell_type": "code",
   "execution_count": null,
   "metadata": {},
   "outputs": [],
   "source": [
    "import Pkg\n",
    "Pkg.status()"
   ]
  }
 ],
 "metadata": {
  "kernelspec": {
   "display_name": "Julia 1.6.3",
   "language": "julia",
   "name": "julia-1.6"
  },
  "language_info": {
   "file_extension": ".jl",
   "mimetype": "application/julia",
   "name": "julia",
   "version": "1.6.3"
  }
 },
 "nbformat": 4,
 "nbformat_minor": 4
}
