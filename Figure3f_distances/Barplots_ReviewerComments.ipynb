{
 "cells": [
  {
   "cell_type": "code",
   "execution_count": 1,
   "id": "f1d37f11-69b3-47fb-9141-082116449163",
   "metadata": {},
   "outputs": [
    {
     "ename": "LoadError",
     "evalue": "UndefVarError: ehn not defined",
     "output_type": "error",
     "traceback": [
      "UndefVarError: ehn not defined",
      "",
      "Stacktrace:",
      " [1] top-level scope",
      "   @ In[1]:8",
      " [2] eval",
      "   @ ./boot.jl:360 [inlined]",
      " [3] include_string(mapexpr::typeof(REPL.softscope), mod::Module, code::String, filename::String)",
      "   @ Base ./loading.jl:1116"
     ]
    }
   ],
   "source": [
    "include(\"HiddenCode.jl\")\n",
    "genefolder=\"../CompleteSets/linkedlocus\"\n",
    "enh =\"HSS1\"\n",
    "nascent= \"Il12b_intron\"\n",
    "suff= \"1um_noz\"\n",
    "ENV[\"COLUMNS\"]= 1000\n",
    "\n",
    "tb = linked_data(genefolder,nascent,ehn,suff) \n",
    "\n",
    "# ByCell\n",
    "\n",
    "bool1 = tb[!,\"Gene_N\"].!=0\n",
    "bool2 = tb[!,\"Enh_N\"].!=0\n",
    "bool3 = tb[!,\"Sample\"].==\"WT_90\"\n",
    "bool = ((bool1 .+ bool2) .>0) .*bool3\n",
    "\n",
    "tb = tb[bool, :]\n",
    "\n",
    "\n",
    "function calculateP_E_PE(df)\n",
    "    reps = split_by(df, :Rep)\n",
    "    n = [nrow(reps[key]) for key in sort(collect(keys(reps)))]\n",
    "    pe = [sum(.&(reps[key][!,:Gene_N].>0, reps[key][!,:Enh_N].>0))  for key in sort(collect(keys(reps)))]\n",
    "    e = [sum(.&(reps[key][!,:Gene_N].==0, reps[key][!,:Enh_N].>0))  for key in sort(collect(keys(reps)))]\n",
    "    p = [sum(.&(reps[key][!,:Gene_N].>0, reps[key][!,:Enh_N].==0))  for key in sort(collect(keys(reps)))]\n",
    "    # Check that the number add up to total number of pairs\n",
    "    n == pe .+ p .+ e\n",
    "    \n",
    "    f_pe = pe ./ n\n",
    "    f_e = e ./ n\n",
    "    f_p = p ./ n\n",
    "    \n",
    "    plt.bar(1:length(n), f_e.+f_p.+f_pe, label = \"Promoter and Enhancer\")\n",
    "    plt.bar(1:length(n), f_e.+f_p, label = \"Promoter only\")\n",
    "    plt.bar(1:length(n), f_e, label = \"Enhancer only\")\n",
    "    \n",
    "    xticks(1:length(n), string.(1:length(n)).*\"\\nn=\".*string.(n))\n",
    "    \n",
    "    ylabel(\"Fraction of cells with a TSS\\nfrom either promoter or enhancer\")\n",
    "    xlabel(\"Replicate\")\n",
    "    legend_out_of_plot()\n",
    "    pretty_axes2()\n",
    "    squareplot()\n",
    "    \n",
    "end\n",
    "\n",
    "title(\"WT 90min LPS Il12b-HSS1\")\n",
    "calculateP_E_PE(tb)\n",
    "savefigwithtext(\"Il12bHSS1_P_E_PE.svg\")\n",
    "savefigwithtext(\"Il12bHSS1_P_E_PE.png\")"
   ]
  },
  {
   "cell_type": "code",
   "execution_count": 2,
   "id": "0ad1421f-974b-4ea8-8c55-f9e309a5c4d2",
   "metadata": {},
   "outputs": [
    {
     "name": "stdout",
     "output_type": "stream",
     "text": [
      "\u001b[32m\u001b[1m      Status\u001b[22m\u001b[39m `~/.julia/environments/v1.6/Project.toml`\n",
      " \u001b[90m [7e6ae17a] \u001b[39mBioSequences v2.0.5\n",
      " \u001b[90m [336ed68f] \u001b[39mCSV v0.9.11\n",
      " \u001b[90m [8f4d0f93] \u001b[39mConda v1.5.2\n",
      " \u001b[90m [a93c6f00] \u001b[39mDataFrames v1.2.2\n",
      " \u001b[90m [31c24e10] \u001b[39mDistributions v0.25.28\n",
      " \u001b[90m [c2308a5c] \u001b[39mFASTX v1.2.0\n",
      " \u001b[90m [09f84164] \u001b[39mHypothesisTests v0.10.6\n",
      " \u001b[90m [7073ff75] \u001b[39mIJulia v1.23.2\n",
      " \u001b[90m [916415d5] \u001b[39mImages v0.24.1\n",
      " \u001b[90m [96684042] \u001b[39mInformationMeasures v0.3.1\n",
      " \u001b[90m [10e44e05] \u001b[39mMATLAB v0.8.2\n",
      " \u001b[90m [f8716d33] \u001b[39mMultipleTesting v0.5.0\n",
      " \u001b[90m [92933f4c] \u001b[39mProgressMeter v1.7.1\n",
      " \u001b[90m [438e738f] \u001b[39mPyCall v1.92.5\n",
      " \u001b[90m [d330b81b] \u001b[39mPyPlot v2.10.0\n",
      " \u001b[90m [6f49c342] \u001b[39mRCall v0.13.12\n",
      " \u001b[90m [d2ef9438] \u001b[39mSeaborn v1.0.0\n",
      " \u001b[90m [2913bbd2] \u001b[39mStatsBase v0.33.13\n"
     ]
    }
   ],
   "source": [
    "import Pkg\n",
    "Pkg.status()"
   ]
  }
 ],
 "metadata": {
  "kernelspec": {
   "display_name": "Julia 1.6.3",
   "language": "julia",
   "name": "julia-1.6"
  },
  "language_info": {
   "file_extension": ".jl",
   "mimetype": "application/julia",
   "name": "julia",
   "version": "1.6.3"
  }
 },
 "nbformat": 4,
 "nbformat_minor": 5
}
