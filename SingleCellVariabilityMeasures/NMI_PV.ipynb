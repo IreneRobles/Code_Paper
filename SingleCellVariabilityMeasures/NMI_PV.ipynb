{
 "cells": [
  {
   "cell_type": "markdown",
   "id": "d6828096-7553-4613-9cd0-36e766c9c599",
   "metadata": {},
   "source": [
    "# Normalised Mutual Information Calculation\n",
    "\n",
    "- FROM: https://www.nature.com/articles/s41586-021-04206-7\n",
    "- ALSO in:\n",
    "    - https://doi.org/10.1016/j.ccell.2020.06.012\n",
    "\n",
    "For the calculation of entropy and mutual information the Julia package InformationMeasures.jl was used.\n",
    "\n",
    "\n",
    "First, for each cell X, gene expression was discretized into 10 bins.\n",
    "\n",
    "Then, entropy (H) was calculated for each cell vector X where H is the entropy for cell X and p(xi) is the probability of cell X in bin i. \n",
    "```julia\n",
    "get_entropy(cell_expression_vector; base = 2, number_of_bins = 10)\n",
    "``` \n",
    "$$\n",
    "H(X)=-\\mathop{\\sum }\\limits_{i=1}^{n}p({x}_{i})\\log p({x}_{i})\n",
    "$$\n",
    "\n",
    "Mutual information (MI) was then calculated for each cell pair where I is the mutual information for cell pair X;Y, p(x,y) is the joint probability of cell pair X and Y across all the bins, and p(x) and p(y) are the marginal probability of cell X and cell Y across all the bins, respectively.\n",
    "\n",
    "```julia\n",
    "get_mutual_information(cell_expression_vector1, cell_expression_vector2, base = 2, number_of_bins = 10)\n",
    "```\n",
    "$$\n",
    "I(X;Y)=\\sum _{y}\\sum _{x}p(x,y)\\log \\,\\frac{p(x,y)}{p(x)p(y)}\n",
    "$$\n",
    "\n",
    "Finally, Normalised Mutual Information (NMI) was calculated as pairwise MI divided by the entropy:\n",
    "\n",
    "```julia\n",
    "nmi = mi[x, y] / sqrt(h[x]*h[y])\n",
    "```\n",
    "\n",
    "$$\n",
    "{\\rm{NMI}}(X,Y)=\\frac{I(X;Y)}{\\sqrt{H(X)H(Y)}}\n",
    "$$\n",
    "\n",
    "To get robust results, we resampled 100 cells 100 times without replacement and summarized in box plots.\n",
    "\n",
    "Where r is the number of comparisons in which the heterogeneity metrics in one group is at least as extreme as the one in another group and n is the total number of comparisons. Empirical p-value was calculated as\n",
    "\n",
    "```julia\n",
    "wt = subtb[subtb[!,:Genotype].==\"WT\", :NMI]\n",
    "rad = subtb[subtb[!,:Genotype].==\"RAD21\", :NMI]\n",
    "p = (sum(wt .< rad)+1)/((nrow(subtb)/2)+1)\n",
    "```\n",
    "$$\n",
    "P=\\frac{r+1}{n+1}\n",
    "$$\n",
    "\n",
    "p-value was also calculated using a two-sided Mann-Whitney U-test. \n",
    "\n",
    "# Phenotypic Volume\n",
    "\n",
    "For PV analysis, the empirical covariance matrix was first generated from the scaled gene expression matrix. Singular value decomposition was then performed and the log of PV was calculated as the sum of the log of non-zero eigenvalues:\n",
    "\n",
    "$$\n",
    "\\log (V)={\\sum }_{e=1}^{E}\\log ({\\lambda }_{e}){({\\lambda }_{e}{\\rm{is}}{\\rm{eigenvalue}},{\\lambda }_{e} > 0)}^{2}.\n",
    "$$\n",
    "\n",
    "To do so, I translated the code in R from  https://atlassian.petermac.org.au/bitbucket/projects/DAW/repos/splintr_paper_code/browse/Fig_01_S5_S6_S7/scRNA_transcriptional_diversity_analysis.Rmd to julia where V is the phenotypic volume and λe is the non-zero eigenvalue. We then resampled 100 cells and 1,000 genes without replacement for 100 times. \n",
    "\n",
    "\n",
    "```julia\n",
    "function scale(A)\n",
    "    R\"\"\"a = scale($A)\"\"\"\n",
    "    @rget a\n",
    "end\n",
    "\n",
    "function logPV(sceexp, cond; assay = \"lnCPMplus1\", permutations = 100, seed = 1223, cellssubsampled = 100,genesssubsampled = 1000)\n",
    "    subsce = deepcopy(SingleCellExperiment.get_cells_with_this_characteristic(cond, :Sample, sceexp))\n",
    "    dat = subsce.assays[assay]\n",
    "    dat= transpose(dat) #feature on col, cell on row\n",
    "    #remove non expressed genes\n",
    "    bool = sum(dat, dims = 1).>0\n",
    "    bool = reshape(bool,size(bool)[2])\n",
    "    dat = dat[:,bool]\n",
    "    dat = scale(dat)\n",
    "    det = zeros(permutations)\n",
    "    Random.seed!(seed)\n",
    "    p = Progress(permutations, cond*\": \")\n",
    "    \n",
    "   for ii in 1:permutations\n",
    "        cellsample=shuffle(1:size(dat)[1])[1:cellssubsampled]\n",
    "        genesample=shuffle(1:size(dat)[2])[1:genesssubsampled]\n",
    "        dat = dat[cellsample,genesample]\n",
    "        cdat = cov(dat)#calculate gene-gene covariance matrix using sampled genes\n",
    "        svddat=svd(cdat) #singular value decomposition \n",
    "        eigen=svddat.S #get the eigen value \n",
    "        eigen=eigen[eigen.!=0]\n",
    "        det[ii]= sum(log.(eigen)) #log sum of non-zero eigen values\n",
    "        next!(p)\n",
    "    end\n",
    "    det\n",
    "end\n",
    "```\n",
    "\n",
    "P values where calculated as NMI\n"
   ]
  },
  {
   "cell_type": "code",
   "execution_count": 7,
   "id": "f03facfb",
   "metadata": {},
   "outputs": [
    {
     "name": "stderr",
     "output_type": "stream",
     "text": [
      "WARNING: redefinition of constant LogisticRegression. This may fail, cause incorrect answers, or produce other errors.\n",
      "WARNING: replacing module Cuartero2018.\n",
      "WARNING: replacing module Bhatt2012.\n"
     ]
    },
    {
     "data": {
      "text/plain": [
       "PV_figure (generic function with 1 method)"
      ]
     },
     "execution_count": 7,
     "metadata": {},
     "output_type": "execute_result"
    }
   ],
   "source": [
    "ENV[\"Code\"] = \"../../Code\"\n",
    "for folder in readdir(ENV[\"Code\"]); push!(LOAD_PATH, normpath(ENV[\"Code\"], folder));end\n",
    "\n",
    "using Seaborn, PyPlot, PyCall, DataFrames\n",
    "using NoLongerProblems_Pandas, Pandas\n",
    "using MultipleTesting, HypothesisTests \n",
    "using SingleCellExperiment, StatsBase\n",
    "using ProgressMeter, Random, ProgressMeter\n",
    "using RCall, LinearAlgebra\n",
    "using Statistics\n",
    "\n",
    "using InformationMeasures\n",
    "using CSV, ProgressMeter,PrettyPlotting, ScikitLearn\n",
    "@sk_import linear_model: LogisticRegression\n",
    "\n",
    "include(\"../Databases/Cuartero2018.jl\")\n",
    "include(\"../Databases/Bhatt2012.jl\")\n",
    "include(\"../Databases/MF_SingleCell.jl\")\n",
    "include(\"NMIFunctions.jl\")\n",
    "include(\"PhenotypicVolume.jl\")"
   ]
  },
  {
   "cell_type": "code",
   "execution_count": 21,
   "id": "1df80c4a",
   "metadata": {},
   "outputs": [
    {
     "data": {
      "image/png": "[encoded data removed]",
      "text/plain": [
       "Figure(PyObject <Figure size 640x480 with 2 Axes>)"
      ]
     },
     "metadata": {},
     "output_type": "display_data"
    },
    {
     "name": "stdout",
     "output_type": "stream",
     "text": [
      "0.019801980198019802\n",
      "0.009900990099009901\n",
      "0.009900990099009901\n",
      "4.593944365706254e-33\n",
      "2.5621436691633854e-34\n",
      "3.2576821808361335e-34\n"
     ]
    }
   ],
   "source": [
    "include(\"../Code/Load_scRNAseqData.jl\")\n",
    "sce = SingleCellExperiment.get_cells_with_this_characteristics([\"WT\", \"RAD21\"], :Genotype, sce)\n",
    "sce = SingleCellExperiment.select_expressed_genes(sce; min_cells_expressing_gene = 3)\n",
    "sce = SingleCellExperiment.fit_mu_std_alpha(sce, splitdataby = :Sample, assay = \"CPM\")\n",
    "tb = NMI_table(sce)\n",
    "subplot(1,2,1)\n",
    "NMI_figure(tb, pvalue_ = :option1)\n",
    "legend_removal()\n",
    "subplot(1,2,2)\n",
    "NMI_figure(tb, pvalue_ = :option2)\n",
    "legend_out_of_plot()\n",
    "savefigwithtext(\"SingleCell_NMI.svg\")\n",
    "savefigwithtext(\"SingleCell_NMI.png\")"
   ]
  },
  {
   "cell_type": "code",
   "execution_count": 9,
   "id": "66f718d6",
   "metadata": {},
   "outputs": [
    {
     "data": {
      "image/png": "[encoded data removed]",
      "text/plain": [
       "Figure(PyObject <Figure size 640x480 with 2 Axes>)"
      ]
     },
     "metadata": {},
     "output_type": "display_data"
    },
    {
     "name": "stdout",
     "output_type": "stream",
     "text": [
      "0.019801980198019802\n",
      "0.009900990099009901\n",
      "0.009900990099009901\n",
      "4.493869376599482e-32\n",
      "2.5621436691633854e-34\n",
      "2.561999346290046e-34\n"
     ]
    }
   ],
   "source": [
    "include(\"../Code/Load_scRNAseqData.jl\")\n",
    "sce = SingleCellExperiment.get_cells_with_this_characteristics([\"WT\", \"RAD21\"], :Genotype, sce)\n",
    "sce = SingleCellExperiment.fit_mu_std_alpha(sce, splitdataby = :Sample, assay = \"CPM\")\n",
    "bhattgenes = Bhatt2012.inducible_genes_figure3()[!,:GeneSymbol];\n",
    "sce = SingleCellExperiment.select_these_genes(bhattgenes, sce)\n",
    "tb = NMI_table(sce)\n",
    "subplot(1,2,1)\n",
    "NMI_figure(tb, pvalue_ = :option1, u = 0.01)\n",
    "legend_removal()\n",
    "subplot(1,2,2)\n",
    "NMI_figure(tb, pvalue_ = :option2, u = 0.01)\n",
    "legend_out_of_plot()\n",
    "savefigwithtext(\"SingleCell_NMIBhatt.svg\")\n",
    "savefigwithtext(\"SingleCell_NMIBhatt.png\")"
   ]
  },
  {
   "cell_type": "code",
   "execution_count": 28,
   "id": "3c8bdf70-6889-4049-a87b-5a6753c0ba88",
   "metadata": {},
   "outputs": [
    {
     "name": "stderr",
     "output_type": "stream",
     "text": [
      "\u001b[32mWT_UT: 100%|████████████████████████████████████████████| Time: 0:00:10\u001b[39m\n",
      "\u001b[32mWT_2H: 100%|████████████████████████████████████████████| Time: 0:00:09\u001b[39m\n",
      "\u001b[32mWT_8H: 100%|████████████████████████████████████████████| Time: 0:00:09\u001b[39m\n",
      "\u001b[32mRAD21_UT: 100%|█████████████████████████████████████████| Time: 0:00:10\u001b[39m\n",
      "\u001b[32mRAD21_2H: 100%|█████████████████████████████████████████| Time: 0:00:10\u001b[39m\n",
      "\u001b[32mRAD21_8H: 100%|█████████████████████████████████████████| Time: 0:00:10\u001b[39m\n"
     ]
    },
    {
     "data": {
      "image/png": "[encoded data removed]",
      "text/plain": [
       "Figure(PyObject <Figure size 640x480 with 2 Axes>)"
      ]
     },
     "metadata": {},
     "output_type": "display_data"
    },
    {
     "name": "stdout",
     "output_type": "stream",
     "text": [
      "0.0196078431372549\n",
      "0.0196078431372549\n",
      "0.058823529411764705\n",
      "7.066071930388952e-18\n",
      "7.066071930388952e-18\n",
      "9.377214427359579e-16\n"
     ]
    }
   ],
   "source": [
    "include(\"../Code/Load_scRNAseqData.jl\")\n",
    "sce = SingleCellExperiment.get_cells_with_this_characteristics([\"WT\", \"RAD21\"], :Genotype, sce)\n",
    "sce = SingleCellExperiment.select_expressed_genes(sce; min_cells_expressing_gene = 100)\n",
    "assay = \"lnCPMplus1\" # In the paper they use the logcounts\n",
    "perm = 50\n",
    "\n",
    "function logPV(sceexp, cond; assay = \"lnCPMplus1\", permutations = 100, seed = 1223, cellssubsampled = 150,genesssubsampled = 1000)\n",
    "    subsce = deepcopy(SingleCellExperiment.get_cells_with_this_characteristic(cond, :Sample, sceexp))\n",
    "    dat = subsce.assays[assay]\n",
    "    dat= transpose(dat) #feature on col, cell on row\n",
    "    #remove non expressed genes\n",
    "    bool = sum(dat, dims = 1).>0\n",
    "    bool = reshape(bool,size(bool)[2])\n",
    "    dat = dat[:,bool]\n",
    "    dat = scale(dat)\n",
    "    det = zeros(permutations)\n",
    "    Random.seed!(seed)\n",
    "    p = Progress(permutations, cond*\": \")\n",
    "    \n",
    "   for ii in 1:permutations\n",
    "        cellsample=shuffle(1:size(dat)[1])[1:cellssubsampled]\n",
    "        genesample=shuffle(1:size(dat)[2])[1:genesssubsampled]\n",
    "        dat = dat[cellsample,genesample]\n",
    "        cdat = cov(dat)#calculate gene-gene covariance matrix using sampled genes\n",
    "        svddat=svd(cdat) #singular value decomposition \n",
    "        eigen=svddat.S #get the eigen value \n",
    "        eigen=eigen[eigen.!=0]\n",
    "        det[ii]= sum(log.(eigen)) #log sum of non-zero eigen values\n",
    "        next!(p)\n",
    "    end\n",
    "    det\n",
    "end\n",
    "\n",
    "df = DataFrames.DataFrame(\n",
    "    WT_UT = logPV(sce, \"WT_UT\", assay = assay, permutations = perm),\n",
    "    WT_2H = logPV(sce, \"WT_2H\", assay = assay, permutations = perm),\n",
    "    WT_8H = logPV(sce, \"WT_8H\", assay = assay, permutations = perm),\n",
    "    RAD21_UT = logPV(sce, \"RAD21_UT\", assay = assay, permutations = perm),\n",
    "    RAD21_2H = logPV(sce, \"RAD21_2H\", assay = assay, permutations = perm),\n",
    "    RAD21_8H = logPV(sce, \"RAD21_8H\", assay = assay, permutations = perm),\n",
    ")\n",
    "stdf = DataFrames.stack(df, [:WT_UT, :RAD21_UT, :WT_2H, :RAD21_2H, :WT_8H, :RAD21_8H],)\n",
    "rename!(stdf, \"variable\"=>\"Sample\", \"value\" =>\"Volume\")\n",
    "stdf[!,:Genotype] = [split(ii, \"_\")[1] for ii in stdf[!,:Sample]]\n",
    "stdf[!,:Timepoint] = [split(ii, \"_\")[2] for ii in stdf[!,:Sample]]\n",
    "\n",
    "subplot(1,2,1)\n",
    "PV_figure(stdf, \"Volume\", u = 50,  pvalue_ = :option1)\n",
    "subplot(1,2,2)\n",
    "PV_figure(stdf, \"Volume\", u = 50,  pvalue_ = :option2)\n",
    "plt.tight_layout()"
   ]
  },
  {
   "cell_type": "code",
   "execution_count": 23,
   "id": "fdde67ba-b9f0-4097-9170-9120a426c5d2",
   "metadata": {},
   "outputs": [
    {
     "ename": "LoadError",
     "evalue": "BoundsError: attempt to access 476-element Vector{Int64} at index [1:1000]",
     "output_type": "error",
     "traceback": [
      "BoundsError: attempt to access 476-element Vector{Int64} at index [1:1000]",
      "",
      "Stacktrace:",
      " [1] throw_boundserror(A::Vector{Int64}, I::Tuple{UnitRange{Int64}})",
      "   @ Base ./abstractarray.jl:651",
      " [2] checkbounds",
      "   @ ./abstractarray.jl:616 [inlined]",
      " [3] getindex(A::Vector{Int64}, I::UnitRange{Int64})",
      "   @ Base ./array.jl:811",
      " [4] logPV(sceexp::SingleCellExp, cond::String; assay::String, permutations::Int64, seed::Int64, cellssubsampled::Int64, genesssubsampled::Int64)",
      "   @ Main ./In[22]:22",
      " [5] top-level scope",
      "   @ In[23]:8",
      " [6] eval",
      "   @ ./boot.jl:360 [inlined]",
      " [7] include_string(mapexpr::typeof(REPL.softscope), mod::Module, code::String, filename::String)",
      "   @ Base ./loading.jl:1116"
     ]
    }
   ],
   "source": [
    "include(\"../Code/Load_scRNAseqData.jl\")\n",
    "sce = SingleCellExperiment.get_cells_with_this_characteristics([\"WT\", \"RAD21\"], :Genotype, sce)\n",
    "sce = SingleCellExperiment.fit_mu_std_alpha(sce, splitdataby = :Sample, assay = \"CPM\")\n",
    "sce = SingleCellExperiment.select_expressed_genes(sce; min_cells_expressing_gene = 3)\n",
    "bhattgenes = Bhatt2012.inducible_genes_figure3()[!,:GeneSymbol];\n",
    "sce = SingleCellExperiment.select_these_genes(bhattgenes, sce)\n",
    "perm = 50\n",
    "df = DataFrames.DataFrame(\n",
    "    WT_UT = logPV(sce, \"WT_UT\", assay = assay, permutations = perm),\n",
    "    WT_2H = logPV(sce, \"WT_2H\", assay = assay, permutations = perm),\n",
    "    WT_8H = logPV(sce, \"WT_8H\", assay = assay, permutations = perm),\n",
    "    RAD21_UT = logPV(sce, \"RAD21_UT\", assay = assay, permutations = perm),\n",
    "    RAD21_2H = logPV(sce, \"RAD21_2H\", assay = assay, permutations = perm),\n",
    "    RAD21_8H = logPV(sce, \"RAD21_8H\", assay = assay, permutations = perm),\n",
    ")\n",
    "stdf = DataFrames.stack(df, [:WT_UT, :RAD21_UT, :WT_2H, :RAD21_2H, :WT_8H, :RAD21_8H],)\n",
    "rename!(stdf, \"variable\"=>\"Sample\", \"value\" =>\"Volume\")\n",
    "stdf[!,:Genotype] = [split(ii, \"_\")[1] for ii in stdf[!,:Sample]]\n",
    "stdf[!,:Timepoint] = [split(ii, \"_\")[2] for ii in stdf[!,:Sample]]\n",
    "\n",
    "subplot(1,2,1)\n",
    "PV_figure(stdf, \"Volume\", u = 50,  pvalue_ = :option1)\n",
    "subplot(1,2,2)\n",
    "PV_figure(stdf, \"Volume\", u = 50,  pvalue_ = :option2)"
   ]
  },
  {
   "cell_type": "code",
   "execution_count": 12,
   "id": "fe5f0743",
   "metadata": {},
   "outputs": [
    {
     "name": "stdout",
     "output_type": "stream",
     "text": [
      "\u001b[32m\u001b[1m      Status\u001b[22m\u001b[39m `~/.julia/environments/v1.6/Project.toml`\n",
      " \u001b[90m [7e6ae17a] \u001b[39mBioSequences v2.0.5\n",
      " \u001b[90m [336ed68f] \u001b[39mCSV v0.9.11\n",
      " \u001b[90m [8f4d0f93] \u001b[39mConda v1.5.2\n",
      " \u001b[90m [a93c6f00] \u001b[39mDataFrames v1.2.2\n",
      " \u001b[90m [31c24e10] \u001b[39mDistributions v0.25.28\n",
      " \u001b[90m [c2308a5c] \u001b[39mFASTX v1.2.0\n",
      " \u001b[90m [09f84164] \u001b[39mHypothesisTests v0.10.6\n",
      " \u001b[90m [7073ff75] \u001b[39mIJulia v1.23.2\n",
      " \u001b[90m [916415d5] \u001b[39mImages v0.24.1\n",
      " \u001b[90m [96684042] \u001b[39mInformationMeasures v0.3.1\n",
      " \u001b[90m [f8716d33] \u001b[39mMultipleTesting v0.5.0\n",
      " \u001b[90m [92933f4c] \u001b[39mProgressMeter v1.7.1\n",
      " \u001b[90m [438e738f] \u001b[39mPyCall v1.92.5\n",
      " \u001b[90m [d330b81b] \u001b[39mPyPlot v2.10.0\n",
      " \u001b[90m [6f49c342] \u001b[39mRCall v0.13.12\n",
      " \u001b[90m [d2ef9438] \u001b[39mSeaborn v1.0.0\n",
      " \u001b[90m [2913bbd2] \u001b[39mStatsBase v0.33.13\n"
     ]
    }
   ],
   "source": [
    "import Pkg\n",
    "Pkg.status()"
   ]
  },
  {
   "cell_type": "code",
   "execution_count": 24,
   "id": "7d1a41ed-3470-4c0e-9fe5-b1ceb063ed79",
   "metadata": {},
   "outputs": [
    {
     "data": {
      "image/png": "[encoded data removed]",
      "text/plain": [
       "Figure(PyObject <Figure size 640x480 with 1 Axes>)"
      ]
     },
     "metadata": {},
     "output_type": "display_data"
    },
    {
     "name": "stdout",
     "output_type": "stream",
     "text": [
      "0.39215686274509803\n",
      "0.39215686274509803\n",
      "0.09803921568627451\n"
     ]
    }
   ],
   "source": [
    "tb = CSV.read(\"PV.csv\", DataFrames.DataFrame)\n",
    "tb[!,:Sample] = tb[!,:cell]\n",
    "\n",
    "    sg = [split(ii, \"_\") for ii in tb[!,:Sample]]\n",
    "    tb[!,:Genotype] = [ii[1] for ii in sg]\n",
    "    tb[!,:Timepoint] = [ii[2] for ii in sg]\n",
    "\n",
    "PV_figure(tb, \"volume\", u = 5,  pvalue_ = :option1)"
   ]
  },
  {
   "cell_type": "code",
   "execution_count": null,
   "id": "39354e1a-070f-43b4-9f86-c2cab1061649",
   "metadata": {},
   "outputs": [],
   "source": [
    "function logPV(sceexp, cond; assay = \"lnCPMplus1\", permutations = 100, seed = 1223, cellssubsampled = 100,genesssubsampled = 1000)\n",
    "    subsce = deepcopy(SingleCellExperiment.get_cells_with_this_characteristic(cond, :Sample, sceexp))\n",
    "    dat = subsce.assays[assay]\n",
    "    dat= transpose(dat) #feature on col, cell on row\n",
    "    #remove non expressed genes\n",
    "    #bool = sum(dat, dims = 1).>0\n",
    "    #bool = reshape(bool,size(bool)[2])\n",
    "    #dat = dat[:,bool]\n",
    "    dat = scale(dat)\n",
    "    det = zeros(permutations)\n",
    "    Random.seed!(seed)\n",
    "    p = Progress(permutations, cond*\": \")\n",
    "    \n",
    "   for ii in 1:permutations\n",
    "        cellsample=shuffle(1:size(dat)[1])[1:cellssubsampled]\n",
    "        genesample=shuffle(1:size(dat)[2])[1:genesssubsampled]\n",
    "        dat = dat[cellsample,genesample]\n",
    "        cdat = cov(dat)#calculate gene-gene covariance matrix using sampled genes\n",
    "        svddat=svd(cdat) #singular value decomposition \n",
    "        eigen=svddat.S #get the eigen value \n",
    "        eigen=eigen[eigen.!=0]\n",
    "        det[ii]= sum(log.(eigen)) #log sum of non-zero eigen values\n",
    "        next!(p)\n",
    "    end\n",
    "    det\n",
    "end\n",
    "\n",
    "\n",
    "\n",
    "\n",
    "\n",
    "\n",
    "\n",
    "\n",
    "\n",
    "\n",
    "\n",
    "\n",
    "\"\"\"testCovgene <- function(cond) {\n",
    "    sub_meta=subset(meta, Sample == cond)\n",
    "    dat=exp[ , match(rownames(sub_meta), colnames(exp))]\n",
    "    dat=t(dat) #feature on col, cell on row\n",
    "    dat=scale(dat) #standadize data scale by col/feature\n",
    "    print(cond)\n",
    "    det=list()\n",
    "    for (i in 1:50){ #permutation \n",
    "    set.seed(i)\n",
    "    cellsample=sample(1:nrow(dat),100, replace=F) #sample cells to keep the same number of cell for both comb and kras\n",
    "\n",
    "    genesample=sample(1:ncol(dat), 1000, replace=F) #take long time to run so could sample genes, I also tried with all genes and it shows similar trend but bigger difference \n",
    "\n",
    "    cdat = cov(dat[cellsample,genesample]) #calculate gene-gene covariance matrix using sampled genes\n",
    "    #cdat = cov(dat[cellsample,genesample]) #calculate gene-gene covariance matrix using all genes \n",
    "    \n",
    "    svddat=svd(cdat) #singular value decomposition \n",
    "\n",
    "    eigen=svddat$d #get the eigen value \n",
    "\n",
    "    eigen=eigen[eigen!=0]\n",
    "\n",
    "    logV=sum(log(eigen)) #log sum of non-zero eigen values\n",
    "#    logV=logV/length(genesample) #you could also norm by total number of genes \n",
    "    print(logV)\n",
    "    det[[i]]=logV\n",
    "    }\n",
    "\n",
    "    return(det)\n",
    "}\"\"\"\n",
    "\n"
   ]
  }
 ],
 "metadata": {
  "kernelspec": {
   "display_name": "Julia 1.6.3",
   "language": "julia",
   "name": "julia-1.6"
  },
  "language_info": {
   "file_extension": ".jl",
   "mimetype": "application/julia",
   "name": "julia",
   "version": "1.6.3"
  }
 },
 "nbformat": 4,
 "nbformat_minor": 5
}
