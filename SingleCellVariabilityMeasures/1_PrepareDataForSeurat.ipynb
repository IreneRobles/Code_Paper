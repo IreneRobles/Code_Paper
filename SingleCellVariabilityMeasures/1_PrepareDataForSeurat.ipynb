{
 "cells": [
  {
   "cell_type": "code",
   "execution_count": 1,
   "metadata": {},
   "outputs": [
    {
     "name": "stderr",
     "output_type": "stream",
     "text": [
      "┌ Info: Precompiling SergiSingleCell2 [top-level]\n",
      "└ @ Base loading.jl:1342\n",
      "\u001b[91m\u001b[1mERROR: \u001b[22m\u001b[39mLoadError: UndefVarError: DataFrame! not defined\n",
      "Stacktrace:\n",
      " [1] top-level scope\n",
      "\u001b[90m   @ \u001b[39m\u001b[90m~/OneDrive - Imperial College London/Code/Databases/\u001b[39m\u001b[90;4mSergiSingleCell2.jl:19\u001b[0m\n",
      " [2] \u001b[0m\u001b[1minclude\u001b[22m\n",
      "\u001b[90m   @ \u001b[39m\u001b[90m./\u001b[39m\u001b[90;4mBase.jl:386\u001b[0m\u001b[90m [inlined]\u001b[39m\n",
      " [3] \u001b[0m\u001b[1minclude_package_for_output\u001b[22m\u001b[0m\u001b[1m(\u001b[22m\u001b[90mpkg\u001b[39m::\u001b[0mBase.PkgId, \u001b[90minput\u001b[39m::\u001b[0mString, \u001b[90mdepot_path\u001b[39m::\u001b[0mVector\u001b[90m{String}\u001b[39m, \u001b[90mdl_load_path\u001b[39m::\u001b[0mVector\u001b[90m{String}\u001b[39m, \u001b[90mload_path\u001b[39m::\u001b[0mVector\u001b[90m{String}\u001b[39m, \u001b[90mconcrete_deps\u001b[39m::\u001b[0mVector\u001b[90m{Pair{Base.PkgId, UInt64}}\u001b[39m, \u001b[90msource\u001b[39m::\u001b[0mString\u001b[0m\u001b[1m)\u001b[22m\n",
      "\u001b[90m   @ \u001b[39m\u001b[90mBase\u001b[39m \u001b[90m./\u001b[39m\u001b[90;4mloading.jl:1235\u001b[0m\n",
      " [4] top-level scope\n",
      "\u001b[90m   @ \u001b[39m\u001b[90;4mnone:1\u001b[0m\n",
      " [5] \u001b[0m\u001b[1meval\u001b[22m\n",
      "\u001b[90m   @ \u001b[39m\u001b[90m./\u001b[39m\u001b[90;4mboot.jl:360\u001b[0m\u001b[90m [inlined]\u001b[39m\n",
      " [6] \u001b[0m\u001b[1meval\u001b[22m\u001b[0m\u001b[1m(\u001b[22m\u001b[90mx\u001b[39m::\u001b[0mExpr\u001b[0m\u001b[1m)\u001b[22m\n",
      "\u001b[90m   @ \u001b[39m\u001b[90mBase.MainInclude\u001b[39m \u001b[90m./\u001b[39m\u001b[90;4mclient.jl:446\u001b[0m\n",
      " [7] top-level scope\n",
      "\u001b[90m   @ \u001b[39m\u001b[90;4mnone:1\u001b[0m\n",
      "in expression starting at /Users/irr15/OneDrive - Imperial College London/Code/Databases/SergiSingleCell2.jl:1\n"
     ]
    },
    {
     "ename": "LoadError",
     "evalue": "LoadError: Failed to precompile SergiSingleCell2 [top-level] to /Users/irr15/.julia/compiled/v1.6/jl_fSQ4kx.\nin expression starting at /Users/irr15/OneDrive - Imperial College London/Code_Paper/SingleCellVariabilityMeasures/1_PrepareDataForSeurat.jl:4",
     "output_type": "error",
     "traceback": [
      "LoadError: Failed to precompile SergiSingleCell2 [top-level] to /Users/irr15/.julia/compiled/v1.6/jl_fSQ4kx.\nin expression starting at /Users/irr15/OneDrive - Imperial College London/Code_Paper/SingleCellVariabilityMeasures/1_PrepareDataForSeurat.jl:4",
      "",
      "Stacktrace:",
      "  [1] error(s::String)",
      "    @ Base ./error.jl:33",
      "  [2] compilecache(pkg::Base.PkgId, path::String, internal_stderr::IJulia.IJuliaStdio{Base.PipeEndpoint}, internal_stdout::IJulia.IJuliaStdio{Base.PipeEndpoint}, ignore_loaded_modules::Bool)",
      "    @ Base ./loading.jl:1385",
      "  [3] compilecache(pkg::Base.PkgId, path::String)",
      "    @ Base ./loading.jl:1329",
      "  [4] _require(pkg::Base.PkgId)",
      "    @ Base ./loading.jl:1043",
      "  [5] require(uuidkey::Base.PkgId)",
      "    @ Base ./loading.jl:936",
      "  [6] require(into::Module, mod::Symbol)",
      "    @ Base ./loading.jl:923",
      "  [7] include(fname::String)",
      "    @ Base.MainInclude ./client.jl:444",
      "  [8] top-level scope",
      "    @ In[1]:1",
      "  [9] eval",
      "    @ ./boot.jl:360 [inlined]",
      " [10] include_string(mapexpr::typeof(REPL.softscope), mod::Module, code::String, filename::String)",
      "    @ Base ./loading.jl:1116"
     ]
    }
   ],
   "source": [
    "include(\"1_PrepareDataForSeurat.jl\")"
   ]
  },
  {
   "cell_type": "code",
   "execution_count": null,
   "metadata": {},
   "outputs": [],
   "source": []
  }
 ],
 "metadata": {
  "kernelspec": {
   "display_name": "Julia 1.6.3",
   "language": "julia",
   "name": "julia-1.6"
  },
  "language_info": {
   "file_extension": ".jl",
   "mimetype": "application/julia",
   "name": "julia",
   "version": "1.6.3"
  }
 },
 "nbformat": 4,
 "nbformat_minor": 4
}
