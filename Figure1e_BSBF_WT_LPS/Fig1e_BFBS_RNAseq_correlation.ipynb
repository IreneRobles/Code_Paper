{
 "cells": [
  {
   "cell_type": "markdown",
   "metadata": {},
   "source": [
    "# LPS response is modulated by changes in burst frequencies"
   ]
  },
  {
   "cell_type": "code",
   "execution_count": 1,
   "metadata": {},
   "outputs": [
    {
     "data": {
      "text/plain": [
       "\"all_genes.csv\""
      ]
     },
     "execution_count": 1,
     "metadata": {},
     "output_type": "execute_result"
    }
   ],
   "source": [
    "ENV[\"Code\"] = \"../../Code\"\n",
    "for folder in readdir(ENV[\"Code\"]); push!(LOAD_PATH, normpath(ENV[\"Code\"], folder));end\n",
    "\n",
    "include(ENV[\"Code\"]*\"/../Code_Paper/Databases/Cuartero2018.jl\")\n",
    "include(ENV[\"Code\"]*\"/../Code_Paper/Databases/mm9.jl\")\n",
    "\n",
    "include(ENV[\"Code\"]*\"/../Code_Paper/Code/meanmRNAcounts_BSBF.jl\")\n",
    "include(\"CalculateBurstSumForFig1.jl\")\n",
    "include(\"make_all_genes_file.jl\")"
   ]
  },
  {
   "cell_type": "markdown",
   "metadata": {},
   "source": [
    "## Summarise data for figures"
   ]
  },
  {
   "cell_type": "code",
   "execution_count": 2,
   "metadata": {},
   "outputs": [
    {
     "ename": "LoadError",
     "evalue": "UndefVarError: GroseqDeseq not defined",
     "output_type": "error",
     "traceback": [
      "UndefVarError: GroseqDeseq not defined",
      "",
      "Stacktrace:",
      " [1] addtolists()",
      "   @ Main ./In[2]:18",
      " [2] top-level scope",
      "   @ In[2]:55",
      " [3] eval",
      "   @ ./boot.jl:360 [inlined]",
      " [4] include_string(mapexpr::typeof(REPL.softscope), mod::Module, code::String, filename::String)",
      "   @ Base ./loading.jl:1116"
     ]
    }
   ],
   "source": [
    "tb = CSV.read(\"all_genes.csv\", DataFrames.DataFrame)\n",
    "\n",
    "gene = []\n",
    "RNAseqcomp = []\n",
    "GROseqcomp = []\n",
    "smFISHcomp = []\n",
    "log2FC_RNAseq = []\n",
    "log2FC_GROseq = []\n",
    "FC_BS= []\n",
    "FC_BF = []\n",
    "N_Cells = []\n",
    "\n",
    "\n",
    "function addtolists()\n",
    "    \n",
    "    push!(gene, gene1)\n",
    "\n",
    " gro = GroseqDeseq(GROseqcomp1); \n",
    "g = gro[gro[!,:GeneSymbol] .== gene1, \"log2FoldChange\"]\n",
    "    if length(g)>0\n",
    "        push!(log2FC_GROseq, g[1])\n",
    "    else\n",
    "        push!(log2FC_GROseq, NaN)\n",
    "    end\n",
    "        \n",
    "\n",
    "push!(GROseqcomp, GROseqcomp1);\n",
    "\n",
    "rna = Cuartero2018Deseq(RNAseqcomp1); r = rna[rna[!,:GeneSymbol] .== gene1, :log2FoldChange][1]; \n",
    "push!(RNAseqcomp, RNAseqcomp1); push!(log2FC_RNAseq, r);\n",
    "\n",
    "\n",
    "smFISHsamples = split(smFISHcomp1);push!(smFISHcomp, smFISHcomp1)\n",
    "smfish = tb[[in(ii, smFISHsamples) for ii in tb[!,:Sample]], :]\n",
    "smfish = smfish[smfish[!,:Gene] .== gene1, :]\n",
    "n1 = sum(smfish[smfish[!,:Sample] .== smFISHsamples[1], :N_Cells])\n",
    "n2 = sum(smfish[smfish[!,:Sample] .== smFISHsamples[end], :N_Cells])\n",
    "push!(N_Cells,n1 + n2)   \n",
    "bf1 = Statistics.mean(smfish[smfish[!,:Sample] .== smFISHsamples[1], :BF])\n",
    "bf2 = Statistics.mean(smfish[smfish[!,:Sample] .== smFISHsamples[end], :BF])\n",
    "oddsratio = bf1/bf2\n",
    " push!(FC_BF, oddsratio)\n",
    "\n",
    "bs1 = smfish[smfish[!,:Sample] .== smFISHsamples[1], :Mean_TSS]\n",
    "bs2 = smfish[smfish[!,:Sample] .== smFISHsamples[end], :Mean_TSS]\n",
    "fc = Statistics.mean(bs1[.!isnan.(bs1)]) ./ Statistics.mean(bs2[.!isnan.(bs2)])\n",
    "push!(FC_BS, fc)\n",
    "end\n",
    "\n",
    "\n",
    "gene1 = \"Prdm1\"\n",
    "RNAseqcomp1 = \"WT2_Minus_WTUT\"\n",
    "GROseqcomp1 = \"WT1__vs__WT0\"\n",
    "smFISHcomp1 = \"WT_60 vs WT_0\"\n",
    "addtolists()\n",
    "\n",
    "gene1 = \"Egr2\"\n",
    "RNAseqcomp1 = \"WT2_Minus_WTUT\"\n",
    "GROseqcomp1 = \"WT1__vs__WT0\"\n",
    "smFISHcomp1 = \"WT_60 vs WT_0\"\n",
    "addtolists()\n",
    "\n",
    "\n",
    "\n",
    "gene1 = \"Ifnb1\"\n",
    "RNAseqcomp1 = \"WT2_Minus_WTUT\"\n",
    "GROseqcomp1 = \"WT1__vs__WT0\"\n",
    "smFISHcomp1 = \"WT_90 vs WT_0\"\n",
    "addtolists()\n",
    "\n",
    "gene1 = \"Il12b\"\n",
    "RNAseqcomp1 = \"WT2_Minus_WTUT\"\n",
    "GROseqcomp1 = \"WT1__vs__WT0\"\n",
    "smFISHcomp1 = \"WT_90 vs WT_0\"\n",
    "addtolists()\n",
    "\n",
    "gene1 = \"Ifit1\"\n",
    "RNAseqcomp1 = \"WT2_Minus_WTUT\"\n",
    "GROseqcomp1 = \"WT1__vs__WT0\"\n",
    "smFISHcomp1 = \"WT_180 vs WT_0\"\n",
    "addtolists()\n",
    "\n",
    "\n",
    "gene1 = \"Cxcl10\"\n",
    "RNAseqcomp1 = \"WT2_Minus_WTUT\"\n",
    "GROseqcomp1 = \"WT1__vs__WT0\"\n",
    "smFISHcomp1 = \"WT_120 vs WT_0\"\n",
    "addtolists()\n",
    "\n",
    "\n",
    "gene1 = \"Peli1\"\n",
    "RNAseqcomp1 = \"WT2_Minus_WTUT\"\n",
    "GROseqcomp1 = \"WT1__vs__WT0\"\n",
    "smFISHcomp1 = \"WT_120 vs WT_0\"\n",
    "addtolists()\n",
    "\n",
    "gene1 = \"Sertad2\"\n",
    "RNAseqcomp1 = \"WT2_Minus_WTUT\"\n",
    "GROseqcomp1 = \"WT1__vs__WT0\"\n",
    "smFISHcomp1 = \"WT_120 vs WT_0\"\n",
    "addtolists()\n",
    "\n",
    "\n",
    "gene1 = \"Fh1\"\n",
    "RNAseqcomp1 = \"WT8_Minus_WTUT\"\n",
    "GROseqcomp1 = \"WT6__vs__WT0\"\n",
    "smFISHcomp1 = \"WT_8 vs WT_0\"\n",
    "addtolists()\n",
    "\n",
    "gene1 = \"Hprt\"\n",
    "RNAseqcomp1 = \"WT8_Minus_WTUT\"\n",
    "GROseqcomp1 = \"WT6__vs__WT0\"\n",
    "smFISHcomp1 = \"WT_8 vs WT_0\"\n",
    "addtolists()\n",
    "\n",
    "\n",
    "tb_sum = DataFrames.DataFrame(\n",
    "    FC_BS= FC_BS,\n",
    "    FC_BF= FC_BF,\n",
    "    log2FC_BS= log2.(FC_BS),\n",
    "    log2FC_BF= log2.(FC_BF),\n",
    "GeneSymbol = gene,\n",
    "RNAseqcomp = RNAseqcomp,\n",
    "GROseqcomp = GROseqcomp,\n",
    "smFISHcomp = smFISHcomp,\n",
    "log2FC_RNAseq = log2FC_RNAseq,\n",
    "log2FC_GROseq = log2FC_GROseq,\n",
    "    N_Cells = N_Cells\n",
    ")\n",
    "    \n",
    "CSV.write(\"Fig1_LPSresponse_smFISH_RNAseq.csv\", tb_sum)"
   ]
  },
  {
   "cell_type": "markdown",
   "metadata": {},
   "source": [
    "## Code to plot correlations"
   ]
  },
  {
   "cell_type": "code",
   "execution_count": 3,
   "metadata": {},
   "outputs": [
    {
     "data": {
      "text/plain": [
       "dysplay_correlation (generic function with 1 method)"
      ]
     },
     "execution_count": 3,
     "metadata": {},
     "output_type": "execute_result"
    }
   ],
   "source": [
    "function dysplay_correlation(tb, x, y; style = \"RNAseqcomp\", hue = \"smFISHcomp\")\n",
    "    bool1 = .! isnan.(tb[!,x]); bool2 = .! isnan.(tb[!,y])\n",
    "    nonantb = tb[bool1.*bool2, :]\n",
    "    sort!(nonantb, \"smFISHcomp\")\n",
    "    x1 = [ii for ii in nonantb[!,x]]\n",
    "    y1 = [ii for ii in nonantb[!,y]]\n",
    "    \n",
    "    pdt = Pandas.DataFrame(nonantb)\n",
    "\n",
    "    \n",
    "    py\"\"\"\n",
    "    import seaborn as sns\n",
    "    sns.scatterplot(data = $pdt, x= $x, y = $y, hue = $hue, style = $style, palette = \"husl\", s = 50, linewidth = 0, hue_order = [\"WT_60 vs WT_0\",\"WT_90 vs WT_0\",\"WT_120 vs WT_0\",\"WT_180 vs WT_0\",\"WT_8 vs WT_0\"])\n",
    "    \n",
    "    sns.regplot(data = $pdt, x= $x, y = $y, scatter = 0, color = \"darkgray\")\n",
    "\n",
    "    \"\"\"\n",
    "    pretty_axes2()\n",
    "    legend_out_of_plot()\n",
    "    squareplot()\n",
    "    R\"cor.test($x1,$y1)\"\n",
    "    \n",
    "end"
   ]
  },
  {
   "cell_type": "markdown",
   "metadata": {},
   "source": [
    "## RNAseq vs Burst Frequency"
   ]
  },
  {
   "cell_type": "code",
   "execution_count": 4,
   "metadata": {},
   "outputs": [
    {
     "ename": "LoadError",
     "evalue": "UndefVarError: tb_sum not defined",
     "output_type": "error",
     "traceback": [
      "UndefVarError: tb_sum not defined",
      "",
      "Stacktrace:",
      " [1] top-level scope",
      "   @ In[4]:1",
      " [2] eval",
      "   @ ./boot.jl:360 [inlined]",
      " [3] include_string(mapexpr::typeof(REPL.softscope), mod::Module, code::String, filename::String)",
      "   @ Base ./loading.jl:1116"
     ]
    }
   ],
   "source": [
    "dysplay_correlation(tb_sum, \"log2FC_RNAseq\", \"log2FC_BF\", style = \"RNAseqcomp\")"
   ]
  },
  {
   "cell_type": "markdown",
   "metadata": {},
   "source": [
    "## RNAseq vs Burst Size\n"
   ]
  },
  {
   "cell_type": "code",
   "execution_count": 5,
   "metadata": {},
   "outputs": [
    {
     "ename": "LoadError",
     "evalue": "UndefVarError: tb_sum not defined",
     "output_type": "error",
     "traceback": [
      "UndefVarError: tb_sum not defined",
      "",
      "Stacktrace:",
      " [1] top-level scope",
      "   @ In[5]:1",
      " [2] eval",
      "   @ ./boot.jl:360 [inlined]",
      " [3] include_string(mapexpr::typeof(REPL.softscope), mod::Module, code::String, filename::String)",
      "   @ Base ./loading.jl:1116"
     ]
    }
   ],
   "source": [
    "dysplay_correlation(tb_sum, \"log2FC_RNAseq\", \"log2FC_BS\", style = \"RNAseqcomp\")"
   ]
  },
  {
   "cell_type": "markdown",
   "metadata": {},
   "source": [
    "### Make plot for paper"
   ]
  },
  {
   "cell_type": "code",
   "execution_count": 6,
   "metadata": {},
   "outputs": [
    {
     "ename": "LoadError",
     "evalue": "UndefVarError: tb_sum not defined",
     "output_type": "error",
     "traceback": [
      "UndefVarError: tb_sum not defined",
      "",
      "Stacktrace:",
      " [1] top-level scope",
      "   @ In[6]:2",
      " [2] eval",
      "   @ ./boot.jl:360 [inlined]",
      " [3] include_string(mapexpr::typeof(REPL.softscope), mod::Module, code::String, filename::String)",
      "   @ Base ./loading.jl:1116"
     ]
    }
   ],
   "source": [
    "subplot(2,1,1)\n",
    "dysplay_correlation(tb_sum, \"log2FC_RNAseq\", \"log2FC_BS\")\n",
    "ylim(-1,7); xlim(-2, 12); squareplot()\n",
    "subplot(2,1,2)\n",
    "dysplay_correlation(tb_sum, \"log2FC_RNAseq\", \"log2FC_BF\")\n",
    "ylim(-1,7); xlim(-2, 12); squareplot()\n",
    "plt.tight_layout()\n",
    "savefigwithtext(\"smFISHvsRNAchanges.svg\")"
   ]
  },
  {
   "cell_type": "code",
   "execution_count": 7,
   "metadata": {},
   "outputs": [
    {
     "name": "stdout",
     "output_type": "stream",
     "text": [
      "\u001b[32m\u001b[1m      Status\u001b[22m\u001b[39m `~/.julia/environments/v1.6/Project.toml`\n",
      " \u001b[90m [336ed68f] \u001b[39mCSV v0.9.11\n",
      " \u001b[90m [8f4d0f93] \u001b[39mConda v1.5.2\n",
      " \u001b[90m [a93c6f00] \u001b[39mDataFrames v1.2.2\n",
      " \u001b[90m [31c24e10] \u001b[39mDistributions v0.25.28\n",
      " \u001b[90m [09f84164] \u001b[39mHypothesisTests v0.10.6\n",
      " \u001b[90m [7073ff75] \u001b[39mIJulia v1.23.2\n",
      " \u001b[90m [916415d5] \u001b[39mImages v0.24.1\n",
      " \u001b[90m [f8716d33] \u001b[39mMultipleTesting v0.5.0\n",
      " \u001b[90m [d330b81b] \u001b[39mPyPlot v2.10.0\n",
      " \u001b[90m [6f49c342] \u001b[39mRCall v0.13.12\n",
      " \u001b[90m [d2ef9438] \u001b[39mSeaborn v1.0.0\n",
      " \u001b[90m [2913bbd2] \u001b[39mStatsBase v0.33.13\n"
     ]
    }
   ],
   "source": [
    "import Pkg; Pkg.status()"
   ]
  }
 ],
 "metadata": {
  "kernelspec": {
   "display_name": "Julia 1.6.3",
   "language": "julia",
   "name": "julia-1.6"
  },
  "language_info": {
   "file_extension": ".jl",
   "mimetype": "application/julia",
   "name": "julia",
   "version": "1.6.3"
  }
 },
 "nbformat": 4,
 "nbformat_minor": 4
}
