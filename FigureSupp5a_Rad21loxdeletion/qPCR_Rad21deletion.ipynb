{
 "cells": [
  {
   "cell_type": "code",
   "execution_count": null,
   "metadata": {},
   "outputs": [],
   "source": [
    "ENV[\"Code\"] = \"../../Code\"\n",
    "\n",
    "for folder in readdir(ENV[\"Code\"]); push!(LOAD_PATH, normpath(ENV[\"Code\"], folder));end\n",
    "\n",
    "using CSV\n",
    "using HypothesisTests\n",
    "import Pandas\n",
    "import Pkg\n",
    "using NoLongerProblems_Pandas\n",
    "using Seaborn\n",
    "using DataFrames, PyPlot\n",
    "using PrettyPlotting\n",
    "using StatsBase\n",
    "using NoLongerProblems\n",
    "using NoLongerProblems_FileHandling\n",
    "using PyCall\n",
    "scipy = pyimport(\"scipy\")\n",
    "sns = pyimport(\"seaborn\")\n",
    "include(\"Functions.jl\")"
   ]
  },
  {
   "cell_type": "code",
   "execution_count": null,
   "metadata": {},
   "outputs": [],
   "source": [
    "df = CSV.read(\"gqPCR_Rad21geneticdepletion_Macrophages_OTH_noOTH.csv\", DataFrames.DataFrame)\n",
    "\n",
    "rad21depletion = df\n",
    "rad21depletion1 = rad21depletion[rad21depletion[!,:Rep].==1, :]\n",
    "rad21depletion2 = rad21depletion[rad21depletion[!,:Rep].==2, :]\n",
    "rad21depletion3 = rad21depletion[rad21depletion[!,:Rep].==3, :]\n",
    "\n",
    "# Use the same cells with and wthout OTH as default to calculate Fold change\n",
    "rad21depletion1_dd = get_deltadelta_Cq(rad21depletion1, \"Rad21lox_1\")\n",
    "rad21depletion2_dd = get_deltadelta_Cq(rad21depletion2, \"Rad21lox_2\")\n",
    "rad21depletion3_dd = get_deltadelta_Cq(rad21depletion3, \"Rad21lox_3\")\n",
    "rad21depletion_dd = join_in_all_common_columns([rad21depletion1_dd, rad21depletion2_dd, rad21depletion3_dd])\n",
    "\n",
    "figure(figsize = (4, 4))\n",
    "final_figure_rad21(rad21depletion_dd, \n",
    "    col = :scc1_lox_FoldChange, \n",
    "    control = \"Rad21lox\",\n",
    "    cs = [\"blue\", \"yellow\", \"orange\", \"darkorange\"]\n",
    ")\n",
    "squareplot()\n",
    "savefigwithtext(\"genetic_Rad21_left.svg\")"
   ]
  },
  {
   "cell_type": "code",
   "execution_count": null,
   "metadata": {},
   "outputs": [],
   "source": [
    "import Pkg; Pkg.status()"
   ]
  }
 ],
 "metadata": {
  "kernelspec": {
   "display_name": "Julia 1.6.3",
   "language": "julia",
   "name": "julia-1.6"
  },
  "language_info": {
   "file_extension": ".jl",
   "mimetype": "application/julia",
   "name": "julia",
   "version": "1.6.3"
  }
 },
 "nbformat": 4,
 "nbformat_minor": 4
}
