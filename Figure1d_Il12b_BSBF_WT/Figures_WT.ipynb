{
 "cells": [
  {
   "cell_type": "code",
   "execution_count": 3,
   "metadata": {},
   "outputs": [
    {
     "ename": "LoadError",
     "evalue": "LoadError: MethodError: no method matching isless(::Int64, ::String)\n\u001b[0mClosest candidates are:\n\u001b[0m  isless(::Union{AbstractChar, AbstractString, Number}, \u001b[91m::CategoricalArrays.CategoricalValue\u001b[39m) at /Users/irene/.julia/packages/CategoricalArrays/MIs0G/src/value.jl:144\n\u001b[0m  isless(\u001b[91m::AbstractString\u001b[39m, ::AbstractString) at strings/basic.jl:344\n\u001b[0m  isless(\u001b[91m::CategoricalArrays.CategoricalValue\u001b[39m, ::Union{AbstractChar, AbstractString, Number}) at /Users/irene/.julia/packages/CategoricalArrays/MIs0G/src/value.jl:143\n\u001b[0m  ...\nin expression starting at /Users/irene/OneDrive - Imperial College London/Code_Paper/Figure1d_Il12b_BSBF_WT/HiddenCode_nascenttests.jl:8",
     "output_type": "error",
     "traceback": [
      "LoadError: MethodError: no method matching isless(::Int64, ::String)\n\u001b[0mClosest candidates are:\n\u001b[0m  isless(::Union{AbstractChar, AbstractString, Number}, \u001b[91m::CategoricalArrays.CategoricalValue\u001b[39m) at /Users/irene/.julia/packages/CategoricalArrays/MIs0G/src/value.jl:144\n\u001b[0m  isless(\u001b[91m::AbstractString\u001b[39m, ::AbstractString) at strings/basic.jl:344\n\u001b[0m  isless(\u001b[91m::CategoricalArrays.CategoricalValue\u001b[39m, ::Union{AbstractChar, AbstractString, Number}) at /Users/irene/.julia/packages/CategoricalArrays/MIs0G/src/value.jl:143\n\u001b[0m  ...\nin expression starting at /Users/irene/OneDrive - Imperial College London/Code_Paper/Figure1d_Il12b_BSBF_WT/HiddenCode_nascenttests.jl:8",
      "",
      "Stacktrace:",
      "  [1] <(x::Int64, y::String)",
      "    @ Base ./operators.jl:279",
      "  [2] >(x::String, y::Int64)",
      "    @ Base ./operators.jl:305",
      "  [3] _broadcast_getindex_evalf",
      "    @ ./broadcast.jl:648 [inlined]",
      "  [4] _broadcast_getindex",
      "    @ ./broadcast.jl:621 [inlined]",
      "  [5] getindex",
      "    @ ./broadcast.jl:575 [inlined]",
      "  [6] copy",
      "    @ ./broadcast.jl:922 [inlined]",
      "  [7] materialize(bc::Base.Broadcast.Broadcasted{Base.Broadcast.DefaultArrayStyle{1}, Nothing, typeof(>), Tuple{PooledArrays.PooledVector{String, UInt16, Vector{UInt16}}, Int64}})",
      "    @ Base.Broadcast ./broadcast.jl:883",
      "  [8] top-level scope",
      "    @ ~/OneDrive - Imperial College London/Code_Paper/Figure1d_Il12b_BSBF_WT/HiddenCode_nascenttests.jl:8",
      "  [9] include(fname::String)",
      "    @ Base.MainInclude ./client.jl:444",
      " [10] top-level scope",
      "    @ In[3]:9",
      " [11] eval",
      "    @ ./boot.jl:360 [inlined]",
      " [12] include_string(mapexpr::typeof(REPL.softscope), mod::Module, code::String, filename::String)",
      "    @ Base ./loading.jl:1094"
     ]
    }
   ],
   "source": [
    "ENV[\"Code\"] = \"../../Code\"\n",
    "\n",
    "for ii in readdir(ENV[\"Code\"])\n",
    "push!(LOAD_PATH, string(ENV[\"Code\"],\"/\", ii));\n",
    "end\n",
    "\n",
    "include(\"HiddenCode_maturetests.jl\")\n",
    "include(\"HiddenCode_BSBF.jl\")\n",
    "include(\"HiddenCode_nascenttests.jl\")\n",
    "include(\"HiddenCode_Figures.jl\")"
   ]
  },
  {
   "cell_type": "code",
   "execution_count": null,
   "metadata": {},
   "outputs": [],
   "source": [
    "figure(figsize = (10, 3))\n",
    "\n",
    "subplot(1,3,2)\n",
    "Il12b_BF(\"WT\")\n",
    "xlabel(\"Time after LPS (min)\");ylabel(\"Burst Frequency\"); xticks(fontsize = 12); yticks(fontsize = 12)\n",
    "legend_removal()\n",
    "\n",
    "ax = gca()\n",
    "ax.set_aspect(1.0/ax.get_data_ratio(), adjustable=\"box\")\n",
    "subplot(1,3,3)\n",
    "Il12b_BS(\"WT\", n = 1)\n",
    "xlabel(\"Time after LPS (min)\");ylabel(\"Burst Size\"); xticks(fontsize = 12); yticks(fontsize = 12)\n",
    "#legend_out_of_plot()\n",
    "\n",
    "ax = gca()\n",
    "ax.set_aspect(1.0/ax.get_data_ratio(), adjustable=\"box\")\n",
    "\n",
    "plt.tight_layout()\n",
    "\n",
    "using PyCall\n",
    "py\"\"\"\n",
    "import matplotlib as mpl\n",
    "\n",
    "new_rc_params = {'text.usetex': False,\n",
    "\"svg.fonttype\": 'none'\n",
    "}\n",
    "mpl.rcParams.update(new_rc_params)\n",
    "import matplotlib.pyplot as plt\n",
    "plt.savefig(\"WT_Il12b_BSBFtimecourse.svg\")\n",
    "\"\"\"\n"
   ]
  },
  {
   "cell_type": "code",
   "execution_count": null,
   "metadata": {},
   "outputs": [],
   "source": []
  },
  {
   "cell_type": "code",
   "execution_count": null,
   "metadata": {},
   "outputs": [],
   "source": []
  },
  {
   "cell_type": "code",
   "execution_count": null,
   "metadata": {},
   "outputs": [],
   "source": []
  }
 ],
 "metadata": {
  "anaconda-cloud": {},
  "kernelspec": {
   "display_name": "Julia 1.6.3",
   "language": "julia",
   "name": "julia-1.6"
  },
  "language_info": {
   "file_extension": ".jl",
   "mimetype": "application/julia",
   "name": "julia",
   "version": "1.6.3"
  }
 },
 "nbformat": 4,
 "nbformat_minor": 4
}
