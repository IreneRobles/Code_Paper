{
 "cells": [
  {
   "cell_type": "code",
   "execution_count": null,
   "metadata": {},
   "outputs": [],
   "source": [
    "ENV[\"Code\"] = \"../../Code\"\n",
    "\n",
    "for ii in readdir(ENV[\"Code\"])\n",
    "push!(LOAD_PATH, string(ENV[\"Code\"],\"/\", ii));\n",
    "end\n",
    "\n",
    "include(\"HiddenCode_maturetests.jl\")\n",
    "include(\"HiddenCode_BSBF.jl\")\n",
    "include(\"HiddenCode_nascenttests.jl\")\n",
    "include(\"HiddenCode_Figures.jl\")"
   ]
  },
  {
   "cell_type": "code",
   "execution_count": null,
   "metadata": {},
   "outputs": [],
   "source": [
    "figure(figsize = (10, 3))\n",
    "\n",
    "subplot(1,3,2)\n",
    "Il12b_BF(\"WT\")\n",
    "xlabel(\"Time after LPS (min)\");ylabel(\"Burst Frequency\"); xticks(fontsize = 12); yticks(fontsize = 12)\n",
    "legend_removal()\n",
    "\n",
    "ax = gca()\n",
    "ax.set_aspect(1.0/ax.get_data_ratio(), adjustable=\"box\")\n",
    "subplot(1,3,3)\n",
    "Il12b_BS(\"WT\", n = 1)\n",
    "xlabel(\"Time after LPS (min)\");ylabel(\"Burst Size\"); xticks(fontsize = 12); yticks(fontsize = 12)\n",
    "#legend_out_of_plot()\n",
    "\n",
    "ax = gca()\n",
    "ax.set_aspect(1.0/ax.get_data_ratio(), adjustable=\"box\")\n",
    "\n",
    "plt.tight_layout()\n",
    "\n",
    "using PyCall\n",
    "py\"\"\"\n",
    "import matplotlib as mpl\n",
    "\n",
    "new_rc_params = {'text.usetex': False,\n",
    "\"svg.fonttype\": 'none'\n",
    "}\n",
    "mpl.rcParams.update(new_rc_params)\n",
    "import matplotlib.pyplot as plt\n",
    "plt.savefig(\"WT_Il12b_BSBFtimecourse.svg\")\n",
    "\"\"\"\n"
   ]
  }
 ],
 "metadata": {
  "anaconda-cloud": {},
  "kernelspec": {
   "display_name": "Julia 1.6.3",
   "language": "julia",
   "name": "julia-1.6"
  },
  "language_info": {
   "file_extension": ".jl",
   "mimetype": "application/julia",
   "name": "julia",
   "version": "1.6.3"
  }
 },
 "nbformat": 4,
 "nbformat_minor": 4
}
