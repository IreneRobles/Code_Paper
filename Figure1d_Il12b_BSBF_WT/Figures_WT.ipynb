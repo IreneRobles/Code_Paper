{
 "cells": [
  {
   "cell_type": "code",
   "execution_count": 1,
   "metadata": {},
   "outputs": [
    {
     "name": "stderr",
     "output_type": "stream",
     "text": [
      "┌ Info: Precompiling RCall [6f49c342-dc21-5d91-9882-a32aef131414]\n",
      "└ @ Base loading.jl:1342\n",
      "\u001b[91m\u001b[1mERROR: \u001b[22m\u001b[39mLoadError: RCall not properly installed. Please run Pkg.build(\"RCall\")\n",
      "Stacktrace:\n",
      " [1] \u001b[0m\u001b[1merror\u001b[22m\u001b[0m\u001b[1m(\u001b[22m\u001b[90ms\u001b[39m::\u001b[0mString\u001b[0m\u001b[1m)\u001b[22m\n",
      "\u001b[90m   @ \u001b[39m\u001b[90mBase\u001b[39m \u001b[90m./\u001b[39m\u001b[90;4merror.jl:33\u001b[0m\n",
      " [2] top-level scope\n",
      "\u001b[90m   @ \u001b[39m\u001b[90m~/.julia/packages/RCall/iMDW2/src/\u001b[39m\u001b[90;4mRCall.jl:36\u001b[0m\n",
      " [3] \u001b[0m\u001b[1minclude\u001b[22m\n",
      "\u001b[90m   @ \u001b[39m\u001b[90m./\u001b[39m\u001b[90;4mBase.jl:386\u001b[0m\u001b[90m [inlined]\u001b[39m\n",
      " [4] \u001b[0m\u001b[1minclude_package_for_output\u001b[22m\u001b[0m\u001b[1m(\u001b[22m\u001b[90mpkg\u001b[39m::\u001b[0mBase.PkgId, \u001b[90minput\u001b[39m::\u001b[0mString, \u001b[90mdepot_path\u001b[39m::\u001b[0mVector\u001b[90m{String}\u001b[39m, \u001b[90mdl_load_path\u001b[39m::\u001b[0mVector\u001b[90m{String}\u001b[39m, \u001b[90mload_path\u001b[39m::\u001b[0mVector\u001b[90m{String}\u001b[39m, \u001b[90mconcrete_deps\u001b[39m::\u001b[0mVector\u001b[90m{Pair{Base.PkgId, UInt64}}\u001b[39m, \u001b[90msource\u001b[39m::\u001b[0mString\u001b[0m\u001b[1m)\u001b[22m\n",
      "\u001b[90m   @ \u001b[39m\u001b[90mBase\u001b[39m \u001b[90m./\u001b[39m\u001b[90;4mloading.jl:1235\u001b[0m\n",
      " [5] top-level scope\n",
      "\u001b[90m   @ \u001b[39m\u001b[90;4mnone:1\u001b[0m\n",
      " [6] \u001b[0m\u001b[1meval\u001b[22m\n",
      "\u001b[90m   @ \u001b[39m\u001b[90m./\u001b[39m\u001b[90;4mboot.jl:360\u001b[0m\u001b[90m [inlined]\u001b[39m\n",
      " [7] \u001b[0m\u001b[1meval\u001b[22m\u001b[0m\u001b[1m(\u001b[22m\u001b[90mx\u001b[39m::\u001b[0mExpr\u001b[0m\u001b[1m)\u001b[22m\n",
      "\u001b[90m   @ \u001b[39m\u001b[90mBase.MainInclude\u001b[39m \u001b[90m./\u001b[39m\u001b[90;4mclient.jl:446\u001b[0m\n",
      " [8] top-level scope\n",
      "\u001b[90m   @ \u001b[39m\u001b[90;4mnone:1\u001b[0m\n",
      "in expression starting at /Users/irr15/.julia/packages/RCall/iMDW2/src/RCall.jl:2\n"
     ]
    },
    {
     "ename": "LoadError",
     "evalue": "LoadError: Failed to precompile RCall [6f49c342-dc21-5d91-9882-a32aef131414] to /Users/irr15/.julia/compiled/v1.6/RCall/jl_4AcQD9.\nin expression starting at /Users/irr15/OneDrive - Imperial College London/Code_Paper/Figure1d_Il12b_BSBF_WT/HiddenCode_maturetests.jl:4",
     "output_type": "error",
     "traceback": [
      "LoadError: Failed to precompile RCall [6f49c342-dc21-5d91-9882-a32aef131414] to /Users/irr15/.julia/compiled/v1.6/RCall/jl_4AcQD9.\nin expression starting at /Users/irr15/OneDrive - Imperial College London/Code_Paper/Figure1d_Il12b_BSBF_WT/HiddenCode_maturetests.jl:4",
      "",
      "Stacktrace:",
      "  [1] error(s::String)",
      "    @ Base ./error.jl:33",
      "  [2] compilecache(pkg::Base.PkgId, path::String, internal_stderr::IJulia.IJuliaStdio{Base.PipeEndpoint}, internal_stdout::IJulia.IJuliaStdio{Base.PipeEndpoint}, ignore_loaded_modules::Bool)",
      "    @ Base ./loading.jl:1385",
      "  [3] compilecache(pkg::Base.PkgId, path::String)",
      "    @ Base ./loading.jl:1329",
      "  [4] _require(pkg::Base.PkgId)",
      "    @ Base ./loading.jl:1043",
      "  [5] require(uuidkey::Base.PkgId)",
      "    @ Base ./loading.jl:936",
      "  [6] require(into::Module, mod::Symbol)",
      "    @ Base ./loading.jl:923",
      "  [7] include(fname::String)",
      "    @ Base.MainInclude ./client.jl:444",
      "  [8] top-level scope",
      "    @ In[1]:7",
      "  [9] eval",
      "    @ ./boot.jl:360 [inlined]",
      " [10] include_string(mapexpr::typeof(REPL.softscope), mod::Module, code::String, filename::String)",
      "    @ Base ./loading.jl:1116"
     ]
    }
   ],
   "source": [
    "ENV[\"Code\"] = \"../../Code\"\n",
    "\n",
    "for ii in readdir(ENV[\"Code\"])\n",
    "push!(LOAD_PATH, string(ENV[\"Code\"],\"/\", ii));\n",
    "end\n",
    "\n",
    "include(\"HiddenCode_maturetests.jl\")\n",
    "include(\"HiddenCode_BSBF.jl\")\n",
    "include(\"HiddenCode_nascenttests.jl\")\n",
    "include(\"HiddenCode_Figures.jl\")"
   ]
  },
  {
   "cell_type": "code",
   "execution_count": 3,
   "metadata": {},
   "outputs": [
    {
     "name": "stderr",
     "output_type": "stream",
     "text": [
      "\u001b[32m\u001b[1m    Building\u001b[22m\u001b[39m Conda → `~/.julia/scratchspaces/44cfe95a-1eb2-52ea-b672-e2afdf69b78f/299304989a5e6473d985212c28928899c74e9421/build.log`\n",
      "\u001b[32m\u001b[1m    Building\u001b[22m\u001b[39m RCall → `~/.julia/scratchspaces/44cfe95a-1eb2-52ea-b672-e2afdf69b78f/80a056277142a340e646beea0e213f9aecb99caa/build.log`\n"
     ]
    },
    {
     "ename": "LoadError",
     "evalue": "Error building `RCall`: \nERROR: could not load library \"/Users/irr15/opt/anaconda3/lib/R/lib/libR.dylib\"\ndlopen(/Users/irr15/opt/anaconda3/lib/R/lib/libR.dylib, 1): Library not loaded: @rpath/libreadline.6.2.dylib\n  Referenced from: /Users/irr15/opt/anaconda3/lib/R/lib/libR.dylib\n  Reason: image not found\nERROR: LoadError: Try adding /Users/irr15/opt/anaconda3/lib/R/lib to the \"LD_LIBRARY_PATH\" environmental variable and restarting Julia.\nStacktrace:\n [1] error(s::String)\n   @ Base ./error.jl:33\n [2] validate_libR(libR::String)\n   @ Main ~/.julia/packages/RCall/iMDW2/deps/setup.jl:26\n [3] locate_libR(Rhome::SubString{String})\n   @ Main ~/.julia/packages/RCall/iMDW2/deps/setup.jl:43\n [4] top-level scope\n   @ ~/.julia/packages/RCall/iMDW2/deps/build.jl:58\n [5] include(fname::String)\n   @ Base.MainInclude ./client.jl:444\n [6] top-level scope\n   @ none:5\nin expression starting at /Users/irr15/.julia/packages/RCall/iMDW2/deps/build.jl:11\n\ncaused by: could not load library \"/Users/irr15/opt/anaconda3/lib/R/lib/libR.dylib\"\ndlopen(/Users/irr15/opt/anaconda3/lib/R/lib/libR.dylib, 1): Library not loaded: @rpath/libreadline.6.2.dylib\n  Referenced from: /Users/irr15/opt/anaconda3/lib/R/lib/libR.dylib\n  Reason: image not found\nStacktrace:\n [1] dlopen(s::String, flags::UInt32; throw_error::Bool)\n   @ Base.Libc.Libdl ./libdl.jl:114\n [2] dlopen (repeats 2 times)\n   @ ./libdl.jl:114 [inlined]\n [3] validate_libR(libR::String)\n   @ Main ~/.julia/packages/RCall/iMDW2/deps/setup.jl:16\n [4] locate_libR(Rhome::SubString{String})\n   @ Main ~/.julia/packages/RCall/iMDW2/deps/setup.jl:43\n [5] top-level scope\n   @ ~/.julia/packages/RCall/iMDW2/deps/build.jl:58\n [6] include(fname::String)\n   @ Base.MainInclude ./client.jl:444\n [7] top-level scope\n   @ none:5",
     "output_type": "error",
     "traceback": [
      "Error building `RCall`: \nERROR: could not load library \"/Users/irr15/opt/anaconda3/lib/R/lib/libR.dylib\"\ndlopen(/Users/irr15/opt/anaconda3/lib/R/lib/libR.dylib, 1): Library not loaded: @rpath/libreadline.6.2.dylib\n  Referenced from: /Users/irr15/opt/anaconda3/lib/R/lib/libR.dylib\n  Reason: image not found\nERROR: LoadError: Try adding /Users/irr15/opt/anaconda3/lib/R/lib to the \"LD_LIBRARY_PATH\" environmental variable and restarting Julia.\nStacktrace:\n [1] error(s::String)\n   @ Base ./error.jl:33\n [2] validate_libR(libR::String)\n   @ Main ~/.julia/packages/RCall/iMDW2/deps/setup.jl:26\n [3] locate_libR(Rhome::SubString{String})\n   @ Main ~/.julia/packages/RCall/iMDW2/deps/setup.jl:43\n [4] top-level scope\n   @ ~/.julia/packages/RCall/iMDW2/deps/build.jl:58\n [5] include(fname::String)\n   @ Base.MainInclude ./client.jl:444\n [6] top-level scope\n   @ none:5\nin expression starting at /Users/irr15/.julia/packages/RCall/iMDW2/deps/build.jl:11\n\ncaused by: could not load library \"/Users/irr15/opt/anaconda3/lib/R/lib/libR.dylib\"\ndlopen(/Users/irr15/opt/anaconda3/lib/R/lib/libR.dylib, 1): Library not loaded: @rpath/libreadline.6.2.dylib\n  Referenced from: /Users/irr15/opt/anaconda3/lib/R/lib/libR.dylib\n  Reason: image not found\nStacktrace:\n [1] dlopen(s::String, flags::UInt32; throw_error::Bool)\n   @ Base.Libc.Libdl ./libdl.jl:114\n [2] dlopen (repeats 2 times)\n   @ ./libdl.jl:114 [inlined]\n [3] validate_libR(libR::String)\n   @ Main ~/.julia/packages/RCall/iMDW2/deps/setup.jl:16\n [4] locate_libR(Rhome::SubString{String})\n   @ Main ~/.julia/packages/RCall/iMDW2/deps/setup.jl:43\n [5] top-level scope\n   @ ~/.julia/packages/RCall/iMDW2/deps/build.jl:58\n [6] include(fname::String)\n   @ Base.MainInclude ./client.jl:444\n [7] top-level scope\n   @ none:5",
      "",
      "Stacktrace:",
      "  [1] pkgerror(msg::String)",
      "    @ Pkg.Types /Users/julia/buildbot/worker/package_macos64/build/usr/share/julia/stdlib/v1.6/Pkg/src/Types.jl:55",
      "  [2] (::Pkg.Operations.var\"#82#87\"{Bool, Pkg.Types.Context, String, Pkg.Types.PackageSpec})()",
      "    @ Pkg.Operations /Users/julia/buildbot/worker/package_macos64/build/usr/share/julia/stdlib/v1.6/Pkg/src/Operations.jl:1048",
      "  [3] withenv(::Pkg.Operations.var\"#82#87\"{Bool, Pkg.Types.Context, String, Pkg.Types.PackageSpec}, ::Pair{String, String}, ::Vararg{Pair{String, B} where B, N} where N)",
      "    @ Base ./env.jl:161",
      "  [4] (::Pkg.Operations.var\"#109#113\"{String, Pkg.Operations.var\"#82#87\"{Bool, Pkg.Types.Context, String, Pkg.Types.PackageSpec}, Pkg.Types.PackageSpec})()",
      "    @ Pkg.Operations /Users/julia/buildbot/worker/package_macos64/build/usr/share/julia/stdlib/v1.6/Pkg/src/Operations.jl:1546",
      "  [5] with_temp_env(fn::Pkg.Operations.var\"#109#113\"{String, Pkg.Operations.var\"#82#87\"{Bool, Pkg.Types.Context, String, Pkg.Types.PackageSpec}, Pkg.Types.PackageSpec}, temp_env::String)",
      "    @ Pkg.Operations /Users/julia/buildbot/worker/package_macos64/build/usr/share/julia/stdlib/v1.6/Pkg/src/Operations.jl:1448",
      "  [6] (::Pkg.Operations.var\"#108#112\"{Pkg.Operations.var\"#82#87\"{Bool, Pkg.Types.Context, String, Pkg.Types.PackageSpec}, Pkg.Types.Context, Pkg.Types.PackageSpec, String, Pkg.Types.Project, String})(tmp::String)",
      "    @ Pkg.Operations /Users/julia/buildbot/worker/package_macos64/build/usr/share/julia/stdlib/v1.6/Pkg/src/Operations.jl:1521",
      "  [7] mktempdir(fn::Pkg.Operations.var\"#108#112\"{Pkg.Operations.var\"#82#87\"{Bool, Pkg.Types.Context, String, Pkg.Types.PackageSpec}, Pkg.Types.Context, Pkg.Types.PackageSpec, String, Pkg.Types.Project, String}, parent::String; prefix::String)",
      "    @ Base.Filesystem ./file.jl:729",
      "  [8] mktempdir(fn::Function, parent::String) (repeats 2 times)",
      "    @ Base.Filesystem ./file.jl:727",
      "  [9] sandbox(fn::Function, ctx::Pkg.Types.Context, target::Pkg.Types.PackageSpec, target_path::String, sandbox_path::String, sandbox_project_override::Pkg.Types.Project)",
      "    @ Pkg.Operations /Users/julia/buildbot/worker/package_macos64/build/usr/share/julia/stdlib/v1.6/Pkg/src/Operations.jl:1487",
      " [10] build_versions(ctx::Pkg.Types.Context, uuids::Vector{Base.UUID}; verbose::Bool)",
      "    @ Pkg.Operations /Users/julia/buildbot/worker/package_macos64/build/usr/share/julia/stdlib/v1.6/Pkg/src/Operations.jl:1029",
      " [11] build(ctx::Pkg.Types.Context, pkgs::Vector{Pkg.Types.PackageSpec}, verbose::Bool)",
      "    @ Pkg.Operations /Users/julia/buildbot/worker/package_macos64/build/usr/share/julia/stdlib/v1.6/Pkg/src/Operations.jl:910",
      " [12] build(ctx::Pkg.Types.Context, pkgs::Vector{Pkg.Types.PackageSpec}; verbose::Bool, kwargs::Base.Iterators.Pairs{Symbol, IJulia.IJuliaStdio{Base.PipeEndpoint}, Tuple{Symbol}, NamedTuple{(:io,), Tuple{IJulia.IJuliaStdio{Base.PipeEndpoint}}}})",
      "    @ Pkg.API /Users/julia/buildbot/worker/package_macos64/build/usr/share/julia/stdlib/v1.6/Pkg/src/API.jl:900",
      " [13] build(pkgs::Vector{Pkg.Types.PackageSpec}; io::IJulia.IJuliaStdio{Base.PipeEndpoint}, kwargs::Base.Iterators.Pairs{Union{}, Union{}, Tuple{}, NamedTuple{(), Tuple{}}})",
      "    @ Pkg.API /Users/julia/buildbot/worker/package_macos64/build/usr/share/julia/stdlib/v1.6/Pkg/src/API.jl:80",
      " [14] build(pkgs::Vector{Pkg.Types.PackageSpec})",
      "    @ Pkg.API /Users/julia/buildbot/worker/package_macos64/build/usr/share/julia/stdlib/v1.6/Pkg/src/API.jl:78",
      " [15] #build#71",
      "    @ /Users/julia/buildbot/worker/package_macos64/build/usr/share/julia/stdlib/v1.6/Pkg/src/API.jl:76 [inlined]",
      " [16] build",
      "    @ /Users/julia/buildbot/worker/package_macos64/build/usr/share/julia/stdlib/v1.6/Pkg/src/API.jl:76 [inlined]",
      " [17] #build#70",
      "    @ /Users/julia/buildbot/worker/package_macos64/build/usr/share/julia/stdlib/v1.6/Pkg/src/API.jl:75 [inlined]",
      " [18] build(pkg::String)",
      "    @ Pkg.API /Users/julia/buildbot/worker/package_macos64/build/usr/share/julia/stdlib/v1.6/Pkg/src/API.jl:75",
      " [19] top-level scope",
      "    @ In[3]:2",
      " [20] eval",
      "    @ ./boot.jl:360 [inlined]",
      " [21] include_string(mapexpr::typeof(REPL.softscope), mod::Module, code::String, filename::String)",
      "    @ Base ./loading.jl:1116"
     ]
    }
   ],
   "source": [
    "import Pkg\n",
    "Pkg.build(\"RCall\")"
   ]
  },
  {
   "cell_type": "code",
   "execution_count": 2,
   "metadata": {},
   "outputs": [
    {
     "ename": "LoadError",
     "evalue": "UndefVarError: Il12b_BF not defined",
     "output_type": "error",
     "traceback": [
      "UndefVarError: Il12b_BF not defined",
      "",
      "Stacktrace:",
      " [1] top-level scope",
      "   @ In[2]:4",
      " [2] eval",
      "   @ ./boot.jl:360 [inlined]",
      " [3] include_string(mapexpr::typeof(REPL.softscope), mod::Module, code::String, filename::String)",
      "   @ Base ./loading.jl:1116"
     ]
    }
   ],
   "source": [
    "figure(figsize = (10, 3))\n",
    "\n",
    "subplot(1,3,2)\n",
    "Il12b_BF(\"WT\")\n",
    "xlabel(\"Time after LPS (min)\");ylabel(\"Burst Frequency\"); xticks(fontsize = 12); yticks(fontsize = 12)\n",
    "legend_removal()\n",
    "\n",
    "ax = gca()\n",
    "ax.set_aspect(1.0/ax.get_data_ratio(), adjustable=\"box\")\n",
    "subplot(1,3,3)\n",
    "Il12b_BS(\"WT\")\n",
    "xlabel(\"Time after LPS (min)\");ylabel(\"Burst Size\"); xticks(fontsize = 12); yticks(fontsize = 12)\n",
    "#legend_out_of_plot()\n",
    "\n",
    "ax = gca()\n",
    "ax.set_aspect(1.0/ax.get_data_ratio(), adjustable=\"box\")\n",
    "\n",
    "plt.tight_layout()\n",
    "\n",
    "using PyCall\n",
    "py\"\"\"\n",
    "import matplotlib as mpl\n",
    "\n",
    "new_rc_params = {'text.usetex': False,\n",
    "\"svg.fonttype\": 'none'\n",
    "}\n",
    "mpl.rcParams.update(new_rc_params)\n",
    "import matplotlib.pyplot as plt\n",
    "plt.savefig(\"WT_Il12b_BSBFtimecourse.svg\")\n",
    "\"\"\"\n"
   ]
  },
  {
   "cell_type": "code",
   "execution_count": null,
   "metadata": {},
   "outputs": [],
   "source": []
  },
  {
   "cell_type": "code",
   "execution_count": null,
   "metadata": {},
   "outputs": [],
   "source": []
  },
  {
   "cell_type": "code",
   "execution_count": null,
   "metadata": {},
   "outputs": [],
   "source": []
  }
 ],
 "metadata": {
  "anaconda-cloud": {},
  "kernelspec": {
   "display_name": "Julia 1.6.3",
   "language": "julia",
   "name": "julia-1.6"
  },
  "language_info": {
   "file_extension": ".jl",
   "mimetype": "application/julia",
   "name": "julia",
   "version": "1.6.3"
  }
 },
 "nbformat": 4,
 "nbformat_minor": 4
}
