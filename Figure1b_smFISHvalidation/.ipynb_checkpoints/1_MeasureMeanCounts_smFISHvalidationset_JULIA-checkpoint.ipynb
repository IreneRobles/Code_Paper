{
 "cells": [
  {
   "cell_type": "markdown",
   "metadata": {},
   "source": [
    "# Measure Overdispersion in my smFISH data\n",
    "\n",
    "- Cells: BMD Macrophages\n",
    "- Genotypes: WT, Rad21KO\n",
    "- Timepoints: 0h, 2h, 8h, 10ng/ml LPS\n",
    "- Replicates: 3\n",
    "- Genes: \n",
    " - Set1: Actb, Il12b, Stat1\n",
    " - Set2: Tnf, Cd40, Atf3"
   ]
  },
  {
   "cell_type": "code",
   "execution_count": 5,
   "metadata": {},
   "outputs": [
    {
     "name": "stderr",
     "output_type": "stream",
     "text": [
      "WARNING: replacing module smFISH_Data.\n"
     ]
    },
    {
     "data": {
      "text/plain": [
       "Main.smFISH_Data"
      ]
     },
     "execution_count": 5,
     "metadata": {},
     "output_type": "execute_result"
    }
   ],
   "source": [
    "ENV[\"Code\"] = \"../../Code\"\n",
    "for folder in readdir(ENV[\"Code\"]); push!(LOAD_PATH, normpath(ENV[\"Code\"], folder));end\n",
    "include(ENV[\"Code\"]*\"/Databases2/smFISH_Data.jl\")"
   ]
  },
  {
   "cell_type": "code",
   "execution_count": 15,
   "metadata": {},
   "outputs": [
    {
     "data": {
      "text/plain": [
       "\"smFISH_MEAN_CV.csv\""
      ]
     },
     "execution_count": 15,
     "metadata": {},
     "output_type": "execute_result"
    }
   ],
   "source": [
    "using CSV\n",
    "using DataFrames\n",
    "using NoLongerProblems\n",
    "using PyPlot\n",
    "import Pandas\n",
    "using Statistics\n",
    "\n",
    "apply_func_per_sample_replicate = smFISH_Data.apply_func_per_sample_replicate\n",
    "\n",
    "\n",
    "tb = apply_func_per_sample_replicate(smFISH_Data.smFISHdata(\"actb\"), Statistics.mean, \"MeanCounts\")\n",
    "tb3 = apply_func_per_sample_replicate(smFISH_Data.smFISHdata(\"actb\"), x -> std(x)^2/Statistics.mean(x), \"FANO\")\n",
    "tb1 = apply_func_per_sample_replicate(smFISH_Data.smFISHdata(\"actb\"), x -> std(x)/Statistics.mean(x), \"CV\")\n",
    "tb2 = apply_func_per_sample_replicate(smFISH_Data.smFISHdata(\"actb\"), x -> (std(x)/Statistics.mean(x))^2, \"CV2\")\n",
    "\n",
    "tb_set1 = join(tb, tb1[:, [1, 6, size(tb1)[2]]], on = [:Rep_Sample, :Gene])\n",
    "tb_set1 = join(tb_set1, tb2[:, [1, 6, size(tb2)[2]]], on = [:Rep_Sample, :Gene])\n",
    "tb_set1 = join(tb_set1, tb3[:, [1, 6, size(tb2)[2]]], on = [:Rep_Sample, :Gene])\n",
    "\n",
    "tb = apply_func_per_sample_replicate(smFISH_Data.smFISHdata(\"atf3\"), Statistics.mean, \"MeanCounts\")\n",
    "tb3 = apply_func_per_sample_replicate(smFISH_Data.smFISHdata(\"atf3\"), x -> std(x)^2/Statistics.mean(x), \"FANO\")\n",
    "tb1 = apply_func_per_sample_replicate(smFISH_Data.smFISHdata(\"atf3\"), x -> std(x)/Statistics.mean(x), \"CV\")\n",
    "tb2 = apply_func_per_sample_replicate(smFISH_Data.smFISHdata(\"atf3\"), x -> (std(x)/Statistics.mean(x))^2, \"CV2\")\n",
    "\n",
    "tb_set2 = join(tb, tb1[:, [1, 6, size(tb1)[2]]], on = [:Rep_Sample, :Gene])\n",
    "tb_set2 = join(tb_set2, tb2[:, [1, 6, size(tb2)[2]]], on = [:Rep_Sample, :Gene])\n",
    "tb_set2 = join(tb_set2, tb3[:, [1, 6, size(tb2)[2]]], on = [:Rep_Sample, :Gene])\n",
    "\n",
    "\n",
    "tb = join_in_all_common_columns(tb_set1, tb_set2)\n",
    "\n",
    "CSV.write(\"smFISH_MEAN_CV.csv\", tb)"
   ]
  },
  {
   "cell_type": "code",
   "execution_count": null,
   "metadata": {},
   "outputs": [],
   "source": []
  }
 ],
 "metadata": {
  "kernelspec": {
   "display_name": "Julia 1.6.0",
   "language": "julia",
   "name": "julia-1.6"
  },
  "language_info": {
   "file_extension": ".jl",
   "mimetype": "application/julia",
   "name": "julia",
   "version": "1.6.0"
  }
 },
 "nbformat": 4,
 "nbformat_minor": 2
}
