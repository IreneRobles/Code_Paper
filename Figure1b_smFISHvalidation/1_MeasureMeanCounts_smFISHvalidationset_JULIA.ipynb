{
 "cells": [
  {
   "cell_type": "markdown",
   "metadata": {},
   "source": [
    "# Measure MeanCounts in my smFISH data validation set\n",
    "\n",
    "- Cells: BMD Macrophages\n",
    "- Genotypes: WT, Rad21KO\n",
    "- Timepoints: 0h, 2h, 8h, 10ng/ml LPS\n",
    "- Replicates: 3\n",
    "- Genes: \n",
    " - Set1: Actb, Il12b, Stat1\n",
    " - Set2: Tnf, Cd40, Atf3"
   ]
  },
  {
   "cell_type": "code",
   "execution_count": 11,
   "metadata": {},
   "outputs": [
    {
     "name": "stderr",
     "output_type": "stream",
     "text": [
      "WARNING: replacing module smFISH_validation.\n"
     ]
    }
   ],
   "source": [
    "ENV[\"Code\"] = \"../../Code\"\n",
    "[push!(LOAD_PATH, string(ENV[\"Code\"],\"/\", ii)) for ii in readdir(ENV[\"Code\"])]\n",
    "include(\"../Databases/smFISH_validation.jl\")\n",
    "using CSV\n",
    "using DataFrames\n",
    "using NoLongerProblems\n",
    "using PyPlot\n",
    "import Pandas\n",
    "using Statistics"
   ]
  },
  {
   "cell_type": "markdown",
   "metadata": {},
   "source": [
    "Calculate mean smFISH counts per sample and save data to a csv file"
   ]
  },
  {
   "cell_type": "code",
   "execution_count": 12,
   "metadata": {},
   "outputs": [
    {
     "data": {
      "text/plain": [
       "\"smFISH_MEAN.csv\""
      ]
     },
     "execution_count": 12,
     "metadata": {},
     "output_type": "execute_result"
    }
   ],
   "source": [
    "apply_func_per_sample_replicate = smFISH_validation.apply_func_per_sample_replicate\n",
    "tb_set1 = smFISH_validation.apply_func_per_sample_replicate(smFISH_validation.smFISHdata(\"actb\"), Statistics.mean, \"MeanCounts\")\n",
    "tb_set2 = smFISH_validation.apply_func_per_sample_replicate(smFISH_validation.smFISHdata(\"atf3\"), Statistics.mean, \"MeanCounts\")\n",
    "tb = join_in_all_common_columns(tb_set1, tb_set2)\n",
    "\n",
    "CSV.write(\"smFISH_MEAN.csv\", tb)"
   ]
  },
  {
   "cell_type": "code",
   "execution_count": null,
   "metadata": {},
   "outputs": [],
   "source": []
  }
 ],
 "metadata": {
  "kernelspec": {
   "display_name": "Julia 1.6.3",
   "language": "julia",
   "name": "julia-1.6"
  },
  "language_info": {
   "file_extension": ".jl",
   "mimetype": "application/julia",
   "name": "julia",
   "version": "1.6.3"
  }
 },
 "nbformat": 4,
 "nbformat_minor": 4
}
