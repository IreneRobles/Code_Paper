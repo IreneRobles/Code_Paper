{
 "cells": [
  {
   "cell_type": "markdown",
   "metadata": {},
   "source": [
    "# MeanCounts in my smFISH data validation set vs RNAseq FPKM\n",
    "\n",
    "- Cells: BMD Macrophages\n",
    "- Genotypes: WT, Rad21KO\n",
    "- Timepoints: 0h, 2h, 8h, 10ng/ml LPS\n",
    "- Replicates: 3\n",
    "- Genes: \n",
    " - Set1: Actb, Il12b, Stat1\n",
    " - Set2: Tnf, Cd40, Atf3"
   ]
  },
  {
   "cell_type": "code",
   "execution_count": null,
   "metadata": {},
   "outputs": [],
   "source": [
    "ENV[\"Code\"] = \"../../Code\"\n",
    "[push!(LOAD_PATH, string(ENV[\"Code\"],\"/\", ii)) for ii in readdir(ENV[\"Code\"])]\n",
    "include(\"../Databases/smFISH_validation.jl\")\n",
    "\n",
    "using DataFrames\n",
    "using Seaborn\n",
    "using NoLongerProblems_Pandas\n",
    "using NoLongerProblems\n",
    "using CSV\n",
    "using RCall\n",
    "import Pandas\n",
    "using PrettyPlotting\n",
    "using NoLongerProblems_Pandas\n",
    "using PyPlot\n",
    "import Pandas, PyCall\n",
    "using Statistics\n",
    "\n",
    "# Calculate mean per sample and replicate\n",
    "apply_func_per_sample_replicate = smFISH_validation.apply_func_per_sample_replicate\n",
    "tb_set1 = smFISH_validation.apply_func_per_sample_replicate(smFISH_validation.smFISHdata(\"actb\"), Statistics.mean, \"MeanCounts\")\n",
    "tb_set2 = smFISH_validation.apply_func_per_sample_replicate(smFISH_validation.smFISHdata(\"atf3\"), Statistics.mean, \"MeanCounts\")\n",
    "tb = join_in_all_common_columns(tb_set1, tb_set2)\n",
    "CSV.write(\"smFISH_MEAN.csv\", tb)\n",
    "\n",
    "\n",
    "# Add RNAseq FPKM to table\n",
    "include(\"../Databases/Cuartero2018.jl\")\n",
    "\n",
    "fpkm = Cuartero2018.get_mean_FPKM();\n",
    "tab = CSV.read(\"smFISH_MEAN.csv\", DataFrames.DataFrame)\n",
    "tab[!,:Sample_Gene] = tab[!,:Sample] .*\"__\".*tab[!,:Gene]\n",
    "\n",
    "meantab = DataFrames.DataFrame(Sample_Gene = unique(tab[!,:Sample_Gene]))\n",
    "meantab[!,:MeanCounts] = [mean(tab[tab[!,:Sample_Gene] .== ii, :MeanCounts]) for ii in meantab[!,:Sample_Gene]]\n",
    "meantab[!,:Sample] = [split(ii, \"__\")[1] for ii in meantab[!,:Sample_Gene] ]\n",
    "meantab[!,:Gene] = [split(ii, \"__\")[2] for ii in meantab[!,:Sample_Gene] ]\n",
    "\n",
    "for name in names(fpkm)\n",
    "    if startswith(string(name), \"FL\") \n",
    "      rename!(fpkm, Symbol(string(name))=>Symbol(replace(string(name), \"FL\"=> \"Rad21KO\")))\n",
    "    end\n",
    "end\n",
    "\n",
    "fpkms = []\n",
    "for ii in meantab[!,:Sample_Gene]\n",
    "    samp = Symbol(split(ii, \"__\")[1])\n",
    "    geneind = fpkm[!,:GeneSymbol].==split(ii, \"__\")[2]\n",
    "     push!(fpkms, fpkm[geneind, samp][1])\n",
    "end\n",
    "\n",
    "meantab[!,:MeanFPKM] = fpkms\n",
    "meantab[!,:log2MeanCounts] = log2.(meantab[!,:MeanCounts])\n",
    "meantab[!,:log2FPKMplus1] = log2.(meantab[!,:MeanFPKM].+1)\n",
    "CSV.write(\"smFISH_MEAN.csv\", meantab)\n",
    "\n",
    "# Plot Data\n",
    "\n",
    "pd = Pandas.DataFrame(meantab)\n",
    "figure(figsize = (3, 3))\n",
    "py\"\"\"\n",
    "import seaborn as sns\n",
    "sns.regplot(data = $pd, x = \"log2FPKMplus1\", y = \"log2MeanCounts\", color = \"grey\")\n",
    "sns.scatterplot(data = $pd, x = \"log2FPKMplus1\", y = \"log2MeanCounts\", hue = \"Gene\", s = 50, linewidth = 0)\n",
    "\"\"\"\n",
    "pretty_axes2()\n",
    "legend_out_of_plot()\n",
    "PrettyPlotting.savefigwithtext(\"log2FPKM_log2MeanCounts.svg\")"
   ]
  },
  {
   "cell_type": "markdown",
   "metadata": {},
   "source": [
    "### Correlation test (called from R)"
   ]
  },
  {
   "cell_type": "code",
   "execution_count": null,
   "metadata": {},
   "outputs": [],
   "source": [
    "R\"\"\"\n",
    "tb <- $meantab\n",
    "cor.test(tb$log2MeanCounts, tb$log2FPKM)\n",
    "\"\"\""
   ]
  },
  {
   "cell_type": "markdown",
   "metadata": {},
   "source": [
    "### Correlation between replicates"
   ]
  },
  {
   "cell_type": "code",
   "execution_count": null,
   "metadata": {},
   "outputs": [],
   "source": [
    "new_df = DataFrames.DataFrame()\n",
    "\n",
    "tab = CSV.read(\"smFISH_MEAN.csv\", DataFrame)\n",
    "tab[!,:Sample_Gene] = tab[!,:Sample] .*\"__\".*tab[!,:Gene]\n",
    "\n",
    "rep1 = tab[tab[!,:Rep].== 1, [:Sample_Gene, :MeanCounts]]; rename!(rep1, :MeanCounts =>:Rep1)\n",
    "rep2 = tab[tab[!,:Rep].== 2, [:Sample_Gene, :MeanCounts]]; rename!(rep2, :MeanCounts =>:Rep2)\n",
    "rep3 = tab[tab[!,:Rep].== 3, [:Sample_Gene, :MeanCounts]]; rename!(rep3, :MeanCounts =>:Rep3)\n",
    "\n",
    "reps = innerjoin(innerjoin(rep1, rep2, on =:Sample_Gene), rep3, on=:Sample_Gene)\n",
    "\n",
    "reps[!,:Gene] = [split(ii, \"__\")[2] for ii in reps[!,:Sample_Gene] ]\n",
    "\n",
    "set1 = [\"Actb\", \"Il12b\", \"Stat1\"]\n",
    "\n",
    "exps1 = reps[[in(ii, set1) for ii in  reps[!,:Gene]], :]\n",
    "\n",
    "exps2 = reps[[!in(ii, set1) for ii in  reps[!,:Gene]], :]\n",
    "\n",
    "CSV.write(\"cormatset1.csv\", exps1[!,[\"Rep1\",\"Rep2\",\"Rep3\"]])\n",
    "CSV.write(\"cormatset2.csv\", exps2[!,[\"Rep1\",\"Rep2\",\"Rep3\"]])\n"
   ]
  },
  {
   "cell_type": "code",
   "execution_count": null,
   "metadata": {},
   "outputs": [],
   "source": [
    "R\"\"\"\n",
    "library(devtools)\n",
    "library(ggplot2)\n",
    "library(GGally)\n",
    "\n",
    "set1<-read.csv(\"cormatset1.csv\")\n",
    "\n",
    "g<- ggcorr(data = set1,label= 1)\n",
    "\n",
    "ggsave(\"cormatset1.svg\", width =2.5, height = 2.5)\n",
    "g\n",
    "\"\"\""
   ]
  },
  {
   "cell_type": "code",
   "execution_count": null,
   "metadata": {},
   "outputs": [],
   "source": [
    "R\"\"\"\n",
    "set1<-read.csv(\"cormatset2.csv\")\n",
    "\n",
    "g<- ggcorr(data = set1,label= 1)\n",
    "\n",
    "ggsave(\"cormatset2.svg\", width =2.5, height = 2.5)\n",
    "g\n",
    "\"\"\""
   ]
  },
  {
   "cell_type": "code",
   "execution_count": null,
   "metadata": {},
   "outputs": [],
   "source": [
    "import Pkg; Pkg.status()"
   ]
  }
 ],
 "metadata": {
  "anaconda-cloud": {},
  "kernelspec": {
   "display_name": "Julia 1.6.3",
   "language": "julia",
   "name": "julia-1.6"
  },
  "language_info": {
   "file_extension": ".jl",
   "mimetype": "application/julia",
   "name": "julia",
   "version": "1.6.3"
  }
 },
 "nbformat": 4,
 "nbformat_minor": 4
}
