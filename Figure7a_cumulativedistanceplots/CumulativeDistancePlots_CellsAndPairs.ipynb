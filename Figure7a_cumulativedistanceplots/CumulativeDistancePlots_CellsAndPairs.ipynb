{
 "cells": [
  {
   "cell_type": "markdown",
   "metadata": {},
   "source": [
    "# Cumulative distance plots between genes and enhancers\n",
    "\n",
    "P value = Kolgomorov-Smirnov test"
   ]
  },
  {
   "cell_type": "code",
   "execution_count": 36,
   "metadata": {},
   "outputs": [
    {
     "name": "stderr",
     "output_type": "stream",
     "text": [
      "WARNING: replacing module TSSs.\n"
     ]
    },
    {
     "data": {
      "text/html": [
       "<div class=\"data-frame\"><p>4 rows × 9 columns</p><table class=\"data-frame\"><thead><tr><th></th><th>Intron</th><th>Enhancer</th><th>Reps</th><th>N_Cells</th><th>N_Cells_WT</th><th>N_Cells_Rad21KO</th><th>N_Pairs</th><th>N_Pairs_WT</th><th>N_Pairs_Rad21KO</th></tr><tr><th></th><th title=\"String\">String</th><th title=\"String\">String</th><th title=\"Int64\">Int64</th><th title=\"Int64\">Int64</th><th title=\"Int64\">Int64</th><th title=\"Int64\">Int64</th><th title=\"Int64\">Int64</th><th title=\"Int64\">Int64</th><th title=\"Int64\">Int64</th></tr></thead><tbody><tr><th>1</th><td>Egr2_intron</td><td>Egr2_enh</td><td>8</td><td>16040</td><td>8382</td><td>7658</td><td>1882</td><td>1754</td><td>128</td></tr><tr><th>2</th><td>Prdm1_intron</td><td>Prdm1_enh</td><td>3</td><td>7977</td><td>3985</td><td>3992</td><td>94</td><td>59</td><td>35</td></tr><tr><th>3</th><td>Il12b_intron</td><td>HSS1</td><td>13</td><td>23956</td><td>16604</td><td>7352</td><td>413</td><td>370</td><td>43</td></tr><tr><th>4</th><td>Peli1_intron</td><td>Enh</td><td>4</td><td>38464</td><td>19864</td><td>18600</td><td>9292</td><td>5004</td><td>4288</td></tr></tbody></table></div>"
      ],
      "text/latex": [
       "\\begin{tabular}{r|ccccccccc}\n",
       "\t& Intron & Enhancer & Reps & N\\_Cells & N\\_Cells\\_WT & N\\_Cells\\_Rad21KO & N\\_Pairs & N\\_Pairs\\_WT & N\\_Pairs\\_Rad21KO\\\\\n",
       "\t\\hline\n",
       "\t& String & String & Int64 & Int64 & Int64 & Int64 & Int64 & Int64 & Int64\\\\\n",
       "\t\\hline\n",
       "\t1 & Egr2\\_intron & Egr2\\_enh & 8 & 16040 & 8382 & 7658 & 1882 & 1754 & 128 \\\\\n",
       "\t2 & Prdm1\\_intron & Prdm1\\_enh & 3 & 7977 & 3985 & 3992 & 94 & 59 & 35 \\\\\n",
       "\t3 & Il12b\\_intron & HSS1 & 13 & 23956 & 16604 & 7352 & 413 & 370 & 43 \\\\\n",
       "\t4 & Peli1\\_intron & Enh & 4 & 38464 & 19864 & 18600 & 9292 & 5004 & 4288 \\\\\n",
       "\\end{tabular}\n"
      ],
      "text/plain": [
       "\u001b[1m4×9 DataFrame\u001b[0m\n",
       "\u001b[1m Row \u001b[0m│\u001b[1m Intron       \u001b[0m\u001b[1m Enhancer  \u001b[0m\u001b[1m Reps  \u001b[0m\u001b[1m N_Cells \u001b[0m\u001b[1m N_Cells_WT \u001b[0m\u001b[1m N_Cells_Rad21KO \u001b[0m\u001b[1m N_Pairs \u001b[0m\u001b[1m N_Pairs_WT \u001b[0m\u001b[1m N_Pairs_Rad21KO \u001b[0m\n",
       "\u001b[1m     \u001b[0m│\u001b[90m String       \u001b[0m\u001b[90m String    \u001b[0m\u001b[90m Int64 \u001b[0m\u001b[90m Int64   \u001b[0m\u001b[90m Int64      \u001b[0m\u001b[90m Int64           \u001b[0m\u001b[90m Int64   \u001b[0m\u001b[90m Int64      \u001b[0m\u001b[90m Int64           \u001b[0m\n",
       "─────┼────────────────────────────────────────────────────────────────────────────────────────────────────────────\n",
       "   1 │ Egr2_intron   Egr2_enh       8    16040        8382             7658     1882        1754              128\n",
       "   2 │ Prdm1_intron  Prdm1_enh      3     7977        3985             3992       94          59               35\n",
       "   3 │ Il12b_intron  HSS1          13    23956       16604             7352      413         370               43\n",
       "   4 │ Peli1_intron  Enh            4    38464       19864            18600     9292        5004             4288"
      ]
     },
     "execution_count": 36,
     "metadata": {},
     "output_type": "execute_result"
    }
   ],
   "source": [
    "include(\"../Figure3f_distances/HiddenCode.jl\")\n",
    "include(\"Figures.jl\")\n",
    "figure(figsize = (15, 7))\n",
    "suff = \"200um_noz\"\n",
    "limit = 10\n",
    "ENV[\"COLUMNS\"] = 1000\n",
    "\n",
    "sumtb = vcat(\n",
    "    pair_summary(\"../CompleteSets/linkedlocus/\",\"Egr2_intron\",\"Egr2_enh\",suff; limit = limit),\n",
    "    pair_summary(\"../CompleteSets/linkedlocus/\",\"Prdm1_intron\",\"Prdm1_enh\",suff; limit = limit),\n",
    "    pair_summary(\"../CompleteSets/linkedlocus/\",\"Il12b_intron\",\"HSS1\",suff; limit = limit),\n",
    "    pair_summary(\"../CompleteSets/linkedlocus/\",\"Peli1_intron\",\"Enh\",suff; limit = limit)\n",
    ")\n",
    "\n",
    "CSV.write(\"CellAndPairNumbersForCumplotFigure_limit10.csv\", sumtb)\n",
    "\n",
    "sumtb"
   ]
  },
  {
   "cell_type": "code",
   "execution_count": 37,
   "metadata": {},
   "outputs": [
    {
     "data": {
      "text/html": [
       "<div class=\"data-frame\"><p>4 rows × 9 columns</p><table class=\"data-frame\"><thead><tr><th></th><th>Intron</th><th>Enhancer</th><th>Reps</th><th>N_Cells</th><th>N_Cells_WT</th><th>N_Cells_Rad21KO</th><th>N_Pairs</th><th>N_Pairs_WT</th><th>N_Pairs_Rad21KO</th></tr><tr><th></th><th title=\"String\">String</th><th title=\"String\">String</th><th title=\"Int64\">Int64</th><th title=\"Int64\">Int64</th><th title=\"Int64\">Int64</th><th title=\"Int64\">Int64</th><th title=\"Int64\">Int64</th><th title=\"Int64\">Int64</th><th title=\"Int64\">Int64</th></tr></thead><tbody><tr><th>1</th><td>Egr2_intron</td><td>Egr2_enh</td><td>8</td><td>16040</td><td>8382</td><td>7658</td><td>534</td><td>482</td><td>52</td></tr><tr><th>2</th><td>Prdm1_intron</td><td>Prdm1_enh</td><td>3</td><td>7977</td><td>3985</td><td>3992</td><td>43</td><td>23</td><td>20</td></tr><tr><th>3</th><td>Il12b_intron</td><td>HSS1</td><td>13</td><td>23956</td><td>16604</td><td>7352</td><td>135</td><td>116</td><td>19</td></tr><tr><th>4</th><td>Peli1_intron</td><td>Enh</td><td>4</td><td>38464</td><td>19864</td><td>18600</td><td>2396</td><td>1440</td><td>956</td></tr></tbody></table></div>"
      ],
      "text/latex": [
       "\\begin{tabular}{r|ccccccccc}\n",
       "\t& Intron & Enhancer & Reps & N\\_Cells & N\\_Cells\\_WT & N\\_Cells\\_Rad21KO & N\\_Pairs & N\\_Pairs\\_WT & N\\_Pairs\\_Rad21KO\\\\\n",
       "\t\\hline\n",
       "\t& String & String & Int64 & Int64 & Int64 & Int64 & Int64 & Int64 & Int64\\\\\n",
       "\t\\hline\n",
       "\t1 & Egr2\\_intron & Egr2\\_enh & 8 & 16040 & 8382 & 7658 & 534 & 482 & 52 \\\\\n",
       "\t2 & Prdm1\\_intron & Prdm1\\_enh & 3 & 7977 & 3985 & 3992 & 43 & 23 & 20 \\\\\n",
       "\t3 & Il12b\\_intron & HSS1 & 13 & 23956 & 16604 & 7352 & 135 & 116 & 19 \\\\\n",
       "\t4 & Peli1\\_intron & Enh & 4 & 38464 & 19864 & 18600 & 2396 & 1440 & 956 \\\\\n",
       "\\end{tabular}\n"
      ],
      "text/plain": [
       "\u001b[1m4×9 DataFrame\u001b[0m\n",
       "\u001b[1m Row \u001b[0m│\u001b[1m Intron       \u001b[0m\u001b[1m Enhancer  \u001b[0m\u001b[1m Reps  \u001b[0m\u001b[1m N_Cells \u001b[0m\u001b[1m N_Cells_WT \u001b[0m\u001b[1m N_Cells_Rad21KO \u001b[0m\u001b[1m N_Pairs \u001b[0m\u001b[1m N_Pairs_WT \u001b[0m\u001b[1m N_Pairs_Rad21KO \u001b[0m\n",
       "\u001b[1m     \u001b[0m│\u001b[90m String       \u001b[0m\u001b[90m String    \u001b[0m\u001b[90m Int64 \u001b[0m\u001b[90m Int64   \u001b[0m\u001b[90m Int64      \u001b[0m\u001b[90m Int64           \u001b[0m\u001b[90m Int64   \u001b[0m\u001b[90m Int64      \u001b[0m\u001b[90m Int64           \u001b[0m\n",
       "─────┼────────────────────────────────────────────────────────────────────────────────────────────────────────────\n",
       "   1 │ Egr2_intron   Egr2_enh       8    16040        8382             7658      534         482               52\n",
       "   2 │ Prdm1_intron  Prdm1_enh      3     7977        3985             3992       43          23               20\n",
       "   3 │ Il12b_intron  HSS1          13    23956       16604             7352      135         116               19\n",
       "   4 │ Peli1_intron  Enh            4    38464       19864            18600     2396        1440              956"
      ]
     },
     "execution_count": 37,
     "metadata": {},
     "output_type": "execute_result"
    }
   ],
   "source": [
    "limit = 1\n",
    "ENV[\"COLUMNS\"] = 1000\n",
    "\n",
    "sumtb = vcat(\n",
    "    pair_summary(\"../CompleteSets/linkedlocus/\",\"Egr2_intron\",\"Egr2_enh\",suff; limit = limit),\n",
    "    pair_summary(\"../CompleteSets/linkedlocus/\",\"Prdm1_intron\",\"Prdm1_enh\",suff; limit = limit),\n",
    "    pair_summary(\"../CompleteSets/linkedlocus/\",\"Il12b_intron\",\"HSS1\",suff; limit = limit),\n",
    "    pair_summary(\"../CompleteSets/linkedlocus/\",\"Peli1_intron\",\"Enh\",suff; limit = limit)\n",
    ")\n",
    "\n",
    "CSV.write(\"CellAndPairNumbersForCumplotFigure_limit1.csv\", sumtb)\n",
    "\n",
    "sumtb"
   ]
  },
  {
   "cell_type": "code",
   "execution_count": 38,
   "metadata": {},
   "outputs": [
    {
     "name": "stdout",
     "output_type": "stream",
     "text": [
      "\u001b[32m\u001b[1m      Status\u001b[22m\u001b[39m `~/.julia/environments/v1.6/Project.toml`\n",
      " \u001b[90m [7e6ae17a] \u001b[39mBioSequences v2.0.5\n",
      " \u001b[90m [336ed68f] \u001b[39mCSV v0.9.11\n",
      " \u001b[90m [8f4d0f93] \u001b[39mConda v1.5.2\n",
      " \u001b[90m [a93c6f00] \u001b[39mDataFrames v1.2.2\n",
      " \u001b[90m [31c24e10] \u001b[39mDistributions v0.25.28\n",
      " \u001b[90m [c2308a5c] \u001b[39mFASTX v1.2.0\n",
      " \u001b[90m [09f84164] \u001b[39mHypothesisTests v0.10.6\n",
      " \u001b[90m [7073ff75] \u001b[39mIJulia v1.23.2\n",
      " \u001b[90m [916415d5] \u001b[39mImages v0.24.1\n",
      " \u001b[90m [f8716d33] \u001b[39mMultipleTesting v0.5.0\n",
      " \u001b[90m [92933f4c] \u001b[39mProgressMeter v1.7.1\n",
      " \u001b[90m [d330b81b] \u001b[39mPyPlot v2.10.0\n",
      " \u001b[90m [6f49c342] \u001b[39mRCall v0.13.12\n",
      " \u001b[90m [d2ef9438] \u001b[39mSeaborn v1.0.0\n",
      " \u001b[90m [2913bbd2] \u001b[39mStatsBase v0.33.13\n"
     ]
    }
   ],
   "source": [
    "import Pkg; Pkg.status()"
   ]
  }
 ],
 "metadata": {
  "kernelspec": {
   "display_name": "Julia 1.6.3",
   "language": "julia",
   "name": "julia-1.6"
  },
  "language_info": {
   "file_extension": ".jl",
   "mimetype": "application/julia",
   "name": "julia",
   "version": "1.6.3"
  }
 },
 "nbformat": 4,
 "nbformat_minor": 4
}
