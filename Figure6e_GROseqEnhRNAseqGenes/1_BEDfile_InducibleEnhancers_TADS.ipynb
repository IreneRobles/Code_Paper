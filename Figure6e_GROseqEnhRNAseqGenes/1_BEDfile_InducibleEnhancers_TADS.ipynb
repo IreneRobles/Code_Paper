{
 "cells": [
  {
   "cell_type": "markdown",
   "metadata": {},
   "source": [
    "# InducibleGenes down in Rad21KO and the enhancers in the same TAD\n",
    "\n",
    "\n",
    "SUBSETS:\n",
    "- Gene subset = 723 genes inducible in WT (RNAseq WT 2hLPS vs WT UT) that are downreguated in the Rad21KO after 2h LPS\n",
    "    - 341 associate to an inducible enhancer in the same TAD.\n",
    "- Enhancer subset = 1,203 intergenic otsuni enhancers upregulated by LPS (GROseq WT 1hLPS vs WT UT), \n",
    "    - 1087 of them are in the same TAD as an inducible gene.\n"
   ]
  },
  {
   "cell_type": "code",
   "execution_count": 1,
   "metadata": {},
   "outputs": [
    {
     "name": "stderr",
     "output_type": "stream",
     "text": [
      "┌ Info: Installing pyqt package to avoid buggy tkagg backend.\n",
      "└ @ PyPlot /Users/irene/.julia/packages/PyPlot/XaELc/src/init.jl:118\n"
     ]
    },
    {
     "data": {
      "text/plain": [
       "maketablesforanalysis (generic function with 1 method)"
      ]
     },
     "execution_count": 1,
     "metadata": {},
     "output_type": "execute_result"
    }
   ],
   "source": [
    "ENV[\"Code\"] = \"../../Code\"\n",
    "for folder in readdir(ENV[\"Code\"]); push!(LOAD_PATH, normpath(ENV[\"Code\"], folder));end\n",
    "\n",
    "using DataFrames,CSV,Seaborn,Statistics\n",
    "using NoLongerProblems, PrettyPlotting, NoLongerProblems_Pandas\n",
    "using PyCall, RCall\n",
    "import Pandas \n",
    "\n",
    "include(ENV[\"Code\"]*\"/../Code_Paper/Databases/Cuartero2018.jl\")\n",
    "include(ENV[\"Code\"]*\"/../Code_Paper/Code/GenomicTracks.jl\")\n",
    "include(\"Functions.jl\")"
   ]
  },
  {
   "cell_type": "markdown",
   "metadata": {},
   "source": [
    "### Generate BED file wit WT otsuni intergenic inducible enhancers "
   ]
  },
  {
   "cell_type": "code",
   "execution_count": 2,
   "metadata": {},
   "outputs": [
    {
     "name": "stdout",
     "output_type": "stream",
     "text": [
      "    enhancers considered (Rad21KO 1hLPS vs WT): 1112\n",
      "\t    n DE = 67\n",
      "\t    n up = 3\n",
      "\t    n down = 64\n",
      "    \n"
     ]
    }
   ],
   "source": [
    "# Otsuni Enhancers\n",
    "enhancers = Cuartero2018.otsuni_enhancers()\n",
    "enhancers[!,:coordinates] = \"chr\".*string.(enhancers[!,:chr]) .* \":\" .* string.(enhancers[!,:start]) .* \"-\" .* string.(enhancers[!,:end])\n",
    "bed_writer_cols(enhancers, \"../../Code_Paper/Databases/Cuartero2018/OtsuniEnhancers.bed\", chr = :chr, start_ = :start, end_ = :end)\n",
    "\n",
    "# GROseq Inducible Enhancers\n",
    "gro_enh = Cuartero2018.get_DESEq_OTSUNIENH(\"WT1\", \"WT0\")\n",
    "# Intergenic\n",
    "gro_enh = gro_enh[gro_enh[!,:Inter_Intragenic].== \"Intergenic\", :]\n",
    "bed_writer_cols(gro_enh, \"../../Code_Paper/Databases/Cuartero2018/Transcribed_OtsuniEnhancersWT.bed\", chr = :chr, start_ = :start, end_ = :end);\n",
    "# upregulated after LPS\n",
    "gro_enh = gro_enh[gro_enh[!,:log2FoldChange_Enh].>0, :]\n",
    "# DE after LPS\n",
    "gro_enh = gro_enh[gro_enh[!,:padj_Enh].<0.05, :]\n",
    "bed_writer_cols(gro_enh, \"../../Code_Paper/Databases/Cuartero2018/IntergenicGROseqInducible_OtsuniEnhancersWT.bed\", chr = :chr, start_ = :start, end_ = :end);\n",
    "gro_enh_wtKO = Cuartero2018.get_DESEq_OTSUNIENH(\"FL1\", \"WT1\")\n",
    "\n",
    "test = innerjoin(gro_enh[:, [:coordinates]], gro_enh_wtKO, on = :coordinates); n = nrow(test)\n",
    "\n",
    "testde = test[test[!,:padj_Enh].< 0.05, :]; nde = nrow(testde)\n",
    "testdeup = testde[testde[!,:log2FoldChange_Enh].> 0, :] ; nup = nrow(testdeup)\n",
    "testdown = testde[testde[!,:log2FoldChange_Enh].< 0, :] ; ndown = nrow(testdown)\n",
    "\n",
    "bed_writer_cols(testde, \"../../Code_Paper/Databases/Cuartero2018/IntergenicGROseqInducible_OtsuniEnhancers_DE_Rad21KO1HLPS.bed\", chr = :chr, start_ = :start, end_ = :end)\n",
    "bed_writer_cols(testdown, \"../../Code_Paper/Databases/Cuartero2018/IntergenicGROseqInducible_OtsuniEnhancers_down_Rad21KO1HLPS.bed\", chr = :chr, start_ = :start, end_ = :end)\n",
    "bed_writer_cols(testdeup, \"../../Code_Paper/Databases/Cuartero2018/IntergenicGROseqInducible_OtsuniEnhancers_up_Rad21KO1HLPS.bed\", chr = :chr, start_ = :start, end_ = :end)\n",
    "\n",
    "println(\"\"\"\n",
    "    enhancers considered (Rad21KO 1hLPS vs WT): $n\n",
    "\\t    n DE = $nde\n",
    "\\t    n up = $nup\n",
    "\\t    n down = $ndown\n",
    "    \"\"\")"
   ]
  },
  {
   "cell_type": "markdown",
   "metadata": {},
   "source": [
    "### Generate Gene Sets"
   ]
  },
  {
   "cell_type": "code",
   "execution_count": 3,
   "metadata": {},
   "outputs": [],
   "source": [
    "rnawtko = Cuartero2018.Cuartero2018Deseq(sample1 = \"FL2\",sample2 = \"WT2\")\n",
    "rnawtko = rnawtko[(rnawtko[!,:log2FoldChange].<0).*(rnawtko[!,:padj].<0.05), :]\n",
    "rnawt = Cuartero2018.Cuartero2018Deseq(sample1 = \"WT2\",sample2 = \"WTUT\")\n",
    "rnawt = rnawt[(rnawt[!,:log2FoldChange].>0).*(rnawt[!,:padj].<0.05), :]\n",
    "geneset = intersect(rnawt[:, :GeneSymbol], rnawtko[:, :GeneSymbol])\n",
    "\n",
    "# Generate RNAseq tables\n",
    "rnawt = Cuartero2018.Cuartero2018Deseq(sample1 = \"WT2\",sample2 = \"WTUT\")\n",
    "    rename!(rnawt, :log2FoldChange => :log2FoldChange_Gene)\n",
    "    rename!(rnawt, :padj => :padj_Gene)\n",
    "\n",
    "rnako = Cuartero2018.Cuartero2018Deseq(sample1 = \"FL2\",sample2 = \"FLUT\")\n",
    "    rename!(rnako, :log2FoldChange => :log2FoldChange_Gene)\n",
    "    rename!(rnako, :padj => :padj_Gene)\n",
    "\n",
    "# Generate enhancer tables, make sure we are considering the same enhancers\n",
    "gro_enhWT = gro_enh\n",
    "gro_enhRad21KO = Cuartero2018.get_DESEq_OTSUNIENH(\"FL1\", \"FL0\")\n",
    "gro_enhRad21KO = innerjoin(gro_enhRad21KO, gro_enhWT[!,[:coordinates]], on = :coordinates);\n"
   ]
  },
  {
   "cell_type": "markdown",
   "metadata": {},
   "source": [
    "### Make tables for figures"
   ]
  },
  {
   "cell_type": "code",
   "execution_count": 4,
   "metadata": {},
   "outputs": [
    {
     "ename": "LoadError",
     "evalue": "UndefVarError: ProcessedData_mm9 not defined",
     "output_type": "error",
     "traceback": [
      "UndefVarError: ProcessedData_mm9 not defined",
      "",
      "Stacktrace:",
      " [1] maketablesforanalysis(gro_gene::DataFrames.DataFrame, gro_enh::DataFrames.DataFrame, filename::String, genotype::String; contacts::Bool)",
      "   @ Main ~/OneDrive - Imperial College London/Code_Paper/Figure6e_GROseqEnhRNAseqGenes/Functions.jl:51",
      " [2] maketablesforanalysis(gro_gene::DataFrames.DataFrame, gro_enh::DataFrames.DataFrame, filename::String, genotype::String)",
      "   @ Main ~/OneDrive - Imperial College London/Code_Paper/Figure6e_GROseqEnhRNAseqGenes/Functions.jl:50",
      " [3] top-level scope",
      "   @ In[4]:6",
      " [4] eval",
      "   @ ./boot.jl:360 [inlined]",
      " [5] include_string(mapexpr::typeof(REPL.softscope), mod::Module, code::String, filename::String)",
      "   @ Base ./loading.jl:1094"
     ]
    },
    {
     "name": "stderr",
     "output_type": "stream",
     "text": [
      "WARNING: both Pandas and DataFrames export \"DataFrame\"; uses of it in module NoLongerProblems_Pandas must be qualified\n",
      "WARNING: both NoLongerProblems_Pandas and DataFrames export \"DataFrame\"; uses of it in module Main must be qualified\n"
     ]
    }
   ],
   "source": [
    "gro_gene = rnawt\n",
    "gro_enh = gro_enhWT\n",
    "filename = \"GeneRNAseqEnhGROseqlog2FC_WT.csv\"\n",
    "genotype = \"WT\"\n",
    "\n",
    "tbwt = maketablesforanalysis(gro_gene, gro_enh, filename, genotype)\n",
    "\n",
    "\n",
    "gro_gene = rnako\n",
    "gro_enh = gro_enhRad21KO\n",
    "filename = \"GeneRNAseqEnhGROseqlog2FC_Rad21KO.csv\"\n",
    "genotype = \"Rad21KO\"\n",
    "\n",
    "tbko = maketablesforanalysis(gro_gene, gro_enh, filename, genotype);"
   ]
  },
  {
   "cell_type": "markdown",
   "metadata": {},
   "source": [
    "### Analysis using the mean Enhlog2FoldChange per gene "
   ]
  },
  {
   "cell_type": "code",
   "execution_count": 5,
   "metadata": {},
   "outputs": [
    {
     "ename": "LoadError",
     "evalue": "UndefVarError: tbwt not defined",
     "output_type": "error",
     "traceback": [
      "UndefVarError: tbwt not defined",
      "",
      "Stacktrace:",
      " [1] top-level scope",
      "   @ In[5]:1",
      " [2] eval",
      "   @ ./boot.jl:360 [inlined]",
      " [3] include_string(mapexpr::typeof(REPL.softscope), mod::Module, code::String, filename::String)",
      "   @ Base ./loading.jl:1094"
     ]
    }
   ],
   "source": [
    "tb = tbwt\n",
    "f = mean\n",
    "genes = unique(tb[!,:GeneSymbol])\n",
    "FC_gene = [f(tb[tb[!,:GeneSymbol].==ii, :Genelog2FoldChange]) for ii in genes]\n",
    "FC_enh = [f(tb[tb[!,:GeneSymbol].==ii, :Enhlog2FoldChange]) for ii in genes]\n",
    "\n",
    "x = FC_gene\n",
    "y = FC_enh\n",
    "\n",
    "using RCall\n",
    "println(\"WT correlation test (mean Enhlog2FoldChange per gene)\")\n",
    "println(R\"\"\"\n",
    "cor.test($x, $y,)\n",
    "\"\"\")\n",
    "\n",
    "wttb = DataFrames.DataFrame(\n",
    "    GeneSymbol = genes,\n",
    "    Genelog2FoldChange = FC_gene,\n",
    "    Enhlog2FoldChange = FC_enh,\n",
    "    Genotype = [\"WT\" for ii in FC_enh],\n",
    ");\n",
    "\n",
    "tb = tbko\n",
    "genes = unique(tb[!,:GeneSymbol])\n",
    "FC_gene = [f(tb[tb[!,:GeneSymbol].==ii, :Genelog2FoldChange]) for ii in genes]\n",
    "FC_enh = [f(tb[tb[!,:GeneSymbol].==ii, :Enhlog2FoldChange]) for ii in genes]\n",
    "\n",
    "x = FC_gene\n",
    "y = FC_enh\n",
    "\n",
    "println(\"Rad21KO correlation test (mean Enhlog2FoldChange per gene)\")\n",
    "println(R\"\"\"\n",
    "cor.test($x, $y,)\n",
    "\"\"\")\n",
    "\n",
    "kotb = DataFrames.DataFrame(\n",
    "    GeneSymbol = genes,\n",
    "    Genelog2FoldChange = FC_gene,\n",
    "    Enhlog2FoldChange = FC_enh,\n",
    "    Genotype = [\"Rad21KO\" for ii in FC_enh],\n",
    ");\n",
    "\n",
    "\n"
   ]
  },
  {
   "cell_type": "code",
   "execution_count": 6,
   "metadata": {},
   "outputs": [
    {
     "ename": "LoadError",
     "evalue": "UndefVarError: wttb not defined",
     "output_type": "error",
     "traceback": [
      "UndefVarError: wttb not defined",
      "",
      "Stacktrace:",
      " [1] top-level scope",
      "   @ In[6]:1",
      " [2] eval",
      "   @ ./boot.jl:360 [inlined]",
      " [3] include_string(mapexpr::typeof(REPL.softscope), mod::Module, code::String, filename::String)",
      "   @ Base ./loading.jl:1094"
     ]
    }
   ],
   "source": [
    "t = vcat(wttb, kotb)\n",
    "println(\"2-way ANOVA (Genelog2FoldChange~Enhlog2FoldChange*Genotype+GeneSymbol)\")\n",
    "println(R\"\"\"\n",
    "t = $t\n",
    "aov.s = lm(Genelog2FoldChange~Enhlog2FoldChange*Genotype+GeneSymbol, data = t)\n",
    "summary(aov(aov.s))\n",
    "\"\"\")"
   ]
  },
  {
   "cell_type": "code",
   "execution_count": 7,
   "metadata": {},
   "outputs": [
    {
     "ename": "LoadError",
     "evalue": "UndefVarError: t not defined",
     "output_type": "error",
     "traceback": [
      "UndefVarError: t not defined",
      "",
      "Stacktrace:",
      " [1] top-level scope",
      "   @ In[7]:4",
      " [2] eval",
      "   @ ./boot.jl:360 [inlined]",
      " [3] include_string(mapexpr::typeof(REPL.softscope), mod::Module, code::String, filename::String)",
      "   @ Base ./loading.jl:1094"
     ]
    }
   ],
   "source": [
    "import Pandas\n",
    "using NoLongerProblems_Pandas\n",
    "\n",
    "pd = Pandas.DataFrame(t)\n",
    "Seaborn.lmplot(data = pd, x = \"Enhlog2FoldChange\", y = \"Genelog2FoldChange\", hue = \"Genotype\", palette = [\"gray\", \"red\"], \n",
    "    scatter_kws = Dict(\"s\"=>5))\n",
    "ylim(0, 6)\n",
    "xlim(0, 6)\n",
    "squareplot()\n",
    "savefigwithtext(\"GeneFCvsEnhFC_GenevsMeanTADEnh.svg\")"
   ]
  },
  {
   "cell_type": "markdown",
   "metadata": {},
   "source": [
    "### Analysis using all Enhlog2FoldChange per gene \n",
    "(unique gene-enh pairs, but their values duplicate if there are several genes or several enhancers in a TAD)"
   ]
  },
  {
   "cell_type": "code",
   "execution_count": 8,
   "metadata": {},
   "outputs": [
    {
     "ename": "LoadError",
     "evalue": "UndefVarError: tbwt not defined",
     "output_type": "error",
     "traceback": [
      "UndefVarError: tbwt not defined",
      "",
      "Stacktrace:",
      " [1] top-level scope",
      "   @ In[8]:1",
      " [2] eval",
      "   @ ./boot.jl:360 [inlined]",
      " [3] include_string(mapexpr::typeof(REPL.softscope), mod::Module, code::String, filename::String)",
      "   @ Base ./loading.jl:1094"
     ]
    }
   ],
   "source": [
    "tb = tbwt\n",
    "tb = tb[.!isnan.(tb[!,:Genelog2FoldChange]), :]\n",
    "x = tb[!,:Genelog2FoldChange]\n",
    "y = tb[!,:Enhlog2FoldChange]\n",
    "\n",
    "using RCall\n",
    "\n",
    "println(\"WT correlation test with duplicated values but unique pairs\")\n",
    "println(R\"\"\"\n",
    "cor.test($x, $y,)\n",
    "\"\"\")\n",
    "\n",
    "tb = tbko\n",
    "tb = tb[.!isnan.(tb[!,:Genelog2FoldChange]), :]\n",
    "x = tb[!,:Genelog2FoldChange]\n",
    "y = tb[!,:Enhlog2FoldChange]\n",
    "\n",
    "using RCall\n",
    "\n",
    "println(\"Rad21KO correlation test with duplicated values but unique pairs\")\n",
    "println(R\"\"\"\n",
    "cor.test($x, $y,)\n",
    "\"\"\")"
   ]
  },
  {
   "cell_type": "code",
   "execution_count": 9,
   "metadata": {},
   "outputs": [
    {
     "ename": "LoadError",
     "evalue": "UndefVarError: tbwt not defined",
     "output_type": "error",
     "traceback": [
      "UndefVarError: tbwt not defined",
      "",
      "Stacktrace:",
      " [1] top-level scope",
      "   @ In[9]:1",
      " [2] eval",
      "   @ ./boot.jl:360 [inlined]",
      " [3] include_string(mapexpr::typeof(REPL.softscope), mod::Module, code::String, filename::String)",
      "   @ Base ./loading.jl:1094"
     ]
    }
   ],
   "source": [
    "t = vcat(tbwt, tbko, )\n",
    "\n",
    "println(\"2-way ANOVA (Genelog2FoldChange~Enhlog2FoldChange*Genotype+GeneSymbol)\")\n",
    "println(R\"\"\"\n",
    "t = $t\n",
    "aov.s = lm(Genelog2FoldChange~Enhlog2FoldChange*Genotype+GeneSymbol, data = t)\n",
    "summary(aov(aov.s))\n",
    "\"\"\")"
   ]
  },
  {
   "cell_type": "code",
   "execution_count": 10,
   "metadata": {},
   "outputs": [
    {
     "ename": "LoadError",
     "evalue": "UndefVarError: t not defined",
     "output_type": "error",
     "traceback": [
      "UndefVarError: t not defined",
      "",
      "Stacktrace:",
      " [1] top-level scope",
      "   @ In[10]:5",
      " [2] eval",
      "   @ ./boot.jl:360 [inlined]",
      " [3] include_string(mapexpr::typeof(REPL.softscope), mod::Module, code::String, filename::String)",
      "   @ Base ./loading.jl:1094"
     ]
    }
   ],
   "source": [
    "import Pandas\n",
    "using NoLongerProblems_Pandas\n",
    "\n",
    "\n",
    "pd = Pandas.DataFrame(t)\n",
    "Seaborn.lmplot(data = pd, x = \"Enhlog2FoldChange\", y = \"Genelog2FoldChange\", hue = \"Genotype\", palette = [\"gray\", \"red\"], \n",
    "    scatter_kws = Dict(\"s\"=>5))\n",
    "ylim(0, 6)\n",
    "xlim(0, 6)\n",
    "squareplot()"
   ]
  },
  {
   "cell_type": "code",
   "execution_count": 11,
   "metadata": {},
   "outputs": [
    {
     "name": "stdout",
     "output_type": "stream",
     "text": [
      "\u001b[32m\u001b[1m      Status\u001b[22m\u001b[39m `~/.julia/environments/v1.6/Project.toml`\n",
      " \u001b[90m [336ed68f] \u001b[39m\u001b[37mCSV v0.10.2\u001b[39m\n",
      " \u001b[90m [a93c6f00] \u001b[39m\u001b[37mDataFrames v1.3.2\u001b[39m\n",
      " \u001b[90m [31c24e10] \u001b[39m\u001b[37mDistributions v0.25.48\u001b[39m\n",
      " \u001b[90m [c2308a5c] \u001b[39m\u001b[37mFASTX v1.2.0\u001b[39m\n",
      " \u001b[90m [53c48c17] \u001b[39m\u001b[37mFixedPointNumbers v0.8.4\u001b[39m\n",
      " \u001b[90m [09f84164] \u001b[39m\u001b[37mHypothesisTests v0.10.6\u001b[39m\n",
      " \u001b[90m [7073ff75] \u001b[39m\u001b[37mIJulia v1.23.2\u001b[39m\n",
      " \u001b[90m [6a3955dd] \u001b[39m\u001b[37mImageFiltering v0.7.1\u001b[39m\n",
      " \u001b[90m [6218d12a] \u001b[39m\u001b[37mImageMagick v1.2.2\u001b[39m\n",
      " \u001b[90m [86fae568] \u001b[39m\u001b[37mImageView v0.10.15\u001b[39m\n",
      " \u001b[90m [916415d5] \u001b[39m\u001b[37mImages v0.25.1\u001b[39m\n",
      " \u001b[90m [96684042] \u001b[39m\u001b[37mInformationMeasures v0.3.1\u001b[39m\n",
      " \u001b[90m [4138dd39] \u001b[39m\u001b[37mJLD v0.13.1\u001b[39m\n",
      " \u001b[90m [093fc24a] \u001b[39m\u001b[37mLightGraphs v1.3.5\u001b[39m\n",
      " \u001b[90m [10e44e05] \u001b[39m\u001b[37mMATLAB v0.8.2\u001b[39m\n",
      " \u001b[90m [f8716d33] \u001b[39m\u001b[37mMultipleTesting v0.5.0\u001b[39m\n",
      " \u001b[90m [eadc2687] \u001b[39m\u001b[37mPandas v1.5.3\u001b[39m\n",
      " \u001b[90m [91a5bcdd] \u001b[39m\u001b[37mPlots v1.25.8\u001b[39m\n",
      " \u001b[90m [92933f4c] \u001b[39m\u001b[37mProgressMeter v1.7.1\u001b[39m\n",
      " \u001b[90m [438e738f] \u001b[39m\u001b[37mPyCall v1.93.0\u001b[39m\n",
      " \u001b[90m [d330b81b] \u001b[39m\u001b[37mPyPlot v2.10.0\u001b[39m\n",
      " \u001b[90m [6f49c342] \u001b[39m\u001b[37mRCall v0.13.13\u001b[39m\n",
      " \u001b[90m [3646fa90] \u001b[39m\u001b[37mScikitLearn v0.6.4\u001b[39m\n",
      " \u001b[90m [d2ef9438] \u001b[39m\u001b[37mSeaborn v1.0.0\u001b[39m\n",
      " \u001b[90m [2913bbd2] \u001b[39m\u001b[37mStatsBase v0.33.14\u001b[39m\n"
     ]
    }
   ],
   "source": [
    "import Pkg; Pkg.status()"
   ]
  }
 ],
 "metadata": {
  "kernelspec": {
   "display_name": "Julia 1.6.0",
   "language": "julia",
   "name": "julia-1.6"
  },
  "language_info": {
   "file_extension": ".jl",
   "mimetype": "application/julia",
   "name": "julia",
   "version": "1.6.0"
  }
 },
 "nbformat": 4,
 "nbformat_minor": 4
}
