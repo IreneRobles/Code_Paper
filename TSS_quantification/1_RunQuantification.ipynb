{
 "cells": [
  {
   "cell_type": "code",
   "execution_count": 1,
   "metadata": {},
   "outputs": [
    {
     "data": {
      "text/plain": [
       "255"
      ]
     },
     "execution_count": 1,
     "metadata": {},
     "output_type": "execute_result"
    }
   ],
   "source": [
    "nor = 255"
   ]
  },
  {
   "cell_type": "code",
   "execution_count": 2,
   "metadata": {},
   "outputs": [
    {
     "name": "stderr",
     "output_type": "stream",
     "text": [
      "┌ Info: Precompiling NoLongerProblems [82dfab41-d1ab-4f21-ac61-499025515bd6]\n",
      "└ @ Base loading.jl:1342\n",
      "┌ Info: Precompiling FQfiles [top-level]\n",
      "└ @ Base loading.jl:1342\n",
      "WARNING: replacing module TSSs.\n",
      "\u001b[32mProgress: 100%|█████████████████████████████████████████| Time: 1:17:10\u001b[39m\n",
      "\u001b[32mProgress: 100%|█████████████████████████████████████████| Time: 0:20:50\u001b[39m\n",
      "\u001b[32mProgress: 100%|█████████████████████████████████████████| Time: 0:27:57\u001b[39m\n",
      "WARNING: both Pandas and DataFrames export \"DataFrame\"; uses of it in module NoLongerProblems_Pandas must be qualified\n"
     ]
    },
    {
     "data": {
      "text/plain": [
       "\"Ifit1/Ifit1_exp3_FQ.csv\""
      ]
     },
     "execution_count": 2,
     "metadata": {},
     "output_type": "execute_result"
    }
   ],
   "source": [
    "include(\"StandardCode.jl\")\n",
    "include(\"Ifit1.jl\")"
   ]
  },
  {
   "cell_type": "code",
   "execution_count": 14,
   "metadata": {},
   "outputs": [
    {
     "name": "stderr",
     "output_type": "stream",
     "text": [
      "WARNING: replacing module TSSs.\n",
      "\u001b[32mProgress: 100%|█████████████████████████████████████████| Time: 1:00:50\u001b[39m\n",
      "\u001b[32mProgress: 100%|█████████████████████████████████████████| Time: 0:51:25\u001b[39m\n",
      "\u001b[32mProgress: 100%|█████████████████████████████████████████| Time: 0:54:57\u001b[39m\n",
      "\u001b[32mProgress: 100%|█████████████████████████████████████████| Time: 0:44:06\u001b[39m\n"
     ]
    },
    {
     "data": {
      "text/plain": [
       "\"Cxcl10/Cxcl10_exp4_FQ.csv\""
      ]
     },
     "execution_count": 14,
     "metadata": {},
     "output_type": "execute_result"
    }
   ],
   "source": [
    "include(\"StandardCode.jl\")\n",
    "include(\"Cxcl10.jl\")"
   ]
  },
  {
   "cell_type": "code",
   "execution_count": 13,
   "metadata": {},
   "outputs": [
    {
     "name": "stderr",
     "output_type": "stream",
     "text": [
      "WARNING: replacing module TSSs.\n",
      "\u001b[32mProgress: 100%|█████████████████████████████████████████| Time: 0:19:13\u001b[39m\n",
      "\u001b[32mProgress: 100%|█████████████████████████████████████████| Time: 0:24:19\u001b[39m\n",
      "\u001b[32mProgress: 100%|█████████████████████████████████████████| Time: 0:11:58\u001b[39m\n",
      "\u001b[32mProgress: 100%|█████████████████████████████████████████| Time: 0:11:29\u001b[39m\n"
     ]
    },
    {
     "data": {
      "text/plain": [
       "\"Il12b_original/Il12b_intron_original_exp4_CP.csv\""
      ]
     },
     "execution_count": 13,
     "metadata": {},
     "output_type": "execute_result"
    }
   ],
   "source": [
    "include(\"StandardCode.jl\")\n",
    "include(\"Il12b_original.jl\")"
   ]
  },
  {
   "cell_type": "code",
   "execution_count": 12,
   "metadata": {},
   "outputs": [
    {
     "name": "stderr",
     "output_type": "stream",
     "text": [
      "WARNING: replacing module TSSs.\n",
      "\u001b[32mProgress: 100%|█████████████████████████████████████████| Time: 0:15:55\u001b[39m\n",
      "\u001b[32mProgress: 100%|█████████████████████████████████████████| Time: 0:29:26\u001b[39m\n",
      "\u001b[32mProgress: 100%|█████████████████████████████████████████| Time: 0:27:08\u001b[39m\n"
     ]
    },
    {
     "data": {
      "text/plain": [
       "\"Peli1_original/Peli1_intron_original_exp3_FQ_mature.csv\""
      ]
     },
     "execution_count": 12,
     "metadata": {},
     "output_type": "execute_result"
    }
   ],
   "source": [
    "include(\"StandardCode.jl\")\n",
    "include(\"Peli1_original.jl\")"
   ]
  },
  {
   "cell_type": "code",
   "execution_count": 3,
   "metadata": {},
   "outputs": [
    {
     "name": "stderr",
     "output_type": "stream",
     "text": [
      "WARNING: replacing module TSSs.\n",
      "\u001b[32mProgress: 100%|█████████████████████████████████████████| Time: 0:14:27\u001b[39m\n",
      "\u001b[32mProgress: 100%|█████████████████████████████████████████| Time: 0:26:49\u001b[39m\n",
      "\u001b[32mProgress: 100%|█████████████████████████████████████████| Time: 0:17:23\u001b[39m\n"
     ]
    },
    {
     "data": {
      "text/plain": [
       "\"Ifnb1_original/Ifnb1_original_exp3_FQ.csv\""
      ]
     },
     "execution_count": 3,
     "metadata": {},
     "output_type": "execute_result"
    }
   ],
   "source": [
    "include(\"StandardCode.jl\")\n",
    "include(\"Ifnb1_original.jl\")"
   ]
  },
  {
   "cell_type": "code",
   "execution_count": 11,
   "metadata": {},
   "outputs": [
    {
     "name": "stderr",
     "output_type": "stream",
     "text": [
      "WARNING: replacing module TSSs.\n",
      "\u001b[32mProgress: 100%|█████████████████████████████████████████| Time: 0:29:53\u001b[39m\n",
      "\u001b[32mProgress: 100%|█████████████████████████████████████████| Time: 0:26:41\u001b[39m\n",
      "\u001b[32mProgress: 100%|█████████████████████████████████████████| Time: 0:27:46\u001b[39m\n",
      "\u001b[32mProgress: 100%|█████████████████████████████████████████| Time: 0:22:41\u001b[39m\n",
      "\u001b[32mProgress: 100%|█████████████████████████████████████████| Time: 0:16:00\u001b[39m\n",
      "\u001b[32mProgress: 100%|█████████████████████████████████████████| Time: 0:21:03\u001b[39m\n",
      "\u001b[32mProgress: 100%|█████████████████████████████████████████| Time: 0:07:36\u001b[39m\n",
      "\u001b[32mProgress: 100%|█████████████████████████████████████████| Time: 0:20:15\u001b[39m\n"
     ]
    },
    {
     "data": {
      "text/plain": [
       "\"Ifnb1L2/L2_exp2_FQ.csv\""
      ]
     },
     "execution_count": 11,
     "metadata": {},
     "output_type": "execute_result"
    }
   ],
   "source": [
    "include(\"StandardCode.jl\")\n",
    "include(\"Egr2_Ifnb1L2.jl\")"
   ]
  },
  {
   "cell_type": "code",
   "execution_count": 10,
   "metadata": {},
   "outputs": [
    {
     "name": "stderr",
     "output_type": "stream",
     "text": [
      "WARNING: replacing module TSSs.\n",
      "\u001b[32mProgress: 100%|█████████████████████████████████████████| Time: 0:24:49\u001b[39m\n",
      "\u001b[32mProgress: 100%|█████████████████████████████████████████| Time: 0:31:46\u001b[39m\n",
      "\u001b[32mProgress: 100%|█████████████████████████████████████████| Time: 0:25:08\u001b[39m\n",
      "\u001b[32mProgress: 100%|█████████████████████████████████████████| Time: 0:27:42\u001b[39m\n",
      "\u001b[32mProgress: 100%|█████████████████████████████████████████| Time: 0:23:18\u001b[39m\n",
      "\u001b[32mProgress: 100%|█████████████████████████████████████████| Time: 0:34:30\u001b[39m\n"
     ]
    },
    {
     "data": {
      "text/plain": [
       "\"EhnPeliSertad/Sertad2_intron_exp2_FQ.csv\""
      ]
     },
     "execution_count": 10,
     "metadata": {},
     "output_type": "execute_result"
    }
   ],
   "source": [
    "include(\"StandardCode.jl\")\n",
    "include(\"EnhPeliSertad.jl\")"
   ]
  },
  {
   "cell_type": "code",
   "execution_count": 9,
   "metadata": {},
   "outputs": [
    {
     "name": "stderr",
     "output_type": "stream",
     "text": [
      "WARNING: replacing module TSSs.\n",
      "\u001b[32mProgress: 100%|█████████████████████████████████████████| Time: 0:29:31\u001b[39m\n",
      "\u001b[32mProgress: 100%|█████████████████████████████████████████| Time: 0:09:49\u001b[39m\n",
      "\u001b[32mProgress: 100%|█████████████████████████████████████████| Time: 0:18:13\u001b[39m\n",
      "\u001b[32mProgress: 100%|█████████████████████████████████████████| Time: 0:06:09\u001b[39m\n",
      "\u001b[32mProgress: 100%|█████████████████████████████████████████| Time: 0:27:28\u001b[39m\n",
      "\u001b[32mProgress: 100%|█████████████████████████████████████████| Time: 0:12:37\u001b[39m\n"
     ]
    },
    {
     "data": {
      "text/plain": [
       "\"Il12bHSS1/Il12b_intron_exp2_FQ.csv\""
      ]
     },
     "execution_count": 9,
     "metadata": {},
     "output_type": "execute_result"
    }
   ],
   "source": [
    "include(\"StandardCode.jl\")\n",
    "include(\"Il12bHSS1.jl\")"
   ]
  },
  {
   "cell_type": "code",
   "execution_count": 8,
   "metadata": {},
   "outputs": [
    {
     "name": "stderr",
     "output_type": "stream",
     "text": [
      "WARNING: replacing module TSSs.\n",
      "\u001b[32mProgress: 100%|█████████████████████████████████████████| Time: 0:31:53\u001b[39m\n",
      "\u001b[32mProgress: 100%|█████████████████████████████████████████| Time: 0:21:33\u001b[39m\n",
      "\u001b[32mProgress: 100%|█████████████████████████████████████████| Time: 0:31:03\u001b[39m\n",
      "\u001b[32mProgress: 100%|█████████████████████████████████████████| Time: 0:26:36\u001b[39m\n"
     ]
    },
    {
     "data": {
      "text/plain": [
       "\"Il12bHSS1/Il12b_intron_timecourse_exp2_FQ.csv\""
      ]
     },
     "execution_count": 8,
     "metadata": {},
     "output_type": "execute_result"
    }
   ],
   "source": [
    "include(\"StandardCode.jl\")\n",
    "include(\"Il12bHSS1_timecourse.jl\")"
   ]
  },
  {
   "cell_type": "code",
   "execution_count": 7,
   "metadata": {},
   "outputs": [
    {
     "name": "stderr",
     "output_type": "stream",
     "text": [
      "WARNING: replacing module TSSs.\n",
      "\u001b[32mProgress: 100%|█████████████████████████████████████████| Time: 0:28:14\u001b[39m\n",
      "\u001b[32mProgress: 100%|█████████████████████████████████████████| Time: 0:34:46\u001b[39m\n",
      "\u001b[32mProgress: 100%|█████████████████████████████████████████| Time: 0:41:55\u001b[39m\n",
      "\u001b[32mProgress: 100%|█████████████████████████████████████████| Time: 0:44:38\u001b[39m\n",
      "\u001b[32mProgress: 100%|█████████████████████████████████████████| Time: 0:24:54\u001b[39m\n",
      "\u001b[32mProgress: 100%|█████████████████████████████████████████| Time: 0:34:37\u001b[39m\n",
      "\u001b[32mProgress: 100%|█████████████████████████████████████████| Time: 0:31:41\u001b[39m\n",
      "\u001b[32mProgress: 100%|█████████████████████████████████████████| Time: 0:40:37\u001b[39m\n"
     ]
    },
    {
     "data": {
      "text/plain": [
       "\"Egr2/Egr2_enh_BD_exp4_FQ.csv\""
      ]
     },
     "execution_count": 7,
     "metadata": {},
     "output_type": "execute_result"
    }
   ],
   "source": [
    "include(\"StandardCode.jl\")\n",
    "include(\"Egr2_BD.jl\")"
   ]
  },
  {
   "cell_type": "code",
   "execution_count": 2,
   "metadata": {},
   "outputs": [
    {
     "name": "stderr",
     "output_type": "stream",
     "text": [
      "\u001b[32mProgress: 100%|█████████████████████████████████████████| Time: 0:19:11\u001b[39m\n",
      "WARNING: both Pandas and DataFrames export \"DataFrame\"; uses of it in module NoLongerProblems_Pandas must be qualified\n",
      "\u001b[32mProgress: 100%|█████████████████████████████████████████| Time: 0:27:43\u001b[39m\n",
      "\u001b[32mProgress: 100%|█████████████████████████████████████████| Time: 0:33:20\u001b[39m\n",
      "\u001b[32mProgress: 100%|█████████████████████████████████████████| Time: 0:20:23\u001b[39m\n",
      "\u001b[32mProgress: 100%|█████████████████████████████████████████| Time: 0:14:32\u001b[39m\n",
      "\u001b[32mProgress: 100%|█████████████████████████████████████████| Time: 0:13:38\u001b[39m\n",
      "\u001b[32mProgress: 100%|█████████████████████████████████████████| Time: 0:23:50\u001b[39m\n",
      "\u001b[32mProgress: 100%|█████████████████████████████████████████| Time: 0:16:09\u001b[39m\n",
      "\u001b[32mProgress: 100%|█████████████████████████████████████████| Time: 0:41:06\u001b[39m\n",
      "\u001b[32mProgress: 100%|█████████████████████████████████████████| Time: 0:35:29\u001b[39m\n",
      "\u001b[32mProgress: 100%|█████████████████████████████████████████| Time: 0:27:29\u001b[39m\n",
      "\u001b[32mProgress: 100%|█████████████████████████████████████████| Time: 0:30:35\u001b[39m\n",
      "\u001b[32mProgress: 100%|█████████████████████████████████████████| Time: 0:32:56\u001b[39m\n",
      "\u001b[32mProgress: 100%|█████████████████████████████████████████| Time: 0:25:55\u001b[39m\n",
      "\u001b[32mProgress: 100%|█████████████████████████████████████████| Time: 0:19:06\u001b[39m\n",
      "\u001b[32mProgress: 100%|█████████████████████████████████████████| Time: 0:19:17\u001b[39m\n",
      "\u001b[32mProgress: 100%|█████████████████████████████████████████| Time: 0:17:57\u001b[39m\n",
      "\u001b[32mProgress: 100%|█████████████████████████████████████████| Time: 0:31:28\u001b[39m\n",
      "\u001b[32mProgress: 100%|█████████████████████████████████████████| Time: 0:30:32\u001b[39m\n",
      "\u001b[32mProgress: 100%|█████████████████████████████████████████| Time: 0:28:35\u001b[39m\n",
      "\u001b[32mProgress: 100%|█████████████████████████████████████████| Time: 0:26:32\u001b[39m\n",
      "\u001b[32mProgress: 100%|█████████████████████████████████████████| Time: 0:32:11\u001b[39m\n",
      "\u001b[32mProgress: 100%|█████████████████████████████████████████| Time: 0:15:09\u001b[39m\n",
      "\u001b[32mProgress: 100%|█████████████████████████████████████████| Time: 0:13:53\u001b[39m\n",
      "\u001b[32mProgress: 100%|█████████████████████████████████████████| Time: 0:12:56\u001b[39m\n",
      "\u001b[32mProgress: 100%|█████████████████████████████████████████| Time: 0:23:23\u001b[39m\n",
      "\u001b[32mProgress: 100%|█████████████████████████████████████████| Time: 0:23:00\u001b[39m\n",
      "\u001b[32mProgress: 100%|█████████████████████████████████████████| Time: 0:20:16\u001b[39m\n"
     ]
    },
    {
     "data": {
      "text/plain": [
       "\"Il12bHSS1/HSS1_BD_exp5_45_FQ.csv\""
      ]
     },
     "execution_count": 2,
     "metadata": {},
     "output_type": "execute_result"
    }
   ],
   "source": [
    "include(\"StandardCode.jl\")\n",
    "include(\"Il12bHSS1_BD.jl\")"
   ]
  },
  {
   "cell_type": "code",
   "execution_count": 3,
   "metadata": {},
   "outputs": [
    {
     "name": "stderr",
     "output_type": "stream",
     "text": [
      "WARNING: replacing module TSSs.\n",
      "\u001b[32mProgress: 100%|█████████████████████████████████████████| Time: 0:23:50\u001b[39m\n",
      "\u001b[32mProgress: 100%|█████████████████████████████████████████| Time: 0:23:10\u001b[39m\n",
      "\u001b[32mProgress: 100%|█████████████████████████████████████████| Time: 0:23:49\u001b[39m\n",
      "\u001b[32mProgress: 100%|█████████████████████████████████████████| Time: 0:32:26\u001b[39m\n",
      "\u001b[32mProgress: 100%|█████████████████████████████████████████| Time: 0:27:01\u001b[39m\n",
      "\u001b[32mProgress: 100%|█████████████████████████████████████████| Time: 0:34:04\u001b[39m\n",
      "\u001b[32mProgress: 100%|█████████████████████████████████████████| Time: 0:36:22\u001b[39m\n",
      "\u001b[32mProgress: 100%|█████████████████████████████████████████| Time: 0:32:05\u001b[39m\n",
      "\u001b[32mProgress: 100%|█████████████████████████████████████████| Time: 0:36:54\u001b[39m\n",
      "\u001b[32mProgress: 100%|█████████████████████████████████████████| Time: 0:38:45\u001b[39m\n",
      "\u001b[32mProgress:  98%|████████████████████████████████████████▍|  ETA: 0:00:49\u001b[39m"
     ]
    },
    {
     "ename": "LoadError",
     "evalue": "LoadError: MethodError: no method matching readdlm_auto(::Nothing, ::Char, ::Type{Float64}, ::Char, ::Bool)\n\u001b[0mClosest candidates are:\n\u001b[0m  readdlm_auto(\u001b[91m::Vector{UInt8}\u001b[39m, ::AbstractChar, ::Type, ::AbstractChar, ::Bool; opts...) at /Users/julia/buildbot/worker/package_macos64/build/usr/share/julia/stdlib/v1.6/DelimitedFiles/src/DelimitedFiles.jl:228\n\u001b[0m  readdlm_auto(\u001b[91m::IO\u001b[39m, ::AbstractChar, ::Type, ::AbstractChar, ::Bool; opts...) at /Users/julia/buildbot/worker/package_macos64/build/usr/share/julia/stdlib/v1.6/DelimitedFiles/src/DelimitedFiles.jl:230\n\u001b[0m  readdlm_auto(\u001b[91m::AbstractString\u001b[39m, ::AbstractChar, ::Type, ::AbstractChar, ::Bool; opts...) at /Users/julia/buildbot/worker/package_macos64/build/usr/share/julia/stdlib/v1.6/DelimitedFiles/src/DelimitedFiles.jl:232\nin expression starting at /Users/irr15/OneDrive - Imperial College London/Code_Paper/TSS_quantification/HprtFh1.jl:164",
     "output_type": "error",
     "traceback": [
      "LoadError: MethodError: no method matching readdlm_auto(::Nothing, ::Char, ::Type{Float64}, ::Char, ::Bool)\n\u001b[0mClosest candidates are:\n\u001b[0m  readdlm_auto(\u001b[91m::Vector{UInt8}\u001b[39m, ::AbstractChar, ::Type, ::AbstractChar, ::Bool; opts...) at /Users/julia/buildbot/worker/package_macos64/build/usr/share/julia/stdlib/v1.6/DelimitedFiles/src/DelimitedFiles.jl:228\n\u001b[0m  readdlm_auto(\u001b[91m::IO\u001b[39m, ::AbstractChar, ::Type, ::AbstractChar, ::Bool; opts...) at /Users/julia/buildbot/worker/package_macos64/build/usr/share/julia/stdlib/v1.6/DelimitedFiles/src/DelimitedFiles.jl:230\n\u001b[0m  readdlm_auto(\u001b[91m::AbstractString\u001b[39m, ::AbstractChar, ::Type, ::AbstractChar, ::Bool; opts...) at /Users/julia/buildbot/worker/package_macos64/build/usr/share/julia/stdlib/v1.6/DelimitedFiles/src/DelimitedFiles.jl:232\nin expression starting at /Users/irr15/OneDrive - Imperial College London/Code_Paper/TSS_quantification/HprtFh1.jl:164",
      "",
      "Stacktrace:",
      "  [1] readdlm(input::Nothing, dlm::Char, eol::Char; opts::Base.Iterators.Pairs{Union{}, Union{}, Tuple{}, NamedTuple{(), Tuple{}}})",
      "    @ DelimitedFiles /Users/julia/buildbot/worker/package_macos64/build/usr/share/julia/stdlib/v1.6/DelimitedFiles/src/DelimitedFiles.jl:170",
      "  [2] readdlm(input::Nothing, dlm::Char, eol::Char)",
      "    @ DelimitedFiles /Users/julia/buildbot/worker/package_macos64/build/usr/share/julia/stdlib/v1.6/DelimitedFiles/src/DelimitedFiles.jl:170",
      "  [3] readdlm(input::Nothing; opts::Base.Iterators.Pairs{Union{}, Union{}, Tuple{}, NamedTuple{(), Tuple{}}})",
      "    @ DelimitedFiles /Users/julia/buildbot/worker/package_macos64/build/usr/share/julia/stdlib/v1.6/DelimitedFiles/src/DelimitedFiles.jl:118",
      "  [4] readdlm(input::Nothing)",
      "    @ DelimitedFiles /Users/julia/buildbot/worker/package_macos64/build/usr/share/julia/stdlib/v1.6/DelimitedFiles/src/DelimitedFiles.jl:118",
      "  [5] cell_tss_dict(outiline_file::Nothing)",
      "    @ Main.TSSs ~/OneDrive - Imperial College London/Code/TSSs/src/ReadOutlines.jl:3",
      "  [6] TSS_raw_quant(t2::String, tss_folder::String, image_folder::String, n::Int64; xy::Float64, zx::Float64)",
      "    @ Main ~/OneDrive - Imperial College London/Code_Paper/TSS_quantification/StandardCode.jl:232",
      "  [7] TSS_raw_quant(t2::String, tss_folder::String, image_folder::String, n::Int64)",
      "    @ Main ~/OneDrive - Imperial College London/Code_Paper/TSS_quantification/StandardCode.jl:218",
      "  [8] top-level scope",
      "    @ ~/OneDrive - Imperial College London/Code_Paper/TSS_quantification/HprtFh1.jl:164",
      "  [9] include(fname::String)",
      "    @ Base.MainInclude ./client.jl:444",
      " [10] top-level scope",
      "    @ In[3]:2",
      " [11] eval",
      "    @ ./boot.jl:360 [inlined]",
      " [12] include_string(mapexpr::typeof(REPL.softscope), mod::Module, code::String, filename::String)",
      "    @ Base ./loading.jl:1116"
     ]
    }
   ],
   "source": [
    "include(\"StandardCode.jl\")\n",
    "include(\"HprtFh1.jl\")"
   ]
  },
  {
   "cell_type": "code",
   "execution_count": 6,
   "metadata": {},
   "outputs": [
    {
     "name": "stderr",
     "output_type": "stream",
     "text": [
      "WARNING: replacing module TSSs.\n",
      "\u001b[32mProgress: 100%|█████████████████████████████████████████| Time: 0:29:47\u001b[39m\n",
      "\u001b[32mProgress: 100%|█████████████████████████████████████████| Time: 0:32:46\u001b[39m\n",
      "\u001b[32mProgress: 100%|█████████████████████████████████████████| Time: 0:16:49\u001b[39m\n",
      "\u001b[32mProgress: 100%|█████████████████████████████████████████| Time: 0:29:33\u001b[39m\n"
     ]
    },
    {
     "data": {
      "text/plain": [
       "\"Prdm1/Prdm1_intron_exp2_FQ.csv\""
      ]
     },
     "execution_count": 6,
     "metadata": {},
     "output_type": "execute_result"
    }
   ],
   "source": [
    "include(\"StandardCode.jl\")\n",
    "include(\"Prdm1.jl\")"
   ]
  },
  {
   "cell_type": "code",
   "execution_count": null,
   "metadata": {},
   "outputs": [],
   "source": []
  },
  {
   "cell_type": "code",
   "execution_count": null,
   "metadata": {},
   "outputs": [],
   "source": [
    "\n"
   ]
  }
 ],
 "metadata": {
  "kernelspec": {
   "display_name": "Julia 1.6.3",
   "language": "julia",
   "name": "julia-1.6"
  },
  "language_info": {
   "file_extension": ".jl",
   "mimetype": "application/julia",
   "name": "julia",
   "version": "1.6.3"
  }
 },
 "nbformat": 4,
 "nbformat_minor": 4
}
