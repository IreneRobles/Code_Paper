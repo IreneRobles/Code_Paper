{
 "cells": [
  {
   "cell_type": "code",
   "execution_count": null,
   "metadata": {},
   "outputs": [],
   "source": [
    "nor = 25.5"
   ]
  },
  {
   "cell_type": "code",
   "execution_count": 1,
   "metadata": {},
   "outputs": [
    {
     "name": "stderr",
     "output_type": "stream",
     "text": [
      "┌ Info: Precompiling NoLongerProblems_Pandas [5d29c26c-ce79-4baf-a522-6e725d77eda7]\n",
      "└ @ Base loading.jl:1317\n",
      "\u001b[33m\u001b[1m┌ \u001b[22m\u001b[39m\u001b[33m\u001b[1mWarning: \u001b[22m\u001b[39mPackage NoLongerProblems_Pandas does not have Pandas in its dependencies:\n",
      "\u001b[33m\u001b[1m│ \u001b[22m\u001b[39m- If you have NoLongerProblems_Pandas checked out for development and have\n",
      "\u001b[33m\u001b[1m│ \u001b[22m\u001b[39m  added Pandas as a dependency but haven't updated your primary\n",
      "\u001b[33m\u001b[1m│ \u001b[22m\u001b[39m  environment's manifest file, try `Pkg.resolve()`.\n",
      "\u001b[33m\u001b[1m│ \u001b[22m\u001b[39m- Otherwise you may need to report an issue with NoLongerProblems_Pandas\n",
      "\u001b[33m\u001b[1m└ \u001b[22m\u001b[39mLoading Pandas into NoLongerProblems_Pandas from project dependency, future warnings for NoLongerProblems_Pandas are suppressed.\n",
      "WARNING: replacing module TSSs.\n",
      "\u001b[32mProgress: 100%|█████████████████████████████████████████| Time: 0:29:44\u001b[39m\n",
      "\u001b[32mProgress: 100%|█████████████████████████████████████████| Time: 0:14:54\u001b[39m\n",
      "\u001b[32mProgress: 100%|█████████████████████████████████████████| Time: 0:22:37\u001b[39m\n",
      "WARNING: both Pandas and DataFrames export \"DataFrame\"; uses of it in module NoLongerProblems_Pandas must be qualified\n"
     ]
    },
    {
     "data": {
      "text/plain": [
       "\"Ifit1/Ifit1_exp3_FQ.csv\""
      ]
     },
     "execution_count": 1,
     "metadata": {},
     "output_type": "execute_result"
    }
   ],
   "source": [
    "include(\"StandardCode.jl\")\n",
    "include(\"Ifit1.jl\")"
   ]
  },
  {
   "cell_type": "code",
   "execution_count": null,
   "metadata": {},
   "outputs": [
    {
     "name": "stderr",
     "output_type": "stream",
     "text": [
      "WARNING: replacing module TSSs.\n",
      "\u001b[32mProgress: 100%|█████████████████████████████████████████| Time: 1:00:03\u001b[39m\n",
      "\u001b[32mProgress:  11%|████▊                                    |  ETA: 0:43:47\u001b[39m"
     ]
    }
   ],
   "source": [
    "include(\"StandardCode.jl\")\n",
    "include(\"Cxcl10.jl\")"
   ]
  },
  {
   "cell_type": "code",
   "execution_count": 2,
   "metadata": {},
   "outputs": [
    {
     "name": "stderr",
     "output_type": "stream",
     "text": [
      "WARNING: replacing module TSSs.\n",
      "\u001b[32mProgress: 100%|█████████████████████████████████████████| Time: 0:20:49\u001b[39m\n",
      "\u001b[32mProgress: 100%|█████████████████████████████████████████| Time: 0:26:56\u001b[39m\n",
      "\u001b[32mProgress: 100%|█████████████████████████████████████████| Time: 0:10:57\u001b[39m\n",
      "\u001b[32mProgress: 100%|█████████████████████████████████████████| Time: 0:13:46\u001b[39m\n"
     ]
    },
    {
     "data": {
      "text/plain": [
       "\"Il12b_original/Il12b_intron_original_exp4_CP.csv\""
      ]
     },
     "execution_count": 2,
     "metadata": {},
     "output_type": "execute_result"
    }
   ],
   "source": [
    "include(\"StandardCode.jl\")\n",
    "include(\"Il12b_original.jl\")"
   ]
  },
  {
   "cell_type": "code",
   "execution_count": null,
   "metadata": {},
   "outputs": [],
   "source": [
    "include(\"StandardCode.jl\")\n",
    "include(\"Peli1_original.jl\")"
   ]
  },
  {
   "cell_type": "code",
   "execution_count": null,
   "metadata": {},
   "outputs": [],
   "source": [
    "include(\"StandardCode.jl\")\n",
    "include(\"Ifnb1_original.jl\")"
   ]
  },
  {
   "cell_type": "code",
   "execution_count": null,
   "metadata": {},
   "outputs": [],
   "source": [
    "include(\"StandardCode.jl\")\n",
    "include(\"Egr2_Ifnb1L2.jl\")"
   ]
  },
  {
   "cell_type": "code",
   "execution_count": null,
   "metadata": {},
   "outputs": [],
   "source": [
    "include(\"StandardCode.jl\")\n",
    "include(\"EnhPeliSertad.jl\")"
   ]
  },
  {
   "cell_type": "code",
   "execution_count": null,
   "metadata": {},
   "outputs": [],
   "source": [
    "include(\"StandardCode.jl\")\n",
    "include(\"Il12bHSS1.jl\")"
   ]
  },
  {
   "cell_type": "code",
   "execution_count": null,
   "metadata": {},
   "outputs": [],
   "source": [
    "include(\"StandardCode.jl\")\n",
    "include(\"Il12bHSS1_timecourse.jl\")"
   ]
  },
  {
   "cell_type": "code",
   "execution_count": null,
   "metadata": {},
   "outputs": [],
   "source": [
    "include(\"StandardCode.jl\")\n",
    "include(\"Egr2_BD.jl\")"
   ]
  },
  {
   "cell_type": "code",
   "execution_count": null,
   "metadata": {},
   "outputs": [],
   "source": [
    "include(\"StandardCode.jl\")\n",
    "include(\"Il12bHSS1_BD.jl\")"
   ]
  },
  {
   "cell_type": "code",
   "execution_count": null,
   "metadata": {},
   "outputs": [],
   "source": [
    "include(\"StandardCode.jl\")\n",
    "include(\"HprtFh1.jl\")"
   ]
  },
  {
   "cell_type": "code",
   "execution_count": null,
   "metadata": {},
   "outputs": [],
   "source": [
    "include(\"StandardCode.jl\")\n",
    "include(\"Prdm1.jl\")"
   ]
  },
  {
   "cell_type": "code",
   "execution_count": null,
   "metadata": {},
   "outputs": [],
   "source": []
  }
 ],
 "metadata": {
  "kernelspec": {
   "display_name": "Julia 1.6.0",
   "language": "julia",
   "name": "julia-1.6"
  },
  "language_info": {
   "file_extension": ".jl",
   "mimetype": "application/julia",
   "name": "julia",
   "version": "1.6.0"
  }
 },
 "nbformat": 4,
 "nbformat_minor": 2
}
