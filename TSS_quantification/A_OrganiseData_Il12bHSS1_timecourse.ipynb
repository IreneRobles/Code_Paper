{
 "cells": [
  {
   "cell_type": "code",
   "execution_count": 1,
   "metadata": {},
   "outputs": [
    {
     "data": {
      "text/plain": [
       "normalise_avgdot (generic function with 1 method)"
      ]
     },
     "execution_count": 1,
     "metadata": {},
     "output_type": "execute_result"
    }
   ],
   "source": [
    "include(\"StandardCode.jl\")\n",
    "\n",
    "function normalise_avgdot(df, genename, expn, typeprobe, ibidislide; root = pwd(), genefolder = \"Gene\")\n",
    "    dot1_r1 = TSSs.int_brightest_pixel(TSSs.read_tiff_as_gray(root * typeprobe *\"/_mRNA_AVG_ns.tif\").*25.5; radious = 1)\n",
    "    dot1_r2 = TSSs.int_brightest_pixel(TSSs.read_tiff_as_gray(root * typeprobe * \"/_mRNA_AVG_ns.tif\").*25.5; radious = 2)\n",
    "    dot1_r3 = TSSs.int_brightest_pixel(TSSs.read_tiff_as_gray(root * typeprobe * \"/_mRNA_AVG_ns.tif\").*25.5; radious = 3)\n",
    "\n",
    "    df[!,:TSS1_r1] = df[!,:locus1_int1_TSS2] ./ dot1_r1\n",
    "    df[!,:TSS1_r2] = df[!,:locus1_int2_TSS2] ./ dot1_r2\n",
    "    df[!,:TSS1_r3] = df[!,:locus1_int3_TSS2] ./ dot1_r3\n",
    "    df[!,:TSS2_r1] = df[!,:locus2_int1_TSS2] ./ dot1_r1\n",
    "    df[!,:TSS2_r2] = df[!,:locus2_int2_TSS2] ./ dot1_r2\n",
    "    df[!,:TSS2_r3] = df[!,:locus2_int3_TSS2] ./ dot1_r3\n",
    "    \n",
    "    \n",
    "    CSV.write(\"TSS_avgdot/\"*genename*\"_exp\"*\"$expn\"*\".csv\", df)\n",
    "    ibidislide[!,:Well] = [split(ii, \" (\")[1] for ii in ibidislide[!,:Well]]\n",
    "    cp_dir = root1*\"CP_results\"\n",
    "    cells1 = CellInfo(cp_dir, add_probetypes(exp));\n",
    "    exp1 = CSV.read(\"TSS_avgdot/\"*gene*\"_exp\"*\"$expn\"*\".csv\", DataFrame)\n",
    "    exp1[!,:Well] = [split(split(ii, \"S 0_\")[2], \"_X\")[1] for ii in exp1[!,:Image]]\n",
    "    exp1 = innerjoin(exp1, ibidislide, on= \"Well\")\n",
    "    CSV.write(genefolder*\"/\"*gene*\"_exp\"*\"$expn\"*\"_TSS.csv\", exp1)\n",
    "    CSV.write(genefolder*\"/\"*gene*\"_exp\"*\"$expn\"*\"_CP.csv\", cells1)\n",
    "    fq_dir1 = root1*typeprobe*\"/\"\n",
    "    fq1 = FQ_summary_MATURE(fq_dir1)\n",
    "    CSV.write(genefolder*\"/\"*gene*\"_exp\"*\"$expn\"*\"_FQ.csv\", fq1)\n",
    "end\n"
   ]
  },
  {
   "cell_type": "code",
   "execution_count": 2,
   "metadata": {},
   "outputs": [
    {
     "data": {
      "text/plain": [
       "\"/Volumes/lymphdev\\$/IreneR/Confocal/EnhancerInducibleGenes/Il12bHSS1timecourse/Rep3_4/\""
      ]
     },
     "execution_count": 2,
     "metadata": {},
     "output_type": "execute_result"
    }
   ],
   "source": [
    "ROOT1 = \"/Volumes/lymphdev\\$/IreneR/Confocal/EnhancerInducibleGenes/Il12bHSS1timecourse/Rep1_2/\"\n",
    "ROOT2 = \"/Volumes/lymphdev\\$/IreneR/Confocal/EnhancerInducibleGenes/Il12bHSS1timecourse/Rep3_4/\""
   ]
  },
  {
   "cell_type": "code",
   "execution_count": 7,
   "metadata": {},
   "outputs": [
    {
     "name": "stderr",
     "output_type": "stream",
     "text": [
      "\u001b[32mProgress: 100%|█████████████████████████████████████████| Time: 0:38:57\u001b[39m\n",
      "\u001b[32mProgress: 100%|█████████████████████████████████████████| Time: 0:24:00\u001b[39m\n",
      "WARNING: both Pandas and DataFrames export \"DataFrame\"; uses of it in module NoLongerProblems_Pandas must be qualified\n"
     ]
    },
    {
     "data": {
      "text/html": [
       "<table class=\"data-frame\"><thead><tr><th></th><th>Cell</th><th>Image</th></tr><tr><th></th><th>String</th><th>String</th></tr></thead><tbody><p>8,270 rows × 19 columns (omitted printing of 17 columns)</p><tr><th>1</th><td>Cell_CP_21</td><td>Il12bHSS1_WT_0_60_90_120_27thMay21_1_Sequence_A 0_S 0_U 0_V 0_X14_Y15_Job(Seq.Scan) 1 01 01 02 01 04 01_020</td></tr><tr><th>2</th><td>Cell_CP_26</td><td>Il12bHSS1_WT_0_60_90_120_27thMay21_1_Sequence_A 0_S 0_U 0_V 0_X14_Y15_Job(Seq.Scan) 1 01 01 02 01 04 01_020</td></tr><tr><th>3</th><td>Cell_CP_27</td><td>Il12bHSS1_WT_0_60_90_120_27thMay21_1_Sequence_A 0_S 0_U 0_V 0_X14_Y15_Job(Seq.Scan) 1 01 01 02 01 04 01_020</td></tr><tr><th>4</th><td>Cell_CP_34</td><td>Il12bHSS1_WT_0_60_90_120_27thMay21_1_Sequence_A 0_S 0_U 0_V 0_X14_Y15_Job(Seq.Scan) 1 01 01 02 01 04 01_020</td></tr><tr><th>5</th><td>Cell_CP_16</td><td>Il12bHSS1_WT_0_60_90_120_27thMay21_1_Sequence_A 0_S 0_U 0_V 0_X14_Y15_Job(Seq.Scan) 1 01 01 02 01 04 01_020</td></tr><tr><th>6</th><td>Cell_CP_39</td><td>Il12bHSS1_WT_0_60_90_120_27thMay21_1_Sequence_A 0_S 0_U 0_V 0_X14_Y15_Job(Seq.Scan) 1 01 01 02 01 04 01_020</td></tr><tr><th>7</th><td>Cell_CP_25</td><td>Il12bHSS1_WT_0_60_90_120_27thMay21_1_Sequence_A 0_S 0_U 0_V 0_X14_Y15_Job(Seq.Scan) 1 01 01 02 01 04 01_020</td></tr><tr><th>8</th><td>Cell_CP_9</td><td>Il12bHSS1_WT_0_60_90_120_27thMay21_1_Sequence_A 0_S 0_U 0_V 0_X14_Y15_Job(Seq.Scan) 1 01 01 02 01 04 01_020</td></tr><tr><th>9</th><td>Cell_CP_20</td><td>Il12bHSS1_WT_0_60_90_120_27thMay21_1_Sequence_A 0_S 0_U 0_V 0_X14_Y15_Job(Seq.Scan) 1 01 01 02 01 04 01_020</td></tr><tr><th>10</th><td>Cell_CP_7</td><td>Il12bHSS1_WT_0_60_90_120_27thMay21_1_Sequence_A 0_S 0_U 0_V 0_X14_Y15_Job(Seq.Scan) 1 01 01 02 01 04 01_020</td></tr><tr><th>11</th><td>Cell_CP_24</td><td>Il12bHSS1_WT_0_60_90_120_27thMay21_1_Sequence_A 0_S 0_U 0_V 0_X14_Y15_Job(Seq.Scan) 1 01 01 02 01 04 01_020</td></tr><tr><th>12</th><td>Cell_CP_13</td><td>Il12bHSS1_WT_0_60_90_120_27thMay21_1_Sequence_A 0_S 0_U 0_V 0_X14_Y15_Job(Seq.Scan) 1 01 01 02 01 04 01_020</td></tr><tr><th>13</th><td>Cell_CP_6</td><td>Il12bHSS1_WT_0_60_90_120_27thMay21_1_Sequence_A 0_S 0_U 0_V 0_X14_Y15_Job(Seq.Scan) 1 01 01 02 01 04 01_020</td></tr><tr><th>14</th><td>Cell_CP_18</td><td>Il12bHSS1_WT_0_60_90_120_27thMay21_1_Sequence_A 0_S 0_U 0_V 0_X14_Y15_Job(Seq.Scan) 1 01 01 02 01 04 01_020</td></tr><tr><th>15</th><td>Cell_CP_23</td><td>Il12bHSS1_WT_0_60_90_120_27thMay21_1_Sequence_A 0_S 0_U 0_V 0_X14_Y15_Job(Seq.Scan) 1 01 01 02 01 04 01_020</td></tr><tr><th>16</th><td>Cell_CP_2</td><td>Il12bHSS1_WT_0_60_90_120_27thMay21_1_Sequence_A 0_S 0_U 0_V 0_X14_Y15_Job(Seq.Scan) 1 01 01 02 01 04 01_020</td></tr><tr><th>17</th><td>Cell_CP_31</td><td>Il12bHSS1_WT_0_60_90_120_27thMay21_1_Sequence_A 0_S 0_U 0_V 0_X14_Y15_Job(Seq.Scan) 1 01 01 02 01 04 01_020</td></tr><tr><th>18</th><td>Cell_CP_29</td><td>Il12bHSS1_WT_0_60_90_120_27thMay21_1_Sequence_A 0_S 0_U 0_V 0_X14_Y15_Job(Seq.Scan) 1 01 01 02 01 04 01_020</td></tr><tr><th>19</th><td>Cell_CP_8</td><td>Il12bHSS1_WT_0_60_90_120_27thMay21_1_Sequence_A 0_S 0_U 0_V 0_X14_Y15_Job(Seq.Scan) 1 01 01 02 01 04 01_020</td></tr><tr><th>20</th><td>Cell_CP_22</td><td>Il12bHSS1_WT_0_60_90_120_27thMay21_1_Sequence_A 0_S 0_U 0_V 0_X14_Y15_Job(Seq.Scan) 1 01 01 02 01 04 01_020</td></tr><tr><th>21</th><td>Cell_CP_28</td><td>Il12bHSS1_WT_0_60_90_120_27thMay21_1_Sequence_A 0_S 0_U 0_V 0_X14_Y15_Job(Seq.Scan) 1 01 01 02 01 04 01_020</td></tr><tr><th>22</th><td>Cell_CP_10</td><td>Il12bHSS1_WT_0_60_90_120_27thMay21_1_Sequence_A 0_S 0_U 0_V 0_X14_Y15_Job(Seq.Scan) 1 01 01 02 01 04 01_020</td></tr><tr><th>23</th><td>Cell_CP_30</td><td>Il12bHSS1_WT_0_60_90_120_27thMay21_1_Sequence_A 0_S 0_U 0_V 0_X14_Y15_Job(Seq.Scan) 1 01 01 02 01 04 01_020</td></tr><tr><th>24</th><td>Cell_CP_40</td><td>Il12bHSS1_WT_0_60_90_120_27thMay21_1_Sequence_A 0_S 0_U 0_V 0_X14_Y15_Job(Seq.Scan) 1 01 01 02 01 04 01_020</td></tr><tr><th>25</th><td>Cell_CP_4</td><td>Il12bHSS1_WT_0_60_90_120_27thMay21_1_Sequence_A 0_S 0_U 0_V 0_X14_Y15_Job(Seq.Scan) 1 01 01 02 01 04 01_020</td></tr><tr><th>26</th><td>Cell_CP_11</td><td>Il12bHSS1_WT_0_60_90_120_27thMay21_1_Sequence_A 0_S 0_U 0_V 0_X14_Y15_Job(Seq.Scan) 1 01 01 02 01 04 01_020</td></tr><tr><th>27</th><td>Cell_CP_1</td><td>Il12bHSS1_WT_0_60_90_120_27thMay21_1_Sequence_A 0_S 0_U 0_V 0_X14_Y15_Job(Seq.Scan) 1 01 01 02 01 04 01_020</td></tr><tr><th>28</th><td>Cell_CP_15</td><td>Il12bHSS1_WT_0_60_90_120_27thMay21_1_Sequence_A 0_S 0_U 0_V 0_X14_Y15_Job(Seq.Scan) 1 01 01 02 01 04 01_020</td></tr><tr><th>29</th><td>Cell_CP_32</td><td>Il12bHSS1_WT_0_60_90_120_27thMay21_1_Sequence_A 0_S 0_U 0_V 0_X14_Y15_Job(Seq.Scan) 1 01 01 02 01 04 01_020</td></tr><tr><th>30</th><td>Cell_CP_19</td><td>Il12bHSS1_WT_0_60_90_120_27thMay21_1_Sequence_A 0_S 0_U 0_V 0_X14_Y15_Job(Seq.Scan) 1 01 01 02 01 04 01_020</td></tr><tr><th>&vellip;</th><td>&vellip;</td><td>&vellip;</td></tr></tbody></table>"
      ],
      "text/latex": [
       "\\begin{tabular}{r|ccc}\n",
       "\t& Cell & Image & \\\\\n",
       "\t\\hline\n",
       "\t& String & String & \\\\\n",
       "\t\\hline\n",
       "\t1 & Cell\\_CP\\_21 & Il12bHSS1\\_WT\\_0\\_60\\_90\\_120\\_27thMay21\\_1\\_Sequence\\_A 0\\_S 0\\_U 0\\_V 0\\_X14\\_Y15\\_Job(Seq.Scan) 1 01 01 02 01 04 01\\_020 & $\\dots$ \\\\\n",
       "\t2 & Cell\\_CP\\_26 & Il12bHSS1\\_WT\\_0\\_60\\_90\\_120\\_27thMay21\\_1\\_Sequence\\_A 0\\_S 0\\_U 0\\_V 0\\_X14\\_Y15\\_Job(Seq.Scan) 1 01 01 02 01 04 01\\_020 & $\\dots$ \\\\\n",
       "\t3 & Cell\\_CP\\_27 & Il12bHSS1\\_WT\\_0\\_60\\_90\\_120\\_27thMay21\\_1\\_Sequence\\_A 0\\_S 0\\_U 0\\_V 0\\_X14\\_Y15\\_Job(Seq.Scan) 1 01 01 02 01 04 01\\_020 & $\\dots$ \\\\\n",
       "\t4 & Cell\\_CP\\_34 & Il12bHSS1\\_WT\\_0\\_60\\_90\\_120\\_27thMay21\\_1\\_Sequence\\_A 0\\_S 0\\_U 0\\_V 0\\_X14\\_Y15\\_Job(Seq.Scan) 1 01 01 02 01 04 01\\_020 & $\\dots$ \\\\\n",
       "\t5 & Cell\\_CP\\_16 & Il12bHSS1\\_WT\\_0\\_60\\_90\\_120\\_27thMay21\\_1\\_Sequence\\_A 0\\_S 0\\_U 0\\_V 0\\_X14\\_Y15\\_Job(Seq.Scan) 1 01 01 02 01 04 01\\_020 & $\\dots$ \\\\\n",
       "\t6 & Cell\\_CP\\_39 & Il12bHSS1\\_WT\\_0\\_60\\_90\\_120\\_27thMay21\\_1\\_Sequence\\_A 0\\_S 0\\_U 0\\_V 0\\_X14\\_Y15\\_Job(Seq.Scan) 1 01 01 02 01 04 01\\_020 & $\\dots$ \\\\\n",
       "\t7 & Cell\\_CP\\_25 & Il12bHSS1\\_WT\\_0\\_60\\_90\\_120\\_27thMay21\\_1\\_Sequence\\_A 0\\_S 0\\_U 0\\_V 0\\_X14\\_Y15\\_Job(Seq.Scan) 1 01 01 02 01 04 01\\_020 & $\\dots$ \\\\\n",
       "\t8 & Cell\\_CP\\_9 & Il12bHSS1\\_WT\\_0\\_60\\_90\\_120\\_27thMay21\\_1\\_Sequence\\_A 0\\_S 0\\_U 0\\_V 0\\_X14\\_Y15\\_Job(Seq.Scan) 1 01 01 02 01 04 01\\_020 & $\\dots$ \\\\\n",
       "\t9 & Cell\\_CP\\_20 & Il12bHSS1\\_WT\\_0\\_60\\_90\\_120\\_27thMay21\\_1\\_Sequence\\_A 0\\_S 0\\_U 0\\_V 0\\_X14\\_Y15\\_Job(Seq.Scan) 1 01 01 02 01 04 01\\_020 & $\\dots$ \\\\\n",
       "\t10 & Cell\\_CP\\_7 & Il12bHSS1\\_WT\\_0\\_60\\_90\\_120\\_27thMay21\\_1\\_Sequence\\_A 0\\_S 0\\_U 0\\_V 0\\_X14\\_Y15\\_Job(Seq.Scan) 1 01 01 02 01 04 01\\_020 & $\\dots$ \\\\\n",
       "\t11 & Cell\\_CP\\_24 & Il12bHSS1\\_WT\\_0\\_60\\_90\\_120\\_27thMay21\\_1\\_Sequence\\_A 0\\_S 0\\_U 0\\_V 0\\_X14\\_Y15\\_Job(Seq.Scan) 1 01 01 02 01 04 01\\_020 & $\\dots$ \\\\\n",
       "\t12 & Cell\\_CP\\_13 & Il12bHSS1\\_WT\\_0\\_60\\_90\\_120\\_27thMay21\\_1\\_Sequence\\_A 0\\_S 0\\_U 0\\_V 0\\_X14\\_Y15\\_Job(Seq.Scan) 1 01 01 02 01 04 01\\_020 & $\\dots$ \\\\\n",
       "\t13 & Cell\\_CP\\_6 & Il12bHSS1\\_WT\\_0\\_60\\_90\\_120\\_27thMay21\\_1\\_Sequence\\_A 0\\_S 0\\_U 0\\_V 0\\_X14\\_Y15\\_Job(Seq.Scan) 1 01 01 02 01 04 01\\_020 & $\\dots$ \\\\\n",
       "\t14 & Cell\\_CP\\_18 & Il12bHSS1\\_WT\\_0\\_60\\_90\\_120\\_27thMay21\\_1\\_Sequence\\_A 0\\_S 0\\_U 0\\_V 0\\_X14\\_Y15\\_Job(Seq.Scan) 1 01 01 02 01 04 01\\_020 & $\\dots$ \\\\\n",
       "\t15 & Cell\\_CP\\_23 & Il12bHSS1\\_WT\\_0\\_60\\_90\\_120\\_27thMay21\\_1\\_Sequence\\_A 0\\_S 0\\_U 0\\_V 0\\_X14\\_Y15\\_Job(Seq.Scan) 1 01 01 02 01 04 01\\_020 & $\\dots$ \\\\\n",
       "\t16 & Cell\\_CP\\_2 & Il12bHSS1\\_WT\\_0\\_60\\_90\\_120\\_27thMay21\\_1\\_Sequence\\_A 0\\_S 0\\_U 0\\_V 0\\_X14\\_Y15\\_Job(Seq.Scan) 1 01 01 02 01 04 01\\_020 & $\\dots$ \\\\\n",
       "\t17 & Cell\\_CP\\_31 & Il12bHSS1\\_WT\\_0\\_60\\_90\\_120\\_27thMay21\\_1\\_Sequence\\_A 0\\_S 0\\_U 0\\_V 0\\_X14\\_Y15\\_Job(Seq.Scan) 1 01 01 02 01 04 01\\_020 & $\\dots$ \\\\\n",
       "\t18 & Cell\\_CP\\_29 & Il12bHSS1\\_WT\\_0\\_60\\_90\\_120\\_27thMay21\\_1\\_Sequence\\_A 0\\_S 0\\_U 0\\_V 0\\_X14\\_Y15\\_Job(Seq.Scan) 1 01 01 02 01 04 01\\_020 & $\\dots$ \\\\\n",
       "\t19 & Cell\\_CP\\_8 & Il12bHSS1\\_WT\\_0\\_60\\_90\\_120\\_27thMay21\\_1\\_Sequence\\_A 0\\_S 0\\_U 0\\_V 0\\_X14\\_Y15\\_Job(Seq.Scan) 1 01 01 02 01 04 01\\_020 & $\\dots$ \\\\\n",
       "\t20 & Cell\\_CP\\_22 & Il12bHSS1\\_WT\\_0\\_60\\_90\\_120\\_27thMay21\\_1\\_Sequence\\_A 0\\_S 0\\_U 0\\_V 0\\_X14\\_Y15\\_Job(Seq.Scan) 1 01 01 02 01 04 01\\_020 & $\\dots$ \\\\\n",
       "\t21 & Cell\\_CP\\_28 & Il12bHSS1\\_WT\\_0\\_60\\_90\\_120\\_27thMay21\\_1\\_Sequence\\_A 0\\_S 0\\_U 0\\_V 0\\_X14\\_Y15\\_Job(Seq.Scan) 1 01 01 02 01 04 01\\_020 & $\\dots$ \\\\\n",
       "\t22 & Cell\\_CP\\_10 & Il12bHSS1\\_WT\\_0\\_60\\_90\\_120\\_27thMay21\\_1\\_Sequence\\_A 0\\_S 0\\_U 0\\_V 0\\_X14\\_Y15\\_Job(Seq.Scan) 1 01 01 02 01 04 01\\_020 & $\\dots$ \\\\\n",
       "\t23 & Cell\\_CP\\_30 & Il12bHSS1\\_WT\\_0\\_60\\_90\\_120\\_27thMay21\\_1\\_Sequence\\_A 0\\_S 0\\_U 0\\_V 0\\_X14\\_Y15\\_Job(Seq.Scan) 1 01 01 02 01 04 01\\_020 & $\\dots$ \\\\\n",
       "\t24 & Cell\\_CP\\_40 & Il12bHSS1\\_WT\\_0\\_60\\_90\\_120\\_27thMay21\\_1\\_Sequence\\_A 0\\_S 0\\_U 0\\_V 0\\_X14\\_Y15\\_Job(Seq.Scan) 1 01 01 02 01 04 01\\_020 & $\\dots$ \\\\\n",
       "\t25 & Cell\\_CP\\_4 & Il12bHSS1\\_WT\\_0\\_60\\_90\\_120\\_27thMay21\\_1\\_Sequence\\_A 0\\_S 0\\_U 0\\_V 0\\_X14\\_Y15\\_Job(Seq.Scan) 1 01 01 02 01 04 01\\_020 & $\\dots$ \\\\\n",
       "\t26 & Cell\\_CP\\_11 & Il12bHSS1\\_WT\\_0\\_60\\_90\\_120\\_27thMay21\\_1\\_Sequence\\_A 0\\_S 0\\_U 0\\_V 0\\_X14\\_Y15\\_Job(Seq.Scan) 1 01 01 02 01 04 01\\_020 & $\\dots$ \\\\\n",
       "\t27 & Cell\\_CP\\_1 & Il12bHSS1\\_WT\\_0\\_60\\_90\\_120\\_27thMay21\\_1\\_Sequence\\_A 0\\_S 0\\_U 0\\_V 0\\_X14\\_Y15\\_Job(Seq.Scan) 1 01 01 02 01 04 01\\_020 & $\\dots$ \\\\\n",
       "\t28 & Cell\\_CP\\_15 & Il12bHSS1\\_WT\\_0\\_60\\_90\\_120\\_27thMay21\\_1\\_Sequence\\_A 0\\_S 0\\_U 0\\_V 0\\_X14\\_Y15\\_Job(Seq.Scan) 1 01 01 02 01 04 01\\_020 & $\\dots$ \\\\\n",
       "\t29 & Cell\\_CP\\_32 & Il12bHSS1\\_WT\\_0\\_60\\_90\\_120\\_27thMay21\\_1\\_Sequence\\_A 0\\_S 0\\_U 0\\_V 0\\_X14\\_Y15\\_Job(Seq.Scan) 1 01 01 02 01 04 01\\_020 & $\\dots$ \\\\\n",
       "\t30 & Cell\\_CP\\_19 & Il12bHSS1\\_WT\\_0\\_60\\_90\\_120\\_27thMay21\\_1\\_Sequence\\_A 0\\_S 0\\_U 0\\_V 0\\_X14\\_Y15\\_Job(Seq.Scan) 1 01 01 02 01 04 01\\_020 & $\\dots$ \\\\\n",
       "\t$\\dots$ & $\\dots$ & $\\dots$ &  \\\\\n",
       "\\end{tabular}\n"
      ],
      "text/plain": [
       "\u001b[1m8270×19 DataFrame\u001b[0m\n",
       "\u001b[1m  Row \u001b[0m│\u001b[1m Cell       \u001b[0m\u001b[1m Image                             \u001b[0m\u001b[1m Image_BF  \u001b[0m\u001b[1m N_TSS2 \u001b[0m\u001b[1m locu\u001b[0m ⋯\n",
       "\u001b[1m      \u001b[0m│\u001b[90m String     \u001b[0m\u001b[90m String                            \u001b[0m\u001b[90m Float64   \u001b[0m\u001b[90m Int64  \u001b[0m\u001b[90m Stri\u001b[0m ⋯\n",
       "──────┼─────────────────────────────────────────────────────────────────────────\n",
       "    1 │ Cell_CP_21  Il12bHSS1_WT_0_60_90_120_27thMay…  0.0             0  0    ⋯\n",
       "    2 │ Cell_CP_26  Il12bHSS1_WT_0_60_90_120_27thMay…  0.0             0  0\n",
       "    3 │ Cell_CP_27  Il12bHSS1_WT_0_60_90_120_27thMay…  0.0             0  0\n",
       "    4 │ Cell_CP_34  Il12bHSS1_WT_0_60_90_120_27thMay…  0.0             0  0\n",
       "    5 │ Cell_CP_16  Il12bHSS1_WT_0_60_90_120_27thMay…  0.0             0  0    ⋯\n",
       "    6 │ Cell_CP_39  Il12bHSS1_WT_0_60_90_120_27thMay…  0.0             0  0\n",
       "    7 │ Cell_CP_25  Il12bHSS1_WT_0_60_90_120_27thMay…  0.0             0  0\n",
       "    8 │ Cell_CP_9   Il12bHSS1_WT_0_60_90_120_27thMay…  0.0             0  0\n",
       "    9 │ Cell_CP_20  Il12bHSS1_WT_0_60_90_120_27thMay…  0.0             0  0    ⋯\n",
       "   10 │ Cell_CP_7   Il12bHSS1_WT_0_60_90_120_27thMay…  0.0             0  0\n",
       "   11 │ Cell_CP_24  Il12bHSS1_WT_0_60_90_120_27thMay…  0.0             0  0\n",
       "  ⋮   │     ⋮                       ⋮                      ⋮        ⋮          ⋱\n",
       " 8261 │ Cell_CP_3   Il12bHSS1_WT_0_60_90_120_27thMay…  0.0555556       0  0\n",
       " 8262 │ Cell_CP_14  Il12bHSS1_WT_0_60_90_120_27thMay…  0.0555556       1  TxS_ ⋯\n",
       " 8263 │ Cell_CP_5   Il12bHSS1_WT_0_60_90_120_27thMay…  0.0             0  0\n",
       " 8264 │ Cell_CP_8   Il12bHSS1_WT_0_60_90_120_27thMay…  0.0             0  0\n",
       " 8265 │ Cell_CP_7   Il12bHSS1_WT_0_60_90_120_27thMay…  0.0             0  0\n",
       " 8266 │ Cell_CP_4   Il12bHSS1_WT_0_60_90_120_27thMay…  0.0             0  0    ⋯\n",
       " 8267 │ Cell_CP_1   Il12bHSS1_WT_0_60_90_120_27thMay…  0.0             0  0\n",
       " 8268 │ Cell_CP_6   Il12bHSS1_WT_0_60_90_120_27thMay…  0.0             0  0\n",
       " 8269 │ Cell_CP_3   Il12bHSS1_WT_0_60_90_120_27thMay…  0.0             0  0\n",
       " 8270 │ Cell_CP_2   Il12bHSS1_WT_0_60_90_120_27thMay…  0.0             0  0    ⋯\n",
       "\u001b[36m                                                15 columns and 8249 rows omitted\u001b[0m"
      ]
     },
     "execution_count": 7,
     "metadata": {},
     "output_type": "execute_result"
    }
   ],
   "source": [
    "root1 = ROOT1\n",
    "expn = \"1\"\n",
    "\n",
    "gene = \"HSS1_timecourse\"\n",
    "typeprobe = \"type1\"\n",
    "tss_c4 = root1 * \"Segmentation_type1/_FQ_outline/_TS_detect\"\n",
    "imagesfolder = root1 * \"/tiff3D\"\n",
    "images_pat = TSSs.get_image_patterns(tss_c4)\n",
    "d = TSSs.TSS_raw_quant(tss_c4, tss_c4, imagesfolder, 3; xy = 0.189, zx = 0.5)\n",
    "CSV.write(\"TSS_raw/\"*gene*\"_exp\"*\"$expn\"*\".csv\", d)\n",
    "\n",
    "gene = \"Il12b_intron_timecourse\"\n",
    "typeprobe = \"type4\"\n",
    "tss_c4 = root1 * \"Segmentation_type4/_FQ_outline/_TS_detect\"\n",
    "imagesfolder = root1 * \"/tiff3D\"\n",
    "images_pat = TSSs.get_image_patterns(tss_c4)\n",
    "d = TSSs.TSS_raw_quant(tss_c4, tss_c4, imagesfolder, 2; xy = 0.189, zx = 0.5)\n",
    "CSV.write(\"TSS_raw/\"*gene*\"_exp\"*\"$expn\"*\".csv\", d)\n",
    "tss1 = CSV.read(\"TSS_raw/\"*gene*\"_exp\"*\"$expn\"*\".csv\", DataFrame)"
   ]
  },
  {
   "cell_type": "code",
   "execution_count": 3,
   "metadata": {},
   "outputs": [
    {
     "name": "stderr",
     "output_type": "stream",
     "text": [
      "\u001b[32mProgress: 100%|█████████████████████████████████████████| Time: 0:39:29\u001b[39m\n",
      "\u001b[32mProgress: 100%|█████████████████████████████████████████| Time: 0:35:27\u001b[39m\n",
      "WARNING: both Pandas and DataFrames export \"DataFrame\"; uses of it in module NoLongerProblems_Pandas must be qualified\n"
     ]
    },
    {
     "data": {
      "text/html": [
       "<table class=\"data-frame\"><thead><tr><th></th><th>Cell</th><th>Image</th></tr><tr><th></th><th>String</th><th>String</th></tr></thead><tbody><p>8,768 rows × 19 columns (omitted printing of 17 columns)</p><tr><th>1</th><td>Cell_CP_21</td><td>Il12bHSS1_WT_0_60_90_120_18th21_1_Sequence_001_A 0_S 0_U 0_V 0_X 0_Y 0_Job(Seq.Scan) 1 01 01 02 01 04 01_036</td></tr><tr><th>2</th><td>Cell_CP_26</td><td>Il12bHSS1_WT_0_60_90_120_18th21_1_Sequence_001_A 0_S 0_U 0_V 0_X 0_Y 0_Job(Seq.Scan) 1 01 01 02 01 04 01_036</td></tr><tr><th>3</th><td>Cell_CP_27</td><td>Il12bHSS1_WT_0_60_90_120_18th21_1_Sequence_001_A 0_S 0_U 0_V 0_X 0_Y 0_Job(Seq.Scan) 1 01 01 02 01 04 01_036</td></tr><tr><th>4</th><td>Cell_CP_16</td><td>Il12bHSS1_WT_0_60_90_120_18th21_1_Sequence_001_A 0_S 0_U 0_V 0_X 0_Y 0_Job(Seq.Scan) 1 01 01 02 01 04 01_036</td></tr><tr><th>5</th><td>Cell_CP_25</td><td>Il12bHSS1_WT_0_60_90_120_18th21_1_Sequence_001_A 0_S 0_U 0_V 0_X 0_Y 0_Job(Seq.Scan) 1 01 01 02 01 04 01_036</td></tr><tr><th>6</th><td>Cell_CP_9</td><td>Il12bHSS1_WT_0_60_90_120_18th21_1_Sequence_001_A 0_S 0_U 0_V 0_X 0_Y 0_Job(Seq.Scan) 1 01 01 02 01 04 01_036</td></tr><tr><th>7</th><td>Cell_CP_20</td><td>Il12bHSS1_WT_0_60_90_120_18th21_1_Sequence_001_A 0_S 0_U 0_V 0_X 0_Y 0_Job(Seq.Scan) 1 01 01 02 01 04 01_036</td></tr><tr><th>8</th><td>Cell_CP_7</td><td>Il12bHSS1_WT_0_60_90_120_18th21_1_Sequence_001_A 0_S 0_U 0_V 0_X 0_Y 0_Job(Seq.Scan) 1 01 01 02 01 04 01_036</td></tr><tr><th>9</th><td>Cell_CP_24</td><td>Il12bHSS1_WT_0_60_90_120_18th21_1_Sequence_001_A 0_S 0_U 0_V 0_X 0_Y 0_Job(Seq.Scan) 1 01 01 02 01 04 01_036</td></tr><tr><th>10</th><td>Cell_CP_13</td><td>Il12bHSS1_WT_0_60_90_120_18th21_1_Sequence_001_A 0_S 0_U 0_V 0_X 0_Y 0_Job(Seq.Scan) 1 01 01 02 01 04 01_036</td></tr><tr><th>11</th><td>Cell_CP_6</td><td>Il12bHSS1_WT_0_60_90_120_18th21_1_Sequence_001_A 0_S 0_U 0_V 0_X 0_Y 0_Job(Seq.Scan) 1 01 01 02 01 04 01_036</td></tr><tr><th>12</th><td>Cell_CP_18</td><td>Il12bHSS1_WT_0_60_90_120_18th21_1_Sequence_001_A 0_S 0_U 0_V 0_X 0_Y 0_Job(Seq.Scan) 1 01 01 02 01 04 01_036</td></tr><tr><th>13</th><td>Cell_CP_23</td><td>Il12bHSS1_WT_0_60_90_120_18th21_1_Sequence_001_A 0_S 0_U 0_V 0_X 0_Y 0_Job(Seq.Scan) 1 01 01 02 01 04 01_036</td></tr><tr><th>14</th><td>Cell_CP_2</td><td>Il12bHSS1_WT_0_60_90_120_18th21_1_Sequence_001_A 0_S 0_U 0_V 0_X 0_Y 0_Job(Seq.Scan) 1 01 01 02 01 04 01_036</td></tr><tr><th>15</th><td>Cell_CP_29</td><td>Il12bHSS1_WT_0_60_90_120_18th21_1_Sequence_001_A 0_S 0_U 0_V 0_X 0_Y 0_Job(Seq.Scan) 1 01 01 02 01 04 01_036</td></tr><tr><th>16</th><td>Cell_CP_8</td><td>Il12bHSS1_WT_0_60_90_120_18th21_1_Sequence_001_A 0_S 0_U 0_V 0_X 0_Y 0_Job(Seq.Scan) 1 01 01 02 01 04 01_036</td></tr><tr><th>17</th><td>Cell_CP_22</td><td>Il12bHSS1_WT_0_60_90_120_18th21_1_Sequence_001_A 0_S 0_U 0_V 0_X 0_Y 0_Job(Seq.Scan) 1 01 01 02 01 04 01_036</td></tr><tr><th>18</th><td>Cell_CP_28</td><td>Il12bHSS1_WT_0_60_90_120_18th21_1_Sequence_001_A 0_S 0_U 0_V 0_X 0_Y 0_Job(Seq.Scan) 1 01 01 02 01 04 01_036</td></tr><tr><th>19</th><td>Cell_CP_10</td><td>Il12bHSS1_WT_0_60_90_120_18th21_1_Sequence_001_A 0_S 0_U 0_V 0_X 0_Y 0_Job(Seq.Scan) 1 01 01 02 01 04 01_036</td></tr><tr><th>20</th><td>Cell_CP_4</td><td>Il12bHSS1_WT_0_60_90_120_18th21_1_Sequence_001_A 0_S 0_U 0_V 0_X 0_Y 0_Job(Seq.Scan) 1 01 01 02 01 04 01_036</td></tr><tr><th>21</th><td>Cell_CP_11</td><td>Il12bHSS1_WT_0_60_90_120_18th21_1_Sequence_001_A 0_S 0_U 0_V 0_X 0_Y 0_Job(Seq.Scan) 1 01 01 02 01 04 01_036</td></tr><tr><th>22</th><td>Cell_CP_1</td><td>Il12bHSS1_WT_0_60_90_120_18th21_1_Sequence_001_A 0_S 0_U 0_V 0_X 0_Y 0_Job(Seq.Scan) 1 01 01 02 01 04 01_036</td></tr><tr><th>23</th><td>Cell_CP_15</td><td>Il12bHSS1_WT_0_60_90_120_18th21_1_Sequence_001_A 0_S 0_U 0_V 0_X 0_Y 0_Job(Seq.Scan) 1 01 01 02 01 04 01_036</td></tr><tr><th>24</th><td>Cell_CP_19</td><td>Il12bHSS1_WT_0_60_90_120_18th21_1_Sequence_001_A 0_S 0_U 0_V 0_X 0_Y 0_Job(Seq.Scan) 1 01 01 02 01 04 01_036</td></tr><tr><th>25</th><td>Cell_CP_5</td><td>Il12bHSS1_WT_0_60_90_120_18th21_1_Sequence_001_A 0_S 0_U 0_V 0_X 0_Y 0_Job(Seq.Scan) 1 01 01 02 01 04 01_036</td></tr><tr><th>26</th><td>Cell_CP_12</td><td>Il12bHSS1_WT_0_60_90_120_18th21_1_Sequence_001_A 0_S 0_U 0_V 0_X 0_Y 0_Job(Seq.Scan) 1 01 01 02 01 04 01_036</td></tr><tr><th>27</th><td>Cell_CP_17</td><td>Il12bHSS1_WT_0_60_90_120_18th21_1_Sequence_001_A 0_S 0_U 0_V 0_X 0_Y 0_Job(Seq.Scan) 1 01 01 02 01 04 01_036</td></tr><tr><th>28</th><td>Cell_CP_3</td><td>Il12bHSS1_WT_0_60_90_120_18th21_1_Sequence_001_A 0_S 0_U 0_V 0_X 0_Y 0_Job(Seq.Scan) 1 01 01 02 01 04 01_036</td></tr><tr><th>29</th><td>Cell_CP_14</td><td>Il12bHSS1_WT_0_60_90_120_18th21_1_Sequence_001_A 0_S 0_U 0_V 0_X 0_Y 0_Job(Seq.Scan) 1 01 01 02 01 04 01_036</td></tr><tr><th>30</th><td>Cell_CP_16</td><td>Il12bHSS1_WT_0_60_90_120_18th21_1_Sequence_A 0_S 0_U 0_V 0_X 8_Y14_Job(Seq.Scan) 1 01 01 02 01 04 01_002</td></tr><tr><th>&vellip;</th><td>&vellip;</td><td>&vellip;</td></tr></tbody></table>"
      ],
      "text/latex": [
       "\\begin{tabular}{r|ccc}\n",
       "\t& Cell & Image & \\\\\n",
       "\t\\hline\n",
       "\t& String & String & \\\\\n",
       "\t\\hline\n",
       "\t1 & Cell\\_CP\\_21 & Il12bHSS1\\_WT\\_0\\_60\\_90\\_120\\_18th21\\_1\\_Sequence\\_001\\_A 0\\_S 0\\_U 0\\_V 0\\_X 0\\_Y 0\\_Job(Seq.Scan) 1 01 01 02 01 04 01\\_036 & $\\dots$ \\\\\n",
       "\t2 & Cell\\_CP\\_26 & Il12bHSS1\\_WT\\_0\\_60\\_90\\_120\\_18th21\\_1\\_Sequence\\_001\\_A 0\\_S 0\\_U 0\\_V 0\\_X 0\\_Y 0\\_Job(Seq.Scan) 1 01 01 02 01 04 01\\_036 & $\\dots$ \\\\\n",
       "\t3 & Cell\\_CP\\_27 & Il12bHSS1\\_WT\\_0\\_60\\_90\\_120\\_18th21\\_1\\_Sequence\\_001\\_A 0\\_S 0\\_U 0\\_V 0\\_X 0\\_Y 0\\_Job(Seq.Scan) 1 01 01 02 01 04 01\\_036 & $\\dots$ \\\\\n",
       "\t4 & Cell\\_CP\\_16 & Il12bHSS1\\_WT\\_0\\_60\\_90\\_120\\_18th21\\_1\\_Sequence\\_001\\_A 0\\_S 0\\_U 0\\_V 0\\_X 0\\_Y 0\\_Job(Seq.Scan) 1 01 01 02 01 04 01\\_036 & $\\dots$ \\\\\n",
       "\t5 & Cell\\_CP\\_25 & Il12bHSS1\\_WT\\_0\\_60\\_90\\_120\\_18th21\\_1\\_Sequence\\_001\\_A 0\\_S 0\\_U 0\\_V 0\\_X 0\\_Y 0\\_Job(Seq.Scan) 1 01 01 02 01 04 01\\_036 & $\\dots$ \\\\\n",
       "\t6 & Cell\\_CP\\_9 & Il12bHSS1\\_WT\\_0\\_60\\_90\\_120\\_18th21\\_1\\_Sequence\\_001\\_A 0\\_S 0\\_U 0\\_V 0\\_X 0\\_Y 0\\_Job(Seq.Scan) 1 01 01 02 01 04 01\\_036 & $\\dots$ \\\\\n",
       "\t7 & Cell\\_CP\\_20 & Il12bHSS1\\_WT\\_0\\_60\\_90\\_120\\_18th21\\_1\\_Sequence\\_001\\_A 0\\_S 0\\_U 0\\_V 0\\_X 0\\_Y 0\\_Job(Seq.Scan) 1 01 01 02 01 04 01\\_036 & $\\dots$ \\\\\n",
       "\t8 & Cell\\_CP\\_7 & Il12bHSS1\\_WT\\_0\\_60\\_90\\_120\\_18th21\\_1\\_Sequence\\_001\\_A 0\\_S 0\\_U 0\\_V 0\\_X 0\\_Y 0\\_Job(Seq.Scan) 1 01 01 02 01 04 01\\_036 & $\\dots$ \\\\\n",
       "\t9 & Cell\\_CP\\_24 & Il12bHSS1\\_WT\\_0\\_60\\_90\\_120\\_18th21\\_1\\_Sequence\\_001\\_A 0\\_S 0\\_U 0\\_V 0\\_X 0\\_Y 0\\_Job(Seq.Scan) 1 01 01 02 01 04 01\\_036 & $\\dots$ \\\\\n",
       "\t10 & Cell\\_CP\\_13 & Il12bHSS1\\_WT\\_0\\_60\\_90\\_120\\_18th21\\_1\\_Sequence\\_001\\_A 0\\_S 0\\_U 0\\_V 0\\_X 0\\_Y 0\\_Job(Seq.Scan) 1 01 01 02 01 04 01\\_036 & $\\dots$ \\\\\n",
       "\t11 & Cell\\_CP\\_6 & Il12bHSS1\\_WT\\_0\\_60\\_90\\_120\\_18th21\\_1\\_Sequence\\_001\\_A 0\\_S 0\\_U 0\\_V 0\\_X 0\\_Y 0\\_Job(Seq.Scan) 1 01 01 02 01 04 01\\_036 & $\\dots$ \\\\\n",
       "\t12 & Cell\\_CP\\_18 & Il12bHSS1\\_WT\\_0\\_60\\_90\\_120\\_18th21\\_1\\_Sequence\\_001\\_A 0\\_S 0\\_U 0\\_V 0\\_X 0\\_Y 0\\_Job(Seq.Scan) 1 01 01 02 01 04 01\\_036 & $\\dots$ \\\\\n",
       "\t13 & Cell\\_CP\\_23 & Il12bHSS1\\_WT\\_0\\_60\\_90\\_120\\_18th21\\_1\\_Sequence\\_001\\_A 0\\_S 0\\_U 0\\_V 0\\_X 0\\_Y 0\\_Job(Seq.Scan) 1 01 01 02 01 04 01\\_036 & $\\dots$ \\\\\n",
       "\t14 & Cell\\_CP\\_2 & Il12bHSS1\\_WT\\_0\\_60\\_90\\_120\\_18th21\\_1\\_Sequence\\_001\\_A 0\\_S 0\\_U 0\\_V 0\\_X 0\\_Y 0\\_Job(Seq.Scan) 1 01 01 02 01 04 01\\_036 & $\\dots$ \\\\\n",
       "\t15 & Cell\\_CP\\_29 & Il12bHSS1\\_WT\\_0\\_60\\_90\\_120\\_18th21\\_1\\_Sequence\\_001\\_A 0\\_S 0\\_U 0\\_V 0\\_X 0\\_Y 0\\_Job(Seq.Scan) 1 01 01 02 01 04 01\\_036 & $\\dots$ \\\\\n",
       "\t16 & Cell\\_CP\\_8 & Il12bHSS1\\_WT\\_0\\_60\\_90\\_120\\_18th21\\_1\\_Sequence\\_001\\_A 0\\_S 0\\_U 0\\_V 0\\_X 0\\_Y 0\\_Job(Seq.Scan) 1 01 01 02 01 04 01\\_036 & $\\dots$ \\\\\n",
       "\t17 & Cell\\_CP\\_22 & Il12bHSS1\\_WT\\_0\\_60\\_90\\_120\\_18th21\\_1\\_Sequence\\_001\\_A 0\\_S 0\\_U 0\\_V 0\\_X 0\\_Y 0\\_Job(Seq.Scan) 1 01 01 02 01 04 01\\_036 & $\\dots$ \\\\\n",
       "\t18 & Cell\\_CP\\_28 & Il12bHSS1\\_WT\\_0\\_60\\_90\\_120\\_18th21\\_1\\_Sequence\\_001\\_A 0\\_S 0\\_U 0\\_V 0\\_X 0\\_Y 0\\_Job(Seq.Scan) 1 01 01 02 01 04 01\\_036 & $\\dots$ \\\\\n",
       "\t19 & Cell\\_CP\\_10 & Il12bHSS1\\_WT\\_0\\_60\\_90\\_120\\_18th21\\_1\\_Sequence\\_001\\_A 0\\_S 0\\_U 0\\_V 0\\_X 0\\_Y 0\\_Job(Seq.Scan) 1 01 01 02 01 04 01\\_036 & $\\dots$ \\\\\n",
       "\t20 & Cell\\_CP\\_4 & Il12bHSS1\\_WT\\_0\\_60\\_90\\_120\\_18th21\\_1\\_Sequence\\_001\\_A 0\\_S 0\\_U 0\\_V 0\\_X 0\\_Y 0\\_Job(Seq.Scan) 1 01 01 02 01 04 01\\_036 & $\\dots$ \\\\\n",
       "\t21 & Cell\\_CP\\_11 & Il12bHSS1\\_WT\\_0\\_60\\_90\\_120\\_18th21\\_1\\_Sequence\\_001\\_A 0\\_S 0\\_U 0\\_V 0\\_X 0\\_Y 0\\_Job(Seq.Scan) 1 01 01 02 01 04 01\\_036 & $\\dots$ \\\\\n",
       "\t22 & Cell\\_CP\\_1 & Il12bHSS1\\_WT\\_0\\_60\\_90\\_120\\_18th21\\_1\\_Sequence\\_001\\_A 0\\_S 0\\_U 0\\_V 0\\_X 0\\_Y 0\\_Job(Seq.Scan) 1 01 01 02 01 04 01\\_036 & $\\dots$ \\\\\n",
       "\t23 & Cell\\_CP\\_15 & Il12bHSS1\\_WT\\_0\\_60\\_90\\_120\\_18th21\\_1\\_Sequence\\_001\\_A 0\\_S 0\\_U 0\\_V 0\\_X 0\\_Y 0\\_Job(Seq.Scan) 1 01 01 02 01 04 01\\_036 & $\\dots$ \\\\\n",
       "\t24 & Cell\\_CP\\_19 & Il12bHSS1\\_WT\\_0\\_60\\_90\\_120\\_18th21\\_1\\_Sequence\\_001\\_A 0\\_S 0\\_U 0\\_V 0\\_X 0\\_Y 0\\_Job(Seq.Scan) 1 01 01 02 01 04 01\\_036 & $\\dots$ \\\\\n",
       "\t25 & Cell\\_CP\\_5 & Il12bHSS1\\_WT\\_0\\_60\\_90\\_120\\_18th21\\_1\\_Sequence\\_001\\_A 0\\_S 0\\_U 0\\_V 0\\_X 0\\_Y 0\\_Job(Seq.Scan) 1 01 01 02 01 04 01\\_036 & $\\dots$ \\\\\n",
       "\t26 & Cell\\_CP\\_12 & Il12bHSS1\\_WT\\_0\\_60\\_90\\_120\\_18th21\\_1\\_Sequence\\_001\\_A 0\\_S 0\\_U 0\\_V 0\\_X 0\\_Y 0\\_Job(Seq.Scan) 1 01 01 02 01 04 01\\_036 & $\\dots$ \\\\\n",
       "\t27 & Cell\\_CP\\_17 & Il12bHSS1\\_WT\\_0\\_60\\_90\\_120\\_18th21\\_1\\_Sequence\\_001\\_A 0\\_S 0\\_U 0\\_V 0\\_X 0\\_Y 0\\_Job(Seq.Scan) 1 01 01 02 01 04 01\\_036 & $\\dots$ \\\\\n",
       "\t28 & Cell\\_CP\\_3 & Il12bHSS1\\_WT\\_0\\_60\\_90\\_120\\_18th21\\_1\\_Sequence\\_001\\_A 0\\_S 0\\_U 0\\_V 0\\_X 0\\_Y 0\\_Job(Seq.Scan) 1 01 01 02 01 04 01\\_036 & $\\dots$ \\\\\n",
       "\t29 & Cell\\_CP\\_14 & Il12bHSS1\\_WT\\_0\\_60\\_90\\_120\\_18th21\\_1\\_Sequence\\_001\\_A 0\\_S 0\\_U 0\\_V 0\\_X 0\\_Y 0\\_Job(Seq.Scan) 1 01 01 02 01 04 01\\_036 & $\\dots$ \\\\\n",
       "\t30 & Cell\\_CP\\_16 & Il12bHSS1\\_WT\\_0\\_60\\_90\\_120\\_18th21\\_1\\_Sequence\\_A 0\\_S 0\\_U 0\\_V 0\\_X 8\\_Y14\\_Job(Seq.Scan) 1 01 01 02 01 04 01\\_002 & $\\dots$ \\\\\n",
       "\t$\\dots$ & $\\dots$ & $\\dots$ &  \\\\\n",
       "\\end{tabular}\n"
      ],
      "text/plain": [
       "\u001b[1m8768×19 DataFrame\u001b[0m\n",
       "\u001b[1m  Row \u001b[0m│\u001b[1m Cell       \u001b[0m\u001b[1m Image                             \u001b[0m\u001b[1m Image_BF  \u001b[0m\u001b[1m N_TSS2 \u001b[0m\u001b[1m locu\u001b[0m ⋯\n",
       "\u001b[1m      \u001b[0m│\u001b[90m String     \u001b[0m\u001b[90m String                            \u001b[0m\u001b[90m Float64   \u001b[0m\u001b[90m Int64  \u001b[0m\u001b[90m Stri\u001b[0m ⋯\n",
       "──────┼─────────────────────────────────────────────────────────────────────────\n",
       "    1 │ Cell_CP_21  Il12bHSS1_WT_0_60_90_120_18th21_…  0.0             0  0    ⋯\n",
       "    2 │ Cell_CP_26  Il12bHSS1_WT_0_60_90_120_18th21_…  0.0             0  0\n",
       "    3 │ Cell_CP_27  Il12bHSS1_WT_0_60_90_120_18th21_…  0.0             0  0\n",
       "    4 │ Cell_CP_16  Il12bHSS1_WT_0_60_90_120_18th21_…  0.0             0  0\n",
       "    5 │ Cell_CP_25  Il12bHSS1_WT_0_60_90_120_18th21_…  0.0             0  0    ⋯\n",
       "    6 │ Cell_CP_9   Il12bHSS1_WT_0_60_90_120_18th21_…  0.0             0  0\n",
       "    7 │ Cell_CP_20  Il12bHSS1_WT_0_60_90_120_18th21_…  0.0             0  0\n",
       "    8 │ Cell_CP_7   Il12bHSS1_WT_0_60_90_120_18th21_…  0.0             0  0\n",
       "    9 │ Cell_CP_24  Il12bHSS1_WT_0_60_90_120_18th21_…  0.0             0  0    ⋯\n",
       "   10 │ Cell_CP_13  Il12bHSS1_WT_0_60_90_120_18th21_…  0.0             0  0\n",
       "   11 │ Cell_CP_6   Il12bHSS1_WT_0_60_90_120_18th21_…  0.0             0  0\n",
       "  ⋮   │     ⋮                       ⋮                      ⋮        ⋮          ⋱\n",
       " 8759 │ Cell_CP_26  Il12bHSS1_WT_0_60_90_120_18thJun…  0.0384615       0  0\n",
       " 8760 │ Cell_CP_39  Il12bHSS1_WT_0_60_90_120_18thJun…  0.0384615       0  0    ⋯\n",
       " 8761 │ Cell_CP_31  Il12bHSS1_WT_0_60_90_120_18thJun…  0.0384615       0  0\n",
       " 8762 │ Cell_CP_46  Il12bHSS1_WT_0_60_90_120_18thJun…  0.0384615       0  0\n",
       " 8763 │ Cell_CP_28  Il12bHSS1_WT_0_60_90_120_18thJun…  0.0384615       0  0\n",
       " 8764 │ Cell_CP_30  Il12bHSS1_WT_0_60_90_120_18thJun…  0.0384615       0  0    ⋯\n",
       " 8765 │ Cell_CP_1   Il12bHSS1_WT_0_60_90_120_18thJun…  0.0384615       0  0\n",
       " 8766 │ Cell_CP_47  Il12bHSS1_WT_0_60_90_120_18thJun…  0.0384615       0  0\n",
       " 8767 │ Cell_CP_37  Il12bHSS1_WT_0_60_90_120_18thJun…  0.0384615       0  0\n",
       " 8768 │ Cell_CP_17  Il12bHSS1_WT_0_60_90_120_18thJun…  0.0384615       1  TxS_ ⋯\n",
       "\u001b[36m                                                15 columns and 8747 rows omitted\u001b[0m"
      ]
     },
     "execution_count": 3,
     "metadata": {},
     "output_type": "execute_result"
    }
   ],
   "source": [
    "root1 = ROOT2\n",
    "expn = \"2\"\n",
    "\n",
    "gene = \"HSS1_timecourse\"\n",
    "typeprobe = \"type1\"\n",
    "tss_c4 = root1 * \"Segmentation_type1/_FQ_outline/_TS_detect\"\n",
    "imagesfolder = root1 * \"/tiff3D\"\n",
    "images_pat = TSSs.get_image_patterns(tss_c4)\n",
    "d = TSSs.TSS_raw_quant(tss_c4, tss_c4, imagesfolder, 3; xy = 0.189, zx = 0.5)\n",
    "CSV.write(\"TSS_raw/\"*gene*\"_exp\"*\"$expn\"*\".csv\", d)\n",
    "\n",
    "gene = \"Il12b_intron_timecourse\"\n",
    "typeprobe = \"type4\"\n",
    "tss_c4 = root1 * \"Segmentation_type4/_FQ_outline/_TS_detect\"\n",
    "imagesfolder = root1 * \"/tiff3D\"\n",
    "images_pat = TSSs.get_image_patterns(tss_c4)\n",
    "d = TSSs.TSS_raw_quant(tss_c4, tss_c4, imagesfolder, 2; xy = 0.189, zx = 0.5)\n",
    "CSV.write(\"TSS_raw/\"*gene*\"_exp\"*\"$expn\"*\".csv\", d)\n",
    "tss1 = CSV.read(\"TSS_raw/\"*gene*\"_exp\"*\"$expn\"*\".csv\", DataFrame)"
   ]
  },
  {
   "cell_type": "code",
   "execution_count": 4,
   "metadata": {},
   "outputs": [
    {
     "data": {
      "text/plain": [
       "\"Il12bHSS1/Il12b_intron_timecourse_exp2_FQ.csv\""
      ]
     },
     "execution_count": 4,
     "metadata": {},
     "output_type": "execute_result"
    }
   ],
   "source": [
    "folder = \"Il12bHSS1BD\"\n",
    "root1 = ROOT1\n",
    "exp = CSV.read(\"IbidiChambers/IbidiChamber_Il12bHSS1_timecourse_exp1.csv\", DataFrame)\n",
    "expn = 1\n",
    "gene = \"HSS1_timecourse\"\n",
    "typeprobe = \"type1\"\n",
    "tss1 = CSV.read(\"TSS_raw/\"*gene*\"_exp\"*\"$expn\"*\".csv\", DataFrame)\n",
    "normalise_avgdot(tss1, gene, expn, typeprobe, exp; root = root1, genefolder = \"Il12bHSS1\")\n",
    "\n",
    "gene = \"Il12b_intron_timecourse\"\n",
    "typeprobe = \"type4\"\n",
    "tss1 = CSV.read(\"TSS_raw/\"*gene*\"_exp\"*\"$expn\"*\".csv\", DataFrame)\n",
    "normalise_avgdot(tss1, gene, expn, typeprobe, exp; root = root1, genefolder = \"Il12bHSS1\")\n",
    "\n",
    "root1 = ROOT2\n",
    "exp = CSV.read(\"IbidiChambers/IbidiChamber_Il12bHSS1_timecourse_exp2.csv\", DataFrame)\n",
    "expn = 2\n",
    "gene = \"HSS1_timecourse\"\n",
    "typeprobe = \"type1\"\n",
    "tss1 = CSV.read(\"TSS_raw/\"*gene*\"_exp\"*\"$expn\"*\".csv\", DataFrame)\n",
    "normalise_avgdot(tss1, gene, expn, typeprobe, exp; root = root1, genefolder = \"Il12bHSS1\")\n",
    "\n",
    "gene = \"Il12b_intron_timecourse\"\n",
    "typeprobe = \"type4\"\n",
    "tss1 = CSV.read(\"TSS_raw/\"*gene*\"_exp\"*\"$expn\"*\".csv\", DataFrame)\n",
    "normalise_avgdot(tss1, gene, expn, typeprobe, exp; root = root1, genefolder = \"Il12bHSS1\")\n"
   ]
  },
  {
   "cell_type": "code",
   "execution_count": null,
   "metadata": {},
   "outputs": [],
   "source": []
  }
 ],
 "metadata": {
  "kernelspec": {
   "display_name": "Julia 1.6.0",
   "language": "julia",
   "name": "julia-1.6"
  },
  "language_info": {
   "file_extension": ".jl",
   "mimetype": "application/julia",
   "name": "julia",
   "version": "1.6.0"
  }
 },
 "nbformat": 4,
 "nbformat_minor": 2
}
