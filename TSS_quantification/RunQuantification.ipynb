{
 "cells": [
  {
   "cell_type": "code",
   "execution_count": 1,
   "metadata": {},
   "outputs": [
    {
     "name": "stderr",
     "output_type": "stream",
     "text": [
      "┌ Info: Precompiling NoLongerProblems_Pandas [5d29c26c-ce79-4baf-a522-6e725d77eda7]\n",
      "└ @ Base loading.jl:1317\n",
      "\u001b[33m\u001b[1m┌ \u001b[22m\u001b[39m\u001b[33m\u001b[1mWarning: \u001b[22m\u001b[39mPackage NoLongerProblems_Pandas does not have Pandas in its dependencies:\n",
      "\u001b[33m\u001b[1m│ \u001b[22m\u001b[39m- If you have NoLongerProblems_Pandas checked out for development and have\n",
      "\u001b[33m\u001b[1m│ \u001b[22m\u001b[39m  added Pandas as a dependency but haven't updated your primary\n",
      "\u001b[33m\u001b[1m│ \u001b[22m\u001b[39m  environment's manifest file, try `Pkg.resolve()`.\n",
      "\u001b[33m\u001b[1m│ \u001b[22m\u001b[39m- Otherwise you may need to report an issue with NoLongerProblems_Pandas\n",
      "\u001b[33m\u001b[1m└ \u001b[22m\u001b[39mLoading Pandas into NoLongerProblems_Pandas from project dependency, future warnings for NoLongerProblems_Pandas are suppressed.\n"
     ]
    },
    {
     "ename": "LoadError",
     "evalue": "LoadError: syntax: missing comma or ) in argument list\nin expression starting at /Users/irr15/Dropbox/Code_Paper/TSS_quantification/Ifit1.jl:63",
     "output_type": "error",
     "traceback": [
      "LoadError: syntax: missing comma or ) in argument list\nin expression starting at /Users/irr15/Dropbox/Code_Paper/TSS_quantification/Ifit1.jl:63",
      "",
      "Stacktrace:",
      " [1] top-level scope",
      "   @ ~/Dropbox/Code_Paper/TSS_quantification/Ifit1.jl:63",
      " [2] include(fname::String)",
      "   @ Base.MainInclude ./client.jl:444",
      " [3] top-level scope",
      "   @ In[1]:1",
      " [4] eval",
      "   @ ./boot.jl:360 [inlined]",
      " [5] include_string(mapexpr::typeof(REPL.softscope), mod::Module, code::String, filename::String)",
      "   @ Base ./loading.jl:1094"
     ]
    }
   ],
   "source": [
    "include(\"Ifit1.jl\")"
   ]
  },
  {
   "cell_type": "code",
   "execution_count": null,
   "metadata": {},
   "outputs": [],
   "source": []
  }
 ],
 "metadata": {
  "kernelspec": {
   "display_name": "Julia 1.6.0",
   "language": "julia",
   "name": "julia-1.6"
  },
  "language_info": {
   "file_extension": ".jl",
   "mimetype": "application/julia",
   "name": "julia",
   "version": "1.6.0"
  }
 },
 "nbformat": 4,
 "nbformat_minor": 2
}
