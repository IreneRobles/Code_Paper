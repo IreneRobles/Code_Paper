{
 "cells": [
  {
   "cell_type": "code",
   "execution_count": 1,
   "metadata": {},
   "outputs": [
    {
     "name": "stderr",
     "output_type": "stream",
     "text": [
      "┌ Info: Precompiling NoLongerProblems_Pandas [5d29c26c-ce79-4baf-a522-6e725d77eda7]\n",
      "└ @ Base loading.jl:1317\n",
      "\u001b[33m\u001b[1m┌ \u001b[22m\u001b[39m\u001b[33m\u001b[1mWarning: \u001b[22m\u001b[39mPackage NoLongerProblems_Pandas does not have Pandas in its dependencies:\n",
      "\u001b[33m\u001b[1m│ \u001b[22m\u001b[39m- If you have NoLongerProblems_Pandas checked out for development and have\n",
      "\u001b[33m\u001b[1m│ \u001b[22m\u001b[39m  added Pandas as a dependency but haven't updated your primary\n",
      "\u001b[33m\u001b[1m│ \u001b[22m\u001b[39m  environment's manifest file, try `Pkg.resolve()`.\n",
      "\u001b[33m\u001b[1m│ \u001b[22m\u001b[39m- Otherwise you may need to report an issue with NoLongerProblems_Pandas\n",
      "\u001b[33m\u001b[1m└ \u001b[22m\u001b[39mLoading Pandas into NoLongerProblems_Pandas from project dependency, future warnings for NoLongerProblems_Pandas are suppressed.\n",
      "┌ Info: Precompiling FQfiles [top-level]\n",
      "└ @ Base loading.jl:1317\n"
     ]
    },
    {
     "ename": "LoadError",
     "evalue": "LoadError: ArgumentError: \"../CellMixExperiments/IbidiChamberSlide_Exp1.csv\" is not a valid file\nin expression starting at /Users/irr15/Dropbox/Code_Paper/TSS_quantification/Ifit1.jl:62",
     "output_type": "error",
     "traceback": [
      "LoadError: ArgumentError: \"../CellMixExperiments/IbidiChamberSlide_Exp1.csv\" is not a valid file\nin expression starting at /Users/irr15/Dropbox/Code_Paper/TSS_quantification/Ifit1.jl:62",
      "",
      "Stacktrace:",
      "  [1] Header",
      "    @ ~/.julia/packages/CSV/CJfFO/src/header.jl:90 [inlined]",
      "  [2] CSV.File(source::String; header::Int64, normalizenames::Bool, datarow::Int64, skipto::Nothing, footerskip::Int64, transpose::Bool, comment::Nothing, use_mmap::Nothing, ignoreemptylines::Bool, select::Nothing, drop::Nothing, missingstrings::Vector{String}, missingstring::String, delim::Nothing, ignorerepeated::Bool, quotechar::Char, openquotechar::Nothing, closequotechar::Nothing, escapechar::Char, dateformat::Nothing, dateformats::Nothing, decimal::UInt8, truestrings::Vector{String}, falsestrings::Vector{String}, type::Nothing, types::Nothing, typemap::Dict{Type, Type}, pool::Float64, lazystrings::Bool, strict::Bool, silencewarnings::Bool, debug::Bool, parsingdebug::Bool, kw::Base.Iterators.Pairs{Union{}, Union{}, Tuple{}, NamedTuple{(), Tuple{}}})",
      "    @ CSV ~/.julia/packages/CSV/CJfFO/src/file.jl:217",
      "  [3] CSV.File(source::String)",
      "    @ CSV ~/.julia/packages/CSV/CJfFO/src/file.jl:217",
      "  [4] read(source::String, sink::Type; copycols::Bool, kwargs::Base.Iterators.Pairs{Union{}, Union{}, Tuple{}, NamedTuple{(), Tuple{}}})",
      "    @ CSV ~/.julia/packages/CSV/CJfFO/src/CSV.jl:45",
      "  [5] read(source::String, sink::Type)",
      "    @ CSV ~/.julia/packages/CSV/CJfFO/src/CSV.jl:42",
      "  [6] top-level scope",
      "    @ ~/Dropbox/Code_Paper/TSS_quantification/Ifit1.jl:62",
      "  [7] include(fname::String)",
      "    @ Base.MainInclude ./client.jl:444",
      "  [8] top-level scope",
      "    @ In[1]:1",
      "  [9] eval",
      "    @ ./boot.jl:360 [inlined]",
      " [10] include_string(mapexpr::typeof(REPL.softscope), mod::Module, code::String, filename::String)",
      "    @ Base ./loading.jl:1094"
     ]
    }
   ],
   "source": [
    "include(\"Ifit1.jl\")"
   ]
  },
  {
   "cell_type": "code",
   "execution_count": null,
   "metadata": {},
   "outputs": [],
   "source": []
  }
 ],
 "metadata": {
  "kernelspec": {
   "display_name": "Julia 1.6.0",
   "language": "julia",
   "name": "julia-1.6"
  },
  "language_info": {
   "file_extension": ".jl",
   "mimetype": "application/julia",
   "name": "julia",
   "version": "1.6.0"
  }
 },
 "nbformat": 4,
 "nbformat_minor": 2
}
