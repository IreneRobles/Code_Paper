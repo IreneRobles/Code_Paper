{
 "cells": [
  {
   "cell_type": "code",
   "execution_count": 8,
   "metadata": {},
   "outputs": [
    {
     "name": "stderr",
     "output_type": "stream",
     "text": [
      "WARNING: replacing module TSSs.\n"
     ]
    },
    {
     "data": {
      "text/plain": [
       "normalise_avgdot (generic function with 1 method)"
      ]
     },
     "execution_count": 8,
     "metadata": {},
     "output_type": "execute_result"
    }
   ],
   "source": [
    "include(\"StandardCode.jl\")\n",
    "\n",
    "function normalise_avgdot(df, genename, expn, typeprobe, ibidislide; root = pwd(), genefolder = \"Gene\")\n",
    "    dot1_r1 = TSSs.int_brightest_pixel(TSSs.read_tiff_as_gray(root * typeprobe *\"/_mRNA_AVG_ns.tif\").*255; radious = 1)\n",
    "    dot1_r2 = TSSs.int_brightest_pixel(TSSs.read_tiff_as_gray(root * typeprobe * \"/_mRNA_AVG_ns.tif\").*255; radious = 2)\n",
    "    dot1_r3 = TSSs.int_brightest_pixel(TSSs.read_tiff_as_gray(root * typeprobe * \"/_mRNA_AVG_ns.tif\").*255; radious = 3)\n",
    "\n",
    "    df[!,:TSS1_r1] = df[!,:locus1_int1_TSS2] ./ dot1_r1\n",
    "    df[!,:TSS1_r2] = df[!,:locus1_int2_TSS2] ./ dot1_r2\n",
    "    df[!,:TSS1_r3] = df[!,:locus1_int3_TSS2] ./ dot1_r3\n",
    "    df[!,:TSS2_r1] = df[!,:locus2_int1_TSS2] ./ dot1_r1\n",
    "    df[!,:TSS2_r2] = df[!,:locus2_int2_TSS2] ./ dot1_r2\n",
    "    df[!,:TSS2_r3] = df[!,:locus2_int3_TSS2] ./ dot1_r3\n",
    "    \n",
    "    \n",
    "    CSV.write(\"TSS_avgdot/\"*genename*\"_exp\"*\"$expn\"*\".csv\", df)\n",
    "    ibidislide[!,:Well] = [split(ii, \" (\")[1] for ii in ibidislide[!,:Well]]\n",
    "    cp_dir = root1*\"CP_results\"\n",
    "    cells1 = CellInfo(cp_dir, add_probetypes(ibidislide));\n",
    "    exp1 = CSV.read(\"TSS_avgdot/\"*gene*\"_exp\"*\"$expn\"*\".csv\", DataFrame)\n",
    "    exp1[!,:Well] = [split(split(ii, \"S 0_\")[2], \"_X\")[1] for ii in exp1[!,:Image]]\n",
    "    exp1 = innerjoin(exp1, ibidislide, on= \"Well\")\n",
    "    CSV.write(genefolder*\"/\"*gene*\"_exp\"*\"$expn\"*\"_TSS.csv\", exp1)\n",
    "    CSV.write(genefolder*\"/\"*gene*\"_exp\"*\"$expn\"*\"_CP.csv\", cells1)\n",
    "    fq_dir1 = root1*typeprobe*\"/\"\n",
    "    fq1 = FQ_summary_MATURE(fq_dir1)\n",
    "    CSV.write(genefolder*\"/\"*gene*\"_exp\"*\"$expn\"*\"_FQ.csv\", fq1)\n",
    "end\n"
   ]
  },
  {
   "cell_type": "code",
   "execution_count": 9,
   "metadata": {},
   "outputs": [
    {
     "data": {
      "text/plain": [
       "\"/Volumes/lymphdev\\$/IreneR/Confocal/EnhPeliSertad/Exp3_4/\""
      ]
     },
     "execution_count": 9,
     "metadata": {},
     "output_type": "execute_result"
    }
   ],
   "source": [
    "folder = \"EhnPeliSertad\"\n",
    "ROOT1 = \"/Volumes/lymphdev\\$/IreneR/Confocal/EnhPeliSertad/Exp1_2/\"\n",
    "ROOT2 = \"/Volumes/lymphdev\\$/IreneR/Confocal/EnhPeliSertad/Exp3_4/\"\n",
    "#ROOT1 = \"/Volumes/IreneRoblesDrive/Confocal/EnhPeliSertad/Exp1_2/\"\n",
    "#ROOT2 = \"/Volumes/IreneRoblesDrive/Confocal/EnhPeliSertad/Exp3_4/\""
   ]
  },
  {
   "cell_type": "code",
   "execution_count": 10,
   "metadata": {},
   "outputs": [
    {
     "name": "stderr",
     "output_type": "stream",
     "text": [
      "\u001b[32mProgress: 100%|█████████████████████████████████████████| Time: 0:32:13\u001b[39m\n",
      "\u001b[32mProgress: 100%|█████████████████████████████████████████| Time: 0:36:53\u001b[39m\n"
     ]
    },
    {
     "data": {
      "text/plain": [
       "\"TSS_raw/Enh_exp2.csv\""
      ]
     },
     "execution_count": 10,
     "metadata": {},
     "output_type": "execute_result"
    }
   ],
   "source": [
    "root1 = ROOT1\n",
    "\n",
    "expn = 1\n",
    "gene = \"Enh\"\n",
    "typeprobe = \"type6\"\n",
    "tss_c4 = root1 * \"Segmentation_type6/_FQ_outline/_TS_detect\"\n",
    "imagesfolder = root1 * \"/tiff3D\"\n",
    "images_pat = TSSs.get_image_patterns(tss_c4)\n",
    "d = TSSs.TSS_raw_quant(tss_c4, tss_c4, imagesfolder, 2; xy = 0.189, zx = 0.5)\n",
    "CSV.write(\"TSS_raw/\"*gene*\"_exp\"*\"$expn\"*\".csv\", d)\n",
    "\n",
    "root1 = ROOT2\n",
    "expn = 2\n",
    "gene = \"Enh\"\n",
    "typeprobe = \"type6\"\n",
    "tss_c4 = root1 * \"Segmentation_type6/_FQ_outline/_TS_detect\"\n",
    "imagesfolder = root1 * \"/tiff3D\"\n",
    "images_pat = TSSs.get_image_patterns(tss_c4)\n",
    "d = TSSs.TSS_raw_quant(tss_c4, tss_c4, imagesfolder, 2; xy = 0.189, zx = 0.5)\n",
    "CSV.write(\"TSS_raw/\"*gene*\"_exp\"*\"$expn\"*\".csv\", d)"
   ]
  },
  {
   "cell_type": "code",
   "execution_count": 11,
   "metadata": {},
   "outputs": [
    {
     "name": "stderr",
     "output_type": "stream",
     "text": [
      "\u001b[32mProgress: 100%|█████████████████████████████████████████| Time: 0:31:07\u001b[39m\n",
      "\u001b[32mProgress: 100%|█████████████████████████████████████████| Time: 0:35:35\u001b[39m\n",
      "\u001b[32mProgress: 100%|█████████████████████████████████████████| Time: 0:31:04\u001b[39m\n",
      "\u001b[32mProgress: 100%|█████████████████████████████████████████| Time: 0:56:18\u001b[39m\n"
     ]
    },
    {
     "data": {
      "text/plain": [
       "\"TSS_raw/Sertad2_intron_exp2.csv\""
      ]
     },
     "execution_count": 11,
     "metadata": {},
     "output_type": "execute_result"
    }
   ],
   "source": [
    "root1 = ROOT1\n",
    "\n",
    "expn = 1\n",
    "gene = \"Peli1_intron\"\n",
    "typeprobe = \"type4\"\n",
    "tss_c4 = root1 * \"Segmentation_type4/_FQ_outline/_TS_detect\"\n",
    "imagesfolder = root1 * \"/tiff3D\"\n",
    "images_pat = TSSs.get_image_patterns(tss_c4)\n",
    "d = TSSs.TSS_raw_quant(tss_c4, tss_c4, imagesfolder, 3; xy = 0.189, zx = 0.5)\n",
    "CSV.write(\"TSS_raw/\"*gene*\"_exp\"*\"$expn\"*\".csv\", d)\n",
    "\n",
    "root1 = ROOT2\n",
    "expn = 2\n",
    "gene = \"Peli1_intron\"\n",
    "typeprobe = \"type4\"\n",
    "tss_c4 = root1 * \"Segmentation_type4/_FQ_outline/_TS_detect\"\n",
    "imagesfolder = root1 * \"/tiff3D\"\n",
    "images_pat = TSSs.get_image_patterns(tss_c4)\n",
    "d = TSSs.TSS_raw_quant(tss_c4, tss_c4, imagesfolder, 3; xy = 0.189, zx = 0.5)\n",
    "CSV.write(\"TSS_raw/\"*gene*\"_exp\"*\"$expn\"*\".csv\", d)\n",
    "\n",
    "\n",
    "root1 = ROOT1\n",
    "\n",
    "expn = 1\n",
    "gene = \"Sertad2_intron\"\n",
    "typeprobe = \"type1\"\n",
    "tss_c4 = root1 * \"Segmentation_type1/_FQ_outline/_TS_detect\"\n",
    "imagesfolder = root1 * \"/tiff3D\"\n",
    "images_pat = TSSs.get_image_patterns(tss_c4)\n",
    "d = TSSs.TSS_raw_quant(tss_c4, tss_c4, imagesfolder, 4; xy = 0.189, zx = 0.5)\n",
    "CSV.write(\"TSS_raw/\"*gene*\"_exp\"*\"$expn\"*\".csv\", d)\n",
    "\n",
    "root1 = ROOT2\n",
    "expn = 2\n",
    "gene = \"Sertad2_intron\"\n",
    "typeprobe = \"type1\"\n",
    "tss_c4 = root1 * \"Segmentation_type1/_FQ_outline/_TS_detect\"\n",
    "imagesfolder = root1 * \"/tiff3D\"\n",
    "images_pat = TSSs.get_image_patterns(tss_c4)\n",
    "d = TSSs.TSS_raw_quant(tss_c4, tss_c4, imagesfolder, 4; xy = 0.189, zx = 0.5)\n",
    "CSV.write(\"TSS_raw/\"*gene*\"_exp\"*\"$expn\"*\".csv\", d)"
   ]
  },
  {
   "cell_type": "code",
   "execution_count": 12,
   "metadata": {},
   "outputs": [
    {
     "data": {
      "text/plain": [
       "\"EhnPeliSertad/Sertad2_intron_exp2_FQ.csv\""
      ]
     },
     "execution_count": 12,
     "metadata": {},
     "output_type": "execute_result"
    }
   ],
   "source": [
    "\n",
    "root1 = ROOT1\n",
    "exp = CSV.read(\"IbidiChambers/IbidiChamberSlide_EnhPeliSertad1.csv\", DataFrame)\n",
    "expn = 1\n",
    "gene = \"Enh\"\n",
    "typeprobe = \"type6\"\n",
    "tss1 = CSV.read(\"TSS_raw/\"*gene*\"_exp\"*\"$expn\"*\".csv\", DataFrame)\n",
    "normalise_avgdot(tss1, gene, expn, typeprobe, exp; root = root1, genefolder = folder)\n",
    "\n",
    "gene = \"Peli1_intron\"\n",
    "typeprobe = \"type4\"\n",
    "tss1 = CSV.read(\"TSS_raw/\"*gene*\"_exp\"*\"$expn\"*\".csv\", DataFrame)\n",
    "normalise_avgdot(tss1, gene, expn, typeprobe, exp; root = root1, genefolder = folder)\n",
    "\n",
    "gene = \"Sertad2_intron\"\n",
    "typeprobe = \"type1\"\n",
    "tss1 = CSV.read(\"TSS_raw/\"*gene*\"_exp\"*\"$expn\"*\".csv\", DataFrame)\n",
    "normalise_avgdot(tss1, gene, expn, typeprobe, exp; root = root1, genefolder = folder)\n",
    "\n",
    "\n",
    "root1 = ROOT2\n",
    "exp = CSV.read(\"IbidiChambers/IbidiChamberSlide_EnhPeliSertad2.csv\", DataFrame)\n",
    "expn = 2\n",
    "gene = \"Enh\"\n",
    "typeprobe = \"type6\"\n",
    "tss1 = CSV.read(\"TSS_raw/\"*gene*\"_exp\"*\"$expn\"*\".csv\", DataFrame)\n",
    "normalise_avgdot(tss1, gene, expn, typeprobe, exp; root = root1, genefolder = folder)\n",
    "\n",
    "gene = \"Peli1_intron\"\n",
    "typeprobe = \"type4\"\n",
    "tss1 = CSV.read(\"TSS_raw/\"*gene*\"_exp\"*\"$expn\"*\".csv\", DataFrame)\n",
    "normalise_avgdot(tss1, gene, expn, typeprobe, exp; root = root1, genefolder = folder)\n",
    "\n",
    "gene = \"Sertad2_intron\"\n",
    "typeprobe = \"type1\"\n",
    "tss1 = CSV.read(\"TSS_raw/\"*gene*\"_exp\"*\"$expn\"*\".csv\", DataFrame)\n",
    "normalise_avgdot(tss1, gene, expn, typeprobe, exp; root = root1, genefolder = folder)\n",
    "\n",
    "\n"
   ]
  },
  {
   "cell_type": "code",
   "execution_count": null,
   "metadata": {},
   "outputs": [],
   "source": []
  },
  {
   "cell_type": "code",
   "execution_count": null,
   "metadata": {},
   "outputs": [],
   "source": []
  },
  {
   "cell_type": "code",
   "execution_count": null,
   "metadata": {},
   "outputs": [],
   "source": []
  },
  {
   "cell_type": "code",
   "execution_count": null,
   "metadata": {},
   "outputs": [],
   "source": []
  }
 ],
 "metadata": {
  "kernelspec": {
   "display_name": "Julia 1.6.0",
   "language": "julia",
   "name": "julia-1.6"
  },
  "language_info": {
   "file_extension": ".jl",
   "mimetype": "application/julia",
   "name": "julia",
   "version": "1.6.0"
  }
 },
 "nbformat": 4,
 "nbformat_minor": 2
}
