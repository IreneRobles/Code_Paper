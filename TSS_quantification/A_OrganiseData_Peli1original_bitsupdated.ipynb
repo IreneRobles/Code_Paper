{
 "cells": [
  {
   "cell_type": "code",
   "execution_count": 4,
   "metadata": {},
   "outputs": [
    {
     "data": {
      "text/plain": [
       "bs_bf (generic function with 1 method)"
      ]
     },
     "execution_count": 4,
     "metadata": {},
     "output_type": "execute_result"
    }
   ],
   "source": [
    "include(\"StandardCode.jl\")"
   ]
  },
  {
   "cell_type": "code",
   "execution_count": 7,
   "metadata": {},
   "outputs": [
    {
     "data": {
      "text/plain": [
       "normalise_avgdot (generic function with 1 method)"
      ]
     },
     "execution_count": 7,
     "metadata": {},
     "output_type": "execute_result"
    }
   ],
   "source": [
    "\n",
    "function TSSs.TSS_raw_quant(t2, tss_folder, image_folder, n; xy = 0.189, zx = 0.5)\n",
    "    \n",
    "    images_pat = intersect(TSSs.get_image_patterns(t2), TSSs.get_image_patterns(tss_folder))\n",
    "    \n",
    "    p = Progress(length(images_pat), 1)\n",
    "\n",
    "    dfs = []\n",
    "\n",
    "    for a in 1:length(images_pat)\n",
    "        next!(p)\n",
    "        \n",
    "\n",
    "        pat = images_pat[a]\n",
    "\n",
    "        # Get all the TSS in the images\n",
    "        a = TSSs.find_outline(tss_folder, pat)\n",
    "        tss = TSSs.cell_tss_dict(a)\n",
    "        tss = TSSs.meassure_tss(tss, imagesfolder, pat, n, xy = xy, zx = zx)\n",
    "    \n",
    "        df = TSSs.analysis_singlechannel(tss; image = pat,  tss_name = :TSS2)\n",
    "        push!(dfs, df)\n",
    "\n",
    "    end\n",
    "    \n",
    "    d = TSSs.join_in_all_common_columns(dfs...)\n",
    "    return d\n",
    "    \n",
    "end\n",
    "\n",
    "function normalise_avgdot(df, genename, expn, typeprobe, ibidislide; root = pwd(), genefolder = \"Gene\")\n",
    "    dot1_r1 = TSSs.int_brightest_pixel(TSSs.read_tiff_as_gray(root * typeprobe *\"/_mRNA_AVG_ns.tif\").*255; radious = 1)\n",
    "    dot1_r2 = TSSs.int_brightest_pixel(TSSs.read_tiff_as_gray(root * typeprobe * \"/_mRNA_AVG_ns.tif\").*255; radious = 2)\n",
    "    df[!,:TSS1_r1] = df[!,:locus1_int1_TSS2] ./ dot1_r1\n",
    "    df[!,:TSS1_r2] = df[!,:locus1_int2_TSS2] ./ dot1_r2\n",
    "    df[!,:TSS2_r1] = df[!,:locus2_int1_TSS2] ./ dot1_r1\n",
    "    df[!,:TSS2_r2] = df[!,:locus2_int2_TSS2] ./ dot1_r2\n",
    "    CSV.write(\"TSS_avgdot/\"*genename*\"_exp\"*\"$expn\"*\".csv\", df)\n",
    "    ibidislide[!,:Well] = [split(ii, \" (\")[1] for ii in ibidislide[!,:Well]]\n",
    "    cp_dir = root1*\"CP_results\"\n",
    "    cells1 = CellInfo(cp_dir, add_probetypes(exp));\n",
    "    exp1 = CSV.read(\"TSS_avgdot/\"*gene*\"_exp\"*\"$expn\"*\".csv\", DataFrame)\n",
    "    exp1[!,:Well] = [split(split(ii, \"S 0_\")[2], \"_X\")[1] for ii in exp1[!,:Image]]\n",
    "    exp1 = innerjoin(exp1, ibidislide, on= \"Well\")\n",
    "    CSV.write(genefolder*\"/\"*gene*\"_exp\"*\"$expn\"*\"_TSS.csv\", exp1)\n",
    "    CSV.write(genefolder*\"/\"*gene*\"_exp\"*\"$expn\"*\"_CP.csv\", cells1)\n",
    "    fq_dir1 = root1*typeprobe*\"/\"\n",
    "    fq1 = FQ_summary_MATURE(fq_dir1)\n",
    "    CSV.write(genefolder*\"/\"*gene*\"_exp\"*\"$expn\"*\"_FQ.csv\", fq1)\n",
    "end\n"
   ]
  },
  {
   "cell_type": "code",
   "execution_count": 1,
   "metadata": {},
   "outputs": [
    {
     "data": {
      "text/plain": [
       "\"/Volumes/lymphdev\\$/IreneR/Confocal/peliinex/Rep3/\""
      ]
     },
     "execution_count": 1,
     "metadata": {},
     "output_type": "execute_result"
    }
   ],
   "source": [
    "ROOT1 = \"/Volumes/lymphdev\\$/IreneR/Confocal/peliinex/Rep1_Day2/\"\n",
    "ROOT2 = \"/Volumes/lymphdev\\$/IreneR/Confocal/peliinex/Rep2/\"\n",
    "ROOT3 = \"/Volumes/lymphdev\\$/IreneR/Confocal/peliinex/Rep3/\""
   ]
  },
  {
   "cell_type": "code",
   "execution_count": 25,
   "metadata": {},
   "outputs": [
    {
     "name": "stderr",
     "output_type": "stream",
     "text": [
      "\u001b[32mProgress: 100%|█████████████████████████████████████████| Time: 0:50:22\u001b[39m\n"
     ]
    },
    {
     "data": {
      "text/plain": [
       "\"TSS_raw/Peli1_intron_original_exp1.csv\""
      ]
     },
     "execution_count": 25,
     "metadata": {},
     "output_type": "execute_result"
    }
   ],
   "source": [
    "root1 = ROOT1\n",
    "expn = 1\n",
    "gene = \"Peli1_intron_original\"\n",
    "typeprobe = \"type4\"\n",
    "tss_c4 = root1 * \"Segmentation_type4/_FQ_outline/_TS_detect\"\n",
    "imagesfolder = root1 * \"/tiff3D\"\n",
    "images_pat = TSSs.get_image_patterns(tss_c4)\n",
    "d = TSSs.TSS_raw_quant(tss_c4, tss_c4, imagesfolder, 3; xy = 0.189, zx = 0.5)\n",
    "CSV.write(\"TSS_raw/\"*gene*\"_exp\"*\"$expn\"*\".csv\", d)"
   ]
  },
  {
   "cell_type": "code",
   "execution_count": 26,
   "metadata": {},
   "outputs": [
    {
     "name": "stderr",
     "output_type": "stream",
     "text": [
      "\u001b[32mProgress: 100%|█████████████████████████████████████████| Time: 1:18:47\u001b[39m\n"
     ]
    },
    {
     "data": {
      "text/plain": [
       "\"TSS_raw/Peli1_intron_original_exp2.csv\""
      ]
     },
     "execution_count": 26,
     "metadata": {},
     "output_type": "execute_result"
    }
   ],
   "source": [
    "root1 = ROOT2\n",
    "expn = 2\n",
    "gene = \"Peli1_intron_original\"\n",
    "typeprobe = \"type4\"\n",
    "tss_c4 = root1 * \"Segmentation_type4/_FQ_outline/_TS_detect\"\n",
    "imagesfolder = root1 * \"/tiff3D\"\n",
    "images_pat = TSSs.get_image_patterns(tss_c4)\n",
    "d = TSSs.TSS_raw_quant(tss_c4, tss_c4, imagesfolder, 3; xy = 0.189, zx = 0.5)\n",
    "CSV.write(\"TSS_raw/\"*gene*\"_exp\"*\"$expn\"*\".csv\", d)"
   ]
  },
  {
   "cell_type": "code",
   "execution_count": 27,
   "metadata": {},
   "outputs": [
    {
     "name": "stderr",
     "output_type": "stream",
     "text": [
      "\u001b[32mProgress: 100%|█████████████████████████████████████████| Time: 0:52:13\u001b[39m\n"
     ]
    },
    {
     "data": {
      "text/plain": [
       "\"TSS_raw/Peli1_intron_original_exp3.csv\""
      ]
     },
     "execution_count": 27,
     "metadata": {},
     "output_type": "execute_result"
    }
   ],
   "source": [
    "root1 = ROOT3\n",
    "expn = 3\n",
    "gene = \"Peli1_intron_original\"\n",
    "tss_c4 = root1 * \"Segmentation_type4/_FQ_outline/_TS_detect\"\n",
    "imagesfolder = root1 * \"/tiff3D\"\n",
    "images_pat = TSSs.get_image_patterns(tss_c4)\n",
    "d = TSSs.TSS_raw_quant(tss_c4, tss_c4, imagesfolder, 3; xy = 0.189, zx = 0.5)\n",
    "CSV.write(\"TSS_raw/\"*gene*\"_exp\"*\"$expn\"*\".csv\", d)"
   ]
  },
  {
   "cell_type": "code",
   "execution_count": 8,
   "metadata": {},
   "outputs": [
    {
     "data": {
      "text/plain": [
       "\"Peli1_original/Peli1_intron_original_exp3_FQ.csv\""
      ]
     },
     "execution_count": 8,
     "metadata": {},
     "output_type": "execute_result"
    }
   ],
   "source": [
    "folder = \"Peli1_original\"\n",
    "\n",
    "root1 = ROOT1\n",
    "exp = CSV.read(\"IbidiChambers/IbidiChamberSlide_Peli1original_1.csv\", DataFrame)\n",
    "expn = 1\n",
    "gene = \"Peli1_intron_original\"\n",
    "typeprobe = \"type4\"\n",
    "tss1 = CSV.read(\"TSS_raw/\"*gene*\"_exp\"*\"$expn\"*\".csv\", DataFrame)\n",
    "normalise_avgdot(tss1, gene, expn, typeprobe, exp; root = root1, genefolder = folder)\n",
    "\n",
    "root1 = ROOT2\n",
    "exp = CSV.read(\"IbidiChambers/IbidiChamberSlide_Peli1original_2.csv\", DataFrame)\n",
    "expn = 2\n",
    "gene = \"Peli1_intron_original\"\n",
    "typeprobe = \"type4\"\n",
    "tss1 = CSV.read(\"TSS_raw/\"*gene*\"_exp\"*\"$expn\"*\".csv\", DataFrame)\n",
    "normalise_avgdot(tss1, gene, expn, typeprobe, exp; root = root1, genefolder = folder)\n",
    "\n",
    "root1 = ROOT3\n",
    "exp = CSV.read(\"IbidiChambers/IbidiChamberSlide_Peli1original_3.csv\", DataFrame)\n",
    "expn = 3\n",
    "gene = \"Peli1_intron_original\"\n",
    "typeprobe = \"type4\"\n",
    "tss1 = CSV.read(\"TSS_raw/\"*gene*\"_exp\"*\"$expn\"*\".csv\", DataFrame)\n",
    "normalise_avgdot(tss1, gene, expn, typeprobe, exp; root = root1, genefolder = folder)\n"
   ]
  },
  {
   "cell_type": "code",
   "execution_count": 9,
   "metadata": {},
   "outputs": [
    {
     "data": {
      "text/plain": [
       "\"Peli1_original/Peli1_intron_original_exp3_FQ_mature.csv\""
      ]
     },
     "execution_count": 9,
     "metadata": {},
     "output_type": "execute_result"
    }
   ],
   "source": [
    "genefolder = \"Peli1_original\"\n",
    "root1 = ROOT1\n",
    "expn = 1\n",
    "typeprobe = \"type6\"\n",
    "exp = CSV.read(\"IbidiChambers/IbidiChamberSlide_Peli1original_1.csv\", DataFrame)\n",
    "\n",
    "fq_dir1 = root1*typeprobe*\"/\"\n",
    "fq1 = FQ_summary_MATURE(fq_dir1)\n",
    "CSV.write(genefolder*\"/\"*gene*\"_exp\"*\"$expn\"*\"_FQ_mature.csv\", fq1)\n",
    "\n",
    "root1 = ROOT2\n",
    "exp = CSV.read(\"IbidiChambers/IbidiChamberSlide_Peli1original_2.csv\", DataFrame)\n",
    "expn = 2\n",
    "\n",
    "typeprobe = \"type6\"\n",
    "fq_dir1 = root1*typeprobe*\"/\"\n",
    "fq1 = FQ_summary_MATURE(fq_dir1)\n",
    "CSV.write(genefolder*\"/\"*gene*\"_exp\"*\"$expn\"*\"_FQ_mature.csv\", fq1)\n",
    "\n",
    "root1 = ROOT3\n",
    "exp = CSV.read(\"IbidiChambers/IbidiChamberSlide_Peli1original_3.csv\", DataFrame)\n",
    "expn = 3\n",
    "typeprobe = \"type6\"\n",
    "fq_dir1 = root1*typeprobe*\"/\"\n",
    "fq1 = FQ_summary_MATURE(fq_dir1)\n",
    "CSV.write(genefolder*\"/\"*gene*\"_exp\"*\"$expn\"*\"_FQ_mature.csv\", fq1)\n"
   ]
  },
  {
   "cell_type": "code",
   "execution_count": null,
   "metadata": {},
   "outputs": [],
   "source": []
  },
  {
   "cell_type": "code",
   "execution_count": null,
   "metadata": {},
   "outputs": [],
   "source": []
  },
  {
   "cell_type": "code",
   "execution_count": null,
   "metadata": {},
   "outputs": [],
   "source": []
  }
 ],
 "metadata": {
  "kernelspec": {
   "display_name": "Julia 1.6.0",
   "language": "julia",
   "name": "julia-1.6"
  },
  "language_info": {
   "file_extension": ".jl",
   "mimetype": "application/julia",
   "name": "julia",
   "version": "1.6.0"
  }
 },
 "nbformat": 4,
 "nbformat_minor": 2
}
