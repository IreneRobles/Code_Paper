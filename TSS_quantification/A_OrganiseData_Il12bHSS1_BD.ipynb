{
 "cells": [
  {
   "cell_type": "code",
   "execution_count": 22,
   "metadata": {},
   "outputs": [
    {
     "name": "stderr",
     "output_type": "stream",
     "text": [
      "WARNING: replacing module TSSs.\n"
     ]
    },
    {
     "data": {
      "text/plain": [
       "normalise_avgdot (generic function with 1 method)"
      ]
     },
     "execution_count": 22,
     "metadata": {},
     "output_type": "execute_result"
    }
   ],
   "source": [
    "include(\"StandardCode.jl\")\n",
    "using Statistics\n",
    "\n",
    "function normalise_avgdot(df, genename, expn, typeprobe, ibidislide; root = pwd(), genefolder = \"Gene\", cellinfo = CellInfo)\n",
    "    dot1_r1 = TSSs.int_brightest_pixel(TSSs.read_tiff_as_gray(root * typeprobe *\"/_mRNA_AVG_ns.tif\").*25.5; radious = 1)\n",
    "    dot1_r2 = TSSs.int_brightest_pixel(TSSs.read_tiff_as_gray(root * typeprobe * \"/_mRNA_AVG_ns.tif\").*25.5; radious = 2)\n",
    "    dot1_r3 = TSSs.int_brightest_pixel(TSSs.read_tiff_as_gray(root * typeprobe * \"/_mRNA_AVG_ns.tif\").*25.5; radious = 3)\n",
    "\n",
    "    df[!,:TSS1_r1] = df[!,:locus1_int1_TSS2] ./ dot1_r1\n",
    "    df[!,:TSS1_r2] = df[!,:locus1_int2_TSS2] ./ dot1_r2\n",
    "    df[!,:TSS1_r3] = df[!,:locus1_int3_TSS2] ./ dot1_r3\n",
    "    df[!,:TSS2_r1] = df[!,:locus2_int1_TSS2] ./ dot1_r1\n",
    "    df[!,:TSS2_r2] = df[!,:locus2_int2_TSS2] ./ dot1_r2\n",
    "    df[!,:TSS2_r3] = df[!,:locus2_int3_TSS2] ./ dot1_r3\n",
    "    \n",
    "    \n",
    "    CSV.write(\"TSS_avgdot/\"*genename*\"_exp\"*\"$expn\"*\".csv\", df)\n",
    "    ibidislide[!,:Well] = [split(ii, \" (\")[1] for ii in ibidislide[!,:Well]]\n",
    "    cp_dir = root1*\"CP_results\"\n",
    "     cells1 = cellinfo(cp_dir, add_probetypes(exp));\n",
    "    exp1 = CSV.read(\"TSS_avgdot/\"*gene*\"_exp\"*\"$expn\"*\".csv\", DataFrame)\n",
    "      well = []\n",
    "    for ii in exp1[!,:Image]\n",
    "        try\n",
    "            push!(well,split(split(ii, \"S 0_\")[2], \"_X\")[1])\n",
    "        catch\n",
    "            push!(well,split(split(ii, \"_Pos\")[1], \"1_0_\")[2])\n",
    "        end\n",
    "    end\n",
    "    exp1[!,:Well] = well\n",
    "    exp1 = innerjoin(exp1, ibidislide, on= \"Well\")\n",
    "    CSV.write(genefolder*\"/\"*gene*\"_exp\"*\"$expn\"*\"_TSS.csv\", exp1)\n",
    "    CSV.write(genefolder*\"/\"*gene*\"_exp\"*\"$expn\"*\"_CP.csv\", cells1)\n",
    "    fq_dir1 = root1*typeprobe*\"/\"\n",
    "    fq1 = FQ_summary_MATURE(fq_dir1)\n",
    "    CSV.write(genefolder*\"/\"*gene*\"_exp\"*\"$expn\"*\"_FQ.csv\", fq1)\n",
    "end\n"
   ]
  },
  {
   "cell_type": "code",
   "execution_count": 5,
   "metadata": {},
   "outputs": [
    {
     "data": {
      "text/plain": [
       "\"/Volumes/lymphdev\\$/IreneR/Confocal/EnhancerInducibleGenes/Il12bBD/Rep10/\""
      ]
     },
     "execution_count": 5,
     "metadata": {},
     "output_type": "execute_result"
    }
   ],
   "source": [
    "ROOT1 = \"/Volumes/lymphdev\\$/IreneR/Confocal/EnhancerInducibleGenes/Il12bBD/Rep1/\"\n",
    "ROOT2 = \"/Volumes/lymphdev\\$/IreneR/Confocal/EnhancerInducibleGenes/Il12bBD/Rep2/\"\n",
    "ROOT3 = \"/Volumes/lymphdev\\$/IreneR/Confocal/EnhancerInducibleGenes/Il12bBD/Rep5/\"\n",
    "ROOT4 = \"/Volumes/lymphdev\\$/IreneR/Confocal/EnhancerInducibleGenes/Il12bBD/Rep6/\"\n",
    "ROOT5 = \"/Volumes/lymphdev\\$/IreneR/Confocal/EnhancerInducibleGenes/Il12bBD/Rep78/\"\n",
    "ROOT6 = \"/Volumes/lymphdev\\$/IreneR/Confocal/EnhancerInducibleGenes/Il12bBD/Rep9/\"\n",
    "ROOT7 = \"/Volumes/lymphdev\\$/IreneR/Confocal/EnhancerInducibleGenes/Il12bBD/Rep10/\""
   ]
  },
  {
   "cell_type": "code",
   "execution_count": 37,
   "metadata": {},
   "outputs": [
    {
     "name": "stderr",
     "output_type": "stream",
     "text": [
      "\u001b[32mProgress: 100%|█████████████████████████████████████████| Time: 0:19:55\u001b[39m\n",
      "\u001b[32mProgress:  64%|██████████████████████████▎              |  ETA: 0:11:45\u001b[39m"
     ]
    },
    {
     "ename": "LoadError",
     "evalue": "InterruptException:",
     "output_type": "error",
     "traceback": [
      "InterruptException:",
      "",
      "Stacktrace:",
      "  [1] _metadata(wand::ImageMagick.MagickWand)",
      "    @ ImageMagick ~/.julia/packages/ImageMagick/mOSDB/src/ImageMagick.jl:122",
      "  [2] load_(file::String, permute_horizontal::Bool; ImageType::Type, extraprop::String, extrapropertynames::Nothing, view::Bool)",
      "    @ ImageMagick ~/.julia/packages/ImageMagick/mOSDB/src/ImageMagick.jl:149",
      "  [3] load_ (repeats 2 times)",
      "    @ ~/.julia/packages/ImageMagick/mOSDB/src/ImageMagick.jl:139 [inlined]",
      "  [4] #load#30",
      "    @ ~/.julia/packages/ImageMagick/mOSDB/src/ImageMagick.jl:126 [inlined]",
      "  [5] load",
      "    @ ~/.julia/packages/ImageMagick/mOSDB/src/ImageMagick.jl:126 [inlined]",
      "  [6] read_tiff_as_gray(imfile::String)",
      "    @ Main.TSSs ~/Dropbox/Code/TSSs/src/FilesAndImages.jl:17",
      "  [7] meassure_tss(tss_outline::Dict{String, Dict{String, Dict}}, tss_image::String; xy::Float64, zx::Float64)",
      "    @ Main.TSSs ~/Dropbox/Code/TSSs/src/TSSsingleChannel.jl:17",
      "  [8] #meassure_tss#46",
      "    @ ~/Dropbox/Code/TSSs/src/TSSsingleChannel.jl:87 [inlined]",
      "  [9] TSS_raw_quant(t2::String, tss_folder::String, image_folder::String, n::Int64; xy::Float64, zx::Float64)",
      "    @ Main ~/Dropbox/MiniPrograms_smFISH/OrganiseData/StandardCode.jl:235",
      " [10] top-level scope",
      "    @ In[37]:20",
      " [11] eval",
      "    @ ./boot.jl:360 [inlined]",
      " [12] include_string(mapexpr::typeof(REPL.softscope), mod::Module, code::String, filename::String)",
      "    @ Base ./loading.jl:1094"
     ]
    }
   ],
   "source": [
    "root1 = ROOT1\n",
    "expn = \"1\"\n",
    "\n",
    "\n",
    "\n",
    "gene = \"Il12b_intron_BD\"\n",
    "typeprobe = \"type4\"\n",
    "tss_c4 = root1 * \"Segmentation_type4/_FQ_outline/_TS_detect\"\n",
    "imagesfolder = root1 * \"/tiff3D\"\n",
    "images_pat = TSSs.get_image_patterns(tss_c4)\n",
    "d = TSSs.TSS_raw_quant(tss_c4, tss_c4, imagesfolder, 2; xy = 0.189, zx = 0.5)\n",
    "CSV.write(\"TSS_raw/\"*gene*\"_exp\"*\"$expn\"*\".csv\", d)\n",
    "tss1 = CSV.read(\"TSS_raw/\"*gene*\"_exp\"*\"$expn\"*\".csv\", DataFrame)\n",
    "\n",
    "gene = \"HSS1_BD\"\n",
    "typeprobe = \"type1\"\n",
    "tss_c4 = root1 * \"Segmentation_type1/_FQ_outline/_TS_detect\"\n",
    "imagesfolder = root1 * \"/tiff3D\"\n",
    "images_pat = TSSs.get_image_patterns(tss_c4)\n",
    "d = TSSs.TSS_raw_quant(tss_c4, tss_c4, imagesfolder, 3; xy = 0.189, zx = 0.5)\n",
    "CSV.write(\"TSS_raw/\"*gene*\"_exp\"*\"$expn\"*\".csv\", d)"
   ]
  },
  {
   "cell_type": "code",
   "execution_count": 4,
   "metadata": {},
   "outputs": [
    {
     "name": "stderr",
     "output_type": "stream",
     "text": [
      "\u001b[32mProgress: 100%|█████████████████████████████████████████| Time: 0:41:07\u001b[39m\n",
      "\u001b[32mProgress: 100%|█████████████████████████████████████████| Time: 0:24:46\u001b[39m\n"
     ]
    },
    {
     "data": {
      "text/html": [
       "<table class=\"data-frame\"><thead><tr><th></th><th>Cell</th><th>Image</th></tr><tr><th></th><th>String</th><th>String</th></tr></thead><tbody><p>8,896 rows × 19 columns (omitted printing of 17 columns)</p><tr><th>1</th><td>Cell_CP_21</td><td>Il12bBD_manual_26May21_WTRad21_Sequence_A 0_S 0_U 0_V 0_X14_Y15_Job(Seq.Scan) 1 01 01 02 01 04 01_020</td></tr><tr><th>2</th><td>Cell_CP_26</td><td>Il12bBD_manual_26May21_WTRad21_Sequence_A 0_S 0_U 0_V 0_X14_Y15_Job(Seq.Scan) 1 01 01 02 01 04 01_020</td></tr><tr><th>3</th><td>Cell_CP_27</td><td>Il12bBD_manual_26May21_WTRad21_Sequence_A 0_S 0_U 0_V 0_X14_Y15_Job(Seq.Scan) 1 01 01 02 01 04 01_020</td></tr><tr><th>4</th><td>Cell_CP_16</td><td>Il12bBD_manual_26May21_WTRad21_Sequence_A 0_S 0_U 0_V 0_X14_Y15_Job(Seq.Scan) 1 01 01 02 01 04 01_020</td></tr><tr><th>5</th><td>Cell_CP_25</td><td>Il12bBD_manual_26May21_WTRad21_Sequence_A 0_S 0_U 0_V 0_X14_Y15_Job(Seq.Scan) 1 01 01 02 01 04 01_020</td></tr><tr><th>6</th><td>Cell_CP_9</td><td>Il12bBD_manual_26May21_WTRad21_Sequence_A 0_S 0_U 0_V 0_X14_Y15_Job(Seq.Scan) 1 01 01 02 01 04 01_020</td></tr><tr><th>7</th><td>Cell_CP_20</td><td>Il12bBD_manual_26May21_WTRad21_Sequence_A 0_S 0_U 0_V 0_X14_Y15_Job(Seq.Scan) 1 01 01 02 01 04 01_020</td></tr><tr><th>8</th><td>Cell_CP_7</td><td>Il12bBD_manual_26May21_WTRad21_Sequence_A 0_S 0_U 0_V 0_X14_Y15_Job(Seq.Scan) 1 01 01 02 01 04 01_020</td></tr><tr><th>9</th><td>Cell_CP_24</td><td>Il12bBD_manual_26May21_WTRad21_Sequence_A 0_S 0_U 0_V 0_X14_Y15_Job(Seq.Scan) 1 01 01 02 01 04 01_020</td></tr><tr><th>10</th><td>Cell_CP_13</td><td>Il12bBD_manual_26May21_WTRad21_Sequence_A 0_S 0_U 0_V 0_X14_Y15_Job(Seq.Scan) 1 01 01 02 01 04 01_020</td></tr><tr><th>11</th><td>Cell_CP_6</td><td>Il12bBD_manual_26May21_WTRad21_Sequence_A 0_S 0_U 0_V 0_X14_Y15_Job(Seq.Scan) 1 01 01 02 01 04 01_020</td></tr><tr><th>12</th><td>Cell_CP_18</td><td>Il12bBD_manual_26May21_WTRad21_Sequence_A 0_S 0_U 0_V 0_X14_Y15_Job(Seq.Scan) 1 01 01 02 01 04 01_020</td></tr><tr><th>13</th><td>Cell_CP_23</td><td>Il12bBD_manual_26May21_WTRad21_Sequence_A 0_S 0_U 0_V 0_X14_Y15_Job(Seq.Scan) 1 01 01 02 01 04 01_020</td></tr><tr><th>14</th><td>Cell_CP_2</td><td>Il12bBD_manual_26May21_WTRad21_Sequence_A 0_S 0_U 0_V 0_X14_Y15_Job(Seq.Scan) 1 01 01 02 01 04 01_020</td></tr><tr><th>15</th><td>Cell_CP_8</td><td>Il12bBD_manual_26May21_WTRad21_Sequence_A 0_S 0_U 0_V 0_X14_Y15_Job(Seq.Scan) 1 01 01 02 01 04 01_020</td></tr><tr><th>16</th><td>Cell_CP_22</td><td>Il12bBD_manual_26May21_WTRad21_Sequence_A 0_S 0_U 0_V 0_X14_Y15_Job(Seq.Scan) 1 01 01 02 01 04 01_020</td></tr><tr><th>17</th><td>Cell_CP_28</td><td>Il12bBD_manual_26May21_WTRad21_Sequence_A 0_S 0_U 0_V 0_X14_Y15_Job(Seq.Scan) 1 01 01 02 01 04 01_020</td></tr><tr><th>18</th><td>Cell_CP_10</td><td>Il12bBD_manual_26May21_WTRad21_Sequence_A 0_S 0_U 0_V 0_X14_Y15_Job(Seq.Scan) 1 01 01 02 01 04 01_020</td></tr><tr><th>19</th><td>Cell_CP_4</td><td>Il12bBD_manual_26May21_WTRad21_Sequence_A 0_S 0_U 0_V 0_X14_Y15_Job(Seq.Scan) 1 01 01 02 01 04 01_020</td></tr><tr><th>20</th><td>Cell_CP_11</td><td>Il12bBD_manual_26May21_WTRad21_Sequence_A 0_S 0_U 0_V 0_X14_Y15_Job(Seq.Scan) 1 01 01 02 01 04 01_020</td></tr><tr><th>21</th><td>Cell_CP_1</td><td>Il12bBD_manual_26May21_WTRad21_Sequence_A 0_S 0_U 0_V 0_X14_Y15_Job(Seq.Scan) 1 01 01 02 01 04 01_020</td></tr><tr><th>22</th><td>Cell_CP_15</td><td>Il12bBD_manual_26May21_WTRad21_Sequence_A 0_S 0_U 0_V 0_X14_Y15_Job(Seq.Scan) 1 01 01 02 01 04 01_020</td></tr><tr><th>23</th><td>Cell_CP_19</td><td>Il12bBD_manual_26May21_WTRad21_Sequence_A 0_S 0_U 0_V 0_X14_Y15_Job(Seq.Scan) 1 01 01 02 01 04 01_020</td></tr><tr><th>24</th><td>Cell_CP_5</td><td>Il12bBD_manual_26May21_WTRad21_Sequence_A 0_S 0_U 0_V 0_X14_Y15_Job(Seq.Scan) 1 01 01 02 01 04 01_020</td></tr><tr><th>25</th><td>Cell_CP_12</td><td>Il12bBD_manual_26May21_WTRad21_Sequence_A 0_S 0_U 0_V 0_X14_Y15_Job(Seq.Scan) 1 01 01 02 01 04 01_020</td></tr><tr><th>26</th><td>Cell_CP_17</td><td>Il12bBD_manual_26May21_WTRad21_Sequence_A 0_S 0_U 0_V 0_X14_Y15_Job(Seq.Scan) 1 01 01 02 01 04 01_020</td></tr><tr><th>27</th><td>Cell_CP_3</td><td>Il12bBD_manual_26May21_WTRad21_Sequence_A 0_S 0_U 0_V 0_X14_Y15_Job(Seq.Scan) 1 01 01 02 01 04 01_020</td></tr><tr><th>28</th><td>Cell_CP_14</td><td>Il12bBD_manual_26May21_WTRad21_Sequence_A 0_S 0_U 0_V 0_X14_Y15_Job(Seq.Scan) 1 01 01 02 01 04 01_020</td></tr><tr><th>29</th><td>Cell_CP_9</td><td>Il12bBD_manual_26May21_WTRad21_Sequence_A 0_S 0_U 0_V 0_X14_Y20_Job(Seq.Scan) 1 01 01 02 01 04 01_036</td></tr><tr><th>30</th><td>Cell_CP_7</td><td>Il12bBD_manual_26May21_WTRad21_Sequence_A 0_S 0_U 0_V 0_X14_Y20_Job(Seq.Scan) 1 01 01 02 01 04 01_036</td></tr><tr><th>&vellip;</th><td>&vellip;</td><td>&vellip;</td></tr></tbody></table>"
      ],
      "text/latex": [
       "\\begin{tabular}{r|ccc}\n",
       "\t& Cell & Image & \\\\\n",
       "\t\\hline\n",
       "\t& String & String & \\\\\n",
       "\t\\hline\n",
       "\t1 & Cell\\_CP\\_21 & Il12bBD\\_manual\\_26May21\\_WTRad21\\_Sequence\\_A 0\\_S 0\\_U 0\\_V 0\\_X14\\_Y15\\_Job(Seq.Scan) 1 01 01 02 01 04 01\\_020 & $\\dots$ \\\\\n",
       "\t2 & Cell\\_CP\\_26 & Il12bBD\\_manual\\_26May21\\_WTRad21\\_Sequence\\_A 0\\_S 0\\_U 0\\_V 0\\_X14\\_Y15\\_Job(Seq.Scan) 1 01 01 02 01 04 01\\_020 & $\\dots$ \\\\\n",
       "\t3 & Cell\\_CP\\_27 & Il12bBD\\_manual\\_26May21\\_WTRad21\\_Sequence\\_A 0\\_S 0\\_U 0\\_V 0\\_X14\\_Y15\\_Job(Seq.Scan) 1 01 01 02 01 04 01\\_020 & $\\dots$ \\\\\n",
       "\t4 & Cell\\_CP\\_16 & Il12bBD\\_manual\\_26May21\\_WTRad21\\_Sequence\\_A 0\\_S 0\\_U 0\\_V 0\\_X14\\_Y15\\_Job(Seq.Scan) 1 01 01 02 01 04 01\\_020 & $\\dots$ \\\\\n",
       "\t5 & Cell\\_CP\\_25 & Il12bBD\\_manual\\_26May21\\_WTRad21\\_Sequence\\_A 0\\_S 0\\_U 0\\_V 0\\_X14\\_Y15\\_Job(Seq.Scan) 1 01 01 02 01 04 01\\_020 & $\\dots$ \\\\\n",
       "\t6 & Cell\\_CP\\_9 & Il12bBD\\_manual\\_26May21\\_WTRad21\\_Sequence\\_A 0\\_S 0\\_U 0\\_V 0\\_X14\\_Y15\\_Job(Seq.Scan) 1 01 01 02 01 04 01\\_020 & $\\dots$ \\\\\n",
       "\t7 & Cell\\_CP\\_20 & Il12bBD\\_manual\\_26May21\\_WTRad21\\_Sequence\\_A 0\\_S 0\\_U 0\\_V 0\\_X14\\_Y15\\_Job(Seq.Scan) 1 01 01 02 01 04 01\\_020 & $\\dots$ \\\\\n",
       "\t8 & Cell\\_CP\\_7 & Il12bBD\\_manual\\_26May21\\_WTRad21\\_Sequence\\_A 0\\_S 0\\_U 0\\_V 0\\_X14\\_Y15\\_Job(Seq.Scan) 1 01 01 02 01 04 01\\_020 & $\\dots$ \\\\\n",
       "\t9 & Cell\\_CP\\_24 & Il12bBD\\_manual\\_26May21\\_WTRad21\\_Sequence\\_A 0\\_S 0\\_U 0\\_V 0\\_X14\\_Y15\\_Job(Seq.Scan) 1 01 01 02 01 04 01\\_020 & $\\dots$ \\\\\n",
       "\t10 & Cell\\_CP\\_13 & Il12bBD\\_manual\\_26May21\\_WTRad21\\_Sequence\\_A 0\\_S 0\\_U 0\\_V 0\\_X14\\_Y15\\_Job(Seq.Scan) 1 01 01 02 01 04 01\\_020 & $\\dots$ \\\\\n",
       "\t11 & Cell\\_CP\\_6 & Il12bBD\\_manual\\_26May21\\_WTRad21\\_Sequence\\_A 0\\_S 0\\_U 0\\_V 0\\_X14\\_Y15\\_Job(Seq.Scan) 1 01 01 02 01 04 01\\_020 & $\\dots$ \\\\\n",
       "\t12 & Cell\\_CP\\_18 & Il12bBD\\_manual\\_26May21\\_WTRad21\\_Sequence\\_A 0\\_S 0\\_U 0\\_V 0\\_X14\\_Y15\\_Job(Seq.Scan) 1 01 01 02 01 04 01\\_020 & $\\dots$ \\\\\n",
       "\t13 & Cell\\_CP\\_23 & Il12bBD\\_manual\\_26May21\\_WTRad21\\_Sequence\\_A 0\\_S 0\\_U 0\\_V 0\\_X14\\_Y15\\_Job(Seq.Scan) 1 01 01 02 01 04 01\\_020 & $\\dots$ \\\\\n",
       "\t14 & Cell\\_CP\\_2 & Il12bBD\\_manual\\_26May21\\_WTRad21\\_Sequence\\_A 0\\_S 0\\_U 0\\_V 0\\_X14\\_Y15\\_Job(Seq.Scan) 1 01 01 02 01 04 01\\_020 & $\\dots$ \\\\\n",
       "\t15 & Cell\\_CP\\_8 & Il12bBD\\_manual\\_26May21\\_WTRad21\\_Sequence\\_A 0\\_S 0\\_U 0\\_V 0\\_X14\\_Y15\\_Job(Seq.Scan) 1 01 01 02 01 04 01\\_020 & $\\dots$ \\\\\n",
       "\t16 & Cell\\_CP\\_22 & Il12bBD\\_manual\\_26May21\\_WTRad21\\_Sequence\\_A 0\\_S 0\\_U 0\\_V 0\\_X14\\_Y15\\_Job(Seq.Scan) 1 01 01 02 01 04 01\\_020 & $\\dots$ \\\\\n",
       "\t17 & Cell\\_CP\\_28 & Il12bBD\\_manual\\_26May21\\_WTRad21\\_Sequence\\_A 0\\_S 0\\_U 0\\_V 0\\_X14\\_Y15\\_Job(Seq.Scan) 1 01 01 02 01 04 01\\_020 & $\\dots$ \\\\\n",
       "\t18 & Cell\\_CP\\_10 & Il12bBD\\_manual\\_26May21\\_WTRad21\\_Sequence\\_A 0\\_S 0\\_U 0\\_V 0\\_X14\\_Y15\\_Job(Seq.Scan) 1 01 01 02 01 04 01\\_020 & $\\dots$ \\\\\n",
       "\t19 & Cell\\_CP\\_4 & Il12bBD\\_manual\\_26May21\\_WTRad21\\_Sequence\\_A 0\\_S 0\\_U 0\\_V 0\\_X14\\_Y15\\_Job(Seq.Scan) 1 01 01 02 01 04 01\\_020 & $\\dots$ \\\\\n",
       "\t20 & Cell\\_CP\\_11 & Il12bBD\\_manual\\_26May21\\_WTRad21\\_Sequence\\_A 0\\_S 0\\_U 0\\_V 0\\_X14\\_Y15\\_Job(Seq.Scan) 1 01 01 02 01 04 01\\_020 & $\\dots$ \\\\\n",
       "\t21 & Cell\\_CP\\_1 & Il12bBD\\_manual\\_26May21\\_WTRad21\\_Sequence\\_A 0\\_S 0\\_U 0\\_V 0\\_X14\\_Y15\\_Job(Seq.Scan) 1 01 01 02 01 04 01\\_020 & $\\dots$ \\\\\n",
       "\t22 & Cell\\_CP\\_15 & Il12bBD\\_manual\\_26May21\\_WTRad21\\_Sequence\\_A 0\\_S 0\\_U 0\\_V 0\\_X14\\_Y15\\_Job(Seq.Scan) 1 01 01 02 01 04 01\\_020 & $\\dots$ \\\\\n",
       "\t23 & Cell\\_CP\\_19 & Il12bBD\\_manual\\_26May21\\_WTRad21\\_Sequence\\_A 0\\_S 0\\_U 0\\_V 0\\_X14\\_Y15\\_Job(Seq.Scan) 1 01 01 02 01 04 01\\_020 & $\\dots$ \\\\\n",
       "\t24 & Cell\\_CP\\_5 & Il12bBD\\_manual\\_26May21\\_WTRad21\\_Sequence\\_A 0\\_S 0\\_U 0\\_V 0\\_X14\\_Y15\\_Job(Seq.Scan) 1 01 01 02 01 04 01\\_020 & $\\dots$ \\\\\n",
       "\t25 & Cell\\_CP\\_12 & Il12bBD\\_manual\\_26May21\\_WTRad21\\_Sequence\\_A 0\\_S 0\\_U 0\\_V 0\\_X14\\_Y15\\_Job(Seq.Scan) 1 01 01 02 01 04 01\\_020 & $\\dots$ \\\\\n",
       "\t26 & Cell\\_CP\\_17 & Il12bBD\\_manual\\_26May21\\_WTRad21\\_Sequence\\_A 0\\_S 0\\_U 0\\_V 0\\_X14\\_Y15\\_Job(Seq.Scan) 1 01 01 02 01 04 01\\_020 & $\\dots$ \\\\\n",
       "\t27 & Cell\\_CP\\_3 & Il12bBD\\_manual\\_26May21\\_WTRad21\\_Sequence\\_A 0\\_S 0\\_U 0\\_V 0\\_X14\\_Y15\\_Job(Seq.Scan) 1 01 01 02 01 04 01\\_020 & $\\dots$ \\\\\n",
       "\t28 & Cell\\_CP\\_14 & Il12bBD\\_manual\\_26May21\\_WTRad21\\_Sequence\\_A 0\\_S 0\\_U 0\\_V 0\\_X14\\_Y15\\_Job(Seq.Scan) 1 01 01 02 01 04 01\\_020 & $\\dots$ \\\\\n",
       "\t29 & Cell\\_CP\\_9 & Il12bBD\\_manual\\_26May21\\_WTRad21\\_Sequence\\_A 0\\_S 0\\_U 0\\_V 0\\_X14\\_Y20\\_Job(Seq.Scan) 1 01 01 02 01 04 01\\_036 & $\\dots$ \\\\\n",
       "\t30 & Cell\\_CP\\_7 & Il12bBD\\_manual\\_26May21\\_WTRad21\\_Sequence\\_A 0\\_S 0\\_U 0\\_V 0\\_X14\\_Y20\\_Job(Seq.Scan) 1 01 01 02 01 04 01\\_036 & $\\dots$ \\\\\n",
       "\t$\\dots$ & $\\dots$ & $\\dots$ &  \\\\\n",
       "\\end{tabular}\n"
      ],
      "text/plain": [
       "\u001b[1m8896×19 DataFrame\u001b[0m\n",
       "\u001b[1m  Row \u001b[0m│\u001b[1m Cell       \u001b[0m\u001b[1m Image                             \u001b[0m\u001b[1m Image_BF  \u001b[0m\u001b[1m N_TSS2 \u001b[0m\u001b[1m locu\u001b[0m ⋯\n",
       "\u001b[1m      \u001b[0m│\u001b[90m String     \u001b[0m\u001b[90m String                            \u001b[0m\u001b[90m Float64   \u001b[0m\u001b[90m Int64  \u001b[0m\u001b[90m Stri\u001b[0m ⋯\n",
       "──────┼─────────────────────────────────────────────────────────────────────────\n",
       "    1 │ Cell_CP_21  Il12bBD_manual_26May21_WTRad21_S…  0.0             0  0    ⋯\n",
       "    2 │ Cell_CP_26  Il12bBD_manual_26May21_WTRad21_S…  0.0             0  0\n",
       "    3 │ Cell_CP_27  Il12bBD_manual_26May21_WTRad21_S…  0.0             0  0\n",
       "    4 │ Cell_CP_16  Il12bBD_manual_26May21_WTRad21_S…  0.0             0  0\n",
       "    5 │ Cell_CP_25  Il12bBD_manual_26May21_WTRad21_S…  0.0             0  0    ⋯\n",
       "    6 │ Cell_CP_9   Il12bBD_manual_26May21_WTRad21_S…  0.0             0  0\n",
       "    7 │ Cell_CP_20  Il12bBD_manual_26May21_WTRad21_S…  0.0             0  0\n",
       "    8 │ Cell_CP_7   Il12bBD_manual_26May21_WTRad21_S…  0.0             0  0\n",
       "    9 │ Cell_CP_24  Il12bBD_manual_26May21_WTRad21_S…  0.0             0  0    ⋯\n",
       "   10 │ Cell_CP_13  Il12bBD_manual_26May21_WTRad21_S…  0.0             0  0\n",
       "   11 │ Cell_CP_6   Il12bBD_manual_26May21_WTRad21_S…  0.0             0  0\n",
       "  ⋮   │     ⋮                       ⋮                      ⋮        ⋮          ⋱\n",
       " 8887 │ Cell_CP_6   Il12bBD_manual_26May21_WTRad21_S…  0.0             0  0\n",
       " 8888 │ Cell_CP_2   Il12bBD_manual_26May21_WTRad21_S…  0.0             0  0    ⋯\n",
       " 8889 │ Cell_CP_8   Il12bBD_manual_26May21_WTRad21_S…  0.0             0  0\n",
       " 8890 │ Cell_CP_10  Il12bBD_manual_26May21_WTRad21_S…  0.0             0  0\n",
       " 8891 │ Cell_CP_4   Il12bBD_manual_26May21_WTRad21_S…  0.0             0  0\n",
       " 8892 │ Cell_CP_11  Il12bBD_manual_26May21_WTRad21_S…  0.0             0  0    ⋯\n",
       " 8893 │ Cell_CP_1   Il12bBD_manual_26May21_WTRad21_S…  0.0             0  0\n",
       " 8894 │ Cell_CP_5   Il12bBD_manual_26May21_WTRad21_S…  0.0             0  0\n",
       " 8895 │ Cell_CP_12  Il12bBD_manual_26May21_WTRad21_S…  0.0             0  0\n",
       " 8896 │ Cell_CP_3   Il12bBD_manual_26May21_WTRad21_S…  0.0             0  0    ⋯\n",
       "\u001b[36m                                                15 columns and 8875 rows omitted\u001b[0m"
      ]
     },
     "execution_count": 4,
     "metadata": {},
     "output_type": "execute_result"
    }
   ],
   "source": [
    "root1 = ROOT2\n",
    "expn = \"2\"\n",
    "\n",
    "gene = \"HSS1_BD\"\n",
    "typeprobe = \"type1\"\n",
    "tss_c4 = root1 * \"Segmentation_type1/_FQ_outline/_TS_detect\"\n",
    "imagesfolder = root1 * \"/tiff3D\"\n",
    "images_pat = TSSs.get_image_patterns(tss_c4)\n",
    "d = TSSs.TSS_raw_quant(tss_c4, tss_c4, imagesfolder, 3; xy = 0.189, zx = 0.5)\n",
    "CSV.write(\"TSS_raw/\"*gene*\"_exp\"*\"$expn\"*\".csv\", d)\n",
    "\n",
    "gene = \"Il12b_intron_BD\"\n",
    "typeprobe = \"type4\"\n",
    "tss_c4 = root1 * \"Segmentation_type4/_FQ_outline/_TS_detect\"\n",
    "imagesfolder = root1 * \"/tiff3D\"\n",
    "images_pat = TSSs.get_image_patterns(tss_c4)\n",
    "d = TSSs.TSS_raw_quant(tss_c4, tss_c4, imagesfolder, 2; xy = 0.189, zx = 0.5)\n",
    "CSV.write(\"TSS_raw/\"*gene*\"_exp\"*\"$expn\"*\".csv\", d)\n",
    "tss1 = CSV.read(\"TSS_raw/\"*gene*\"_exp\"*\"$expn\"*\".csv\", DataFrame)"
   ]
  },
  {
   "cell_type": "code",
   "execution_count": 13,
   "metadata": {},
   "outputs": [
    {
     "name": "stderr",
     "output_type": "stream",
     "text": [
      "\u001b[32mProgress: 100%|█████████████████████████████████████████| Time: 0:15:04\u001b[39m\n"
     ]
    },
    {
     "data": {
      "text/plain": [
       "\"TSS_raw/HSS1_BD_exp3.csv\""
      ]
     },
     "execution_count": 13,
     "metadata": {},
     "output_type": "execute_result"
    }
   ],
   "source": [
    "root1 = ROOT3\n",
    "expn = \"3\"\n",
    "\n",
    "gene = \"HSS1_BD\"\n",
    "typeprobe = \"type1\"\n",
    "tss_c4 = root1 * \"Segmentation_type1/_FQ_outline/_TS_detect\"\n",
    "imagesfolder = root1 * \"/tiff3D\"\n",
    "images_pat = TSSs.get_image_patterns(tss_c4)\n",
    "d = TSSs.TSS_raw_quant(tss_c4, tss_c4, imagesfolder, 3; xy = 0.189, zx = 0.5)\n",
    "CSV.write(\"TSS_raw/\"*gene*\"_exp\"*\"$expn\"*\".csv\", d)"
   ]
  },
  {
   "cell_type": "code",
   "execution_count": 5,
   "metadata": {},
   "outputs": [
    {
     "name": "stderr",
     "output_type": "stream",
     "text": [
      "\u001b[32mProgress: 100%|█████████████████████████████████████████| Time: 0:27:36\u001b[39m\n",
      "\u001b[32mProgress: 100%|█████████████████████████████████████████| Time: 0:17:54\u001b[39m\n"
     ]
    },
    {
     "data": {
      "text/html": [
       "<table class=\"data-frame\"><thead><tr><th></th><th>Cell</th><th>Image</th></tr><tr><th></th><th>String</th><th>String</th></tr></thead><tbody><p>6,809 rows × 19 columns (omitted printing of 17 columns)</p><tr><th>1</th><td>Cell_CP_16</td><td>Il12bBD_22thJune_Sequence_A 0_S 0_U 0_V 0_X 6_Y21_Job(Seq.Scan) 1 01 01 02 01 04 01_052</td></tr><tr><th>2</th><td>Cell_CP_9</td><td>Il12bBD_22thJune_Sequence_A 0_S 0_U 0_V 0_X 6_Y21_Job(Seq.Scan) 1 01 01 02 01 04 01_052</td></tr><tr><th>3</th><td>Cell_CP_7</td><td>Il12bBD_22thJune_Sequence_A 0_S 0_U 0_V 0_X 6_Y21_Job(Seq.Scan) 1 01 01 02 01 04 01_052</td></tr><tr><th>4</th><td>Cell_CP_13</td><td>Il12bBD_22thJune_Sequence_A 0_S 0_U 0_V 0_X 6_Y21_Job(Seq.Scan) 1 01 01 02 01 04 01_052</td></tr><tr><th>5</th><td>Cell_CP_6</td><td>Il12bBD_22thJune_Sequence_A 0_S 0_U 0_V 0_X 6_Y21_Job(Seq.Scan) 1 01 01 02 01 04 01_052</td></tr><tr><th>6</th><td>Cell_CP_2</td><td>Il12bBD_22thJune_Sequence_A 0_S 0_U 0_V 0_X 6_Y21_Job(Seq.Scan) 1 01 01 02 01 04 01_052</td></tr><tr><th>7</th><td>Cell_CP_8</td><td>Il12bBD_22thJune_Sequence_A 0_S 0_U 0_V 0_X 6_Y21_Job(Seq.Scan) 1 01 01 02 01 04 01_052</td></tr><tr><th>8</th><td>Cell_CP_10</td><td>Il12bBD_22thJune_Sequence_A 0_S 0_U 0_V 0_X 6_Y21_Job(Seq.Scan) 1 01 01 02 01 04 01_052</td></tr><tr><th>9</th><td>Cell_CP_4</td><td>Il12bBD_22thJune_Sequence_A 0_S 0_U 0_V 0_X 6_Y21_Job(Seq.Scan) 1 01 01 02 01 04 01_052</td></tr><tr><th>10</th><td>Cell_CP_11</td><td>Il12bBD_22thJune_Sequence_A 0_S 0_U 0_V 0_X 6_Y21_Job(Seq.Scan) 1 01 01 02 01 04 01_052</td></tr><tr><th>11</th><td>Cell_CP_1</td><td>Il12bBD_22thJune_Sequence_A 0_S 0_U 0_V 0_X 6_Y21_Job(Seq.Scan) 1 01 01 02 01 04 01_052</td></tr><tr><th>12</th><td>Cell_CP_15</td><td>Il12bBD_22thJune_Sequence_A 0_S 0_U 0_V 0_X 6_Y21_Job(Seq.Scan) 1 01 01 02 01 04 01_052</td></tr><tr><th>13</th><td>Cell_CP_5</td><td>Il12bBD_22thJune_Sequence_A 0_S 0_U 0_V 0_X 6_Y21_Job(Seq.Scan) 1 01 01 02 01 04 01_052</td></tr><tr><th>14</th><td>Cell_CP_12</td><td>Il12bBD_22thJune_Sequence_A 0_S 0_U 0_V 0_X 6_Y21_Job(Seq.Scan) 1 01 01 02 01 04 01_052</td></tr><tr><th>15</th><td>Cell_CP_17</td><td>Il12bBD_22thJune_Sequence_A 0_S 0_U 0_V 0_X 6_Y21_Job(Seq.Scan) 1 01 01 02 01 04 01_052</td></tr><tr><th>16</th><td>Cell_CP_3</td><td>Il12bBD_22thJune_Sequence_A 0_S 0_U 0_V 0_X 6_Y21_Job(Seq.Scan) 1 01 01 02 01 04 01_052</td></tr><tr><th>17</th><td>Cell_CP_14</td><td>Il12bBD_22thJune_Sequence_A 0_S 0_U 0_V 0_X 6_Y21_Job(Seq.Scan) 1 01 01 02 01 04 01_052</td></tr><tr><th>18</th><td>Cell_CP_9</td><td>Il12bBD_22thJune_Sequence_A 0_S 0_U 0_V 0_X 6_Y22_Job(Seq.Scan) 1 01 01 02 01 04 01_054</td></tr><tr><th>19</th><td>Cell_CP_7</td><td>Il12bBD_22thJune_Sequence_A 0_S 0_U 0_V 0_X 6_Y22_Job(Seq.Scan) 1 01 01 02 01 04 01_054</td></tr><tr><th>20</th><td>Cell_CP_13</td><td>Il12bBD_22thJune_Sequence_A 0_S 0_U 0_V 0_X 6_Y22_Job(Seq.Scan) 1 01 01 02 01 04 01_054</td></tr><tr><th>21</th><td>Cell_CP_6</td><td>Il12bBD_22thJune_Sequence_A 0_S 0_U 0_V 0_X 6_Y22_Job(Seq.Scan) 1 01 01 02 01 04 01_054</td></tr><tr><th>22</th><td>Cell_CP_2</td><td>Il12bBD_22thJune_Sequence_A 0_S 0_U 0_V 0_X 6_Y22_Job(Seq.Scan) 1 01 01 02 01 04 01_054</td></tr><tr><th>23</th><td>Cell_CP_8</td><td>Il12bBD_22thJune_Sequence_A 0_S 0_U 0_V 0_X 6_Y22_Job(Seq.Scan) 1 01 01 02 01 04 01_054</td></tr><tr><th>24</th><td>Cell_CP_10</td><td>Il12bBD_22thJune_Sequence_A 0_S 0_U 0_V 0_X 6_Y22_Job(Seq.Scan) 1 01 01 02 01 04 01_054</td></tr><tr><th>25</th><td>Cell_CP_4</td><td>Il12bBD_22thJune_Sequence_A 0_S 0_U 0_V 0_X 6_Y22_Job(Seq.Scan) 1 01 01 02 01 04 01_054</td></tr><tr><th>26</th><td>Cell_CP_11</td><td>Il12bBD_22thJune_Sequence_A 0_S 0_U 0_V 0_X 6_Y22_Job(Seq.Scan) 1 01 01 02 01 04 01_054</td></tr><tr><th>27</th><td>Cell_CP_1</td><td>Il12bBD_22thJune_Sequence_A 0_S 0_U 0_V 0_X 6_Y22_Job(Seq.Scan) 1 01 01 02 01 04 01_054</td></tr><tr><th>28</th><td>Cell_CP_5</td><td>Il12bBD_22thJune_Sequence_A 0_S 0_U 0_V 0_X 6_Y22_Job(Seq.Scan) 1 01 01 02 01 04 01_054</td></tr><tr><th>29</th><td>Cell_CP_12</td><td>Il12bBD_22thJune_Sequence_A 0_S 0_U 0_V 0_X 6_Y22_Job(Seq.Scan) 1 01 01 02 01 04 01_054</td></tr><tr><th>30</th><td>Cell_CP_3</td><td>Il12bBD_22thJune_Sequence_A 0_S 0_U 0_V 0_X 6_Y22_Job(Seq.Scan) 1 01 01 02 01 04 01_054</td></tr><tr><th>&vellip;</th><td>&vellip;</td><td>&vellip;</td></tr></tbody></table>"
      ],
      "text/latex": [
       "\\begin{tabular}{r|ccc}\n",
       "\t& Cell & Image & \\\\\n",
       "\t\\hline\n",
       "\t& String & String & \\\\\n",
       "\t\\hline\n",
       "\t1 & Cell\\_CP\\_16 & Il12bBD\\_22thJune\\_Sequence\\_A 0\\_S 0\\_U 0\\_V 0\\_X 6\\_Y21\\_Job(Seq.Scan) 1 01 01 02 01 04 01\\_052 & $\\dots$ \\\\\n",
       "\t2 & Cell\\_CP\\_9 & Il12bBD\\_22thJune\\_Sequence\\_A 0\\_S 0\\_U 0\\_V 0\\_X 6\\_Y21\\_Job(Seq.Scan) 1 01 01 02 01 04 01\\_052 & $\\dots$ \\\\\n",
       "\t3 & Cell\\_CP\\_7 & Il12bBD\\_22thJune\\_Sequence\\_A 0\\_S 0\\_U 0\\_V 0\\_X 6\\_Y21\\_Job(Seq.Scan) 1 01 01 02 01 04 01\\_052 & $\\dots$ \\\\\n",
       "\t4 & Cell\\_CP\\_13 & Il12bBD\\_22thJune\\_Sequence\\_A 0\\_S 0\\_U 0\\_V 0\\_X 6\\_Y21\\_Job(Seq.Scan) 1 01 01 02 01 04 01\\_052 & $\\dots$ \\\\\n",
       "\t5 & Cell\\_CP\\_6 & Il12bBD\\_22thJune\\_Sequence\\_A 0\\_S 0\\_U 0\\_V 0\\_X 6\\_Y21\\_Job(Seq.Scan) 1 01 01 02 01 04 01\\_052 & $\\dots$ \\\\\n",
       "\t6 & Cell\\_CP\\_2 & Il12bBD\\_22thJune\\_Sequence\\_A 0\\_S 0\\_U 0\\_V 0\\_X 6\\_Y21\\_Job(Seq.Scan) 1 01 01 02 01 04 01\\_052 & $\\dots$ \\\\\n",
       "\t7 & Cell\\_CP\\_8 & Il12bBD\\_22thJune\\_Sequence\\_A 0\\_S 0\\_U 0\\_V 0\\_X 6\\_Y21\\_Job(Seq.Scan) 1 01 01 02 01 04 01\\_052 & $\\dots$ \\\\\n",
       "\t8 & Cell\\_CP\\_10 & Il12bBD\\_22thJune\\_Sequence\\_A 0\\_S 0\\_U 0\\_V 0\\_X 6\\_Y21\\_Job(Seq.Scan) 1 01 01 02 01 04 01\\_052 & $\\dots$ \\\\\n",
       "\t9 & Cell\\_CP\\_4 & Il12bBD\\_22thJune\\_Sequence\\_A 0\\_S 0\\_U 0\\_V 0\\_X 6\\_Y21\\_Job(Seq.Scan) 1 01 01 02 01 04 01\\_052 & $\\dots$ \\\\\n",
       "\t10 & Cell\\_CP\\_11 & Il12bBD\\_22thJune\\_Sequence\\_A 0\\_S 0\\_U 0\\_V 0\\_X 6\\_Y21\\_Job(Seq.Scan) 1 01 01 02 01 04 01\\_052 & $\\dots$ \\\\\n",
       "\t11 & Cell\\_CP\\_1 & Il12bBD\\_22thJune\\_Sequence\\_A 0\\_S 0\\_U 0\\_V 0\\_X 6\\_Y21\\_Job(Seq.Scan) 1 01 01 02 01 04 01\\_052 & $\\dots$ \\\\\n",
       "\t12 & Cell\\_CP\\_15 & Il12bBD\\_22thJune\\_Sequence\\_A 0\\_S 0\\_U 0\\_V 0\\_X 6\\_Y21\\_Job(Seq.Scan) 1 01 01 02 01 04 01\\_052 & $\\dots$ \\\\\n",
       "\t13 & Cell\\_CP\\_5 & Il12bBD\\_22thJune\\_Sequence\\_A 0\\_S 0\\_U 0\\_V 0\\_X 6\\_Y21\\_Job(Seq.Scan) 1 01 01 02 01 04 01\\_052 & $\\dots$ \\\\\n",
       "\t14 & Cell\\_CP\\_12 & Il12bBD\\_22thJune\\_Sequence\\_A 0\\_S 0\\_U 0\\_V 0\\_X 6\\_Y21\\_Job(Seq.Scan) 1 01 01 02 01 04 01\\_052 & $\\dots$ \\\\\n",
       "\t15 & Cell\\_CP\\_17 & Il12bBD\\_22thJune\\_Sequence\\_A 0\\_S 0\\_U 0\\_V 0\\_X 6\\_Y21\\_Job(Seq.Scan) 1 01 01 02 01 04 01\\_052 & $\\dots$ \\\\\n",
       "\t16 & Cell\\_CP\\_3 & Il12bBD\\_22thJune\\_Sequence\\_A 0\\_S 0\\_U 0\\_V 0\\_X 6\\_Y21\\_Job(Seq.Scan) 1 01 01 02 01 04 01\\_052 & $\\dots$ \\\\\n",
       "\t17 & Cell\\_CP\\_14 & Il12bBD\\_22thJune\\_Sequence\\_A 0\\_S 0\\_U 0\\_V 0\\_X 6\\_Y21\\_Job(Seq.Scan) 1 01 01 02 01 04 01\\_052 & $\\dots$ \\\\\n",
       "\t18 & Cell\\_CP\\_9 & Il12bBD\\_22thJune\\_Sequence\\_A 0\\_S 0\\_U 0\\_V 0\\_X 6\\_Y22\\_Job(Seq.Scan) 1 01 01 02 01 04 01\\_054 & $\\dots$ \\\\\n",
       "\t19 & Cell\\_CP\\_7 & Il12bBD\\_22thJune\\_Sequence\\_A 0\\_S 0\\_U 0\\_V 0\\_X 6\\_Y22\\_Job(Seq.Scan) 1 01 01 02 01 04 01\\_054 & $\\dots$ \\\\\n",
       "\t20 & Cell\\_CP\\_13 & Il12bBD\\_22thJune\\_Sequence\\_A 0\\_S 0\\_U 0\\_V 0\\_X 6\\_Y22\\_Job(Seq.Scan) 1 01 01 02 01 04 01\\_054 & $\\dots$ \\\\\n",
       "\t21 & Cell\\_CP\\_6 & Il12bBD\\_22thJune\\_Sequence\\_A 0\\_S 0\\_U 0\\_V 0\\_X 6\\_Y22\\_Job(Seq.Scan) 1 01 01 02 01 04 01\\_054 & $\\dots$ \\\\\n",
       "\t22 & Cell\\_CP\\_2 & Il12bBD\\_22thJune\\_Sequence\\_A 0\\_S 0\\_U 0\\_V 0\\_X 6\\_Y22\\_Job(Seq.Scan) 1 01 01 02 01 04 01\\_054 & $\\dots$ \\\\\n",
       "\t23 & Cell\\_CP\\_8 & Il12bBD\\_22thJune\\_Sequence\\_A 0\\_S 0\\_U 0\\_V 0\\_X 6\\_Y22\\_Job(Seq.Scan) 1 01 01 02 01 04 01\\_054 & $\\dots$ \\\\\n",
       "\t24 & Cell\\_CP\\_10 & Il12bBD\\_22thJune\\_Sequence\\_A 0\\_S 0\\_U 0\\_V 0\\_X 6\\_Y22\\_Job(Seq.Scan) 1 01 01 02 01 04 01\\_054 & $\\dots$ \\\\\n",
       "\t25 & Cell\\_CP\\_4 & Il12bBD\\_22thJune\\_Sequence\\_A 0\\_S 0\\_U 0\\_V 0\\_X 6\\_Y22\\_Job(Seq.Scan) 1 01 01 02 01 04 01\\_054 & $\\dots$ \\\\\n",
       "\t26 & Cell\\_CP\\_11 & Il12bBD\\_22thJune\\_Sequence\\_A 0\\_S 0\\_U 0\\_V 0\\_X 6\\_Y22\\_Job(Seq.Scan) 1 01 01 02 01 04 01\\_054 & $\\dots$ \\\\\n",
       "\t27 & Cell\\_CP\\_1 & Il12bBD\\_22thJune\\_Sequence\\_A 0\\_S 0\\_U 0\\_V 0\\_X 6\\_Y22\\_Job(Seq.Scan) 1 01 01 02 01 04 01\\_054 & $\\dots$ \\\\\n",
       "\t28 & Cell\\_CP\\_5 & Il12bBD\\_22thJune\\_Sequence\\_A 0\\_S 0\\_U 0\\_V 0\\_X 6\\_Y22\\_Job(Seq.Scan) 1 01 01 02 01 04 01\\_054 & $\\dots$ \\\\\n",
       "\t29 & Cell\\_CP\\_12 & Il12bBD\\_22thJune\\_Sequence\\_A 0\\_S 0\\_U 0\\_V 0\\_X 6\\_Y22\\_Job(Seq.Scan) 1 01 01 02 01 04 01\\_054 & $\\dots$ \\\\\n",
       "\t30 & Cell\\_CP\\_3 & Il12bBD\\_22thJune\\_Sequence\\_A 0\\_S 0\\_U 0\\_V 0\\_X 6\\_Y22\\_Job(Seq.Scan) 1 01 01 02 01 04 01\\_054 & $\\dots$ \\\\\n",
       "\t$\\dots$ & $\\dots$ & $\\dots$ &  \\\\\n",
       "\\end{tabular}\n"
      ],
      "text/plain": [
       "\u001b[1m6809×19 DataFrame\u001b[0m\n",
       "\u001b[1m  Row \u001b[0m│\u001b[1m Cell       \u001b[0m\u001b[1m Image                             \u001b[0m\u001b[1m Image_BF  \u001b[0m\u001b[1m N_TSS2 \u001b[0m\u001b[1m locu\u001b[0m ⋯\n",
       "\u001b[1m      \u001b[0m│\u001b[90m String     \u001b[0m\u001b[90m String                            \u001b[0m\u001b[90m Float64   \u001b[0m\u001b[90m Int64  \u001b[0m\u001b[90m Stri\u001b[0m ⋯\n",
       "──────┼─────────────────────────────────────────────────────────────────────────\n",
       "    1 │ Cell_CP_16  Il12bBD_22thJune_Sequence_A 0_S …  0.0             0  0    ⋯\n",
       "    2 │ Cell_CP_9   Il12bBD_22thJune_Sequence_A 0_S …  0.0             0  0\n",
       "    3 │ Cell_CP_7   Il12bBD_22thJune_Sequence_A 0_S …  0.0             0  0\n",
       "    4 │ Cell_CP_13  Il12bBD_22thJune_Sequence_A 0_S …  0.0             0  0\n",
       "    5 │ Cell_CP_6   Il12bBD_22thJune_Sequence_A 0_S …  0.0             0  0    ⋯\n",
       "    6 │ Cell_CP_2   Il12bBD_22thJune_Sequence_A 0_S …  0.0             0  0\n",
       "    7 │ Cell_CP_8   Il12bBD_22thJune_Sequence_A 0_S …  0.0             0  0\n",
       "    8 │ Cell_CP_10  Il12bBD_22thJune_Sequence_A 0_S …  0.0             0  0\n",
       "    9 │ Cell_CP_4   Il12bBD_22thJune_Sequence_A 0_S …  0.0             0  0    ⋯\n",
       "   10 │ Cell_CP_11  Il12bBD_22thJune_Sequence_A 0_S …  0.0             0  0\n",
       "   11 │ Cell_CP_1   Il12bBD_22thJune_Sequence_A 0_S …  0.0             0  0\n",
       "  ⋮   │     ⋮                       ⋮                      ⋮        ⋮          ⋱\n",
       " 6800 │ Cell_CP_32  Il12bBD_22thJune_Sequence_A 0_S …  0.0138889       0  0\n",
       " 6801 │ Cell_CP_19  Il12bBD_22thJune_Sequence_A 0_S …  0.0138889       1  TxS_ ⋯\n",
       " 6802 │ Cell_CP_5   Il12bBD_22thJune_Sequence_A 0_S …  0.0138889       0  0\n",
       " 6803 │ Cell_CP_12  Il12bBD_22thJune_Sequence_A 0_S …  0.0138889       0  0\n",
       " 6804 │ Cell_CP_33  Il12bBD_22thJune_Sequence_A 0_S …  0.0138889       0  0\n",
       " 6805 │ Cell_CP_17  Il12bBD_22thJune_Sequence_A 0_S …  0.0138889       0  0    ⋯\n",
       " 6806 │ Cell_CP_35  Il12bBD_22thJune_Sequence_A 0_S …  0.0138889       0  0\n",
       " 6807 │ Cell_CP_3   Il12bBD_22thJune_Sequence_A 0_S …  0.0138889       0  0\n",
       " 6808 │ Cell_CP_36  Il12bBD_22thJune_Sequence_A 0_S …  0.0138889       0  0\n",
       " 6809 │ Cell_CP_14  Il12bBD_22thJune_Sequence_A 0_S …  0.0138889       0  0    ⋯\n",
       "\u001b[36m                                                15 columns and 6788 rows omitted\u001b[0m"
      ]
     },
     "execution_count": 5,
     "metadata": {},
     "output_type": "execute_result"
    }
   ],
   "source": [
    "gene = \"Il12b_intron_BD\"\n",
    "typeprobe = \"type4\"\n",
    "tss_c4 = root1 * \"Segmentation_type4/_FQ_outline/_TS_detect\"\n",
    "imagesfolder = root1 * \"/tiff3D\"\n",
    "images_pat = TSSs.get_image_patterns(tss_c4)\n",
    "d = TSSs.TSS_raw_quant(tss_c4, tss_c4, imagesfolder, 2; xy = 0.189, zx = 0.5)\n",
    "CSV.write(\"TSS_raw/\"*gene*\"_exp\"*\"$expn\"*\".csv\", d)\n",
    "tss1 = CSV.read(\"TSS_raw/\"*gene*\"_exp\"*\"$expn\"*\".csv\", DataFrame)"
   ]
  },
  {
   "cell_type": "code",
   "execution_count": 14,
   "metadata": {},
   "outputs": [
    {
     "name": "stderr",
     "output_type": "stream",
     "text": [
      "\u001b[32mProgress: 100%|█████████████████████████████████████████| Time: 0:29:30\u001b[39m\n"
     ]
    },
    {
     "data": {
      "text/plain": [
       "\"TSS_raw/HSS1_BD_exp4.csv\""
      ]
     },
     "execution_count": 14,
     "metadata": {},
     "output_type": "execute_result"
    }
   ],
   "source": [
    "root1 = ROOT4\n",
    "expn = \"4\"\n",
    "\n",
    "gene = \"HSS1_BD\"\n",
    "typeprobe = \"type1\"\n",
    "tss_c4 = root1 * \"Segmentation_type1/_FQ_outline/_TS_detect\"\n",
    "imagesfolder = root1 * \"/tiff3D\"\n",
    "images_pat = TSSs.get_image_patterns(tss_c4)\n",
    "d = TSSs.TSS_raw_quant(tss_c4, tss_c4, imagesfolder, 3; xy = 0.189, zx = 0.5)\n",
    "CSV.write(\"TSS_raw/\"*gene*\"_exp\"*\"$expn\"*\".csv\", d)"
   ]
  },
  {
   "cell_type": "code",
   "execution_count": 12,
   "metadata": {},
   "outputs": [
    {
     "name": "stderr",
     "output_type": "stream",
     "text": [
      "\u001b[32mProgress: 100%|█████████████████████████████████████████| Time: 0:21:50\u001b[39m\n"
     ]
    },
    {
     "data": {
      "text/html": [
       "<table class=\"data-frame\"><thead><tr><th></th><th>Cell</th><th>Image</th></tr><tr><th></th><th>String</th><th>String</th></tr></thead><tbody><p>8,717 rows × 19 columns (omitted printing of 17 columns)</p><tr><th>1</th><td>Cell_CP_9</td><td>Il12bBD_20thJune_Sequence_A 0_S 0_U 0_V 0_X 6_Y21_Job(Seq.Scan) 1 01 01 02 01 04 01_032</td></tr><tr><th>2</th><td>Cell_CP_7</td><td>Il12bBD_20thJune_Sequence_A 0_S 0_U 0_V 0_X 6_Y21_Job(Seq.Scan) 1 01 01 02 01 04 01_032</td></tr><tr><th>3</th><td>Cell_CP_13</td><td>Il12bBD_20thJune_Sequence_A 0_S 0_U 0_V 0_X 6_Y21_Job(Seq.Scan) 1 01 01 02 01 04 01_032</td></tr><tr><th>4</th><td>Cell_CP_6</td><td>Il12bBD_20thJune_Sequence_A 0_S 0_U 0_V 0_X 6_Y21_Job(Seq.Scan) 1 01 01 02 01 04 01_032</td></tr><tr><th>5</th><td>Cell_CP_2</td><td>Il12bBD_20thJune_Sequence_A 0_S 0_U 0_V 0_X 6_Y21_Job(Seq.Scan) 1 01 01 02 01 04 01_032</td></tr><tr><th>6</th><td>Cell_CP_8</td><td>Il12bBD_20thJune_Sequence_A 0_S 0_U 0_V 0_X 6_Y21_Job(Seq.Scan) 1 01 01 02 01 04 01_032</td></tr><tr><th>7</th><td>Cell_CP_10</td><td>Il12bBD_20thJune_Sequence_A 0_S 0_U 0_V 0_X 6_Y21_Job(Seq.Scan) 1 01 01 02 01 04 01_032</td></tr><tr><th>8</th><td>Cell_CP_4</td><td>Il12bBD_20thJune_Sequence_A 0_S 0_U 0_V 0_X 6_Y21_Job(Seq.Scan) 1 01 01 02 01 04 01_032</td></tr><tr><th>9</th><td>Cell_CP_11</td><td>Il12bBD_20thJune_Sequence_A 0_S 0_U 0_V 0_X 6_Y21_Job(Seq.Scan) 1 01 01 02 01 04 01_032</td></tr><tr><th>10</th><td>Cell_CP_1</td><td>Il12bBD_20thJune_Sequence_A 0_S 0_U 0_V 0_X 6_Y21_Job(Seq.Scan) 1 01 01 02 01 04 01_032</td></tr><tr><th>11</th><td>Cell_CP_5</td><td>Il12bBD_20thJune_Sequence_A 0_S 0_U 0_V 0_X 6_Y21_Job(Seq.Scan) 1 01 01 02 01 04 01_032</td></tr><tr><th>12</th><td>Cell_CP_12</td><td>Il12bBD_20thJune_Sequence_A 0_S 0_U 0_V 0_X 6_Y21_Job(Seq.Scan) 1 01 01 02 01 04 01_032</td></tr><tr><th>13</th><td>Cell_CP_3</td><td>Il12bBD_20thJune_Sequence_A 0_S 0_U 0_V 0_X 6_Y21_Job(Seq.Scan) 1 01 01 02 01 04 01_032</td></tr><tr><th>14</th><td>Cell_CP_14</td><td>Il12bBD_20thJune_Sequence_A 0_S 0_U 0_V 0_X 6_Y21_Job(Seq.Scan) 1 01 01 02 01 04 01_032</td></tr><tr><th>15</th><td>Cell_CP_16</td><td>Il12bBD_20thJune_Sequence_A 0_S 0_U 0_V 0_X 6_Y22_Job(Seq.Scan) 1 01 01 02 01 04 01_034</td></tr><tr><th>16</th><td>Cell_CP_9</td><td>Il12bBD_20thJune_Sequence_A 0_S 0_U 0_V 0_X 6_Y22_Job(Seq.Scan) 1 01 01 02 01 04 01_034</td></tr><tr><th>17</th><td>Cell_CP_7</td><td>Il12bBD_20thJune_Sequence_A 0_S 0_U 0_V 0_X 6_Y22_Job(Seq.Scan) 1 01 01 02 01 04 01_034</td></tr><tr><th>18</th><td>Cell_CP_13</td><td>Il12bBD_20thJune_Sequence_A 0_S 0_U 0_V 0_X 6_Y22_Job(Seq.Scan) 1 01 01 02 01 04 01_034</td></tr><tr><th>19</th><td>Cell_CP_6</td><td>Il12bBD_20thJune_Sequence_A 0_S 0_U 0_V 0_X 6_Y22_Job(Seq.Scan) 1 01 01 02 01 04 01_034</td></tr><tr><th>20</th><td>Cell_CP_2</td><td>Il12bBD_20thJune_Sequence_A 0_S 0_U 0_V 0_X 6_Y22_Job(Seq.Scan) 1 01 01 02 01 04 01_034</td></tr><tr><th>21</th><td>Cell_CP_8</td><td>Il12bBD_20thJune_Sequence_A 0_S 0_U 0_V 0_X 6_Y22_Job(Seq.Scan) 1 01 01 02 01 04 01_034</td></tr><tr><th>22</th><td>Cell_CP_10</td><td>Il12bBD_20thJune_Sequence_A 0_S 0_U 0_V 0_X 6_Y22_Job(Seq.Scan) 1 01 01 02 01 04 01_034</td></tr><tr><th>23</th><td>Cell_CP_4</td><td>Il12bBD_20thJune_Sequence_A 0_S 0_U 0_V 0_X 6_Y22_Job(Seq.Scan) 1 01 01 02 01 04 01_034</td></tr><tr><th>24</th><td>Cell_CP_11</td><td>Il12bBD_20thJune_Sequence_A 0_S 0_U 0_V 0_X 6_Y22_Job(Seq.Scan) 1 01 01 02 01 04 01_034</td></tr><tr><th>25</th><td>Cell_CP_1</td><td>Il12bBD_20thJune_Sequence_A 0_S 0_U 0_V 0_X 6_Y22_Job(Seq.Scan) 1 01 01 02 01 04 01_034</td></tr><tr><th>26</th><td>Cell_CP_15</td><td>Il12bBD_20thJune_Sequence_A 0_S 0_U 0_V 0_X 6_Y22_Job(Seq.Scan) 1 01 01 02 01 04 01_034</td></tr><tr><th>27</th><td>Cell_CP_5</td><td>Il12bBD_20thJune_Sequence_A 0_S 0_U 0_V 0_X 6_Y22_Job(Seq.Scan) 1 01 01 02 01 04 01_034</td></tr><tr><th>28</th><td>Cell_CP_12</td><td>Il12bBD_20thJune_Sequence_A 0_S 0_U 0_V 0_X 6_Y22_Job(Seq.Scan) 1 01 01 02 01 04 01_034</td></tr><tr><th>29</th><td>Cell_CP_17</td><td>Il12bBD_20thJune_Sequence_A 0_S 0_U 0_V 0_X 6_Y22_Job(Seq.Scan) 1 01 01 02 01 04 01_034</td></tr><tr><th>30</th><td>Cell_CP_3</td><td>Il12bBD_20thJune_Sequence_A 0_S 0_U 0_V 0_X 6_Y22_Job(Seq.Scan) 1 01 01 02 01 04 01_034</td></tr><tr><th>&vellip;</th><td>&vellip;</td><td>&vellip;</td></tr></tbody></table>"
      ],
      "text/latex": [
       "\\begin{tabular}{r|ccc}\n",
       "\t& Cell & Image & \\\\\n",
       "\t\\hline\n",
       "\t& String & String & \\\\\n",
       "\t\\hline\n",
       "\t1 & Cell\\_CP\\_9 & Il12bBD\\_20thJune\\_Sequence\\_A 0\\_S 0\\_U 0\\_V 0\\_X 6\\_Y21\\_Job(Seq.Scan) 1 01 01 02 01 04 01\\_032 & $\\dots$ \\\\\n",
       "\t2 & Cell\\_CP\\_7 & Il12bBD\\_20thJune\\_Sequence\\_A 0\\_S 0\\_U 0\\_V 0\\_X 6\\_Y21\\_Job(Seq.Scan) 1 01 01 02 01 04 01\\_032 & $\\dots$ \\\\\n",
       "\t3 & Cell\\_CP\\_13 & Il12bBD\\_20thJune\\_Sequence\\_A 0\\_S 0\\_U 0\\_V 0\\_X 6\\_Y21\\_Job(Seq.Scan) 1 01 01 02 01 04 01\\_032 & $\\dots$ \\\\\n",
       "\t4 & Cell\\_CP\\_6 & Il12bBD\\_20thJune\\_Sequence\\_A 0\\_S 0\\_U 0\\_V 0\\_X 6\\_Y21\\_Job(Seq.Scan) 1 01 01 02 01 04 01\\_032 & $\\dots$ \\\\\n",
       "\t5 & Cell\\_CP\\_2 & Il12bBD\\_20thJune\\_Sequence\\_A 0\\_S 0\\_U 0\\_V 0\\_X 6\\_Y21\\_Job(Seq.Scan) 1 01 01 02 01 04 01\\_032 & $\\dots$ \\\\\n",
       "\t6 & Cell\\_CP\\_8 & Il12bBD\\_20thJune\\_Sequence\\_A 0\\_S 0\\_U 0\\_V 0\\_X 6\\_Y21\\_Job(Seq.Scan) 1 01 01 02 01 04 01\\_032 & $\\dots$ \\\\\n",
       "\t7 & Cell\\_CP\\_10 & Il12bBD\\_20thJune\\_Sequence\\_A 0\\_S 0\\_U 0\\_V 0\\_X 6\\_Y21\\_Job(Seq.Scan) 1 01 01 02 01 04 01\\_032 & $\\dots$ \\\\\n",
       "\t8 & Cell\\_CP\\_4 & Il12bBD\\_20thJune\\_Sequence\\_A 0\\_S 0\\_U 0\\_V 0\\_X 6\\_Y21\\_Job(Seq.Scan) 1 01 01 02 01 04 01\\_032 & $\\dots$ \\\\\n",
       "\t9 & Cell\\_CP\\_11 & Il12bBD\\_20thJune\\_Sequence\\_A 0\\_S 0\\_U 0\\_V 0\\_X 6\\_Y21\\_Job(Seq.Scan) 1 01 01 02 01 04 01\\_032 & $\\dots$ \\\\\n",
       "\t10 & Cell\\_CP\\_1 & Il12bBD\\_20thJune\\_Sequence\\_A 0\\_S 0\\_U 0\\_V 0\\_X 6\\_Y21\\_Job(Seq.Scan) 1 01 01 02 01 04 01\\_032 & $\\dots$ \\\\\n",
       "\t11 & Cell\\_CP\\_5 & Il12bBD\\_20thJune\\_Sequence\\_A 0\\_S 0\\_U 0\\_V 0\\_X 6\\_Y21\\_Job(Seq.Scan) 1 01 01 02 01 04 01\\_032 & $\\dots$ \\\\\n",
       "\t12 & Cell\\_CP\\_12 & Il12bBD\\_20thJune\\_Sequence\\_A 0\\_S 0\\_U 0\\_V 0\\_X 6\\_Y21\\_Job(Seq.Scan) 1 01 01 02 01 04 01\\_032 & $\\dots$ \\\\\n",
       "\t13 & Cell\\_CP\\_3 & Il12bBD\\_20thJune\\_Sequence\\_A 0\\_S 0\\_U 0\\_V 0\\_X 6\\_Y21\\_Job(Seq.Scan) 1 01 01 02 01 04 01\\_032 & $\\dots$ \\\\\n",
       "\t14 & Cell\\_CP\\_14 & Il12bBD\\_20thJune\\_Sequence\\_A 0\\_S 0\\_U 0\\_V 0\\_X 6\\_Y21\\_Job(Seq.Scan) 1 01 01 02 01 04 01\\_032 & $\\dots$ \\\\\n",
       "\t15 & Cell\\_CP\\_16 & Il12bBD\\_20thJune\\_Sequence\\_A 0\\_S 0\\_U 0\\_V 0\\_X 6\\_Y22\\_Job(Seq.Scan) 1 01 01 02 01 04 01\\_034 & $\\dots$ \\\\\n",
       "\t16 & Cell\\_CP\\_9 & Il12bBD\\_20thJune\\_Sequence\\_A 0\\_S 0\\_U 0\\_V 0\\_X 6\\_Y22\\_Job(Seq.Scan) 1 01 01 02 01 04 01\\_034 & $\\dots$ \\\\\n",
       "\t17 & Cell\\_CP\\_7 & Il12bBD\\_20thJune\\_Sequence\\_A 0\\_S 0\\_U 0\\_V 0\\_X 6\\_Y22\\_Job(Seq.Scan) 1 01 01 02 01 04 01\\_034 & $\\dots$ \\\\\n",
       "\t18 & Cell\\_CP\\_13 & Il12bBD\\_20thJune\\_Sequence\\_A 0\\_S 0\\_U 0\\_V 0\\_X 6\\_Y22\\_Job(Seq.Scan) 1 01 01 02 01 04 01\\_034 & $\\dots$ \\\\\n",
       "\t19 & Cell\\_CP\\_6 & Il12bBD\\_20thJune\\_Sequence\\_A 0\\_S 0\\_U 0\\_V 0\\_X 6\\_Y22\\_Job(Seq.Scan) 1 01 01 02 01 04 01\\_034 & $\\dots$ \\\\\n",
       "\t20 & Cell\\_CP\\_2 & Il12bBD\\_20thJune\\_Sequence\\_A 0\\_S 0\\_U 0\\_V 0\\_X 6\\_Y22\\_Job(Seq.Scan) 1 01 01 02 01 04 01\\_034 & $\\dots$ \\\\\n",
       "\t21 & Cell\\_CP\\_8 & Il12bBD\\_20thJune\\_Sequence\\_A 0\\_S 0\\_U 0\\_V 0\\_X 6\\_Y22\\_Job(Seq.Scan) 1 01 01 02 01 04 01\\_034 & $\\dots$ \\\\\n",
       "\t22 & Cell\\_CP\\_10 & Il12bBD\\_20thJune\\_Sequence\\_A 0\\_S 0\\_U 0\\_V 0\\_X 6\\_Y22\\_Job(Seq.Scan) 1 01 01 02 01 04 01\\_034 & $\\dots$ \\\\\n",
       "\t23 & Cell\\_CP\\_4 & Il12bBD\\_20thJune\\_Sequence\\_A 0\\_S 0\\_U 0\\_V 0\\_X 6\\_Y22\\_Job(Seq.Scan) 1 01 01 02 01 04 01\\_034 & $\\dots$ \\\\\n",
       "\t24 & Cell\\_CP\\_11 & Il12bBD\\_20thJune\\_Sequence\\_A 0\\_S 0\\_U 0\\_V 0\\_X 6\\_Y22\\_Job(Seq.Scan) 1 01 01 02 01 04 01\\_034 & $\\dots$ \\\\\n",
       "\t25 & Cell\\_CP\\_1 & Il12bBD\\_20thJune\\_Sequence\\_A 0\\_S 0\\_U 0\\_V 0\\_X 6\\_Y22\\_Job(Seq.Scan) 1 01 01 02 01 04 01\\_034 & $\\dots$ \\\\\n",
       "\t26 & Cell\\_CP\\_15 & Il12bBD\\_20thJune\\_Sequence\\_A 0\\_S 0\\_U 0\\_V 0\\_X 6\\_Y22\\_Job(Seq.Scan) 1 01 01 02 01 04 01\\_034 & $\\dots$ \\\\\n",
       "\t27 & Cell\\_CP\\_5 & Il12bBD\\_20thJune\\_Sequence\\_A 0\\_S 0\\_U 0\\_V 0\\_X 6\\_Y22\\_Job(Seq.Scan) 1 01 01 02 01 04 01\\_034 & $\\dots$ \\\\\n",
       "\t28 & Cell\\_CP\\_12 & Il12bBD\\_20thJune\\_Sequence\\_A 0\\_S 0\\_U 0\\_V 0\\_X 6\\_Y22\\_Job(Seq.Scan) 1 01 01 02 01 04 01\\_034 & $\\dots$ \\\\\n",
       "\t29 & Cell\\_CP\\_17 & Il12bBD\\_20thJune\\_Sequence\\_A 0\\_S 0\\_U 0\\_V 0\\_X 6\\_Y22\\_Job(Seq.Scan) 1 01 01 02 01 04 01\\_034 & $\\dots$ \\\\\n",
       "\t30 & Cell\\_CP\\_3 & Il12bBD\\_20thJune\\_Sequence\\_A 0\\_S 0\\_U 0\\_V 0\\_X 6\\_Y22\\_Job(Seq.Scan) 1 01 01 02 01 04 01\\_034 & $\\dots$ \\\\\n",
       "\t$\\dots$ & $\\dots$ & $\\dots$ &  \\\\\n",
       "\\end{tabular}\n"
      ],
      "text/plain": [
       "\u001b[1m8717×19 DataFrame\u001b[0m\n",
       "\u001b[1m  Row \u001b[0m│\u001b[1m Cell       \u001b[0m\u001b[1m Image                             \u001b[0m\u001b[1m Image_BF  \u001b[0m\u001b[1m N_TSS2 \u001b[0m\u001b[1m locu\u001b[0m ⋯\n",
       "\u001b[1m      \u001b[0m│\u001b[90m String     \u001b[0m\u001b[90m String                            \u001b[0m\u001b[90m Float64   \u001b[0m\u001b[90m Int64  \u001b[0m\u001b[90m Stri\u001b[0m ⋯\n",
       "──────┼─────────────────────────────────────────────────────────────────────────\n",
       "    1 │ Cell_CP_9   Il12bBD_20thJune_Sequence_A 0_S …  0.0             0  0    ⋯\n",
       "    2 │ Cell_CP_7   Il12bBD_20thJune_Sequence_A 0_S …  0.0             0  0\n",
       "    3 │ Cell_CP_13  Il12bBD_20thJune_Sequence_A 0_S …  0.0             0  0\n",
       "    4 │ Cell_CP_6   Il12bBD_20thJune_Sequence_A 0_S …  0.0             0  0\n",
       "    5 │ Cell_CP_2   Il12bBD_20thJune_Sequence_A 0_S …  0.0             0  0    ⋯\n",
       "    6 │ Cell_CP_8   Il12bBD_20thJune_Sequence_A 0_S …  0.0             0  0\n",
       "    7 │ Cell_CP_10  Il12bBD_20thJune_Sequence_A 0_S …  0.0             0  0\n",
       "    8 │ Cell_CP_4   Il12bBD_20thJune_Sequence_A 0_S …  0.0             0  0\n",
       "    9 │ Cell_CP_11  Il12bBD_20thJune_Sequence_A 0_S …  0.0             0  0    ⋯\n",
       "   10 │ Cell_CP_1   Il12bBD_20thJune_Sequence_A 0_S …  0.0             0  0\n",
       "   11 │ Cell_CP_5   Il12bBD_20thJune_Sequence_A 0_S …  0.0             0  0\n",
       "  ⋮   │     ⋮                       ⋮                      ⋮        ⋮          ⋱\n",
       " 8708 │ Cell_CP_4   Il12bBD_20thJune_Sequence_A 0_S …  0.0192308       0  0\n",
       " 8709 │ Cell_CP_11  Il12bBD_20thJune_Sequence_A 0_S …  0.0192308       0  0    ⋯\n",
       " 8710 │ Cell_CP_1   Il12bBD_20thJune_Sequence_A 0_S …  0.0192308       1  TxS_\n",
       " 8711 │ Cell_CP_15  Il12bBD_20thJune_Sequence_A 0_S …  0.0192308       0  0\n",
       " 8712 │ Cell_CP_19  Il12bBD_20thJune_Sequence_A 0_S …  0.0192308       0  0\n",
       " 8713 │ Cell_CP_5   Il12bBD_20thJune_Sequence_A 0_S …  0.0192308       0  0    ⋯\n",
       " 8714 │ Cell_CP_12  Il12bBD_20thJune_Sequence_A 0_S …  0.0192308       0  0\n",
       " 8715 │ Cell_CP_17  Il12bBD_20thJune_Sequence_A 0_S …  0.0192308       0  0\n",
       " 8716 │ Cell_CP_3   Il12bBD_20thJune_Sequence_A 0_S …  0.0192308       0  0\n",
       " 8717 │ Cell_CP_14  Il12bBD_20thJune_Sequence_A 0_S …  0.0192308       0  0    ⋯\n",
       "\u001b[36m                                                15 columns and 8696 rows omitted\u001b[0m"
      ]
     },
     "execution_count": 12,
     "metadata": {},
     "output_type": "execute_result"
    }
   ],
   "source": [
    "root1 = ROOT4\n",
    "expn = \"4\"\n",
    "gene = \"Il12b_intron_BD\"\n",
    "typeprobe = \"type4\"\n",
    "tss_c4 = root1 * \"Segmentation_type4/_FQ_outline/_TS_detect40\"\n",
    "imagesfolder = root1 * \"/tiff3D\"\n",
    "images_pat = TSSs.get_image_patterns(tss_c4)\n",
    "d = TSSs.TSS_raw_quant(tss_c4, tss_c4, imagesfolder, 2; xy = 0.189, zx = 0.5)\n",
    "CSV.write(\"TSS_raw/\"*gene*\"_exp\"*\"$expn\"*\".csv\", d)\n",
    "tss1 = CSV.read(\"TSS_raw/\"*gene*\"_exp\"*\"$expn\"*\".csv\", DataFrame)"
   ]
  },
  {
   "cell_type": "code",
   "execution_count": 60,
   "metadata": {},
   "outputs": [
    {
     "name": "stderr",
     "output_type": "stream",
     "text": [
      "\u001b[32mProgress: 100%|█████████████████████████████████████████| Time: 0:50:11\u001b[39m\n",
      "\u001b[32mProgress: 100%|█████████████████████████████████████████| Time: 0:42:50\u001b[39m\n",
      "\u001b[32mProgress: 100%|█████████████████████████████████████████| Time: 0:33:12\u001b[39m\n",
      "\u001b[32mProgress: 100%|█████████████████████████████████████████| Time: 0:37:12\u001b[39m\n"
     ]
    },
    {
     "data": {
      "text/plain": [
       "\"TSS_raw/HSS1_BD_exp5_40.csv\""
      ]
     },
     "execution_count": 60,
     "metadata": {},
     "output_type": "execute_result"
    }
   ],
   "source": [
    "root1 = ROOT5\n",
    "expn = \"5_30\"\n",
    "\n",
    "gene = \"HSS1_BD\"\n",
    "typeprobe = \"type1\"\n",
    "tss_c4 = root1 * \"Segmentation_type1/_FQ_outline/_TS_detect30\"\n",
    "imagesfolder = root1 * \"/tiff3D\"\n",
    "images_pat = TSSs.get_image_patterns(tss_c4)\n",
    "d = TSSs.TSS_raw_quant(tss_c4, tss_c4, imagesfolder, 3; xy = 0.189, zx = 0.5)\n",
    "CSV.write(\"TSS_raw/\"*gene*\"_exp\"*\"$expn\"*\".csv\", d)\n",
    "\n",
    "\n",
    "root1 = ROOT5\n",
    "expn = \"5_35\"\n",
    "\n",
    "gene = \"HSS1_BD\"\n",
    "typeprobe = \"type1\"\n",
    "tss_c4 = root1 * \"Segmentation_type1/_FQ_outline/_TS_detect35\"\n",
    "imagesfolder = root1 * \"/tiff3D\"\n",
    "images_pat = TSSs.get_image_patterns(tss_c4)\n",
    "d = TSSs.TSS_raw_quant(tss_c4, tss_c4, imagesfolder, 3; xy = 0.189, zx = 0.5)\n",
    "CSV.write(\"TSS_raw/\"*gene*\"_exp\"*\"$expn\"*\".csv\", d)\n",
    "\n",
    "\n",
    "root1 = ROOT5\n",
    "expn = \"5_45\"\n",
    "\n",
    "gene = \"HSS1_BD\"\n",
    "typeprobe = \"type1\"\n",
    "tss_c4 = root1 * \"Segmentation_type1/_FQ_outline/_TS_detect45\"\n",
    "imagesfolder = root1 * \"/tiff3D\"\n",
    "images_pat = TSSs.get_image_patterns(tss_c4)\n",
    "d = TSSs.TSS_raw_quant(tss_c4, tss_c4, imagesfolder, 3; xy = 0.189, zx = 0.5)\n",
    "CSV.write(\"TSS_raw/\"*gene*\"_exp\"*\"$expn\"*\".csv\", d)\n",
    "\n",
    "root1 = ROOT5\n",
    "expn = \"5_40\"\n",
    "\n",
    "gene = \"HSS1_BD\"\n",
    "typeprobe = \"type1\"\n",
    "tss_c4 = root1 * \"Segmentation_type1/_FQ_outline/_TS_detect40\"\n",
    "imagesfolder = root1 * \"/tiff3D\"\n",
    "images_pat = TSSs.get_image_patterns(tss_c4)\n",
    "d = TSSs.TSS_raw_quant(tss_c4, tss_c4, imagesfolder, 3; xy = 0.189, zx = 0.5)\n",
    "CSV.write(\"TSS_raw/\"*gene*\"_exp\"*\"$expn\"*\".csv\", d)"
   ]
  },
  {
   "cell_type": "code",
   "execution_count": 61,
   "metadata": {},
   "outputs": [
    {
     "name": "stderr",
     "output_type": "stream",
     "text": [
      "\u001b[32mProgress: 100%|█████████████████████████████████████████| Time: 0:40:26\u001b[39m\n"
     ]
    },
    {
     "data": {
      "text/plain": [
       "\"TSS_raw/HSS1_BD_exp5_37.csv\""
      ]
     },
     "execution_count": 61,
     "metadata": {},
     "output_type": "execute_result"
    }
   ],
   "source": [
    "root1 = ROOT5\n",
    "expn = \"5_37\"\n",
    "\n",
    "gene = \"HSS1_BD\"\n",
    "typeprobe = \"type1\"\n",
    "tss_c4 = root1 * \"Segmentation_type1/_FQ_outline/_TS_detect\"\n",
    "imagesfolder = root1 * \"/tiff3D\"\n",
    "images_pat = TSSs.get_image_patterns(tss_c4)\n",
    "d = TSSs.TSS_raw_quant(tss_c4, tss_c4, imagesfolder, 3; xy = 0.189, zx = 0.5)\n",
    "CSV.write(\"TSS_raw/\"*gene*\"_exp\"*\"$expn\"*\".csv\", d)"
   ]
  },
  {
   "cell_type": "code",
   "execution_count": 58,
   "metadata": {},
   "outputs": [
    {
     "name": "stderr",
     "output_type": "stream",
     "text": [
      "\u001b[32mProgress: 100%|█████████████████████████████████████████| Time: 0:40:22\u001b[39m\n"
     ]
    },
    {
     "data": {
      "text/html": [
       "<table class=\"data-frame\"><thead><tr><th></th><th>Cell</th><th>Image</th></tr><tr><th></th><th>String</th><th>String</th></tr></thead><tbody><p>14,019 rows × 19 columns (omitted printing of 17 columns)</p><tr><th>1</th><td>Cell_CP_1</td><td>Slide1_10thJuly2021_5_Sequence_A 0_S 0_U 3_V 1_X17_Y 8_Job(Seq.Scan) 1 01 01 02 01 04 01_002</td></tr><tr><th>2</th><td>Cell_CP_2</td><td>Slide1_10thJuly2021_5_Sequence_A 0_S 0_U 3_V 1_X17_Y 8_Job(Seq.Scan) 1 01 01 02 01 04 01_002</td></tr><tr><th>3</th><td>Cell_CP_9</td><td>Slide1_10thJuly2021_5_Sequence_A 0_S 0_U 3_V 1_X18_Y10_Job(Seq.Scan) 1 01 01 02 01 04 01_010</td></tr><tr><th>4</th><td>Cell_CP_7</td><td>Slide1_10thJuly2021_5_Sequence_A 0_S 0_U 3_V 1_X18_Y10_Job(Seq.Scan) 1 01 01 02 01 04 01_010</td></tr><tr><th>5</th><td>Cell_CP_13</td><td>Slide1_10thJuly2021_5_Sequence_A 0_S 0_U 3_V 1_X18_Y10_Job(Seq.Scan) 1 01 01 02 01 04 01_010</td></tr><tr><th>6</th><td>Cell_CP_6</td><td>Slide1_10thJuly2021_5_Sequence_A 0_S 0_U 3_V 1_X18_Y10_Job(Seq.Scan) 1 01 01 02 01 04 01_010</td></tr><tr><th>7</th><td>Cell_CP_2</td><td>Slide1_10thJuly2021_5_Sequence_A 0_S 0_U 3_V 1_X18_Y10_Job(Seq.Scan) 1 01 01 02 01 04 01_010</td></tr><tr><th>8</th><td>Cell_CP_8</td><td>Slide1_10thJuly2021_5_Sequence_A 0_S 0_U 3_V 1_X18_Y10_Job(Seq.Scan) 1 01 01 02 01 04 01_010</td></tr><tr><th>9</th><td>Cell_CP_10</td><td>Slide1_10thJuly2021_5_Sequence_A 0_S 0_U 3_V 1_X18_Y10_Job(Seq.Scan) 1 01 01 02 01 04 01_010</td></tr><tr><th>10</th><td>Cell_CP_4</td><td>Slide1_10thJuly2021_5_Sequence_A 0_S 0_U 3_V 1_X18_Y10_Job(Seq.Scan) 1 01 01 02 01 04 01_010</td></tr><tr><th>11</th><td>Cell_CP_11</td><td>Slide1_10thJuly2021_5_Sequence_A 0_S 0_U 3_V 1_X18_Y10_Job(Seq.Scan) 1 01 01 02 01 04 01_010</td></tr><tr><th>12</th><td>Cell_CP_1</td><td>Slide1_10thJuly2021_5_Sequence_A 0_S 0_U 3_V 1_X18_Y10_Job(Seq.Scan) 1 01 01 02 01 04 01_010</td></tr><tr><th>13</th><td>Cell_CP_5</td><td>Slide1_10thJuly2021_5_Sequence_A 0_S 0_U 3_V 1_X18_Y10_Job(Seq.Scan) 1 01 01 02 01 04 01_010</td></tr><tr><th>14</th><td>Cell_CP_12</td><td>Slide1_10thJuly2021_5_Sequence_A 0_S 0_U 3_V 1_X18_Y10_Job(Seq.Scan) 1 01 01 02 01 04 01_010</td></tr><tr><th>15</th><td>Cell_CP_3</td><td>Slide1_10thJuly2021_5_Sequence_A 0_S 0_U 3_V 1_X18_Y10_Job(Seq.Scan) 1 01 01 02 01 04 01_010</td></tr><tr><th>16</th><td>Cell_CP_14</td><td>Slide1_10thJuly2021_5_Sequence_A 0_S 0_U 3_V 1_X18_Y10_Job(Seq.Scan) 1 01 01 02 01 04 01_010</td></tr><tr><th>17</th><td>Cell_CP_16</td><td>Slide1_10thJuly2021_5_Sequence_A 0_S 0_U 3_V 1_X18_Y11_Job(Seq.Scan) 1 01 01 02 01 04 01_024</td></tr><tr><th>18</th><td>Cell_CP_9</td><td>Slide1_10thJuly2021_5_Sequence_A 0_S 0_U 3_V 1_X18_Y11_Job(Seq.Scan) 1 01 01 02 01 04 01_024</td></tr><tr><th>19</th><td>Cell_CP_20</td><td>Slide1_10thJuly2021_5_Sequence_A 0_S 0_U 3_V 1_X18_Y11_Job(Seq.Scan) 1 01 01 02 01 04 01_024</td></tr><tr><th>20</th><td>Cell_CP_7</td><td>Slide1_10thJuly2021_5_Sequence_A 0_S 0_U 3_V 1_X18_Y11_Job(Seq.Scan) 1 01 01 02 01 04 01_024</td></tr><tr><th>21</th><td>Cell_CP_13</td><td>Slide1_10thJuly2021_5_Sequence_A 0_S 0_U 3_V 1_X18_Y11_Job(Seq.Scan) 1 01 01 02 01 04 01_024</td></tr><tr><th>22</th><td>Cell_CP_6</td><td>Slide1_10thJuly2021_5_Sequence_A 0_S 0_U 3_V 1_X18_Y11_Job(Seq.Scan) 1 01 01 02 01 04 01_024</td></tr><tr><th>23</th><td>Cell_CP_18</td><td>Slide1_10thJuly2021_5_Sequence_A 0_S 0_U 3_V 1_X18_Y11_Job(Seq.Scan) 1 01 01 02 01 04 01_024</td></tr><tr><th>24</th><td>Cell_CP_2</td><td>Slide1_10thJuly2021_5_Sequence_A 0_S 0_U 3_V 1_X18_Y11_Job(Seq.Scan) 1 01 01 02 01 04 01_024</td></tr><tr><th>25</th><td>Cell_CP_8</td><td>Slide1_10thJuly2021_5_Sequence_A 0_S 0_U 3_V 1_X18_Y11_Job(Seq.Scan) 1 01 01 02 01 04 01_024</td></tr><tr><th>26</th><td>Cell_CP_10</td><td>Slide1_10thJuly2021_5_Sequence_A 0_S 0_U 3_V 1_X18_Y11_Job(Seq.Scan) 1 01 01 02 01 04 01_024</td></tr><tr><th>27</th><td>Cell_CP_4</td><td>Slide1_10thJuly2021_5_Sequence_A 0_S 0_U 3_V 1_X18_Y11_Job(Seq.Scan) 1 01 01 02 01 04 01_024</td></tr><tr><th>28</th><td>Cell_CP_11</td><td>Slide1_10thJuly2021_5_Sequence_A 0_S 0_U 3_V 1_X18_Y11_Job(Seq.Scan) 1 01 01 02 01 04 01_024</td></tr><tr><th>29</th><td>Cell_CP_1</td><td>Slide1_10thJuly2021_5_Sequence_A 0_S 0_U 3_V 1_X18_Y11_Job(Seq.Scan) 1 01 01 02 01 04 01_024</td></tr><tr><th>30</th><td>Cell_CP_15</td><td>Slide1_10thJuly2021_5_Sequence_A 0_S 0_U 3_V 1_X18_Y11_Job(Seq.Scan) 1 01 01 02 01 04 01_024</td></tr><tr><th>&vellip;</th><td>&vellip;</td><td>&vellip;</td></tr></tbody></table>"
      ],
      "text/latex": [
       "\\begin{tabular}{r|ccc}\n",
       "\t& Cell & Image & \\\\\n",
       "\t\\hline\n",
       "\t& String & String & \\\\\n",
       "\t\\hline\n",
       "\t1 & Cell\\_CP\\_1 & Slide1\\_10thJuly2021\\_5\\_Sequence\\_A 0\\_S 0\\_U 3\\_V 1\\_X17\\_Y 8\\_Job(Seq.Scan) 1 01 01 02 01 04 01\\_002 & $\\dots$ \\\\\n",
       "\t2 & Cell\\_CP\\_2 & Slide1\\_10thJuly2021\\_5\\_Sequence\\_A 0\\_S 0\\_U 3\\_V 1\\_X17\\_Y 8\\_Job(Seq.Scan) 1 01 01 02 01 04 01\\_002 & $\\dots$ \\\\\n",
       "\t3 & Cell\\_CP\\_9 & Slide1\\_10thJuly2021\\_5\\_Sequence\\_A 0\\_S 0\\_U 3\\_V 1\\_X18\\_Y10\\_Job(Seq.Scan) 1 01 01 02 01 04 01\\_010 & $\\dots$ \\\\\n",
       "\t4 & Cell\\_CP\\_7 & Slide1\\_10thJuly2021\\_5\\_Sequence\\_A 0\\_S 0\\_U 3\\_V 1\\_X18\\_Y10\\_Job(Seq.Scan) 1 01 01 02 01 04 01\\_010 & $\\dots$ \\\\\n",
       "\t5 & Cell\\_CP\\_13 & Slide1\\_10thJuly2021\\_5\\_Sequence\\_A 0\\_S 0\\_U 3\\_V 1\\_X18\\_Y10\\_Job(Seq.Scan) 1 01 01 02 01 04 01\\_010 & $\\dots$ \\\\\n",
       "\t6 & Cell\\_CP\\_6 & Slide1\\_10thJuly2021\\_5\\_Sequence\\_A 0\\_S 0\\_U 3\\_V 1\\_X18\\_Y10\\_Job(Seq.Scan) 1 01 01 02 01 04 01\\_010 & $\\dots$ \\\\\n",
       "\t7 & Cell\\_CP\\_2 & Slide1\\_10thJuly2021\\_5\\_Sequence\\_A 0\\_S 0\\_U 3\\_V 1\\_X18\\_Y10\\_Job(Seq.Scan) 1 01 01 02 01 04 01\\_010 & $\\dots$ \\\\\n",
       "\t8 & Cell\\_CP\\_8 & Slide1\\_10thJuly2021\\_5\\_Sequence\\_A 0\\_S 0\\_U 3\\_V 1\\_X18\\_Y10\\_Job(Seq.Scan) 1 01 01 02 01 04 01\\_010 & $\\dots$ \\\\\n",
       "\t9 & Cell\\_CP\\_10 & Slide1\\_10thJuly2021\\_5\\_Sequence\\_A 0\\_S 0\\_U 3\\_V 1\\_X18\\_Y10\\_Job(Seq.Scan) 1 01 01 02 01 04 01\\_010 & $\\dots$ \\\\\n",
       "\t10 & Cell\\_CP\\_4 & Slide1\\_10thJuly2021\\_5\\_Sequence\\_A 0\\_S 0\\_U 3\\_V 1\\_X18\\_Y10\\_Job(Seq.Scan) 1 01 01 02 01 04 01\\_010 & $\\dots$ \\\\\n",
       "\t11 & Cell\\_CP\\_11 & Slide1\\_10thJuly2021\\_5\\_Sequence\\_A 0\\_S 0\\_U 3\\_V 1\\_X18\\_Y10\\_Job(Seq.Scan) 1 01 01 02 01 04 01\\_010 & $\\dots$ \\\\\n",
       "\t12 & Cell\\_CP\\_1 & Slide1\\_10thJuly2021\\_5\\_Sequence\\_A 0\\_S 0\\_U 3\\_V 1\\_X18\\_Y10\\_Job(Seq.Scan) 1 01 01 02 01 04 01\\_010 & $\\dots$ \\\\\n",
       "\t13 & Cell\\_CP\\_5 & Slide1\\_10thJuly2021\\_5\\_Sequence\\_A 0\\_S 0\\_U 3\\_V 1\\_X18\\_Y10\\_Job(Seq.Scan) 1 01 01 02 01 04 01\\_010 & $\\dots$ \\\\\n",
       "\t14 & Cell\\_CP\\_12 & Slide1\\_10thJuly2021\\_5\\_Sequence\\_A 0\\_S 0\\_U 3\\_V 1\\_X18\\_Y10\\_Job(Seq.Scan) 1 01 01 02 01 04 01\\_010 & $\\dots$ \\\\\n",
       "\t15 & Cell\\_CP\\_3 & Slide1\\_10thJuly2021\\_5\\_Sequence\\_A 0\\_S 0\\_U 3\\_V 1\\_X18\\_Y10\\_Job(Seq.Scan) 1 01 01 02 01 04 01\\_010 & $\\dots$ \\\\\n",
       "\t16 & Cell\\_CP\\_14 & Slide1\\_10thJuly2021\\_5\\_Sequence\\_A 0\\_S 0\\_U 3\\_V 1\\_X18\\_Y10\\_Job(Seq.Scan) 1 01 01 02 01 04 01\\_010 & $\\dots$ \\\\\n",
       "\t17 & Cell\\_CP\\_16 & Slide1\\_10thJuly2021\\_5\\_Sequence\\_A 0\\_S 0\\_U 3\\_V 1\\_X18\\_Y11\\_Job(Seq.Scan) 1 01 01 02 01 04 01\\_024 & $\\dots$ \\\\\n",
       "\t18 & Cell\\_CP\\_9 & Slide1\\_10thJuly2021\\_5\\_Sequence\\_A 0\\_S 0\\_U 3\\_V 1\\_X18\\_Y11\\_Job(Seq.Scan) 1 01 01 02 01 04 01\\_024 & $\\dots$ \\\\\n",
       "\t19 & Cell\\_CP\\_20 & Slide1\\_10thJuly2021\\_5\\_Sequence\\_A 0\\_S 0\\_U 3\\_V 1\\_X18\\_Y11\\_Job(Seq.Scan) 1 01 01 02 01 04 01\\_024 & $\\dots$ \\\\\n",
       "\t20 & Cell\\_CP\\_7 & Slide1\\_10thJuly2021\\_5\\_Sequence\\_A 0\\_S 0\\_U 3\\_V 1\\_X18\\_Y11\\_Job(Seq.Scan) 1 01 01 02 01 04 01\\_024 & $\\dots$ \\\\\n",
       "\t21 & Cell\\_CP\\_13 & Slide1\\_10thJuly2021\\_5\\_Sequence\\_A 0\\_S 0\\_U 3\\_V 1\\_X18\\_Y11\\_Job(Seq.Scan) 1 01 01 02 01 04 01\\_024 & $\\dots$ \\\\\n",
       "\t22 & Cell\\_CP\\_6 & Slide1\\_10thJuly2021\\_5\\_Sequence\\_A 0\\_S 0\\_U 3\\_V 1\\_X18\\_Y11\\_Job(Seq.Scan) 1 01 01 02 01 04 01\\_024 & $\\dots$ \\\\\n",
       "\t23 & Cell\\_CP\\_18 & Slide1\\_10thJuly2021\\_5\\_Sequence\\_A 0\\_S 0\\_U 3\\_V 1\\_X18\\_Y11\\_Job(Seq.Scan) 1 01 01 02 01 04 01\\_024 & $\\dots$ \\\\\n",
       "\t24 & Cell\\_CP\\_2 & Slide1\\_10thJuly2021\\_5\\_Sequence\\_A 0\\_S 0\\_U 3\\_V 1\\_X18\\_Y11\\_Job(Seq.Scan) 1 01 01 02 01 04 01\\_024 & $\\dots$ \\\\\n",
       "\t25 & Cell\\_CP\\_8 & Slide1\\_10thJuly2021\\_5\\_Sequence\\_A 0\\_S 0\\_U 3\\_V 1\\_X18\\_Y11\\_Job(Seq.Scan) 1 01 01 02 01 04 01\\_024 & $\\dots$ \\\\\n",
       "\t26 & Cell\\_CP\\_10 & Slide1\\_10thJuly2021\\_5\\_Sequence\\_A 0\\_S 0\\_U 3\\_V 1\\_X18\\_Y11\\_Job(Seq.Scan) 1 01 01 02 01 04 01\\_024 & $\\dots$ \\\\\n",
       "\t27 & Cell\\_CP\\_4 & Slide1\\_10thJuly2021\\_5\\_Sequence\\_A 0\\_S 0\\_U 3\\_V 1\\_X18\\_Y11\\_Job(Seq.Scan) 1 01 01 02 01 04 01\\_024 & $\\dots$ \\\\\n",
       "\t28 & Cell\\_CP\\_11 & Slide1\\_10thJuly2021\\_5\\_Sequence\\_A 0\\_S 0\\_U 3\\_V 1\\_X18\\_Y11\\_Job(Seq.Scan) 1 01 01 02 01 04 01\\_024 & $\\dots$ \\\\\n",
       "\t29 & Cell\\_CP\\_1 & Slide1\\_10thJuly2021\\_5\\_Sequence\\_A 0\\_S 0\\_U 3\\_V 1\\_X18\\_Y11\\_Job(Seq.Scan) 1 01 01 02 01 04 01\\_024 & $\\dots$ \\\\\n",
       "\t30 & Cell\\_CP\\_15 & Slide1\\_10thJuly2021\\_5\\_Sequence\\_A 0\\_S 0\\_U 3\\_V 1\\_X18\\_Y11\\_Job(Seq.Scan) 1 01 01 02 01 04 01\\_024 & $\\dots$ \\\\\n",
       "\t$\\dots$ & $\\dots$ & $\\dots$ &  \\\\\n",
       "\\end{tabular}\n"
      ],
      "text/plain": [
       "\u001b[1m14019×19 DataFrame\u001b[0m\n",
       "\u001b[1m   Row \u001b[0m│\u001b[1m Cell       \u001b[0m\u001b[1m Image                             \u001b[0m\u001b[1m Image_BF \u001b[0m\u001b[1m N_TSS2 \u001b[0m\u001b[1m locu\u001b[0m ⋯\n",
       "\u001b[1m       \u001b[0m│\u001b[90m String     \u001b[0m\u001b[90m String                            \u001b[0m\u001b[90m Float64  \u001b[0m\u001b[90m Int64  \u001b[0m\u001b[90m Stri\u001b[0m ⋯\n",
       "───────┼────────────────────────────────────────────────────────────────────────\n",
       "     1 │ Cell_CP_1   Slide1_10thJuly2021_5_Sequence_A…       0.0       0  0    ⋯\n",
       "     2 │ Cell_CP_2   Slide1_10thJuly2021_5_Sequence_A…       0.0       0  0\n",
       "     3 │ Cell_CP_9   Slide1_10thJuly2021_5_Sequence_A…       0.0       0  0\n",
       "     4 │ Cell_CP_7   Slide1_10thJuly2021_5_Sequence_A…       0.0       0  0\n",
       "     5 │ Cell_CP_13  Slide1_10thJuly2021_5_Sequence_A…       0.0       0  0    ⋯\n",
       "     6 │ Cell_CP_6   Slide1_10thJuly2021_5_Sequence_A…       0.0       0  0\n",
       "     7 │ Cell_CP_2   Slide1_10thJuly2021_5_Sequence_A…       0.0       0  0\n",
       "     8 │ Cell_CP_8   Slide1_10thJuly2021_5_Sequence_A…       0.0       0  0\n",
       "     9 │ Cell_CP_10  Slide1_10thJuly2021_5_Sequence_A…       0.0       0  0    ⋯\n",
       "    10 │ Cell_CP_4   Slide1_10thJuly2021_5_Sequence_A…       0.0       0  0\n",
       "    11 │ Cell_CP_11  Slide1_10thJuly2021_5_Sequence_A…       0.0       0  0\n",
       "   ⋮   │     ⋮                       ⋮                     ⋮        ⋮          ⋱\n",
       " 14010 │ Cell_CP_8   Slide3_10thJuly2021_background_S…       0.0       0  0\n",
       " 14011 │ Cell_CP_10  Slide3_10thJuly2021_background_S…       0.0       0  0    ⋯\n",
       " 14012 │ Cell_CP_4   Slide3_10thJuly2021_background_S…       0.0       0  0\n",
       " 14013 │ Cell_CP_11  Slide3_10thJuly2021_background_S…       0.0       0  0\n",
       " 14014 │ Cell_CP_1   Slide3_10thJuly2021_background_S…       0.0       0  0\n",
       " 14015 │ Cell_CP_15  Slide3_10thJuly2021_background_S…       0.0       0  0    ⋯\n",
       " 14016 │ Cell_CP_5   Slide3_10thJuly2021_background_S…       0.0       0  0\n",
       " 14017 │ Cell_CP_12  Slide3_10thJuly2021_background_S…       0.0       0  0\n",
       " 14018 │ Cell_CP_3   Slide3_10thJuly2021_background_S…       0.0       0  0\n",
       " 14019 │ Cell_CP_14  Slide3_10thJuly2021_background_S…       0.0       0  0    ⋯\n",
       "\u001b[36m                                               15 columns and 13998 rows omitted\u001b[0m"
      ]
     },
     "execution_count": 58,
     "metadata": {},
     "output_type": "execute_result"
    }
   ],
   "source": [
    "gene = \"Il12b_intron_BD\"\n",
    "typeprobe = \"type4\"\n",
    "tss_c4 = root1 * \"Segmentation_type4/_FQ_outline/_TS_detect\"\n",
    "imagesfolder = root1 * \"/tiff3D\"\n",
    "images_pat = TSSs.get_image_patterns(tss_c4)\n",
    "d = TSSs.TSS_raw_quant(tss_c4, tss_c4, imagesfolder, 2; xy = 0.189, zx = 0.5)\n",
    "CSV.write(\"TSS_raw/\"*gene*\"_exp\"*\"$expn\"*\".csv\", d)\n",
    "tss1 = CSV.read(\"TSS_raw/\"*gene*\"_exp\"*\"$expn\"*\".csv\", DataFrame)"
   ]
  },
  {
   "cell_type": "code",
   "execution_count": 20,
   "metadata": {},
   "outputs": [
    {
     "name": "stderr",
     "output_type": "stream",
     "text": [
      "\u001b[32mProgress: 100%|█████████████████████████████████████████| Time: 0:32:17\u001b[39m\n",
      "\u001b[32mProgress: 100%|█████████████████████████████████████████| Time: 0:26:19\u001b[39m\n",
      "\u001b[32mProgress: 100%|█████████████████████████████████████████| Time: 0:26:09\u001b[39m\n"
     ]
    },
    {
     "data": {
      "text/html": [
       "<table class=\"data-frame\"><thead><tr><th></th><th>Cell</th><th>Image</th></tr><tr><th></th><th>String</th><th>String</th></tr></thead><tbody><p>4,644 rows × 19 columns (omitted printing of 17 columns)</p><tr><th>1</th><td>Cell_CP_21</td><td>Rep9_31stJuly2021_2_Sequence_A 0_S 0_U 0_V 0_X 4_Y18_Job(Seq.Scan) 1 01 01 02 01 04 01_010</td></tr><tr><th>2</th><td>Cell_CP_16</td><td>Rep9_31stJuly2021_2_Sequence_A 0_S 0_U 0_V 0_X 4_Y18_Job(Seq.Scan) 1 01 01 02 01 04 01_010</td></tr><tr><th>3</th><td>Cell_CP_9</td><td>Rep9_31stJuly2021_2_Sequence_A 0_S 0_U 0_V 0_X 4_Y18_Job(Seq.Scan) 1 01 01 02 01 04 01_010</td></tr><tr><th>4</th><td>Cell_CP_20</td><td>Rep9_31stJuly2021_2_Sequence_A 0_S 0_U 0_V 0_X 4_Y18_Job(Seq.Scan) 1 01 01 02 01 04 01_010</td></tr><tr><th>5</th><td>Cell_CP_7</td><td>Rep9_31stJuly2021_2_Sequence_A 0_S 0_U 0_V 0_X 4_Y18_Job(Seq.Scan) 1 01 01 02 01 04 01_010</td></tr><tr><th>6</th><td>Cell_CP_13</td><td>Rep9_31stJuly2021_2_Sequence_A 0_S 0_U 0_V 0_X 4_Y18_Job(Seq.Scan) 1 01 01 02 01 04 01_010</td></tr><tr><th>7</th><td>Cell_CP_6</td><td>Rep9_31stJuly2021_2_Sequence_A 0_S 0_U 0_V 0_X 4_Y18_Job(Seq.Scan) 1 01 01 02 01 04 01_010</td></tr><tr><th>8</th><td>Cell_CP_18</td><td>Rep9_31stJuly2021_2_Sequence_A 0_S 0_U 0_V 0_X 4_Y18_Job(Seq.Scan) 1 01 01 02 01 04 01_010</td></tr><tr><th>9</th><td>Cell_CP_2</td><td>Rep9_31stJuly2021_2_Sequence_A 0_S 0_U 0_V 0_X 4_Y18_Job(Seq.Scan) 1 01 01 02 01 04 01_010</td></tr><tr><th>10</th><td>Cell_CP_8</td><td>Rep9_31stJuly2021_2_Sequence_A 0_S 0_U 0_V 0_X 4_Y18_Job(Seq.Scan) 1 01 01 02 01 04 01_010</td></tr><tr><th>11</th><td>Cell_CP_22</td><td>Rep9_31stJuly2021_2_Sequence_A 0_S 0_U 0_V 0_X 4_Y18_Job(Seq.Scan) 1 01 01 02 01 04 01_010</td></tr><tr><th>12</th><td>Cell_CP_10</td><td>Rep9_31stJuly2021_2_Sequence_A 0_S 0_U 0_V 0_X 4_Y18_Job(Seq.Scan) 1 01 01 02 01 04 01_010</td></tr><tr><th>13</th><td>Cell_CP_4</td><td>Rep9_31stJuly2021_2_Sequence_A 0_S 0_U 0_V 0_X 4_Y18_Job(Seq.Scan) 1 01 01 02 01 04 01_010</td></tr><tr><th>14</th><td>Cell_CP_11</td><td>Rep9_31stJuly2021_2_Sequence_A 0_S 0_U 0_V 0_X 4_Y18_Job(Seq.Scan) 1 01 01 02 01 04 01_010</td></tr><tr><th>15</th><td>Cell_CP_1</td><td>Rep9_31stJuly2021_2_Sequence_A 0_S 0_U 0_V 0_X 4_Y18_Job(Seq.Scan) 1 01 01 02 01 04 01_010</td></tr><tr><th>16</th><td>Cell_CP_15</td><td>Rep9_31stJuly2021_2_Sequence_A 0_S 0_U 0_V 0_X 4_Y18_Job(Seq.Scan) 1 01 01 02 01 04 01_010</td></tr><tr><th>17</th><td>Cell_CP_19</td><td>Rep9_31stJuly2021_2_Sequence_A 0_S 0_U 0_V 0_X 4_Y18_Job(Seq.Scan) 1 01 01 02 01 04 01_010</td></tr><tr><th>18</th><td>Cell_CP_5</td><td>Rep9_31stJuly2021_2_Sequence_A 0_S 0_U 0_V 0_X 4_Y18_Job(Seq.Scan) 1 01 01 02 01 04 01_010</td></tr><tr><th>19</th><td>Cell_CP_12</td><td>Rep9_31stJuly2021_2_Sequence_A 0_S 0_U 0_V 0_X 4_Y18_Job(Seq.Scan) 1 01 01 02 01 04 01_010</td></tr><tr><th>20</th><td>Cell_CP_17</td><td>Rep9_31stJuly2021_2_Sequence_A 0_S 0_U 0_V 0_X 4_Y18_Job(Seq.Scan) 1 01 01 02 01 04 01_010</td></tr><tr><th>21</th><td>Cell_CP_3</td><td>Rep9_31stJuly2021_2_Sequence_A 0_S 0_U 0_V 0_X 4_Y18_Job(Seq.Scan) 1 01 01 02 01 04 01_010</td></tr><tr><th>22</th><td>Cell_CP_14</td><td>Rep9_31stJuly2021_2_Sequence_A 0_S 0_U 0_V 0_X 4_Y18_Job(Seq.Scan) 1 01 01 02 01 04 01_010</td></tr><tr><th>23</th><td>Cell_CP_21</td><td>Rep9_31stJuly2021_2_Sequence_A 0_S 0_U 0_V 0_X 4_Y19_Job(Seq.Scan) 1 01 01 02 01 04 01_028</td></tr><tr><th>24</th><td>Cell_CP_16</td><td>Rep9_31stJuly2021_2_Sequence_A 0_S 0_U 0_V 0_X 4_Y19_Job(Seq.Scan) 1 01 01 02 01 04 01_028</td></tr><tr><th>25</th><td>Cell_CP_9</td><td>Rep9_31stJuly2021_2_Sequence_A 0_S 0_U 0_V 0_X 4_Y19_Job(Seq.Scan) 1 01 01 02 01 04 01_028</td></tr><tr><th>26</th><td>Cell_CP_20</td><td>Rep9_31stJuly2021_2_Sequence_A 0_S 0_U 0_V 0_X 4_Y19_Job(Seq.Scan) 1 01 01 02 01 04 01_028</td></tr><tr><th>27</th><td>Cell_CP_7</td><td>Rep9_31stJuly2021_2_Sequence_A 0_S 0_U 0_V 0_X 4_Y19_Job(Seq.Scan) 1 01 01 02 01 04 01_028</td></tr><tr><th>28</th><td>Cell_CP_13</td><td>Rep9_31stJuly2021_2_Sequence_A 0_S 0_U 0_V 0_X 4_Y19_Job(Seq.Scan) 1 01 01 02 01 04 01_028</td></tr><tr><th>29</th><td>Cell_CP_6</td><td>Rep9_31stJuly2021_2_Sequence_A 0_S 0_U 0_V 0_X 4_Y19_Job(Seq.Scan) 1 01 01 02 01 04 01_028</td></tr><tr><th>30</th><td>Cell_CP_18</td><td>Rep9_31stJuly2021_2_Sequence_A 0_S 0_U 0_V 0_X 4_Y19_Job(Seq.Scan) 1 01 01 02 01 04 01_028</td></tr><tr><th>&vellip;</th><td>&vellip;</td><td>&vellip;</td></tr></tbody></table>"
      ],
      "text/latex": [
       "\\begin{tabular}{r|ccc}\n",
       "\t& Cell & Image & \\\\\n",
       "\t\\hline\n",
       "\t& String & String & \\\\\n",
       "\t\\hline\n",
       "\t1 & Cell\\_CP\\_21 & Rep9\\_31stJuly2021\\_2\\_Sequence\\_A 0\\_S 0\\_U 0\\_V 0\\_X 4\\_Y18\\_Job(Seq.Scan) 1 01 01 02 01 04 01\\_010 & $\\dots$ \\\\\n",
       "\t2 & Cell\\_CP\\_16 & Rep9\\_31stJuly2021\\_2\\_Sequence\\_A 0\\_S 0\\_U 0\\_V 0\\_X 4\\_Y18\\_Job(Seq.Scan) 1 01 01 02 01 04 01\\_010 & $\\dots$ \\\\\n",
       "\t3 & Cell\\_CP\\_9 & Rep9\\_31stJuly2021\\_2\\_Sequence\\_A 0\\_S 0\\_U 0\\_V 0\\_X 4\\_Y18\\_Job(Seq.Scan) 1 01 01 02 01 04 01\\_010 & $\\dots$ \\\\\n",
       "\t4 & Cell\\_CP\\_20 & Rep9\\_31stJuly2021\\_2\\_Sequence\\_A 0\\_S 0\\_U 0\\_V 0\\_X 4\\_Y18\\_Job(Seq.Scan) 1 01 01 02 01 04 01\\_010 & $\\dots$ \\\\\n",
       "\t5 & Cell\\_CP\\_7 & Rep9\\_31stJuly2021\\_2\\_Sequence\\_A 0\\_S 0\\_U 0\\_V 0\\_X 4\\_Y18\\_Job(Seq.Scan) 1 01 01 02 01 04 01\\_010 & $\\dots$ \\\\\n",
       "\t6 & Cell\\_CP\\_13 & Rep9\\_31stJuly2021\\_2\\_Sequence\\_A 0\\_S 0\\_U 0\\_V 0\\_X 4\\_Y18\\_Job(Seq.Scan) 1 01 01 02 01 04 01\\_010 & $\\dots$ \\\\\n",
       "\t7 & Cell\\_CP\\_6 & Rep9\\_31stJuly2021\\_2\\_Sequence\\_A 0\\_S 0\\_U 0\\_V 0\\_X 4\\_Y18\\_Job(Seq.Scan) 1 01 01 02 01 04 01\\_010 & $\\dots$ \\\\\n",
       "\t8 & Cell\\_CP\\_18 & Rep9\\_31stJuly2021\\_2\\_Sequence\\_A 0\\_S 0\\_U 0\\_V 0\\_X 4\\_Y18\\_Job(Seq.Scan) 1 01 01 02 01 04 01\\_010 & $\\dots$ \\\\\n",
       "\t9 & Cell\\_CP\\_2 & Rep9\\_31stJuly2021\\_2\\_Sequence\\_A 0\\_S 0\\_U 0\\_V 0\\_X 4\\_Y18\\_Job(Seq.Scan) 1 01 01 02 01 04 01\\_010 & $\\dots$ \\\\\n",
       "\t10 & Cell\\_CP\\_8 & Rep9\\_31stJuly2021\\_2\\_Sequence\\_A 0\\_S 0\\_U 0\\_V 0\\_X 4\\_Y18\\_Job(Seq.Scan) 1 01 01 02 01 04 01\\_010 & $\\dots$ \\\\\n",
       "\t11 & Cell\\_CP\\_22 & Rep9\\_31stJuly2021\\_2\\_Sequence\\_A 0\\_S 0\\_U 0\\_V 0\\_X 4\\_Y18\\_Job(Seq.Scan) 1 01 01 02 01 04 01\\_010 & $\\dots$ \\\\\n",
       "\t12 & Cell\\_CP\\_10 & Rep9\\_31stJuly2021\\_2\\_Sequence\\_A 0\\_S 0\\_U 0\\_V 0\\_X 4\\_Y18\\_Job(Seq.Scan) 1 01 01 02 01 04 01\\_010 & $\\dots$ \\\\\n",
       "\t13 & Cell\\_CP\\_4 & Rep9\\_31stJuly2021\\_2\\_Sequence\\_A 0\\_S 0\\_U 0\\_V 0\\_X 4\\_Y18\\_Job(Seq.Scan) 1 01 01 02 01 04 01\\_010 & $\\dots$ \\\\\n",
       "\t14 & Cell\\_CP\\_11 & Rep9\\_31stJuly2021\\_2\\_Sequence\\_A 0\\_S 0\\_U 0\\_V 0\\_X 4\\_Y18\\_Job(Seq.Scan) 1 01 01 02 01 04 01\\_010 & $\\dots$ \\\\\n",
       "\t15 & Cell\\_CP\\_1 & Rep9\\_31stJuly2021\\_2\\_Sequence\\_A 0\\_S 0\\_U 0\\_V 0\\_X 4\\_Y18\\_Job(Seq.Scan) 1 01 01 02 01 04 01\\_010 & $\\dots$ \\\\\n",
       "\t16 & Cell\\_CP\\_15 & Rep9\\_31stJuly2021\\_2\\_Sequence\\_A 0\\_S 0\\_U 0\\_V 0\\_X 4\\_Y18\\_Job(Seq.Scan) 1 01 01 02 01 04 01\\_010 & $\\dots$ \\\\\n",
       "\t17 & Cell\\_CP\\_19 & Rep9\\_31stJuly2021\\_2\\_Sequence\\_A 0\\_S 0\\_U 0\\_V 0\\_X 4\\_Y18\\_Job(Seq.Scan) 1 01 01 02 01 04 01\\_010 & $\\dots$ \\\\\n",
       "\t18 & Cell\\_CP\\_5 & Rep9\\_31stJuly2021\\_2\\_Sequence\\_A 0\\_S 0\\_U 0\\_V 0\\_X 4\\_Y18\\_Job(Seq.Scan) 1 01 01 02 01 04 01\\_010 & $\\dots$ \\\\\n",
       "\t19 & Cell\\_CP\\_12 & Rep9\\_31stJuly2021\\_2\\_Sequence\\_A 0\\_S 0\\_U 0\\_V 0\\_X 4\\_Y18\\_Job(Seq.Scan) 1 01 01 02 01 04 01\\_010 & $\\dots$ \\\\\n",
       "\t20 & Cell\\_CP\\_17 & Rep9\\_31stJuly2021\\_2\\_Sequence\\_A 0\\_S 0\\_U 0\\_V 0\\_X 4\\_Y18\\_Job(Seq.Scan) 1 01 01 02 01 04 01\\_010 & $\\dots$ \\\\\n",
       "\t21 & Cell\\_CP\\_3 & Rep9\\_31stJuly2021\\_2\\_Sequence\\_A 0\\_S 0\\_U 0\\_V 0\\_X 4\\_Y18\\_Job(Seq.Scan) 1 01 01 02 01 04 01\\_010 & $\\dots$ \\\\\n",
       "\t22 & Cell\\_CP\\_14 & Rep9\\_31stJuly2021\\_2\\_Sequence\\_A 0\\_S 0\\_U 0\\_V 0\\_X 4\\_Y18\\_Job(Seq.Scan) 1 01 01 02 01 04 01\\_010 & $\\dots$ \\\\\n",
       "\t23 & Cell\\_CP\\_21 & Rep9\\_31stJuly2021\\_2\\_Sequence\\_A 0\\_S 0\\_U 0\\_V 0\\_X 4\\_Y19\\_Job(Seq.Scan) 1 01 01 02 01 04 01\\_028 & $\\dots$ \\\\\n",
       "\t24 & Cell\\_CP\\_16 & Rep9\\_31stJuly2021\\_2\\_Sequence\\_A 0\\_S 0\\_U 0\\_V 0\\_X 4\\_Y19\\_Job(Seq.Scan) 1 01 01 02 01 04 01\\_028 & $\\dots$ \\\\\n",
       "\t25 & Cell\\_CP\\_9 & Rep9\\_31stJuly2021\\_2\\_Sequence\\_A 0\\_S 0\\_U 0\\_V 0\\_X 4\\_Y19\\_Job(Seq.Scan) 1 01 01 02 01 04 01\\_028 & $\\dots$ \\\\\n",
       "\t26 & Cell\\_CP\\_20 & Rep9\\_31stJuly2021\\_2\\_Sequence\\_A 0\\_S 0\\_U 0\\_V 0\\_X 4\\_Y19\\_Job(Seq.Scan) 1 01 01 02 01 04 01\\_028 & $\\dots$ \\\\\n",
       "\t27 & Cell\\_CP\\_7 & Rep9\\_31stJuly2021\\_2\\_Sequence\\_A 0\\_S 0\\_U 0\\_V 0\\_X 4\\_Y19\\_Job(Seq.Scan) 1 01 01 02 01 04 01\\_028 & $\\dots$ \\\\\n",
       "\t28 & Cell\\_CP\\_13 & Rep9\\_31stJuly2021\\_2\\_Sequence\\_A 0\\_S 0\\_U 0\\_V 0\\_X 4\\_Y19\\_Job(Seq.Scan) 1 01 01 02 01 04 01\\_028 & $\\dots$ \\\\\n",
       "\t29 & Cell\\_CP\\_6 & Rep9\\_31stJuly2021\\_2\\_Sequence\\_A 0\\_S 0\\_U 0\\_V 0\\_X 4\\_Y19\\_Job(Seq.Scan) 1 01 01 02 01 04 01\\_028 & $\\dots$ \\\\\n",
       "\t30 & Cell\\_CP\\_18 & Rep9\\_31stJuly2021\\_2\\_Sequence\\_A 0\\_S 0\\_U 0\\_V 0\\_X 4\\_Y19\\_Job(Seq.Scan) 1 01 01 02 01 04 01\\_028 & $\\dots$ \\\\\n",
       "\t$\\dots$ & $\\dots$ & $\\dots$ &  \\\\\n",
       "\\end{tabular}\n"
      ],
      "text/plain": [
       "\u001b[1m4644×19 DataFrame\u001b[0m\n",
       "\u001b[1m  Row \u001b[0m│\u001b[1m Cell       \u001b[0m\u001b[1m Image                             \u001b[0m\u001b[1m Image_BF  \u001b[0m\u001b[1m N_TSS2 \u001b[0m\u001b[1m locu\u001b[0m ⋯\n",
       "\u001b[1m      \u001b[0m│\u001b[90m String     \u001b[0m\u001b[90m String                            \u001b[0m\u001b[90m Float64   \u001b[0m\u001b[90m Int64  \u001b[0m\u001b[90m Stri\u001b[0m ⋯\n",
       "──────┼─────────────────────────────────────────────────────────────────────────\n",
       "    1 │ Cell_CP_21  Rep9_31stJuly2021_2_Sequence_A 0…  0.0227273       0  0    ⋯\n",
       "    2 │ Cell_CP_16  Rep9_31stJuly2021_2_Sequence_A 0…  0.0227273       0  0\n",
       "    3 │ Cell_CP_9   Rep9_31stJuly2021_2_Sequence_A 0…  0.0227273       0  0\n",
       "    4 │ Cell_CP_20  Rep9_31stJuly2021_2_Sequence_A 0…  0.0227273       0  0\n",
       "    5 │ Cell_CP_7   Rep9_31stJuly2021_2_Sequence_A 0…  0.0227273       0  0    ⋯\n",
       "    6 │ Cell_CP_13  Rep9_31stJuly2021_2_Sequence_A 0…  0.0227273       0  0\n",
       "    7 │ Cell_CP_6   Rep9_31stJuly2021_2_Sequence_A 0…  0.0227273       0  0\n",
       "    8 │ Cell_CP_18  Rep9_31stJuly2021_2_Sequence_A 0…  0.0227273       0  0\n",
       "    9 │ Cell_CP_2   Rep9_31stJuly2021_2_Sequence_A 0…  0.0227273       1  TxS_ ⋯\n",
       "   10 │ Cell_CP_8   Rep9_31stJuly2021_2_Sequence_A 0…  0.0227273       0  0\n",
       "   11 │ Cell_CP_22  Rep9_31stJuly2021_2_Sequence_A 0…  0.0227273       0  0\n",
       "  ⋮   │     ⋮                       ⋮                      ⋮        ⋮          ⋱\n",
       " 4635 │ Cell_CP_4   Rep9_31stJuly2021_2_Sequence_A 0…  0.0             0  0\n",
       " 4636 │ Cell_CP_11  Rep9_31stJuly2021_2_Sequence_A 0…  0.0             0  0    ⋯\n",
       " 4637 │ Cell_CP_1   Rep9_31stJuly2021_2_Sequence_A 0…  0.0             0  0\n",
       " 4638 │ Cell_CP_15  Rep9_31stJuly2021_2_Sequence_A 0…  0.0             0  0\n",
       " 4639 │ Cell_CP_19  Rep9_31stJuly2021_2_Sequence_A 0…  0.0             0  0\n",
       " 4640 │ Cell_CP_5   Rep9_31stJuly2021_2_Sequence_A 0…  0.0             0  0    ⋯\n",
       " 4641 │ Cell_CP_12  Rep9_31stJuly2021_2_Sequence_A 0…  0.0             0  0\n",
       " 4642 │ Cell_CP_17  Rep9_31stJuly2021_2_Sequence_A 0…  0.0             0  0\n",
       " 4643 │ Cell_CP_3   Rep9_31stJuly2021_2_Sequence_A 0…  0.0             0  0\n",
       " 4644 │ Cell_CP_14  Rep9_31stJuly2021_2_Sequence_A 0…  0.0             0  0    ⋯\n",
       "\u001b[36m                                                15 columns and 4623 rows omitted\u001b[0m"
      ]
     },
     "execution_count": 20,
     "metadata": {},
     "output_type": "execute_result"
    }
   ],
   "source": [
    "root1 = ROOT6\n",
    "expn = \"6_60\"\n",
    "\n",
    "gene = \"Il12b_intron_BD\"\n",
    "typeprobe = \"type4\"\n",
    "tss_c4 = root1 * \"Segmentation_type4/_FQ_outline/_TS_detect_60\"\n",
    "imagesfolder = root1 * \"/tiff3D\"\n",
    "images_pat = TSSs.get_image_patterns(tss_c4)\n",
    "d = TSSs.TSS_raw_quant(tss_c4, tss_c4, imagesfolder, 2; xy = 0.189, zx = 0.5)\n",
    "CSV.write(\"TSS_raw/\"*gene*\"_exp\"*\"$expn\"*\".csv\", d)\n",
    "tss1 = CSV.read(\"TSS_raw/\"*gene*\"_exp\"*\"$expn\"*\".csv\", DataFrame)\n",
    "\n",
    "expn = \"6_70\"\n",
    "gene = \"Il12b_intron_BD\"\n",
    "typeprobe = \"type4\"\n",
    "tss_c4 = root1 * \"Segmentation_type4/_FQ_outline/_TS_detect_70\"\n",
    "imagesfolder = root1 * \"/tiff3D\"\n",
    "images_pat = TSSs.get_image_patterns(tss_c4)\n",
    "d = TSSs.TSS_raw_quant(tss_c4, tss_c4, imagesfolder, 2; xy = 0.189, zx = 0.5)\n",
    "CSV.write(\"TSS_raw/\"*gene*\"_exp\"*\"$expn\"*\".csv\", d)\n",
    "tss1 = CSV.read(\"TSS_raw/\"*gene*\"_exp\"*\"$expn\"*\".csv\", DataFrame)\n",
    "\n",
    "expn = \"6_100\"\n",
    "gene = \"Il12b_intron_BD\"\n",
    "typeprobe = \"type4\"\n",
    "tss_c4 = root1 * \"Segmentation_type4/_FQ_outline/_TS_detect_100\"\n",
    "imagesfolder = root1 * \"/tiff3D\"\n",
    "images_pat = TSSs.get_image_patterns(tss_c4)\n",
    "d = TSSs.TSS_raw_quant(tss_c4, tss_c4, imagesfolder, 2; xy = 0.189, zx = 0.5)\n",
    "CSV.write(\"TSS_raw/\"*gene*\"_exp\"*\"$expn\"*\".csv\", d)\n",
    "tss1 = CSV.read(\"TSS_raw/\"*gene*\"_exp\"*\"$expn\"*\".csv\", DataFrame)"
   ]
  },
  {
   "cell_type": "code",
   "execution_count": 21,
   "metadata": {},
   "outputs": [
    {
     "name": "stderr",
     "output_type": "stream",
     "text": [
      "\u001b[32mProgress: 100%|█████████████████████████████████████████| Time: 0:49:44\u001b[39m\n",
      "\u001b[32mProgress: 100%|█████████████████████████████████████████| Time: 0:39:02\u001b[39m\n",
      "\u001b[32mProgress: 100%|█████████████████████████████████████████| Time: 0:36:10\u001b[39m\n",
      "\u001b[32mProgress: 100%|█████████████████████████████████████████| Time: 0:33:35\u001b[39m\n",
      "\u001b[32mProgress: 100%|█████████████████████████████████████████| Time: 0:40:01\u001b[39m\n"
     ]
    },
    {
     "data": {
      "text/plain": [
       "\"TSS_raw/HSS1_BD_exp6_50.csv\""
      ]
     },
     "execution_count": 21,
     "metadata": {},
     "output_type": "execute_result"
    }
   ],
   "source": [
    "root1 = ROOT6\n",
    "\n",
    "expn = \"6_60\"\n",
    "gene = \"HSS1_BD\"\n",
    "typeprobe = \"type1\"\n",
    "tss_c4 = root1 * \"Segmentation_type1/_FQ_outline/_TS_detect_60\"\n",
    "imagesfolder = root1 * \"/tiff3D\"\n",
    "images_pat = TSSs.get_image_patterns(tss_c4)\n",
    "d = TSSs.TSS_raw_quant(tss_c4, tss_c4, imagesfolder, 3; xy = 0.189, zx = 0.5)\n",
    "CSV.write(\"TSS_raw/\"*gene*\"_exp\"*\"$expn\"*\".csv\", d)\n",
    "\n",
    "expn = \"6_65\"\n",
    "gene = \"HSS1_BD\"\n",
    "typeprobe = \"type1\"\n",
    "tss_c4 = root1 * \"Segmentation_type1/_FQ_outline/_TS_detect_65\"\n",
    "imagesfolder = root1 * \"/tiff3D\"\n",
    "images_pat = TSSs.get_image_patterns(tss_c4)\n",
    "d = TSSs.TSS_raw_quant(tss_c4, tss_c4, imagesfolder, 3; xy = 0.189, zx = 0.5)\n",
    "CSV.write(\"TSS_raw/\"*gene*\"_exp\"*\"$expn\"*\".csv\", d)\n",
    "\n",
    "expn = \"6_70\"\n",
    "gene = \"HSS1_BD\"\n",
    "typeprobe = \"type1\"\n",
    "tss_c4 = root1 * \"Segmentation_type1/_FQ_outline/_TS_detect_70\"\n",
    "imagesfolder = root1 * \"/tiff3D\"\n",
    "images_pat = TSSs.get_image_patterns(tss_c4)\n",
    "d = TSSs.TSS_raw_quant(tss_c4, tss_c4, imagesfolder, 3; xy = 0.189, zx = 0.5)\n",
    "CSV.write(\"TSS_raw/\"*gene*\"_exp\"*\"$expn\"*\".csv\", d)\n",
    "\n",
    "expn = \"6_75\"\n",
    "gene = \"HSS1_BD\"\n",
    "typeprobe = \"type1\"\n",
    "tss_c4 = root1 * \"Segmentation_type1/_FQ_outline/_TS_detect_75\"\n",
    "imagesfolder = root1 * \"/tiff3D\"\n",
    "images_pat = TSSs.get_image_patterns(tss_c4)\n",
    "d = TSSs.TSS_raw_quant(tss_c4, tss_c4, imagesfolder, 3; xy = 0.189, zx = 0.5)\n",
    "CSV.write(\"TSS_raw/\"*gene*\"_exp\"*\"$expn\"*\".csv\", d)\n",
    "\n",
    "expn = \"6_50\"\n",
    "gene = \"HSS1_BD\"\n",
    "typeprobe = \"type1\"\n",
    "tss_c4 = root1 * \"Segmentation_type1/_FQ_outline/_TS_detect_50\"\n",
    "imagesfolder = root1 * \"/tiff3D\"\n",
    "images_pat = TSSs.get_image_patterns(tss_c4)\n",
    "d = TSSs.TSS_raw_quant(tss_c4, tss_c4, imagesfolder, 3; xy = 0.189, zx = 0.5)\n",
    "CSV.write(\"TSS_raw/\"*gene*\"_exp\"*\"$expn\"*\".csv\", d)\n",
    "\n"
   ]
  },
  {
   "cell_type": "code",
   "execution_count": 22,
   "metadata": {},
   "outputs": [
    {
     "name": "stderr",
     "output_type": "stream",
     "text": [
      "\u001b[32mProgress: 100%|█████████████████████████████████████████| Time: 0:19:03\u001b[39m\n",
      "\u001b[32mProgress: 100%|█████████████████████████████████████████| Time: 0:17:25\u001b[39m\n",
      "\u001b[32mProgress: 100%|█████████████████████████████████████████| Time: 0:16:11\u001b[39m\n",
      "\u001b[32mProgress: 100%|█████████████████████████████████████████| Time: 0:29:10\u001b[39m\n",
      "\u001b[32mProgress: 100%|█████████████████████████████████████████| Time: 0:28:35\u001b[39m\n",
      "\u001b[32mProgress: 100%|█████████████████████████████████████████| Time: 0:25:14\u001b[39m\n"
     ]
    },
    {
     "data": {
      "text/plain": [
       "\"TSS_raw/HSS1_BD_exp7_60.csv\""
      ]
     },
     "execution_count": 22,
     "metadata": {},
     "output_type": "execute_result"
    }
   ],
   "source": [
    "root1 = ROOT7\n",
    "\n",
    "expn = \"7_40\"\n",
    "gene = \"Il12b_intron_BD\"\n",
    "typeprobe = \"type4\"\n",
    "tss_c4 = root1 * \"Segmentation_type4/_FQ_outline/_TS_detect_40\"\n",
    "imagesfolder = root1 * \"/tiff3D\"\n",
    "images_pat = TSSs.get_image_patterns(tss_c4)\n",
    "d = TSSs.TSS_raw_quant(tss_c4, tss_c4, imagesfolder, 2; xy = 0.189, zx = 0.5)\n",
    "CSV.write(\"TSS_raw/\"*gene*\"_exp\"*\"$expn\"*\".csv\", d)\n",
    "tss1 = CSV.read(\"TSS_raw/\"*gene*\"_exp\"*\"$expn\"*\".csv\", DataFrame)\n",
    "\n",
    "expn = \"7_50\"\n",
    "gene = \"Il12b_intron_BD\"\n",
    "typeprobe = \"type4\"\n",
    "tss_c4 = root1 * \"Segmentation_type4/_FQ_outline/_TS_detect_50\"\n",
    "imagesfolder = root1 * \"/tiff3D\"\n",
    "images_pat = TSSs.get_image_patterns(tss_c4)\n",
    "d = TSSs.TSS_raw_quant(tss_c4, tss_c4, imagesfolder, 2; xy = 0.189, zx = 0.5)\n",
    "CSV.write(\"TSS_raw/\"*gene*\"_exp\"*\"$expn\"*\".csv\", d)\n",
    "tss1 = CSV.read(\"TSS_raw/\"*gene*\"_exp\"*\"$expn\"*\".csv\", DataFrame)\n",
    "\n",
    "expn = \"7_60\"\n",
    "gene = \"Il12b_intron_BD\"\n",
    "typeprobe = \"type4\"\n",
    "tss_c4 = root1 * \"Segmentation_type4/_FQ_outline/_TS_detect_60\"\n",
    "imagesfolder = root1 * \"/tiff3D\"\n",
    "images_pat = TSSs.get_image_patterns(tss_c4)\n",
    "d = TSSs.TSS_raw_quant(tss_c4, tss_c4, imagesfolder, 2; xy = 0.189, zx = 0.5)\n",
    "CSV.write(\"TSS_raw/\"*gene*\"_exp\"*\"$expn\"*\".csv\", d)\n",
    "tss1 = CSV.read(\"TSS_raw/\"*gene*\"_exp\"*\"$expn\"*\".csv\", DataFrame)\n",
    "\n",
    "\n",
    "expn = \"7_35\"\n",
    "gene = \"HSS1_BD\"\n",
    "typeprobe = \"type1\"\n",
    "tss_c4 = root1 * \"Segmentation_type1/_FQ_outline/_TS_detect_35\"\n",
    "imagesfolder = root1 * \"/tiff3D\"\n",
    "images_pat = TSSs.get_image_patterns(tss_c4)\n",
    "d = TSSs.TSS_raw_quant(tss_c4, tss_c4, imagesfolder, 3; xy = 0.189, zx = 0.5)\n",
    "CSV.write(\"TSS_raw/\"*gene*\"_exp\"*\"$expn\"*\".csv\", d)\n",
    "\n",
    "expn = \"7_47\"\n",
    "gene = \"HSS1_BD\"\n",
    "typeprobe = \"type1\"\n",
    "tss_c4 = root1 * \"Segmentation_type1/_FQ_outline/_TS_detect_47\"\n",
    "imagesfolder = root1 * \"/tiff3D\"\n",
    "images_pat = TSSs.get_image_patterns(tss_c4)\n",
    "d = TSSs.TSS_raw_quant(tss_c4, tss_c4, imagesfolder, 3; xy = 0.189, zx = 0.5)\n",
    "CSV.write(\"TSS_raw/\"*gene*\"_exp\"*\"$expn\"*\".csv\", d)\n",
    "\n",
    "expn = \"7_60\"\n",
    "gene = \"HSS1_BD\"\n",
    "typeprobe = \"type1\"\n",
    "tss_c4 = root1 * \"Segmentation_type1/_FQ_outline/_TS_detect_60\"\n",
    "imagesfolder = root1 * \"/tiff3D\"\n",
    "images_pat = TSSs.get_image_patterns(tss_c4)\n",
    "d = TSSs.TSS_raw_quant(tss_c4, tss_c4, imagesfolder, 3; xy = 0.189, zx = 0.5)\n",
    "CSV.write(\"TSS_raw/\"*gene*\"_exp\"*\"$expn\"*\".csv\", d)"
   ]
  },
  {
   "cell_type": "code",
   "execution_count": 5,
   "metadata": {},
   "outputs": [
    {
     "name": "stderr",
     "output_type": "stream",
     "text": [
      "\u001b[32mProgress: 100%|█████████████████████████████████████████| Time: 0:26:53\u001b[39m\n",
      "WARNING: both Pandas and DataFrames export \"DataFrame\"; uses of it in module NoLongerProblems_Pandas must be qualified\n",
      "\u001b[32mProgress: 100%|█████████████████████████████████████████| Time: 0:46:17\u001b[39m\n",
      "\u001b[32mProgress: 100%|█████████████████████████████████████████| Time: 0:20:11\u001b[39m\n",
      "\u001b[32mProgress: 100%|█████████████████████████████████████████| Time: 0:32:26\u001b[39m\n"
     ]
    },
    {
     "data": {
      "text/plain": [
       "\"TSS_raw/HSS1_BD_exp7.csv\""
      ]
     },
     "execution_count": 5,
     "metadata": {},
     "output_type": "execute_result"
    }
   ],
   "source": [
    "root1 = ROOT6\n",
    "\n",
    "\n",
    "expn = \"6\"\n",
    "gene = \"Il12b_intron_BD\"\n",
    "typeprobe = \"type4\"\n",
    "tss_c4 = root1 * \"Segmentation_type4/_FQ_outline/_TS_detect\"\n",
    "imagesfolder = root1 * \"/tiff3D\"\n",
    "images_pat = TSSs.get_image_patterns(tss_c4)\n",
    "d = TSSs.TSS_raw_quant(tss_c4, tss_c4, imagesfolder, 2; xy = 0.189, zx = 0.5)\n",
    "CSV.write(\"TSS_raw/\"*gene*\"_exp\"*\"$expn\"*\".csv\", d)\n",
    "tss1 = CSV.read(\"TSS_raw/\"*gene*\"_exp\"*\"$expn\"*\".csv\", DataFrame)\n",
    "\n",
    "\n",
    "\n",
    "expn = \"6\"\n",
    "gene = \"HSS1_BD\"\n",
    "typeprobe = \"type1\"\n",
    "tss_c4 = root1 * \"Segmentation_type1/_FQ_outline/_TS_detect\"\n",
    "imagesfolder = root1 * \"/tiff3D\"\n",
    "images_pat = TSSs.get_image_patterns(tss_c4)\n",
    "d = TSSs.TSS_raw_quant(tss_c4, tss_c4, imagesfolder, 3; xy = 0.189, zx = 0.5)\n",
    "CSV.write(\"TSS_raw/\"*gene*\"_exp\"*\"$expn\"*\".csv\", d)\n",
    "\n",
    "\n",
    "\n",
    "root1 = ROOT7\n",
    "expn = \"7\"\n",
    "\n",
    "gene = \"Il12b_intron_BD\"\n",
    "typeprobe = \"type4\"\n",
    "tss_c4 = root1 * \"Segmentation_type4/_FQ_outline/_TS_detect\"\n",
    "imagesfolder = root1 * \"/tiff3D\"\n",
    "images_pat = TSSs.get_image_patterns(tss_c4)\n",
    "d = TSSs.TSS_raw_quant(tss_c4, tss_c4, imagesfolder, 2; xy = 0.189, zx = 0.5)\n",
    "CSV.write(\"TSS_raw/\"*gene*\"_exp\"*\"$expn\"*\".csv\", d)\n",
    "tss1 = CSV.read(\"TSS_raw/\"*gene*\"_exp\"*\"$expn\"*\".csv\", DataFrame)\n",
    "\n",
    "gene = \"HSS1_BD\"\n",
    "typeprobe = \"type1\"\n",
    "tss_c4 = root1 * \"Segmentation_type1/_FQ_outline/_TS_detect\"\n",
    "imagesfolder = root1 * \"/tiff3D\"\n",
    "images_pat = TSSs.get_image_patterns(tss_c4)\n",
    "d = TSSs.TSS_raw_quant(tss_c4, tss_c4, imagesfolder, 3; xy = 0.189, zx = 0.5)\n",
    "CSV.write(\"TSS_raw/\"*gene*\"_exp\"*\"$expn\"*\".csv\", d)"
   ]
  },
  {
   "cell_type": "code",
   "execution_count": 7,
   "metadata": {},
   "outputs": [
    {
     "data": {
      "text/plain": [
       "CellInfo1 (generic function with 1 method)"
      ]
     },
     "execution_count": 7,
     "metadata": {},
     "output_type": "execute_result"
    }
   ],
   "source": [
    "function CellInfo1(dir, exp_df)\n",
    "    image_file = get_files_ending_with(dir, \"Image.csv\")\n",
    "     cell_file = get_files_ending_with(dir, \"TrueCells.csv\")\n",
    "\n",
    "    if .&(length(cell_file) == 1,  length(image_file) == 1) # Make sure that there is only one file with the image information\n",
    "        image_file = normpath(dir, image_file[1])\n",
    "        cell_file = normpath(dir, cell_file[1])\n",
    "    else\n",
    "        error(\"Image.csv or Cell file not found\")\n",
    "    end\n",
    "    \n",
    "    ima = DataFrames.DataFrame(CSV.read(image_file, DataFrame))[:, [:FileName_DAPI, :ImageNumber]]\n",
    "    ima[!,:Image] = [split(split(ii, \"_C1\")[1], \"_MAX\")[1] for ii in ima[!,:FileName_DAPI]]\n",
    "    \n",
    "    ima[!,:WELL] = [split(ii, \" \") for ii in ima[!,:Image]]\n",
    "    ima[!,:WELL] = [1 for ii in ima[!,:WELL]]\n",
    "    well = []\n",
    "    for ii in ima[!,:FileName_DAPI]\n",
    "        try\n",
    "            push!(well,split(split(ii, \"S 0_\")[2], \"_X\")[1])\n",
    "        catch\n",
    "            push!(well,split(split(ii, \"_Pos\")[1], \"1_0_\")[2])\n",
    "        end\n",
    "    end\n",
    "    \n",
    "     ima[!,:Well] = well\n",
    "    \n",
    "    exp_df[!,:Well] = [split(ii, \" (\")[1] for ii in exp_df[!,:Well]]\n",
    "\n",
    "    im_ = innerjoin(exp_df, ima, on = :Well, makeunique=true)\n",
    "        \n",
    "\n",
    "    \n",
    "   \n",
    "     cells = DataFrames.DataFrame(CSV.read(cell_file, DataFrame))\n",
    "    cells = outerjoin(im_, cells, on = :ImageNumber)\n",
    "    \n",
    "    cells[!,:Image_Cell] = [cells[ii, :Image]*\"__Cell_CP_\"*string(cells[ii, :ObjectNumber]) for ii in 1:nrow(cells)]\n",
    "    return dropmissing(cells)\n",
    "    \n",
    "end\n",
    "\n"
   ]
  },
  {
   "cell_type": "code",
   "execution_count": null,
   "metadata": {},
   "outputs": [],
   "source": []
  },
  {
   "cell_type": "code",
   "execution_count": 12,
   "metadata": {},
   "outputs": [
    {
     "data": {
      "text/plain": [
       "\"Il12bHSS1/Il12b_intron_BD_exp3_FQ.csv\""
      ]
     },
     "execution_count": 12,
     "metadata": {},
     "output_type": "execute_result"
    }
   ],
   "source": [
    "folder = \"Il12bHSS1BD\"\n",
    "root1 = ROOT1\n",
    "exp = CSV.read(\"IbidiChambers/IbidiChamber_Il12bHSS1_BD_exp1.csv\", DataFrame)\n",
    "expn = 1\n",
    "gene = \"Il12b_intron_BD\"\n",
    "typeprobe = \"type4\"\n",
    "tss1 = CSV.read(\"TSS_raw/\"*gene*\"_exp\"*\"$expn\"*\".csv\", DataFrame)\n",
    "normalise_avgdot(tss1, gene, expn, typeprobe, exp; root = root1, genefolder = \"Il12bHSS1\",  cellinfo = CellInfo1)\n",
    "\n",
    "gene = \"HSS1_BD\"\n",
    "typeprobe = \"type1\"\n",
    "tss1 = CSV.read(\"TSS_raw/\"*gene*\"_exp\"*\"$expn\"*\".csv\", DataFrame)\n",
    "normalise_avgdot(tss1, gene, expn, typeprobe, exp; root = root1, genefolder = \"Il12bHSS1\",  cellinfo = CellInfo1)\n",
    "folder = \"Il12bHSS1BD\"\n",
    "root1 = ROOT2\n",
    "exp = CSV.read(\"IbidiChambers/IbidiChamber_Il12bHSS1_BD_exp2.csv\", DataFrame)\n",
    "expn = 2\n",
    "gene = \"HSS1_BD\"\n",
    "typeprobe = \"type1\"\n",
    "tss1 = CSV.read(\"TSS_raw/\"*gene*\"_exp\"*\"$expn\"*\".csv\", DataFrame)\n",
    "normalise_avgdot(tss1, gene, expn, typeprobe, exp; root = root1, genefolder = \"Il12bHSS1\")\n",
    "gene = \"Il12b_intron_BD\"\n",
    "typeprobe = \"type4\"\n",
    "tss1 = CSV.read(\"TSS_raw/\"*gene*\"_exp\"*\"$expn\"*\".csv\", DataFrame)\n",
    "normalise_avgdot(tss1, gene, expn, typeprobe, exp; root = root1, genefolder = \"Il12bHSS1\")\n",
    "\n",
    "folder = \"Il12bHSS1BD\"\n",
    "root1 = ROOT3\n",
    "exp = CSV.read(\"IbidiChambers/IbidiChamber_Il12bHSS1_BD_exp3.csv\", DataFrame)\n",
    "expn = 3\n",
    "gene = \"HSS1_BD\"\n",
    "typeprobe = \"type1\"\n",
    "tss1 = CSV.read(\"TSS_raw/\"*gene*\"_exp\"*\"$expn\"*\".csv\", DataFrame)\n",
    "normalise_avgdot(tss1, gene, expn, typeprobe, exp; root = root1, genefolder = \"Il12bHSS1\")\n",
    "gene = \"Il12b_intron_BD\"\n",
    "typeprobe = \"type4\"\n",
    "tss1 = CSV.read(\"TSS_raw/\"*gene*\"_exp\"*\"$expn\"*\".csv\", DataFrame)\n",
    "normalise_avgdot(tss1, gene, expn, typeprobe, exp; root = root1, genefolder = \"Il12bHSS1\")"
   ]
  },
  {
   "cell_type": "code",
   "execution_count": 13,
   "metadata": {},
   "outputs": [
    {
     "data": {
      "text/plain": [
       "\"Il12bHSS1/Il12b_intron_BD_exp4_FQ.csv\""
      ]
     },
     "execution_count": 13,
     "metadata": {},
     "output_type": "execute_result"
    }
   ],
   "source": [
    "function removeimages(df, images...)\n",
    "    splitname = split.(df[!,:Image], \"_\")\n",
    "    imnum = [parse(Int, ii[end]) for ii in splitname]\n",
    "    imbool = .! in.(imnum,images)\n",
    "    df[imbool, :]\n",
    "end\n",
    "\n",
    "\n",
    "folder = \"Il12bHSS1BD\"\n",
    "root1 = ROOT4\n",
    "ims = [136,312,166,310,240,308,242,296,520,440,298, 484]\n",
    "\n",
    "\n",
    "exp = CSV.read(\"IbidiChambers/IbidiChamber_Il12bHSS1_BD_exp4.csv\", DataFrame)\n",
    "expn = 4\n",
    "gene = \"HSS1_BD\"\n",
    "typeprobe = \"type1\"\n",
    "tss1 = CSV.read(\"TSS_raw/\"*gene*\"_exp\"*\"$expn\"*\".csv\", DataFrame)\n",
    "tss1 = removeimages(tss1, ims)\n",
    "normalise_avgdot(tss1, gene, expn, typeprobe, exp; root = root1, genefolder = \"Il12bHSS1\")\n",
    "gene = \"Il12b_intron_BD\"\n",
    "typeprobe = \"type4\"\n",
    "tss1 = CSV.read(\"TSS_raw/\"*gene*\"_exp\"*\"$expn\"*\".csv\", DataFrame)\n",
    "tss1 = removeimages(tss1, ims)\n",
    "\n",
    "normalise_avgdot(tss1, gene, expn, typeprobe, exp; root = root1, genefolder = \"Il12bHSS1\")"
   ]
  },
  {
   "cell_type": "code",
   "execution_count": 14,
   "metadata": {},
   "outputs": [
    {
     "data": {
      "text/plain": [
       "normalise_avgdot2 (generic function with 1 method)"
      ]
     },
     "execution_count": 14,
     "metadata": {},
     "output_type": "execute_result"
    }
   ],
   "source": [
    "function normalise_avgdot2(df, genename, expn, typeprobe, ibidislide; root = pwd(), genefolder = \"Gene\", cellinfo = CellInfo)\n",
    "    dot1_r1 = TSSs.int_brightest_pixel(TSSs.read_tiff_as_gray(root * typeprobe *\"/_mRNA_AVG_ns.tif\").*25.5; radious = 1)\n",
    "    dot1_r2 = TSSs.int_brightest_pixel(TSSs.read_tiff_as_gray(root * typeprobe * \"/_mRNA_AVG_ns.tif\").*25.5; radious = 2)\n",
    "    dot1_r3 = TSSs.int_brightest_pixel(TSSs.read_tiff_as_gray(root * typeprobe * \"/_mRNA_AVG_ns.tif\").*25.5; radious = 3)\n",
    "\n",
    "    df[!,:TSS1_r1] = df[!,:locus1_int1_TSS2] ./ dot1_r1\n",
    "    df[!,:TSS1_r2] = df[!,:locus1_int2_TSS2] ./ dot1_r2\n",
    "    df[!,:TSS1_r3] = df[!,:locus1_int3_TSS2] ./ dot1_r3\n",
    "    df[!,:TSS2_r1] = df[!,:locus2_int1_TSS2] ./ dot1_r1\n",
    "    df[!,:TSS2_r2] = df[!,:locus2_int2_TSS2] ./ dot1_r2\n",
    "    df[!,:TSS2_r3] = df[!,:locus2_int3_TSS2] ./ dot1_r3\n",
    "    \n",
    "    \n",
    "    CSV.write(\"TSS_avgdot/\"*genename*\"_exp\"*\"$expn\"*\".csv\", df)\n",
    "    ibidislide[!,:Well] = [split(ii, \" (\")[1] for ii in ibidislide[!,:Well]]\n",
    "    cp_dir = root1*\"CP_results\"\n",
    "     cells1 = cellinfo(cp_dir, add_probetypes(exp));\n",
    "    exp1 = CSV.read(\"TSS_avgdot/\"*gene*\"_exp\"*\"$expn\"*\".csv\", DataFrame)\n",
    "    exp1[!,:Slide] = [ii[1:6] for ii in exp1[!,:Image]]\n",
    "      well = []\n",
    "    for ii in exp1[!,:Image]\n",
    "        try\n",
    "            push!(well,split(split(ii, \"S 0_\")[2], \"_X\")[1])\n",
    "        catch\n",
    "            push!(well,split(split(ii, \"_Pos\")[1], \"1_0_\")[2])\n",
    "        end\n",
    "    end\n",
    "    exp1[!,:Well] = well\n",
    "    exp1 = innerjoin(exp1, ibidislide, on= [\"Well\", \"Slide\"])\n",
    "    CSV.write(genefolder*\"/\"*gene*\"_exp\"*\"$expn\"*\"_TSS.csv\", exp1)\n",
    "    CSV.write(genefolder*\"/\"*gene*\"_exp\"*\"$expn\"*\"_CP.csv\", cells1)\n",
    "    fq_dir1 = root1*typeprobe*\"/\"\n",
    "    fq1 = FQ_summary_MATURE(fq_dir1)\n",
    "    CSV.write(genefolder*\"/\"*gene*\"_exp\"*\"$expn\"*\"_FQ.csv\", fq1)\n",
    "end"
   ]
  },
  {
   "cell_type": "code",
   "execution_count": 15,
   "metadata": {},
   "outputs": [
    {
     "data": {
      "text/plain": [
       "\"Il12bHSS1/Il12b_intron_BD_exp5_FQ.csv\""
      ]
     },
     "execution_count": 15,
     "metadata": {},
     "output_type": "execute_result"
    }
   ],
   "source": [
    "folder = \"Il12bHSS1BD\"\n",
    "root1 = ROOT5\n",
    "exp = CSV.read(\"IbidiChambers/IbidiChamber_Il12bHSS1_BD_exp78.csv\", DataFrame)\n",
    "gene = \"HSS1_BD\"\n",
    "typeprobe = \"type1\"\n",
    "expn = \"5\"\n",
    "tss1 = CSV.read(\"TSS_raw/\"*gene*\"_exp\"*\"$expn\"*\".csv\", DataFrame)\n",
    "normalise_avgdot2(tss1, gene, expn, typeprobe, exp; root = root1, genefolder = \"Il12bHSS1\")\n",
    "\n",
    "gene = \"Il12b_intron_BD\"\n",
    "typeprobe = \"type4\"\n",
    "tss1 = CSV.read(\"TSS_raw/\"*gene*\"_exp\"*\"$expn\"*\".csv\", DataFrame)\n",
    "normalise_avgdot2(tss1, gene, expn, typeprobe, exp; root = root1, genefolder = \"Il12bHSS1\")\n"
   ]
  },
  {
   "cell_type": "code",
   "execution_count": 19,
   "metadata": {},
   "outputs": [
    {
     "data": {
      "text/plain": [
       "\"Il12bHSS1/HSS1_BD_exp7_FQ.csv\""
      ]
     },
     "execution_count": 19,
     "metadata": {},
     "output_type": "execute_result"
    }
   ],
   "source": [
    "folder = \"Il12bHSS1BD\"\n",
    "root1 = ROOT6\n",
    "exp = CSV.read(\"IbidiChambers/IbidiChamber_Il12bHSS1_BD_exp9.csv\", DataFrame)\n",
    "expn = 6\n",
    "gene = \"Il12b_intron_BD\"\n",
    "typeprobe = \"type4\"\n",
    "tss1 = CSV.read(\"TSS_raw/\"*gene*\"_exp\"*\"$expn\"*\".csv\", DataFrame)\n",
    "normalise_avgdot(tss1, gene, expn, typeprobe, exp; root = root1, genefolder = \"Il12bHSS1\",  cellinfo = CellInfo1)\n",
    "\n",
    "gene = \"HSS1_BD\"\n",
    "typeprobe = \"type1\"\n",
    "tss1 = CSV.read(\"TSS_raw/\"*gene*\"_exp\"*\"$expn\"*\".csv\", DataFrame)\n",
    "normalise_avgdot(tss1, gene, expn, typeprobe, exp; root = root1, genefolder = \"Il12bHSS1\",  cellinfo = CellInfo1)\n",
    "\n",
    "folder = \"Il12bHSS1BD\"\n",
    "root1 = ROOT7\n",
    "exp = CSV.read(\"IbidiChambers/IbidiChamber_Il12bHSS1_BD_exp10.csv\", DataFrame)\n",
    "expn = 7\n",
    "gene = \"Il12b_intron_BD\"\n",
    "typeprobe = \"type4\"\n",
    "tss1 = CSV.read(\"TSS_raw/\"*gene*\"_exp\"*\"$expn\"*\".csv\", DataFrame)\n",
    "normalise_avgdot(tss1, gene, expn, typeprobe, exp; root = root1, genefolder = \"Il12bHSS1\",  cellinfo = CellInfo1)\n",
    "\n",
    "gene = \"HSS1_BD\"\n",
    "typeprobe = \"type1\"\n",
    "tss1 = CSV.read(\"TSS_raw/\"*gene*\"_exp\"*\"$expn\"*\".csv\", DataFrame)\n",
    "normalise_avgdot(tss1, gene, expn, typeprobe, exp; root = root1, genefolder = \"Il12bHSS1\",  cellinfo = CellInfo1)\n",
    "\n",
    "\n"
   ]
  },
  {
   "cell_type": "code",
   "execution_count": 89,
   "metadata": {},
   "outputs": [
    {
     "data": {
      "text/plain": [
       "normalise_avgdot3 (generic function with 1 method)"
      ]
     },
     "execution_count": 89,
     "metadata": {},
     "output_type": "execute_result"
    }
   ],
   "source": [
    "function normalise_avgdot3(df, genename, expn, typeprobe, ibidislide; root = pwd(), genefolder = \"Gene\", cellinfo = CellInfo)\n",
    "    exp = split(expn, \"_\")[1]\n",
    "    \n",
    "     initialdf = CSV.read(genefolder*\"/\"*gene*\"_exp\"*\"$exp\"*\"_TSS.csv\", DataFrames.DataFrame)\n",
    "     initialdf_no0 = initialdf[initialdf[!,:locus1_int3_TSS2].> 0, :]\n",
    "     \n",
    "    dot1_r1 = median(initialdf_no0[!,:locus1_int1_TSS2] ./ initialdf_no0[!,:TSS1_r1])\n",
    "    dot1_r2 = median(initialdf_no0[!,:locus1_int2_TSS2] ./ initialdf_no0[!,:TSS1_r2])\n",
    "    dot1_r3 = median(initialdf_no0[!,:locus1_int3_TSS2] ./ initialdf_no0[!,:TSS1_r3])\n",
    "    \n",
    "    df[!,:TSS1_r1] = df[!,:locus1_int1_TSS2] ./ dot1_r1\n",
    "    df[!,:TSS1_r2] = df[!,:locus1_int2_TSS2] ./ dot1_r2\n",
    "    df[!,:TSS1_r3] = df[!,:locus1_int3_TSS2] ./ dot1_r3\n",
    "    df[!,:TSS2_r1] = df[!,:locus2_int1_TSS2] ./ dot1_r1\n",
    "    df[!,:TSS2_r2] = df[!,:locus2_int2_TSS2] ./ dot1_r2\n",
    "    df[!,:TSS2_r3] = df[!,:locus2_int3_TSS2] ./ dot1_r3\n",
    "    \n",
    "    CSV.write(\"TSS_avgdot/\"*genename*\"_exp\"*\"$expn\"*\".csv\", df)\n",
    "    cells1 =  CSV.read(genefolder*\"/\"*gene*\"_exp\"*\"$exp\"*\"_CP.csv\", DataFrame)\n",
    "    exp1 = CSV.read(\"TSS_avgdot/\"*gene*\"_exp\"*\"$expn\"*\".csv\", DataFrame)\n",
    "      well = []\n",
    "    for ii in exp1[!,:Image]\n",
    "        try\n",
    "            push!(well,split(split(ii, \"S 0_\")[2], \"_X\")[1])\n",
    "        catch\n",
    "            push!(well,split(split(ii, \"_Pos\")[1], \"1_0_\")[2])\n",
    "        end\n",
    "    end\n",
    "        \n",
    "     exp1[!,:Well] = well\n",
    "    ibidislide[!,:Well] = [split(ii , \" (1)\")[1] for ii in ibidislide[!,:Well]]\n",
    "    exp1 = innerjoin(exp1, ibidislide, on= [\"Well\"])\n",
    "    CSV.write(genefolder*\"/\"*gene*\"_exp\"*\"$expn\"*\"_TSS.csv\", exp1)\n",
    "    CSV.write(genefolder*\"/\"*gene*\"_exp\"*\"$expn\"*\"_CP.csv\", cells1)\n",
    "    fq1 = CSV.read(genefolder*\"/\"*gene*\"_exp\"*\"$exp\"*\"_FQ.csv\", DataFrame)\n",
    "    CSV.write(genefolder*\"/\"*gene*\"_exp\"*\"$expn\"*\"_FQ.csv\", fq1)\n",
    "end"
   ]
  },
  {
   "cell_type": "code",
   "execution_count": 90,
   "metadata": {},
   "outputs": [
    {
     "data": {
      "text/plain": [
       "\"Il12bHSS1/HSS1_BD_exp6_75_FQ.csv\""
      ]
     },
     "execution_count": 90,
     "metadata": {},
     "output_type": "execute_result"
    }
   ],
   "source": [
    "folder = \"Il12bHSS1BD\"\n",
    "root1 = ROOT6\n",
    "exp = CSV.read(\"IbidiChambers/IbidiChamber_Il12bHSS1_BD_exp9.csv\", DataFrame)\n",
    "expn = \"6_60\"\n",
    "gene = \"Il12b_intron_BD\"\n",
    "typeprobe = \"type4\"\n",
    "tss1 = CSV.read(\"TSS_raw/\"*gene*\"_exp\"*\"$expn\"*\".csv\", DataFrame)\n",
    "normalise_avgdot3(tss1, gene, expn, typeprobe, exp; root = root1, genefolder = \"Il12bHSS1\",  cellinfo = CellInfo1)\n",
    "\n",
    "expn = \"6_70\"\n",
    "gene = \"Il12b_intron_BD\"\n",
    "typeprobe = \"type4\"\n",
    "tss1 = CSV.read(\"TSS_raw/\"*gene*\"_exp\"*\"$expn\"*\".csv\", DataFrame)\n",
    "normalise_avgdot3(tss1, gene, expn, typeprobe, exp; root = root1, genefolder = \"Il12bHSS1\",  cellinfo = CellInfo1)\n",
    "\n",
    "expn = \"6_100\"\n",
    "gene = \"Il12b_intron_BD\"\n",
    "typeprobe = \"type4\"\n",
    "tss1 = CSV.read(\"TSS_raw/\"*gene*\"_exp\"*\"$expn\"*\".csv\", DataFrame)\n",
    "normalise_avgdot3(tss1, gene, expn, typeprobe, exp; root = root1, genefolder = \"Il12bHSS1\",  cellinfo = CellInfo1)\n",
    "\n",
    "expn = \"6_50\"\n",
    "gene = \"HSS1_BD\"\n",
    "typeprobe = \"type1\"\n",
    "tss1 = CSV.read(\"TSS_raw/\"*gene*\"_exp\"*\"$expn\"*\".csv\", DataFrame)\n",
    "normalise_avgdot3(tss1, gene, expn, typeprobe, exp; root = root1, genefolder = \"Il12bHSS1\",  cellinfo = CellInfo1)\n",
    "\n",
    "expn = \"6_60\"\n",
    "gene = \"HSS1_BD\"\n",
    "typeprobe = \"type1\"\n",
    "tss1 = CSV.read(\"TSS_raw/\"*gene*\"_exp\"*\"$expn\"*\".csv\", DataFrame)\n",
    "normalise_avgdot3(tss1, gene, expn, typeprobe, exp; root = root1, genefolder = \"Il12bHSS1\",  cellinfo = CellInfo1)\n",
    "\n",
    "expn = \"6_65\"\n",
    "gene = \"HSS1_BD\"\n",
    "typeprobe = \"type1\"\n",
    "tss1 = CSV.read(\"TSS_raw/\"*gene*\"_exp\"*\"$expn\"*\".csv\", DataFrame)\n",
    "normalise_avgdot3(tss1, gene, expn, typeprobe, exp; root = root1, genefolder = \"Il12bHSS1\",  cellinfo = CellInfo1)\n",
    "\n",
    "expn = \"6_70\"\n",
    "gene = \"HSS1_BD\"\n",
    "typeprobe = \"type1\"\n",
    "tss1 = CSV.read(\"TSS_raw/\"*gene*\"_exp\"*\"$expn\"*\".csv\", DataFrame)\n",
    "normalise_avgdot3(tss1, gene, expn, typeprobe, exp; root = root1, genefolder = \"Il12bHSS1\",  cellinfo = CellInfo1)\n",
    "\n",
    "expn = \"6_75\"\n",
    "gene = \"HSS1_BD\"\n",
    "typeprobe = \"type1\"\n",
    "tss1 = CSV.read(\"TSS_raw/\"*gene*\"_exp\"*\"$expn\"*\".csv\", DataFrame)\n",
    "normalise_avgdot3(tss1, gene, expn, typeprobe, exp; root = root1, genefolder = \"Il12bHSS1\",  cellinfo = CellInfo1)\n"
   ]
  },
  {
   "cell_type": "code",
   "execution_count": 91,
   "metadata": {},
   "outputs": [
    {
     "data": {
      "text/plain": [
       "\"Il12bHSS1/HSS1_BD_exp7_60_FQ.csv\""
      ]
     },
     "execution_count": 91,
     "metadata": {},
     "output_type": "execute_result"
    }
   ],
   "source": [
    "folder = \"Il12bHSS1BD\"\n",
    "root1 = ROOT7\n",
    "exp = CSV.read(\"IbidiChambers/IbidiChamber_Il12bHSS1_BD_exp9.csv\", DataFrame)\n",
    "expn = \"7_40\"\n",
    "gene = \"Il12b_intron_BD\"\n",
    "typeprobe = \"type4\"\n",
    "tss1 = CSV.read(\"TSS_raw/\"*gene*\"_exp\"*\"$expn\"*\".csv\", DataFrame)\n",
    "normalise_avgdot3(tss1, gene, expn, typeprobe, exp; root = root1, genefolder = \"Il12bHSS1\",  cellinfo = CellInfo1)\n",
    "\n",
    "expn = \"7_50\"\n",
    "gene = \"Il12b_intron_BD\"\n",
    "typeprobe = \"type4\"\n",
    "tss1 = CSV.read(\"TSS_raw/\"*gene*\"_exp\"*\"$expn\"*\".csv\", DataFrame)\n",
    "normalise_avgdot3(tss1, gene, expn, typeprobe, exp; root = root1, genefolder = \"Il12bHSS1\",  cellinfo = CellInfo1)\n",
    "\n",
    "expn = \"7_60\"\n",
    "gene = \"Il12b_intron_BD\"\n",
    "typeprobe = \"type4\"\n",
    "tss1 = CSV.read(\"TSS_raw/\"*gene*\"_exp\"*\"$expn\"*\".csv\", DataFrame)\n",
    "normalise_avgdot3(tss1, gene, expn, typeprobe, exp; root = root1, genefolder = \"Il12bHSS1\",  cellinfo = CellInfo1)\n",
    "\n",
    "expn = \"7_35\"\n",
    "gene = \"HSS1_BD\"\n",
    "typeprobe = \"type1\"\n",
    "tss1 = CSV.read(\"TSS_raw/\"*gene*\"_exp\"*\"$expn\"*\".csv\", DataFrame)\n",
    "normalise_avgdot3(tss1, gene, expn, typeprobe, exp; root = root1, genefolder = \"Il12bHSS1\",  cellinfo = CellInfo1)\n",
    "\n",
    "expn = \"7_47\"\n",
    "gene = \"HSS1_BD\"\n",
    "typeprobe = \"type1\"\n",
    "tss1 = CSV.read(\"TSS_raw/\"*gene*\"_exp\"*\"$expn\"*\".csv\", DataFrame)\n",
    "normalise_avgdot3(tss1, gene, expn, typeprobe, exp; root = root1, genefolder = \"Il12bHSS1\",  cellinfo = CellInfo1)\n",
    "\n",
    "expn = \"7_60\"\n",
    "gene = \"HSS1_BD\"\n",
    "typeprobe = \"type1\"\n",
    "tss1 = CSV.read(\"TSS_raw/\"*gene*\"_exp\"*\"$expn\"*\".csv\", DataFrame)\n",
    "normalise_avgdot3(tss1, gene, expn, typeprobe, exp; root = root1, genefolder = \"Il12bHSS1\",  cellinfo = CellInfo1)\n"
   ]
  },
  {
   "cell_type": "code",
   "execution_count": null,
   "metadata": {},
   "outputs": [],
   "source": []
  },
  {
   "cell_type": "code",
   "execution_count": null,
   "metadata": {},
   "outputs": [],
   "source": []
  }
 ],
 "metadata": {
  "kernelspec": {
   "display_name": "Julia 1.6.0",
   "language": "julia",
   "name": "julia-1.6"
  },
  "language_info": {
   "file_extension": ".jl",
   "mimetype": "application/julia",
   "name": "julia",
   "version": "1.6.0"
  }
 },
 "nbformat": 4,
 "nbformat_minor": 2
}
