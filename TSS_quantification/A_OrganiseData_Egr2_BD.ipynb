{
 "cells": [
  {
   "cell_type": "code",
   "execution_count": 1,
   "metadata": {},
   "outputs": [
    {
     "data": {
      "text/plain": [
       "normalise_avgdot (generic function with 1 method)"
      ]
     },
     "execution_count": 1,
     "metadata": {},
     "output_type": "execute_result"
    }
   ],
   "source": [
    "include(\"StandardCode.jl\")\n",
    "\n",
    "function normalise_avgdot(df, genename, expn, typeprobe, ibidislide; root = pwd(), genefolder = \"Gene\")\n",
    "    dot1_r1 = TSSs.int_brightest_pixel(TSSs.read_tiff_as_gray(root * typeprobe *\"/_mRNA_AVG_ns.tif\").*25.5; radious = 1)\n",
    "    dot1_r2 = TSSs.int_brightest_pixel(TSSs.read_tiff_as_gray(root * typeprobe * \"/_mRNA_AVG_ns.tif\").*25.5; radious = 2)\n",
    "    dot1_r3 = TSSs.int_brightest_pixel(TSSs.read_tiff_as_gray(root * typeprobe * \"/_mRNA_AVG_ns.tif\").*25.5; radious = 3)\n",
    "\n",
    "    df[!,:TSS1_r1] = df[!,:locus1_int1_TSS2] ./ dot1_r1\n",
    "    df[!,:TSS1_r2] = df[!,:locus1_int2_TSS2] ./ dot1_r2\n",
    "    df[!,:TSS1_r3] = df[!,:locus1_int3_TSS2] ./ dot1_r3\n",
    "    df[!,:TSS2_r1] = df[!,:locus2_int1_TSS2] ./ dot1_r1\n",
    "    df[!,:TSS2_r2] = df[!,:locus2_int2_TSS2] ./ dot1_r2\n",
    "    df[!,:TSS2_r3] = df[!,:locus2_int3_TSS2] ./ dot1_r3\n",
    "    \n",
    "    \n",
    "    CSV.write(\"TSS_avgdot/\"*genename*\"_exp\"*\"$expn\"*\".csv\", df)\n",
    "    ibidislide[!,:Well] = [split(ii, \" (\")[1] for ii in ibidislide[!,:Well]]\n",
    "    cp_dir = root1*\"CP_results\"\n",
    "    cells1 = CellInfo(cp_dir, add_probetypes(exp));\n",
    "    exp1 = CSV.read(\"TSS_avgdot/\"*gene*\"_exp\"*\"$expn\"*\".csv\", DataFrame)\n",
    "    exp1[!,:Well] = [split(split(ii, \"S 0_\")[2], \"_X\")[1] for ii in exp1[!,:Image]]\n",
    "    exp1 = innerjoin(exp1, ibidislide, on= \"Well\")\n",
    "    CSV.write(genefolder*\"/\"*gene*\"_exp\"*\"$expn\"*\"_TSS.csv\", exp1)\n",
    "    CSV.write(genefolder*\"/\"*gene*\"_exp\"*\"$expn\"*\"_CP.csv\", cells1)\n",
    "    fq_dir1 = root1*typeprobe*\"/\"\n",
    "    fq1 = FQ_summary_MATURE(fq_dir1)\n",
    "    CSV.write(genefolder*\"/\"*gene*\"_exp\"*\"$expn\"*\"_FQ.csv\", fq1)\n",
    "end\n"
   ]
  },
  {
   "cell_type": "code",
   "execution_count": 2,
   "metadata": {},
   "outputs": [
    {
     "data": {
      "text/plain": [
       "\"/Volumes/lymphdev\\$/IreneR/Confocal/EnhancerInducibleGenes/Egr2BD/Rep5/\""
      ]
     },
     "execution_count": 2,
     "metadata": {},
     "output_type": "execute_result"
    }
   ],
   "source": [
    "ROOT1 = \"/Volumes/lymphdev\\$/IreneR/Confocal/EnhancerInducibleGenes/Egr2BD/Rep1/\"\n",
    "ROOT2 = \"/Volumes/lymphdev\\$/IreneR/Confocal/EnhancerInducibleGenes/Egr2BD/Rep2/\"\n",
    "ROOT3 = \"/Volumes/lymphdev\\$/IreneR/Confocal/EnhancerInducibleGenes/Egr2BD/Rep4/\"\n",
    "ROOT4 = \"/Volumes/lymphdev\\$/IreneR/Confocal/EnhancerInducibleGenes/Egr2BD/Rep5/\""
   ]
  },
  {
   "cell_type": "code",
   "execution_count": 5,
   "metadata": {},
   "outputs": [
    {
     "name": "stderr",
     "output_type": "stream",
     "text": [
      "\u001b[32mProgress: 100%|█████████████████████████████████████████| Time: 0:32:45\u001b[39m\n",
      "\u001b[32mProgress: 100%|█████████████████████████████████████████| Time: 0:42:32\u001b[39m\n",
      "WARNING: both Pandas and DataFrames export \"DataFrame\"; uses of it in module NoLongerProblems_Pandas must be qualified\n",
      "\u001b[32mProgress: 100%|█████████████████████████████████████████| Time: 0:52:20\u001b[39m\n",
      "\u001b[32mProgress: 100%|█████████████████████████████████████████| Time: 0:54:13\u001b[39m\n"
     ]
    },
    {
     "data": {
      "text/html": [
       "<table class=\"data-frame\"><thead><tr><th></th><th>Cell</th><th>Image</th></tr><tr><th></th><th>String</th><th>String</th></tr></thead><tbody><p>8,391 rows × 19 columns (omitted printing of 17 columns)</p><tr><th>1</th><td>Cell_CP_34</td><td>Egr2BD_29May21_WTRad21_Sequence_A 0_S 0_U 0_V 0_X 6_Y20_Job(Seq.Scan) 1 01 01 02 01 04 01_044</td></tr><tr><th>2</th><td>Cell_CP_16</td><td>Egr2BD_29May21_WTRad21_Sequence_A 0_S 0_U 0_V 0_X 6_Y20_Job(Seq.Scan) 1 01 01 02 01 04 01_044</td></tr><tr><th>3</th><td>Cell_CP_20</td><td>Egr2BD_29May21_WTRad21_Sequence_A 0_S 0_U 0_V 0_X 6_Y20_Job(Seq.Scan) 1 01 01 02 01 04 01_044</td></tr><tr><th>4</th><td>Cell_CP_7</td><td>Egr2BD_29May21_WTRad21_Sequence_A 0_S 0_U 0_V 0_X 6_Y20_Job(Seq.Scan) 1 01 01 02 01 04 01_044</td></tr><tr><th>5</th><td>Cell_CP_18</td><td>Egr2BD_29May21_WTRad21_Sequence_A 0_S 0_U 0_V 0_X 6_Y20_Job(Seq.Scan) 1 01 01 02 01 04 01_044</td></tr><tr><th>6</th><td>Cell_CP_10</td><td>Egr2BD_29May21_WTRad21_Sequence_A 0_S 0_U 0_V 0_X 6_Y20_Job(Seq.Scan) 1 01 01 02 01 04 01_044</td></tr><tr><th>7</th><td>Cell_CP_11</td><td>Egr2BD_29May21_WTRad21_Sequence_A 0_S 0_U 0_V 0_X 6_Y20_Job(Seq.Scan) 1 01 01 02 01 04 01_044</td></tr><tr><th>8</th><td>Cell_CP_32</td><td>Egr2BD_29May21_WTRad21_Sequence_A 0_S 0_U 0_V 0_X 6_Y20_Job(Seq.Scan) 1 01 01 02 01 04 01_044</td></tr><tr><th>9</th><td>Cell_CP_19</td><td>Egr2BD_29May21_WTRad21_Sequence_A 0_S 0_U 0_V 0_X 6_Y20_Job(Seq.Scan) 1 01 01 02 01 04 01_044</td></tr><tr><th>10</th><td>Cell_CP_5</td><td>Egr2BD_29May21_WTRad21_Sequence_A 0_S 0_U 0_V 0_X 6_Y20_Job(Seq.Scan) 1 01 01 02 01 04 01_044</td></tr><tr><th>11</th><td>Cell_CP_35</td><td>Egr2BD_29May21_WTRad21_Sequence_A 0_S 0_U 0_V 0_X 6_Y20_Job(Seq.Scan) 1 01 01 02 01 04 01_044</td></tr><tr><th>12</th><td>Cell_CP_41</td><td>Egr2BD_29May21_WTRad21_Sequence_A 0_S 0_U 0_V 0_X 6_Y20_Job(Seq.Scan) 1 01 01 02 01 04 01_044</td></tr><tr><th>13</th><td>Cell_CP_25</td><td>Egr2BD_29May21_WTRad21_Sequence_A 0_S 0_U 0_V 0_X 6_Y20_Job(Seq.Scan) 1 01 01 02 01 04 01_044</td></tr><tr><th>14</th><td>Cell_CP_24</td><td>Egr2BD_29May21_WTRad21_Sequence_A 0_S 0_U 0_V 0_X 6_Y20_Job(Seq.Scan) 1 01 01 02 01 04 01_044</td></tr><tr><th>15</th><td>Cell_CP_13</td><td>Egr2BD_29May21_WTRad21_Sequence_A 0_S 0_U 0_V 0_X 6_Y20_Job(Seq.Scan) 1 01 01 02 01 04 01_044</td></tr><tr><th>16</th><td>Cell_CP_23</td><td>Egr2BD_29May21_WTRad21_Sequence_A 0_S 0_U 0_V 0_X 6_Y20_Job(Seq.Scan) 1 01 01 02 01 04 01_044</td></tr><tr><th>17</th><td>Cell_CP_2</td><td>Egr2BD_29May21_WTRad21_Sequence_A 0_S 0_U 0_V 0_X 6_Y20_Job(Seq.Scan) 1 01 01 02 01 04 01_044</td></tr><tr><th>18</th><td>Cell_CP_29</td><td>Egr2BD_29May21_WTRad21_Sequence_A 0_S 0_U 0_V 0_X 6_Y20_Job(Seq.Scan) 1 01 01 02 01 04 01_044</td></tr><tr><th>19</th><td>Cell_CP_8</td><td>Egr2BD_29May21_WTRad21_Sequence_A 0_S 0_U 0_V 0_X 6_Y20_Job(Seq.Scan) 1 01 01 02 01 04 01_044</td></tr><tr><th>20</th><td>Cell_CP_22</td><td>Egr2BD_29May21_WTRad21_Sequence_A 0_S 0_U 0_V 0_X 6_Y20_Job(Seq.Scan) 1 01 01 02 01 04 01_044</td></tr><tr><th>21</th><td>Cell_CP_40</td><td>Egr2BD_29May21_WTRad21_Sequence_A 0_S 0_U 0_V 0_X 6_Y20_Job(Seq.Scan) 1 01 01 02 01 04 01_044</td></tr><tr><th>22</th><td>Cell_CP_38</td><td>Egr2BD_29May21_WTRad21_Sequence_A 0_S 0_U 0_V 0_X 6_Y20_Job(Seq.Scan) 1 01 01 02 01 04 01_044</td></tr><tr><th>23</th><td>Cell_CP_42</td><td>Egr2BD_29May21_WTRad21_Sequence_A 0_S 0_U 0_V 0_X 6_Y20_Job(Seq.Scan) 1 01 01 02 01 04 01_044</td></tr><tr><th>24</th><td>Cell_CP_43</td><td>Egr2BD_29May21_WTRad21_Sequence_A 0_S 0_U 0_V 0_X 6_Y20_Job(Seq.Scan) 1 01 01 02 01 04 01_044</td></tr><tr><th>25</th><td>Cell_CP_36</td><td>Egr2BD_29May21_WTRad21_Sequence_A 0_S 0_U 0_V 0_X 6_Y20_Job(Seq.Scan) 1 01 01 02 01 04 01_044</td></tr><tr><th>26</th><td>Cell_CP_21</td><td>Egr2BD_29May21_WTRad21_Sequence_A 0_S 0_U 0_V 0_X 6_Y20_Job(Seq.Scan) 1 01 01 02 01 04 01_044</td></tr><tr><th>27</th><td>Cell_CP_27</td><td>Egr2BD_29May21_WTRad21_Sequence_A 0_S 0_U 0_V 0_X 6_Y20_Job(Seq.Scan) 1 01 01 02 01 04 01_044</td></tr><tr><th>28</th><td>Cell_CP_9</td><td>Egr2BD_29May21_WTRad21_Sequence_A 0_S 0_U 0_V 0_X 6_Y20_Job(Seq.Scan) 1 01 01 02 01 04 01_044</td></tr><tr><th>29</th><td>Cell_CP_6</td><td>Egr2BD_29May21_WTRad21_Sequence_A 0_S 0_U 0_V 0_X 6_Y20_Job(Seq.Scan) 1 01 01 02 01 04 01_044</td></tr><tr><th>30</th><td>Cell_CP_4</td><td>Egr2BD_29May21_WTRad21_Sequence_A 0_S 0_U 0_V 0_X 6_Y20_Job(Seq.Scan) 1 01 01 02 01 04 01_044</td></tr><tr><th>&vellip;</th><td>&vellip;</td><td>&vellip;</td></tr></tbody></table>"
      ],
      "text/latex": [
       "\\begin{tabular}{r|ccc}\n",
       "\t& Cell & Image & \\\\\n",
       "\t\\hline\n",
       "\t& String & String & \\\\\n",
       "\t\\hline\n",
       "\t1 & Cell\\_CP\\_34 & Egr2BD\\_29May21\\_WTRad21\\_Sequence\\_A 0\\_S 0\\_U 0\\_V 0\\_X 6\\_Y20\\_Job(Seq.Scan) 1 01 01 02 01 04 01\\_044 & $\\dots$ \\\\\n",
       "\t2 & Cell\\_CP\\_16 & Egr2BD\\_29May21\\_WTRad21\\_Sequence\\_A 0\\_S 0\\_U 0\\_V 0\\_X 6\\_Y20\\_Job(Seq.Scan) 1 01 01 02 01 04 01\\_044 & $\\dots$ \\\\\n",
       "\t3 & Cell\\_CP\\_20 & Egr2BD\\_29May21\\_WTRad21\\_Sequence\\_A 0\\_S 0\\_U 0\\_V 0\\_X 6\\_Y20\\_Job(Seq.Scan) 1 01 01 02 01 04 01\\_044 & $\\dots$ \\\\\n",
       "\t4 & Cell\\_CP\\_7 & Egr2BD\\_29May21\\_WTRad21\\_Sequence\\_A 0\\_S 0\\_U 0\\_V 0\\_X 6\\_Y20\\_Job(Seq.Scan) 1 01 01 02 01 04 01\\_044 & $\\dots$ \\\\\n",
       "\t5 & Cell\\_CP\\_18 & Egr2BD\\_29May21\\_WTRad21\\_Sequence\\_A 0\\_S 0\\_U 0\\_V 0\\_X 6\\_Y20\\_Job(Seq.Scan) 1 01 01 02 01 04 01\\_044 & $\\dots$ \\\\\n",
       "\t6 & Cell\\_CP\\_10 & Egr2BD\\_29May21\\_WTRad21\\_Sequence\\_A 0\\_S 0\\_U 0\\_V 0\\_X 6\\_Y20\\_Job(Seq.Scan) 1 01 01 02 01 04 01\\_044 & $\\dots$ \\\\\n",
       "\t7 & Cell\\_CP\\_11 & Egr2BD\\_29May21\\_WTRad21\\_Sequence\\_A 0\\_S 0\\_U 0\\_V 0\\_X 6\\_Y20\\_Job(Seq.Scan) 1 01 01 02 01 04 01\\_044 & $\\dots$ \\\\\n",
       "\t8 & Cell\\_CP\\_32 & Egr2BD\\_29May21\\_WTRad21\\_Sequence\\_A 0\\_S 0\\_U 0\\_V 0\\_X 6\\_Y20\\_Job(Seq.Scan) 1 01 01 02 01 04 01\\_044 & $\\dots$ \\\\\n",
       "\t9 & Cell\\_CP\\_19 & Egr2BD\\_29May21\\_WTRad21\\_Sequence\\_A 0\\_S 0\\_U 0\\_V 0\\_X 6\\_Y20\\_Job(Seq.Scan) 1 01 01 02 01 04 01\\_044 & $\\dots$ \\\\\n",
       "\t10 & Cell\\_CP\\_5 & Egr2BD\\_29May21\\_WTRad21\\_Sequence\\_A 0\\_S 0\\_U 0\\_V 0\\_X 6\\_Y20\\_Job(Seq.Scan) 1 01 01 02 01 04 01\\_044 & $\\dots$ \\\\\n",
       "\t11 & Cell\\_CP\\_35 & Egr2BD\\_29May21\\_WTRad21\\_Sequence\\_A 0\\_S 0\\_U 0\\_V 0\\_X 6\\_Y20\\_Job(Seq.Scan) 1 01 01 02 01 04 01\\_044 & $\\dots$ \\\\\n",
       "\t12 & Cell\\_CP\\_41 & Egr2BD\\_29May21\\_WTRad21\\_Sequence\\_A 0\\_S 0\\_U 0\\_V 0\\_X 6\\_Y20\\_Job(Seq.Scan) 1 01 01 02 01 04 01\\_044 & $\\dots$ \\\\\n",
       "\t13 & Cell\\_CP\\_25 & Egr2BD\\_29May21\\_WTRad21\\_Sequence\\_A 0\\_S 0\\_U 0\\_V 0\\_X 6\\_Y20\\_Job(Seq.Scan) 1 01 01 02 01 04 01\\_044 & $\\dots$ \\\\\n",
       "\t14 & Cell\\_CP\\_24 & Egr2BD\\_29May21\\_WTRad21\\_Sequence\\_A 0\\_S 0\\_U 0\\_V 0\\_X 6\\_Y20\\_Job(Seq.Scan) 1 01 01 02 01 04 01\\_044 & $\\dots$ \\\\\n",
       "\t15 & Cell\\_CP\\_13 & Egr2BD\\_29May21\\_WTRad21\\_Sequence\\_A 0\\_S 0\\_U 0\\_V 0\\_X 6\\_Y20\\_Job(Seq.Scan) 1 01 01 02 01 04 01\\_044 & $\\dots$ \\\\\n",
       "\t16 & Cell\\_CP\\_23 & Egr2BD\\_29May21\\_WTRad21\\_Sequence\\_A 0\\_S 0\\_U 0\\_V 0\\_X 6\\_Y20\\_Job(Seq.Scan) 1 01 01 02 01 04 01\\_044 & $\\dots$ \\\\\n",
       "\t17 & Cell\\_CP\\_2 & Egr2BD\\_29May21\\_WTRad21\\_Sequence\\_A 0\\_S 0\\_U 0\\_V 0\\_X 6\\_Y20\\_Job(Seq.Scan) 1 01 01 02 01 04 01\\_044 & $\\dots$ \\\\\n",
       "\t18 & Cell\\_CP\\_29 & Egr2BD\\_29May21\\_WTRad21\\_Sequence\\_A 0\\_S 0\\_U 0\\_V 0\\_X 6\\_Y20\\_Job(Seq.Scan) 1 01 01 02 01 04 01\\_044 & $\\dots$ \\\\\n",
       "\t19 & Cell\\_CP\\_8 & Egr2BD\\_29May21\\_WTRad21\\_Sequence\\_A 0\\_S 0\\_U 0\\_V 0\\_X 6\\_Y20\\_Job(Seq.Scan) 1 01 01 02 01 04 01\\_044 & $\\dots$ \\\\\n",
       "\t20 & Cell\\_CP\\_22 & Egr2BD\\_29May21\\_WTRad21\\_Sequence\\_A 0\\_S 0\\_U 0\\_V 0\\_X 6\\_Y20\\_Job(Seq.Scan) 1 01 01 02 01 04 01\\_044 & $\\dots$ \\\\\n",
       "\t21 & Cell\\_CP\\_40 & Egr2BD\\_29May21\\_WTRad21\\_Sequence\\_A 0\\_S 0\\_U 0\\_V 0\\_X 6\\_Y20\\_Job(Seq.Scan) 1 01 01 02 01 04 01\\_044 & $\\dots$ \\\\\n",
       "\t22 & Cell\\_CP\\_38 & Egr2BD\\_29May21\\_WTRad21\\_Sequence\\_A 0\\_S 0\\_U 0\\_V 0\\_X 6\\_Y20\\_Job(Seq.Scan) 1 01 01 02 01 04 01\\_044 & $\\dots$ \\\\\n",
       "\t23 & Cell\\_CP\\_42 & Egr2BD\\_29May21\\_WTRad21\\_Sequence\\_A 0\\_S 0\\_U 0\\_V 0\\_X 6\\_Y20\\_Job(Seq.Scan) 1 01 01 02 01 04 01\\_044 & $\\dots$ \\\\\n",
       "\t24 & Cell\\_CP\\_43 & Egr2BD\\_29May21\\_WTRad21\\_Sequence\\_A 0\\_S 0\\_U 0\\_V 0\\_X 6\\_Y20\\_Job(Seq.Scan) 1 01 01 02 01 04 01\\_044 & $\\dots$ \\\\\n",
       "\t25 & Cell\\_CP\\_36 & Egr2BD\\_29May21\\_WTRad21\\_Sequence\\_A 0\\_S 0\\_U 0\\_V 0\\_X 6\\_Y20\\_Job(Seq.Scan) 1 01 01 02 01 04 01\\_044 & $\\dots$ \\\\\n",
       "\t26 & Cell\\_CP\\_21 & Egr2BD\\_29May21\\_WTRad21\\_Sequence\\_A 0\\_S 0\\_U 0\\_V 0\\_X 6\\_Y20\\_Job(Seq.Scan) 1 01 01 02 01 04 01\\_044 & $\\dots$ \\\\\n",
       "\t27 & Cell\\_CP\\_27 & Egr2BD\\_29May21\\_WTRad21\\_Sequence\\_A 0\\_S 0\\_U 0\\_V 0\\_X 6\\_Y20\\_Job(Seq.Scan) 1 01 01 02 01 04 01\\_044 & $\\dots$ \\\\\n",
       "\t28 & Cell\\_CP\\_9 & Egr2BD\\_29May21\\_WTRad21\\_Sequence\\_A 0\\_S 0\\_U 0\\_V 0\\_X 6\\_Y20\\_Job(Seq.Scan) 1 01 01 02 01 04 01\\_044 & $\\dots$ \\\\\n",
       "\t29 & Cell\\_CP\\_6 & Egr2BD\\_29May21\\_WTRad21\\_Sequence\\_A 0\\_S 0\\_U 0\\_V 0\\_X 6\\_Y20\\_Job(Seq.Scan) 1 01 01 02 01 04 01\\_044 & $\\dots$ \\\\\n",
       "\t30 & Cell\\_CP\\_4 & Egr2BD\\_29May21\\_WTRad21\\_Sequence\\_A 0\\_S 0\\_U 0\\_V 0\\_X 6\\_Y20\\_Job(Seq.Scan) 1 01 01 02 01 04 01\\_044 & $\\dots$ \\\\\n",
       "\t$\\dots$ & $\\dots$ & $\\dots$ &  \\\\\n",
       "\\end{tabular}\n"
      ],
      "text/plain": [
       "\u001b[1m8391×19 DataFrame\u001b[0m\n",
       "\u001b[1m  Row \u001b[0m│\u001b[1m Cell       \u001b[0m\u001b[1m Image                             \u001b[0m\u001b[1m Image_BF  \u001b[0m\u001b[1m N_TSS2 \u001b[0m\u001b[1m locu\u001b[0m ⋯\n",
       "\u001b[1m      \u001b[0m│\u001b[90m String     \u001b[0m\u001b[90m String                            \u001b[0m\u001b[90m Float64   \u001b[0m\u001b[90m Int64  \u001b[0m\u001b[90m Stri\u001b[0m ⋯\n",
       "──────┼─────────────────────────────────────────────────────────────────────────\n",
       "    1 │ Cell_CP_34  Egr2BD_29May21_WTRad21_Sequence_…  0.267442        0  0    ⋯\n",
       "    2 │ Cell_CP_16  Egr2BD_29May21_WTRad21_Sequence_…  0.267442        0  0\n",
       "    3 │ Cell_CP_20  Egr2BD_29May21_WTRad21_Sequence_…  0.267442        2  TxS_\n",
       "    4 │ Cell_CP_7   Egr2BD_29May21_WTRad21_Sequence_…  0.267442        1  TxS_\n",
       "    5 │ Cell_CP_18  Egr2BD_29May21_WTRad21_Sequence_…  0.267442        1  TxS_ ⋯\n",
       "    6 │ Cell_CP_10  Egr2BD_29May21_WTRad21_Sequence_…  0.267442        1  TxS_\n",
       "    7 │ Cell_CP_11  Egr2BD_29May21_WTRad21_Sequence_…  0.267442        0  0\n",
       "    8 │ Cell_CP_32  Egr2BD_29May21_WTRad21_Sequence_…  0.267442        0  0\n",
       "    9 │ Cell_CP_19  Egr2BD_29May21_WTRad21_Sequence_…  0.267442        1  TxS_ ⋯\n",
       "   10 │ Cell_CP_5   Egr2BD_29May21_WTRad21_Sequence_…  0.267442        0  0\n",
       "   11 │ Cell_CP_35  Egr2BD_29May21_WTRad21_Sequence_…  0.267442        0  0\n",
       "  ⋮   │     ⋮                       ⋮                      ⋮        ⋮          ⋱\n",
       " 8382 │ Cell_CP_6   Egr2BD_29May21_WTRad21_Sequence_…  0.0769231       0  0\n",
       " 8383 │ Cell_CP_2   Egr2BD_29May21_WTRad21_Sequence_…  0.0769231       0  0    ⋯\n",
       " 8384 │ Cell_CP_8   Egr2BD_29May21_WTRad21_Sequence_…  0.0769231       1  TxS_\n",
       " 8385 │ Cell_CP_10  Egr2BD_29May21_WTRad21_Sequence_…  0.0769231       0  0\n",
       " 8386 │ Cell_CP_4   Egr2BD_29May21_WTRad21_Sequence_…  0.0769231       0  0\n",
       " 8387 │ Cell_CP_11  Egr2BD_29May21_WTRad21_Sequence_…  0.0769231       0  0    ⋯\n",
       " 8388 │ Cell_CP_1   Egr2BD_29May21_WTRad21_Sequence_…  0.0769231       0  0\n",
       " 8389 │ Cell_CP_5   Egr2BD_29May21_WTRad21_Sequence_…  0.0769231       0  0\n",
       " 8390 │ Cell_CP_12  Egr2BD_29May21_WTRad21_Sequence_…  0.0769231       0  0\n",
       " 8391 │ Cell_CP_3   Egr2BD_29May21_WTRad21_Sequence_…  0.0769231       0  0    ⋯\n",
       "\u001b[36m                                                15 columns and 8370 rows omitted\u001b[0m"
      ]
     },
     "execution_count": 5,
     "metadata": {},
     "output_type": "execute_result"
    }
   ],
   "source": [
    "root1 = ROOT1\n",
    "expn = \"1\"\n",
    "\n",
    "gene = \"Egr2_intron_BD\"\n",
    "typeprobe = \"type1\"\n",
    "tss_c4 = root1 * \"Segmentation_type1/_FQ_outline/_TS_detect\"\n",
    "imagesfolder = root1 * \"/tiff3D\"\n",
    "images_pat = TSSs.get_image_patterns(tss_c4)\n",
    "d = TSSs.TSS_raw_quant(tss_c4, tss_c4, imagesfolder, 3; xy = 0.189, zx = 0.5)\n",
    "CSV.write(\"TSS_raw/\"*gene*\"_exp\"*\"$expn\"*\".csv\", d)\n",
    "\n",
    "gene = \"Egr2_enh_BD\"\n",
    "typeprobe = \"type6\"\n",
    "tss_c4 = root1 * \"Segmentation_type6/_FQ_outline/_TS_detect\"\n",
    "imagesfolder = root1 * \"/tiff3D\"\n",
    "images_pat = TSSs.get_image_patterns(tss_c4)\n",
    "d = TSSs.TSS_raw_quant(tss_c4, tss_c4, imagesfolder, 2; xy = 0.189, zx = 0.5)\n",
    "CSV.write(\"TSS_raw/\"*gene*\"_exp\"*\"$expn\"*\".csv\", d)\n",
    "tss1 = CSV.read(\"TSS_raw/\"*gene*\"_exp\"*\"$expn\"*\".csv\", DataFrame)\n",
    "\n",
    "\n",
    "root1 = ROOT2\n",
    "expn = \"2\"\n",
    "\n",
    "gene = \"Egr2_intron_BD\"\n",
    "typeprobe = \"type1\"\n",
    "tss_c4 = root1 * \"Segmentation_type1/_FQ_outline/_TS_detect\"\n",
    "imagesfolder = root1 * \"/tiff3D\"\n",
    "images_pat = TSSs.get_image_patterns(tss_c4)\n",
    "d = TSSs.TSS_raw_quant(tss_c4, tss_c4, imagesfolder, 3; xy = 0.189, zx = 0.5)\n",
    "CSV.write(\"TSS_raw/\"*gene*\"_exp\"*\"$expn\"*\".csv\", d)\n",
    "\n",
    "gene = \"Egr2_enh_BD\"\n",
    "typeprobe = \"type6\"\n",
    "tss_c4 = root1 * \"Segmentation_type6/_FQ_outline/_TS_detect\"\n",
    "imagesfolder = root1 * \"/tiff3D\"\n",
    "images_pat = TSSs.get_image_patterns(tss_c4)\n",
    "d = TSSs.TSS_raw_quant(tss_c4, tss_c4, imagesfolder, 2; xy = 0.189, zx = 0.5)\n",
    "CSV.write(\"TSS_raw/\"*gene*\"_exp\"*\"$expn\"*\".csv\", d)\n",
    "tss1 = CSV.read(\"TSS_raw/\"*gene*\"_exp\"*\"$expn\"*\".csv\", DataFrame)"
   ]
  },
  {
   "cell_type": "code",
   "execution_count": 5,
   "metadata": {},
   "outputs": [
    {
     "name": "stderr",
     "output_type": "stream",
     "text": [
      "\u001b[32mProgress: 100%|█████████████████████████████████████████| Time: 0:37:57\u001b[39m\n",
      "\u001b[32mProgress: 100%|█████████████████████████████████████████| Time: 0:43:19\u001b[39m\n"
     ]
    },
    {
     "data": {
      "text/html": [
       "<table class=\"data-frame\"><thead><tr><th></th><th>Cell</th><th>Image</th></tr><tr><th></th><th>String</th><th>String</th></tr></thead><tbody><p>5,147 rows × 19 columns (omitted printing of 17 columns)</p><tr><th>1</th><td>Cell_CP_16</td><td>Egr2_Egr2Ehn_type1C3_type6C2_Exp41_Sequence_A 0_S 0_U 0_V 0_X 8_Y14_Job(Seq.Scan) 1 01 01 02 01 04 01_002</td></tr><tr><th>2</th><td>Cell_CP_9</td><td>Egr2_Egr2Ehn_type1C3_type6C2_Exp41_Sequence_A 0_S 0_U 0_V 0_X 8_Y14_Job(Seq.Scan) 1 01 01 02 01 04 01_002</td></tr><tr><th>3</th><td>Cell_CP_7</td><td>Egr2_Egr2Ehn_type1C3_type6C2_Exp41_Sequence_A 0_S 0_U 0_V 0_X 8_Y14_Job(Seq.Scan) 1 01 01 02 01 04 01_002</td></tr><tr><th>4</th><td>Cell_CP_13</td><td>Egr2_Egr2Ehn_type1C3_type6C2_Exp41_Sequence_A 0_S 0_U 0_V 0_X 8_Y14_Job(Seq.Scan) 1 01 01 02 01 04 01_002</td></tr><tr><th>5</th><td>Cell_CP_6</td><td>Egr2_Egr2Ehn_type1C3_type6C2_Exp41_Sequence_A 0_S 0_U 0_V 0_X 8_Y14_Job(Seq.Scan) 1 01 01 02 01 04 01_002</td></tr><tr><th>6</th><td>Cell_CP_18</td><td>Egr2_Egr2Ehn_type1C3_type6C2_Exp41_Sequence_A 0_S 0_U 0_V 0_X 8_Y14_Job(Seq.Scan) 1 01 01 02 01 04 01_002</td></tr><tr><th>7</th><td>Cell_CP_2</td><td>Egr2_Egr2Ehn_type1C3_type6C2_Exp41_Sequence_A 0_S 0_U 0_V 0_X 8_Y14_Job(Seq.Scan) 1 01 01 02 01 04 01_002</td></tr><tr><th>8</th><td>Cell_CP_8</td><td>Egr2_Egr2Ehn_type1C3_type6C2_Exp41_Sequence_A 0_S 0_U 0_V 0_X 8_Y14_Job(Seq.Scan) 1 01 01 02 01 04 01_002</td></tr><tr><th>9</th><td>Cell_CP_10</td><td>Egr2_Egr2Ehn_type1C3_type6C2_Exp41_Sequence_A 0_S 0_U 0_V 0_X 8_Y14_Job(Seq.Scan) 1 01 01 02 01 04 01_002</td></tr><tr><th>10</th><td>Cell_CP_4</td><td>Egr2_Egr2Ehn_type1C3_type6C2_Exp41_Sequence_A 0_S 0_U 0_V 0_X 8_Y14_Job(Seq.Scan) 1 01 01 02 01 04 01_002</td></tr><tr><th>11</th><td>Cell_CP_11</td><td>Egr2_Egr2Ehn_type1C3_type6C2_Exp41_Sequence_A 0_S 0_U 0_V 0_X 8_Y14_Job(Seq.Scan) 1 01 01 02 01 04 01_002</td></tr><tr><th>12</th><td>Cell_CP_1</td><td>Egr2_Egr2Ehn_type1C3_type6C2_Exp41_Sequence_A 0_S 0_U 0_V 0_X 8_Y14_Job(Seq.Scan) 1 01 01 02 01 04 01_002</td></tr><tr><th>13</th><td>Cell_CP_15</td><td>Egr2_Egr2Ehn_type1C3_type6C2_Exp41_Sequence_A 0_S 0_U 0_V 0_X 8_Y14_Job(Seq.Scan) 1 01 01 02 01 04 01_002</td></tr><tr><th>14</th><td>Cell_CP_19</td><td>Egr2_Egr2Ehn_type1C3_type6C2_Exp41_Sequence_A 0_S 0_U 0_V 0_X 8_Y14_Job(Seq.Scan) 1 01 01 02 01 04 01_002</td></tr><tr><th>15</th><td>Cell_CP_5</td><td>Egr2_Egr2Ehn_type1C3_type6C2_Exp41_Sequence_A 0_S 0_U 0_V 0_X 8_Y14_Job(Seq.Scan) 1 01 01 02 01 04 01_002</td></tr><tr><th>16</th><td>Cell_CP_12</td><td>Egr2_Egr2Ehn_type1C3_type6C2_Exp41_Sequence_A 0_S 0_U 0_V 0_X 8_Y14_Job(Seq.Scan) 1 01 01 02 01 04 01_002</td></tr><tr><th>17</th><td>Cell_CP_17</td><td>Egr2_Egr2Ehn_type1C3_type6C2_Exp41_Sequence_A 0_S 0_U 0_V 0_X 8_Y14_Job(Seq.Scan) 1 01 01 02 01 04 01_002</td></tr><tr><th>18</th><td>Cell_CP_3</td><td>Egr2_Egr2Ehn_type1C3_type6C2_Exp41_Sequence_A 0_S 0_U 0_V 0_X 8_Y14_Job(Seq.Scan) 1 01 01 02 01 04 01_002</td></tr><tr><th>19</th><td>Cell_CP_14</td><td>Egr2_Egr2Ehn_type1C3_type6C2_Exp41_Sequence_A 0_S 0_U 0_V 0_X 8_Y14_Job(Seq.Scan) 1 01 01 02 01 04 01_002</td></tr><tr><th>20</th><td>Cell_CP_16</td><td>Egr2_Egr2Ehn_type1C3_type6C2_Exp41_Sequence_A 0_S 0_U 0_V 0_X 8_Y15_Job(Seq.Scan) 1 01 01 02 01 04 01_024</td></tr><tr><th>21</th><td>Cell_CP_9</td><td>Egr2_Egr2Ehn_type1C3_type6C2_Exp41_Sequence_A 0_S 0_U 0_V 0_X 8_Y15_Job(Seq.Scan) 1 01 01 02 01 04 01_024</td></tr><tr><th>22</th><td>Cell_CP_7</td><td>Egr2_Egr2Ehn_type1C3_type6C2_Exp41_Sequence_A 0_S 0_U 0_V 0_X 8_Y15_Job(Seq.Scan) 1 01 01 02 01 04 01_024</td></tr><tr><th>23</th><td>Cell_CP_13</td><td>Egr2_Egr2Ehn_type1C3_type6C2_Exp41_Sequence_A 0_S 0_U 0_V 0_X 8_Y15_Job(Seq.Scan) 1 01 01 02 01 04 01_024</td></tr><tr><th>24</th><td>Cell_CP_6</td><td>Egr2_Egr2Ehn_type1C3_type6C2_Exp41_Sequence_A 0_S 0_U 0_V 0_X 8_Y15_Job(Seq.Scan) 1 01 01 02 01 04 01_024</td></tr><tr><th>25</th><td>Cell_CP_2</td><td>Egr2_Egr2Ehn_type1C3_type6C2_Exp41_Sequence_A 0_S 0_U 0_V 0_X 8_Y15_Job(Seq.Scan) 1 01 01 02 01 04 01_024</td></tr><tr><th>26</th><td>Cell_CP_8</td><td>Egr2_Egr2Ehn_type1C3_type6C2_Exp41_Sequence_A 0_S 0_U 0_V 0_X 8_Y15_Job(Seq.Scan) 1 01 01 02 01 04 01_024</td></tr><tr><th>27</th><td>Cell_CP_10</td><td>Egr2_Egr2Ehn_type1C3_type6C2_Exp41_Sequence_A 0_S 0_U 0_V 0_X 8_Y15_Job(Seq.Scan) 1 01 01 02 01 04 01_024</td></tr><tr><th>28</th><td>Cell_CP_4</td><td>Egr2_Egr2Ehn_type1C3_type6C2_Exp41_Sequence_A 0_S 0_U 0_V 0_X 8_Y15_Job(Seq.Scan) 1 01 01 02 01 04 01_024</td></tr><tr><th>29</th><td>Cell_CP_11</td><td>Egr2_Egr2Ehn_type1C3_type6C2_Exp41_Sequence_A 0_S 0_U 0_V 0_X 8_Y15_Job(Seq.Scan) 1 01 01 02 01 04 01_024</td></tr><tr><th>30</th><td>Cell_CP_1</td><td>Egr2_Egr2Ehn_type1C3_type6C2_Exp41_Sequence_A 0_S 0_U 0_V 0_X 8_Y15_Job(Seq.Scan) 1 01 01 02 01 04 01_024</td></tr><tr><th>&vellip;</th><td>&vellip;</td><td>&vellip;</td></tr></tbody></table>"
      ],
      "text/latex": [
       "\\begin{tabular}{r|ccc}\n",
       "\t& Cell & Image & \\\\\n",
       "\t\\hline\n",
       "\t& String & String & \\\\\n",
       "\t\\hline\n",
       "\t1 & Cell\\_CP\\_16 & Egr2\\_Egr2Ehn\\_type1C3\\_type6C2\\_Exp41\\_Sequence\\_A 0\\_S 0\\_U 0\\_V 0\\_X 8\\_Y14\\_Job(Seq.Scan) 1 01 01 02 01 04 01\\_002 & $\\dots$ \\\\\n",
       "\t2 & Cell\\_CP\\_9 & Egr2\\_Egr2Ehn\\_type1C3\\_type6C2\\_Exp41\\_Sequence\\_A 0\\_S 0\\_U 0\\_V 0\\_X 8\\_Y14\\_Job(Seq.Scan) 1 01 01 02 01 04 01\\_002 & $\\dots$ \\\\\n",
       "\t3 & Cell\\_CP\\_7 & Egr2\\_Egr2Ehn\\_type1C3\\_type6C2\\_Exp41\\_Sequence\\_A 0\\_S 0\\_U 0\\_V 0\\_X 8\\_Y14\\_Job(Seq.Scan) 1 01 01 02 01 04 01\\_002 & $\\dots$ \\\\\n",
       "\t4 & Cell\\_CP\\_13 & Egr2\\_Egr2Ehn\\_type1C3\\_type6C2\\_Exp41\\_Sequence\\_A 0\\_S 0\\_U 0\\_V 0\\_X 8\\_Y14\\_Job(Seq.Scan) 1 01 01 02 01 04 01\\_002 & $\\dots$ \\\\\n",
       "\t5 & Cell\\_CP\\_6 & Egr2\\_Egr2Ehn\\_type1C3\\_type6C2\\_Exp41\\_Sequence\\_A 0\\_S 0\\_U 0\\_V 0\\_X 8\\_Y14\\_Job(Seq.Scan) 1 01 01 02 01 04 01\\_002 & $\\dots$ \\\\\n",
       "\t6 & Cell\\_CP\\_18 & Egr2\\_Egr2Ehn\\_type1C3\\_type6C2\\_Exp41\\_Sequence\\_A 0\\_S 0\\_U 0\\_V 0\\_X 8\\_Y14\\_Job(Seq.Scan) 1 01 01 02 01 04 01\\_002 & $\\dots$ \\\\\n",
       "\t7 & Cell\\_CP\\_2 & Egr2\\_Egr2Ehn\\_type1C3\\_type6C2\\_Exp41\\_Sequence\\_A 0\\_S 0\\_U 0\\_V 0\\_X 8\\_Y14\\_Job(Seq.Scan) 1 01 01 02 01 04 01\\_002 & $\\dots$ \\\\\n",
       "\t8 & Cell\\_CP\\_8 & Egr2\\_Egr2Ehn\\_type1C3\\_type6C2\\_Exp41\\_Sequence\\_A 0\\_S 0\\_U 0\\_V 0\\_X 8\\_Y14\\_Job(Seq.Scan) 1 01 01 02 01 04 01\\_002 & $\\dots$ \\\\\n",
       "\t9 & Cell\\_CP\\_10 & Egr2\\_Egr2Ehn\\_type1C3\\_type6C2\\_Exp41\\_Sequence\\_A 0\\_S 0\\_U 0\\_V 0\\_X 8\\_Y14\\_Job(Seq.Scan) 1 01 01 02 01 04 01\\_002 & $\\dots$ \\\\\n",
       "\t10 & Cell\\_CP\\_4 & Egr2\\_Egr2Ehn\\_type1C3\\_type6C2\\_Exp41\\_Sequence\\_A 0\\_S 0\\_U 0\\_V 0\\_X 8\\_Y14\\_Job(Seq.Scan) 1 01 01 02 01 04 01\\_002 & $\\dots$ \\\\\n",
       "\t11 & Cell\\_CP\\_11 & Egr2\\_Egr2Ehn\\_type1C3\\_type6C2\\_Exp41\\_Sequence\\_A 0\\_S 0\\_U 0\\_V 0\\_X 8\\_Y14\\_Job(Seq.Scan) 1 01 01 02 01 04 01\\_002 & $\\dots$ \\\\\n",
       "\t12 & Cell\\_CP\\_1 & Egr2\\_Egr2Ehn\\_type1C3\\_type6C2\\_Exp41\\_Sequence\\_A 0\\_S 0\\_U 0\\_V 0\\_X 8\\_Y14\\_Job(Seq.Scan) 1 01 01 02 01 04 01\\_002 & $\\dots$ \\\\\n",
       "\t13 & Cell\\_CP\\_15 & Egr2\\_Egr2Ehn\\_type1C3\\_type6C2\\_Exp41\\_Sequence\\_A 0\\_S 0\\_U 0\\_V 0\\_X 8\\_Y14\\_Job(Seq.Scan) 1 01 01 02 01 04 01\\_002 & $\\dots$ \\\\\n",
       "\t14 & Cell\\_CP\\_19 & Egr2\\_Egr2Ehn\\_type1C3\\_type6C2\\_Exp41\\_Sequence\\_A 0\\_S 0\\_U 0\\_V 0\\_X 8\\_Y14\\_Job(Seq.Scan) 1 01 01 02 01 04 01\\_002 & $\\dots$ \\\\\n",
       "\t15 & Cell\\_CP\\_5 & Egr2\\_Egr2Ehn\\_type1C3\\_type6C2\\_Exp41\\_Sequence\\_A 0\\_S 0\\_U 0\\_V 0\\_X 8\\_Y14\\_Job(Seq.Scan) 1 01 01 02 01 04 01\\_002 & $\\dots$ \\\\\n",
       "\t16 & Cell\\_CP\\_12 & Egr2\\_Egr2Ehn\\_type1C3\\_type6C2\\_Exp41\\_Sequence\\_A 0\\_S 0\\_U 0\\_V 0\\_X 8\\_Y14\\_Job(Seq.Scan) 1 01 01 02 01 04 01\\_002 & $\\dots$ \\\\\n",
       "\t17 & Cell\\_CP\\_17 & Egr2\\_Egr2Ehn\\_type1C3\\_type6C2\\_Exp41\\_Sequence\\_A 0\\_S 0\\_U 0\\_V 0\\_X 8\\_Y14\\_Job(Seq.Scan) 1 01 01 02 01 04 01\\_002 & $\\dots$ \\\\\n",
       "\t18 & Cell\\_CP\\_3 & Egr2\\_Egr2Ehn\\_type1C3\\_type6C2\\_Exp41\\_Sequence\\_A 0\\_S 0\\_U 0\\_V 0\\_X 8\\_Y14\\_Job(Seq.Scan) 1 01 01 02 01 04 01\\_002 & $\\dots$ \\\\\n",
       "\t19 & Cell\\_CP\\_14 & Egr2\\_Egr2Ehn\\_type1C3\\_type6C2\\_Exp41\\_Sequence\\_A 0\\_S 0\\_U 0\\_V 0\\_X 8\\_Y14\\_Job(Seq.Scan) 1 01 01 02 01 04 01\\_002 & $\\dots$ \\\\\n",
       "\t20 & Cell\\_CP\\_16 & Egr2\\_Egr2Ehn\\_type1C3\\_type6C2\\_Exp41\\_Sequence\\_A 0\\_S 0\\_U 0\\_V 0\\_X 8\\_Y15\\_Job(Seq.Scan) 1 01 01 02 01 04 01\\_024 & $\\dots$ \\\\\n",
       "\t21 & Cell\\_CP\\_9 & Egr2\\_Egr2Ehn\\_type1C3\\_type6C2\\_Exp41\\_Sequence\\_A 0\\_S 0\\_U 0\\_V 0\\_X 8\\_Y15\\_Job(Seq.Scan) 1 01 01 02 01 04 01\\_024 & $\\dots$ \\\\\n",
       "\t22 & Cell\\_CP\\_7 & Egr2\\_Egr2Ehn\\_type1C3\\_type6C2\\_Exp41\\_Sequence\\_A 0\\_S 0\\_U 0\\_V 0\\_X 8\\_Y15\\_Job(Seq.Scan) 1 01 01 02 01 04 01\\_024 & $\\dots$ \\\\\n",
       "\t23 & Cell\\_CP\\_13 & Egr2\\_Egr2Ehn\\_type1C3\\_type6C2\\_Exp41\\_Sequence\\_A 0\\_S 0\\_U 0\\_V 0\\_X 8\\_Y15\\_Job(Seq.Scan) 1 01 01 02 01 04 01\\_024 & $\\dots$ \\\\\n",
       "\t24 & Cell\\_CP\\_6 & Egr2\\_Egr2Ehn\\_type1C3\\_type6C2\\_Exp41\\_Sequence\\_A 0\\_S 0\\_U 0\\_V 0\\_X 8\\_Y15\\_Job(Seq.Scan) 1 01 01 02 01 04 01\\_024 & $\\dots$ \\\\\n",
       "\t25 & Cell\\_CP\\_2 & Egr2\\_Egr2Ehn\\_type1C3\\_type6C2\\_Exp41\\_Sequence\\_A 0\\_S 0\\_U 0\\_V 0\\_X 8\\_Y15\\_Job(Seq.Scan) 1 01 01 02 01 04 01\\_024 & $\\dots$ \\\\\n",
       "\t26 & Cell\\_CP\\_8 & Egr2\\_Egr2Ehn\\_type1C3\\_type6C2\\_Exp41\\_Sequence\\_A 0\\_S 0\\_U 0\\_V 0\\_X 8\\_Y15\\_Job(Seq.Scan) 1 01 01 02 01 04 01\\_024 & $\\dots$ \\\\\n",
       "\t27 & Cell\\_CP\\_10 & Egr2\\_Egr2Ehn\\_type1C3\\_type6C2\\_Exp41\\_Sequence\\_A 0\\_S 0\\_U 0\\_V 0\\_X 8\\_Y15\\_Job(Seq.Scan) 1 01 01 02 01 04 01\\_024 & $\\dots$ \\\\\n",
       "\t28 & Cell\\_CP\\_4 & Egr2\\_Egr2Ehn\\_type1C3\\_type6C2\\_Exp41\\_Sequence\\_A 0\\_S 0\\_U 0\\_V 0\\_X 8\\_Y15\\_Job(Seq.Scan) 1 01 01 02 01 04 01\\_024 & $\\dots$ \\\\\n",
       "\t29 & Cell\\_CP\\_11 & Egr2\\_Egr2Ehn\\_type1C3\\_type6C2\\_Exp41\\_Sequence\\_A 0\\_S 0\\_U 0\\_V 0\\_X 8\\_Y15\\_Job(Seq.Scan) 1 01 01 02 01 04 01\\_024 & $\\dots$ \\\\\n",
       "\t30 & Cell\\_CP\\_1 & Egr2\\_Egr2Ehn\\_type1C3\\_type6C2\\_Exp41\\_Sequence\\_A 0\\_S 0\\_U 0\\_V 0\\_X 8\\_Y15\\_Job(Seq.Scan) 1 01 01 02 01 04 01\\_024 & $\\dots$ \\\\\n",
       "\t$\\dots$ & $\\dots$ & $\\dots$ &  \\\\\n",
       "\\end{tabular}\n"
      ],
      "text/plain": [
       "\u001b[1m5147×19 DataFrame\u001b[0m\n",
       "\u001b[1m  Row \u001b[0m│\u001b[1m Cell       \u001b[0m\u001b[1m Image                             \u001b[0m\u001b[1m Image_BF \u001b[0m\u001b[1m N_TSS2 \u001b[0m\u001b[1m locus\u001b[0m ⋯\n",
       "\u001b[1m      \u001b[0m│\u001b[90m String     \u001b[0m\u001b[90m String                            \u001b[0m\u001b[90m Float64  \u001b[0m\u001b[90m Int64  \u001b[0m\u001b[90m Strin\u001b[0m ⋯\n",
       "──────┼─────────────────────────────────────────────────────────────────────────\n",
       "    1 │ Cell_CP_16  Egr2_Egr2Ehn_type1C3_type6C2_Exp…  0.394737       2  TxS_a ⋯\n",
       "    2 │ Cell_CP_9   Egr2_Egr2Ehn_type1C3_type6C2_Exp…  0.394737       2  TxS_a\n",
       "    3 │ Cell_CP_7   Egr2_Egr2Ehn_type1C3_type6C2_Exp…  0.394737       0  0\n",
       "    4 │ Cell_CP_13  Egr2_Egr2Ehn_type1C3_type6C2_Exp…  0.394737       0  0\n",
       "    5 │ Cell_CP_6   Egr2_Egr2Ehn_type1C3_type6C2_Exp…  0.394737       2  TxS_a ⋯\n",
       "    6 │ Cell_CP_18  Egr2_Egr2Ehn_type1C3_type6C2_Exp…  0.394737       0  0\n",
       "    7 │ Cell_CP_2   Egr2_Egr2Ehn_type1C3_type6C2_Exp…  0.394737       0  0\n",
       "    8 │ Cell_CP_8   Egr2_Egr2Ehn_type1C3_type6C2_Exp…  0.394737       0  0\n",
       "    9 │ Cell_CP_10  Egr2_Egr2Ehn_type1C3_type6C2_Exp…  0.394737       0  0     ⋯\n",
       "   10 │ Cell_CP_4   Egr2_Egr2Ehn_type1C3_type6C2_Exp…  0.394737       1  TxS_a\n",
       "   11 │ Cell_CP_11  Egr2_Egr2Ehn_type1C3_type6C2_Exp…  0.394737       0  0\n",
       "  ⋮   │     ⋮                       ⋮                     ⋮        ⋮           ⋱\n",
       " 5138 │ Cell_CP_2   Egr2_Egr2Ehn_type1C3_type6C2_Exp…  0.785714       2  TxS_a\n",
       " 5139 │ Cell_CP_8   Egr2_Egr2Ehn_type1C3_type6C2_Exp…  0.785714       1  TxS_a ⋯\n",
       " 5140 │ Cell_CP_10  Egr2_Egr2Ehn_type1C3_type6C2_Exp…  0.785714       2  TxS_a\n",
       " 5141 │ Cell_CP_4   Egr2_Egr2Ehn_type1C3_type6C2_Exp…  0.785714       2  TxS_a\n",
       " 5142 │ Cell_CP_11  Egr2_Egr2Ehn_type1C3_type6C2_Exp…  0.785714       2  TxS_a\n",
       " 5143 │ Cell_CP_1   Egr2_Egr2Ehn_type1C3_type6C2_Exp…  0.785714       2  TxS_a ⋯\n",
       " 5144 │ Cell_CP_5   Egr2_Egr2Ehn_type1C3_type6C2_Exp…  0.785714       1  TxS_a\n",
       " 5145 │ Cell_CP_12  Egr2_Egr2Ehn_type1C3_type6C2_Exp…  0.785714       2  TxS_a\n",
       " 5146 │ Cell_CP_3   Egr2_Egr2Ehn_type1C3_type6C2_Exp…  0.785714       0  0\n",
       " 5147 │ Cell_CP_14  Egr2_Egr2Ehn_type1C3_type6C2_Exp…  0.785714       2  TxS_a ⋯\n",
       "\u001b[36m                                                15 columns and 5126 rows omitted\u001b[0m"
      ]
     },
     "execution_count": 5,
     "metadata": {},
     "output_type": "execute_result"
    }
   ],
   "source": [
    "root1 = ROOT3\n",
    "expn = \"3\"\n",
    "\n",
    "gene = \"Egr2_intron_BD\"\n",
    "typeprobe = \"type1\"\n",
    "tss_c4 = root1 * \"Segmentation_type1/_FQ_outline/_TS_detect\"\n",
    "imagesfolder = root1 * \"/tiff3D\"\n",
    "images_pat = TSSs.get_image_patterns(tss_c4)\n",
    "d = TSSs.TSS_raw_quant(tss_c4, tss_c4, imagesfolder, 3; xy = 0.189, zx = 0.5)\n",
    "CSV.write(\"TSS_raw/\"*gene*\"_exp\"*\"$expn\"*\".csv\", d)\n",
    "\n",
    "gene = \"Egr2_enh_BD\"\n",
    "typeprobe = \"type6\"\n",
    "tss_c4 = root1 * \"Segmentation_type6/_FQ_outline/_TS_detect\"\n",
    "imagesfolder = root1 * \"/tiff3D\"\n",
    "images_pat = TSSs.get_image_patterns(tss_c4)\n",
    "d = TSSs.TSS_raw_quant(tss_c4, tss_c4, imagesfolder, 2; xy = 0.189, zx = 0.5)\n",
    "CSV.write(\"TSS_raw/\"*gene*\"_exp\"*\"$expn\"*\".csv\", d)\n",
    "tss1 = CSV.read(\"TSS_raw/\"*gene*\"_exp\"*\"$expn\"*\".csv\", DataFrame)"
   ]
  },
  {
   "cell_type": "code",
   "execution_count": 4,
   "metadata": {},
   "outputs": [
    {
     "name": "stderr",
     "output_type": "stream",
     "text": [
      "\u001b[32mProgress: 100%|█████████████████████████████████████████| Time: 0:51:58\u001b[39m\n",
      "\u001b[32mProgress: 100%|█████████████████████████████████████████| Time: 0:47:22\u001b[39m\n",
      "WARNING: both Pandas and DataFrames export \"DataFrame\"; uses of it in module NoLongerProblems_Pandas must be qualified\n"
     ]
    },
    {
     "data": {
      "text/html": [
       "<table class=\"data-frame\"><thead><tr><th></th><th>Cell</th><th>Image</th></tr><tr><th></th><th>String</th><th>String</th></tr></thead><tbody><p>5,191 rows × 19 columns (omitted printing of 17 columns)</p><tr><th>1</th><td>Cell_CP_9</td><td>Egr2_Egr2Ehn_type1C3_type6C2_Exp31_Sequence_A 0_S 0_U 0_V 0_X 4_Y18_Job(Seq.Scan) 1 01 01 02 01 04 01_010</td></tr><tr><th>2</th><td>Cell_CP_7</td><td>Egr2_Egr2Ehn_type1C3_type6C2_Exp31_Sequence_A 0_S 0_U 0_V 0_X 4_Y18_Job(Seq.Scan) 1 01 01 02 01 04 01_010</td></tr><tr><th>3</th><td>Cell_CP_13</td><td>Egr2_Egr2Ehn_type1C3_type6C2_Exp31_Sequence_A 0_S 0_U 0_V 0_X 4_Y18_Job(Seq.Scan) 1 01 01 02 01 04 01_010</td></tr><tr><th>4</th><td>Cell_CP_6</td><td>Egr2_Egr2Ehn_type1C3_type6C2_Exp31_Sequence_A 0_S 0_U 0_V 0_X 4_Y18_Job(Seq.Scan) 1 01 01 02 01 04 01_010</td></tr><tr><th>5</th><td>Cell_CP_2</td><td>Egr2_Egr2Ehn_type1C3_type6C2_Exp31_Sequence_A 0_S 0_U 0_V 0_X 4_Y18_Job(Seq.Scan) 1 01 01 02 01 04 01_010</td></tr><tr><th>6</th><td>Cell_CP_8</td><td>Egr2_Egr2Ehn_type1C3_type6C2_Exp31_Sequence_A 0_S 0_U 0_V 0_X 4_Y18_Job(Seq.Scan) 1 01 01 02 01 04 01_010</td></tr><tr><th>7</th><td>Cell_CP_10</td><td>Egr2_Egr2Ehn_type1C3_type6C2_Exp31_Sequence_A 0_S 0_U 0_V 0_X 4_Y18_Job(Seq.Scan) 1 01 01 02 01 04 01_010</td></tr><tr><th>8</th><td>Cell_CP_4</td><td>Egr2_Egr2Ehn_type1C3_type6C2_Exp31_Sequence_A 0_S 0_U 0_V 0_X 4_Y18_Job(Seq.Scan) 1 01 01 02 01 04 01_010</td></tr><tr><th>9</th><td>Cell_CP_11</td><td>Egr2_Egr2Ehn_type1C3_type6C2_Exp31_Sequence_A 0_S 0_U 0_V 0_X 4_Y18_Job(Seq.Scan) 1 01 01 02 01 04 01_010</td></tr><tr><th>10</th><td>Cell_CP_1</td><td>Egr2_Egr2Ehn_type1C3_type6C2_Exp31_Sequence_A 0_S 0_U 0_V 0_X 4_Y18_Job(Seq.Scan) 1 01 01 02 01 04 01_010</td></tr><tr><th>11</th><td>Cell_CP_5</td><td>Egr2_Egr2Ehn_type1C3_type6C2_Exp31_Sequence_A 0_S 0_U 0_V 0_X 4_Y18_Job(Seq.Scan) 1 01 01 02 01 04 01_010</td></tr><tr><th>12</th><td>Cell_CP_12</td><td>Egr2_Egr2Ehn_type1C3_type6C2_Exp31_Sequence_A 0_S 0_U 0_V 0_X 4_Y18_Job(Seq.Scan) 1 01 01 02 01 04 01_010</td></tr><tr><th>13</th><td>Cell_CP_3</td><td>Egr2_Egr2Ehn_type1C3_type6C2_Exp31_Sequence_A 0_S 0_U 0_V 0_X 4_Y18_Job(Seq.Scan) 1 01 01 02 01 04 01_010</td></tr><tr><th>14</th><td>Cell_CP_14</td><td>Egr2_Egr2Ehn_type1C3_type6C2_Exp31_Sequence_A 0_S 0_U 0_V 0_X 4_Y18_Job(Seq.Scan) 1 01 01 02 01 04 01_010</td></tr><tr><th>15</th><td>Cell_CP_5</td><td>Egr2_Egr2Ehn_type1C3_type6C2_Exp31_Sequence_A 0_S 0_U 0_V 0_X 4_Y19_Job(Seq.Scan) 1 01 01 02 01 04 01_028</td></tr><tr><th>16</th><td>Cell_CP_8</td><td>Egr2_Egr2Ehn_type1C3_type6C2_Exp31_Sequence_A 0_S 0_U 0_V 0_X 4_Y19_Job(Seq.Scan) 1 01 01 02 01 04 01_028</td></tr><tr><th>17</th><td>Cell_CP_9</td><td>Egr2_Egr2Ehn_type1C3_type6C2_Exp31_Sequence_A 0_S 0_U 0_V 0_X 4_Y19_Job(Seq.Scan) 1 01 01 02 01 04 01_028</td></tr><tr><th>18</th><td>Cell_CP_7</td><td>Egr2_Egr2Ehn_type1C3_type6C2_Exp31_Sequence_A 0_S 0_U 0_V 0_X 4_Y19_Job(Seq.Scan) 1 01 01 02 01 04 01_028</td></tr><tr><th>19</th><td>Cell_CP_4</td><td>Egr2_Egr2Ehn_type1C3_type6C2_Exp31_Sequence_A 0_S 0_U 0_V 0_X 4_Y19_Job(Seq.Scan) 1 01 01 02 01 04 01_028</td></tr><tr><th>20</th><td>Cell_CP_1</td><td>Egr2_Egr2Ehn_type1C3_type6C2_Exp31_Sequence_A 0_S 0_U 0_V 0_X 4_Y19_Job(Seq.Scan) 1 01 01 02 01 04 01_028</td></tr><tr><th>21</th><td>Cell_CP_6</td><td>Egr2_Egr2Ehn_type1C3_type6C2_Exp31_Sequence_A 0_S 0_U 0_V 0_X 4_Y19_Job(Seq.Scan) 1 01 01 02 01 04 01_028</td></tr><tr><th>22</th><td>Cell_CP_3</td><td>Egr2_Egr2Ehn_type1C3_type6C2_Exp31_Sequence_A 0_S 0_U 0_V 0_X 4_Y19_Job(Seq.Scan) 1 01 01 02 01 04 01_028</td></tr><tr><th>23</th><td>Cell_CP_2</td><td>Egr2_Egr2Ehn_type1C3_type6C2_Exp31_Sequence_A 0_S 0_U 0_V 0_X 4_Y19_Job(Seq.Scan) 1 01 01 02 01 04 01_028</td></tr><tr><th>24</th><td>Cell_CP_16</td><td>Egr2_Egr2Ehn_type1C3_type6C2_Exp31_Sequence_A 0_S 0_U 0_V 0_X 4_Y20_Job(Seq.Scan) 1 01 01 02 01 04 01_030</td></tr><tr><th>25</th><td>Cell_CP_9</td><td>Egr2_Egr2Ehn_type1C3_type6C2_Exp31_Sequence_A 0_S 0_U 0_V 0_X 4_Y20_Job(Seq.Scan) 1 01 01 02 01 04 01_030</td></tr><tr><th>26</th><td>Cell_CP_7</td><td>Egr2_Egr2Ehn_type1C3_type6C2_Exp31_Sequence_A 0_S 0_U 0_V 0_X 4_Y20_Job(Seq.Scan) 1 01 01 02 01 04 01_030</td></tr><tr><th>27</th><td>Cell_CP_13</td><td>Egr2_Egr2Ehn_type1C3_type6C2_Exp31_Sequence_A 0_S 0_U 0_V 0_X 4_Y20_Job(Seq.Scan) 1 01 01 02 01 04 01_030</td></tr><tr><th>28</th><td>Cell_CP_6</td><td>Egr2_Egr2Ehn_type1C3_type6C2_Exp31_Sequence_A 0_S 0_U 0_V 0_X 4_Y20_Job(Seq.Scan) 1 01 01 02 01 04 01_030</td></tr><tr><th>29</th><td>Cell_CP_2</td><td>Egr2_Egr2Ehn_type1C3_type6C2_Exp31_Sequence_A 0_S 0_U 0_V 0_X 4_Y20_Job(Seq.Scan) 1 01 01 02 01 04 01_030</td></tr><tr><th>30</th><td>Cell_CP_8</td><td>Egr2_Egr2Ehn_type1C3_type6C2_Exp31_Sequence_A 0_S 0_U 0_V 0_X 4_Y20_Job(Seq.Scan) 1 01 01 02 01 04 01_030</td></tr><tr><th>&vellip;</th><td>&vellip;</td><td>&vellip;</td></tr></tbody></table>"
      ],
      "text/latex": [
       "\\begin{tabular}{r|ccc}\n",
       "\t& Cell & Image & \\\\\n",
       "\t\\hline\n",
       "\t& String & String & \\\\\n",
       "\t\\hline\n",
       "\t1 & Cell\\_CP\\_9 & Egr2\\_Egr2Ehn\\_type1C3\\_type6C2\\_Exp31\\_Sequence\\_A 0\\_S 0\\_U 0\\_V 0\\_X 4\\_Y18\\_Job(Seq.Scan) 1 01 01 02 01 04 01\\_010 & $\\dots$ \\\\\n",
       "\t2 & Cell\\_CP\\_7 & Egr2\\_Egr2Ehn\\_type1C3\\_type6C2\\_Exp31\\_Sequence\\_A 0\\_S 0\\_U 0\\_V 0\\_X 4\\_Y18\\_Job(Seq.Scan) 1 01 01 02 01 04 01\\_010 & $\\dots$ \\\\\n",
       "\t3 & Cell\\_CP\\_13 & Egr2\\_Egr2Ehn\\_type1C3\\_type6C2\\_Exp31\\_Sequence\\_A 0\\_S 0\\_U 0\\_V 0\\_X 4\\_Y18\\_Job(Seq.Scan) 1 01 01 02 01 04 01\\_010 & $\\dots$ \\\\\n",
       "\t4 & Cell\\_CP\\_6 & Egr2\\_Egr2Ehn\\_type1C3\\_type6C2\\_Exp31\\_Sequence\\_A 0\\_S 0\\_U 0\\_V 0\\_X 4\\_Y18\\_Job(Seq.Scan) 1 01 01 02 01 04 01\\_010 & $\\dots$ \\\\\n",
       "\t5 & Cell\\_CP\\_2 & Egr2\\_Egr2Ehn\\_type1C3\\_type6C2\\_Exp31\\_Sequence\\_A 0\\_S 0\\_U 0\\_V 0\\_X 4\\_Y18\\_Job(Seq.Scan) 1 01 01 02 01 04 01\\_010 & $\\dots$ \\\\\n",
       "\t6 & Cell\\_CP\\_8 & Egr2\\_Egr2Ehn\\_type1C3\\_type6C2\\_Exp31\\_Sequence\\_A 0\\_S 0\\_U 0\\_V 0\\_X 4\\_Y18\\_Job(Seq.Scan) 1 01 01 02 01 04 01\\_010 & $\\dots$ \\\\\n",
       "\t7 & Cell\\_CP\\_10 & Egr2\\_Egr2Ehn\\_type1C3\\_type6C2\\_Exp31\\_Sequence\\_A 0\\_S 0\\_U 0\\_V 0\\_X 4\\_Y18\\_Job(Seq.Scan) 1 01 01 02 01 04 01\\_010 & $\\dots$ \\\\\n",
       "\t8 & Cell\\_CP\\_4 & Egr2\\_Egr2Ehn\\_type1C3\\_type6C2\\_Exp31\\_Sequence\\_A 0\\_S 0\\_U 0\\_V 0\\_X 4\\_Y18\\_Job(Seq.Scan) 1 01 01 02 01 04 01\\_010 & $\\dots$ \\\\\n",
       "\t9 & Cell\\_CP\\_11 & Egr2\\_Egr2Ehn\\_type1C3\\_type6C2\\_Exp31\\_Sequence\\_A 0\\_S 0\\_U 0\\_V 0\\_X 4\\_Y18\\_Job(Seq.Scan) 1 01 01 02 01 04 01\\_010 & $\\dots$ \\\\\n",
       "\t10 & Cell\\_CP\\_1 & Egr2\\_Egr2Ehn\\_type1C3\\_type6C2\\_Exp31\\_Sequence\\_A 0\\_S 0\\_U 0\\_V 0\\_X 4\\_Y18\\_Job(Seq.Scan) 1 01 01 02 01 04 01\\_010 & $\\dots$ \\\\\n",
       "\t11 & Cell\\_CP\\_5 & Egr2\\_Egr2Ehn\\_type1C3\\_type6C2\\_Exp31\\_Sequence\\_A 0\\_S 0\\_U 0\\_V 0\\_X 4\\_Y18\\_Job(Seq.Scan) 1 01 01 02 01 04 01\\_010 & $\\dots$ \\\\\n",
       "\t12 & Cell\\_CP\\_12 & Egr2\\_Egr2Ehn\\_type1C3\\_type6C2\\_Exp31\\_Sequence\\_A 0\\_S 0\\_U 0\\_V 0\\_X 4\\_Y18\\_Job(Seq.Scan) 1 01 01 02 01 04 01\\_010 & $\\dots$ \\\\\n",
       "\t13 & Cell\\_CP\\_3 & Egr2\\_Egr2Ehn\\_type1C3\\_type6C2\\_Exp31\\_Sequence\\_A 0\\_S 0\\_U 0\\_V 0\\_X 4\\_Y18\\_Job(Seq.Scan) 1 01 01 02 01 04 01\\_010 & $\\dots$ \\\\\n",
       "\t14 & Cell\\_CP\\_14 & Egr2\\_Egr2Ehn\\_type1C3\\_type6C2\\_Exp31\\_Sequence\\_A 0\\_S 0\\_U 0\\_V 0\\_X 4\\_Y18\\_Job(Seq.Scan) 1 01 01 02 01 04 01\\_010 & $\\dots$ \\\\\n",
       "\t15 & Cell\\_CP\\_5 & Egr2\\_Egr2Ehn\\_type1C3\\_type6C2\\_Exp31\\_Sequence\\_A 0\\_S 0\\_U 0\\_V 0\\_X 4\\_Y19\\_Job(Seq.Scan) 1 01 01 02 01 04 01\\_028 & $\\dots$ \\\\\n",
       "\t16 & Cell\\_CP\\_8 & Egr2\\_Egr2Ehn\\_type1C3\\_type6C2\\_Exp31\\_Sequence\\_A 0\\_S 0\\_U 0\\_V 0\\_X 4\\_Y19\\_Job(Seq.Scan) 1 01 01 02 01 04 01\\_028 & $\\dots$ \\\\\n",
       "\t17 & Cell\\_CP\\_9 & Egr2\\_Egr2Ehn\\_type1C3\\_type6C2\\_Exp31\\_Sequence\\_A 0\\_S 0\\_U 0\\_V 0\\_X 4\\_Y19\\_Job(Seq.Scan) 1 01 01 02 01 04 01\\_028 & $\\dots$ \\\\\n",
       "\t18 & Cell\\_CP\\_7 & Egr2\\_Egr2Ehn\\_type1C3\\_type6C2\\_Exp31\\_Sequence\\_A 0\\_S 0\\_U 0\\_V 0\\_X 4\\_Y19\\_Job(Seq.Scan) 1 01 01 02 01 04 01\\_028 & $\\dots$ \\\\\n",
       "\t19 & Cell\\_CP\\_4 & Egr2\\_Egr2Ehn\\_type1C3\\_type6C2\\_Exp31\\_Sequence\\_A 0\\_S 0\\_U 0\\_V 0\\_X 4\\_Y19\\_Job(Seq.Scan) 1 01 01 02 01 04 01\\_028 & $\\dots$ \\\\\n",
       "\t20 & Cell\\_CP\\_1 & Egr2\\_Egr2Ehn\\_type1C3\\_type6C2\\_Exp31\\_Sequence\\_A 0\\_S 0\\_U 0\\_V 0\\_X 4\\_Y19\\_Job(Seq.Scan) 1 01 01 02 01 04 01\\_028 & $\\dots$ \\\\\n",
       "\t21 & Cell\\_CP\\_6 & Egr2\\_Egr2Ehn\\_type1C3\\_type6C2\\_Exp31\\_Sequence\\_A 0\\_S 0\\_U 0\\_V 0\\_X 4\\_Y19\\_Job(Seq.Scan) 1 01 01 02 01 04 01\\_028 & $\\dots$ \\\\\n",
       "\t22 & Cell\\_CP\\_3 & Egr2\\_Egr2Ehn\\_type1C3\\_type6C2\\_Exp31\\_Sequence\\_A 0\\_S 0\\_U 0\\_V 0\\_X 4\\_Y19\\_Job(Seq.Scan) 1 01 01 02 01 04 01\\_028 & $\\dots$ \\\\\n",
       "\t23 & Cell\\_CP\\_2 & Egr2\\_Egr2Ehn\\_type1C3\\_type6C2\\_Exp31\\_Sequence\\_A 0\\_S 0\\_U 0\\_V 0\\_X 4\\_Y19\\_Job(Seq.Scan) 1 01 01 02 01 04 01\\_028 & $\\dots$ \\\\\n",
       "\t24 & Cell\\_CP\\_16 & Egr2\\_Egr2Ehn\\_type1C3\\_type6C2\\_Exp31\\_Sequence\\_A 0\\_S 0\\_U 0\\_V 0\\_X 4\\_Y20\\_Job(Seq.Scan) 1 01 01 02 01 04 01\\_030 & $\\dots$ \\\\\n",
       "\t25 & Cell\\_CP\\_9 & Egr2\\_Egr2Ehn\\_type1C3\\_type6C2\\_Exp31\\_Sequence\\_A 0\\_S 0\\_U 0\\_V 0\\_X 4\\_Y20\\_Job(Seq.Scan) 1 01 01 02 01 04 01\\_030 & $\\dots$ \\\\\n",
       "\t26 & Cell\\_CP\\_7 & Egr2\\_Egr2Ehn\\_type1C3\\_type6C2\\_Exp31\\_Sequence\\_A 0\\_S 0\\_U 0\\_V 0\\_X 4\\_Y20\\_Job(Seq.Scan) 1 01 01 02 01 04 01\\_030 & $\\dots$ \\\\\n",
       "\t27 & Cell\\_CP\\_13 & Egr2\\_Egr2Ehn\\_type1C3\\_type6C2\\_Exp31\\_Sequence\\_A 0\\_S 0\\_U 0\\_V 0\\_X 4\\_Y20\\_Job(Seq.Scan) 1 01 01 02 01 04 01\\_030 & $\\dots$ \\\\\n",
       "\t28 & Cell\\_CP\\_6 & Egr2\\_Egr2Ehn\\_type1C3\\_type6C2\\_Exp31\\_Sequence\\_A 0\\_S 0\\_U 0\\_V 0\\_X 4\\_Y20\\_Job(Seq.Scan) 1 01 01 02 01 04 01\\_030 & $\\dots$ \\\\\n",
       "\t29 & Cell\\_CP\\_2 & Egr2\\_Egr2Ehn\\_type1C3\\_type6C2\\_Exp31\\_Sequence\\_A 0\\_S 0\\_U 0\\_V 0\\_X 4\\_Y20\\_Job(Seq.Scan) 1 01 01 02 01 04 01\\_030 & $\\dots$ \\\\\n",
       "\t30 & Cell\\_CP\\_8 & Egr2\\_Egr2Ehn\\_type1C3\\_type6C2\\_Exp31\\_Sequence\\_A 0\\_S 0\\_U 0\\_V 0\\_X 4\\_Y20\\_Job(Seq.Scan) 1 01 01 02 01 04 01\\_030 & $\\dots$ \\\\\n",
       "\t$\\dots$ & $\\dots$ & $\\dots$ &  \\\\\n",
       "\\end{tabular}\n"
      ],
      "text/plain": [
       "\u001b[1m5191×19 DataFrame\u001b[0m\n",
       "\u001b[1m  Row \u001b[0m│\u001b[1m Cell       \u001b[0m\u001b[1m Image                             \u001b[0m\u001b[1m Image_BF \u001b[0m\u001b[1m N_TSS2 \u001b[0m\u001b[1m locus\u001b[0m ⋯\n",
       "\u001b[1m      \u001b[0m│\u001b[90m String     \u001b[0m\u001b[90m String                            \u001b[0m\u001b[90m Float64  \u001b[0m\u001b[90m Int64  \u001b[0m\u001b[90m Strin\u001b[0m ⋯\n",
       "──────┼─────────────────────────────────────────────────────────────────────────\n",
       "    1 │ Cell_CP_9   Egr2_Egr2Ehn_type1C3_type6C2_Exp…  0.25           1  TxS_a ⋯\n",
       "    2 │ Cell_CP_7   Egr2_Egr2Ehn_type1C3_type6C2_Exp…  0.25           0  0\n",
       "    3 │ Cell_CP_13  Egr2_Egr2Ehn_type1C3_type6C2_Exp…  0.25           0  0\n",
       "    4 │ Cell_CP_6   Egr2_Egr2Ehn_type1C3_type6C2_Exp…  0.25           0  0\n",
       "    5 │ Cell_CP_2   Egr2_Egr2Ehn_type1C3_type6C2_Exp…  0.25           0  0     ⋯\n",
       "    6 │ Cell_CP_8   Egr2_Egr2Ehn_type1C3_type6C2_Exp…  0.25           1  TxS_a\n",
       "    7 │ Cell_CP_10  Egr2_Egr2Ehn_type1C3_type6C2_Exp…  0.25           0  0\n",
       "    8 │ Cell_CP_4   Egr2_Egr2Ehn_type1C3_type6C2_Exp…  0.25           2  TxS_a\n",
       "    9 │ Cell_CP_11  Egr2_Egr2Ehn_type1C3_type6C2_Exp…  0.25           2  TxS_a ⋯\n",
       "   10 │ Cell_CP_1   Egr2_Egr2Ehn_type1C3_type6C2_Exp…  0.25           0  0\n",
       "   11 │ Cell_CP_5   Egr2_Egr2Ehn_type1C3_type6C2_Exp…  0.25           0  0\n",
       "  ⋮   │     ⋮                       ⋮                     ⋮        ⋮           ⋱\n",
       " 5182 │ Cell_CP_4   Egr2_Egr2Ehn_type1C3_type6C2_Exp…  0.236842       0  0\n",
       " 5183 │ Cell_CP_11  Egr2_Egr2Ehn_type1C3_type6C2_Exp…  0.236842       1  TxS_a ⋯\n",
       " 5184 │ Cell_CP_1   Egr2_Egr2Ehn_type1C3_type6C2_Exp…  0.236842       1  TxS_a\n",
       " 5185 │ Cell_CP_15  Egr2_Egr2Ehn_type1C3_type6C2_Exp…  0.236842       1  TxS_a\n",
       " 5186 │ Cell_CP_19  Egr2_Egr2Ehn_type1C3_type6C2_Exp…  0.236842       0  0\n",
       " 5187 │ Cell_CP_5   Egr2_Egr2Ehn_type1C3_type6C2_Exp…  0.236842       0  0     ⋯\n",
       " 5188 │ Cell_CP_12  Egr2_Egr2Ehn_type1C3_type6C2_Exp…  0.236842       0  0\n",
       " 5189 │ Cell_CP_17  Egr2_Egr2Ehn_type1C3_type6C2_Exp…  0.236842       0  0\n",
       " 5190 │ Cell_CP_3   Egr2_Egr2Ehn_type1C3_type6C2_Exp…  0.236842       0  0\n",
       " 5191 │ Cell_CP_14  Egr2_Egr2Ehn_type1C3_type6C2_Exp…  0.236842       0  0     ⋯\n",
       "\u001b[36m                                                15 columns and 5170 rows omitted\u001b[0m"
      ]
     },
     "execution_count": 4,
     "metadata": {},
     "output_type": "execute_result"
    }
   ],
   "source": [
    "root1 = ROOT4\n",
    "expn = \"4\"\n",
    "\n",
    "gene = \"Egr2_intron_BD\"\n",
    "typeprobe = \"type1\"\n",
    "tss_c4 = root1 * \"Segmentation_type1/_FQ_outline/_TS_detect\"\n",
    "imagesfolder = root1 * \"/tiff3D\"\n",
    "images_pat = TSSs.get_image_patterns(tss_c4)\n",
    "d = TSSs.TSS_raw_quant(tss_c4, tss_c4, imagesfolder, 3; xy = 0.189, zx = 0.5)\n",
    "CSV.write(\"TSS_raw/\"*gene*\"_exp\"*\"$expn\"*\".csv\", d)\n",
    "\n",
    "gene = \"Egr2_enh_BD\"\n",
    "typeprobe = \"type6\"\n",
    "tss_c4 = root1 * \"Segmentation_type6/_FQ_outline/_TS_detect\"\n",
    "imagesfolder = root1 * \"/tiff3D\"\n",
    "images_pat = TSSs.get_image_patterns(tss_c4)\n",
    "d = TSSs.TSS_raw_quant(tss_c4, tss_c4, imagesfolder, 2; xy = 0.189, zx = 0.5)\n",
    "CSV.write(\"TSS_raw/\"*gene*\"_exp\"*\"$expn\"*\".csv\", d)\n",
    "tss1 = CSV.read(\"TSS_raw/\"*gene*\"_exp\"*\"$expn\"*\".csv\", DataFrame)"
   ]
  },
  {
   "cell_type": "code",
   "execution_count": 7,
   "metadata": {},
   "outputs": [
    {
     "data": {
      "text/plain": [
       "\"Egr2/Egr2_enh_BD_exp4_FQ.csv\""
      ]
     },
     "execution_count": 7,
     "metadata": {},
     "output_type": "execute_result"
    }
   ],
   "source": [
    "folder = \"Egr2\"\n",
    "root1 = ROOT1\n",
    "exp = CSV.read(\"IbidiChambers/IbidiChamber_Egr2_BD_exp1.csv\", DataFrame)\n",
    "expn = 1\n",
    "gene = \"Egr2_intron_BD\"\n",
    "typeprobe = \"type1\"\n",
    "tss1 = CSV.read(\"TSS_raw/\"*gene*\"_exp\"*\"$expn\"*\".csv\", DataFrame)\n",
    "normalise_avgdot(tss1, gene, expn, typeprobe, exp; root = root1, genefolder = \"Egr2\",)\n",
    "\n",
    "gene = \"Egr2_enh_BD\"\n",
    "typeprobe = \"type6\"\n",
    "tss1 = CSV.read(\"TSS_raw/\"*gene*\"_exp\"*\"$expn\"*\".csv\", DataFrame)\n",
    "normalise_avgdot(tss1, gene, expn, typeprobe, exp; root = root1, genefolder = \"Egr2\",)\n",
    "\n",
    "folder = \"Il12bHSS1BD\"\n",
    "root1 = ROOT2\n",
    "exp = CSV.read(\"IbidiChambers/IbidiChamber_Egr2_BD_exp2.csv\", DataFrame)\n",
    "expn = 2\n",
    "gene = \"Egr2_intron_BD\"\n",
    "typeprobe = \"type1\"\n",
    "tss1 = CSV.read(\"TSS_raw/\"*gene*\"_exp\"*\"$expn\"*\".csv\", DataFrame)\n",
    "normalise_avgdot(tss1, gene, expn, typeprobe, exp; root = root1, genefolder = \"Egr2\")\n",
    "gene = \"Egr2_enh_BD\"\n",
    "typeprobe = \"type6\"\n",
    "tss1 = CSV.read(\"TSS_raw/\"*gene*\"_exp\"*\"$expn\"*\".csv\", DataFrame)\n",
    "normalise_avgdot(tss1, gene, expn, typeprobe, exp; root = root1, genefolder = \"Egr2\")\n",
    "\n",
    "root1 = ROOT3\n",
    "exp = CSV.read(\"IbidiChambers/IbidiChamber_Egr2_BD_exp3.csv\", DataFrame)\n",
    "expn = 3\n",
    "gene = \"Egr2_intron_BD\"\n",
    "typeprobe = \"type1\"\n",
    "tss1 = CSV.read(\"TSS_raw/\"*gene*\"_exp\"*\"$expn\"*\".csv\", DataFrame)\n",
    "normalise_avgdot(tss1, gene, expn, typeprobe, exp; root = root1, genefolder = \"Egr2\")\n",
    "gene = \"Egr2_enh_BD\"\n",
    "typeprobe = \"type6\"\n",
    "tss1 = CSV.read(\"TSS_raw/\"*gene*\"_exp\"*\"$expn\"*\".csv\", DataFrame)\n",
    "normalise_avgdot(tss1, gene, expn, typeprobe, exp; root = root1, genefolder = \"Egr2\")\n",
    "\n",
    "root1 = ROOT4\n",
    "exp = CSV.read(\"IbidiChambers/IbidiChamber_Egr2_BD_exp4.csv\", DataFrame)\n",
    "expn = 4\n",
    "gene = \"Egr2_intron_BD\"\n",
    "typeprobe = \"type1\"\n",
    "tss1 = CSV.read(\"TSS_raw/\"*gene*\"_exp\"*\"$expn\"*\".csv\", DataFrame)\n",
    "normalise_avgdot(tss1, gene, expn, typeprobe, exp; root = root1, genefolder = \"Egr2\")\n",
    "gene = \"Egr2_enh_BD\"\n",
    "typeprobe = \"type6\"\n",
    "tss1 = CSV.read(\"TSS_raw/\"*gene*\"_exp\"*\"$expn\"*\".csv\", DataFrame)\n",
    "normalise_avgdot(tss1, gene, expn, typeprobe, exp; root = root1, genefolder = \"Egr2\")"
   ]
  },
  {
   "cell_type": "code",
   "execution_count": null,
   "metadata": {},
   "outputs": [],
   "source": []
  }
 ],
 "metadata": {
  "kernelspec": {
   "display_name": "Julia 1.6.0",
   "language": "julia",
   "name": "julia-1.6"
  },
  "language_info": {
   "file_extension": ".jl",
   "mimetype": "application/julia",
   "name": "julia",
   "version": "1.6.0"
  }
 },
 "nbformat": 4,
 "nbformat_minor": 2
}
