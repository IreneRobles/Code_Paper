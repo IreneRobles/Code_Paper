{
 "cells": [
  {
   "cell_type": "code",
   "execution_count": 44,
   "metadata": {},
   "outputs": [
    {
     "name": "stderr",
     "output_type": "stream",
     "text": [
      "WARNING: replacing module TSSs.\n",
      "\u001b[32m\u001b[1m   Resolving\u001b[22m\u001b[39m package versions...\n",
      "\u001b[32m\u001b[1m  No Changes\u001b[22m\u001b[39m to `~/.julia/environments/v1.6/Project.toml`\n",
      "\u001b[32m\u001b[1m  No Changes\u001b[22m\u001b[39m to `~/.julia/environments/v1.6/Manifest.toml`\n"
     ]
    }
   ],
   "source": [
    "include(\"StandardCode.jl\")\n",
    "\n",
    "function normalise_avgdot(df, genename, expn, typeprobe, ibidislide; root = pwd(), genefolder = \"Gene\")\n",
    "    dot1_r1 = TSSs.int_brightest_pixel(TSSs.read_tiff_as_gray(root * typeprobe *\"/_mRNA_AVG_ns.tif\").*25.5; radious = 1)\n",
    "    dot1_r2 = TSSs.int_brightest_pixel(TSSs.read_tiff_as_gray(root * typeprobe * \"/_mRNA_AVG_ns.tif\").*25.5; radious = 2)\n",
    "    dot1_r3 = TSSs.int_brightest_pixel(TSSs.read_tiff_as_gray(root * typeprobe * \"/_mRNA_AVG_ns.tif\").*25.5; radious = 3)\n",
    "\n",
    "    df[!,:TSS1_r1] = df[!,:locus1_int1_TSS2] ./ dot1_r1\n",
    "    df[!,:TSS1_r2] = df[!,:locus1_int2_TSS2] ./ dot1_r2\n",
    "    df[!,:TSS1_r3] = df[!,:locus1_int3_TSS2] ./ dot1_r3\n",
    "    df[!,:TSS2_r1] = df[!,:locus2_int1_TSS2] ./ dot1_r1\n",
    "    df[!,:TSS2_r2] = df[!,:locus2_int2_TSS2] ./ dot1_r2\n",
    "    df[!,:TSS2_r3] = df[!,:locus2_int3_TSS2] ./ dot1_r3\n",
    "    \n",
    "    \n",
    "    CSV.write(\"TSS_avgdot/\"*genename*\"_exp\"*\"$expn\"*\".csv\", df)\n",
    "    ibidislide[!,:Well] = [split(ii, \" (\")[1] for ii in ibidislide[!,:Well]]\n",
    "    cp_dir = root1*\"CP_results\"\n",
    "    cells1 = CellInfo(cp_dir, add_probetypes(ibidislide));\n",
    "    exp1 = CSV.read(\"TSS_avgdot/\"*gene*\"_exp\"*\"$expn\"*\".csv\", DataFrame)\n",
    "    exp1[!,:Well] = [split(split(ii, \"S 0_\")[2], \"_X\")[1] for ii in exp1[!,:Image]]\n",
    "    exp1 = innerjoin(exp1, ibidislide, on= \"Well\")\n",
    "    CSV.write(genefolder*\"/\"*gene*\"_exp\"*\"$expn\"*\"_TSS.csv\", exp1)\n",
    "    CSV.write(genefolder*\"/\"*gene*\"_exp\"*\"$expn\"*\"_CP.csv\", cells1)\n",
    "    fq_dir1 = root1*typeprobe*\"/\"\n",
    "    fq1 = FQ_summary_MATURE(fq_dir1)\n",
    "    CSV.write(genefolder*\"/\"*gene*\"_exp\"*\"$expn\"*\"_FQ.csv\", fq1)\n",
    "end\n",
    "\n",
    "using ImageMagick\n",
    "using ColorTypes\n",
    "using FixedPointNumbers"
   ]
  },
  {
   "cell_type": "code",
   "execution_count": 70,
   "metadata": {},
   "outputs": [],
   "source": [
    "\n",
    "\n",
    "\n",
    "function TSSs.TSS_raw_quant(t2, tss_folder, image_folder, n; xy = 0.189, zx = 0.5)\n",
    "    \n",
    "      images_pat = intersect(TSSs.get_image_patterns(t2), TSSs.get_image_patterns(tss_folder))\n",
    "    \n",
    "    p = Progress(length(images_pat), 1)\n",
    "\n",
    "    dfs = []\n",
    "\n",
    "    for a in 1:length(images_pat)\n",
    "        next!(p)\n",
    "        \n",
    "\n",
    "        pat = images_pat[a]\n",
    "\n",
    "        # Get all the TSS in the images\n",
    "        a = TSSs.find_outline(tss_folder, pat)\n",
    "          tss = TSSs.cell_tss_dict(a)\n",
    "        \n",
    "        tss = TSSs.meassure_tss(tss, imagesfolder, pat, n, xy = xy, zx = zx)\n",
    "    \n",
    "        df = TSSs.analysis_singlechannel(tss; image = pat,  tss_name = :TSS2)\n",
    "        push!(dfs, df)\n",
    "\n",
    "    end\n",
    "    \n",
    "    d = TSSs.join_in_all_common_columns(dfs...)\n",
    "    return d\n",
    "    \n",
    "end"
   ]
  },
  {
   "cell_type": "code",
   "execution_count": 71,
   "metadata": {},
   "outputs": [
    {
     "name": "stderr",
     "output_type": "stream",
     "text": [
      "\u001b[32mProgress: 100%|█████████████████████████████████████████| Time: 0:33:13\u001b[39m\n"
     ]
    },
    {
     "data": {
      "text/html": [
       "<table class=\"data-frame\"><thead><tr><th></th><th>Cell</th><th>Image</th></tr><tr><th></th><th>String</th><th>SubStri…</th></tr></thead><tbody><p>3,145 rows × 19 columns (omitted printing of 17 columns)</p><tr><th>1</th><td>Cell_CP_5</td><td>Exp3_CellMix_Ifit1_Mx1_15thNovember19_Sequence_A 0_S 0_U 1_V 0_X 6_Y14_Job(Seq.Scan) 1 01 01 02 01 04 02 01 01_074</td></tr><tr><th>2</th><td>Cell_CP_8</td><td>Exp3_CellMix_Ifit1_Mx1_15thNovember19_Sequence_A 0_S 0_U 1_V 0_X 6_Y14_Job(Seq.Scan) 1 01 01 02 01 04 02 01 01_074</td></tr><tr><th>3</th><td>Cell_CP_9</td><td>Exp3_CellMix_Ifit1_Mx1_15thNovember19_Sequence_A 0_S 0_U 1_V 0_X 6_Y14_Job(Seq.Scan) 1 01 01 02 01 04 02 01 01_074</td></tr><tr><th>4</th><td>Cell_CP_7</td><td>Exp3_CellMix_Ifit1_Mx1_15thNovember19_Sequence_A 0_S 0_U 1_V 0_X 6_Y14_Job(Seq.Scan) 1 01 01 02 01 04 02 01 01_074</td></tr><tr><th>5</th><td>Cell_CP_4</td><td>Exp3_CellMix_Ifit1_Mx1_15thNovember19_Sequence_A 0_S 0_U 1_V 0_X 6_Y14_Job(Seq.Scan) 1 01 01 02 01 04 02 01 01_074</td></tr><tr><th>6</th><td>Cell_CP_1</td><td>Exp3_CellMix_Ifit1_Mx1_15thNovember19_Sequence_A 0_S 0_U 1_V 0_X 6_Y14_Job(Seq.Scan) 1 01 01 02 01 04 02 01 01_074</td></tr><tr><th>7</th><td>Cell_CP_6</td><td>Exp3_CellMix_Ifit1_Mx1_15thNovember19_Sequence_A 0_S 0_U 1_V 0_X 6_Y14_Job(Seq.Scan) 1 01 01 02 01 04 02 01 01_074</td></tr><tr><th>8</th><td>Cell_CP_3</td><td>Exp3_CellMix_Ifit1_Mx1_15thNovember19_Sequence_A 0_S 0_U 1_V 0_X 6_Y14_Job(Seq.Scan) 1 01 01 02 01 04 02 01 01_074</td></tr><tr><th>9</th><td>Cell_CP_2</td><td>Exp3_CellMix_Ifit1_Mx1_15thNovember19_Sequence_A 0_S 0_U 1_V 0_X 6_Y14_Job(Seq.Scan) 1 01 01 02 01 04 02 01 01_074</td></tr><tr><th>10</th><td>Cell_CP_5</td><td>Exp3_CellMix_Ifit1_Mx1_15thNovember19_Sequence_A 0_S 0_U 1_V 0_X 6_Y15_Job(Seq.Scan) 1 01 01 02 01 04 02 01 01_100</td></tr><tr><th>11</th><td>Cell_CP_8</td><td>Exp3_CellMix_Ifit1_Mx1_15thNovember19_Sequence_A 0_S 0_U 1_V 0_X 6_Y15_Job(Seq.Scan) 1 01 01 02 01 04 02 01 01_100</td></tr><tr><th>12</th><td>Cell_CP_9</td><td>Exp3_CellMix_Ifit1_Mx1_15thNovember19_Sequence_A 0_S 0_U 1_V 0_X 6_Y15_Job(Seq.Scan) 1 01 01 02 01 04 02 01 01_100</td></tr><tr><th>13</th><td>Cell_CP_7</td><td>Exp3_CellMix_Ifit1_Mx1_15thNovember19_Sequence_A 0_S 0_U 1_V 0_X 6_Y15_Job(Seq.Scan) 1 01 01 02 01 04 02 01 01_100</td></tr><tr><th>14</th><td>Cell_CP_4</td><td>Exp3_CellMix_Ifit1_Mx1_15thNovember19_Sequence_A 0_S 0_U 1_V 0_X 6_Y15_Job(Seq.Scan) 1 01 01 02 01 04 02 01 01_100</td></tr><tr><th>15</th><td>Cell_CP_1</td><td>Exp3_CellMix_Ifit1_Mx1_15thNovember19_Sequence_A 0_S 0_U 1_V 0_X 6_Y15_Job(Seq.Scan) 1 01 01 02 01 04 02 01 01_100</td></tr><tr><th>16</th><td>Cell_CP_6</td><td>Exp3_CellMix_Ifit1_Mx1_15thNovember19_Sequence_A 0_S 0_U 1_V 0_X 6_Y15_Job(Seq.Scan) 1 01 01 02 01 04 02 01 01_100</td></tr><tr><th>17</th><td>Cell_CP_3</td><td>Exp3_CellMix_Ifit1_Mx1_15thNovember19_Sequence_A 0_S 0_U 1_V 0_X 6_Y15_Job(Seq.Scan) 1 01 01 02 01 04 02 01 01_100</td></tr><tr><th>18</th><td>Cell_CP_2</td><td>Exp3_CellMix_Ifit1_Mx1_15thNovember19_Sequence_A 0_S 0_U 1_V 0_X 6_Y15_Job(Seq.Scan) 1 01 01 02 01 04 02 01 01_100</td></tr><tr><th>19</th><td>Cell_CP_1</td><td>Exp3_CellMix_Ifit1_Mx1_15thNovember19_Sequence_A 0_S 0_U 1_V 0_X 6_Y16_Job(Seq.Scan) 1 01 01 02 01 04 02 01 01_102</td></tr><tr><th>20</th><td>Cell_CP_3</td><td>Exp3_CellMix_Ifit1_Mx1_15thNovember19_Sequence_A 0_S 0_U 1_V 0_X 6_Y16_Job(Seq.Scan) 1 01 01 02 01 04 02 01 01_102</td></tr><tr><th>21</th><td>Cell_CP_2</td><td>Exp3_CellMix_Ifit1_Mx1_15thNovember19_Sequence_A 0_S 0_U 1_V 0_X 6_Y16_Job(Seq.Scan) 1 01 01 02 01 04 02 01 01_102</td></tr><tr><th>22</th><td>Cell_CP_5</td><td>Exp3_CellMix_Ifit1_Mx1_15thNovember19_Sequence_A 0_S 0_U 1_V 0_X 6_Y17_Job(Seq.Scan) 1 01 01 02 01 04 02 01 01_128</td></tr><tr><th>23</th><td>Cell_CP_8</td><td>Exp3_CellMix_Ifit1_Mx1_15thNovember19_Sequence_A 0_S 0_U 1_V 0_X 6_Y17_Job(Seq.Scan) 1 01 01 02 01 04 02 01 01_128</td></tr><tr><th>24</th><td>Cell_CP_9</td><td>Exp3_CellMix_Ifit1_Mx1_15thNovember19_Sequence_A 0_S 0_U 1_V 0_X 6_Y17_Job(Seq.Scan) 1 01 01 02 01 04 02 01 01_128</td></tr><tr><th>25</th><td>Cell_CP_10</td><td>Exp3_CellMix_Ifit1_Mx1_15thNovember19_Sequence_A 0_S 0_U 1_V 0_X 6_Y17_Job(Seq.Scan) 1 01 01 02 01 04 02 01 01_128</td></tr><tr><th>26</th><td>Cell_CP_7</td><td>Exp3_CellMix_Ifit1_Mx1_15thNovember19_Sequence_A 0_S 0_U 1_V 0_X 6_Y17_Job(Seq.Scan) 1 01 01 02 01 04 02 01 01_128</td></tr><tr><th>27</th><td>Cell_CP_4</td><td>Exp3_CellMix_Ifit1_Mx1_15thNovember19_Sequence_A 0_S 0_U 1_V 0_X 6_Y17_Job(Seq.Scan) 1 01 01 02 01 04 02 01 01_128</td></tr><tr><th>28</th><td>Cell_CP_1</td><td>Exp3_CellMix_Ifit1_Mx1_15thNovember19_Sequence_A 0_S 0_U 1_V 0_X 6_Y17_Job(Seq.Scan) 1 01 01 02 01 04 02 01 01_128</td></tr><tr><th>29</th><td>Cell_CP_6</td><td>Exp3_CellMix_Ifit1_Mx1_15thNovember19_Sequence_A 0_S 0_U 1_V 0_X 6_Y17_Job(Seq.Scan) 1 01 01 02 01 04 02 01 01_128</td></tr><tr><th>30</th><td>Cell_CP_3</td><td>Exp3_CellMix_Ifit1_Mx1_15thNovember19_Sequence_A 0_S 0_U 1_V 0_X 6_Y17_Job(Seq.Scan) 1 01 01 02 01 04 02 01 01_128</td></tr><tr><th>&vellip;</th><td>&vellip;</td><td>&vellip;</td></tr></tbody></table>"
      ],
      "text/latex": [
       "\\begin{tabular}{r|ccc}\n",
       "\t& Cell & Image & \\\\\n",
       "\t\\hline\n",
       "\t& String & SubStri… & \\\\\n",
       "\t\\hline\n",
       "\t1 & Cell\\_CP\\_5 & Exp3\\_CellMix\\_Ifit1\\_Mx1\\_15thNovember19\\_Sequence\\_A 0\\_S 0\\_U 1\\_V 0\\_X 6\\_Y14\\_Job(Seq.Scan) 1 01 01 02 01 04 02 01 01\\_074 & $\\dots$ \\\\\n",
       "\t2 & Cell\\_CP\\_8 & Exp3\\_CellMix\\_Ifit1\\_Mx1\\_15thNovember19\\_Sequence\\_A 0\\_S 0\\_U 1\\_V 0\\_X 6\\_Y14\\_Job(Seq.Scan) 1 01 01 02 01 04 02 01 01\\_074 & $\\dots$ \\\\\n",
       "\t3 & Cell\\_CP\\_9 & Exp3\\_CellMix\\_Ifit1\\_Mx1\\_15thNovember19\\_Sequence\\_A 0\\_S 0\\_U 1\\_V 0\\_X 6\\_Y14\\_Job(Seq.Scan) 1 01 01 02 01 04 02 01 01\\_074 & $\\dots$ \\\\\n",
       "\t4 & Cell\\_CP\\_7 & Exp3\\_CellMix\\_Ifit1\\_Mx1\\_15thNovember19\\_Sequence\\_A 0\\_S 0\\_U 1\\_V 0\\_X 6\\_Y14\\_Job(Seq.Scan) 1 01 01 02 01 04 02 01 01\\_074 & $\\dots$ \\\\\n",
       "\t5 & Cell\\_CP\\_4 & Exp3\\_CellMix\\_Ifit1\\_Mx1\\_15thNovember19\\_Sequence\\_A 0\\_S 0\\_U 1\\_V 0\\_X 6\\_Y14\\_Job(Seq.Scan) 1 01 01 02 01 04 02 01 01\\_074 & $\\dots$ \\\\\n",
       "\t6 & Cell\\_CP\\_1 & Exp3\\_CellMix\\_Ifit1\\_Mx1\\_15thNovember19\\_Sequence\\_A 0\\_S 0\\_U 1\\_V 0\\_X 6\\_Y14\\_Job(Seq.Scan) 1 01 01 02 01 04 02 01 01\\_074 & $\\dots$ \\\\\n",
       "\t7 & Cell\\_CP\\_6 & Exp3\\_CellMix\\_Ifit1\\_Mx1\\_15thNovember19\\_Sequence\\_A 0\\_S 0\\_U 1\\_V 0\\_X 6\\_Y14\\_Job(Seq.Scan) 1 01 01 02 01 04 02 01 01\\_074 & $\\dots$ \\\\\n",
       "\t8 & Cell\\_CP\\_3 & Exp3\\_CellMix\\_Ifit1\\_Mx1\\_15thNovember19\\_Sequence\\_A 0\\_S 0\\_U 1\\_V 0\\_X 6\\_Y14\\_Job(Seq.Scan) 1 01 01 02 01 04 02 01 01\\_074 & $\\dots$ \\\\\n",
       "\t9 & Cell\\_CP\\_2 & Exp3\\_CellMix\\_Ifit1\\_Mx1\\_15thNovember19\\_Sequence\\_A 0\\_S 0\\_U 1\\_V 0\\_X 6\\_Y14\\_Job(Seq.Scan) 1 01 01 02 01 04 02 01 01\\_074 & $\\dots$ \\\\\n",
       "\t10 & Cell\\_CP\\_5 & Exp3\\_CellMix\\_Ifit1\\_Mx1\\_15thNovember19\\_Sequence\\_A 0\\_S 0\\_U 1\\_V 0\\_X 6\\_Y15\\_Job(Seq.Scan) 1 01 01 02 01 04 02 01 01\\_100 & $\\dots$ \\\\\n",
       "\t11 & Cell\\_CP\\_8 & Exp3\\_CellMix\\_Ifit1\\_Mx1\\_15thNovember19\\_Sequence\\_A 0\\_S 0\\_U 1\\_V 0\\_X 6\\_Y15\\_Job(Seq.Scan) 1 01 01 02 01 04 02 01 01\\_100 & $\\dots$ \\\\\n",
       "\t12 & Cell\\_CP\\_9 & Exp3\\_CellMix\\_Ifit1\\_Mx1\\_15thNovember19\\_Sequence\\_A 0\\_S 0\\_U 1\\_V 0\\_X 6\\_Y15\\_Job(Seq.Scan) 1 01 01 02 01 04 02 01 01\\_100 & $\\dots$ \\\\\n",
       "\t13 & Cell\\_CP\\_7 & Exp3\\_CellMix\\_Ifit1\\_Mx1\\_15thNovember19\\_Sequence\\_A 0\\_S 0\\_U 1\\_V 0\\_X 6\\_Y15\\_Job(Seq.Scan) 1 01 01 02 01 04 02 01 01\\_100 & $\\dots$ \\\\\n",
       "\t14 & Cell\\_CP\\_4 & Exp3\\_CellMix\\_Ifit1\\_Mx1\\_15thNovember19\\_Sequence\\_A 0\\_S 0\\_U 1\\_V 0\\_X 6\\_Y15\\_Job(Seq.Scan) 1 01 01 02 01 04 02 01 01\\_100 & $\\dots$ \\\\\n",
       "\t15 & Cell\\_CP\\_1 & Exp3\\_CellMix\\_Ifit1\\_Mx1\\_15thNovember19\\_Sequence\\_A 0\\_S 0\\_U 1\\_V 0\\_X 6\\_Y15\\_Job(Seq.Scan) 1 01 01 02 01 04 02 01 01\\_100 & $\\dots$ \\\\\n",
       "\t16 & Cell\\_CP\\_6 & Exp3\\_CellMix\\_Ifit1\\_Mx1\\_15thNovember19\\_Sequence\\_A 0\\_S 0\\_U 1\\_V 0\\_X 6\\_Y15\\_Job(Seq.Scan) 1 01 01 02 01 04 02 01 01\\_100 & $\\dots$ \\\\\n",
       "\t17 & Cell\\_CP\\_3 & Exp3\\_CellMix\\_Ifit1\\_Mx1\\_15thNovember19\\_Sequence\\_A 0\\_S 0\\_U 1\\_V 0\\_X 6\\_Y15\\_Job(Seq.Scan) 1 01 01 02 01 04 02 01 01\\_100 & $\\dots$ \\\\\n",
       "\t18 & Cell\\_CP\\_2 & Exp3\\_CellMix\\_Ifit1\\_Mx1\\_15thNovember19\\_Sequence\\_A 0\\_S 0\\_U 1\\_V 0\\_X 6\\_Y15\\_Job(Seq.Scan) 1 01 01 02 01 04 02 01 01\\_100 & $\\dots$ \\\\\n",
       "\t19 & Cell\\_CP\\_1 & Exp3\\_CellMix\\_Ifit1\\_Mx1\\_15thNovember19\\_Sequence\\_A 0\\_S 0\\_U 1\\_V 0\\_X 6\\_Y16\\_Job(Seq.Scan) 1 01 01 02 01 04 02 01 01\\_102 & $\\dots$ \\\\\n",
       "\t20 & Cell\\_CP\\_3 & Exp3\\_CellMix\\_Ifit1\\_Mx1\\_15thNovember19\\_Sequence\\_A 0\\_S 0\\_U 1\\_V 0\\_X 6\\_Y16\\_Job(Seq.Scan) 1 01 01 02 01 04 02 01 01\\_102 & $\\dots$ \\\\\n",
       "\t21 & Cell\\_CP\\_2 & Exp3\\_CellMix\\_Ifit1\\_Mx1\\_15thNovember19\\_Sequence\\_A 0\\_S 0\\_U 1\\_V 0\\_X 6\\_Y16\\_Job(Seq.Scan) 1 01 01 02 01 04 02 01 01\\_102 & $\\dots$ \\\\\n",
       "\t22 & Cell\\_CP\\_5 & Exp3\\_CellMix\\_Ifit1\\_Mx1\\_15thNovember19\\_Sequence\\_A 0\\_S 0\\_U 1\\_V 0\\_X 6\\_Y17\\_Job(Seq.Scan) 1 01 01 02 01 04 02 01 01\\_128 & $\\dots$ \\\\\n",
       "\t23 & Cell\\_CP\\_8 & Exp3\\_CellMix\\_Ifit1\\_Mx1\\_15thNovember19\\_Sequence\\_A 0\\_S 0\\_U 1\\_V 0\\_X 6\\_Y17\\_Job(Seq.Scan) 1 01 01 02 01 04 02 01 01\\_128 & $\\dots$ \\\\\n",
       "\t24 & Cell\\_CP\\_9 & Exp3\\_CellMix\\_Ifit1\\_Mx1\\_15thNovember19\\_Sequence\\_A 0\\_S 0\\_U 1\\_V 0\\_X 6\\_Y17\\_Job(Seq.Scan) 1 01 01 02 01 04 02 01 01\\_128 & $\\dots$ \\\\\n",
       "\t25 & Cell\\_CP\\_10 & Exp3\\_CellMix\\_Ifit1\\_Mx1\\_15thNovember19\\_Sequence\\_A 0\\_S 0\\_U 1\\_V 0\\_X 6\\_Y17\\_Job(Seq.Scan) 1 01 01 02 01 04 02 01 01\\_128 & $\\dots$ \\\\\n",
       "\t26 & Cell\\_CP\\_7 & Exp3\\_CellMix\\_Ifit1\\_Mx1\\_15thNovember19\\_Sequence\\_A 0\\_S 0\\_U 1\\_V 0\\_X 6\\_Y17\\_Job(Seq.Scan) 1 01 01 02 01 04 02 01 01\\_128 & $\\dots$ \\\\\n",
       "\t27 & Cell\\_CP\\_4 & Exp3\\_CellMix\\_Ifit1\\_Mx1\\_15thNovember19\\_Sequence\\_A 0\\_S 0\\_U 1\\_V 0\\_X 6\\_Y17\\_Job(Seq.Scan) 1 01 01 02 01 04 02 01 01\\_128 & $\\dots$ \\\\\n",
       "\t28 & Cell\\_CP\\_1 & Exp3\\_CellMix\\_Ifit1\\_Mx1\\_15thNovember19\\_Sequence\\_A 0\\_S 0\\_U 1\\_V 0\\_X 6\\_Y17\\_Job(Seq.Scan) 1 01 01 02 01 04 02 01 01\\_128 & $\\dots$ \\\\\n",
       "\t29 & Cell\\_CP\\_6 & Exp3\\_CellMix\\_Ifit1\\_Mx1\\_15thNovember19\\_Sequence\\_A 0\\_S 0\\_U 1\\_V 0\\_X 6\\_Y17\\_Job(Seq.Scan) 1 01 01 02 01 04 02 01 01\\_128 & $\\dots$ \\\\\n",
       "\t30 & Cell\\_CP\\_3 & Exp3\\_CellMix\\_Ifit1\\_Mx1\\_15thNovember19\\_Sequence\\_A 0\\_S 0\\_U 1\\_V 0\\_X 6\\_Y17\\_Job(Seq.Scan) 1 01 01 02 01 04 02 01 01\\_128 & $\\dots$ \\\\\n",
       "\t$\\dots$ & $\\dots$ & $\\dots$ &  \\\\\n",
       "\\end{tabular}\n"
      ],
      "text/plain": [
       "\u001b[1m3145×19 DataFrame\u001b[0m\n",
       "\u001b[1m  Row \u001b[0m│\u001b[1m Cell      \u001b[0m\u001b[1m Image                             \u001b[0m\u001b[1m Image_BF \u001b[0m\u001b[1m N_TSS2 \u001b[0m\u001b[1m locus1\u001b[0m ⋯\n",
       "\u001b[1m      \u001b[0m│\u001b[90m String    \u001b[0m\u001b[90m SubStrin…                         \u001b[0m\u001b[90m Float64  \u001b[0m\u001b[90m Int64  \u001b[0m\u001b[90m Any   \u001b[0m ⋯\n",
       "──────┼─────────────────────────────────────────────────────────────────────────\n",
       "    1 │ Cell_CP_5  Exp3_CellMix_Ifit1_Mx1_15thNovem…  0.0            0  0      ⋯\n",
       "    2 │ Cell_CP_8  Exp3_CellMix_Ifit1_Mx1_15thNovem…  0.0            0  0\n",
       "    3 │ Cell_CP_9  Exp3_CellMix_Ifit1_Mx1_15thNovem…  0.0            0  0\n",
       "    4 │ Cell_CP_7  Exp3_CellMix_Ifit1_Mx1_15thNovem…  0.0            0  0\n",
       "    5 │ Cell_CP_4  Exp3_CellMix_Ifit1_Mx1_15thNovem…  0.0            0  0      ⋯\n",
       "    6 │ Cell_CP_1  Exp3_CellMix_Ifit1_Mx1_15thNovem…  0.0            0  0\n",
       "    7 │ Cell_CP_6  Exp3_CellMix_Ifit1_Mx1_15thNovem…  0.0            0  0\n",
       "    8 │ Cell_CP_3  Exp3_CellMix_Ifit1_Mx1_15thNovem…  0.0            0  0\n",
       "    9 │ Cell_CP_2  Exp3_CellMix_Ifit1_Mx1_15thNovem…  0.0            0  0      ⋯\n",
       "   10 │ Cell_CP_5  Exp3_CellMix_Ifit1_Mx1_15thNovem…  0.0            0  0\n",
       "   11 │ Cell_CP_8  Exp3_CellMix_Ifit1_Mx1_15thNovem…  0.0            0  0\n",
       "  ⋮   │     ⋮                      ⋮                     ⋮        ⋮          ⋮ ⋱\n",
       " 3136 │ Cell_CP_1  Exp3_CellMix_Ifit1_Mx1_15thNovem…  0.0            0  0\n",
       " 3137 │ Cell_CP_6  Exp3_CellMix_Ifit1_Mx1_15thNovem…  0.0            0  0      ⋯\n",
       " 3138 │ Cell_CP_3  Exp3_CellMix_Ifit1_Mx1_15thNovem…  0.0            0  0\n",
       " 3139 │ Cell_CP_2  Exp3_CellMix_Ifit1_Mx1_15thNovem…  0.0            0  0\n",
       " 3140 │ Cell_CP_5  Exp3_CellMix_Ifit1_Mx1_15thNovem…  0.583333       2  TxS_au\n",
       " 3141 │ Cell_CP_4  Exp3_CellMix_Ifit1_Mx1_15thNovem…  0.583333       2  TxS_au ⋯\n",
       " 3142 │ Cell_CP_1  Exp3_CellMix_Ifit1_Mx1_15thNovem…  0.583333       1  TxS_au\n",
       " 3143 │ Cell_CP_6  Exp3_CellMix_Ifit1_Mx1_15thNovem…  0.583333       2  TxS_au\n",
       " 3144 │ Cell_CP_3  Exp3_CellMix_Ifit1_Mx1_15thNovem…  0.583333       0  0\n",
       " 3145 │ Cell_CP_2  Exp3_CellMix_Ifit1_Mx1_15thNovem…  0.583333       0  0      ⋯\n",
       "\u001b[36m                                                15 columns and 3124 rows omitted\u001b[0m"
      ]
     },
     "execution_count": 71,
     "metadata": {},
     "output_type": "execute_result"
    }
   ],
   "source": [
    "# Define where are the outlines\n",
    "\n",
    "root3 = \"/Volumes/lymphdev\\$/SarahWells/Confocal/CellMix_Rad21KO_WT_Ifit1_Mx1/Exp3/\"\n",
    "\n",
    "tss_c4 = root3 * \"Segmentation_type1/_FQ_outline/_TS_detect\"\n",
    "imagesfolder = root3 * \"/tiff3D\"\n",
    "images_pat = TSSs.get_image_patterns(tss_c4)\n",
    "d= TSSs.TSS_raw_quant(tss_c4, tss_c4, imagesfolder, 4; xy = 0.189, zx = 0.5)"
   ]
  },
  {
   "cell_type": "code",
   "execution_count": 7,
   "metadata": {},
   "outputs": [
    {
     "data": {
      "text/plain": [
       "26"
      ]
     },
     "execution_count": 7,
     "metadata": {},
     "output_type": "execute_result"
    }
   ],
   "source": [
    "\n",
    "\n",
    "count_tss_in_image(d)"
   ]
  },
  {
   "cell_type": "code",
   "execution_count": null,
   "metadata": {},
   "outputs": [],
   "source": [
    "\n",
    "CSV.write(\"TSS_raw/Ifit1_exp3.csv\", d)"
   ]
  },
  {
   "cell_type": "code",
   "execution_count": null,
   "metadata": {},
   "outputs": [],
   "source": [
    "# Define where are the outlines\n",
    "\n",
    "root2 = \"/Volumes/lymphdev\\$/SarahWells/Confocal/CellMix_Rad21KO_WT_Ifit1_Mx1/Exp2/\"\n",
    "\n",
    "tss_c4 = root2 * \"quick_analysis_qq/Segmentation_C4/_FQ_outline/_TS_detect\"\n",
    "imagesfolder = \"/Volumes/lymphdev\\$/SarahWells/Confocal/CellMix_Rad21KO_WT_Ifit1_Mx1/Exp2/tiff3D\"\n",
    "images_pat = TSSs.get_image_patterns(tss_c4)\n",
    "\n",
    "\n",
    "d= TSSs.TSS_raw_quant(tss_c4, tss_c4, imagesfolder, 4; xy = 0.189, zx = 0.5)\n",
    "\n",
    "if !in(\"TSS_raw\", readdir())\n",
    "    mkdir(\"TSS_raw\")\n",
    "end\n",
    "\n",
    "CSV.write(\"TSS_raw/Ifit1_exp2.csv\", d)"
   ]
  },
  {
   "cell_type": "code",
   "execution_count": null,
   "metadata": {},
   "outputs": [],
   "source": [
    "# Define where are the outlines\n",
    "\n",
    "root1 = \"/Volumes/lymphdev\\$/SarahWells/Confocal/CellMix_Rad21KO_WT_Ifit1_Mx1/Exp1\"\n",
    "\n",
    "tss_c4 = root1 * \"/Segmentation_type1/_FQ_outline/_TS_detect\"\n",
    "imagesfolder = root1 * \"/tiff3D\"\n",
    "images_pat = TSSs.get_image_patterns(tss_c4)\n",
    "\n",
    "\n",
    "d = TSSs.TSS_raw_quant(tss_c4, tss_c4, imagesfolder, 4; xy = 0.189, zx = 0.5)\n",
    "\n",
    "if !in(\"TSS_raw\", readdir())\n",
    "    mkdir(\"TSS_raw\")\n",
    "end\n",
    "\n",
    "CSV.write(\"TSS_raw/Ifit1_exp1.csv\", d)"
   ]
  }
 ],
 "metadata": {
  "kernelspec": {
   "display_name": "Julia 1.6.0",
   "language": "julia",
   "name": "julia-1.6"
  },
  "language_info": {
   "file_extension": ".jl",
   "mimetype": "application/julia",
   "name": "julia",
   "version": "1.6.0"
  }
 },
 "nbformat": 4,
 "nbformat_minor": 2
}
