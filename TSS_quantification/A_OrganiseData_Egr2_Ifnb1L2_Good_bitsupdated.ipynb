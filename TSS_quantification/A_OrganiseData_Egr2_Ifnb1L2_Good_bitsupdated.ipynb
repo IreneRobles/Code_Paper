{
 "cells": [
  {
   "cell_type": "code",
   "execution_count": 9,
   "metadata": {},
   "outputs": [
    {
     "name": "stderr",
     "output_type": "stream",
     "text": [
      "WARNING: replacing module TSSs.\n"
     ]
    },
    {
     "data": {
      "text/plain": [
       "normalise_avgdot (generic function with 1 method)"
      ]
     },
     "execution_count": 9,
     "metadata": {},
     "output_type": "execute_result"
    }
   ],
   "source": [
    "include(\"StandardCode.jl\")\n",
    "\n",
    "function normalise_avgdot(df, genename, expn, typeprobe, ibidislide; root = pwd(), genefolder = \"Gene\")\n",
    "    dot1_r1 = TSSs.int_brightest_pixel(TSSs.read_tiff_as_gray(root * typeprobe *\"/_mRNA_AVG_ns.tif\").*255; radious = 1)\n",
    "    dot1_r2 = TSSs.int_brightest_pixel(TSSs.read_tiff_as_gray(root * typeprobe * \"/_mRNA_AVG_ns.tif\").*255; radious = 2)\n",
    "    dot1_r3 = TSSs.int_brightest_pixel(TSSs.read_tiff_as_gray(root * typeprobe * \"/_mRNA_AVG_ns.tif\").*255; radious = 3)\n",
    "\n",
    "    df[!,:TSS1_r1] = df[!,:locus1_int1_TSS2] ./ dot1_r1\n",
    "    df[!,:TSS1_r2] = df[!,:locus1_int2_TSS2] ./ dot1_r2\n",
    "    df[!,:TSS1_r3] = df[!,:locus1_int3_TSS2] ./ dot1_r3\n",
    "    df[!,:TSS2_r1] = df[!,:locus2_int1_TSS2] ./ dot1_r1\n",
    "    df[!,:TSS2_r2] = df[!,:locus2_int2_TSS2] ./ dot1_r2\n",
    "    df[!,:TSS2_r3] = df[!,:locus2_int3_TSS2] ./ dot1_r3\n",
    "    \n",
    "    \n",
    "    CSV.write(\"TSS_avgdot/\"*genename*\"_exp\"*\"$expn\"*\".csv\", df)\n",
    "    ibidislide[!,:Well] = [split(ii, \" (\")[1] for ii in ibidislide[!,:Well]]\n",
    "    cp_dir = root1*\"CP_results\"\n",
    "    cells1 = CellInfo(cp_dir, add_probetypes(exp));\n",
    "    exp1 = CSV.read(\"TSS_avgdot/\"*gene*\"_exp\"*\"$expn\"*\".csv\", DataFrame)\n",
    "    exp1[!,:Well] = [split(split(ii, \"S 0_\")[2], \"_X\")[1] for ii in exp1[!,:Image]]\n",
    "    exp1 = innerjoin(exp1, ibidislide, on= \"Well\")\n",
    "    CSV.write(genefolder*\"/\"*gene*\"_exp\"*\"$expn\"*\"_TSS.csv\", exp1)\n",
    "    CSV.write(genefolder*\"/\"*gene*\"_exp\"*\"$expn\"*\"_CP.csv\", cells1)\n",
    "    fq_dir1 = root1*typeprobe*\"/\"\n",
    "    fq1 = FQ_summary_MATURE(fq_dir1)\n",
    "    CSV.write(genefolder*\"/\"*gene*\"_exp\"*\"$expn\"*\"_FQ.csv\", fq1)\n",
    "end\n"
   ]
  },
  {
   "cell_type": "code",
   "execution_count": 2,
   "metadata": {},
   "outputs": [
    {
     "name": "stderr",
     "output_type": "stream",
     "text": [
      "\u001b[32mProgress: 100%|█████████████████████████████████████████| Time: 1:05:54\u001b[39m\n",
      "\u001b[32mProgress: 100%|█████████████████████████████████████████| Time: 1:00:15\u001b[39m\n",
      "WARNING: both Pandas and DataFrames export \"DataFrame\"; uses of it in module NoLongerProblems_Pandas must be qualified\n",
      "\u001b[32mProgress: 100%|█████████████████████████████████████████| Time: 0:56:48\u001b[39m\n",
      "\u001b[32mProgress: 100%|█████████████████████████████████████████| Time: 0:34:10\u001b[39m\n"
     ]
    },
    {
     "data": {
      "text/plain": [
       "\"TSS_raw/Egr2_intron_exp2.csv\""
      ]
     },
     "execution_count": 2,
     "metadata": {},
     "output_type": "execute_result"
    }
   ],
   "source": [
    "root1 = \"/Volumes/lymphdev\\$/IreneR/Confocal/EnhancerInducibleGenes/Egr2/Exp1/\"\n",
    "expn = 1\n",
    "gene = \"Egr2_enh\"\n",
    "typeprobe = \"type6\"\n",
    "tss_c4 = root1 * \"Segmentation_type6/_FQ_outline/_TS_detect\"\n",
    "imagesfolder = root1 * \"/tiff3D\"\n",
    "images_pat = TSSs.get_image_patterns(tss_c4)\n",
    "d = TSSs.TSS_raw_quant(tss_c4, tss_c4, imagesfolder, 2; xy = 0.189, zx = 0.5)\n",
    "CSV.write(\"TSS_raw/\"*gene*\"_exp\"*\"$expn\"*\".csv\", d)\n",
    "\n",
    "gene = \"Egr2_intron\"\n",
    "typeprobe = \"type1\"\n",
    "tss_c4 = root1 * \"Segmentation_type1/_FQ_outline/_TS_detect\"\n",
    "imagesfolder = root1 * \"/tiff3D\"\n",
    "images_pat = TSSs.get_image_patterns(tss_c4)\n",
    "d = TSSs.TSS_raw_quant(tss_c4, tss_c4, imagesfolder, 3; xy = 0.189, zx = 0.5)\n",
    "CSV.write(\"TSS_raw/\"*gene*\"_exp\"*\"$expn\"*\".csv\", d)\n",
    "tss1 = CSV.read(\"TSS_raw/\"*gene*\"_exp\"*\"$expn\"*\".csv\", DataFrame)\n",
    "\n",
    "root1 = \"/Volumes/lymphdev\\$/IreneR/Confocal/EnhancerInducibleGenes/Egr2/Exp2/\"\n",
    "expn = 2\n",
    "gene = \"Egr2_enh\"\n",
    "typeprobe = \"type6\"\n",
    "tss_c4 = root1 * \"Segmentation_type6/_FQ_outline/_TS_detect\"\n",
    "imagesfolder = root1 * \"/tiff3D\"\n",
    "images_pat = TSSs.get_image_patterns(tss_c4)\n",
    "d = TSSs.TSS_raw_quant(tss_c4, tss_c4, imagesfolder, 2; xy = 0.189, zx = 0.5)\n",
    "CSV.write(\"TSS_raw/\"*gene*\"_exp\"*\"$expn\"*\".csv\", d)\n",
    "\n",
    "gene = \"Egr2_intron\"\n",
    "typeprobe = \"type1\"\n",
    "tss_c4 = root1 * \"Segmentation_type1/_FQ_outline/_TS_detect\"\n",
    "imagesfolder = root1 * \"/tiff3D\"\n",
    "images_pat = TSSs.get_image_patterns(tss_c4)\n",
    "d = TSSs.TSS_raw_quant(tss_c4, tss_c4, imagesfolder, 3; xy = 0.189, zx = 0.5)\n",
    "CSV.write(\"TSS_raw/\"*gene*\"_exp\"*\"$expn\"*\".csv\", d)\n",
    "\n"
   ]
  },
  {
   "cell_type": "code",
   "execution_count": 3,
   "metadata": {},
   "outputs": [
    {
     "data": {
      "text/plain": [
       "\"Egr2/Egr2_intron_exp2_FQ.csv\""
      ]
     },
     "execution_count": 3,
     "metadata": {},
     "output_type": "execute_result"
    }
   ],
   "source": [
    "\n",
    "root1 = \"/Volumes/lymphdev\\$/IreneR/Confocal/EnhancerInducibleGenes/Egr2/Exp1/\"\n",
    "exp = CSV.read(\"IbidiChambers/IbidiChamberSlide_Egr2_20210125.csv\", DataFrame)\n",
    "expn = 1\n",
    "gene = \"Egr2_enh\"\n",
    "typeprobe = \"type6\"\n",
    "tss1 = CSV.read(\"TSS_raw/\"*gene*\"_exp\"*\"$expn\"*\".csv\", DataFrame)\n",
    "normalise_avgdot(tss1, gene, expn, typeprobe, exp; root = root1, genefolder = \"Egr2\")\n",
    "\n",
    "\n",
    "gene = \"Egr2_intron\"\n",
    "typeprobe = \"type1\"\n",
    "tss1 = CSV.read(\"TSS_raw/\"*gene*\"_exp\"*\"$expn\"*\".csv\", DataFrame)\n",
    "normalise_avgdot(tss1, gene, expn, typeprobe, exp; root = root1, genefolder = \"Egr2\")\n",
    "\n",
    "root1 = \"/Volumes/lymphdev\\$/IreneR/Confocal/EnhancerInducibleGenes/Egr2/Exp2/\"\n",
    "exp = CSV.read(\"IbidiChambers/IbidiChamberSlide_Egr2_20210205.csv\", DataFrame)\n",
    "expn = 2\n",
    "gene = \"Egr2_enh\"\n",
    "typeprobe = \"type6\"\n",
    "tss1 = CSV.read(\"TSS_raw/\"*gene*\"_exp\"*\"$expn\"*\".csv\", DataFrame)\n",
    "normalise_avgdot(tss1, gene, expn, typeprobe, exp; root = root1, genefolder = \"Egr2\")\n",
    "\n",
    "gene = \"Egr2_intron\"\n",
    "typeprobe = \"type1\"\n",
    "tss1 = CSV.read(\"TSS_raw/\"*gene*\"_exp\"*\"$expn\"*\".csv\", DataFrame)\n",
    "normalise_avgdot(tss1, gene, expn, typeprobe, exp; root = root1, genefolder = \"Egr2\")\n",
    "\n"
   ]
  },
  {
   "cell_type": "code",
   "execution_count": 4,
   "metadata": {},
   "outputs": [
    {
     "name": "stderr",
     "output_type": "stream",
     "text": [
      "\u001b[32mProgress: 100%|█████████████████████████████████████████| Time: 0:24:15\u001b[39m\n",
      "\u001b[32mProgress: 100%|█████████████████████████████████████████| Time: 0:27:52\u001b[39m\n"
     ]
    },
    {
     "data": {
      "text/plain": [
       "\"TSS_raw/L2_exp1.csv\""
      ]
     },
     "execution_count": 4,
     "metadata": {},
     "output_type": "execute_result"
    }
   ],
   "source": [
    "ROOT1 = \"/Volumes/lymphdev\\$/IreneR/Confocal/EnhancerInducibleGenes/Ifnb1/Exp1/\"\n",
    "\n",
    "\n",
    "root1 = ROOT1\n",
    "\n",
    "expn = 1\n",
    "gene = \"Ifnb1forL2\"\n",
    "typeprobe = \"type4\"\n",
    "channel= 3\n",
    "tss_c4 = root1 * \"Segmentation_type4/_FQ_outline/_TS_detect\"\n",
    "imagesfolder = root1 * \"/tiff3D\"\n",
    "images_pat = TSSs.get_image_patterns(tss_c4)\n",
    "\n",
    "d = TSSs.TSS_raw_quant(tss_c4, tss_c4, imagesfolder, channel; xy = 0.189, zx = 0.5)\n",
    "CSV.write(\"TSS_raw/\"*gene*\"_exp\"*\"$expn\"*\".csv\", d)\n",
    "tss1 = CSV.read(\"TSS_raw/\"*gene*\"_exp\"*\"$expn\"*\".csv\", DataFrame)\n",
    "\n",
    "gene = \"L2\"\n",
    "typeprobe = \"type6\"\n",
    "channel = 2\n",
    "tss_c4 = root1 * \"Segmentation_type6/_FQ_outline/_TS_detect\"\n",
    "imagesfolder = root1 * \"/tiff3D\"\n",
    "images_pat = TSSs.get_image_patterns(tss_c4)\n",
    "d = TSSs.TSS_raw_quant(tss_c4, tss_c4, imagesfolder, channel; xy = 0.189, zx = 0.5)\n",
    "CSV.write(\"TSS_raw/\"*gene*\"_exp\"*\"$expn\"*\".csv\", d)"
   ]
  },
  {
   "cell_type": "code",
   "execution_count": 5,
   "metadata": {},
   "outputs": [
    {
     "data": {
      "text/plain": [
       "\"Ifnb1L2/L2_exp1_FQ.csv\""
      ]
     },
     "execution_count": 5,
     "metadata": {},
     "output_type": "execute_result"
    }
   ],
   "source": [
    "\n",
    "\n",
    "ROOT1 = \"/Volumes/lymphdev\\$/IreneR/Confocal/EnhancerInducibleGenes/Ifnb1/Exp1/\"\n",
    "root1 = ROOT1\n",
    "exp = CSV.read(\"IbidiChambers/IbidiChamberSlide_Ifnb1_20210125.csv\", DataFrame)\n",
    "expn = 1\n",
    "gene = \"Ifnb1forL2\"\n",
    "typeprobe = \"type4\"\n",
    "tss1 = CSV.read(\"TSS_raw/\"*gene*\"_exp\"*\"$expn\"*\".csv\", DataFrame)\n",
    "normalise_avgdot(tss1, gene, expn, typeprobe, exp; root = root1, genefolder = \"Ifnb1L2\")\n",
    "gene = \"L2\"\n",
    "typeprobe = \"type6\"\n",
    "tss1 = CSV.read(\"TSS_raw/\"*gene*\"_exp\"*\"$expn\"*\".csv\", DataFrame)\n",
    "normalise_avgdot(tss1, gene, expn, typeprobe, exp; root = root1, genefolder = \"Ifnb1L2\")"
   ]
  },
  {
   "cell_type": "code",
   "execution_count": 10,
   "metadata": {},
   "outputs": [
    {
     "name": "stderr",
     "output_type": "stream",
     "text": [
      "\u001b[32mProgress: 100%|█████████████████████████████████████████| Time: 0:09:24\u001b[39m\n",
      "\u001b[32mProgress: 100%|█████████████████████████████████████████| Time: 0:23:45\u001b[39m\n"
     ]
    },
    {
     "data": {
      "text/plain": [
       "\"TSS_raw/L2_exp2.csv\""
      ]
     },
     "execution_count": 10,
     "metadata": {},
     "output_type": "execute_result"
    }
   ],
   "source": [
    "ROOT2 = \"/Volumes/lymphdev\\$/IreneR/Confocal/EnhancerInducibleGenes/Ifnb1/Exp2/\"\n",
    "\n",
    "\n",
    "function get_image_patterns2(imagefolder)\n",
    "    files = readdir(imagefolder)\n",
    "    bool = [length(split(f, r\"_C[\\d][\\.].|_C[\\d]_\")) > 1 for f in files]\n",
    "    files = files[bool]\n",
    "    return unique([split(f, r\"_C[\\d][\\.].|_C[\\d]_\")[1] for f in files])\n",
    "end\n",
    "\n",
    "function TSS_raw_quant2(t2, tss_folder, image_folder, n; xy = 0.189, zx = 0.5)\n",
    "    \n",
    "    images_pat = get_image_patterns2(t2)\n",
    "    \n",
    "    p = Progress(length(images_pat), 1)\n",
    "\n",
    "    dfs = []\n",
    "\n",
    "    for a in 1:length(images_pat)\n",
    "        next!(p)\n",
    "        \n",
    "\n",
    "        pat = images_pat[a]\n",
    "\n",
    "        # Get all the TSS in the images\n",
    "        a = TSSs.find_outline(tss_folder, pat)\n",
    "        tss = TSSs.cell_tss_dict(a)\n",
    "        tss = TSSs.meassure_tss(tss, imagesfolder, pat, n, xy = xy, zx = zx)\n",
    "    \n",
    "        df = TSSs.analysis_singlechannel(tss; image = pat,  tss_name = :TSS2)\n",
    "        push!(dfs, df)\n",
    "\n",
    "    end\n",
    "    \n",
    "    d = TSSs.join_in_all_common_columns(dfs...)\n",
    "    return d\n",
    "    \n",
    "end\n",
    "\n",
    "\n",
    "root1 = ROOT2\n",
    "expn = 2\n",
    "gene = \"Ifnb1forL2\"\n",
    "typeprobe = \"type4\"\n",
    "channel= 3\n",
    "tss_c4 = root1 * \"Segmentation_type4/_FQ_outline/_TS_detect\"\n",
    "imagesfolder = root1 * \"/tiff3D\"\n",
    "images_pat = get_image_patterns2(tss_c4)\n",
    "d = TSS_raw_quant2(tss_c4, tss_c4, imagesfolder, channel; xy = 0.189, zx = 0.5)\n",
    "CSV.write(\"TSS_raw/\"*gene*\"_exp\"*\"$expn\"*\".csv\", d)\n",
    "\n",
    "\n",
    "gene = \"L2\"\n",
    "typeprobe = \"type6\"\n",
    "channel = 2\n",
    "tss_c4 = root1 * \"Segmentation_type6/_FQ_outline/_TS_detect\"\n",
    "imagesfolder = root1 * \"/tiff3D\"\n",
    "images_pat = get_image_patterns2(tss_c4)\n",
    "d = TSS_raw_quant2(tss_c4, tss_c4, imagesfolder, channel; xy = 0.189, zx = 0.5)\n",
    "CSV.write(\"TSS_raw/\"*gene*\"_exp\"*\"$expn\"*\".csv\", d)\n"
   ]
  },
  {
   "cell_type": "code",
   "execution_count": 11,
   "metadata": {},
   "outputs": [],
   "source": [
    "function FQfiles.fix_image_name(df)\n",
    "    # Get rid of the channel specific identifiers\n",
    "    df[!,:Image] = [split(i, r\"_C[\\d][\\.].|_C[\\d]_\")[1] for i in df[!,:Image]]\n",
    "    df\n",
    "end"
   ]
  },
  {
   "cell_type": "code",
   "execution_count": 12,
   "metadata": {},
   "outputs": [
    {
     "data": {
      "text/plain": [
       "\"Ifnb1L2/L2_exp2_FQ.csv\""
      ]
     },
     "execution_count": 12,
     "metadata": {},
     "output_type": "execute_result"
    }
   ],
   "source": [
    "ROOT2 = \"/Volumes/lymphdev\\$/IreneR/Confocal/EnhancerInducibleGenes/Ifnb1/Exp2/\"\n",
    "root1 = ROOT2\n",
    "exp = CSV.read(\"IbidiChambers/IbidiChamberSlide_Ifnb1_20210205.csv\", DataFrame)\n",
    "expn = 2\n",
    "gene = \"Ifnb1forL2\"\n",
    "typeprobe = \"type4\"\n",
    "tss1 = CSV.read(\"TSS_raw/\"*gene*\"_exp\"*\"$expn\"*\".csv\", DataFrame)\n",
    "normalise_avgdot(tss1, gene, expn, typeprobe, exp; root = root1, genefolder = \"Ifnb1L2\")\n",
    "gene = \"L2\"\n",
    "typeprobe = \"type6\"\n",
    "tss1 = CSV.read(\"TSS_raw/\"*gene*\"_exp\"*\"$expn\"*\".csv\", DataFrame)\n",
    "normalise_avgdot(tss1, gene, expn, typeprobe, exp; root = root1, genefolder = \"Ifnb1L2\")"
   ]
  },
  {
   "cell_type": "code",
   "execution_count": null,
   "metadata": {},
   "outputs": [],
   "source": []
  },
  {
   "cell_type": "code",
   "execution_count": null,
   "metadata": {},
   "outputs": [],
   "source": []
  }
 ],
 "metadata": {
  "kernelspec": {
   "display_name": "Julia 1.6.0",
   "language": "julia",
   "name": "julia-1.6"
  },
  "language_info": {
   "file_extension": ".jl",
   "mimetype": "application/julia",
   "name": "julia",
   "version": "1.6.0"
  }
 },
 "nbformat": 4,
 "nbformat_minor": 2
}
