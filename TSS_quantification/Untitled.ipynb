{
 "cells": [
  {
   "cell_type": "code",
   "execution_count": 12,
   "metadata": {},
   "outputs": [
    {
     "data": {
      "text/plain": [
       "1000"
      ]
     },
     "execution_count": 12,
     "metadata": {},
     "output_type": "execute_result"
    }
   ],
   "source": [
    "using CSV\n",
    "using DataFrames\n",
    "ENV[\"COLUMNS\"]= 1000"
   ]
  },
  {
   "cell_type": "code",
   "execution_count": 21,
   "metadata": {},
   "outputs": [
    {
     "data": {
      "text/plain": [
       "1228-element Vector{Float64}:\n",
       "  18.711\n",
       " 112.266\n",
       " 160.461\n",
       "  72.576\n",
       " 170.478\n",
       " 163.674\n",
       "  18.333\n",
       "  64.638\n",
       " 127.008\n",
       " 121.338\n",
       " 106.785\n",
       "  85.995\n",
       " 106.596\n",
       "   ⋮\n",
       " 174.447\n",
       "  91.665\n",
       " 114.345\n",
       " 151.578\n",
       "  66.528\n",
       " 166.50900000000001\n",
       "  39.879\n",
       " 137.781\n",
       "  68.04\n",
       "  88.452\n",
       " 125.685\n",
       "  98.658"
      ]
     },
     "execution_count": 21,
     "metadata": {},
     "output_type": "execute_result"
    }
   ],
   "source": [
    "folder = \"EhnPeliSertad/Sertad2_intron_exp1_TSS.csv\"\n",
    "\n",
    "tb = CSV.read(folder, DataFrames.DataFrame)\n",
    "\n",
    "tb = tb[tb[!,:N_TSS2].==1, :locus1_y_TSS2]"
   ]
  },
  {
   "cell_type": "code",
   "execution_count": 19,
   "metadata": {},
   "outputs": [
    {
     "data": {
      "text/plain": [
       "110-element Vector{Float64}:\n",
       "  40.824\n",
       " 106.407\n",
       " 152.145\n",
       "  49.896\n",
       "  65.394\n",
       "  86.373\n",
       " 112.455\n",
       "  55.566\n",
       " 125.496\n",
       " 110.565\n",
       "  44.793\n",
       " 157.059\n",
       " 112.266\n",
       "   ⋮\n",
       " 170.1\n",
       " 172.746\n",
       "  63.315\n",
       " 128.52\n",
       " 178.983\n",
       "  62.937\n",
       "  42.147\n",
       " 160.461\n",
       "  66.717\n",
       " 100.548\n",
       " 127.386\n",
       " 101.682"
      ]
     },
     "execution_count": 19,
     "metadata": {},
     "output_type": "execute_result"
    }
   ],
   "source": [
    "folder = \"Il12bHSS1/Il12b_intron_exp1_TSS.csv\"\n",
    "\n",
    "tb = CSV.read(folder, DataFrames.DataFrame)\n",
    "\n",
    "tb = tb[tb[!,:N_TSS2].==1, :locus1_y_TSS2]"
   ]
  },
  {
   "cell_type": "code",
   "execution_count": null,
   "metadata": {},
   "outputs": [],
   "source": []
  }
 ],
 "metadata": {
  "kernelspec": {
   "display_name": "Julia 1.6.0",
   "language": "julia",
   "name": "julia-1.6"
  },
  "language_info": {
   "file_extension": ".jl",
   "mimetype": "application/julia",
   "name": "julia",
   "version": "1.6.0"
  }
 },
 "nbformat": 4,
 "nbformat_minor": 2
}
