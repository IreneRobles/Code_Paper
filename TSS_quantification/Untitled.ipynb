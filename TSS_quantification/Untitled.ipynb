{
 "cells": [
  {
   "cell_type": "code",
   "execution_count": 1,
   "id": "36753cef",
   "metadata": {},
   "outputs": [
    {
     "data": {
      "text/plain": [
       "\"/Volumes/lymphdev\\$/IreneR/Confocal/IFNGrescueburst/Il12b/Exp2/\""
      ]
     },
     "execution_count": 1,
     "metadata": {},
     "output_type": "execute_result"
    }
   ],
   "source": [
    "nor = 255\n",
    "include(\"StandardCode.jl\")\n",
    "\n",
    "ROOT1a = \"/Volumes/lymphdev\\$/IreneR/Confocal/IFNGrescueburst/Egr2/Exp1/\"\n",
    "ROOT2a = \"/Volumes/lymphdev\\$/IreneR/Confocal/IFNGrescueburst/Egr2/Exp2/\"\n",
    "ROOT1b = \"/Volumes/lymphdev\\$/IreneR/Confocal/IFNGrescueburst/Il12b/Exp1/\"\n",
    "ROOT2b = \"/Volumes/lymphdev\\$/IreneR/Confocal/IFNGrescueburst/Il12b/Exp2/\""
   ]
  },
  {
   "cell_type": "code",
   "execution_count": 1,
   "id": "2de7db83",
   "metadata": {},
   "outputs": [
    {
     "ename": "LoadError",
     "evalue": "UndefVarError: ROOT1a not defined",
     "output_type": "error",
     "traceback": [
      "UndefVarError: ROOT1a not defined",
      "",
      "Stacktrace:",
      " [1] top-level scope",
      "   @ In[1]:2",
      " [2] eval",
      "   @ ./boot.jl:360 [inlined]",
      " [3] include_string(mapexpr::typeof(REPL.softscope), mod::Module, code::String, filename::String)",
      "   @ Base ./loading.jl:1116"
     ]
    }
   ],
   "source": [
    "nor = 255\n",
    "root1 = ROOT1a\n",
    "expn = \"1\"\n",
    "\n",
    "gene = \"Egr2_intron_IFNG\"\n",
    "typeprobe = \"type1\"\n",
    "tss_c4 = root1 * \"Segmentation_type1/_FQ_outline/_TS_detect\"\n",
    "imagesfolder = root1 * \"/tiff3D\"\n",
    "images_pat = TSSs.get_image_patterns(tss_c4)\n",
    "d = TSSs.TSS_raw_quant(tss_c4, tss_c4, imagesfolder, 3; xy = 0.189, zx = 0.5)\n",
    "CSV.write(\"TSS_raw/\"*gene*\"_exp\"*\"$expn\"*\".csv\", d)\n",
    "\n",
    "gene = \"Egr2_enh_IFNG\"\n",
    "typeprobe = \"type6\"\n",
    "tss_c4 = root1 * \"Segmentation_type6/_FQ_outline/_TS_detect\"\n",
    "imagesfolder = root1 * \"/tiff3D\"\n",
    "images_pat = TSSs.get_image_patterns(tss_c4)\n",
    "d = TSSs.TSS_raw_quant(tss_c4, tss_c4, imagesfolder, 2; xy = 0.189, zx = 0.5)\n",
    "CSV.write(\"TSS_raw/\"*gene*\"_exp\"*\"$expn\"*\".csv\", d)\n",
    "tss1 = CSV.read(\"TSS_raw/\"*gene*\"_exp\"*\"$expn\"*\".csv\", DataFrame)\n",
    "\n",
    "\n",
    "\n",
    "root1 = ROOT2a\n",
    "expn = \"2\"\n",
    "\n",
    "gene = \"Egr2_intron_IFNG\"\n",
    "typeprobe = \"type1\"\n",
    "tss_c4 = root1 * \"Segmentation_type1/_FQ_outline/_TS_detect\"\n",
    "imagesfolder = root1 * \"/tiff3D\"\n",
    "images_pat = TSSs.get_image_patterns(tss_c4)\n",
    "d = TSSs.TSS_raw_quant(tss_c4, tss_c4, imagesfolder, 3; xy = 0.189, zx = 0.5)\n",
    "CSV.write(\"TSS_raw/\"*gene*\"_exp\"*\"$expn\"*\".csv\", d)\n",
    "\n",
    "gene = \"Egr2_enh_IFNG\"\n",
    "typeprobe = \"type6\"\n",
    "tss_c4 = root1 * \"Segmentation_type6/_FQ_outline/_TS_detect\"\n",
    "imagesfolder = root1 * \"/tiff3D\"\n",
    "images_pat = TSSs.get_image_patterns(tss_c4)\n",
    "d = TSSs.TSS_raw_quant(tss_c4, tss_c4, imagesfolder, 2; xy = 0.189, zx = 0.5)\n",
    "CSV.write(\"TSS_raw/\"*gene*\"_exp\"*\"$expn\"*\".csv\", d)\n",
    "tss1 = CSV.read(\"TSS_raw/\"*gene*\"_exp\"*\"$expn\"*\".csv\", DataFrame)"
   ]
  },
  {
   "cell_type": "code",
   "execution_count": 6,
   "id": "968aca3c",
   "metadata": {},
   "outputs": [],
   "source": [
    "root1 = ROOT1b\n",
    "expn = \"1\"\n",
    "\n",
    "gene = \"Il12b_intron_IFNG\"\n",
    "typeprobe = \"type4\"\n",
    "tss_c4 = root1 * \"Segmentation_type4/_FQ_outline/_TS_detect\"\n",
    "imagesfolder = root1 * \"/tiff3D\"\n",
    "images_pat = TSSs.get_image_patterns(tss_c4)\n",
    "d = TSSs.TSS_raw_quant(tss_c4, tss_c4, imagesfolder, 2; xy = 0.189, zx = 0.5)\n",
    "CSV.write(\"TSS_raw/\"*gene*\"_exp\"*\"$expn\"*\".csv\", d)\n",
    "root1 = ROOT2b\n",
    "expn = \"2\"\n",
    "\n",
    "\n",
    "\n",
    "gene = \"Il12b_intron_IFNG\"\n",
    "typeprobe = \"type4\"\n",
    "tss_c4 = root1 * \"Segmentation_type4/_FQ_outline/_TS_detect\"\n",
    "imagesfolder = root1 * \"/tiff3D\"\n",
    "images_pat = TSSs.get_image_patterns(tss_c4)\n",
    "d = TSSs.TSS_raw_quant(tss_c4, tss_c4, imagesfolder, 2; xy = 0.189, zx = 0.5)\n",
    "CSV.write(\"TSS_raw/\"*gene*\"_exp\"*\"$expn\"*\".csv\", d)\n",
    "\n"
   ]
  },
  {
   "cell_type": "code",
   "execution_count": 2,
   "id": "21e00321",
   "metadata": {},
   "outputs": [
    {
     "name": "stderr",
     "output_type": "stream",
     "text": [
      "\u001b[32mProgress: 100%|█████████████████████████████████████████| Time: 0:15:25\u001b[39m\n",
      "WARNING: both Pandas and DataFrames export \"DataFrame\"; uses of it in module NoLongerProblems_Pandas must be qualified\n",
      "\u001b[32mProgress: 100%|█████████████████████████████████████████| Time: 0:12:31\u001b[39m\n"
     ]
    },
    {
     "data": {
      "text/html": [
       "<div class=\"data-frame\"><p>4,229 rows × 19 columns (omitted printing of 17 columns)</p><table class=\"data-frame\"><thead><tr><th></th><th>Cell</th><th>Image</th></tr><tr><th></th><th title=\"String15\">String15</th><th title=\"String\">String</th></tr></thead><tbody><tr><th>1</th><td>Cell_CP_21</td><td>Exp2_Il12bIFNGrescue_Sequence_A 0_S 0_U 0_V 0_X 9_Y16_Job(Seq.Scan) 1 01 01 02 01 04 01_026</td></tr><tr><th>2</th><td>Cell_CP_26</td><td>Exp2_Il12bIFNGrescue_Sequence_A 0_S 0_U 0_V 0_X 9_Y16_Job(Seq.Scan) 1 01 01 02 01 04 01_026</td></tr><tr><th>3</th><td>Cell_CP_27</td><td>Exp2_Il12bIFNGrescue_Sequence_A 0_S 0_U 0_V 0_X 9_Y16_Job(Seq.Scan) 1 01 01 02 01 04 01_026</td></tr><tr><th>4</th><td>Cell_CP_34</td><td>Exp2_Il12bIFNGrescue_Sequence_A 0_S 0_U 0_V 0_X 9_Y16_Job(Seq.Scan) 1 01 01 02 01 04 01_026</td></tr><tr><th>5</th><td>Cell_CP_16</td><td>Exp2_Il12bIFNGrescue_Sequence_A 0_S 0_U 0_V 0_X 9_Y16_Job(Seq.Scan) 1 01 01 02 01 04 01_026</td></tr><tr><th>6</th><td>Cell_CP_25</td><td>Exp2_Il12bIFNGrescue_Sequence_A 0_S 0_U 0_V 0_X 9_Y16_Job(Seq.Scan) 1 01 01 02 01 04 01_026</td></tr><tr><th>7</th><td>Cell_CP_9</td><td>Exp2_Il12bIFNGrescue_Sequence_A 0_S 0_U 0_V 0_X 9_Y16_Job(Seq.Scan) 1 01 01 02 01 04 01_026</td></tr><tr><th>8</th><td>Cell_CP_20</td><td>Exp2_Il12bIFNGrescue_Sequence_A 0_S 0_U 0_V 0_X 9_Y16_Job(Seq.Scan) 1 01 01 02 01 04 01_026</td></tr><tr><th>9</th><td>Cell_CP_7</td><td>Exp2_Il12bIFNGrescue_Sequence_A 0_S 0_U 0_V 0_X 9_Y16_Job(Seq.Scan) 1 01 01 02 01 04 01_026</td></tr><tr><th>10</th><td>Cell_CP_24</td><td>Exp2_Il12bIFNGrescue_Sequence_A 0_S 0_U 0_V 0_X 9_Y16_Job(Seq.Scan) 1 01 01 02 01 04 01_026</td></tr><tr><th>11</th><td>Cell_CP_13</td><td>Exp2_Il12bIFNGrescue_Sequence_A 0_S 0_U 0_V 0_X 9_Y16_Job(Seq.Scan) 1 01 01 02 01 04 01_026</td></tr><tr><th>12</th><td>Cell_CP_6</td><td>Exp2_Il12bIFNGrescue_Sequence_A 0_S 0_U 0_V 0_X 9_Y16_Job(Seq.Scan) 1 01 01 02 01 04 01_026</td></tr><tr><th>13</th><td>Cell_CP_18</td><td>Exp2_Il12bIFNGrescue_Sequence_A 0_S 0_U 0_V 0_X 9_Y16_Job(Seq.Scan) 1 01 01 02 01 04 01_026</td></tr><tr><th>14</th><td>Cell_CP_23</td><td>Exp2_Il12bIFNGrescue_Sequence_A 0_S 0_U 0_V 0_X 9_Y16_Job(Seq.Scan) 1 01 01 02 01 04 01_026</td></tr><tr><th>15</th><td>Cell_CP_2</td><td>Exp2_Il12bIFNGrescue_Sequence_A 0_S 0_U 0_V 0_X 9_Y16_Job(Seq.Scan) 1 01 01 02 01 04 01_026</td></tr><tr><th>16</th><td>Cell_CP_31</td><td>Exp2_Il12bIFNGrescue_Sequence_A 0_S 0_U 0_V 0_X 9_Y16_Job(Seq.Scan) 1 01 01 02 01 04 01_026</td></tr><tr><th>17</th><td>Cell_CP_29</td><td>Exp2_Il12bIFNGrescue_Sequence_A 0_S 0_U 0_V 0_X 9_Y16_Job(Seq.Scan) 1 01 01 02 01 04 01_026</td></tr><tr><th>18</th><td>Cell_CP_8</td><td>Exp2_Il12bIFNGrescue_Sequence_A 0_S 0_U 0_V 0_X 9_Y16_Job(Seq.Scan) 1 01 01 02 01 04 01_026</td></tr><tr><th>19</th><td>Cell_CP_22</td><td>Exp2_Il12bIFNGrescue_Sequence_A 0_S 0_U 0_V 0_X 9_Y16_Job(Seq.Scan) 1 01 01 02 01 04 01_026</td></tr><tr><th>20</th><td>Cell_CP_28</td><td>Exp2_Il12bIFNGrescue_Sequence_A 0_S 0_U 0_V 0_X 9_Y16_Job(Seq.Scan) 1 01 01 02 01 04 01_026</td></tr><tr><th>21</th><td>Cell_CP_10</td><td>Exp2_Il12bIFNGrescue_Sequence_A 0_S 0_U 0_V 0_X 9_Y16_Job(Seq.Scan) 1 01 01 02 01 04 01_026</td></tr><tr><th>22</th><td>Cell_CP_30</td><td>Exp2_Il12bIFNGrescue_Sequence_A 0_S 0_U 0_V 0_X 9_Y16_Job(Seq.Scan) 1 01 01 02 01 04 01_026</td></tr><tr><th>23</th><td>Cell_CP_4</td><td>Exp2_Il12bIFNGrescue_Sequence_A 0_S 0_U 0_V 0_X 9_Y16_Job(Seq.Scan) 1 01 01 02 01 04 01_026</td></tr><tr><th>24</th><td>Cell_CP_11</td><td>Exp2_Il12bIFNGrescue_Sequence_A 0_S 0_U 0_V 0_X 9_Y16_Job(Seq.Scan) 1 01 01 02 01 04 01_026</td></tr><tr><th>25</th><td>Cell_CP_1</td><td>Exp2_Il12bIFNGrescue_Sequence_A 0_S 0_U 0_V 0_X 9_Y16_Job(Seq.Scan) 1 01 01 02 01 04 01_026</td></tr><tr><th>26</th><td>Cell_CP_15</td><td>Exp2_Il12bIFNGrescue_Sequence_A 0_S 0_U 0_V 0_X 9_Y16_Job(Seq.Scan) 1 01 01 02 01 04 01_026</td></tr><tr><th>27</th><td>Cell_CP_32</td><td>Exp2_Il12bIFNGrescue_Sequence_A 0_S 0_U 0_V 0_X 9_Y16_Job(Seq.Scan) 1 01 01 02 01 04 01_026</td></tr><tr><th>28</th><td>Cell_CP_19</td><td>Exp2_Il12bIFNGrescue_Sequence_A 0_S 0_U 0_V 0_X 9_Y16_Job(Seq.Scan) 1 01 01 02 01 04 01_026</td></tr><tr><th>29</th><td>Cell_CP_5</td><td>Exp2_Il12bIFNGrescue_Sequence_A 0_S 0_U 0_V 0_X 9_Y16_Job(Seq.Scan) 1 01 01 02 01 04 01_026</td></tr><tr><th>30</th><td>Cell_CP_12</td><td>Exp2_Il12bIFNGrescue_Sequence_A 0_S 0_U 0_V 0_X 9_Y16_Job(Seq.Scan) 1 01 01 02 01 04 01_026</td></tr><tr><th>&vellip;</th><td>&vellip;</td><td>&vellip;</td></tr></tbody></table></div>"
      ],
      "text/latex": [
       "\\begin{tabular}{r|ccc}\n",
       "\t& Cell & Image & \\\\\n",
       "\t\\hline\n",
       "\t& String15 & String & \\\\\n",
       "\t\\hline\n",
       "\t1 & Cell\\_CP\\_21 & Exp2\\_Il12bIFNGrescue\\_Sequence\\_A 0\\_S 0\\_U 0\\_V 0\\_X 9\\_Y16\\_Job(Seq.Scan) 1 01 01 02 01 04 01\\_026 & $\\dots$ \\\\\n",
       "\t2 & Cell\\_CP\\_26 & Exp2\\_Il12bIFNGrescue\\_Sequence\\_A 0\\_S 0\\_U 0\\_V 0\\_X 9\\_Y16\\_Job(Seq.Scan) 1 01 01 02 01 04 01\\_026 & $\\dots$ \\\\\n",
       "\t3 & Cell\\_CP\\_27 & Exp2\\_Il12bIFNGrescue\\_Sequence\\_A 0\\_S 0\\_U 0\\_V 0\\_X 9\\_Y16\\_Job(Seq.Scan) 1 01 01 02 01 04 01\\_026 & $\\dots$ \\\\\n",
       "\t4 & Cell\\_CP\\_34 & Exp2\\_Il12bIFNGrescue\\_Sequence\\_A 0\\_S 0\\_U 0\\_V 0\\_X 9\\_Y16\\_Job(Seq.Scan) 1 01 01 02 01 04 01\\_026 & $\\dots$ \\\\\n",
       "\t5 & Cell\\_CP\\_16 & Exp2\\_Il12bIFNGrescue\\_Sequence\\_A 0\\_S 0\\_U 0\\_V 0\\_X 9\\_Y16\\_Job(Seq.Scan) 1 01 01 02 01 04 01\\_026 & $\\dots$ \\\\\n",
       "\t6 & Cell\\_CP\\_25 & Exp2\\_Il12bIFNGrescue\\_Sequence\\_A 0\\_S 0\\_U 0\\_V 0\\_X 9\\_Y16\\_Job(Seq.Scan) 1 01 01 02 01 04 01\\_026 & $\\dots$ \\\\\n",
       "\t7 & Cell\\_CP\\_9 & Exp2\\_Il12bIFNGrescue\\_Sequence\\_A 0\\_S 0\\_U 0\\_V 0\\_X 9\\_Y16\\_Job(Seq.Scan) 1 01 01 02 01 04 01\\_026 & $\\dots$ \\\\\n",
       "\t8 & Cell\\_CP\\_20 & Exp2\\_Il12bIFNGrescue\\_Sequence\\_A 0\\_S 0\\_U 0\\_V 0\\_X 9\\_Y16\\_Job(Seq.Scan) 1 01 01 02 01 04 01\\_026 & $\\dots$ \\\\\n",
       "\t9 & Cell\\_CP\\_7 & Exp2\\_Il12bIFNGrescue\\_Sequence\\_A 0\\_S 0\\_U 0\\_V 0\\_X 9\\_Y16\\_Job(Seq.Scan) 1 01 01 02 01 04 01\\_026 & $\\dots$ \\\\\n",
       "\t10 & Cell\\_CP\\_24 & Exp2\\_Il12bIFNGrescue\\_Sequence\\_A 0\\_S 0\\_U 0\\_V 0\\_X 9\\_Y16\\_Job(Seq.Scan) 1 01 01 02 01 04 01\\_026 & $\\dots$ \\\\\n",
       "\t11 & Cell\\_CP\\_13 & Exp2\\_Il12bIFNGrescue\\_Sequence\\_A 0\\_S 0\\_U 0\\_V 0\\_X 9\\_Y16\\_Job(Seq.Scan) 1 01 01 02 01 04 01\\_026 & $\\dots$ \\\\\n",
       "\t12 & Cell\\_CP\\_6 & Exp2\\_Il12bIFNGrescue\\_Sequence\\_A 0\\_S 0\\_U 0\\_V 0\\_X 9\\_Y16\\_Job(Seq.Scan) 1 01 01 02 01 04 01\\_026 & $\\dots$ \\\\\n",
       "\t13 & Cell\\_CP\\_18 & Exp2\\_Il12bIFNGrescue\\_Sequence\\_A 0\\_S 0\\_U 0\\_V 0\\_X 9\\_Y16\\_Job(Seq.Scan) 1 01 01 02 01 04 01\\_026 & $\\dots$ \\\\\n",
       "\t14 & Cell\\_CP\\_23 & Exp2\\_Il12bIFNGrescue\\_Sequence\\_A 0\\_S 0\\_U 0\\_V 0\\_X 9\\_Y16\\_Job(Seq.Scan) 1 01 01 02 01 04 01\\_026 & $\\dots$ \\\\\n",
       "\t15 & Cell\\_CP\\_2 & Exp2\\_Il12bIFNGrescue\\_Sequence\\_A 0\\_S 0\\_U 0\\_V 0\\_X 9\\_Y16\\_Job(Seq.Scan) 1 01 01 02 01 04 01\\_026 & $\\dots$ \\\\\n",
       "\t16 & Cell\\_CP\\_31 & Exp2\\_Il12bIFNGrescue\\_Sequence\\_A 0\\_S 0\\_U 0\\_V 0\\_X 9\\_Y16\\_Job(Seq.Scan) 1 01 01 02 01 04 01\\_026 & $\\dots$ \\\\\n",
       "\t17 & Cell\\_CP\\_29 & Exp2\\_Il12bIFNGrescue\\_Sequence\\_A 0\\_S 0\\_U 0\\_V 0\\_X 9\\_Y16\\_Job(Seq.Scan) 1 01 01 02 01 04 01\\_026 & $\\dots$ \\\\\n",
       "\t18 & Cell\\_CP\\_8 & Exp2\\_Il12bIFNGrescue\\_Sequence\\_A 0\\_S 0\\_U 0\\_V 0\\_X 9\\_Y16\\_Job(Seq.Scan) 1 01 01 02 01 04 01\\_026 & $\\dots$ \\\\\n",
       "\t19 & Cell\\_CP\\_22 & Exp2\\_Il12bIFNGrescue\\_Sequence\\_A 0\\_S 0\\_U 0\\_V 0\\_X 9\\_Y16\\_Job(Seq.Scan) 1 01 01 02 01 04 01\\_026 & $\\dots$ \\\\\n",
       "\t20 & Cell\\_CP\\_28 & Exp2\\_Il12bIFNGrescue\\_Sequence\\_A 0\\_S 0\\_U 0\\_V 0\\_X 9\\_Y16\\_Job(Seq.Scan) 1 01 01 02 01 04 01\\_026 & $\\dots$ \\\\\n",
       "\t21 & Cell\\_CP\\_10 & Exp2\\_Il12bIFNGrescue\\_Sequence\\_A 0\\_S 0\\_U 0\\_V 0\\_X 9\\_Y16\\_Job(Seq.Scan) 1 01 01 02 01 04 01\\_026 & $\\dots$ \\\\\n",
       "\t22 & Cell\\_CP\\_30 & Exp2\\_Il12bIFNGrescue\\_Sequence\\_A 0\\_S 0\\_U 0\\_V 0\\_X 9\\_Y16\\_Job(Seq.Scan) 1 01 01 02 01 04 01\\_026 & $\\dots$ \\\\\n",
       "\t23 & Cell\\_CP\\_4 & Exp2\\_Il12bIFNGrescue\\_Sequence\\_A 0\\_S 0\\_U 0\\_V 0\\_X 9\\_Y16\\_Job(Seq.Scan) 1 01 01 02 01 04 01\\_026 & $\\dots$ \\\\\n",
       "\t24 & Cell\\_CP\\_11 & Exp2\\_Il12bIFNGrescue\\_Sequence\\_A 0\\_S 0\\_U 0\\_V 0\\_X 9\\_Y16\\_Job(Seq.Scan) 1 01 01 02 01 04 01\\_026 & $\\dots$ \\\\\n",
       "\t25 & Cell\\_CP\\_1 & Exp2\\_Il12bIFNGrescue\\_Sequence\\_A 0\\_S 0\\_U 0\\_V 0\\_X 9\\_Y16\\_Job(Seq.Scan) 1 01 01 02 01 04 01\\_026 & $\\dots$ \\\\\n",
       "\t26 & Cell\\_CP\\_15 & Exp2\\_Il12bIFNGrescue\\_Sequence\\_A 0\\_S 0\\_U 0\\_V 0\\_X 9\\_Y16\\_Job(Seq.Scan) 1 01 01 02 01 04 01\\_026 & $\\dots$ \\\\\n",
       "\t27 & Cell\\_CP\\_32 & Exp2\\_Il12bIFNGrescue\\_Sequence\\_A 0\\_S 0\\_U 0\\_V 0\\_X 9\\_Y16\\_Job(Seq.Scan) 1 01 01 02 01 04 01\\_026 & $\\dots$ \\\\\n",
       "\t28 & Cell\\_CP\\_19 & Exp2\\_Il12bIFNGrescue\\_Sequence\\_A 0\\_S 0\\_U 0\\_V 0\\_X 9\\_Y16\\_Job(Seq.Scan) 1 01 01 02 01 04 01\\_026 & $\\dots$ \\\\\n",
       "\t29 & Cell\\_CP\\_5 & Exp2\\_Il12bIFNGrescue\\_Sequence\\_A 0\\_S 0\\_U 0\\_V 0\\_X 9\\_Y16\\_Job(Seq.Scan) 1 01 01 02 01 04 01\\_026 & $\\dots$ \\\\\n",
       "\t30 & Cell\\_CP\\_12 & Exp2\\_Il12bIFNGrescue\\_Sequence\\_A 0\\_S 0\\_U 0\\_V 0\\_X 9\\_Y16\\_Job(Seq.Scan) 1 01 01 02 01 04 01\\_026 & $\\dots$ \\\\\n",
       "\t$\\dots$ & $\\dots$ & $\\dots$ &  \\\\\n",
       "\\end{tabular}\n"
      ],
      "text/plain": [
       "\u001b[1m4229×19 DataFrame\u001b[0m\n",
       "\u001b[1m  Row \u001b[0m│\u001b[1m Cell       \u001b[0m\u001b[1m Image                             \u001b[0m\u001b[1m Image_BF  \u001b[0m\u001b[1m N_TSS2 \u001b[0m\u001b[1m locu\u001b[0m ⋯\n",
       "\u001b[1m      \u001b[0m│\u001b[90m String15   \u001b[0m\u001b[90m String                            \u001b[0m\u001b[90m Float64   \u001b[0m\u001b[90m Int64  \u001b[0m\u001b[90m Stri\u001b[0m ⋯\n",
       "──────┼─────────────────────────────────────────────────────────────────────────\n",
       "    1 │ Cell_CP_21  Exp2_Il12bIFNGrescue_Sequence_A …  0.0             0  0    ⋯\n",
       "    2 │ Cell_CP_26  Exp2_Il12bIFNGrescue_Sequence_A …  0.0             0  0\n",
       "    3 │ Cell_CP_27  Exp2_Il12bIFNGrescue_Sequence_A …  0.0             0  0\n",
       "    4 │ Cell_CP_34  Exp2_Il12bIFNGrescue_Sequence_A …  0.0             0  0\n",
       "    5 │ Cell_CP_16  Exp2_Il12bIFNGrescue_Sequence_A …  0.0             0  0    ⋯\n",
       "    6 │ Cell_CP_25  Exp2_Il12bIFNGrescue_Sequence_A …  0.0             0  0\n",
       "    7 │ Cell_CP_9   Exp2_Il12bIFNGrescue_Sequence_A …  0.0             0  0\n",
       "    8 │ Cell_CP_20  Exp2_Il12bIFNGrescue_Sequence_A …  0.0             0  0\n",
       "    9 │ Cell_CP_7   Exp2_Il12bIFNGrescue_Sequence_A …  0.0             0  0    ⋯\n",
       "   10 │ Cell_CP_24  Exp2_Il12bIFNGrescue_Sequence_A …  0.0             0  0\n",
       "   11 │ Cell_CP_13  Exp2_Il12bIFNGrescue_Sequence_A …  0.0             0  0\n",
       "  ⋮   │     ⋮                       ⋮                      ⋮        ⋮          ⋱\n",
       " 4220 │ Cell_CP_6   Exp2_Il12bIFNGrescue_Sequence_A …  0.0769231       0  0\n",
       " 4221 │ Cell_CP_2   Exp2_Il12bIFNGrescue_Sequence_A …  0.0769231       0  0    ⋯\n",
       " 4222 │ Cell_CP_8   Exp2_Il12bIFNGrescue_Sequence_A …  0.0769231       0  0\n",
       " 4223 │ Cell_CP_10  Exp2_Il12bIFNGrescue_Sequence_A …  0.0769231       0  0\n",
       " 4224 │ Cell_CP_4   Exp2_Il12bIFNGrescue_Sequence_A …  0.0769231       0  0\n",
       " 4225 │ Cell_CP_11  Exp2_Il12bIFNGrescue_Sequence_A …  0.0769231       0  0    ⋯\n",
       " 4226 │ Cell_CP_1   Exp2_Il12bIFNGrescue_Sequence_A …  0.0769231       0  0\n",
       " 4227 │ Cell_CP_5   Exp2_Il12bIFNGrescue_Sequence_A …  0.0769231       0  0\n",
       " 4228 │ Cell_CP_12  Exp2_Il12bIFNGrescue_Sequence_A …  0.0769231       1  TxS_\n",
       " 4229 │ Cell_CP_3   Exp2_Il12bIFNGrescue_Sequence_A …  0.0769231       0  0    ⋯\n",
       "\u001b[36m                                                15 columns and 4208 rows omitted\u001b[0m"
      ]
     },
     "execution_count": 2,
     "metadata": {},
     "output_type": "execute_result"
    }
   ],
   "source": [
    "root1 = ROOT1b\n",
    "expn = \"1\"\n",
    "\n",
    "\n",
    "gene = \"HSS1_IFNG\"\n",
    "typeprobe = \"type1\"\n",
    "tss_c4 = root1 * \"Segmentation_type1/_FQ_outline/_TS_detect\"\n",
    "imagesfolder = root1 * \"/tiff3D\"\n",
    "images_pat = TSSs.get_image_patterns(tss_c4)\n",
    "d = TSSs.TSS_raw_quant(tss_c4, tss_c4, imagesfolder, 3; xy = 0.189, zx = 0.5)\n",
    "CSV.write(\"TSS_raw/\"*gene*\"_exp\"*\"$expn\"*\".csv\", d)\n",
    "tss1 = CSV.read(\"TSS_raw/\"*gene*\"_exp\"*\"$expn\"*\".csv\", DataFrame)\n",
    "\n",
    "root1 = ROOT2b\n",
    "expn = \"2\"\n",
    "\n",
    "\n",
    "gene = \"HSS1_IFNG\"\n",
    "typeprobe = \"type1\"\n",
    "tss_c4 = root1 * \"Segmentation_type1/_FQ_outline/_TS_detect\"\n",
    "imagesfolder = root1 * \"/tiff3D\"\n",
    "images_pat = TSSs.get_image_patterns(tss_c4)\n",
    "d = TSSs.TSS_raw_quant(tss_c4, tss_c4, imagesfolder, 3; xy = 0.189, zx = 0.5)\n",
    "CSV.write(\"TSS_raw/\"*gene*\"_exp\"*\"$expn\"*\".csv\", d)\n",
    "tss1 = CSV.read(\"TSS_raw/\"*gene*\"_exp\"*\"$expn\"*\".csv\", DataFrame)"
   ]
  },
  {
   "cell_type": "code",
   "execution_count": 3,
   "id": "00215e45",
   "metadata": {},
   "outputs": [
    {
     "name": "stderr",
     "output_type": "stream",
     "text": [
      "WARNING: both Pandas and DataFrames export \"DataFrame\"; uses of it in module NoLongerProblems_Pandas must be qualified\n"
     ]
    },
    {
     "data": {
      "text/plain": [
       "\"Egr2/Egr2_enh_IFNG_exp2_FQ.csv\""
      ]
     },
     "execution_count": 3,
     "metadata": {},
     "output_type": "execute_result"
    }
   ],
   "source": [
    "root1 = ROOT1a\n",
    "exp = CSV.read(\"IbidiChambers/Egr2_IFNGrescue_exp1.csv\", DataFrame)\n",
    "expn = 1\n",
    "gene = \"Egr2_intron_IFNG\"\n",
    "typeprobe = \"type1\"\n",
    "tss1 = CSV.read(\"TSS_raw/\"*gene*\"_exp\"*\"$expn\"*\".csv\", DataFrame)\n",
    "normalise_avgdot(tss1, gene, expn, typeprobe, exp; root = root1, genefolder = \"Egr2\")\n",
    "gene = \"Egr2_enh_IFNG\"\n",
    "typeprobe = \"type6\"\n",
    "tss1 = CSV.read(\"TSS_raw/\"*gene*\"_exp\"*\"$expn\"*\".csv\", DataFrame)\n",
    "normalise_avgdot(tss1, gene, expn, typeprobe, exp; root = root1, genefolder = \"Egr2\")\n",
    "\n",
    "\n",
    "#Needs to run\n",
    "root1 = ROOT2a\n",
    "exp = CSV.read(\"IbidiChambers/Egr2_IFNGrescue_exp2.csv\", DataFrame)\n",
    "expn = 2\n",
    "gene = \"Egr2_intron_IFNG\"\n",
    "typeprobe = \"type1\"\n",
    "tss1 = CSV.read(\"TSS_raw/\"*gene*\"_exp\"*\"$expn\"*\".csv\", DataFrame)\n",
    "normalise_avgdot(tss1, gene, expn, typeprobe, exp; root = root1, genefolder = \"Egr2\")\n",
    "gene = \"Egr2_enh_IFNG\"\n",
    "typeprobe = \"type6\"\n",
    "tss1 = CSV.read(\"TSS_raw/\"*gene*\"_exp\"*\"$expn\"*\".csv\", DataFrame)\n",
    "normalise_avgdot(tss1, gene, expn, typeprobe, exp; root = root1, genefolder = \"Egr2\")"
   ]
  },
  {
   "cell_type": "code",
   "execution_count": 3,
   "id": "e972c324",
   "metadata": {},
   "outputs": [
    {
     "data": {
      "text/plain": [
       "\"Il12b/HSS1_IFNG_exp2_FQ.csv\""
      ]
     },
     "execution_count": 3,
     "metadata": {},
     "output_type": "execute_result"
    }
   ],
   "source": [
    "root1 = ROOT1b\n",
    "exp = CSV.read(\"IbidiChambers/Il12b_IFNGrescue_exp1.csv\", DataFrame)\n",
    "expn = 1\n",
    "gene = \"Il12b_intron_IFNG\"\n",
    "typeprobe = \"type4\"\n",
    "tss1 = CSV.read(\"TSS_raw/\"*gene*\"_exp\"*\"$expn\"*\".csv\", DataFrame)\n",
    "normalise_avgdot(tss1, gene, expn, typeprobe, exp; root = root1, genefolder = \"Il12b\")\n",
    "gene = \"HSS1_IFNG\"\n",
    "typeprobe = \"type1\"\n",
    "tss1 = CSV.read(\"TSS_raw/\"*gene*\"_exp\"*\"$expn\"*\".csv\", DataFrame)\n",
    "normalise_avgdot(tss1, gene, expn, typeprobe, exp; root = root1, genefolder = \"Il12b\")\n",
    "root1 = ROOT2b\n",
    "exp = CSV.read(\"IbidiChambers/Il12b_IFNGrescue_exp2.csv\", DataFrame)\n",
    "expn = 2\n",
    "gene = \"Il12b_intron_IFNG\"\n",
    "typeprobe = \"type4\"\n",
    "tss1 = CSV.read(\"TSS_raw/\"*gene*\"_exp\"*\"$expn\"*\".csv\", DataFrame)\n",
    "normalise_avgdot(tss1, gene, expn, typeprobe, exp; root = root1, genefolder = \"Il12b\")\n",
    "gene = \"HSS1_IFNG\"\n",
    "typeprobe = \"type1\"\n",
    "tss1 = CSV.read(\"TSS_raw/\"*gene*\"_exp\"*\"$expn\"*\".csv\", DataFrame)\n",
    "normalise_avgdot(tss1, gene, expn, typeprobe, exp; root = root1, genefolder = \"Il12b\")"
   ]
  },
  {
   "cell_type": "code",
   "execution_count": null,
   "id": "4a6e5852",
   "metadata": {},
   "outputs": [],
   "source": []
  }
 ],
 "metadata": {
  "kernelspec": {
   "display_name": "Julia 1.6.3",
   "language": "julia",
   "name": "julia-1.6"
  },
  "language_info": {
   "file_extension": ".jl",
   "mimetype": "application/julia",
   "name": "julia",
   "version": "1.6.3"
  }
 },
 "nbformat": 4,
 "nbformat_minor": 5
}
