{
 "cells": [
  {
   "cell_type": "code",
   "execution_count": 2,
   "metadata": {},
   "outputs": [
    {
     "name": "stderr",
     "output_type": "stream",
     "text": [
      "WARNING: replacing module TSSs.\n"
     ]
    },
    {
     "data": {
      "text/plain": [
       "normalise_avgdot (generic function with 1 method)"
      ]
     },
     "execution_count": 2,
     "metadata": {},
     "output_type": "execute_result"
    }
   ],
   "source": [
    "include(\"StandardCode.jl\")\n",
    "\n",
    "function normalise_avgdot(df, genename, expn, typeprobe, ibidislide; root = pwd(), genefolder = \"Gene\", cellinfo = CellInfo)\n",
    "    dot1_r1 = TSSs.int_brightest_pixel(TSSs.read_tiff_as_gray(root * typeprobe *\"/_mRNA_AVG_ns.tif\").*25.5; radious = 1)\n",
    "    dot1_r2 = TSSs.int_brightest_pixel(TSSs.read_tiff_as_gray(root * typeprobe * \"/_mRNA_AVG_ns.tif\").*25.5; radious = 2)\n",
    "    dot1_r3 = TSSs.int_brightest_pixel(TSSs.read_tiff_as_gray(root * typeprobe * \"/_mRNA_AVG_ns.tif\").*25.5; radious = 3)\n",
    "\n",
    "    df[!,:TSS1_r1] = df[!,:locus1_int1_TSS2] ./ dot1_r1\n",
    "    df[!,:TSS1_r2] = df[!,:locus1_int2_TSS2] ./ dot1_r2\n",
    "    df[!,:TSS1_r3] = df[!,:locus1_int3_TSS2] ./ dot1_r3\n",
    "    df[!,:TSS2_r1] = df[!,:locus2_int1_TSS2] ./ dot1_r1\n",
    "    df[!,:TSS2_r2] = df[!,:locus2_int2_TSS2] ./ dot1_r2\n",
    "    df[!,:TSS2_r3] = df[!,:locus2_int3_TSS2] ./ dot1_r3\n",
    "    \n",
    "    \n",
    "    CSV.write(\"TSS_avgdot/\"*genename*\"_exp\"*\"$expn\"*\".csv\", df)\n",
    "    ibidislide[!,:Well] = [split(ii, \" (\")[1] for ii in ibidislide[!,:Well]]\n",
    "    cp_dir = root1*\"CP_results\"\n",
    "     cells1 = cellinfo(cp_dir, add_probetypes(exp));\n",
    "    exp1 = CSV.read(\"TSS_avgdot/\"*gene*\"_exp\"*\"$expn\"*\".csv\", DataFrame)\n",
    "      well = []\n",
    "    for ii in exp1[!,:Image]\n",
    "        try\n",
    "            push!(well,split(split(ii, \"S 0_\")[2], \"_X\")[1])\n",
    "        catch\n",
    "            push!(well,split(split(ii, \"_Pos\")[1], \"1_0_\")[2])\n",
    "        end\n",
    "    end\n",
    "    exp1[!,:Well] = well\n",
    "    exp1 = innerjoin(exp1, ibidislide, on= \"Well\")\n",
    "    CSV.write(genefolder*\"/\"*gene*\"_exp\"*\"$expn\"*\"_TSS.csv\", exp1)\n",
    "    CSV.write(genefolder*\"/\"*gene*\"_exp\"*\"$expn\"*\"_CP.csv\", cells1)\n",
    "    fq_dir1 = root1*typeprobe*\"/\"\n",
    "    fq1 = FQ_summary_MATURE(fq_dir1)\n",
    "    CSV.write(genefolder*\"/\"*gene*\"_exp\"*\"$expn\"*\"_FQ.csv\", fq1)\n",
    "end\n"
   ]
  },
  {
   "cell_type": "code",
   "execution_count": 13,
   "metadata": {},
   "outputs": [
    {
     "data": {
      "text/plain": [
       "normalise_avgdot2 (generic function with 1 method)"
      ]
     },
     "execution_count": 13,
     "metadata": {},
     "output_type": "execute_result"
    }
   ],
   "source": [
    "function normalise_avgdot2(df, genename, expn, typeprobe, ibidislide; root = pwd(), genefolder = \"Gene\", cellinfo = CellInfo)\n",
    "    dot1_r1 = TSSs.int_brightest_pixel(TSSs.read_tiff_as_gray(root * typeprobe *\"/_mRNA_AVG_ns.tif\").*25.5; radious = 1)\n",
    "    dot1_r2 = TSSs.int_brightest_pixel(TSSs.read_tiff_as_gray(root * typeprobe * \"/_mRNA_AVG_ns.tif\").*25.5; radious = 2)\n",
    "    dot1_r3 = TSSs.int_brightest_pixel(TSSs.read_tiff_as_gray(root * typeprobe * \"/_mRNA_AVG_ns.tif\").*25.5; radious = 3)\n",
    "\n",
    "    df[!,:TSS1_r1] = df[!,:locus1_int1_TSS2] ./ dot1_r1\n",
    "    df[!,:TSS1_r2] = df[!,:locus1_int2_TSS2] ./ dot1_r2\n",
    "    df[!,:TSS1_r3] = df[!,:locus1_int3_TSS2] ./ dot1_r3\n",
    "    df[!,:TSS2_r1] = df[!,:locus2_int1_TSS2] ./ dot1_r1\n",
    "    df[!,:TSS2_r2] = df[!,:locus2_int2_TSS2] ./ dot1_r2\n",
    "    df[!,:TSS2_r3] = df[!,:locus2_int3_TSS2] ./ dot1_r3\n",
    "    \n",
    "    \n",
    "    CSV.write(\"TSS_avgdot/\"*genename*\"_exp\"*\"$expn\"*\".csv\", df)\n",
    "    ibidislide[!,:Well] = [split(ii, \" (\")[1] for ii in ibidislide[!,:Well]]\n",
    "    cp_dir = root1*\"CP_results\"\n",
    "    cells1 = CSV.read(genefolder*\"/\"*gene*\"_exp\"*\"5\"*\"_CP.csv\", DataFrame)\n",
    "    exp1 = CSV.read(\"TSS_avgdot/\"*gene*\"_exp\"*\"$expn\"*\".csv\", DataFrame)\n",
    "    exp1[!,:Slide] = [ii[1:6] for ii in exp1[!,:Image]]\n",
    "      well = []\n",
    "    for ii in exp1[!,:Image]\n",
    "        try\n",
    "            push!(well,split(split(ii, \"S 0_\")[2], \"_X\")[1])\n",
    "        catch\n",
    "            push!(well,split(split(ii, \"_Pos\")[1], \"1_0_\")[2])\n",
    "        end\n",
    "    end\n",
    "    exp1[!,:Well] = well\n",
    "    exp1 = innerjoin(exp1, ibidislide, on= [\"Well\", \"Slide\"])\n",
    "    CSV.write(genefolder*\"/\"*gene*\"_exp\"*\"$expn\"*\"_TSS.csv\", exp1)\n",
    "    CSV.write(genefolder*\"/\"*gene*\"_exp\"*\"$expn\"*\"_CP.csv\", cells1)\n",
    "    fq_dir1 = root1*typeprobe*\"/\"\n",
    "    fq1 = CSV.read(genefolder*\"/\"*gene*\"_exp\"*\"5\"*\"_FQ.csv\", DataFrame)\n",
    "    CSV.write(genefolder*\"/\"*gene*\"_exp\"*\"$expn\"*\"_FQ.csv\", fq1)\n",
    "end"
   ]
  },
  {
   "cell_type": "code",
   "execution_count": 15,
   "metadata": {},
   "outputs": [
    {
     "data": {
      "text/plain": [
       "\"Il12bHSS1/HSS1_BD_exp5_45_FQ.csv\""
      ]
     },
     "execution_count": 15,
     "metadata": {},
     "output_type": "execute_result"
    }
   ],
   "source": [
    "ROOT5 = \"Il12bBD/Rep78/\"\n",
    "folder = \"Il12bHSS1BD\"\n",
    "root1 = ROOT5\n",
    "exp = CSV.read(\"IbidiChambers/IbidiChamber_Il12bHSS1_BD_exp78.csv\", DataFrame)\n",
    "gene = \"HSS1_BD\"\n",
    "typeprobe = \"type1\"\n",
    "expn = \"5_30\"\n",
    "tss1 = CSV.read(\"TSS_raw/\"*gene*\"_exp\"*\"$expn\"*\".csv\", DataFrame)\n",
    "normalise_avgdot2(tss1, gene, expn, typeprobe, exp; root = root1, genefolder = \"Il12bHSS1\")\n",
    "expn = \"5_35\"\n",
    "tss1 = CSV.read(\"TSS_raw/\"*gene*\"_exp\"*\"$expn\"*\".csv\", DataFrame)\n",
    "normalise_avgdot2(tss1, gene, expn, typeprobe, exp; root = root1, genefolder = \"Il12bHSS1\")\n",
    "expn = \"5_37\"\n",
    "tss1 = CSV.read(\"TSS_raw/\"*gene*\"_exp\"*\"$expn\"*\".csv\", DataFrame)\n",
    "normalise_avgdot2(tss1, gene, expn, typeprobe, exp; root = root1, genefolder = \"Il12bHSS1\")\n",
    "expn = \"5_40\"\n",
    "tss1 = CSV.read(\"TSS_raw/\"*gene*\"_exp\"*\"$expn\"*\".csv\", DataFrame)\n",
    "normalise_avgdot2(tss1, gene, expn, typeprobe, exp; root = root1, genefolder = \"Il12bHSS1\")\n",
    "expn = \"5_45\"\n",
    "tss1 = CSV.read(\"TSS_raw/\"*gene*\"_exp\"*\"$expn\"*\".csv\", DataFrame)\n",
    "normalise_avgdot2(tss1, gene, expn, typeprobe, exp; root = root1, genefolder = \"Il12bHSS1\")\n",
    "\n"
   ]
  },
  {
   "cell_type": "code",
   "execution_count": null,
   "metadata": {},
   "outputs": [],
   "source": []
  },
  {
   "cell_type": "code",
   "execution_count": null,
   "metadata": {},
   "outputs": [],
   "source": []
  },
  {
   "cell_type": "code",
   "execution_count": null,
   "metadata": {},
   "outputs": [],
   "source": []
  }
 ],
 "metadata": {
  "kernelspec": {
   "display_name": "Julia 1.6.0",
   "language": "julia",
   "name": "julia-1.6"
  },
  "language_info": {
   "file_extension": ".jl",
   "mimetype": "application/julia",
   "name": "julia",
   "version": "1.6.0"
  }
 },
 "nbformat": 4,
 "nbformat_minor": 2
}
