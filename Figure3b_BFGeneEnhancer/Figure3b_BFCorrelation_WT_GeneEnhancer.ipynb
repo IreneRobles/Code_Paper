{
 "cells": [
  {
   "cell_type": "markdown",
   "id": "07d4d6ef-c3e6-4b59-8656-d410f20c0618",
   "metadata": {},
   "source": [
    "Correlation between enhancer and promoter log2 Burst Frequencies"
   ]
  },
  {
   "cell_type": "code",
   "execution_count": null,
   "id": "1b938d69-6a13-4c53-b491-ceaa277a3474",
   "metadata": {},
   "outputs": [],
   "source": [
    "include(\"BFGeneEnhancerPlotting.jl\")\n",
    "plotgeneenhancerlog2bf(\"WT\", Genotype = \"WT\")"
   ]
  },
  {
   "cell_type": "code",
   "execution_count": null,
   "id": "20c61220-f165-47d5-ae2a-1a22f11d67b6",
   "metadata": {},
   "outputs": [],
   "source": [
    "import Pkg; Pkg.status()"
   ]
  }
 ],
 "metadata": {
  "kernelspec": {
   "display_name": "Julia 1.6.3",
   "language": "julia",
   "name": "julia-1.6"
  },
  "language_info": {
   "file_extension": ".jl",
   "mimetype": "application/julia",
   "name": "julia",
   "version": "1.6.3"
  }
 },
 "nbformat": 4,
 "nbformat_minor": 5
}
