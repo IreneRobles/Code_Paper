{
 "cells": [
  {
   "cell_type": "markdown",
   "id": "09976d33",
   "metadata": {},
   "source": [
    "### Load data"
   ]
  },
  {
   "cell_type": "code",
   "execution_count": null,
   "id": "daaa3c82",
   "metadata": {},
   "outputs": [],
   "source": [
    "using RCall\n",
    "\n",
    "bfs = include(\"DataFig5.jl\");\n",
    "include(\"Figures.jl\")"
   ]
  },
  {
   "cell_type": "markdown",
   "id": "9bfab85b",
   "metadata": {},
   "source": [
    "### All genes toguether by genotype\n",
    "r is Pearson Correlation\n",
    "\n",
    "p-value from the correlation test"
   ]
  },
  {
   "cell_type": "code",
   "execution_count": null,
   "id": "22dfa919",
   "metadata": {},
   "outputs": [],
   "source": [
    "xy = (-10, 4)\n",
    "\n",
    "dysplay_correlation2(bfs[bfs[!,:Genotype].==\"Rad21KO\", :], \"log2 BF\", \"log2 mean mRNA counts\"; style = \"Timepoint\", hue = \"Gene\", palette = nothing, xy = xy)\n",
    "plt.ylim(-7, 7); plt.xlim(-13, 0);title(\"Rad21KO\")\n",
    "squareplot()\n",
    "PrettyPlotting.savefigwithtext(\"lmplot_Rad21KO_meanmRNA_BF.svg\")\n",
    "\n",
    "dysplay_correlation2(bfs[bfs[!,:Genotype].==\"WT\", :], \"log2 BF\", \"log2 mean mRNA counts\"; style = \"Timepoint\", hue = \"Gene\", palette = nothing, xy = xy)\n",
    "plt.ylim(-7, 7); plt.xlim(-13, 0);title(\"WT\")\n",
    "squareplot()\n",
    "PrettyPlotting.savefigwithtext(\"lmplot_WT_meanmRNA_BF.svg\")\n",
    "\n",
    "xy = (2, -4)\n",
    "\n",
    "dysplay_correlation2(bfs[bfs[!,:Genotype].==\"Rad21KO\", :], \"log2 BS\", \"log2 mean mRNA counts\"; style = \"Timepoint\", hue = \"Gene\", palette = nothing, xy = xy)\n",
    "plt.ylim(-7, 7); plt.xlim(0, 5);title(\"Rad21KO\")\n",
    "squareplot()\n",
    "PrettyPlotting.savefigwithtext(\"lmplot_Rad21KO_meanmRNA_BS.svg\")\n",
    "\n",
    "dysplay_correlation2(bfs[bfs[!,:Genotype].==\"WT\", :], \"log2 BS\", \"log2 mean mRNA counts\"; style = \"Timepoint\", hue = \"Gene\", palette = nothing, xy = xy)\n",
    "plt.ylim(-7, 7); plt.xlim(0,5);title(\"WT\")\n",
    "squareplot()\n",
    "PrettyPlotting.savefigwithtext(\"lmplot_WT_meanmRNA_BS.svg\")"
   ]
  },
  {
   "cell_type": "markdown",
   "id": "cc47fb1c",
   "metadata": {},
   "source": [
    "### Each gene separately genotype comparisons\n",
    "\n",
    "r is Pearson Correlation\n",
    "\n",
    "p-value from the correlation test"
   ]
  },
  {
   "cell_type": "code",
   "execution_count": null,
   "id": "3e437760",
   "metadata": {},
   "outputs": [],
   "source": [
    "palette = [\"black\", \"red\"]\n",
    "\n",
    "for gene in [\"Il12b\", \"Ifnb1_mature\", \"Cxcl10\", \"Ifit1\"]\n",
    "\n",
    "xy = (-10, 4)\n",
    "dysplay_correlation2(bfs[bfs[!,:Gene].==gene, :], \"log2 BF\", \"log2 mean mRNA counts\";  hue = \"Genotype\", palette = palette, xy = xy)\n",
    "title(gene)\n",
    "plt.ylim(-7, 7)\n",
    "plt.xlim(-13, 0)\n",
    "figname = \"lmplot_genesymbol_\"*gene*\"_meanmRNA_BF.svg\"\n",
    "    legend_removal()\n",
    "squareplot()\n",
    "PrettyPlotting.savefigwithtext(figname)\n",
    "\n",
    "xy = (4,-4)\n",
    "dysplay_correlation2(bfs[bfs[!,:Gene].==gene, :], \"log2 BS\", \"log2 mean mRNA counts\";  hue = \"Genotype\", palette = palette, xy = xy)\n",
    "plt.ylim(-7, 7)\n",
    "plt.xlim(0, 5)\n",
    "title(gene)\n",
    "figname = \"lmplot_genesymbol_\"*gene*\"_meanmRNA_BS.svg\"\n",
    "    legend_removal()\n",
    "squareplot()\n",
    "PrettyPlotting.savefigwithtext(figname)\n",
    "end"
   ]
  },
  {
   "cell_type": "markdown",
   "id": "bedfd450",
   "metadata": {},
   "source": [
    "### Test whether the relationship between mean counts and BS/BF depends on the Genotype\n",
    "\n",
    "Two-way ANOVA with interaction, formula:\n",
    "\n",
    "log2.mean.mRNA.counts ~ log2.BF \\* Genotype + log2.BS \\* Genotype"
   ]
  },
  {
   "cell_type": "code",
   "execution_count": null,
   "id": "f30c29ce",
   "metadata": {},
   "outputs": [],
   "source": [
    "\n",
    "R\"\"\"\n",
    "tb <- (read.csv(\"meanmRNAcounts_BSBF.csv\"))\n",
    "tb <-tb[!is.na(tb$log2.BF),]\n",
    "tb <-tb[!is.infinite(tb$log2.BF),]\n",
    "\n",
    "tb <-tb[!is.na(tb$log2.BS),]\n",
    "tb <-tb[!is.infinite(tb$log2.BS),]\n",
    "tb <-tb[!is.na(tb$log2.mean.mRNA.counts),]\n",
    "tb <-tb[!is.infinite(tb$log2.mean.mRNA.counts),]\n",
    "\n",
    "gene <-\"Cxcl10\"\n",
    "subtb <-tb[tb$Gene==gene,]\n",
    "lm_TSS <- lm(log2.mean.mRNA.counts~ log2.BF*Genotype + log2.BS*Genotype, data = subtb)\n",
    "print(gene)\n",
    "print(summary(aov(lm_TSS)))\n",
    "\n",
    "gene <-\"Il12b\"\n",
    "subtb <-tb[tb$Gene==gene,]\n",
    "lm_TSS <- lm(log2.mean.mRNA.counts~ log2.BF*Genotype + log2.BS*Genotype, data = subtb)\n",
    "print(gene)\n",
    "print(summary(aov(lm_TSS)))\n",
    "\n",
    "gene <-\"Ifnb1_mature\"\n",
    "subtb <-tb[tb$Gene==gene,]\n",
    "lm_TSS <- lm(log2.mean.mRNA.counts~ log2.BF*Genotype + log2.BS*Genotype, data = subtb)\n",
    "print(gene)\n",
    "print(summary(aov(lm_TSS)))\n",
    "\n",
    "gene <-\"Ifit1\"\n",
    "subtb <-tb[tb$Gene==gene,]\n",
    "lm_TSS <- lm(log2.mean.mRNA.counts~ log2.BF*Genotype + log2.BS*Genotype, data = subtb)\n",
    "print(gene)\n",
    "print(summary(aov(lm_TSS)))\n",
    "\n",
    "\"\"\""
   ]
  },
  {
   "cell_type": "code",
   "execution_count": null,
   "id": "4c487db2-ccab-4abb-a7b6-30df8bdb731f",
   "metadata": {},
   "outputs": [],
   "source": [
    "CSV.write(\"../SourceData/Fig5.csv\",bfs)\n",
    "names(bfs)"
   ]
  },
  {
   "cell_type": "code",
   "execution_count": null,
   "id": "ec3396d1",
   "metadata": {},
   "outputs": [],
   "source": [
    "import Pkg; Pkg.status()"
   ]
  }
 ],
 "metadata": {
  "kernelspec": {
   "display_name": "Julia 1.6.3",
   "language": "julia",
   "name": "julia-1.6"
  },
  "language_info": {
   "file_extension": ".jl",
   "mimetype": "application/julia",
   "name": "julia",
   "version": "1.6.3"
  }
 },
 "nbformat": 4,
 "nbformat_minor": 5
}
