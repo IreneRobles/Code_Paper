{
 "cells": [
  {
   "cell_type": "markdown",
   "id": "cec67409-d19c-4f6b-871f-25f14d6a38a3",
   "metadata": {},
   "source": [
    "### Load data"
   ]
  },
  {
   "cell_type": "code",
   "execution_count": 1,
   "id": "1d846b1d-4c2b-43cf-b4c4-91d406ec3a12",
   "metadata": {},
   "outputs": [],
   "source": [
    "bfs = include(\"DataFig5.jl\");"
   ]
  },
  {
   "cell_type": "markdown",
   "id": "d3b7e181-75ce-497d-a34d-21cdffdd4e46",
   "metadata": {},
   "source": [
    "### All genes toguether by genotype\n",
    "r is Pearson Correlation\n",
    "\n",
    "p-value from the correlation test"
   ]
  },
  {
   "cell_type": "code",
   "execution_count": 2,
   "id": "c203c459-e309-49cf-9acc-9959c0355951",
   "metadata": {},
   "outputs": [
    {
     "ename": "LoadError",
     "evalue": "UndefVarError: dysplay_correlation2 not defined",
     "output_type": "error",
     "traceback": [
      "UndefVarError: dysplay_correlation2 not defined",
      "",
      "Stacktrace:",
      " [1] top-level scope",
      "   @ In[2]:3",
      " [2] eval",
      "   @ ./boot.jl:360 [inlined]",
      " [3] include_string(mapexpr::typeof(REPL.softscope), mod::Module, code::String, filename::String)",
      "   @ Base ./loading.jl:1116"
     ]
    }
   ],
   "source": [
    "xy = (-10, 4)\n",
    "\n",
    "dysplay_correlation2(bfs[bfs[!,:Genotype].==\"Rad21KO\", :], \"log2 BF\", \"log2 mean mRNA counts\"; style = \"Timepoint\", hue = \"Gene\", palette = nothing, xy = xy)\n",
    "plt.ylim(-7, 7); plt.xlim(-13, 0);title(\"Rad21KO\")\n",
    "squareplot()\n",
    "PrettyPlotting.savefigwithtext(\"lmplot_Rad21KO_meanmRNA_BF.svg\")\n",
    "\n",
    "dysplay_correlation2(bfs[bfs[!,:Genotype].==\"WT\", :], \"log2 BF\", \"log2 mean mRNA counts\"; style = \"Timepoint\", hue = \"Gene\", palette = nothing, xy = xy)\n",
    "plt.ylim(-7, 7); plt.xlim(-13, 0);title(\"WT\")\n",
    "squareplot()\n",
    "PrettyPlotting.savefigwithtext(\"lmplot_WT_meanmRNA_BF.svg\")\n",
    "\n",
    "xy = (2, -4)\n",
    "\n",
    "dysplay_correlation2(bfs[bfs[!,:Genotype].==\"Rad21KO\", :], \"log2 BS\", \"log2 mean mRNA counts\"; style = \"Timepoint\", hue = \"Gene\", palette = nothing, xy = xy)\n",
    "plt.ylim(-7, 7); plt.xlim(0, 5);title(\"Rad21KO\")\n",
    "squareplot()\n",
    "PrettyPlotting.savefigwithtext(\"lmplot_Rad21KO_meanmRNA_BS.svg\")\n",
    "\n",
    "dysplay_correlation2(bfs[bfs[!,:Genotype].==\"WT\", :], \"log2 BS\", \"log2 mean mRNA counts\"; style = \"Timepoint\", hue = \"Gene\", palette = nothing, xy = xy)\n",
    "plt.ylim(-7, 7); plt.xlim(0,5);title(\"WT\")\n",
    "squareplot()\n",
    "PrettyPlotting.savefigwithtext(\"lmplot_WT_meanmRNA_BS.svg\")"
   ]
  },
  {
   "cell_type": "markdown",
   "id": "b13d2365-c36a-4382-aa92-2fc84add6866",
   "metadata": {},
   "source": [
    "### Each gene separately genotype comparisons\n",
    "\n",
    "r is Pearson Correlation\n",
    "\n",
    "p-value from the correlation test"
   ]
  },
  {
   "cell_type": "code",
   "execution_count": 3,
   "id": "40739c20-07d4-4446-8b1f-4954a4d77fb5",
   "metadata": {},
   "outputs": [
    {
     "ename": "LoadError",
     "evalue": "UndefVarError: dysplay_correlation2 not defined",
     "output_type": "error",
     "traceback": [
      "UndefVarError: dysplay_correlation2 not defined",
      "",
      "Stacktrace:",
      " [1] top-level scope",
      "   @ ./In[3]:6",
      " [2] eval",
      "   @ ./boot.jl:360 [inlined]",
      " [3] include_string(mapexpr::typeof(REPL.softscope), mod::Module, code::String, filename::String)",
      "   @ Base ./loading.jl:1116"
     ]
    }
   ],
   "source": [
    "palette = [\"black\", \"red\"]\n",
    "\n",
    "for gene in [\"Il12b\", \"Ifnb1_mature\", \"Cxcl10\", \"Ifit1\"]\n",
    "\n",
    "xy = (-10, 4)\n",
    "dysplay_correlation2(bfs[bfs[!,:Gene].==gene, :], \"log2 BF\", \"log2 mean mRNA counts\";  hue = \"Genotype\", palette = palette, xy = xy)\n",
    "title(gene)\n",
    "plt.ylim(-7, 7)\n",
    "plt.xlim(-13, 0)\n",
    "figname = \"lmplot_genesymbol_\"*gene*\"_meanmRNA_BF.svg\"\n",
    "    legend_removal()\n",
    "squareplot()\n",
    "PrettyPlotting.savefigwithtext(figname)\n",
    "\n",
    "xy = (4,-4)\n",
    "dysplay_correlation2(bfs[bfs[!,:Gene].==gene, :], \"log2 BS\", \"log2 mean mRNA counts\";  hue = \"Genotype\", palette = palette, xy = xy)\n",
    "plt.ylim(-7, 7)\n",
    "plt.xlim(0, 5)\n",
    "title(gene)\n",
    "figname = \"lmplot_genesymbol_\"*gene*\"_meanmRNA_BS.svg\"\n",
    "    legend_removal()\n",
    "squareplot()\n",
    "PrettyPlotting.savefigwithtext(figname)\n",
    "end"
   ]
  },
  {
   "cell_type": "markdown",
   "id": "58c057f8-4581-40e1-a3f4-92452719fd65",
   "metadata": {},
   "source": [
    "### Test whether the relationship between mean counts and BS/BF depends on the Genotype\n",
    "\n",
    "Two-way ANOVA with interaction, formula:\n",
    "\n",
    "log2.mean.mRNA.counts ~ log2.BF \\* Genotype + log2.BS \\* Genotype"
   ]
  },
  {
   "cell_type": "code",
   "execution_count": 4,
   "id": "7a94174b-a4eb-4b89-ad57-e085a12d776e",
   "metadata": {},
   "outputs": [
    {
     "name": "stdout",
     "output_type": "stream",
     "text": [
      "[1] \"Cxcl10\"\n",
      "                 Df Sum Sq Mean Sq F value   Pr(>F)    \n",
      "log2.BF           1  91.04   91.04  71.313 2.95e-05 ***\n",
      "Genotype          1   0.40    0.40   0.315    0.590    \n",
      "log2.BS           1   1.89    1.89   1.484    0.258    \n",
      "log2.BF:Genotype  1   1.64    1.64   1.287    0.289    \n",
      "Genotype:log2.BS  1   0.19    0.19   0.150    0.709    \n",
      "Residuals         8  10.21    1.28                     \n",
      "---\n",
      "Signif. codes:  0 ‘***’ 0.001 ‘**’ 0.01 ‘*’ 0.05 ‘.’ 0.1 ‘ ’ 1\n",
      "[1] \"Il12b\"\n",
      "                 Df Sum Sq Mean Sq F value   Pr(>F)    \n",
      "log2.BF           1  52.57   52.57  18.364 0.000301 ***\n",
      "Genotype          1   0.44    0.44   0.154 0.698255    \n",
      "log2.BS           1   3.01    3.01   1.050 0.316533    \n",
      "log2.BF:Genotype  1   1.60    1.60   0.558 0.462793    \n",
      "Genotype:log2.BS  1   0.29    0.29   0.101 0.753737    \n",
      "Residuals        22  62.98    2.86                     \n",
      "---\n",
      "Signif. codes:  0 ‘***’ 0.001 ‘**’ 0.01 ‘*’ 0.05 ‘.’ 0.1 ‘ ’ 1\n",
      "[1] \"Ifnb1_mature\"\n",
      "                 Df Sum Sq Mean Sq F value   Pr(>F)    \n",
      "log2.BF           1  33.95   33.95  85.005 7.01e-06 ***\n",
      "Genotype          1   0.01    0.01   0.024   0.8809    \n",
      "log2.BS           1   2.85    2.85   7.123   0.0257 *  \n",
      "log2.BF:Genotype  1   1.69    1.69   4.233   0.0698 .  \n",
      "Genotype:log2.BS  1   0.19    0.19   0.483   0.5048    \n",
      "Residuals         9   3.59    0.40                     \n",
      "---\n",
      "Signif. codes:  0 ‘***’ 0.001 ‘**’ 0.01 ‘*’ 0.05 ‘.’ 0.1 ‘ ’ 1\n",
      "[1] \"Ifit1\"\n",
      "                 Df Sum Sq Mean Sq F value   Pr(>F)    \n",
      "log2.BF           1  78.36   78.36  85.650 3.56e-05 ***\n",
      "Genotype          2   1.01    0.50   0.551    0.599    \n",
      "log2.BS           1   0.21    0.21   0.228    0.647    \n",
      "log2.BF:Genotype  2   1.42    0.71   0.779    0.495    \n",
      "Genotype:log2.BS  2   0.02    0.01   0.011    0.989    \n",
      "Residuals         7   6.40    0.91                     \n",
      "---\n",
      "Signif. codes:  0 ‘***’ 0.001 ‘**’ 0.01 ‘*’ 0.05 ‘.’ 0.1 ‘ ’ 1\n"
     ]
    },
    {
     "data": {
      "text/plain": [
       "RObject{VecSxp}\n",
       "                 Df Sum Sq Mean Sq F value   Pr(>F)    \n",
       "log2.BF           1  78.36   78.36  85.650 3.56e-05 ***\n",
       "Genotype          2   1.01    0.50   0.551    0.599    \n",
       "log2.BS           1   0.21    0.21   0.228    0.647    \n",
       "log2.BF:Genotype  2   1.42    0.71   0.779    0.495    \n",
       "Genotype:log2.BS  2   0.02    0.01   0.011    0.989    \n",
       "Residuals         7   6.40    0.91                     \n",
       "---\n",
       "Signif. codes:  0 ‘***’ 0.001 ‘**’ 0.01 ‘*’ 0.05 ‘.’ 0.1 ‘ ’ 1\n"
      ]
     },
     "execution_count": 4,
     "metadata": {},
     "output_type": "execute_result"
    }
   ],
   "source": [
    "using RCall\n",
    "R\"\"\"\n",
    "tb <- (read.csv(\"meanmRNAcounts_BSBF.csv\"))\n",
    "tb <-tb[!is.na(tb$log2.BF),]\n",
    "tb <-tb[!is.infinite(tb$log2.BF),]\n",
    "\n",
    "tb <-tb[!is.na(tb$log2.BS),]\n",
    "tb <-tb[!is.infinite(tb$log2.BS),]\n",
    "tb <-tb[!is.na(tb$log2.mean.mRNA.counts),]\n",
    "tb <-tb[!is.infinite(tb$log2.mean.mRNA.counts),]\n",
    "\n",
    "gene <-\"Cxcl10\"\n",
    "subtb <-tb[tb$Gene==gene,]\n",
    "lm_TSS <- lm(log2.mean.mRNA.counts~ log2.BF*Genotype + log2.BS*Genotype, data = subtb)\n",
    "print(gene)\n",
    "print(summary(aov(lm_TSS)))\n",
    "\n",
    "gene <-\"Il12b\"\n",
    "subtb <-tb[tb$Gene==gene,]\n",
    "lm_TSS <- lm(log2.mean.mRNA.counts~ log2.BF*Genotype + log2.BS*Genotype, data = subtb)\n",
    "print(gene)\n",
    "print(summary(aov(lm_TSS)))\n",
    "\n",
    "gene <-\"Ifnb1_mature\"\n",
    "subtb <-tb[tb$Gene==gene,]\n",
    "lm_TSS <- lm(log2.mean.mRNA.counts~ log2.BF*Genotype + log2.BS*Genotype, data = subtb)\n",
    "print(gene)\n",
    "print(summary(aov(lm_TSS)))\n",
    "\n",
    "gene <-\"Ifit1\"\n",
    "subtb <-tb[tb$Gene==gene,]\n",
    "lm_TSS <- lm(log2.mean.mRNA.counts~ log2.BF*Genotype + log2.BS*Genotype, data = subtb)\n",
    "print(gene)\n",
    "print(summary(aov(lm_TSS)))\n",
    "\n",
    "\"\"\""
   ]
  },
  {
   "cell_type": "code",
   "execution_count": 5,
   "id": "cf6987a7-21bf-412f-997f-8cf71441966d",
   "metadata": {},
   "outputs": [
    {
     "name": "stdout",
     "output_type": "stream",
     "text": [
      "\u001b[32m\u001b[1m      Status\u001b[22m\u001b[39m `~/.julia/environments/v1.6/Project.toml`\n",
      " \u001b[90m [7e6ae17a] \u001b[39mBioSequences v2.0.5\n",
      " \u001b[90m [336ed68f] \u001b[39mCSV v0.9.11\n",
      " \u001b[90m [8f4d0f93] \u001b[39mConda v1.5.2\n",
      " \u001b[90m [a93c6f00] \u001b[39mDataFrames v1.2.2\n",
      " \u001b[90m [31c24e10] \u001b[39mDistributions v0.25.28\n",
      " \u001b[90m [c2308a5c] \u001b[39mFASTX v1.2.0\n",
      " \u001b[90m [09f84164] \u001b[39mHypothesisTests v0.10.6\n",
      " \u001b[90m [7073ff75] \u001b[39mIJulia v1.23.2\n",
      " \u001b[90m [916415d5] \u001b[39mImages v0.24.1\n",
      " \u001b[90m [f8716d33] \u001b[39mMultipleTesting v0.5.0\n",
      " \u001b[90m [92933f4c] \u001b[39mProgressMeter v1.7.1\n",
      " \u001b[90m [d330b81b] \u001b[39mPyPlot v2.10.0\n",
      " \u001b[90m [6f49c342] \u001b[39mRCall v0.13.12\n",
      " \u001b[90m [d2ef9438] \u001b[39mSeaborn v1.0.0\n",
      " \u001b[90m [2913bbd2] \u001b[39mStatsBase v0.33.13\n"
     ]
    }
   ],
   "source": [
    "import Pkg; Pkg.status()"
   ]
  }
 ],
 "metadata": {
  "kernelspec": {
   "display_name": "Julia 1.6.3",
   "language": "julia",
   "name": "julia-1.6"
  },
  "language_info": {
   "file_extension": ".jl",
   "mimetype": "application/julia",
   "name": "julia",
   "version": "1.6.3"
  }
 },
 "nbformat": 4,
 "nbformat_minor": 5
}
