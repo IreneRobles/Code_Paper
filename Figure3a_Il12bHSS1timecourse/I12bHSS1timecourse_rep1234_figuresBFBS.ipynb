{
 "cells": [
  {
   "cell_type": "markdown",
   "metadata": {},
   "source": [
    "### Load data"
   ]
  },
  {
   "cell_type": "code",
   "execution_count": 4,
   "metadata": {},
   "outputs": [
    {
     "name": "stdout",
     "output_type": "stream",
     "text": [
      "Total number of cells Il12b_intron_timecourse analysed: 17038\n",
      "Total number of cells HSS1_timecourse analysed: 14759\n"
     ]
    },
    {
     "name": "stderr",
     "output_type": "stream",
     "text": [
      "WARNING: replacing module Cuartero2018.\n",
      "WARNING: replacing module mm9.\n",
      "WARNING: replacing module TSSs.\n"
     ]
    }
   ],
   "source": [
    "ENV[\"Code\"] = \"../../Code\"\n",
    "for folder in readdir(ENV[\"Code\"]); push!(LOAD_PATH, normpath(ENV[\"Code\"], folder));end\n",
    "\n",
    "include(ENV[\"Code\"]*\"/../Code_Paper/Databases/Cuartero2018.jl\")\n",
    "include(ENV[\"Code\"]*\"/../Code_Paper/Databases/mm9.jl\")\n",
    "include(ENV[\"Code\"]*\"/../Code_Paper/Figure1e_BSBF_WT_LPS/meanmRNAcounts_BSBF.jl\")\n",
    "include(\"HiddenCode.jl\")\n",
    "include(\"HiddenCode2.jl\")\n",
    "\n",
    "AnalysisName = \"Il12bHSS1\"\n",
    "ehnname = \"HSS1_timecourse\"\n",
    "intronname = \"Il12b_intron_timecourse\"\n",
    "all_ehn = get_genedata(ehnname)\n",
    "all_gene = get_genedata(intronname)\n",
    "ncells = cells_per_replicate(all_ehn, AnalysisName = AnalysisName)\n",
    "bool1 = all_ehn[!,:Sample].==\"WT_60\"\n",
    "bool2 = all_ehn[!,:Rep].==3\n",
    "bool = .!(bool1.*bool2)\n",
    "all_ehn = all_ehn[bool, :]\n",
    "\n",
    "ncells = cells_per_replicate(all_ehn, AnalysisName = AnalysisName)\n",
    "println(\"Total number of cells $intronname analysed: \"*string(size(all_gene)[1]))\n",
    "println(\"Total number of cells $ehnname analysed: \"*string(size(all_ehn)[1]))"
   ]
  },
  {
   "cell_type": "markdown",
   "metadata": {},
   "source": [
    "### Make panels"
   ]
  },
  {
   "cell_type": "code",
   "execution_count": null,
   "metadata": {},
   "outputs": [
    {
     "name": "stderr",
     "output_type": "stream",
     "text": [
      "┌ Warning: RCall.jl: Warning in (x[1L, 1L, ] + x[2L, 2L, ]) * x[1L, 2L, ] * x[2L, 1L, ] + (x[1L,  :\n",
      "│   NAs produced by integer overflow\n",
      "│ Warning in (x[1L, 2L, ] + x[2L, 1L, ]) * x[1L, 2L, ] * x[2L, 1L, ] :\n",
      "│   NAs produced by integer overflow\n",
      "└ @ RCall /Users/irr15/.julia/packages/RCall/iMDW2/src/io.jl:160\n",
      "┌ Warning: RCall.jl: Warning in (x[1L, 1L, ] + x[2L, 2L, ]) * x[1L, 2L, ] * x[2L, 1L, ] + (x[1L,  :\n",
      "│   NAs produced by integer overflow\n",
      "│ Warning in (x[1L, 2L, ] + x[2L, 1L, ]) * x[1L, 2L, ] * x[2L, 1L, ] :\n",
      "│   NAs produced by integer overflow\n",
      "└ @ RCall /Users/irr15/.julia/packages/RCall/iMDW2/src/io.jl:160\n",
      "┌ Warning: RCall.jl: Warning in (x[1L, 1L, ] + x[2L, 2L, ]) * x[1L, 1L, ] * x[2L, 2L, ] :\n",
      "│   NAs produced by integer overflow\n",
      "│ Warning in (x[1L, 2L, ] + x[2L, 1L, ]) * x[1L, 1L, ] * x[2L, 2L, ] :\n",
      "│   NAs produced by integer overflow\n",
      "└ @ RCall /Users/irr15/.julia/packages/RCall/iMDW2/src/io.jl:160\n",
      "┌ Warning: RCall.jl: Warning in (x[1L, 1L, ] + x[2L, 2L, ]) * x[1L, 1L, ] * x[2L, 2L, ] :\n",
      "│   NAs produced by integer overflow\n",
      "│ Warning in (x[1L, 2L, ] + x[2L, 1L, ]) * x[1L, 1L, ] * x[2L, 2L, ] :\n",
      "│   NAs produced by integer overflow\n",
      "└ @ RCall /Users/irr15/.julia/packages/RCall/iMDW2/src/io.jl:160\n"
     ]
    }
   ],
   "source": [
    "include(\"Il12bHSS1_BFplot.jl\")\n",
    "include(\"Il12bHSS1_BSplot.jl\")\n",
    "subplot(3,2,5)\n",
    "plot_BF_enhancer_gene_as_percent_max(BFs_g, BFs_e, genename = \"Il12b\", enhname = \"Il12b HSS1\", ci = 95)\n",
    "title(\"CI = 95\")\n",
    "legend_removal()\n",
    "subplot(3,2,6)\n",
    "plot_BF_enhancer_gene_as_percent_max(BFs_g, BFs_e, genename = \"Il12b\", enhname = \"Il12b HSS1\", ci = 70)\n",
    "title(\"CI = 70\")\n",
    "savefigwithtext(\"BSBF_Il12bHSS1timecourse.svg\")"
   ]
  },
  {
   "cell_type": "code",
   "execution_count": null,
   "metadata": {},
   "outputs": [],
   "source": [
    "import Pkg; Pkg.status()"
   ]
  }
 ],
 "metadata": {
  "kernelspec": {
   "display_name": "Julia 1.6.3",
   "language": "julia",
   "name": "julia-1.6"
  },
  "language_info": {
   "file_extension": ".jl",
   "mimetype": "application/julia",
   "name": "julia",
   "version": "1.6.3"
  }
 },
 "nbformat": 4,
 "nbformat_minor": 4
}
