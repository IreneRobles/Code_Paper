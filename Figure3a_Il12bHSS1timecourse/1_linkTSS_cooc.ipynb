{
 "cells": [
  {
   "cell_type": "markdown",
   "metadata": {},
   "source": [
    "# Il12b HSS1 timecourse"
   ]
  },
  {
   "cell_type": "code",
   "execution_count": 5,
   "metadata": {},
   "outputs": [
    {
     "name": "stderr",
     "output_type": "stream",
     "text": [
      "WARNING: replacing module TSSs.\n"
     ]
    },
    {
     "data": {
      "text/plain": [
       "normalise_avgdot (generic function with 1 method)"
      ]
     },
     "execution_count": 5,
     "metadata": {},
     "output_type": "execute_result"
    }
   ],
   "source": [
    "ENV[\"Code\"] = \"../../Code\"\n",
    "for folder in readdir(ENV[\"Code\"]); push!(LOAD_PATH, normpath(ENV[\"Code\"], folder));end\n",
    "\n",
    "using CSV, DataFrames\n",
    "using NoLongerProblems_FileHandling\n",
    "using NoLongerProblems\n",
    "using NoLongerProblems_Pandas\n",
    "using MultipleTesting,HypothesisTests,Statistics \n",
    "using Random,Seaborn,PyPlot,PrettyPlotting\n",
    "import Pandas\n",
    "\n",
    "include(\"../TSS_quantification/StandardCode.jl\")"
   ]
  },
  {
   "cell_type": "markdown",
   "metadata": {},
   "source": [
    "Load data"
   ]
  },
  {
   "cell_type": "code",
   "execution_count": 6,
   "metadata": {},
   "outputs": [
    {
     "name": "stderr",
     "output_type": "stream",
     "text": [
      "\u001b[32mProgress:  84%|██████████████████████████████████▌      |  ETA: 0:00:00\u001b[39m"
     ]
    },
    {
     "data": {
      "text/plain": [
       "\"../CompleteSets/linkedlocus/Il12b_intron_timecourse__HSS1_timecourse__linked200nm_noz.csv\""
      ]
     },
     "execution_count": 6,
     "metadata": {},
     "output_type": "execute_result"
    }
   ],
   "source": [
    "AnalysisName= \"../CompleteSets/GeneData\"\n",
    "\n",
    "ehnname = \"HSS1_timecourse\"\n",
    "intronname = \"Il12b_intron_timecourse\"\n",
    "\n",
    "suff = \"_noz\"\n",
    "genefolder = AnalysisName\n",
    "nascent = intronname\n",
    "ehn = ehnname\n",
    "TSSs.link_TSS_GENE_ENHANCER(nascent,ehn, genefolder, suffix = suff, max_distance = 1, z = false)\n",
    "TSSs.link_TSS_GENE_ENHANCER(nascent,ehn, genefolder, suffix = suff, max_distance = 2, z = false)\n",
    "TSSs.link_TSS_GENE_ENHANCER(nascent,ehn, genefolder, suffix = suff, max_distance = 3, z = false)\n",
    "TSSs.link_TSS_GENE_ENHANCER(nascent,ehn, genefolder, suffix = suff, max_distance = 4, z = false)\n",
    "TSSs.link_TSS_GENE_ENHANCER(nascent,ehn, genefolder, suffix = suff, max_distance = 5, z = false)\n",
    "TSSs.link_TSS_GENE_ENHANCER(nascent,ehn, genefolder, suffix = suff, max_distance = 6, z = false)\n",
    "TSSs.link_TSS_GENE_ENHANCER(nascent,ehn, genefolder, suffix = suff, max_distance = 200, z = false)"
   ]
  },
  {
   "cell_type": "code",
   "execution_count": 7,
   "metadata": {},
   "outputs": [
    {
     "name": "stderr",
     "output_type": "stream",
     "text": [
      "\u001b[32mProgress: 100%|█████████████████████████████████████████| Time: 0:00:01\u001b[39m\n",
      "\u001b[32mProgress: 100%|█████████████████████████████████████████| Time: 0:00:01\u001b[39m\n"
     ]
    },
    {
     "data": {
      "text/plain": [
       "\"../CompleteSets/linkedlocus/Il12b_intron__HSS1__linked200nm_noz.csv\""
      ]
     },
     "execution_count": 7,
     "metadata": {},
     "output_type": "execute_result"
    }
   ],
   "source": [
    "AnalysisName= \"../CompleteSets/GeneData\"\n",
    "ehnname = \"HSS1\"\n",
    "intronname = \"Il12b_intron\"\n",
    "suff = \"_noz\"\n",
    "genefolder = AnalysisName\n",
    "nascent = intronname\n",
    "ehn = ehnname\n",
    "TSSs.link_TSS_GENE_ENHANCER(nascent,ehn, genefolder, suffix = suff, max_distance = 1, z = false)\n",
    "TSSs.link_TSS_GENE_ENHANCER(nascent,ehn, genefolder, suffix = suff, max_distance = 200, z = false)"
   ]
  },
  {
   "cell_type": "code",
   "execution_count": 16,
   "metadata": {},
   "outputs": [
    {
     "name": "stderr",
     "output_type": "stream",
     "text": [
      "\u001b[32m\u001b[1m   Resolving\u001b[22m\u001b[39m package versions...\n",
      "\u001b[32m\u001b[1m  No Changes\u001b[22m\u001b[39m to `~/.julia/environments/v1.6/Project.toml`\n",
      "\u001b[32m\u001b[1m  No Changes\u001b[22m\u001b[39m to `~/.julia/environments/v1.6/Manifest.toml`\n",
      "WARNING: replacing module TSSs.\n",
      "\u001b[32mProgress: 100%|█████████████████████████████████████████| Time: 0:00:59\u001b[39m\n",
      "\u001b[32mProgress: 100%|█████████████████████████████████████████| Time: 0:00:58\u001b[39m\n",
      "\u001b[32mProgress: 100%|█████████████████████████████████████████| Time: 0:01:00\u001b[39m\n",
      "\u001b[32mProgress: 100%|█████████████████████████████████████████| Time: 0:01:01\u001b[39m\n",
      "\u001b[32mProgress: 100%|█████████████████████████████████████████| Time: 0:01:02\u001b[39m\n",
      "\u001b[32mProgress: 100%|█████████████████████████████████████████| Time: 0:01:01\u001b[39m\n",
      "\u001b[32mProgress: 100%|█████████████████████████████████████████| Time: 0:01:01\u001b[39m\n"
     ]
    }
   ],
   "source": [
    "include(\"HiddenCode.jl\")\n",
    "\n",
    "for suff in [\n",
    "        \"1um_noz\",\"2um_noz\",\"3um_noz\",\"4um_noz\",\"5um_noz\",\"6um_noz\",\"200um_noz\"]\n",
    "\n",
    "genefolder = \"../CompleteSets/linkedlocus\"\n",
    "nascent = \"Il12b_intron_timecourse\"\n",
    "ehn = \"HSS1_timecourse\"\n",
    "il12b = DataFrames.DataFrame(CSV.File(normpath(genefolder, nascent*\"__\"*ehn*\"__linked\"*suff*\".csv\")))\n",
    "\n",
    "genefolder = \"../CompleteSets/linkedlocus\"\n",
    "probe1= \"Il12b_intron_timecourse\"\n",
    "probe2 = \"HSS1_timecourse\"\n",
    "tb = il12b\n",
    "ENV[\"COLUMNS\"] = 1000\n",
    "cooc = calculate_coocurrences(tb, probe1, probe2; limit1 = 1, limit2 = 0,  col = :Sample_Rep)\n",
    "cooc = calculate_randoms(cooc, probe1, probe2)\n",
    "cooc = calculate_empirical_pvalues(cooc, probe1, probe2; iterations = 100000)\n",
    "    CSV.write(normpath(genefolder, probe1*\"__\"*probe2*\"__coocurrences\"*suff*\".csv\"), cooc)\n",
    "\n",
    "end"
   ]
  },
  {
   "cell_type": "code",
   "execution_count": 17,
   "metadata": {},
   "outputs": [
    {
     "name": "stdout",
     "output_type": "stream",
     "text": [
      "\u001b[32m\u001b[1m      Status\u001b[22m\u001b[39m `~/.julia/environments/v1.6/Project.toml`\n",
      " \u001b[90m [336ed68f] \u001b[39m\u001b[37mCSV v0.9.11\u001b[39m\n",
      " \u001b[90m [a93c6f00] \u001b[39m\u001b[37mDataFrames v0.22.7\u001b[39m\n",
      " \u001b[90m [31c24e10] \u001b[39m\u001b[37mDistributions v0.23.12\u001b[39m\n",
      " \u001b[90m [53c48c17] \u001b[39m\u001b[37mFixedPointNumbers v0.8.4\u001b[39m\n",
      " \u001b[90m [09f84164] \u001b[39m\u001b[37mHypothesisTests v0.10.2\u001b[39m\n",
      " \u001b[90m [7073ff75] \u001b[39m\u001b[37mIJulia v1.23.2\u001b[39m\n",
      " \u001b[90m [6a3955dd] \u001b[39m\u001b[37mImageFiltering v0.6.21\u001b[39m\n",
      " \u001b[90m [6218d12a] \u001b[39m\u001b[37mImageMagick v1.2.2\u001b[39m\n",
      " \u001b[90m [86fae568] \u001b[39m\u001b[37mImageView v0.10.13\u001b[39m\n",
      " \u001b[90m [916415d5] \u001b[39m\u001b[37mImages v0.23.3\u001b[39m\n",
      " \u001b[90m [4138dd39] \u001b[39m\u001b[37mJLD v0.12.3\u001b[39m\n",
      " \u001b[90m [093fc24a] \u001b[39m\u001b[37mLightGraphs v1.3.5\u001b[39m\n",
      " \u001b[90m [10e44e05] \u001b[39m\u001b[37mMATLAB v0.8.0\u001b[39m\n",
      " \u001b[90m [f8716d33] \u001b[39m\u001b[37mMultipleTesting v0.4.1\u001b[39m\n",
      " \u001b[90m [eadc2687] \u001b[39m\u001b[37mPandas v1.4.0\u001b[39m\n",
      " \u001b[90m [91a5bcdd] \u001b[39m\u001b[37mPlots v1.21.2\u001b[39m\n",
      " \u001b[90m [92933f4c] \u001b[39m\u001b[37mProgressMeter v1.5.0\u001b[39m\n",
      " \u001b[90m [438e738f] \u001b[39m\u001b[37mPyCall v1.92.2\u001b[39m\n",
      " \u001b[90m [d330b81b] \u001b[39m\u001b[37mPyPlot v2.9.0\u001b[39m\n",
      " \u001b[90m [6f49c342] \u001b[39m\u001b[37mRCall v0.13.10\u001b[39m\n",
      " \u001b[90m [3646fa90] \u001b[39m\u001b[37mScikitLearn v0.6.3\u001b[39m\n",
      " \u001b[90m [d2ef9438] \u001b[39m\u001b[37mSeaborn v0.4.1\u001b[39m\n",
      " \u001b[90m [2913bbd2] \u001b[39m\u001b[37mStatsBase v0.33.10\u001b[39m\n"
     ]
    }
   ],
   "source": [
    "import Pkg; Pkg.status()"
   ]
  }
 ],
 "metadata": {
  "kernelspec": {
   "display_name": "Julia 1.6.0",
   "language": "julia",
   "name": "julia-1.6"
  },
  "language_info": {
   "file_extension": ".jl",
   "mimetype": "application/julia",
   "name": "julia",
   "version": "1.6.0"
  }
 },
 "nbformat": 4,
 "nbformat_minor": 2
}
