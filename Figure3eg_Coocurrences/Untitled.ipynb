{
 "cells": [
  {
   "cell_type": "code",
   "execution_count": null,
   "id": "0131bd67-96a5-414b-8dbc-e5a1cd765532",
   "metadata": {},
   "outputs": [],
   "source": [
    "include(\"HiddenCode.jl\")\n",
    "include(\"BF_coocurrences_allgenesenhancers.jl\")"
   ]
  },
  {
   "cell_type": "code",
   "execution_count": null,
   "id": "ebca361f-f19a-4510-bfea-bdb32a44ff54",
   "metadata": {},
   "outputs": [],
   "source": [
    "figure(figsize = (15, 6))\n",
    "f = cooc_fig_line\n",
    "by = \"ByCell\"\n",
    "\n",
    "subplot(2, 5, 2)\n",
    "\n",
    "probe1= \"Il12b_intron\"\n",
    "probe2 = \"HSS1\"\n",
    "t = cooc_il12b\n",
    "f(t, probe1, probe2, by = by)\n",
    "legend_removal()\n",
    "\n",
    "subplot(2, 5, 3)\n",
    "\n",
    "probe1= \"Ifnb1forL2\"\n",
    "probe2 = \"L2\"\n",
    "t = cooc_ifnb1\n",
    "f(t, probe1, probe2, by = by)\n",
    "legend_removal()\n",
    "title(\"Ifnb1-L2\")\n",
    "\n",
    "subplot(2, 5, 4)\n",
    "\n",
    "probe1= \"Prdm1_intron\"\n",
    "probe2 = \"Prdm1_enh\"\n",
    "t = cooc_prdm1\n",
    "f(t, probe1, probe2, by = by)\n",
    "\n",
    "\n",
    "by = \"ByLocus\"\n",
    "\n",
    "\n",
    "subplot(2, 5, 7)\n",
    "\n",
    "probe1= \"Il12b_intron\"\n",
    "probe2 = \"HSS1\"\n",
    "t = cooc_il12b\n",
    "f(t, probe1, probe2, by = by)\n",
    "legend_removal()\n",
    "subplot(2, 5, 8)\n",
    "\n",
    "probe1= \"Ifnb1forL2\"\n",
    "probe2 = \"L2\"\n",
    "t = cooc_ifnb1\n",
    "f(t, probe1, probe2, by = by)\n",
    "legend_removal()\n",
    "title(\"Ifnb1-L2\")\n",
    "\n",
    "legend_removal()\n",
    "\n",
    "subplot(2, 5, 9)\n",
    "\n",
    "probe1= \"Prdm1_intron\"\n",
    "probe2 = \"Prdm1_enh\"\n",
    "t = cooc_prdm1\n",
    "f(t, probe1, probe2, by = by)\n",
    "\n",
    "\n",
    "plt.tight_layout()\n",
    "\n"
   ]
  },
  {
   "cell_type": "code",
   "execution_count": null,
   "id": "ba431070-61f2-49ba-bf02-ec15068ca704",
   "metadata": {},
   "outputs": [],
   "source": [
    "import Pkg; Pkg.status()"
   ]
  },
  {
   "cell_type": "code",
   "execution_count": null,
   "id": "928559ea-a601-4cfd-8c8f-3c45fb956b2a",
   "metadata": {},
   "outputs": [],
   "source": []
  }
 ],
 "metadata": {
  "kernelspec": {
   "display_name": "Julia 1.6.3",
   "language": "julia",
   "name": "julia-1.6"
  },
  "language_info": {
   "file_extension": ".jl",
   "mimetype": "application/julia",
   "name": "julia",
   "version": "1.6.3"
  }
 },
 "nbformat": 4,
 "nbformat_minor": 5
}
