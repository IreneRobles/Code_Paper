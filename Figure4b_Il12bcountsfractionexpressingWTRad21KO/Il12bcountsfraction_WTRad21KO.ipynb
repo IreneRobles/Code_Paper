{
 "cells": [
  {
   "cell_type": "code",
   "execution_count": null,
   "id": "c0760036-777f-40c0-b205-16a34a2c5740",
   "metadata": {},
   "outputs": [],
   "source": [
    "ENV[\"Code\"] = \"../../Code\"\n",
    "\n",
    "for ii in readdir(ENV[\"Code\"])\n",
    "push!(LOAD_PATH, string(ENV[\"Code\"],\"/\", ii));\n",
    "end\n",
    "\n",
    "include(\"../Code/HiddenCode_BSBF.jl\")\n",
    "include(\"../Code/meanmRNAcounts_BSBF.jl\")\n",
    "include(\"PlottingFunctions.jl\")"
   ]
  },
  {
   "cell_type": "code",
   "execution_count": null,
   "id": "2fedc594-4bc0-45b1-bc91-7489eb7a0d71",
   "metadata": {},
   "outputs": [],
   "source": [
    "gene = \"Il12b_intron_original\"\n",
    "tb = get_genedata(gene);\n",
    "lim_exp = 5\n",
    "include(\"RunTests.jl\")\n",
    "ps = adjust([do_mantelhaen(summary1, \"WT_0\", \"Rad21KO_0\")[1],\n",
    "    do_mantelhaen(summary1, \"WT_60\", \"Rad21KO_60\")[1],\n",
    "    do_mantelhaen(summary1, \"WT_90\", \"Rad21KO_90\")[1],\n",
    "    do_mantelhaen(summary1, \"WT_120\", \"Rad21KO_120\")[1]], Bonferroni())\n"
   ]
  },
  {
   "cell_type": "code",
   "execution_count": null,
   "id": "522c57ce-ce32-4948-ade3-6326e6e34896",
   "metadata": {},
   "outputs": [],
   "source": [
    "subplot(2,1,1)\n",
    "Il12b_maturefig_expressing()\n",
    "legend_out_of_plot()\n",
    "subplot(2,1,2)\n",
    "Il12b_Fexpcells_radwt()\n",
    "legend_out_of_plot()\n",
    "plt.tight_layout()\n",
    "savefigwithtext(\"Il12bExpressingCellsWTRad21KO.svg\")"
   ]
  },
  {
   "cell_type": "code",
   "execution_count": null,
   "id": "ae695a57-4428-467f-91c1-7bb93cfe0203",
   "metadata": {},
   "outputs": [],
   "source": [
    "import Pkg;Pkg.status()"
   ]
  }
 ],
 "metadata": {
  "kernelspec": {
   "display_name": "Julia 1.6.3",
   "language": "julia",
   "name": "julia-1.6"
  },
  "language_info": {
   "file_extension": ".jl",
   "mimetype": "application/julia",
   "name": "julia",
   "version": "1.6.3"
  }
 },
 "nbformat": 4,
 "nbformat_minor": 5
}
