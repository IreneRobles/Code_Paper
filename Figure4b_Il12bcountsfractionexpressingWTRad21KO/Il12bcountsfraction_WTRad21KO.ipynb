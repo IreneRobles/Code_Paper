{
 "cells": [
  {
   "cell_type": "code",
   "execution_count": 2,
   "id": "c0760036-777f-40c0-b205-16a34a2c5740",
   "metadata": {},
   "outputs": [
    {
     "data": {
      "text/plain": [
       "do_mantelhaen (generic function with 1 method)"
      ]
     },
     "execution_count": 2,
     "metadata": {},
     "output_type": "execute_result"
    }
   ],
   "source": [
    "ENV[\"Code\"] = \"../../Code\"\n",
    "\n",
    "for ii in readdir(ENV[\"Code\"])\n",
    "push!(LOAD_PATH, string(ENV[\"Code\"],\"/\", ii));\n",
    "end\n",
    "\n",
    "include(\"../Code/HiddenCode_BSBF.jl\")"
   ]
  },
  {
   "cell_type": "code",
   "execution_count": null,
   "id": "2fedc594-4bc0-45b1-bc91-7489eb7a0d71",
   "metadata": {},
   "outputs": [],
   "source": [
    "tb = CSV.read(\"../LPSresponseChangesBFBS/GeneData/Il12b_intron_original.csv\", DataFrames.DataFrame);\n",
    "\n"
   ]
  }
 ],
 "metadata": {
  "kernelspec": {
   "display_name": "Julia 1.6.3",
   "language": "julia",
   "name": "julia-1.6"
  },
  "language_info": {
   "file_extension": ".jl",
   "mimetype": "application/julia",
   "name": "julia",
   "version": "1.6.3"
  }
 },
 "nbformat": 4,
 "nbformat_minor": 5
}
