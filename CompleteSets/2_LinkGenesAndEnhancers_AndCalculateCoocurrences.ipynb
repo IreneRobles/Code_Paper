{
 "cells": [
  {
   "cell_type": "code",
   "execution_count": 11,
   "metadata": {},
   "outputs": [
    {
     "name": "stderr",
     "output_type": "stream",
     "text": [
      "WARNING: replacing module TSSs.\n"
     ]
    },
    {
     "data": {
      "text/plain": [
       "normalise_avgdot (generic function with 1 method)"
      ]
     },
     "execution_count": 11,
     "metadata": {},
     "output_type": "execute_result"
    }
   ],
   "source": [
    "ENV[\"Code\"] = \"../../Code\"\n",
    "for folder in readdir(ENV[\"Code\"]); push!(LOAD_PATH, normpath(ENV[\"Code\"], folder));end\n",
    "\n",
    "using CSV, DataFrames, Distributions\n",
    "using NoLongerProblems_FileHandling\n",
    "using NoLongerProblems, RCall\n",
    "using NoLongerProblems_Pandas\n",
    "using MultipleTesting,HypothesisTests,Statistics \n",
    "using Random,Seaborn,PyPlot,PrettyPlotting\n",
    "import Pandas\n",
    "\n",
    "include(\"../TSS_quantification/StandardCode.jl\")\n",
    "include(\"CoocurrencesCode.jl\") "
   ]
  },
  {
   "cell_type": "code",
   "execution_count": 2,
   "metadata": {},
   "outputs": [
    {
     "name": "stderr",
     "output_type": "stream",
     "text": [
      "\u001b[32mProgress: 100%|█████████████████████████████████████████| Time: 0:00:03\u001b[39m\n",
      "\u001b[32mProgress: 100%|█████████████████████████████████████████| Time: 0:00:01\u001b[39m\n",
      "\u001b[32mProgress: 100%|█████████████████████████████████████████| Time: 0:00:01\u001b[39m\n",
      "\u001b[32mProgress: 100%|█████████████████████████████████████████| Time: 0:00:01\u001b[39m\n",
      "\u001b[32mProgress: 100%|█████████████████████████████████████████| Time: 0:00:01\u001b[39m\n",
      "\u001b[32mProgress: 100%|█████████████████████████████████████████| Time: 0:00:01\u001b[39m\n",
      "\u001b[32mProgress: 100%|█████████████████████████████████████████| Time: 0:00:01\u001b[39m\n"
     ]
    },
    {
     "data": {
      "text/plain": [
       "\"../CompleteSets/linkedlocus/Egr2_intron__Egr2_enh__linked200um_noz.csv\""
      ]
     },
     "execution_count": 2,
     "metadata": {},
     "output_type": "execute_result"
    }
   ],
   "source": [
    "suff = \"_noz\"\n",
    "genefolder = \"../CompleteSets/GeneData/\"\n",
    "nascent = \"Egr2_intron\"\n",
    "ehn = \"Egr2_enh\"\n",
    "TSSs.link_TSS_GENE_ENHANCER(nascent,ehn, genefolder, suffix = suff, max_distance = 1, z = false)\n",
    "TSSs.link_TSS_GENE_ENHANCER(nascent,ehn, genefolder, suffix = suff, max_distance = 2, z = false)\n",
    "TSSs.link_TSS_GENE_ENHANCER(nascent,ehn, genefolder, suffix = suff, max_distance = 3, z = false)\n",
    "TSSs.link_TSS_GENE_ENHANCER(nascent,ehn, genefolder, suffix = suff, max_distance = 4, z = false)\n",
    "TSSs.link_TSS_GENE_ENHANCER(nascent,ehn, genefolder, suffix = suff, max_distance = 5, z = false)\n",
    "TSSs.link_TSS_GENE_ENHANCER(nascent,ehn, genefolder, suffix = suff, max_distance = 6, z = false)\n",
    "TSSs.link_TSS_GENE_ENHANCER(nascent,ehn, genefolder, suffix = suff, max_distance = 200, z = false)"
   ]
  },
  {
   "cell_type": "code",
   "execution_count": null,
   "metadata": {},
   "outputs": [
    {
     "name": "stderr",
     "output_type": "stream",
     "text": [
      "\u001b[32mProgress: 100%|█████████████████████████████████████████| Time: 0:00:01\u001b[39m\n",
      "\u001b[32mProgress: 100%|█████████████████████████████████████████| Time: 0:00:00\u001b[39m\n",
      "\u001b[32mProgress: 100%|█████████████████████████████████████████| Time: 0:00:01\u001b[39m\n",
      "\u001b[32mProgress: 100%|█████████████████████████████████████████| Time: 0:00:01\u001b[39m\n",
      "\u001b[32mProgress: 100%|█████████████████████████████████████████| Time: 0:00:01\u001b[39m\n",
      "\u001b[32mProgress: 100%|█████████████████████████████████████████| Time: 0:00:00\u001b[39m\n"
     ]
    }
   ],
   "source": [
    "nascent = \"Ifnb1forL2\"\n",
    "ehn = \"L2\"\n",
    "genefolder = \"../CompleteSets/GeneData/\"\n",
    "TSSs.link_TSS_GENE_ENHANCER(nascent,ehn, genefolder, suffix = suff, max_distance = 1, z = false)\n",
    "TSSs.link_TSS_GENE_ENHANCER(nascent,ehn, genefolder, suffix = suff, max_distance = 2, z = false)\n",
    "TSSs.link_TSS_GENE_ENHANCER(nascent,ehn, genefolder, suffix = suff, max_distance = 3, z = false)\n",
    "TSSs.link_TSS_GENE_ENHANCER(nascent,ehn, genefolder, suffix = suff, max_distance = 4, z = false)\n",
    "TSSs.link_TSS_GENE_ENHANCER(nascent,ehn, genefolder, suffix = suff, max_distance = 5, z = false)\n",
    "TSSs.link_TSS_GENE_ENHANCER(nascent,ehn, genefolder, suffix = suff, max_distance = 6, z = false)\n",
    "TSSs.link_TSS_GENE_ENHANCER(nascent,ehn, genefolder, suffix = suff, max_distance = 200, z = false)"
   ]
  },
  {
   "cell_type": "code",
   "execution_count": null,
   "metadata": {},
   "outputs": [],
   "source": [
    "nascent = \"Il12b_intron\"\n",
    "genefolder = \"../CompleteSets/GeneData/\"\n",
    "\n",
    "\n",
    "ehn = \"HSS1\"\n",
    "TSSs.link_TSS_GENE_ENHANCER(nascent,ehn, genefolder, suffix = suff, max_distance = 1, z = false)\n",
    "TSSs.link_TSS_GENE_ENHANCER(nascent,ehn, genefolder, suffix = suff, max_distance = 2, z = false)\n",
    "TSSs.link_TSS_GENE_ENHANCER(nascent,ehn, genefolder, suffix = suff, max_distance = 3, z = false)\n",
    "TSSs.link_TSS_GENE_ENHANCER(nascent,ehn, genefolder, suffix = suff, max_distance = 4, z = false)\n",
    "TSSs.link_TSS_GENE_ENHANCER(nascent,ehn, genefolder, suffix = suff, max_distance = 5, z = false)\n",
    "TSSs.link_TSS_GENE_ENHANCER(nascent,ehn, genefolder, suffix = suff, max_distance = 6, z = false)\n",
    "TSSs.link_TSS_GENE_ENHANCER(nascent,ehn, genefolder, suffix = suff, max_distance = 200, z = false)"
   ]
  },
  {
   "cell_type": "code",
   "execution_count": null,
   "metadata": {},
   "outputs": [],
   "source": [
    "nascent = \"Prdm1_intron\"\n",
    "genefolder = \"../CompleteSets/GeneData/\"\n",
    "ehn = \"Prdm1_enh\"\n",
    "TSSs.link_TSS_GENE_ENHANCER(nascent,ehn, genefolder, suffix = suff, max_distance = 1, z = false)\n",
    "TSSs.link_TSS_GENE_ENHANCER(nascent,ehn, genefolder, suffix = suff, max_distance = 2, z = false)\n",
    "TSSs.link_TSS_GENE_ENHANCER(nascent,ehn, genefolder, suffix = suff, max_distance = 3, z = false)\n",
    "TSSs.link_TSS_GENE_ENHANCER(nascent,ehn, genefolder, suffix = suff, max_distance = 4, z = false)\n",
    "TSSs.link_TSS_GENE_ENHANCER(nascent,ehn, genefolder, suffix = suff, max_distance = 5, z = false)\n",
    "TSSs.link_TSS_GENE_ENHANCER(nascent,ehn, genefolder, suffix = suff, max_distance = 6, z = false)\n",
    "TSSs.link_TSS_GENE_ENHANCER(nascent,ehn, genefolder, suffix = suff, max_distance = 200, z = false)"
   ]
  },
  {
   "cell_type": "code",
   "execution_count": null,
   "metadata": {},
   "outputs": [],
   "source": [
    "nascent = \"Peli1_intron\"\n",
    "genefolder = \"../CompleteSets/GeneData/\"\n",
    "ehn = \"Enh\"\n",
    "TSSs.link_TSS_GENE_ENHANCER(nascent,ehn, genefolder, suffix = suff, max_distance = 1, z = false)\n",
    "TSSs.link_TSS_GENE_ENHANCER(nascent,ehn, genefolder, suffix = suff, max_distance = 2, z = false)\n",
    "TSSs.link_TSS_GENE_ENHANCER(nascent,ehn, genefolder, suffix = suff, max_distance = 3, z = false)\n",
    "TSSs.link_TSS_GENE_ENHANCER(nascent,ehn, genefolder, suffix = suff, max_distance = 4, z = false)\n",
    "TSSs.link_TSS_GENE_ENHANCER(nascent,ehn, genefolder, suffix = suff, max_distance = 5, z = false)\n",
    "TSSs.link_TSS_GENE_ENHANCER(nascent,ehn, genefolder, suffix = suff, max_distance = 6, z = false)\n",
    "TSSs.link_TSS_GENE_ENHANCER(nascent,ehn, genefolder, suffix = suff, max_distance = 200, z = false)"
   ]
  },
  {
   "cell_type": "code",
   "execution_count": 15,
   "metadata": {},
   "outputs": [
    {
     "ename": "LoadError",
     "evalue": "ArgumentError: \"Egr2/Sertad2_intron.csv\" is not a valid file or doesn't exist",
     "output_type": "error",
     "traceback": [
      "ArgumentError: \"Egr2/Sertad2_intron.csv\" is not a valid file or doesn't exist",
      "",
      "Stacktrace:",
      " [1] CSV.Context(source::CSV.Arg, header::CSV.Arg, normalizenames::CSV.Arg, datarow::CSV.Arg, skipto::CSV.Arg, footerskip::CSV.Arg, transpose::CSV.Arg, comment::CSV.Arg, ignoreemptyrows::CSV.Arg, ignoreemptylines::CSV.Arg, select::CSV.Arg, drop::CSV.Arg, limit::CSV.Arg, buffer_in_memory::CSV.Arg, threaded::CSV.Arg, ntasks::CSV.Arg, tasks::CSV.Arg, rows_to_check::CSV.Arg, lines_to_check::CSV.Arg, missingstrings::CSV.Arg, missingstring::CSV.Arg, delim::CSV.Arg, ignorerepeated::CSV.Arg, quoted::CSV.Arg, quotechar::CSV.Arg, openquotechar::CSV.Arg, closequotechar::CSV.Arg, escapechar::CSV.Arg, dateformat::CSV.Arg, dateformats::CSV.Arg, decimal::CSV.Arg, truestrings::CSV.Arg, falsestrings::CSV.Arg, type::CSV.Arg, types::CSV.Arg, typemap::CSV.Arg, pool::CSV.Arg, downcast::CSV.Arg, lazystrings::CSV.Arg, stringtype::CSV.Arg, strict::CSV.Arg, silencewarnings::CSV.Arg, maxwarnings::CSV.Arg, debug::CSV.Arg, parsingdebug::CSV.Arg, validate::CSV.Arg, streaming::CSV.Arg)",
      "   @ CSV ~/.julia/packages/CSV/9LsxT/src/context.jl:256",
      " [2] #File#25",
      "   @ ~/.julia/packages/CSV/9LsxT/src/file.jl:220 [inlined]",
      " [3] File",
      "   @ ~/.julia/packages/CSV/9LsxT/src/file.jl:220 [inlined]",
      " [4] link_TSS_GENE_ENHANCER(nascent::String, ehn::String, genefolder::String; suffix::String, max_distance::Int64, z::Bool)",
      "   @ Main.TSSs ~/OneDrive - Imperial College London/Code/TSSs/src/linkTSS.jl:790",
      " [5] top-level scope",
      "   @ In[15]:3",
      " [6] eval",
      "   @ ./boot.jl:360 [inlined]",
      " [7] include_string(mapexpr::typeof(REPL.softscope), mod::Module, code::String, filename::String)",
      "   @ Base ./loading.jl:1116"
     ]
    }
   ],
   "source": [
    "nascent = \"Sertad2_intron\"\n",
    "ehn = \"Enh\"\n",
    "TSSs.link_TSS_GENE_ENHANCER(nascent,ehn, genefolder, suffix = suff, max_distance = 1, z = false)\n",
    "TSSs.link_TSS_GENE_ENHANCER(nascent,ehn, genefolder, suffix = suff, max_distance = 2, z = false)\n",
    "TSSs.link_TSS_GENE_ENHANCER(nascent,ehn, genefolder, suffix = suff, max_distance = 3, z = false)\n",
    "TSSs.link_TSS_GENE_ENHANCER(nascent,ehn, genefolder, suffix = suff, max_distance = 4, z = false)\n",
    "TSSs.link_TSS_GENE_ENHANCER(nascent,ehn, genefolder, suffix = suff, max_distance = 5, z = false)\n",
    "TSSs.link_TSS_GENE_ENHANCER(nascent,ehn, genefolder, suffix = suff, max_distance = 6, z = false)\n",
    "TSSs.link_TSS_GENE_ENHANCER(nascent,ehn, genefolder, suffix = suff, max_distance = 200, z = false)"
   ]
  },
  {
   "cell_type": "code",
   "execution_count": null,
   "metadata": {},
   "outputs": [],
   "source": [
    "nascent = \"Il12b_intron_timecourse\"\n",
    "genefolder = \"../CompleteSets/GeneData/\"\n",
    "ehn = \"HSS1_timecourse\"\n",
    "TSSs.link_TSS_GENE_ENHANCER(nascent,ehn, genefolder, suffix = suff, max_distance = 1, z = false)\n",
    "TSSs.link_TSS_GENE_ENHANCER(nascent,ehn, genefolder, suffix = suff, max_distance = 2, z = false)\n",
    "TSSs.link_TSS_GENE_ENHANCER(nascent,ehn, genefolder, suffix = suff, max_distance = 3, z = false)\n",
    "TSSs.link_TSS_GENE_ENHANCER(nascent,ehn, genefolder, suffix = suff, max_distance = 4, z = false)\n",
    "TSSs.link_TSS_GENE_ENHANCER(nascent,ehn, genefolder, suffix = suff, max_distance = 5, z = false)\n",
    "TSSs.link_TSS_GENE_ENHANCER(nascent,ehn, genefolder, suffix = suff, max_distance = 6, z = false)\n",
    "TSSs.link_TSS_GENE_ENHANCER(nascent,ehn, genefolder, suffix = suff, max_distance = 200, z = false)"
   ]
  },
  {
   "cell_type": "code",
   "execution_count": 12,
   "metadata": {},
   "outputs": [
    {
     "name": "stderr",
     "output_type": "stream",
     "text": [
      "\u001b[32mProgress: 100%|█████████████████████████████████████████| Time: 0:00:59\u001b[39m\n",
      "\u001b[32mProgress: 100%|█████████████████████████████████████████| Time: 0:01:01\u001b[39m\n",
      "\u001b[32mProgress: 100%|█████████████████████████████████████████| Time: 0:01:10\u001b[39m\n",
      "\u001b[32mProgress: 100%|█████████████████████████████████████████| Time: 0:01:11\u001b[39m\n",
      "\u001b[32mProgress: 100%|█████████████████████████████████████████| Time: 0:04:22\u001b[39m\n",
      "\u001b[32mProgress: 100%|█████████████████████████████████████████| Time: 0:04:27\u001b[39m\n",
      "\u001b[32mProgress: 100%|█████████████████████████████████████████| Time: 0:01:07\u001b[39m\n",
      "\u001b[32mProgress: 100%|█████████████████████████████████████████| Time: 0:01:11\u001b[39m\n",
      "\u001b[32mProgress: 100%|█████████████████████████████████████████| Time: 0:01:11\u001b[39m\n",
      "\u001b[32mProgress: 100%|█████████████████████████████████████████| Time: 0:01:00\u001b[39m\n",
      "\u001b[32mProgress: 100%|█████████████████████████████████████████| Time: 0:04:51\u001b[39m\n",
      "\u001b[32mProgress: 100%|█████████████████████████████████████████| Time: 0:04:13\u001b[39m\n",
      "\u001b[32mProgress: 100%|█████████████████████████████████████████| Time: 0:00:58\u001b[39m\n",
      "\u001b[32mProgress: 100%|█████████████████████████████████████████| Time: 0:01:04\u001b[39m\n",
      "\u001b[32mProgress: 100%|█████████████████████████████████████████| Time: 0:01:15\u001b[39m\n",
      "\u001b[32mProgress: 100%|█████████████████████████████████████████| Time: 0:00:59\u001b[39m\n",
      "\u001b[32mProgress: 100%|█████████████████████████████████████████| Time: 0:03:53\u001b[39m\n",
      "\u001b[32mProgress: 100%|█████████████████████████████████████████| Time: 0:04:16\u001b[39m\n",
      "\u001b[32mProgress: 100%|█████████████████████████████████████████| Time: 0:00:58\u001b[39m\n",
      "\u001b[32mProgress: 100%|█████████████████████████████████████████| Time: 0:00:58\u001b[39m\n",
      "\u001b[32mProgress: 100%|█████████████████████████████████████████| Time: 0:01:07\u001b[39m\n",
      "\u001b[32mProgress: 100%|█████████████████████████████████████████| Time: 0:00:54\u001b[39m\n",
      "\u001b[32mProgress: 100%|█████████████████████████████████████████| Time: 0:03:42\u001b[39m\n",
      "\u001b[32mProgress: 100%|█████████████████████████████████████████| Time: 0:03:33\u001b[39m\n",
      "\u001b[32mProgress: 100%|█████████████████████████████████████████| Time: 0:00:54\u001b[39m\n",
      "\u001b[32mProgress: 100%|█████████████████████████████████████████| Time: 0:00:53\u001b[39m\n",
      "\u001b[32mProgress: 100%|█████████████████████████████████████████| Time: 0:01:04\u001b[39m\n",
      "\u001b[32mProgress: 100%|█████████████████████████████████████████| Time: 0:00:56\u001b[39m\n",
      "\u001b[32mProgress: 100%|█████████████████████████████████████████| Time: 0:03:44\u001b[39m\n",
      "\u001b[32mProgress: 100%|█████████████████████████████████████████| Time: 0:03:36\u001b[39m\n",
      "\u001b[32mProgress: 100%|█████████████████████████████████████████| Time: 0:00:53\u001b[39m\n",
      "\u001b[32mProgress: 100%|█████████████████████████████████████████| Time: 0:00:51\u001b[39m\n",
      "\u001b[32mProgress: 100%|█████████████████████████████████████████| Time: 0:01:03\u001b[39m\n",
      "\u001b[32mProgress: 100%|█████████████████████████████████████████| Time: 0:00:53\u001b[39m\n",
      "\u001b[32mProgress: 100%|█████████████████████████████████████████| Time: 0:03:40\u001b[39m\n",
      "\u001b[32mProgress: 100%|█████████████████████████████████████████| Time: 0:03:36\u001b[39m\n",
      "\u001b[32mProgress: 100%|█████████████████████████████████████████| Time: 0:00:53\u001b[39m\n",
      "\u001b[32mProgress: 100%|█████████████████████████████████████████| Time: 0:00:52\u001b[39m\n",
      "\u001b[32mProgress: 100%|█████████████████████████████████████████| Time: 0:01:05\u001b[39m\n",
      "\u001b[32mProgress: 100%|█████████████████████████████████████████| Time: 0:00:55\u001b[39m\n",
      "\u001b[32mProgress: 100%|█████████████████████████████████████████| Time: 0:03:40\u001b[39m\n",
      "\u001b[32mProgress: 100%|█████████████████████████████████████████| Time: 0:03:33\u001b[39m\n"
     ]
    }
   ],
   "source": [
    "for suff in [\n",
    "        \"1um_noz\",\"2um_noz\",\"3um_noz\",\"4um_noz\",\"5um_noz\",\"6um_noz\",\"200um_noz\"]\n",
    "\n",
    "genefolder = \"../CompleteSets/linkedlocus/\"\n",
    "\n",
    "\n",
    "nascent = \"Egr2_intron\"\n",
    "ehn = \"Egr2_enh\"\n",
    "egr2 = DataFrame(CSV.File(normpath(genefolder, nascent*\"__\"*ehn*\"__linked\"*suff*\".csv\")))\n",
    "nascent = \"Prdm1_intron\"\n",
    "ehn = \"Prdm1_enh\"\n",
    "prdm1 = DataFrame(CSV.File(normpath(genefolder, nascent*\"__\"*ehn*\"__linked\"*suff*\".csv\")))\n",
    "nascent = \"Il12b_intron\"\n",
    "ehn = \"HSS1\"\n",
    "il12b = DataFrame(CSV.File(normpath(genefolder, nascent*\"__\"*ehn*\"__linked\"*suff*\".csv\")))\n",
    "nascent = \"Ifnb1forL2\"\n",
    "ehn = \"L2\"\n",
    "ifnb1 = DataFrame(CSV.File(normpath(genefolder, nascent*\"__\"*ehn*\"__linked\"*suff*\".csv\")))\n",
    "nascent = \"Peli1_intron\"\n",
    "ehn = \"Enh\"\n",
    "peli1 = DataFrame(CSV.File(normpath(genefolder, nascent*\"__\"*ehn*\"__linked\"*suff*\".csv\")))\n",
    "nascent = \"Sertad2_intron\"\n",
    "ehn = \"Enh\"\n",
    "sertad = DataFrame(CSV.File(normpath(genefolder, nascent*\"__\"*ehn*\"__linked\"*suff*\".csv\")))\n",
    "\n",
    "\n",
    "probe1= \"Il12b_intron\"\n",
    "probe2 = \"HSS1\"\n",
    "tb = il12b\n",
    "cooc = calculate_coocurrences(tb, probe1, probe2; limit1 = 1, limit2 = 0,  col = :Sample_Rep)\n",
    "cooc = calculate_randoms(cooc, probe1, probe2)\n",
    "cooc = calculate_empirical_pvalues(cooc, probe1, probe2; iterations = 100000)\n",
    "\n",
    "CSV.write(normpath(genefolder, probe1*\"__\"*probe2*\"__coocurrences\"*suff*\".csv\"), cooc)\n",
    "\n",
    "probe1 = \"Egr2_intron\"\n",
    "probe2 = \"Egr2_enh\"\n",
    "tb = egr2\n",
    "cooc = calculate_coocurrences(tb, probe1, probe2; limit1 = 1, limit2 = 1,  col = :Sample_Rep)\n",
    "cooc = calculate_randoms(cooc, probe1, probe2)\n",
    "cooc = calculate_empirical_pvalues(cooc, probe1, probe2; iterations = 100000)\n",
    "\n",
    "CSV.write(normpath(genefolder, probe1*\"__\"*probe2*\"__coocurrences\"*suff*\".csv\"), cooc)\n",
    "\n",
    "probe1 = \"Prdm1_intron\"\n",
    "probe2 = \"Prdm1_enh\"\n",
    "tb = prdm1\n",
    "cooc = calculate_coocurrences(tb, probe1, probe2; limit1 = 0, limit2 = 1,  col = :Sample_Rep)\n",
    "cooc = calculate_randoms(cooc, probe1, probe2)\n",
    "cooc = calculate_empirical_pvalues(cooc, probe1, probe2; iterations = 100000)\n",
    "\n",
    "CSV.write(normpath(genefolder, probe1*\"__\"*probe2*\"__coocurrences\"*suff*\".csv\"), cooc)\n",
    "\n",
    "tb = ifnb1\n",
    "probe1 = \"Ifnb1forL2\"\n",
    "probe2 = \"L2\"\n",
    "cooc = calculate_coocurrences(tb, probe1, probe2; limit1 = 1, limit2 = 1,  col = :Sample_Rep)\n",
    "cooc = calculate_randoms(cooc, probe1, probe2)\n",
    "cooc = calculate_empirical_pvalues(cooc, probe1, probe2; iterations = 100000)\n",
    "\n",
    "CSV.write(normpath(genefolder, probe1*\"__\"*probe2*\"__coocurrences\"*suff*\".csv\"), cooc)\n",
    "\n",
    "tb = peli1\n",
    "probe2 = \"Enh\"\n",
    "probe1 = \"Peli1_intron\"\n",
    "cooc = calculate_coocurrences(tb, probe1, probe2; limit1 = 1, limit2 = 1,  col = :Sample_Rep)\n",
    "cooc = calculate_randoms(cooc, probe1, probe2)\n",
    "cooc = calculate_empirical_pvalues(cooc, probe1, probe2; iterations = 100000)\n",
    "\n",
    "CSV.write(normpath(genefolder, probe1*\"__\"*probe2*\"__coocurrences\"*suff*\".csv\"), cooc)\n",
    "    \n",
    "tb = sertad\n",
    "probe2 = \"Enh\"\n",
    "probe1 = \"Sertad2_intron\"\n",
    "cooc = calculate_coocurrences(tb, probe1, probe2; limit1 = 1, limit2 = 1,  col = :Sample_Rep)\n",
    "cooc = calculate_randoms(cooc, probe1, probe2)\n",
    "cooc = calculate_empirical_pvalues(cooc, probe1, probe2; iterations = 100000)\n",
    "\n",
    "CSV.write(normpath(genefolder, probe1*\"__\"*probe2*\"__coocurrences\"*suff*\".csv\"), cooc)\n",
    "end\n",
    "\n"
   ]
  },
  {
   "cell_type": "code",
   "execution_count": 18,
   "metadata": {},
   "outputs": [
    {
     "ename": "LoadError",
     "evalue": "syntax: extra token \"(\" after end of expression",
     "output_type": "error",
     "traceback": [
      "syntax: extra token \"(\" after end of expression",
      "",
      "Stacktrace:",
      " [1] top-level scope",
      "   @ In[18]:1",
      " [2] eval",
      "   @ ./boot.jl:360 [inlined]",
      " [3] include_string(mapexpr::typeof(REPL.softscope), mod::Module, code::String, filename::String)",
      "   @ Base ./loading.jl:1116"
     ]
    }
   ],
   "source": [
    "import Pkg: Pkg.status()"
   ]
  }
 ],
 "metadata": {
  "kernelspec": {
   "display_name": "Julia 1.6.3",
   "language": "julia",
   "name": "julia-1.6"
  },
  "language_info": {
   "file_extension": ".jl",
   "mimetype": "application/julia",
   "name": "julia",
   "version": "1.6.3"
  }
 },
 "nbformat": 4,
 "nbformat_minor": 4
}
