{
 "cells": [
  {
   "cell_type": "code",
   "execution_count": 1,
   "metadata": {},
   "outputs": [
    {
     "name": "stderr",
     "output_type": "stream",
     "text": [
      "┌ Info: Installing pyqt package to avoid buggy tkagg backend.\n",
      "└ @ PyPlot /Users/irene/.julia/packages/PyPlot/XHEG0/src/init.jl:118\n"
     ]
    },
    {
     "data": {
      "text/plain": [
       "calculate_empirical_pvalues (generic function with 2 methods)"
      ]
     },
     "execution_count": 1,
     "metadata": {},
     "output_type": "execute_result"
    }
   ],
   "source": [
    "ENV[\"Code\"] = \"../../Code\"\n",
    "for folder in readdir(ENV[\"Code\"]); push!(LOAD_PATH, normpath(ENV[\"Code\"], folder));end\n",
    "\n",
    "using CSV, DataFrames, Distributions\n",
    "using NoLongerProblems_FileHandling\n",
    "using NoLongerProblems, RCall\n",
    "using NoLongerProblems_Pandas\n",
    "using MultipleTesting,HypothesisTests,Statistics \n",
    "using Random,Seaborn,PyPlot,PrettyPlotting\n",
    "import Pandas\n",
    "\n",
    "include(\"../TSS_quantification/StandardCode.jl\")\n",
    "include(\"CoocurrencesCode.jl\") "
   ]
  },
  {
   "cell_type": "code",
   "execution_count": null,
   "metadata": {},
   "outputs": [
    {
     "name": "stderr",
     "output_type": "stream",
     "text": [
      "\u001b[32mProgress: 100%|█████████████████████████████████████████| Time: 0:00:04\u001b[39m\n",
      "\u001b[32mProgress: 100%|█████████████████████████████████████████| Time: 0:00:01\u001b[39m\n",
      "\u001b[32mProgress: 100%|█████████████████████████████████████████| Time: 0:00:02\u001b[39m\n",
      "\u001b[32mProgress: 100%|█████████████████████████████████████████| Time: 0:00:01\u001b[39m\n",
      "\u001b[32mProgress: 100%|█████████████████████████████████████████| Time: 0:00:02\u001b[39m\n"
     ]
    }
   ],
   "source": [
    "suff = \"_noz\"\n",
    "genefolder = \"../CompleteSets/GeneData/\"\n",
    "nascent = \"Egr2_intron_BD\"\n",
    "ehn = \"Egr2_enh_BD\"\n",
    "TSSs.link_TSS_GENE_ENHANCER(nascent,ehn, genefolder, suffix = suff, max_distance = 1, z = false)\n",
    "TSSs.link_TSS_GENE_ENHANCER(nascent,ehn, genefolder, suffix = suff, max_distance = 2, z = false)\n",
    "TSSs.link_TSS_GENE_ENHANCER(nascent,ehn, genefolder, suffix = suff, max_distance = 3, z = false)\n",
    "TSSs.link_TSS_GENE_ENHANCER(nascent,ehn, genefolder, suffix = suff, max_distance = 4, z = false)\n",
    "TSSs.link_TSS_GENE_ENHANCER(nascent,ehn, genefolder, suffix = suff, max_distance = 5, z = false)\n",
    "TSSs.link_TSS_GENE_ENHANCER(nascent,ehn, genefolder, suffix = suff, max_distance = 6, z = false)\n",
    "TSSs.link_TSS_GENE_ENHANCER(nascent,ehn, genefolder, suffix = suff, max_distance = 200, z = false)\n",
    "nascent = \"Il12b_intron_BD\"\n",
    "genefolder = \"../CompleteSets/GeneData/\"\n",
    "ehn = \"HSS1_BD\"\n",
    "TSSs.link_TSS_GENE_ENHANCER(nascent,ehn, genefolder, suffix = suff, max_distance = 1, z = false)\n",
    "TSSs.link_TSS_GENE_ENHANCER(nascent,ehn, genefolder, suffix = suff, max_distance = 2, z = false)\n",
    "TSSs.link_TSS_GENE_ENHANCER(nascent,ehn, genefolder, suffix = suff, max_distance = 3, z = false)\n",
    "TSSs.link_TSS_GENE_ENHANCER(nascent,ehn, genefolder, suffix = suff, max_distance = 4, z = false)\n",
    "TSSs.link_TSS_GENE_ENHANCER(nascent,ehn, genefolder, suffix = suff, max_distance = 5, z = false)\n",
    "TSSs.link_TSS_GENE_ENHANCER(nascent,ehn, genefolder, suffix = suff, max_distance = 6, z = false)\n",
    "TSSs.link_TSS_GENE_ENHANCER(nascent,ehn, genefolder, suffix = suff, max_distance = 200, z = false)"
   ]
  },
  {
   "cell_type": "code",
   "execution_count": 2,
   "metadata": {},
   "outputs": [
    {
     "name": "stderr",
     "output_type": "stream",
     "text": [
      "\u001b[32mProgress: 100%|█████████████████████████████████████████| Time: 0:00:03\u001b[39m\n",
      "\u001b[32mProgress: 100%|█████████████████████████████████████████| Time: 0:00:01\u001b[39m\n",
      "\u001b[32mProgress: 100%|█████████████████████████████████████████| Time: 0:00:00\u001b[39m\n",
      "\u001b[32mProgress: 100%|█████████████████████████████████████████| Time: 0:00:01\u001b[39m\n",
      "\u001b[32mProgress: 100%|█████████████████████████████████████████| Time: 0:00:01\u001b[39m\n",
      "\u001b[32mProgress: 100%|█████████████████████████████████████████| Time: 0:00:01\u001b[39m\n",
      "\u001b[32mProgress: 100%|█████████████████████████████████████████| Time: 0:00:01\u001b[39m\n"
     ]
    },
    {
     "data": {
      "text/plain": [
       "\"../CompleteSets/linkedlocus/Egr2_intron__Egr2_enh__linked200um_noz.csv\""
      ]
     },
     "execution_count": 2,
     "metadata": {},
     "output_type": "execute_result"
    }
   ],
   "source": [
    "suff = \"_noz\"\n",
    "genefolder = \"../CompleteSets/GeneData/\"\n",
    "nascent = \"Egr2_intron\"\n",
    "ehn = \"Egr2_enh\"\n",
    "TSSs.link_TSS_GENE_ENHANCER(nascent,ehn, genefolder, suffix = suff, max_distance = 1, z = false)\n",
    "TSSs.link_TSS_GENE_ENHANCER(nascent,ehn, genefolder, suffix = suff, max_distance = 2, z = false)\n",
    "TSSs.link_TSS_GENE_ENHANCER(nascent,ehn, genefolder, suffix = suff, max_distance = 3, z = false)\n",
    "TSSs.link_TSS_GENE_ENHANCER(nascent,ehn, genefolder, suffix = suff, max_distance = 4, z = false)\n",
    "TSSs.link_TSS_GENE_ENHANCER(nascent,ehn, genefolder, suffix = suff, max_distance = 5, z = false)\n",
    "TSSs.link_TSS_GENE_ENHANCER(nascent,ehn, genefolder, suffix = suff, max_distance = 6, z = false)\n",
    "TSSs.link_TSS_GENE_ENHANCER(nascent,ehn, genefolder, suffix = suff, max_distance = 200, z = false)"
   ]
  },
  {
   "cell_type": "code",
   "execution_count": 3,
   "metadata": {},
   "outputs": [
    {
     "name": "stderr",
     "output_type": "stream",
     "text": [
      "\u001b[32mProgress: 100%|█████████████████████████████████████████| Time: 0:00:00\u001b[39m\n",
      "\u001b[32mProgress: 100%|█████████████████████████████████████████| Time: 0:00:00\u001b[39m\n",
      "\u001b[32mProgress: 100%|█████████████████████████████████████████| Time: 0:00:01\u001b[39m\n",
      "\u001b[32mProgress: 100%|█████████████████████████████████████████| Time: 0:00:01\u001b[39m\n",
      "\u001b[32mProgress: 100%|█████████████████████████████████████████| Time: 0:00:01\u001b[39m\n",
      "\u001b[32mProgress: 100%|█████████████████████████████████████████| Time: 0:00:01\u001b[39m\n",
      "\u001b[32mProgress: 100%|█████████████████████████████████████████| Time: 0:00:01\u001b[39m\n"
     ]
    },
    {
     "data": {
      "text/plain": [
       "\"../CompleteSets/linkedlocus/Ifnb1forL2__L2__linked200um_noz.csv\""
      ]
     },
     "execution_count": 3,
     "metadata": {},
     "output_type": "execute_result"
    }
   ],
   "source": [
    "nascent = \"Ifnb1forL2\"\n",
    "ehn = \"L2\"\n",
    "genefolder = \"../CompleteSets/GeneData/\"\n",
    "TSSs.link_TSS_GENE_ENHANCER(nascent,ehn, genefolder, suffix = suff, max_distance = 1, z = false)\n",
    "TSSs.link_TSS_GENE_ENHANCER(nascent,ehn, genefolder, suffix = suff, max_distance = 2, z = false)\n",
    "TSSs.link_TSS_GENE_ENHANCER(nascent,ehn, genefolder, suffix = suff, max_distance = 3, z = false)\n",
    "TSSs.link_TSS_GENE_ENHANCER(nascent,ehn, genefolder, suffix = suff, max_distance = 4, z = false)\n",
    "TSSs.link_TSS_GENE_ENHANCER(nascent,ehn, genefolder, suffix = suff, max_distance = 5, z = false)\n",
    "TSSs.link_TSS_GENE_ENHANCER(nascent,ehn, genefolder, suffix = suff, max_distance = 6, z = false)\n",
    "TSSs.link_TSS_GENE_ENHANCER(nascent,ehn, genefolder, suffix = suff, max_distance = 200, z = false)"
   ]
  },
  {
   "cell_type": "code",
   "execution_count": 4,
   "metadata": {},
   "outputs": [
    {
     "name": "stderr",
     "output_type": "stream",
     "text": [
      "\u001b[32mProgress: 100%|█████████████████████████████████████████| Time: 0:00:01\u001b[39m\n",
      "\u001b[32mProgress: 100%|█████████████████████████████████████████| Time: 0:00:01\u001b[39m\n",
      "\u001b[32mProgress: 100%|█████████████████████████████████████████| Time: 0:00:01\u001b[39m\n",
      "\u001b[32mProgress: 100%|█████████████████████████████████████████| Time: 0:00:01\u001b[39m\n",
      "\u001b[32mProgress: 100%|█████████████████████████████████████████| Time: 0:00:01\u001b[39m\n",
      "\u001b[32mProgress: 100%|█████████████████████████████████████████| Time: 0:00:01\u001b[39m\n",
      "\u001b[32mProgress: 100%|█████████████████████████████████████████| Time: 0:00:01\u001b[39m\n"
     ]
    },
    {
     "data": {
      "text/plain": [
       "\"../CompleteSets/linkedlocus/Il12b_intron__HSS1__linked200um_noz.csv\""
      ]
     },
     "execution_count": 4,
     "metadata": {},
     "output_type": "execute_result"
    }
   ],
   "source": [
    "nascent = \"Il12b_intron\"\n",
    "genefolder = \"../CompleteSets/GeneData/\"\n",
    "\n",
    "\n",
    "ehn = \"HSS1\"\n",
    "TSSs.link_TSS_GENE_ENHANCER(nascent,ehn, genefolder, suffix = suff, max_distance = 1, z = false)\n",
    "TSSs.link_TSS_GENE_ENHANCER(nascent,ehn, genefolder, suffix = suff, max_distance = 2, z = false)\n",
    "TSSs.link_TSS_GENE_ENHANCER(nascent,ehn, genefolder, suffix = suff, max_distance = 3, z = false)\n",
    "TSSs.link_TSS_GENE_ENHANCER(nascent,ehn, genefolder, suffix = suff, max_distance = 4, z = false)\n",
    "TSSs.link_TSS_GENE_ENHANCER(nascent,ehn, genefolder, suffix = suff, max_distance = 5, z = false)\n",
    "TSSs.link_TSS_GENE_ENHANCER(nascent,ehn, genefolder, suffix = suff, max_distance = 6, z = false)\n",
    "TSSs.link_TSS_GENE_ENHANCER(nascent,ehn, genefolder, suffix = suff, max_distance = 200, z = false)"
   ]
  },
  {
   "cell_type": "code",
   "execution_count": 5,
   "metadata": {},
   "outputs": [
    {
     "name": "stderr",
     "output_type": "stream",
     "text": [
      "\u001b[32mProgress: 100%|█████████████████████████████████████████| Time: 0:00:01\u001b[39m\n",
      "\u001b[32mProgress: 100%|█████████████████████████████████████████| Time: 0:00:02\u001b[39m\n",
      "\u001b[32mProgress: 100%|█████████████████████████████████████████| Time: 0:00:01\u001b[39m\n",
      "\u001b[32mProgress: 100%|█████████████████████████████████████████| Time: 0:00:01\u001b[39m\n",
      "\u001b[32mProgress: 100%|█████████████████████████████████████████| Time: 0:00:01\u001b[39m\n",
      "\u001b[32mProgress: 100%|█████████████████████████████████████████| Time: 0:00:02\u001b[39m\n",
      "\u001b[32mProgress: 100%|█████████████████████████████████████████| Time: 0:00:01\u001b[39m\n"
     ]
    },
    {
     "data": {
      "text/plain": [
       "\"../CompleteSets/linkedlocus/Prdm1_intron__Prdm1_enh__linked200um_noz.csv\""
      ]
     },
     "execution_count": 5,
     "metadata": {},
     "output_type": "execute_result"
    }
   ],
   "source": [
    "nascent = \"Prdm1_intron\"\n",
    "genefolder = \"../CompleteSets/GeneData/\"\n",
    "ehn = \"Prdm1_enh\"\n",
    "TSSs.link_TSS_GENE_ENHANCER(nascent,ehn, genefolder, suffix = suff, max_distance = 1, z = false)\n",
    "TSSs.link_TSS_GENE_ENHANCER(nascent,ehn, genefolder, suffix = suff, max_distance = 2, z = false)\n",
    "TSSs.link_TSS_GENE_ENHANCER(nascent,ehn, genefolder, suffix = suff, max_distance = 3, z = false)\n",
    "TSSs.link_TSS_GENE_ENHANCER(nascent,ehn, genefolder, suffix = suff, max_distance = 4, z = false)\n",
    "TSSs.link_TSS_GENE_ENHANCER(nascent,ehn, genefolder, suffix = suff, max_distance = 5, z = false)\n",
    "TSSs.link_TSS_GENE_ENHANCER(nascent,ehn, genefolder, suffix = suff, max_distance = 6, z = false)\n",
    "TSSs.link_TSS_GENE_ENHANCER(nascent,ehn, genefolder, suffix = suff, max_distance = 200, z = false)"
   ]
  },
  {
   "cell_type": "code",
   "execution_count": 6,
   "metadata": {},
   "outputs": [
    {
     "name": "stderr",
     "output_type": "stream",
     "text": [
      "\u001b[32mProgress:  22%|████████▉                                |  ETA: 0:00:03\u001b[39m"
     ]
    },
    {
     "data": {
      "text/plain": [
       "\"../CompleteSets/linkedlocus/Peli1_intron__Enh__linked200um_noz.csv\""
      ]
     },
     "execution_count": 6,
     "metadata": {},
     "output_type": "execute_result"
    }
   ],
   "source": [
    "nascent = \"Peli1_intron\"\n",
    "genefolder = \"../CompleteSets/GeneData/\"\n",
    "ehn = \"Enh\"\n",
    "TSSs.link_TSS_GENE_ENHANCER(nascent,ehn, genefolder, suffix = suff, max_distance = 1, z = false)\n",
    "TSSs.link_TSS_GENE_ENHANCER(nascent,ehn, genefolder, suffix = suff, max_distance = 2, z = false)\n",
    "TSSs.link_TSS_GENE_ENHANCER(nascent,ehn, genefolder, suffix = suff, max_distance = 3, z = false)\n",
    "TSSs.link_TSS_GENE_ENHANCER(nascent,ehn, genefolder, suffix = suff, max_distance = 4, z = false)\n",
    "TSSs.link_TSS_GENE_ENHANCER(nascent,ehn, genefolder, suffix = suff, max_distance = 5, z = false)\n",
    "TSSs.link_TSS_GENE_ENHANCER(nascent,ehn, genefolder, suffix = suff, max_distance = 6, z = false)\n",
    "TSSs.link_TSS_GENE_ENHANCER(nascent,ehn, genefolder, suffix = suff, max_distance = 200, z = false)"
   ]
  },
  {
   "cell_type": "code",
   "execution_count": 7,
   "metadata": {},
   "outputs": [
    {
     "name": "stderr",
     "output_type": "stream",
     "text": [
      "\u001b[32mProgress:  22%|█████████▏                               |  ETA: 0:00:05\u001b[39m"
     ]
    },
    {
     "data": {
      "text/plain": [
       "\"../CompleteSets/linkedlocus/Sertad2_intron__Enh__linked200um_noz.csv\""
      ]
     },
     "execution_count": 7,
     "metadata": {},
     "output_type": "execute_result"
    }
   ],
   "source": [
    "nascent = \"Sertad2_intron\"\n",
    "ehn = \"Enh\"\n",
    "TSSs.link_TSS_GENE_ENHANCER(nascent,ehn, genefolder, suffix = suff, max_distance = 1, z = false)\n",
    "TSSs.link_TSS_GENE_ENHANCER(nascent,ehn, genefolder, suffix = suff, max_distance = 2, z = false)\n",
    "TSSs.link_TSS_GENE_ENHANCER(nascent,ehn, genefolder, suffix = suff, max_distance = 3, z = false)\n",
    "TSSs.link_TSS_GENE_ENHANCER(nascent,ehn, genefolder, suffix = suff, max_distance = 4, z = false)\n",
    "TSSs.link_TSS_GENE_ENHANCER(nascent,ehn, genefolder, suffix = suff, max_distance = 5, z = false)\n",
    "TSSs.link_TSS_GENE_ENHANCER(nascent,ehn, genefolder, suffix = suff, max_distance = 6, z = false)\n",
    "TSSs.link_TSS_GENE_ENHANCER(nascent,ehn, genefolder, suffix = suff, max_distance = 200, z = false)"
   ]
  },
  {
   "cell_type": "code",
   "execution_count": 8,
   "metadata": {},
   "outputs": [
    {
     "name": "stderr",
     "output_type": "stream",
     "text": [
      "\u001b[32mProgress:  87%|███████████████████████████████████▉     |  ETA: 0:00:00\u001b[39m"
     ]
    },
    {
     "data": {
      "text/plain": [
       "\"../CompleteSets/linkedlocus/Il12b_intron_timecourse__HSS1_timecourse__linked200um_noz.csv\""
      ]
     },
     "execution_count": 8,
     "metadata": {},
     "output_type": "execute_result"
    }
   ],
   "source": [
    "nascent = \"Il12b_intron_timecourse\"\n",
    "genefolder = \"../CompleteSets/GeneData/\"\n",
    "ehn = \"HSS1_timecourse\"\n",
    "TSSs.link_TSS_GENE_ENHANCER(nascent,ehn, genefolder, suffix = suff, max_distance = 1, z = false)\n",
    "TSSs.link_TSS_GENE_ENHANCER(nascent,ehn, genefolder, suffix = suff, max_distance = 2, z = false)\n",
    "TSSs.link_TSS_GENE_ENHANCER(nascent,ehn, genefolder, suffix = suff, max_distance = 3, z = false)\n",
    "TSSs.link_TSS_GENE_ENHANCER(nascent,ehn, genefolder, suffix = suff, max_distance = 4, z = false)\n",
    "TSSs.link_TSS_GENE_ENHANCER(nascent,ehn, genefolder, suffix = suff, max_distance = 5, z = false)\n",
    "TSSs.link_TSS_GENE_ENHANCER(nascent,ehn, genefolder, suffix = suff, max_distance = 6, z = false)\n",
    "TSSs.link_TSS_GENE_ENHANCER(nascent,ehn, genefolder, suffix = suff, max_distance = 200, z = false)"
   ]
  },
  {
   "cell_type": "code",
   "execution_count": null,
   "metadata": {},
   "outputs": [],
   "source": [
    "for suff in [\n",
    "        \"1um_noz\",\"2um_noz\",\"3um_noz\",\"4um_noz\",\"5um_noz\",\"6um_noz\",\"200um_noz\"]\n",
    "\n",
    "genefolder = \"../CompleteSets/linkedlocus/\"\n",
    "\n",
    "\n",
    "nascent = \"Egr2_intron\"\n",
    "ehn = \"Egr2_enh\"\n",
    "egr2 = DataFrame(CSV.File(normpath(genefolder, nascent*\"__\"*ehn*\"__linked\"*suff*\".csv\")))\n",
    "nascent = \"Prdm1_intron\"\n",
    "ehn = \"Prdm1_enh\"\n",
    "prdm1 = DataFrame(CSV.File(normpath(genefolder, nascent*\"__\"*ehn*\"__linked\"*suff*\".csv\")))\n",
    "nascent = \"Il12b_intron\"\n",
    "ehn = \"HSS1\"\n",
    "il12b = DataFrame(CSV.File(normpath(genefolder, nascent*\"__\"*ehn*\"__linked\"*suff*\".csv\")))\n",
    "nascent = \"Ifnb1forL2\"\n",
    "ehn = \"L2\"\n",
    "ifnb1 = DataFrame(CSV.File(normpath(genefolder, nascent*\"__\"*ehn*\"__linked\"*suff*\".csv\")))\n",
    "nascent = \"Peli1_intron\"\n",
    "ehn = \"Enh\"\n",
    "peli1 = DataFrame(CSV.File(normpath(genefolder, nascent*\"__\"*ehn*\"__linked\"*suff*\".csv\")))\n",
    "nascent = \"Sertad2_intron\"\n",
    "ehn = \"Enh\"\n",
    "sertad = DataFrame(CSV.File(normpath(genefolder, nascent*\"__\"*ehn*\"__linked\"*suff*\".csv\")))\n",
    "\n",
    "nascent = \"Il12b_intron_BD\"\n",
    "ehn = \"HSS1_BD\"\n",
    "il12bbd = DataFrame(CSV.File(normpath(genefolder, nascent*\"__\"*ehn*\"__linked\"*suff*\".csv\")))\n",
    "\n",
    "nascent = \"Egr2_intron_BD\"\n",
    "ehn = \"Egr2_enh_BD\"\n",
    "egr2BD = DataFrame(CSV.File(normpath(genefolder, nascent*\"__\"*ehn*\"__linked\"*suff*\".csv\")))\n",
    "\n",
    "\n",
    "probe1= \"Il12b_intron\"\n",
    "probe2 = \"HSS1\"\n",
    "tb = il12b\n",
    "cooc = calculate_coocurrences(tb, probe1, probe2; limit1 = 1, limit2 = 0,  col = :Sample_Rep)\n",
    "cooc = calculate_randoms(cooc, probe1, probe2)\n",
    "cooc = calculate_empirical_pvalues(cooc, probe1, probe2; iterations = 100000)\n",
    "\n",
    "CSV.write(normpath(genefolder, probe1*\"__\"*probe2*\"__coocurrences\"*suff*\".csv\"), cooc)\n",
    "\n",
    "probe1 = \"Egr2_intron_BD\"\n",
    "probe2 = \"Egr2_enh_BD\"\n",
    "tb = egr2BD\n",
    "cooc = calculate_coocurrences(tb, probe1, probe2; limit1 = 1, limit2 = 1,  col = :Sample_Rep)\n",
    "cooc = calculate_randoms(cooc, probe1, probe2)\n",
    "cooc = calculate_empirical_pvalues(cooc, probe1, probe2; iterations = 100000)\n",
    "\n",
    "CSV.write(normpath(genefolder, probe1*\"__\"*probe2*\"__coocurrences\"*suff*\".csv\"), cooc)\n",
    "\n",
    "probe1= \"Il12b_intron_BD\"\n",
    "probe2 = \"HSS1_BD\"\n",
    "tb = il12bBD\n",
    "cooc = calculate_coocurrences(tb, probe1, probe2; limit1 = 1, limit2 = 0,  col = :Sample_Rep)\n",
    "cooc = calculate_randoms(cooc, probe1, probe2)\n",
    "cooc = calculate_empirical_pvalues(cooc, probe1, probe2; iterations = 100000)\n",
    "\n",
    "CSV.write(normpath(genefolder, probe1*\"__\"*probe2*\"__coocurrences\"*suff*\".csv\"), cooc)\n",
    "\n",
    "probe1 = \"Egr2_intron\"\n",
    "probe2 = \"Egr2_enh\"\n",
    "tb = egr2\n",
    "cooc = calculate_coocurrences(tb, probe1, probe2; limit1 = 1, limit2 = 1,  col = :Sample_Rep)\n",
    "cooc = calculate_randoms(cooc, probe1, probe2)\n",
    "cooc = calculate_empirical_pvalues(cooc, probe1, probe2; iterations = 100000)\n",
    "\n",
    "CSV.write(normpath(genefolder, probe1*\"__\"*probe2*\"__coocurrences\"*suff*\".csv\"), cooc)\n",
    "    \n",
    "    \n",
    "    \n",
    "    \n",
    "probe1 = \"Prdm1_intron\"\n",
    "probe2 = \"Prdm1_enh\"\n",
    "tb = prdm1\n",
    "cooc = calculate_coocurrences(tb, probe1, probe2; limit1 = 0, limit2 = 1,  col = :Sample_Rep)\n",
    "cooc = calculate_randoms(cooc, probe1, probe2)\n",
    "cooc = calculate_empirical_pvalues(cooc, probe1, probe2; iterations = 100000)\n",
    "\n",
    "CSV.write(normpath(genefolder, probe1*\"__\"*probe2*\"__coocurrences\"*suff*\".csv\"), cooc)\n",
    "\n",
    "tb = ifnb1\n",
    "probe1 = \"Ifnb1forL2\"\n",
    "probe2 = \"L2\"\n",
    "cooc = calculate_coocurrences(tb, probe1, probe2; limit1 = 1, limit2 = 1,  col = :Sample_Rep)\n",
    "cooc = calculate_randoms(cooc, probe1, probe2)\n",
    "cooc = calculate_empirical_pvalues(cooc, probe1, probe2; iterations = 100000)\n",
    "\n",
    "CSV.write(normpath(genefolder, probe1*\"__\"*probe2*\"__coocurrences\"*suff*\".csv\"), cooc)\n",
    "\n",
    "tb = peli1\n",
    "probe2 = \"Enh\"\n",
    "probe1 = \"Peli1_intron\"\n",
    "cooc = calculate_coocurrences(tb, probe1, probe2; limit1 = 1, limit2 = 1,  col = :Sample_Rep)\n",
    "cooc = calculate_randoms(cooc, probe1, probe2)\n",
    "cooc = calculate_empirical_pvalues(cooc, probe1, probe2; iterations = 100000)\n",
    "\n",
    "CSV.write(normpath(genefolder, probe1*\"__\"*probe2*\"__coocurrences\"*suff*\".csv\"), cooc)\n",
    "    \n",
    "tb = sertad\n",
    "probe2 = \"Enh\"\n",
    "probe1 = \"Sertad2_intron\"\n",
    "cooc = calculate_coocurrences(tb, probe1, probe2; limit1 = 1, limit2 = 1,  col = :Sample_Rep)\n",
    "cooc = calculate_randoms(cooc, probe1, probe2)\n",
    "cooc = calculate_empirical_pvalues(cooc, probe1, probe2; iterations = 100000)\n",
    "\n",
    "CSV.write(normpath(genefolder, probe1*\"__\"*probe2*\"__coocurrences\"*suff*\".csv\"), cooc)\n",
    "end\n",
    "\n"
   ]
  },
  {
   "cell_type": "code",
   "execution_count": null,
   "metadata": {},
   "outputs": [],
   "source": [
    "import Pkg; Pkg.status()"
   ]
  }
 ],
 "metadata": {
  "kernelspec": {
   "display_name": "Julia 1.6.0",
   "language": "julia",
   "name": "julia-1.6"
  },
  "language_info": {
   "file_extension": ".jl",
   "mimetype": "application/julia",
   "name": "julia",
   "version": "1.6.0"
  }
 },
 "nbformat": 4,
 "nbformat_minor": 4
}
