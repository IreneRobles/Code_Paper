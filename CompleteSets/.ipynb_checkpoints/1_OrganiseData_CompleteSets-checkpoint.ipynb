{
 "cells": [
  {
   "cell_type": "code",
   "execution_count": 1,
   "metadata": {},
   "outputs": [
    {
     "data": {
      "text/plain": [
       "get_data (generic function with 1 method)"
      ]
     },
     "execution_count": 1,
     "metadata": {},
     "output_type": "execute_result"
    }
   ],
   "source": [
    "ENV[\"Code\"] = \"../../Code\"\n",
    "for folder in readdir(ENV[\"Code\"]); push!(LOAD_PATH, normpath(ENV[\"Code\"], folder));end\n",
    "\n",
    "using CSV\n",
    "using NoLongerProblems_FileHandling\n",
    "using NoLongerProblems\n",
    "using DataFrames\n",
    "using FQfiles\n",
    "using HypothesisTests\n",
    "using MultipleTesting\n",
    "using Seaborn\n",
    "using Statistics\n",
    "using PyPlot\n",
    "using Random\n",
    "using PrettyPlotting\n",
    "using DataFrames\n",
    "\n",
    "\n",
    "\n",
    "function removeodds(exps)\n",
    "    \n",
    "    exps[!,:TSS1_r2] = [if ii == \"NA\" 0 else ii end for ii in exps[!,:TSS1_r2]]\n",
    "        exps[!,:TSS2_r2] = [if ii == \"NA\" 0 else ii end for ii in exps[!,:TSS1_r2]]\n",
    "\n",
    "    exps = exps[exps[!,:TSS1_r2].!=\"\\b\", :]\n",
    "    exps = exps[exps[!,:TSS1_r2].!=\"\\x03\", :]\n",
    "    exps = exps[exps[!,:TSS1_r2].!=\"\\x05\", :]\n",
    "    exps = exps[exps[!,:TSS1_r2].!=\"\\x01\", :]\n",
    "    exps = exps[exps[!,:TSS1_r2].!=\"\\x02\", :]\n",
    "     exps = exps[exps[!,:TSS1_r2].!=\"\\f\", :]\n",
    "    \n",
    "        exps = exps[exps[!,:TSS2_r2].!=\"\\b\", :]\n",
    "    exps = exps[exps[!,:TSS2_r2].!=\"\\x03\", :]\n",
    "    exps = exps[exps[!,:TSS2_r2].!=\"\\x05\", :]\n",
    "    exps = exps[exps[!,:TSS2_r2].!=\"\\x01\", :]\n",
    "    exps = exps[exps[!,:TSS2_r2].!=\"\\x02\", :]\n",
    "     exps = exps[exps[!,:TSS2_r2].!=\"\\f\", :]\n",
    "end\n",
    "\n",
    "\n",
    "function sample_from_genotype_timepoint(df)\n",
    "    df[!,:Sample] = df[!,:Genotype] .*\"_\".*string.(df[!,:Timepoint])\n",
    "    df\n",
    "end\n",
    "\n",
    "function get_data(genefolder, genename, expnumber; orgainserfolder =  \"../TSS_quantification/\", addrep = 0)\n",
    "    expnumber = string(expnumber)\n",
    "   fol = orgainserfolder * \"/\"*genefolder*\"/\" \n",
    "      exp = CSV.read(fol* genename*\"_exp\"*expnumber*\"_FQ.csv\", DataFrames.DataFrame)\n",
    "    exp = column_fusion(exp, :Image, :Cell)\n",
    "    t = CSV.read(genefolder * genename*\"_exp\"*expnumber*\"_TSS.csv\", DataFrames.DataFrame)\n",
    "    t[!,:Image_Cell] = t[!,:Image] .*\"__\".*string.(t[!,:Cell])\n",
    "    exp = innerjoin(exp, t, on = :Image_Cell, makeunique=true)\n",
    "    if addrep > 0\n",
    "        exp[!,:Rep] = [addrep for ii in 1:nrow(exp)]\n",
    "    end\n",
    "    cp = CSV.read(genefolder * genename*\"_exp\"*expnumber*\"_CP.csv\", DataFrames.DataFrame)[!,[\"Genotype\",\"Timepoint\",\"Image_Cell\"]]\n",
    "    cp[!,\"Image_Cell\"] = [replace(ii, \"MAX_\" => \"\") for ii in cp[!,\"Image_Cell\"]]\n",
    "    expreturn = sample_from_genotype_timepoint(sort!(innerjoin(exp, cp, on = :Image_Cell, makeunique=true), :Genotype, rev = true))\n",
    "    expreturn[!,:TSS1_r2] = expreturn[!,:TSS1_r2] \n",
    "    expreturn[!,:TSS2_r2] = expreturn[!,:TSS2_r2] \n",
    "    removeodds(expreturn)\n",
    "end\n",
    "\n"
   ]
  },
  {
   "cell_type": "code",
   "execution_count": 2,
   "metadata": {},
   "outputs": [
    {
     "name": "stdout",
     "output_type": "stream",
     "text": [
      "12370\n",
      "8933\n",
      "8964\n",
      "10674\n"
     ]
    },
    {
     "ename": "LoadError",
     "evalue": "SystemError: opening file \"GeneData/Il12b_intron_original.csv\": No such file or directory",
     "output_type": "error",
     "traceback": [
      "SystemError: opening file \"GeneData/Il12b_intron_original.csv\": No such file or directory",
      "",
      "Stacktrace:",
      "  [1] systemerror(p::String, errno::Int32; extrainfo::Nothing)",
      "    @ Base ./error.jl:168",
      "  [2] #systemerror#62",
      "    @ ./error.jl:167 [inlined]",
      "  [3] systemerror",
      "    @ ./error.jl:167 [inlined]",
      "  [4] open(fname::String; lock::Bool, read::Nothing, write::Nothing, create::Nothing, truncate::Bool, append::Nothing)",
      "    @ Base ./iostream.jl:293",
      "  [5] open(fname::String, mode::String; lock::Bool)",
      "    @ Base ./iostream.jl:355",
      "  [6] open(fname::String, mode::String)",
      "    @ Base ./iostream.jl:355",
      "  [7] open(::CSV.var\"#73#74\"{CSV.var\"#66#67\"{Bool, Bool, Tables.Schema{(:Image, :Cell, :AREA_cell, :AREA_nuc, :N_total, :N_intron, :N_intron_Nuc, :Image_Cell, :Cell_1, :Image_1, :Image_BF, :N_TSS2, :locus1_TSS2, :locus1_int1_TSS2, :locus1_int2_TSS2, :locus1_int3_TSS2, :locus1_x_TSS2, :locus1_y_TSS2, :locus1_z_TSS2, :locus2_TSS2, :locus2_int1_TSS2, :locus2_int2_TSS2, :locus2_int3_TSS2, :locus2_x_TSS2, :locus2_y_TSS2, :locus2_z_TSS2, :locus_dist_TSS2, :TSS1_r1, :TSS1_r2, :TSS1_r3, :TSS2_r1, :TSS2_r2, :TSS2_r3, :N_exon, :N_exon_Nuc, :Rep, :Genotype, :Timepoint, :Sample), Tuple{String, String, Float64, Float64, Int64, Int64, Int64, String, String, String, Float64, Int64, String, Float64, Float64, Float64, Float64, Float64, Float64, String, Float64, Float64, Float64, Float64, Float64, Float64, Float64, Float64, Float64, Float64, Float64, Float64, Float64, Int64, Int64, String, String, Int64, String}}, DataFrames.DataFrameRows{DataFrame}, CSV.Options{UInt8, UInt8, Nothing, Tuple{}, CSV.var\"#60#63\"}, Vector{UInt8}, Int64, Int64, NTuple{39, Symbol}}}, ::String, ::Vararg{String, N} where N; kwargs::Base.Iterators.Pairs{Union{}, Union{}, Tuple{}, NamedTuple{(), Tuple{}}})",
      "    @ Base ./io.jl:328",
      "  [8] open",
      "    @ ./io.jl:328 [inlined]",
      "  [9] with",
      "    @ ~/.julia/packages/CSV/CJfFO/src/write.jl:278 [inlined]",
      " [10] #write#65",
      "    @ ~/.julia/packages/CSV/CJfFO/src/write.jl:205 [inlined]",
      " [11] write(file::String, itr::DataFrame; delim::Char, quotechar::Char, openquotechar::Nothing, closequotechar::Nothing, escapechar::Char, newline::Char, decimal::Char, dateformat::Nothing, quotestrings::Bool, missingstring::String, transform::CSV.var\"#60#63\", bom::Bool, append::Bool, writeheader::Nothing, partition::Bool, kwargs::Base.Iterators.Pairs{Union{}, Union{}, Tuple{}, NamedTuple{(), Tuple{}}})",
      "    @ CSV ~/.julia/packages/CSV/CJfFO/src/write.jl:191",
      " [12] write(file::String, itr::DataFrame)",
      "    @ CSV ~/.julia/packages/CSV/CJfFO/src/write.jl:152",
      " [13] top-level scope",
      "    @ In[2]:25",
      " [14] eval",
      "    @ ./boot.jl:360 [inlined]",
      " [15] include_string(mapexpr::typeof(REPL.softscope), mod::Module, code::String, filename::String)",
      "    @ Base ./loading.jl:1094"
     ]
    }
   ],
   "source": [
    "gene = \"Il12b_intron_original\"\n",
    "folder = \"../../MiniPrograms_smFISH/OrganiseData/Il12b_original/\"\n",
    "\n",
    "exps = []\n",
    "for expnumber in [\"1\", \"2\", \"3\", \"4\"]\n",
    "exp = CSV.read(folder* gene*\"_exp\"*expnumber*\"_FQ.csv\", DataFrames.DataFrame)\n",
    "exp = column_fusion(exp, :Image, :Cell)\n",
    "t = CSV.read(folder* gene*\"_exp\"*expnumber*\"_TSS.csv\", DataFrames.DataFrame)\n",
    "t[!,:Image_Cell] = t[!,:Image] .*\"__\".*string.(t[!,:Cell])\n",
    "exp = innerjoin(exp, t, on = :Image_Cell, makeunique=true)\n",
    "rename!(exp, :N_thres_Total => :N_intron, :N_thres_Nuc => :N_intron_Nuc;)\n",
    "mature = CSV.read(folder* gene*\"_exp\"*expnumber*\"_FQ_mature.csv\", DataFrames.DataFrame)\n",
    "rename!(mature, :N_thres_Total => :N_exon, :N_thres_Nuc => :N_exon_Nuc;)\n",
    "exp = innerjoin(exp, mature[!,[\"N_exon\",\"N_exon_Nuc\",\"Image_Cell\"]], on = :Image_Cell)\n",
    "exp[!, :Rep] = [expnumber for ii in 1:nrow(exp)]\n",
    "    cp = CSV.read(folder * gene*\"_exp\"*expnumber*\"_CP.csv\", DataFrames.DataFrame)[!,[\"Genotype\",\"Timepoint\",\"Image_Cell\"]]\n",
    "    cp[!,\"Image_Cell\"] = [replace(ii, \"MAX_\" => \"\") for ii in cp[!,\"Image_Cell\"]]\n",
    "    exp = sample_from_genotype_timepoint(sort!(innerjoin(exp, cp, on = :Image_Cell, makeunique=true), :Genotype, rev = true))\n",
    "push!(exps, exp)\n",
    "    println(nrow(exp))\n",
    "    \n",
    "\n",
    "end\n",
    "exps = vcat(exps...)\n",
    "CSV.write(\"GeneData/Il12b_intron_original.csv\", exps)\n",
    "    \n"
   ]
  },
  {
   "cell_type": "code",
   "execution_count": 2,
   "metadata": {},
   "outputs": [
    {
     "data": {
      "text/plain": [
       "\"GeneData/Sertad2_intron.csv\""
      ]
     },
     "execution_count": 2,
     "metadata": {},
     "output_type": "execute_result"
    }
   ],
   "source": [
    "folder = \"EhnPeliSertad/\"\n",
    "gene = \"Enh\"\n",
    "folder = \"../../MiniPrograms_smFISH/OrganiseData/\"*folder*\"/\"\n",
    "\n",
    "e1 = get_data(folder, gene, 1)\n",
    "e2 = get_data(folder, gene, 2)\n",
    "exps = vcat(e1,e2)\n",
    "CSV.write(\"GeneData/\"*gene*\".csv\", exps)\n",
    "gene = \"Peli1_intron\"\n",
    "e1 = get_data(folder, gene, 1)\n",
    "e2 = get_data(folder, gene, 2)\n",
    "exps = vcat(e1,e2)\n",
    "CSV.write(\"GeneData/\"*gene*\".csv\", exps)\n",
    "gene = \"Sertad2_intron\"\n",
    "e1 = get_data(folder, gene, 1)\n",
    "e2 = get_data(folder, gene, 2)\n",
    "exps = vcat(e1,e2)\n",
    "CSV.write(\"GeneData/\"*gene*\".csv\", exps)"
   ]
  },
  {
   "cell_type": "code",
   "execution_count": 3,
   "metadata": {},
   "outputs": [
    {
     "name": "stdout",
     "output_type": "stream",
     "text": [
      "5038\n",
      "16261\n",
      "6145\n"
     ]
    },
    {
     "data": {
      "text/plain": [
       "\"GeneData/Peli1_intron_original.csv\""
      ]
     },
     "execution_count": 3,
     "metadata": {},
     "output_type": "execute_result"
    }
   ],
   "source": [
    "gene = \"Peli1_intron_original\"\n",
    "folder = \"../../MiniPrograms_smFISH/OrganiseData/Peli1_original/\"\n",
    "\n",
    "exps = []\n",
    "for expnumber in [\"1\", \"2\", \"3\"]\n",
    "exp = CSV.read(folder* gene*\"_exp\"*expnumber*\"_FQ.csv\", DataFrames.DataFrame)\n",
    "exp = column_fusion(exp, :Image, :Cell)\n",
    "t = CSV.read(folder* gene*\"_exp\"*expnumber*\"_TSS.csv\", DataFrames.DataFrame)\n",
    "t[!,:Image_Cell] = t[!,:Image] .*\"__\".*string.(t[!,:Cell])\n",
    "exp = innerjoin(exp, t, on = :Image_Cell, makeunique=true)\n",
    "rename!(exp, :N_thres_Total => :N_intron, :N_thres_Nuc => :N_intron_Nuc;)\n",
    "mature = CSV.read(folder* gene*\"_exp\"*expnumber*\"_FQ_mature.csv\", DataFrames.DataFrame)\n",
    "rename!(mature, :N_thres_Total => :N_exon, :N_thres_Nuc => :N_exon_Nuc;)\n",
    "exp = innerjoin(exp, mature[!,[\"N_exon\",\"N_exon_Nuc\",\"Image_Cell\"]], on = :Image_Cell)\n",
    "exp[!, :Rep] = [expnumber for ii in 1:nrow(exp)]\n",
    "    cp = CSV.read(folder * gene*\"_exp\"*expnumber*\"_CP.csv\", DataFrames.DataFrame)[!,[\"Genotype\",\"Timepoint\",\"Image_Cell\"]]\n",
    "    cp[!,\"Image_Cell\"] = [replace(ii, \"MAX_\" => \"\") for ii in cp[!,\"Image_Cell\"]]\n",
    "    exp = sample_from_genotype_timepoint(sort!(innerjoin(exp, cp, on = :Image_Cell, makeunique=true), :Genotype, rev = true))\n",
    "push!(exps, exp)\n",
    "    println(nrow(exp))\n",
    "end\n",
    "exps = vcat(exps...)\n",
    "CSV.write(\"GeneData/Peli1_intron_original.csv\", exps)\n",
    "    \n"
   ]
  },
  {
   "cell_type": "code",
   "execution_count": 5,
   "metadata": {},
   "outputs": [
    {
     "name": "stdout",
     "output_type": "stream",
     "text": [
      "8026\n",
      "10890\n"
     ]
    },
    {
     "data": {
      "text/plain": [
       "\"GeneData/Ifnb1_original.csv\""
      ]
     },
     "execution_count": 5,
     "metadata": {},
     "output_type": "execute_result"
    }
   ],
   "source": [
    "gene = \"Ifnb1_original\"\n",
    "folder = \"../../MiniPrograms_smFISH/OrganiseData/Ifnb1_original/\"\n",
    "\n",
    "exps = []\n",
    "for expnumber in [\"1\", \"2\"]\n",
    "exp = CSV.read(folder* gene*\"_exp\"*expnumber*\"_FQ.csv\", DataFrames.DataFrame)\n",
    "exp = column_fusion(exp, :Image, :Cell)\n",
    "t = CSV.read(folder* gene*\"_exp\"*expnumber*\"_TSS.csv\", DataFrames.DataFrame)\n",
    "t[!,:Image_Cell] = t[!,:Image] .*\"__\".*string.(t[!,:Cell])\n",
    "exp = innerjoin(exp, t, on = :Image_Cell, makeunique=true)\n",
    "rename!(exp, :N_thres_Total => :N_exon, :N_thres_Nuc => :N_exon_Nuc;)\n",
    "cp = CSV.read(folder * gene*\"_exp\"*expnumber*\"_CP.csv\", DataFrames.DataFrame)[!,[\"Genotype\",\"Timepoint\",\"Image_Cell\"]]\n",
    "    cp[!,\"Image_Cell\"] = [replace(ii, \"MAX_\" => \"\") for ii in cp[!,\"Image_Cell\"]]\n",
    "    exp = sample_from_genotype_timepoint(sort!(innerjoin(exp, cp, on = :Image_Cell, makeunique=true), :Genotype, rev = true))\n",
    "push!(exps, exp)\n",
    "    println(nrow(exp))\n",
    "end\n",
    "exps = vcat(exps...)\n",
    "CSV.write(\"GeneData/Ifnb1_original.csv\", exps)\n",
    "    \n"
   ]
  },
  {
   "cell_type": "code",
   "execution_count": 6,
   "metadata": {},
   "outputs": [
    {
     "data": {
      "text/plain": [
       "\"GeneData/Il12b_intron.csv\""
      ]
     },
     "execution_count": 6,
     "metadata": {},
     "output_type": "execute_result"
    }
   ],
   "source": [
    "ehnname = \"HSS1\"\n",
    "intronname = \"Il12b_intron\"\n",
    "AnalysisName=\"Il12bHSS1/\"\n",
    "\n",
    "folder = \"../../MiniPrograms_smFISH/OrganiseData/\"*AnalysisName*\"/\"\n",
    "\n",
    "exp1_enh = get_data(folder, ehnname, \"1_extra\";)\n",
    "exp2_enh  = get_data(folder, ehnname, 2;)\n",
    "exp1_gene = get_data(folder, intronname, \"1_extra\";)\n",
    "exp2_gene  = get_data(folder, intronname, 2;);\n",
    "\n",
    "all_ehn = join_in_all_common_columns(exp1_enh, exp2_enh)\n",
    "CSV.write(\"GeneData/\"*\"$ehnname\"*\".csv\", all_ehn)\n",
    "all_gene = join_in_all_common_columns(exp1_gene, exp2_gene)\n",
    "CSV.write(\"GeneData/\"*\"$intronname\"*\".csv\", all_gene)\n"
   ]
  },
  {
   "cell_type": "code",
   "execution_count": 7,
   "metadata": {},
   "outputs": [
    {
     "data": {
      "text/plain": [
       "\"GeneData/Egr2_enh.csv\""
      ]
     },
     "execution_count": 7,
     "metadata": {},
     "output_type": "execute_result"
    }
   ],
   "source": [
    "folder = \"Egr2\"\n",
    "gene = \"Egr2_intron\"\n",
    "folder = \"../../MiniPrograms_smFISH/OrganiseData/\"*folder*\"/\"\n",
    "\n",
    "\n",
    "e1 = get_data(folder, gene, 1)\n",
    "e2 = get_data(folder, gene, 2)\n",
    "exps = vcat(e1,e2)\n",
    "CSV.write(\"GeneData/\"*gene*\".csv\", exps)\n",
    "gene = \"Egr2_enh\"\n",
    "e1 = get_data(folder, gene, 1)\n",
    "e2 = get_data(folder, gene, 2)\n",
    "exps = vcat(e1,e2)\n",
    "CSV.write(\"GeneData/\"*gene*\".csv\", exps)"
   ]
  },
  {
   "cell_type": "code",
   "execution_count": 8,
   "metadata": {},
   "outputs": [
    {
     "data": {
      "text/html": [
       "<table class=\"data-frame\"><thead><tr><th></th><th>Image</th></tr><tr><th></th><th>String</th></tr></thead><tbody><p>6,542 rows × 47 columns (omitted printing of 46 columns)</p><tr><th>1</th><td>Prdm1_Prdm1Ehn_type1C3_type6C2_26012021_Sequence_A 0_S 0_U 0_V 0_X 8_Y18_Job(Seq.Scan) 1 01 01 02 01 04 01_008</td></tr><tr><th>2</th><td>Prdm1_Prdm1Ehn_type1C3_type6C2_26012021_Sequence_A 0_S 0_U 0_V 0_X 8_Y18_Job(Seq.Scan) 1 01 01 02 01 04 01_008</td></tr><tr><th>3</th><td>Prdm1_Prdm1Ehn_type1C3_type6C2_26012021_Sequence_A 0_S 0_U 0_V 0_X 8_Y18_Job(Seq.Scan) 1 01 01 02 01 04 01_008</td></tr><tr><th>4</th><td>Prdm1_Prdm1Ehn_type1C3_type6C2_26012021_Sequence_A 0_S 0_U 0_V 0_X 8_Y18_Job(Seq.Scan) 1 01 01 02 01 04 01_008</td></tr><tr><th>5</th><td>Prdm1_Prdm1Ehn_type1C3_type6C2_26012021_Sequence_A 0_S 0_U 0_V 0_X 8_Y18_Job(Seq.Scan) 1 01 01 02 01 04 01_008</td></tr><tr><th>6</th><td>Prdm1_Prdm1Ehn_type1C3_type6C2_26012021_Sequence_A 0_S 0_U 0_V 0_X 8_Y18_Job(Seq.Scan) 1 01 01 02 01 04 01_008</td></tr><tr><th>7</th><td>Prdm1_Prdm1Ehn_type1C3_type6C2_26012021_Sequence_A 0_S 0_U 0_V 0_X 8_Y18_Job(Seq.Scan) 1 01 01 02 01 04 01_008</td></tr><tr><th>8</th><td>Prdm1_Prdm1Ehn_type1C3_type6C2_26012021_Sequence_A 0_S 0_U 0_V 0_X 8_Y18_Job(Seq.Scan) 1 01 01 02 01 04 01_008</td></tr><tr><th>9</th><td>Prdm1_Prdm1Ehn_type1C3_type6C2_26012021_Sequence_A 0_S 0_U 0_V 0_X 8_Y18_Job(Seq.Scan) 1 01 01 02 01 04 01_008</td></tr><tr><th>10</th><td>Prdm1_Prdm1Ehn_type1C3_type6C2_26012021_Sequence_A 0_S 0_U 0_V 0_X 8_Y18_Job(Seq.Scan) 1 01 01 02 01 04 01_008</td></tr><tr><th>11</th><td>Prdm1_Prdm1Ehn_type1C3_type6C2_26012021_Sequence_A 0_S 0_U 0_V 0_X 8_Y18_Job(Seq.Scan) 1 01 01 02 01 04 01_008</td></tr><tr><th>12</th><td>Prdm1_Prdm1Ehn_type1C3_type6C2_26012021_Sequence_A 0_S 0_U 0_V 0_X 8_Y18_Job(Seq.Scan) 1 01 01 02 01 04 01_008</td></tr><tr><th>13</th><td>Prdm1_Prdm1Ehn_type1C3_type6C2_26012021_Sequence_A 0_S 0_U 0_V 0_X 8_Y18_Job(Seq.Scan) 1 01 01 02 01 04 01_008</td></tr><tr><th>14</th><td>Prdm1_Prdm1Ehn_type1C3_type6C2_26012021_Sequence_A 0_S 0_U 0_V 0_X 8_Y18_Job(Seq.Scan) 1 01 01 02 01 04 01_008</td></tr><tr><th>15</th><td>Prdm1_Prdm1Ehn_type1C3_type6C2_26012021_Sequence_A 0_S 0_U 0_V 0_X 8_Y18_Job(Seq.Scan) 1 01 01 02 01 04 01_008</td></tr><tr><th>16</th><td>Prdm1_Prdm1Ehn_type1C3_type6C2_26012021_Sequence_A 0_S 0_U 0_V 0_X 8_Y18_Job(Seq.Scan) 1 01 01 02 01 04 01_008</td></tr><tr><th>17</th><td>Prdm1_Prdm1Ehn_type1C3_type6C2_26012021_Sequence_A 0_S 0_U 0_V 0_X 8_Y18_Job(Seq.Scan) 1 01 01 02 01 04 01_008</td></tr><tr><th>18</th><td>Prdm1_Prdm1Ehn_type1C3_type6C2_26012021_Sequence_A 0_S 0_U 0_V 0_X 8_Y18_Job(Seq.Scan) 1 01 01 02 01 04 01_008</td></tr><tr><th>19</th><td>Prdm1_Prdm1Ehn_type1C3_type6C2_26012021_Sequence_A 0_S 0_U 0_V 0_X 8_Y18_Job(Seq.Scan) 1 01 01 02 01 04 01_008</td></tr><tr><th>20</th><td>Prdm1_Prdm1Ehn_type1C3_type6C2_26012021_Sequence_A 0_S 0_U 0_V 0_X 8_Y18_Job(Seq.Scan) 1 01 01 02 01 04 01_008</td></tr><tr><th>21</th><td>Prdm1_Prdm1Ehn_type1C3_type6C2_26012021_Sequence_A 0_S 0_U 0_V 0_X 8_Y18_Job(Seq.Scan) 1 01 01 02 01 04 01_008</td></tr><tr><th>22</th><td>Prdm1_Prdm1Ehn_type1C3_type6C2_26012021_Sequence_A 0_S 0_U 0_V 0_X 8_Y18_Job(Seq.Scan) 1 01 01 02 01 04 01_008</td></tr><tr><th>23</th><td>Prdm1_Prdm1Ehn_type1C3_type6C2_26012021_Sequence_A 0_S 0_U 0_V 0_X 8_Y18_Job(Seq.Scan) 1 01 01 02 01 04 01_008</td></tr><tr><th>24</th><td>Prdm1_Prdm1Ehn_type1C3_type6C2_26012021_Sequence_A 0_S 0_U 0_V 0_X 8_Y18_Job(Seq.Scan) 1 01 01 02 01 04 01_008</td></tr><tr><th>25</th><td>Prdm1_Prdm1Ehn_type1C3_type6C2_26012021_Sequence_A 0_S 0_U 0_V 0_X 8_Y18_Job(Seq.Scan) 1 01 01 02 01 04 01_008</td></tr><tr><th>26</th><td>Prdm1_Prdm1Ehn_type1C3_type6C2_26012021_Sequence_A 0_S 0_U 0_V 0_X 8_Y18_Job(Seq.Scan) 1 01 01 02 01 04 01_008</td></tr><tr><th>27</th><td>Prdm1_Prdm1Ehn_type1C3_type6C2_26012021_Sequence_A 0_S 0_U 0_V 0_X 8_Y18_Job(Seq.Scan) 1 01 01 02 01 04 01_008</td></tr><tr><th>28</th><td>Prdm1_Prdm1Ehn_type1C3_type6C2_26012021_Sequence_A 0_S 0_U 0_V 0_X 8_Y18_Job(Seq.Scan) 1 01 01 02 01 04 01_008</td></tr><tr><th>29</th><td>Prdm1_Prdm1Ehn_type1C3_type6C2_26012021_Sequence_A 0_S 0_U 0_V 0_X 8_Y18_Job(Seq.Scan) 1 01 01 02 01 04 01_008</td></tr><tr><th>30</th><td>Prdm1_Prdm1Ehn_type1C3_type6C2_26012021_Sequence_A 0_S 0_U 0_V 0_X 8_Y18_Job(Seq.Scan) 1 01 01 02 01 04 01_008</td></tr><tr><th>&vellip;</th><td>&vellip;</td></tr></tbody></table>"
      ],
      "text/latex": [
       "\\begin{tabular}{r|cc}\n",
       "\t& Image & \\\\\n",
       "\t\\hline\n",
       "\t& String & \\\\\n",
       "\t\\hline\n",
       "\t1 & Prdm1\\_Prdm1Ehn\\_type1C3\\_type6C2\\_26012021\\_Sequence\\_A 0\\_S 0\\_U 0\\_V 0\\_X 8\\_Y18\\_Job(Seq.Scan) 1 01 01 02 01 04 01\\_008 & $\\dots$ \\\\\n",
       "\t2 & Prdm1\\_Prdm1Ehn\\_type1C3\\_type6C2\\_26012021\\_Sequence\\_A 0\\_S 0\\_U 0\\_V 0\\_X 8\\_Y18\\_Job(Seq.Scan) 1 01 01 02 01 04 01\\_008 & $\\dots$ \\\\\n",
       "\t3 & Prdm1\\_Prdm1Ehn\\_type1C3\\_type6C2\\_26012021\\_Sequence\\_A 0\\_S 0\\_U 0\\_V 0\\_X 8\\_Y18\\_Job(Seq.Scan) 1 01 01 02 01 04 01\\_008 & $\\dots$ \\\\\n",
       "\t4 & Prdm1\\_Prdm1Ehn\\_type1C3\\_type6C2\\_26012021\\_Sequence\\_A 0\\_S 0\\_U 0\\_V 0\\_X 8\\_Y18\\_Job(Seq.Scan) 1 01 01 02 01 04 01\\_008 & $\\dots$ \\\\\n",
       "\t5 & Prdm1\\_Prdm1Ehn\\_type1C3\\_type6C2\\_26012021\\_Sequence\\_A 0\\_S 0\\_U 0\\_V 0\\_X 8\\_Y18\\_Job(Seq.Scan) 1 01 01 02 01 04 01\\_008 & $\\dots$ \\\\\n",
       "\t6 & Prdm1\\_Prdm1Ehn\\_type1C3\\_type6C2\\_26012021\\_Sequence\\_A 0\\_S 0\\_U 0\\_V 0\\_X 8\\_Y18\\_Job(Seq.Scan) 1 01 01 02 01 04 01\\_008 & $\\dots$ \\\\\n",
       "\t7 & Prdm1\\_Prdm1Ehn\\_type1C3\\_type6C2\\_26012021\\_Sequence\\_A 0\\_S 0\\_U 0\\_V 0\\_X 8\\_Y18\\_Job(Seq.Scan) 1 01 01 02 01 04 01\\_008 & $\\dots$ \\\\\n",
       "\t8 & Prdm1\\_Prdm1Ehn\\_type1C3\\_type6C2\\_26012021\\_Sequence\\_A 0\\_S 0\\_U 0\\_V 0\\_X 8\\_Y18\\_Job(Seq.Scan) 1 01 01 02 01 04 01\\_008 & $\\dots$ \\\\\n",
       "\t9 & Prdm1\\_Prdm1Ehn\\_type1C3\\_type6C2\\_26012021\\_Sequence\\_A 0\\_S 0\\_U 0\\_V 0\\_X 8\\_Y18\\_Job(Seq.Scan) 1 01 01 02 01 04 01\\_008 & $\\dots$ \\\\\n",
       "\t10 & Prdm1\\_Prdm1Ehn\\_type1C3\\_type6C2\\_26012021\\_Sequence\\_A 0\\_S 0\\_U 0\\_V 0\\_X 8\\_Y18\\_Job(Seq.Scan) 1 01 01 02 01 04 01\\_008 & $\\dots$ \\\\\n",
       "\t11 & Prdm1\\_Prdm1Ehn\\_type1C3\\_type6C2\\_26012021\\_Sequence\\_A 0\\_S 0\\_U 0\\_V 0\\_X 8\\_Y18\\_Job(Seq.Scan) 1 01 01 02 01 04 01\\_008 & $\\dots$ \\\\\n",
       "\t12 & Prdm1\\_Prdm1Ehn\\_type1C3\\_type6C2\\_26012021\\_Sequence\\_A 0\\_S 0\\_U 0\\_V 0\\_X 8\\_Y18\\_Job(Seq.Scan) 1 01 01 02 01 04 01\\_008 & $\\dots$ \\\\\n",
       "\t13 & Prdm1\\_Prdm1Ehn\\_type1C3\\_type6C2\\_26012021\\_Sequence\\_A 0\\_S 0\\_U 0\\_V 0\\_X 8\\_Y18\\_Job(Seq.Scan) 1 01 01 02 01 04 01\\_008 & $\\dots$ \\\\\n",
       "\t14 & Prdm1\\_Prdm1Ehn\\_type1C3\\_type6C2\\_26012021\\_Sequence\\_A 0\\_S 0\\_U 0\\_V 0\\_X 8\\_Y18\\_Job(Seq.Scan) 1 01 01 02 01 04 01\\_008 & $\\dots$ \\\\\n",
       "\t15 & Prdm1\\_Prdm1Ehn\\_type1C3\\_type6C2\\_26012021\\_Sequence\\_A 0\\_S 0\\_U 0\\_V 0\\_X 8\\_Y18\\_Job(Seq.Scan) 1 01 01 02 01 04 01\\_008 & $\\dots$ \\\\\n",
       "\t16 & Prdm1\\_Prdm1Ehn\\_type1C3\\_type6C2\\_26012021\\_Sequence\\_A 0\\_S 0\\_U 0\\_V 0\\_X 8\\_Y18\\_Job(Seq.Scan) 1 01 01 02 01 04 01\\_008 & $\\dots$ \\\\\n",
       "\t17 & Prdm1\\_Prdm1Ehn\\_type1C3\\_type6C2\\_26012021\\_Sequence\\_A 0\\_S 0\\_U 0\\_V 0\\_X 8\\_Y18\\_Job(Seq.Scan) 1 01 01 02 01 04 01\\_008 & $\\dots$ \\\\\n",
       "\t18 & Prdm1\\_Prdm1Ehn\\_type1C3\\_type6C2\\_26012021\\_Sequence\\_A 0\\_S 0\\_U 0\\_V 0\\_X 8\\_Y18\\_Job(Seq.Scan) 1 01 01 02 01 04 01\\_008 & $\\dots$ \\\\\n",
       "\t19 & Prdm1\\_Prdm1Ehn\\_type1C3\\_type6C2\\_26012021\\_Sequence\\_A 0\\_S 0\\_U 0\\_V 0\\_X 8\\_Y18\\_Job(Seq.Scan) 1 01 01 02 01 04 01\\_008 & $\\dots$ \\\\\n",
       "\t20 & Prdm1\\_Prdm1Ehn\\_type1C3\\_type6C2\\_26012021\\_Sequence\\_A 0\\_S 0\\_U 0\\_V 0\\_X 8\\_Y18\\_Job(Seq.Scan) 1 01 01 02 01 04 01\\_008 & $\\dots$ \\\\\n",
       "\t21 & Prdm1\\_Prdm1Ehn\\_type1C3\\_type6C2\\_26012021\\_Sequence\\_A 0\\_S 0\\_U 0\\_V 0\\_X 8\\_Y18\\_Job(Seq.Scan) 1 01 01 02 01 04 01\\_008 & $\\dots$ \\\\\n",
       "\t22 & Prdm1\\_Prdm1Ehn\\_type1C3\\_type6C2\\_26012021\\_Sequence\\_A 0\\_S 0\\_U 0\\_V 0\\_X 8\\_Y18\\_Job(Seq.Scan) 1 01 01 02 01 04 01\\_008 & $\\dots$ \\\\\n",
       "\t23 & Prdm1\\_Prdm1Ehn\\_type1C3\\_type6C2\\_26012021\\_Sequence\\_A 0\\_S 0\\_U 0\\_V 0\\_X 8\\_Y18\\_Job(Seq.Scan) 1 01 01 02 01 04 01\\_008 & $\\dots$ \\\\\n",
       "\t24 & Prdm1\\_Prdm1Ehn\\_type1C3\\_type6C2\\_26012021\\_Sequence\\_A 0\\_S 0\\_U 0\\_V 0\\_X 8\\_Y18\\_Job(Seq.Scan) 1 01 01 02 01 04 01\\_008 & $\\dots$ \\\\\n",
       "\t25 & Prdm1\\_Prdm1Ehn\\_type1C3\\_type6C2\\_26012021\\_Sequence\\_A 0\\_S 0\\_U 0\\_V 0\\_X 8\\_Y18\\_Job(Seq.Scan) 1 01 01 02 01 04 01\\_008 & $\\dots$ \\\\\n",
       "\t26 & Prdm1\\_Prdm1Ehn\\_type1C3\\_type6C2\\_26012021\\_Sequence\\_A 0\\_S 0\\_U 0\\_V 0\\_X 8\\_Y18\\_Job(Seq.Scan) 1 01 01 02 01 04 01\\_008 & $\\dots$ \\\\\n",
       "\t27 & Prdm1\\_Prdm1Ehn\\_type1C3\\_type6C2\\_26012021\\_Sequence\\_A 0\\_S 0\\_U 0\\_V 0\\_X 8\\_Y18\\_Job(Seq.Scan) 1 01 01 02 01 04 01\\_008 & $\\dots$ \\\\\n",
       "\t28 & Prdm1\\_Prdm1Ehn\\_type1C3\\_type6C2\\_26012021\\_Sequence\\_A 0\\_S 0\\_U 0\\_V 0\\_X 8\\_Y18\\_Job(Seq.Scan) 1 01 01 02 01 04 01\\_008 & $\\dots$ \\\\\n",
       "\t29 & Prdm1\\_Prdm1Ehn\\_type1C3\\_type6C2\\_26012021\\_Sequence\\_A 0\\_S 0\\_U 0\\_V 0\\_X 8\\_Y18\\_Job(Seq.Scan) 1 01 01 02 01 04 01\\_008 & $\\dots$ \\\\\n",
       "\t30 & Prdm1\\_Prdm1Ehn\\_type1C3\\_type6C2\\_26012021\\_Sequence\\_A 0\\_S 0\\_U 0\\_V 0\\_X 8\\_Y18\\_Job(Seq.Scan) 1 01 01 02 01 04 01\\_008 & $\\dots$ \\\\\n",
       "\t$\\dots$ & $\\dots$ &  \\\\\n",
       "\\end{tabular}\n"
      ],
      "text/plain": [
       "\u001b[1m6542×47 DataFrame\u001b[0m\n",
       "\u001b[1m  Row \u001b[0m│\u001b[1m Image                             \u001b[0m\u001b[1m Cell       \u001b[0m\u001b[1m AREA_cell \u001b[0m\u001b[1m AREA_nuc \u001b[0m\u001b[1m N_\u001b[0m ⋯\n",
       "\u001b[1m      \u001b[0m│\u001b[90m String                            \u001b[0m\u001b[90m String     \u001b[0m\u001b[90m Float64   \u001b[0m\u001b[90m Float64  \u001b[0m\u001b[90m In\u001b[0m ⋯\n",
       "──────┼─────────────────────────────────────────────────────────────────────────\n",
       "    1 │ Prdm1_Prdm1Ehn_type1C3_type6C2_2…  Cell_CP_1      3748.0    3547.0     ⋯\n",
       "    2 │ Prdm1_Prdm1Ehn_type1C3_type6C2_2…  Cell_CP_2      3934.5    3731.5\n",
       "    3 │ Prdm1_Prdm1Ehn_type1C3_type6C2_2…  Cell_CP_3      2871.0    2699.0\n",
       "    4 │ Prdm1_Prdm1Ehn_type1C3_type6C2_2…  Cell_CP_4      2880.0    2702.5\n",
       "    5 │ Prdm1_Prdm1Ehn_type1C3_type6C2_2…  Cell_CP_5      2753.0    2580.0     ⋯\n",
       "    6 │ Prdm1_Prdm1Ehn_type1C3_type6C2_2…  Cell_CP_6      2853.5    2680.5\n",
       "    7 │ Prdm1_Prdm1Ehn_type1C3_type6C2_2…  Cell_CP_7      2756.0    2583.0\n",
       "    8 │ Prdm1_Prdm1Ehn_type1C3_type6C2_2…  Cell_CP_8      2802.5    2631.5\n",
       "    9 │ Prdm1_Prdm1Ehn_type1C3_type6C2_2…  Cell_CP_9      2618.0    2452.5     ⋯\n",
       "   10 │ Prdm1_Prdm1Ehn_type1C3_type6C2_2…  Cell_CP_10     5142.0    4882.0\n",
       "   11 │ Prdm1_Prdm1Ehn_type1C3_type6C2_2…  Cell_CP_11     2180.0    2003.5\n",
       "  ⋮   │                 ⋮                      ⋮           ⋮         ⋮         ⋱\n",
       " 6533 │ Prdm1_Prdm1Ehn_type1C3_type6C2_2…  Cell_CP_17     4253.0    4035.0\n",
       " 6534 │ Prdm1_Prdm1Ehn_type1C3_type6C2_2…  Cell_CP_18     3148.0    2965.0     ⋯\n",
       " 6535 │ Prdm1_Prdm1Ehn_type1C3_type6C2_2…  Cell_CP_19     3935.5    3720.0\n",
       " 6536 │ Prdm1_Prdm1Ehn_type1C3_type6C2_2…  Cell_CP_1      3454.5    3256.5\n",
       " 6537 │ Prdm1_Prdm1Ehn_type1C3_type6C2_2…  Cell_CP_2      3067.5    2881.0\n",
       " 6538 │ Prdm1_Prdm1Ehn_type1C3_type6C2_2…  Cell_CP_3      3721.5    3521.5     ⋯\n",
       " 6539 │ Prdm1_Prdm1Ehn_type1C3_type6C2_2…  Cell_CP_4      3144.0    2962.0\n",
       " 6540 │ Prdm1_Prdm1Ehn_type1C3_type6C2_2…  Cell_CP_5      4218.0    4005.0\n",
       " 6541 │ Prdm1_Prdm1Ehn_type1C3_type6C2_2…  Cell_CP_6      3824.5    3619.5\n",
       " 6542 │ Prdm1_Prdm1Ehn_type1C3_type6C2_2…  Cell_CP_7      3467.5    3271.0     ⋯\n",
       "\u001b[36m                                                43 columns and 6521 rows omitted\u001b[0m"
      ]
     },
     "execution_count": 8,
     "metadata": {},
     "output_type": "execute_result"
    }
   ],
   "source": [
    "folder = \"Prdm1/\"\n",
    "folder = \"../../MiniPrograms_smFISH/OrganiseData/\"*folder*\"/\"\n",
    "\n",
    "gene = \"Prdm1_intron\"\n",
    "e1 = get_data(folder, gene, 1)\n",
    "e2 = get_data(folder, gene, 2)\n",
    "exps = vcat(e1,e2)\n",
    "CSV.write(\"GeneData/\"*gene*\".csv\", exps)\n",
    "gene = \"Prdm1_enh\"\n",
    "e1 = get_data(folder, gene, 1)\n",
    "e2 = get_data(folder, gene, 2)\n",
    "exps = vcat(e1,e2)\n",
    "CSV.write(\"GeneData/\"*gene*\".csv\", exps)\n",
    "\n",
    "e1\n"
   ]
  },
  {
   "cell_type": "code",
   "execution_count": 9,
   "metadata": {},
   "outputs": [
    {
     "data": {
      "text/html": [
       "<table class=\"data-frame\"><thead><tr><th></th><th>Image</th></tr><tr><th></th><th>String</th></tr></thead><tbody><p>6,132 rows × 47 columns (omitted printing of 46 columns)</p><tr><th>1</th><td>Ifnb1_L2_type4C3_type6C2_26012021_Sequence_A 0_S 0_U 3_V 0_X21_Y22_Job(Seq.Scan) 1 01 01 02 01 04 01_506</td></tr><tr><th>2</th><td>Ifnb1_L2_type4C3_type6C2_26012021_Sequence_A 0_S 0_U 3_V 0_X20_Y16_Job(Seq.Scan) 1 01 01 02 01 04 01_454</td></tr><tr><th>3</th><td>Ifnb1_L2_type4C3_type6C2_26012021_Sequence_A 0_S 0_U 3_V 0_X20_Y15_Job(Seq.Scan) 1 01 01 02 01 04 01_444</td></tr><tr><th>4</th><td>Ifnb1_L2_type4C3_type6C2_26012021_Sequence_A 0_S 0_U 3_V 0_X20_Y15_Job(Seq.Scan) 1 01 01 02 01 04 01_444</td></tr><tr><th>5</th><td>Ifnb1_L2_type4C3_type6C2_26012021_Sequence_A 0_S 0_U 3_V 0_X20_Y15_Job(Seq.Scan) 1 01 01 02 01 04 01_444</td></tr><tr><th>6</th><td>Ifnb1_L2_type4C3_type6C2_26012021_Sequence_A 0_S 0_U 3_V 0_X20_Y15_Job(Seq.Scan) 1 01 01 02 01 04 01_444</td></tr><tr><th>7</th><td>Ifnb1_L2_type4C3_type6C2_26012021_Sequence_A 0_S 0_U 3_V 0_X20_Y15_Job(Seq.Scan) 1 01 01 02 01 04 01_444</td></tr><tr><th>8</th><td>Ifnb1_L2_type4C3_type6C2_26012021_Sequence_A 0_S 0_U 3_V 0_X20_Y15_Job(Seq.Scan) 1 01 01 02 01 04 01_444</td></tr><tr><th>9</th><td>Ifnb1_L2_type4C3_type6C2_26012021_Sequence_A 0_S 0_U 3_V 0_X20_Y15_Job(Seq.Scan) 1 01 01 02 01 04 01_444</td></tr><tr><th>10</th><td>Ifnb1_L2_type4C3_type6C2_26012021_Sequence_A 0_S 0_U 3_V 0_X20_Y15_Job(Seq.Scan) 1 01 01 02 01 04 01_444</td></tr><tr><th>11</th><td>Ifnb1_L2_type4C3_type6C2_26012021_Sequence_A 0_S 0_U 3_V 0_X20_Y15_Job(Seq.Scan) 1 01 01 02 01 04 01_444</td></tr><tr><th>12</th><td>Ifnb1_L2_type4C3_type6C2_26012021_Sequence_A 0_S 0_U 3_V 0_X20_Y15_Job(Seq.Scan) 1 01 01 02 01 04 01_444</td></tr><tr><th>13</th><td>Ifnb1_L2_type4C3_type6C2_26012021_Sequence_A 0_S 0_U 3_V 0_X20_Y15_Job(Seq.Scan) 1 01 01 02 01 04 01_444</td></tr><tr><th>14</th><td>Ifnb1_L2_type4C3_type6C2_26012021_Sequence_A 0_S 0_U 3_V 0_X20_Y15_Job(Seq.Scan) 1 01 01 02 01 04 01_444</td></tr><tr><th>15</th><td>Ifnb1_L2_type4C3_type6C2_26012021_Sequence_A 0_S 0_U 3_V 0_X20_Y15_Job(Seq.Scan) 1 01 01 02 01 04 01_444</td></tr><tr><th>16</th><td>Ifnb1_L2_type4C3_type6C2_26012021_Sequence_A 0_S 0_U 3_V 0_X20_Y15_Job(Seq.Scan) 1 01 01 02 01 04 01_444</td></tr><tr><th>17</th><td>Ifnb1_L2_type4C3_type6C2_26012021_Sequence_A 0_S 0_U 3_V 0_X20_Y15_Job(Seq.Scan) 1 01 01 02 01 04 01_444</td></tr><tr><th>18</th><td>Ifnb1_L2_type4C3_type6C2_26012021_Sequence_A 0_S 0_U 3_V 0_X20_Y15_Job(Seq.Scan) 1 01 01 02 01 04 01_444</td></tr><tr><th>19</th><td>Ifnb1_L2_type4C3_type6C2_26012021_Sequence_A 0_S 0_U 3_V 0_X20_Y15_Job(Seq.Scan) 1 01 01 02 01 04 01_444</td></tr><tr><th>20</th><td>Ifnb1_L2_type4C3_type6C2_26012021_Sequence_A 0_S 0_U 3_V 0_X20_Y15_Job(Seq.Scan) 1 01 01 02 01 04 01_444</td></tr><tr><th>21</th><td>Ifnb1_L2_type4C3_type6C2_26012021_Sequence_A 0_S 0_U 3_V 0_X20_Y15_Job(Seq.Scan) 1 01 01 02 01 04 01_444</td></tr><tr><th>22</th><td>Ifnb1_L2_type4C3_type6C2_26012021_Sequence_A 0_S 0_U 3_V 0_X20_Y15_Job(Seq.Scan) 1 01 01 02 01 04 01_444</td></tr><tr><th>23</th><td>Ifnb1_L2_type4C3_type6C2_26012021_Sequence_A 0_S 0_U 3_V 0_X20_Y15_Job(Seq.Scan) 1 01 01 02 01 04 01_444</td></tr><tr><th>24</th><td>Ifnb1_L2_type4C3_type6C2_26012021_Sequence_A 0_S 0_U 3_V 0_X20_Y15_Job(Seq.Scan) 1 01 01 02 01 04 01_444</td></tr><tr><th>25</th><td>Ifnb1_L2_type4C3_type6C2_26012021_Sequence_A 0_S 0_U 3_V 0_X20_Y15_Job(Seq.Scan) 1 01 01 02 01 04 01_444</td></tr><tr><th>26</th><td>Ifnb1_L2_type4C3_type6C2_26012021_Sequence_A 0_S 0_U 3_V 0_X20_Y15_Job(Seq.Scan) 1 01 01 02 01 04 01_444</td></tr><tr><th>27</th><td>Ifnb1_L2_type4C3_type6C2_26012021_Sequence_A 0_S 0_U 3_V 0_X20_Y15_Job(Seq.Scan) 1 01 01 02 01 04 01_444</td></tr><tr><th>28</th><td>Ifnb1_L2_type4C3_type6C2_26012021_Sequence_A 0_S 0_U 3_V 0_X20_Y15_Job(Seq.Scan) 1 01 01 02 01 04 01_444</td></tr><tr><th>29</th><td>Ifnb1_L2_type4C3_type6C2_26012021_Sequence_A 0_S 0_U 3_V 0_X20_Y15_Job(Seq.Scan) 1 01 01 02 01 04 01_444</td></tr><tr><th>30</th><td>Ifnb1_L2_type4C3_type6C2_26012021_Sequence_A 0_S 0_U 3_V 0_X20_Y15_Job(Seq.Scan) 1 01 01 02 01 04 01_444</td></tr><tr><th>&vellip;</th><td>&vellip;</td></tr></tbody></table>"
      ],
      "text/latex": [
       "\\begin{tabular}{r|cc}\n",
       "\t& Image & \\\\\n",
       "\t\\hline\n",
       "\t& String & \\\\\n",
       "\t\\hline\n",
       "\t1 & Ifnb1\\_L2\\_type4C3\\_type6C2\\_26012021\\_Sequence\\_A 0\\_S 0\\_U 3\\_V 0\\_X21\\_Y22\\_Job(Seq.Scan) 1 01 01 02 01 04 01\\_506 & $\\dots$ \\\\\n",
       "\t2 & Ifnb1\\_L2\\_type4C3\\_type6C2\\_26012021\\_Sequence\\_A 0\\_S 0\\_U 3\\_V 0\\_X20\\_Y16\\_Job(Seq.Scan) 1 01 01 02 01 04 01\\_454 & $\\dots$ \\\\\n",
       "\t3 & Ifnb1\\_L2\\_type4C3\\_type6C2\\_26012021\\_Sequence\\_A 0\\_S 0\\_U 3\\_V 0\\_X20\\_Y15\\_Job(Seq.Scan) 1 01 01 02 01 04 01\\_444 & $\\dots$ \\\\\n",
       "\t4 & Ifnb1\\_L2\\_type4C3\\_type6C2\\_26012021\\_Sequence\\_A 0\\_S 0\\_U 3\\_V 0\\_X20\\_Y15\\_Job(Seq.Scan) 1 01 01 02 01 04 01\\_444 & $\\dots$ \\\\\n",
       "\t5 & Ifnb1\\_L2\\_type4C3\\_type6C2\\_26012021\\_Sequence\\_A 0\\_S 0\\_U 3\\_V 0\\_X20\\_Y15\\_Job(Seq.Scan) 1 01 01 02 01 04 01\\_444 & $\\dots$ \\\\\n",
       "\t6 & Ifnb1\\_L2\\_type4C3\\_type6C2\\_26012021\\_Sequence\\_A 0\\_S 0\\_U 3\\_V 0\\_X20\\_Y15\\_Job(Seq.Scan) 1 01 01 02 01 04 01\\_444 & $\\dots$ \\\\\n",
       "\t7 & Ifnb1\\_L2\\_type4C3\\_type6C2\\_26012021\\_Sequence\\_A 0\\_S 0\\_U 3\\_V 0\\_X20\\_Y15\\_Job(Seq.Scan) 1 01 01 02 01 04 01\\_444 & $\\dots$ \\\\\n",
       "\t8 & Ifnb1\\_L2\\_type4C3\\_type6C2\\_26012021\\_Sequence\\_A 0\\_S 0\\_U 3\\_V 0\\_X20\\_Y15\\_Job(Seq.Scan) 1 01 01 02 01 04 01\\_444 & $\\dots$ \\\\\n",
       "\t9 & Ifnb1\\_L2\\_type4C3\\_type6C2\\_26012021\\_Sequence\\_A 0\\_S 0\\_U 3\\_V 0\\_X20\\_Y15\\_Job(Seq.Scan) 1 01 01 02 01 04 01\\_444 & $\\dots$ \\\\\n",
       "\t10 & Ifnb1\\_L2\\_type4C3\\_type6C2\\_26012021\\_Sequence\\_A 0\\_S 0\\_U 3\\_V 0\\_X20\\_Y15\\_Job(Seq.Scan) 1 01 01 02 01 04 01\\_444 & $\\dots$ \\\\\n",
       "\t11 & Ifnb1\\_L2\\_type4C3\\_type6C2\\_26012021\\_Sequence\\_A 0\\_S 0\\_U 3\\_V 0\\_X20\\_Y15\\_Job(Seq.Scan) 1 01 01 02 01 04 01\\_444 & $\\dots$ \\\\\n",
       "\t12 & Ifnb1\\_L2\\_type4C3\\_type6C2\\_26012021\\_Sequence\\_A 0\\_S 0\\_U 3\\_V 0\\_X20\\_Y15\\_Job(Seq.Scan) 1 01 01 02 01 04 01\\_444 & $\\dots$ \\\\\n",
       "\t13 & Ifnb1\\_L2\\_type4C3\\_type6C2\\_26012021\\_Sequence\\_A 0\\_S 0\\_U 3\\_V 0\\_X20\\_Y15\\_Job(Seq.Scan) 1 01 01 02 01 04 01\\_444 & $\\dots$ \\\\\n",
       "\t14 & Ifnb1\\_L2\\_type4C3\\_type6C2\\_26012021\\_Sequence\\_A 0\\_S 0\\_U 3\\_V 0\\_X20\\_Y15\\_Job(Seq.Scan) 1 01 01 02 01 04 01\\_444 & $\\dots$ \\\\\n",
       "\t15 & Ifnb1\\_L2\\_type4C3\\_type6C2\\_26012021\\_Sequence\\_A 0\\_S 0\\_U 3\\_V 0\\_X20\\_Y15\\_Job(Seq.Scan) 1 01 01 02 01 04 01\\_444 & $\\dots$ \\\\\n",
       "\t16 & Ifnb1\\_L2\\_type4C3\\_type6C2\\_26012021\\_Sequence\\_A 0\\_S 0\\_U 3\\_V 0\\_X20\\_Y15\\_Job(Seq.Scan) 1 01 01 02 01 04 01\\_444 & $\\dots$ \\\\\n",
       "\t17 & Ifnb1\\_L2\\_type4C3\\_type6C2\\_26012021\\_Sequence\\_A 0\\_S 0\\_U 3\\_V 0\\_X20\\_Y15\\_Job(Seq.Scan) 1 01 01 02 01 04 01\\_444 & $\\dots$ \\\\\n",
       "\t18 & Ifnb1\\_L2\\_type4C3\\_type6C2\\_26012021\\_Sequence\\_A 0\\_S 0\\_U 3\\_V 0\\_X20\\_Y15\\_Job(Seq.Scan) 1 01 01 02 01 04 01\\_444 & $\\dots$ \\\\\n",
       "\t19 & Ifnb1\\_L2\\_type4C3\\_type6C2\\_26012021\\_Sequence\\_A 0\\_S 0\\_U 3\\_V 0\\_X20\\_Y15\\_Job(Seq.Scan) 1 01 01 02 01 04 01\\_444 & $\\dots$ \\\\\n",
       "\t20 & Ifnb1\\_L2\\_type4C3\\_type6C2\\_26012021\\_Sequence\\_A 0\\_S 0\\_U 3\\_V 0\\_X20\\_Y15\\_Job(Seq.Scan) 1 01 01 02 01 04 01\\_444 & $\\dots$ \\\\\n",
       "\t21 & Ifnb1\\_L2\\_type4C3\\_type6C2\\_26012021\\_Sequence\\_A 0\\_S 0\\_U 3\\_V 0\\_X20\\_Y15\\_Job(Seq.Scan) 1 01 01 02 01 04 01\\_444 & $\\dots$ \\\\\n",
       "\t22 & Ifnb1\\_L2\\_type4C3\\_type6C2\\_26012021\\_Sequence\\_A 0\\_S 0\\_U 3\\_V 0\\_X20\\_Y15\\_Job(Seq.Scan) 1 01 01 02 01 04 01\\_444 & $\\dots$ \\\\\n",
       "\t23 & Ifnb1\\_L2\\_type4C3\\_type6C2\\_26012021\\_Sequence\\_A 0\\_S 0\\_U 3\\_V 0\\_X20\\_Y15\\_Job(Seq.Scan) 1 01 01 02 01 04 01\\_444 & $\\dots$ \\\\\n",
       "\t24 & Ifnb1\\_L2\\_type4C3\\_type6C2\\_26012021\\_Sequence\\_A 0\\_S 0\\_U 3\\_V 0\\_X20\\_Y15\\_Job(Seq.Scan) 1 01 01 02 01 04 01\\_444 & $\\dots$ \\\\\n",
       "\t25 & Ifnb1\\_L2\\_type4C3\\_type6C2\\_26012021\\_Sequence\\_A 0\\_S 0\\_U 3\\_V 0\\_X20\\_Y15\\_Job(Seq.Scan) 1 01 01 02 01 04 01\\_444 & $\\dots$ \\\\\n",
       "\t26 & Ifnb1\\_L2\\_type4C3\\_type6C2\\_26012021\\_Sequence\\_A 0\\_S 0\\_U 3\\_V 0\\_X20\\_Y15\\_Job(Seq.Scan) 1 01 01 02 01 04 01\\_444 & $\\dots$ \\\\\n",
       "\t27 & Ifnb1\\_L2\\_type4C3\\_type6C2\\_26012021\\_Sequence\\_A 0\\_S 0\\_U 3\\_V 0\\_X20\\_Y15\\_Job(Seq.Scan) 1 01 01 02 01 04 01\\_444 & $\\dots$ \\\\\n",
       "\t28 & Ifnb1\\_L2\\_type4C3\\_type6C2\\_26012021\\_Sequence\\_A 0\\_S 0\\_U 3\\_V 0\\_X20\\_Y15\\_Job(Seq.Scan) 1 01 01 02 01 04 01\\_444 & $\\dots$ \\\\\n",
       "\t29 & Ifnb1\\_L2\\_type4C3\\_type6C2\\_26012021\\_Sequence\\_A 0\\_S 0\\_U 3\\_V 0\\_X20\\_Y15\\_Job(Seq.Scan) 1 01 01 02 01 04 01\\_444 & $\\dots$ \\\\\n",
       "\t30 & Ifnb1\\_L2\\_type4C3\\_type6C2\\_26012021\\_Sequence\\_A 0\\_S 0\\_U 3\\_V 0\\_X20\\_Y15\\_Job(Seq.Scan) 1 01 01 02 01 04 01\\_444 & $\\dots$ \\\\\n",
       "\t$\\dots$ & $\\dots$ &  \\\\\n",
       "\\end{tabular}\n"
      ],
      "text/plain": [
       "\u001b[1m6132×47 DataFrame\u001b[0m\n",
       "\u001b[1m  Row \u001b[0m│\u001b[1m Image                             \u001b[0m\u001b[1m Cell       \u001b[0m\u001b[1m AREA_cell \u001b[0m\u001b[1m AREA_nuc \u001b[0m\u001b[1m N_\u001b[0m ⋯\n",
       "\u001b[1m      \u001b[0m│\u001b[90m String                            \u001b[0m\u001b[90m String     \u001b[0m\u001b[90m Float64   \u001b[0m\u001b[90m Float64  \u001b[0m\u001b[90m In\u001b[0m ⋯\n",
       "──────┼─────────────────────────────────────────────────────────────────────────\n",
       "    1 │ Ifnb1_L2_type4C3_type6C2_2601202…  Cell_CP_1      3601.5    1241.5     ⋯\n",
       "    2 │ Ifnb1_L2_type4C3_type6C2_2601202…  Cell_CP_1     10819.0    6695.0\n",
       "    3 │ Ifnb1_L2_type4C3_type6C2_2601202…  Cell_CP_1      4624.5    2808.0\n",
       "    4 │ Ifnb1_L2_type4C3_type6C2_2601202…  Cell_CP_2      5069.0    3116.5\n",
       "    5 │ Ifnb1_L2_type4C3_type6C2_2601202…  Cell_CP_3      5260.0    3007.5     ⋯\n",
       "    6 │ Ifnb1_L2_type4C3_type6C2_2601202…  Cell_CP_4      4040.0    2224.0\n",
       "    7 │ Ifnb1_L2_type4C3_type6C2_2601202…  Cell_CP_5      5267.0    3084.5\n",
       "    8 │ Ifnb1_L2_type4C3_type6C2_2601202…  Cell_CP_6      5649.5    3072.5\n",
       "    9 │ Ifnb1_L2_type4C3_type6C2_2601202…  Cell_CP_7      5313.0    2947.0     ⋯\n",
       "   10 │ Ifnb1_L2_type4C3_type6C2_2601202…  Cell_CP_8      5018.0    2830.0\n",
       "   11 │ Ifnb1_L2_type4C3_type6C2_2601202…  Cell_CP_9      5186.0    2844.5\n",
       "  ⋮   │                 ⋮                      ⋮           ⋮         ⋮         ⋱\n",
       " 6123 │ Ifnb1_L2_type4C3_type6C2_2601202…  Cell_CP_9      6241.5    3654.0\n",
       " 6124 │ Ifnb1_L2_type4C3_type6C2_2601202…  Cell_CP_10     8538.0    5482.0     ⋯\n",
       " 6125 │ Ifnb1_L2_type4C3_type6C2_2601202…  Cell_CP_11    10699.5    6319.0\n",
       " 6126 │ Ifnb1_L2_type4C3_type6C2_2601202…  Cell_CP_12     9818.0    6149.0\n",
       " 6127 │ Ifnb1_L2_type4C3_type6C2_2601202…  Cell_CP_13     6340.0    3741.5\n",
       " 6128 │ Ifnb1_L2_type4C3_type6C2_2601202…  Cell_CP_14     5899.5    3464.0     ⋯\n",
       " 6129 │ Ifnb1_L2_type4C3_type6C2_2601202…  Cell_CP_15     6527.5    3687.0\n",
       " 6130 │ Ifnb1_L2_type4C3_type6C2_2601202…  Cell_CP_16     5918.5    3354.5\n",
       " 6131 │ Ifnb1_L2_type4C3_type6C2_2601202…  Cell_CP_17     4402.5    2653.5\n",
       " 6132 │ Ifnb1_L2_type4C3_type6C2_2601202…  Cell_CP_18     4831.0    2979.0     ⋯\n",
       "\u001b[36m                                                43 columns and 6111 rows omitted\u001b[0m"
      ]
     },
     "execution_count": 9,
     "metadata": {},
     "output_type": "execute_result"
    }
   ],
   "source": [
    "folder = \"Ifnb1L2\"\n",
    "folder = \"../../MiniPrograms_smFISH/OrganiseData/\"*folder*\"/\"\n",
    "\n",
    "gene = \"Ifnb1forL2\"\n",
    "e1 = get_data(folder, gene, 1)\n",
    "e2 = get_data(folder, gene, 2)\n",
    "exps = vcat(e1,e2)\n",
    "\n",
    "CSV.write(\"GeneData/\"*gene*\".csv\", exps)\n",
    "gene = \"L2\"\n",
    "\n",
    "e1 = get_data(folder, gene, 1)\n",
    "e2 = get_data(folder, gene, 2)\n",
    "exps = vcat(e1,e2)\n",
    "CSV.write(\"GeneData/\"*gene*\".csv\", exps)\n",
    "\n",
    "e1"
   ]
  },
  {
   "cell_type": "code",
   "execution_count": 10,
   "metadata": {},
   "outputs": [
    {
     "data": {
      "text/plain": [
       "\"GeneData/Ifit1.csv\""
      ]
     },
     "execution_count": 10,
     "metadata": {},
     "output_type": "execute_result"
    }
   ],
   "source": [
    "folder = \"Cxcl10/\"\n",
    "folder = \"../../MiniPrograms_smFISH/OrganiseData/\"*folder*\"/\"\n",
    "\n",
    "gene = \"Cxcl10\"\n",
    "e1 = get_data(folder, gene, 1, addrep = 1)\n",
    "e2 = get_data(folder, gene, 2, addrep = 2)\n",
    "e3 = get_data(folder, gene, 3, addrep = 3)\n",
    "e4 = get_data(folder, gene, 4, addrep = 4)\n",
    "exps = vcat(e1,e2, e3, e4)\n",
    "CSV.write(\"GeneData/\"*gene*\".csv\", exps)\n",
    "\n",
    "folder = \"Ifit1/\"\n",
    "folder = \"../../MiniPrograms_smFISH/OrganiseData/\"*folder*\"/\"\n",
    "\n",
    "gene = \"Ifit1\"\n",
    "e1 = get_data(folder, gene, 1, addrep = 1)\n",
    "e2 = get_data(folder, gene, 2, addrep = 2)\n",
    "e3 = get_data(folder, gene, 3, addrep = 3)\n",
    "\n",
    "exps = vcat(e1,e2, e3)\n",
    "CSV.write(\"GeneData/\"*gene*\".csv\", exps)"
   ]
  },
  {
   "cell_type": "code",
   "execution_count": 11,
   "metadata": {},
   "outputs": [
    {
     "data": {
      "text/plain": [
       "\"GeneData/Fh1.csv\""
      ]
     },
     "execution_count": 11,
     "metadata": {},
     "output_type": "execute_result"
    }
   ],
   "source": [
    "\n",
    "function timepoint(ii)\n",
    "    if occursin(\"U 0\", ii) \n",
    "        return \"0\"\n",
    "    elseif occursin(\"U 1\", ii) \n",
    "        return \"0i\"\n",
    "    elseif occursin(\"U 2\", ii) \n",
    "        return \"8\"\n",
    "    elseif occursin(\"U 3\", ii) \n",
    "        return \"8i\"\n",
    "    else \n",
    "        \"0\"\n",
    "    end\n",
    "end\n",
    "\n",
    "\n",
    "function genotype(ii)\n",
    "    if occursin(\"V 0\", ii) \n",
    "        return \"WT\"\n",
    "    elseif occursin(\"V 1\", ii) \n",
    "        return \"Rad21KO\"\n",
    "    end\n",
    "end\n",
    "\n",
    "\n",
    "function genotype(ii)\n",
    "    if occursin(\"V 0\", ii) \n",
    "        return \"WT\"\n",
    "    elseif occursin(\"V 1\", ii) \n",
    "        return \"Rad21KO\"\n",
    "    end\n",
    "end\n",
    "\n",
    "\n",
    "folder = \"Fh1/\"\n",
    "folder = \"../../MiniPrograms_smFISH/OrganiseData/\"*folder*\"/\"\n",
    "\n",
    "gene = \"Fh1\"\n",
    "e1 = get_data(folder, gene, 1, addrep = 1)\n",
    "e2 = get_data(folder, gene, 2, addrep = 2)\n",
    "e3 = get_data(folder, gene, 3, addrep = 3)\n",
    "e4 = get_data(folder, gene, 4, addrep = 4)\n",
    "exps = vcat(e1,e2, e3, e4)\n",
    "exps[!,:Timepoint] = [timepoint(ii) for ii in exps[!,:Image]]\n",
    "exps[!,:Genotype] = [genotype(ii) for ii in exps[!,:Image]]\n",
    "exps[!,:Sample] = exps[!,:Genotype] .* \"_\" .* exps[!,:Timepoint]\n",
    "CSV.write(\"GeneData/\"*gene*\".csv\", exps)"
   ]
  },
  {
   "cell_type": "code",
   "execution_count": 12,
   "metadata": {},
   "outputs": [
    {
     "data": {
      "text/plain": [
       "\"GeneData/Hprt.csv\""
      ]
     },
     "execution_count": 12,
     "metadata": {},
     "output_type": "execute_result"
    }
   ],
   "source": [
    "folder = \"Hprt/\"\n",
    "folder = \"../../MiniPrograms_smFISH/OrganiseData/\"*folder*\"/\"\n",
    "\n",
    "gene = \"Hprt\"\n",
    "\n",
    "\n",
    "e1 = get_data(folder, gene, 1, addrep = 1)\n",
    "e2 = get_data(folder, gene, 2, addrep = 2)\n",
    "e3 = get_data(folder, gene, 3, addrep = 3)\n",
    "e4 = get_data(folder, gene, 4, addrep = 4)\n",
    "exps = vcat(e1,e2, e3, e4)\n",
    "\n",
    "exps[!,:Timepoint] = [timepoint(ii) for ii in exps[!,:Image]]\n",
    "exps[!,:Genotype] = [genotype(ii) for ii in exps[!,:Image]]\n",
    "exps[!,:Sample] = exps[!,:Genotype] .* \"_\" .* exps[!,:Timepoint]\n",
    "CSV.write(\"GeneData/\"*gene*\".csv\", exps)\n"
   ]
  },
  {
   "cell_type": "code",
   "execution_count": null,
   "metadata": {},
   "outputs": [],
   "source": []
  },
  {
   "cell_type": "code",
   "execution_count": 13,
   "metadata": {},
   "outputs": [
    {
     "data": {
      "text/plain": [
       "\"CompleteSets/L2.csv\""
      ]
     },
     "execution_count": 13,
     "metadata": {},
     "output_type": "execute_result"
    }
   ],
   "source": [
    "\n",
    "\n",
    "colstosave = [ \"Image\",\"Cell\", \"Genotype\", \"Timepoint\", \"Rep\",\"TSS1_r2\", \"TSS2_r2\"]\n",
    "gene = \"Ifnb1_original\"\n",
    "set1 = CSV.read(\"GeneData/\"*gene*\".csv\", DataFrame)\n",
    "gene = \"Ifnb1forL2\"\n",
    "set2 = CSV.read(\"GeneData/\"*gene*\".csv\", DataFrame)\n",
    "\n",
    "add_to_rep = maximum(unique(set1[!,:Rep]))\n",
    "set2[!, :Rep] = set2[!, :Rep] .+ add_to_rep\n",
    "ifnb1 = join_in_all_common_columns(set1, set2)\n",
    "ifnb1 = ifnb1[ifnb1[!,:TSS1_r2].!=\"NA\", :]\n",
    "ifnb1 = ifnb1[ifnb1[!,:TSS2_r2].!=\"NA\", :]\n",
    "CSV.write(\"CompleteSets/Ifnb1.csv\", ifnb1[!, colstosave])\n",
    "\n",
    "\n",
    "gene = \"Il12b_intron_original\"\n",
    "set1 = CSV.read(\"GeneData/\"*gene*\".csv\", DataFrame)\n",
    "\n",
    "\n",
    "gene = \"Il12b_intron\"\n",
    "set2 = CSV.read(\"GeneData/\"*gene*\".csv\", DataFrame)\n",
    "add_to_rep = maximum(unique(set1[!,:Rep]))\n",
    "set2[!, :Rep] = set2[!, :Rep] .+ add_to_rep\n",
    "il12b = join_in_all_common_columns(set1, set2)\n",
    "il12b = il12b[il12b[!,:TSS1_r2].!=\"NA\", :]\n",
    "il12b = il12b[il12b[!,:TSS2_r2].!=\"NA\", :]\n",
    "CSV.write(\"CompleteSets/Il12b.csv\", il12b[!, colstosave])\n",
    "\n",
    "\n",
    "\n",
    "gene = \"Egr2_intron\"\n",
    "egr2 = CSV.read(\"GeneData/\"*gene*\".csv\", DataFrame)\n",
    "CSV.write(\"CompleteSets/Egr2.csv\", egr2[!, colstosave])\n",
    "\n",
    "\n",
    "gene = \"Prdm1_intron\"\n",
    "prdm1 = CSV.read(\"GeneData/\"*gene*\".csv\", DataFrame)\n",
    "CSV.write(\"CompleteSets/Prdm1.csv\", prdm1[!, colstosave])\n",
    "\n",
    "\n",
    "gene = \"Fh1\"\n",
    "fh1 = CSV.read(\"GeneData/\"*gene*\".csv\", DataFrame)\n",
    "CSV.write(\"CompleteSets/Fh1.csv\", fh1[!, colstosave])\n",
    "\n",
    "\n",
    "gene = \"Hprt\"\n",
    "hprt = CSV.read(\"GeneData/\"*gene*\".csv\", DataFrame)\n",
    "CSV.write(\"CompleteSets/Hprt.csv\", hprt[!, colstosave])\n",
    "\n",
    "gene = \"Ifit1\"\n",
    "ifit1 = CSV.read(\"GeneData/\"*gene*\".csv\", DataFrame)\n",
    "CSV.write(\"CompleteSets/Ifit1.csv\", ifit1[!, colstosave])\n",
    "\n",
    "gene = \"Cxcl10\"\n",
    "cxcl10 = CSV.read(\"GeneData/\"*gene*\".csv\", DataFrame)\n",
    "CSV.write(\"CompleteSets/Cxcl10.csv\", cxcl10[!, colstosave])\n",
    "\n",
    "gene = \"Peli1_intron_original\"\n",
    "set1 = CSV.read(\"GeneData/\"*gene*\".csv\", DataFrame)\n",
    "gene = \"Peli1_intron\"\n",
    "set2 = CSV.read(\"GeneData/\"*gene*\".csv\", DataFrame)\n",
    "\n",
    "add_to_rep = maximum(unique(set1[!,:Rep]))\n",
    "set2[!, :Rep] = set2[!, :Rep] .+ add_to_rep\n",
    "peli1 = join_in_all_common_columns(set1, set2)\n",
    "CSV.write(\"CompleteSets/Peli1.csv\", peli1[!, colstosave])\n",
    "\n",
    "gene = \"Sertad2\"\n",
    "set2 = CSV.read(\"GeneData/Sertad2_intron.csv\", DataFrame)\n",
    "sertad = set2\n",
    "CSV.write(\"CompleteSets/Sertad2.csv\", sertad[!, colstosave])\n",
    "\n",
    "\n",
    "\n",
    "gene = \"Egr2_enh\"\n",
    "egr2 = CSV.read(\"GeneData/\"*gene*\".csv\", DataFrame)\n",
    "CSV.write(\"CompleteSets/Egr2_enh.csv\", egr2[!, colstosave])\n",
    "\n",
    "\n",
    "gene = \"Prdm1_enh\"\n",
    "prdm1 = CSV.read(\"GeneData/\"*gene*\".csv\", DataFrame)\n",
    "CSV.write(\"CompleteSets/Prdm1_enh.csv\", prdm1[!, colstosave])\n",
    "\n",
    "\n",
    "gene = \"Enh\"\n",
    "fh1 = CSV.read(\"GeneData/\"*gene*\".csv\", DataFrame)\n",
    "CSV.write(\"CompleteSets/Enh.csv\", fh1[!, colstosave])\n",
    "\n",
    "\n",
    "gene = \"HSS1\"\n",
    "hprt = CSV.read(\"GeneData/\"*gene*\".csv\", DataFrame)\n",
    "CSV.write(\"CompleteSets/HSS1.csv\", hprt[!, colstosave])\n",
    "\n",
    "gene = \"L2\"\n",
    "ifit1 = CSV.read(\"GeneData/\"*gene*\".csv\", DataFrame)\n",
    "CSV.write(\"CompleteSets/L2.csv\", ifit1[!, colstosave])"
   ]
  },
  {
   "cell_type": "code",
   "execution_count": null,
   "metadata": {},
   "outputs": [],
   "source": []
  },
  {
   "cell_type": "code",
   "execution_count": null,
   "metadata": {},
   "outputs": [],
   "source": []
  },
  {
   "cell_type": "code",
   "execution_count": null,
   "metadata": {},
   "outputs": [],
   "source": []
  },
  {
   "cell_type": "code",
   "execution_count": null,
   "metadata": {},
   "outputs": [],
   "source": []
  },
  {
   "cell_type": "code",
   "execution_count": null,
   "metadata": {},
   "outputs": [],
   "source": []
  }
 ],
 "metadata": {
  "kernelspec": {
   "display_name": "Julia 1.6.0",
   "language": "julia",
   "name": "julia-1.6"
  },
  "language_info": {
   "file_extension": ".jl",
   "mimetype": "application/julia",
   "name": "julia",
   "version": "1.6.0"
  }
 },
 "nbformat": 4,
 "nbformat_minor": 2
}
